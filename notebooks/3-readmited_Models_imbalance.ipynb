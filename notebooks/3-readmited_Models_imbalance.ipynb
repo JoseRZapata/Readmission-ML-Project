{
 "cells": [
  {
   "cell_type": "markdown",
   "metadata": {
    "colab_type": "text",
    "id": "Wbepu01LHJoL"
   },
   "source": [
    "# Diabetes Classification - Models\n",
    "[Jose R. Zapata](https://joserzapata.github.io)\n",
    "- https://joserzapata.github.io\n",
    "- https://twitter.com/joserzapata\n",
    "- https://www.linkedin.com/in/jose-ricardo-zapata-gonzalez/       \n"
   ]
  },
  {
   "cell_type": "markdown",
   "metadata": {
    "colab_type": "text",
    "id": "Wa9xYivpD4Eo"
   },
   "source": [
    "## Introduction\n",
    "\n",
    "\n",
    "Analyze factors related to readmission as well as other outcomes pertaining to patients in order to classify a patient-hospital outcome.\n",
    "\n",
    "3 different outputs:\n",
    "\n",
    "1. No readmission\n",
    "\n",
    "2. A readmission in less than `30` days (this situation is not good, because maybe your treatment was not appropriate);\n",
    "\n",
    "3. A readmission in more than 30 days (this one is not so good as well the last one, however, the reason could be the state of the patient.\n",
    "\n",
    "Hospital readmissions can negatively impact cost and patient outcomes.\n",
    "\n",
    "Reported in [Why do patients keep coming back? Results of a Readmitted Patient Survey](https://www.tandfonline.com/doi/abs/10.1080/00981389.2014.966881), the results of a patient survey developed as part of regular hospital quality assurance activities. Two-thirds of patients reported good discharge experiences but were still readmitted. One-third of patients discharged had a post-discharge doctor appointment scheduled; half were readmitted before that scheduled appointment.\n",
    "\n",
    "\n",
    "## Main Objective\n",
    "\n",
    "> **How effective was the treatment received in hospital?** \n",
    "\n",
    "## Principal References\n",
    "\n",
    "### Paper\n",
    "\n",
    "Beata Strack, Jonathan P. DeShazo, Chris Gennings, Juan L. Olmo, Sebastian Ventura, Krzysztof J. Cios, and John N. Clore, “Impact of HbA1c Measurement on Hospital Readmission Rates: Analysis of 70,000 Clinical Database Patient Records,” BioMed Research International, vol. 2014, Article ID 781670, 11 pages, 2014.\n",
    "\n",
    "https://www.hindawi.com/journals/bmri/2014/781670/\n",
    "\n",
    "### Dataset\n",
    "\n",
    "https://archive.ics.uci.edu/ml/datasets/Diabetes+130-US+hospitals+for+years+1999-2008#\n",
    "\n",
    "### Data description\n",
    "\n",
    "https://www.hindawi.com/journals/bmri/2014/781670/tab1/"
   ]
  },
  {
   "cell_type": "markdown",
   "metadata": {
    "colab_type": "text",
    "id": "MjPWhesSHJoO"
   },
   "source": [
    "# Import libraries"
   ]
  },
  {
   "cell_type": "code",
   "execution_count": 1,
   "metadata": {
    "colab": {},
    "colab_type": "code",
    "id": "ksQYJRZTHJoP"
   },
   "outputs": [],
   "source": [
    "import pandas as pd\n",
    "import matplotlib.pyplot as plt\n",
    "\n",
    "from sklearn.model_selection import train_test_split\n",
    "from sklearn import model_selection\n",
    "import plotly.express as px"
   ]
  },
  {
   "cell_type": "markdown",
   "metadata": {
    "colab_type": "text",
    "id": "LM4dC7lBHJoT"
   },
   "source": [
    "# Load Dataset"
   ]
  },
  {
   "cell_type": "code",
   "execution_count": 2,
   "metadata": {
    "colab": {},
    "colab_type": "code",
    "id": "R2C-zrtBHJoT"
   },
   "outputs": [],
   "source": [
    "data = pd.read_csv(\"../data/processed/data_imbalanced.csv\")"
   ]
  },
  {
   "cell_type": "code",
   "execution_count": 3,
   "metadata": {
    "colab": {},
    "colab_type": "code",
    "id": "ZYzna68bHJoW",
    "tags": []
   },
   "outputs": [
    {
     "output_type": "stream",
     "name": "stdout",
     "text": "<class 'pandas.core.frame.DataFrame'>\nRangeIndex: 53214 entries, 0 to 53213\nData columns (total 42 columns):\n #   Column                    Non-Null Count  Dtype \n---  ------                    --------------  ----- \n 0   race                      53214 non-null  object\n 1   age                       53214 non-null  object\n 2   admission_type_id         53214 non-null  int64 \n 3   discharge_disposition_id  53214 non-null  int64 \n 4   admission_source_id       53214 non-null  int64 \n 5   time_in_hospital          53214 non-null  int64 \n 6   medical_specialty         53214 non-null  object\n 7   num_lab_procedures        53214 non-null  int64 \n 8   num_procedures            53214 non-null  int64 \n 9   num_medications           53214 non-null  int64 \n 10  number_outpatient         53214 non-null  int64 \n 11  number_emergency          53214 non-null  int64 \n 12  number_inpatient          53214 non-null  int64 \n 13  diag_1                    53214 non-null  object\n 14  diag_2                    53214 non-null  object\n 15  number_diagnoses          53214 non-null  int64 \n 16  max_glu_serum             53214 non-null  int64 \n 17  A1Cresult                 53214 non-null  int64 \n 18  metformin                 53214 non-null  int64 \n 19  repaglinide               53214 non-null  int64 \n 20  nateglinide               53214 non-null  int64 \n 21  chlorpropamide            53214 non-null  int64 \n 22  glimepiride               53214 non-null  int64 \n 23  acetohexamide             53214 non-null  int64 \n 24  glipizide                 53214 non-null  int64 \n 25  glyburide                 53214 non-null  int64 \n 26  tolbutamide               53214 non-null  int64 \n 27  pioglitazone              53214 non-null  int64 \n 28  rosiglitazone             53214 non-null  int64 \n 29  acarbose                  53214 non-null  int64 \n 30  miglitol                  53214 non-null  int64 \n 31  troglitazone              53214 non-null  int64 \n 32  tolazamide                53214 non-null  int64 \n 33  insulin                   53214 non-null  int64 \n 34  glyburide-metformin       53214 non-null  int64 \n 35  glipizide-metformin       53214 non-null  int64 \n 36  metformin-rosiglitazone   53214 non-null  int64 \n 37  metformin-pioglitazone    53214 non-null  int64 \n 38  change                    53214 non-null  int64 \n 39  diabetesMed               53214 non-null  int64 \n 40  readmitted                53214 non-null  int64 \n 41  numchange                 53214 non-null  int64 \ndtypes: int64(37), object(5)\nmemory usage: 17.1+ MB\n"
    }
   ],
   "source": [
    "data.info()"
   ]
  },
  {
   "source": [
    "## Encode categorical colums"
   ],
   "cell_type": "markdown",
   "metadata": {
    "colab": {},
    "colab_type": "code",
    "id": "DsDqeIPbHJpI"
   }
  },
  {
   "cell_type": "code",
   "execution_count": 4,
   "metadata": {
    "colab": {},
    "colab_type": "code",
    "id": "6cCf27oSHJpB"
   },
   "outputs": [],
   "source": [
    "cat_cols = list(data.select_dtypes('object').columns)\n",
    "class_dict = {}\n",
    "for col in cat_cols:\n",
    "    data = pd.concat([data.drop(col, axis=1), pd.get_dummies(data[col], prefix=col, drop_first=True)], axis=1)"
   ]
  },
  {
   "cell_type": "code",
   "execution_count": 5,
   "metadata": {
    "tags": []
   },
   "outputs": [
    {
     "output_type": "stream",
     "name": "stdout",
     "text": "<class 'pandas.core.frame.DataFrame'>\nRangeIndex: 53214 entries, 0 to 53213\nData columns (total 84 columns):\n #   Column                                             Non-Null Count  Dtype\n---  ------                                             --------------  -----\n 0   admission_type_id                                  53214 non-null  int64\n 1   discharge_disposition_id                           53214 non-null  int64\n 2   admission_source_id                                53214 non-null  int64\n 3   time_in_hospital                                   53214 non-null  int64\n 4   num_lab_procedures                                 53214 non-null  int64\n 5   num_procedures                                     53214 non-null  int64\n 6   num_medications                                    53214 non-null  int64\n 7   number_outpatient                                  53214 non-null  int64\n 8   number_emergency                                   53214 non-null  int64\n 9   number_inpatient                                   53214 non-null  int64\n 10  number_diagnoses                                   53214 non-null  int64\n 11  max_glu_serum                                      53214 non-null  int64\n 12  A1Cresult                                          53214 non-null  int64\n 13  metformin                                          53214 non-null  int64\n 14  repaglinide                                        53214 non-null  int64\n 15  nateglinide                                        53214 non-null  int64\n 16  chlorpropamide                                     53214 non-null  int64\n 17  glimepiride                                        53214 non-null  int64\n 18  acetohexamide                                      53214 non-null  int64\n 19  glipizide                                          53214 non-null  int64\n 20  glyburide                                          53214 non-null  int64\n 21  tolbutamide                                        53214 non-null  int64\n 22  pioglitazone                                       53214 non-null  int64\n 23  rosiglitazone                                      53214 non-null  int64\n 24  acarbose                                           53214 non-null  int64\n 25  miglitol                                           53214 non-null  int64\n 26  troglitazone                                       53214 non-null  int64\n 27  tolazamide                                         53214 non-null  int64\n 28  insulin                                            53214 non-null  int64\n 29  glyburide-metformin                                53214 non-null  int64\n 30  glipizide-metformin                                53214 non-null  int64\n 31  metformin-rosiglitazone                            53214 non-null  int64\n 32  metformin-pioglitazone                             53214 non-null  int64\n 33  change                                             53214 non-null  int64\n 34  diabetesMed                                        53214 non-null  int64\n 35  readmitted                                         53214 non-null  int64\n 36  numchange                                          53214 non-null  int64\n 37  race_Asian                                         53214 non-null  uint8\n 38  race_Caucasian                                     53214 non-null  uint8\n 39  race_Hispanic                                      53214 non-null  uint8\n 40  race_Other                                         53214 non-null  uint8\n 41  age_[10-20)                                        53214 non-null  uint8\n 42  age_[20-30)                                        53214 non-null  uint8\n 43  age_[30-40)                                        53214 non-null  uint8\n 44  age_[40-50)                                        53214 non-null  uint8\n 45  age_[50-60)                                        53214 non-null  uint8\n 46  age_[60-70)                                        53214 non-null  uint8\n 47  age_[70-80)                                        53214 non-null  uint8\n 48  age_[80-90)                                        53214 non-null  uint8\n 49  age_[90-100)                                       53214 non-null  uint8\n 50  medical_specialty_Emergency/Trauma                 53214 non-null  uint8\n 51  medical_specialty_Family/GeneralPractice           53214 non-null  uint8\n 52  medical_specialty_Gastroenterology                 53214 non-null  uint8\n 53  medical_specialty_InternalMedicine                 53214 non-null  uint8\n 54  medical_specialty_Nephrology                       53214 non-null  uint8\n 55  medical_specialty_ObstetricsandGynecology          53214 non-null  uint8\n 56  medical_specialty_Orthopedics                      53214 non-null  uint8\n 57  medical_specialty_Orthopedics-Reconstructive       53214 non-null  uint8\n 58  medical_specialty_Other                            53214 non-null  uint8\n 59  medical_specialty_Psychiatry                       53214 non-null  uint8\n 60  medical_specialty_Pulmonology                      53214 non-null  uint8\n 61  medical_specialty_Radiologist                      53214 non-null  uint8\n 62  medical_specialty_Surgery-Cardiovascular/Thoracic  53214 non-null  uint8\n 63  medical_specialty_Surgery-General                  53214 non-null  uint8\n 64  medical_specialty_Surgery-Neuro                    53214 non-null  uint8\n 65  medical_specialty_Surgery-Vascular                 53214 non-null  uint8\n 66  medical_specialty_Unknow                           53214 non-null  uint8\n 67  medical_specialty_Urology                          53214 non-null  uint8\n 68  diag_1_Diabetes                                    53214 non-null  uint8\n 69  diag_1_Digestive                                   53214 non-null  uint8\n 70  diag_1_Genitourinary                               53214 non-null  uint8\n 71  diag_1_Injury                                      53214 non-null  uint8\n 72  diag_1_Muscoloskeletal                             53214 non-null  uint8\n 73  diag_1_Neoplasms                                   53214 non-null  uint8\n 74  diag_1_Others                                      53214 non-null  uint8\n 75  diag_1_Respiratory                                 53214 non-null  uint8\n 76  diag_2_Diabetes                                    53214 non-null  uint8\n 77  diag_2_Digestive                                   53214 non-null  uint8\n 78  diag_2_Genitourinary                               53214 non-null  uint8\n 79  diag_2_Injury                                      53214 non-null  uint8\n 80  diag_2_Muscoloskeletal                             53214 non-null  uint8\n 81  diag_2_Neoplasms                                   53214 non-null  uint8\n 82  diag_2_Others                                      53214 non-null  uint8\n 83  diag_2_Respiratory                                 53214 non-null  uint8\ndtypes: int64(37), uint8(47)\nmemory usage: 17.4 MB\n"
    }
   ],
   "source": [
    "data.info()"
   ]
  },
  {
   "source": [
    "## Input and output data\n",
    "\n",
    "Get the names of input features and output feature"
   ],
   "cell_type": "markdown",
   "metadata": {}
  },
  {
   "cell_type": "code",
   "execution_count": 6,
   "metadata": {},
   "outputs": [],
   "source": [
    "X = data.drop(\"readmitted\", axis=1)\n",
    "y= data[\"readmitted\"]"
   ]
  },
  {
   "cell_type": "code",
   "execution_count": 7,
   "metadata": {},
   "outputs": [
    {
     "output_type": "execute_result",
     "data": {
      "text/plain": "(53214, 83)"
     },
     "metadata": {},
     "execution_count": 7
    }
   ],
   "source": [
    "X.shape"
   ]
  },
  {
   "cell_type": "code",
   "execution_count": 8,
   "metadata": {},
   "outputs": [
    {
     "output_type": "execute_result",
     "data": {
      "text/plain": "(53214,)"
     },
     "metadata": {},
     "execution_count": 8
    }
   ],
   "source": [
    "y.shape"
   ]
  },
  {
   "cell_type": "markdown",
   "metadata": {},
   "source": [
    "## Split dataset 70/30\n",
    "\n",
    "70% to train the model\n",
    "30% to test the model\n",
    "\n",
    "Split data stratify = y because the dataset is imbalanced"
   ]
  },
  {
   "cell_type": "code",
   "execution_count": 9,
   "metadata": {},
   "outputs": [],
   "source": [
    "\n",
    "X_train, X_test, y_train, y_test = train_test_split(X, y, test_size=.3,random_state =123, stratify=y)"
   ]
  },
  {
   "cell_type": "code",
   "execution_count": 10,
   "metadata": {
    "tags": []
   },
   "outputs": [
    {
     "output_type": "stream",
     "name": "stdout",
     "text": "Percentage of positives in test set=4.046351393673661 , train set=4.0457461945287125\n"
    }
   ],
   "source": [
    "perc_test = y_test.value_counts()[1]*100/len(y_test)\n",
    "perc_train = y_train.value_counts()[1]*100/len(y_train)\n",
    "\n",
    "print(f\" Percentage of positives in test set={perc_test} , train set={perc_train}\")"
   ]
  },
  {
   "cell_type": "markdown",
   "metadata": {},
   "source": [
    "# MODELS\n",
    "\n",
    "## Evaluation Metric\n",
    "\n",
    "The selected evaluation metric is the \n",
    "> **Recall - Sensitivity**\n",
    "\n",
    "A False Negative might delay more tests or treatment, \n",
    "however a False Positive may just lead to more tests or treatments – not as costly as putting a life at stake.\n"
   ]
  },
  {
   "cell_type": "code",
   "execution_count": 11,
   "metadata": {},
   "outputs": [],
   "source": [
    "# Evaluation\n",
    "from sklearn.metrics import accuracy_score\n",
    "from sklearn.metrics import precision_score\n",
    "from sklearn.metrics import recall_score"
   ]
  },
  {
   "source": [
    "Interpretability is important so first intents will be with classic Machine Learning Models, No ensembles, No Neural Networks"
   ],
   "cell_type": "markdown",
   "metadata": {}
  },
  {
   "cell_type": "code",
   "execution_count": 12,
   "metadata": {},
   "outputs": [],
   "source": [
    "# Selected algorithms\n",
    "from sklearn.linear_model import LogisticRegression\n",
    "from sklearn.svm import SVC\n",
    "from sklearn.naive_bayes import GaussianNB\n",
    "from sklearn.tree import DecisionTreeClassifier"
   ]
  },
  {
   "source": [
    "## Model Selection"
   ],
   "cell_type": "markdown",
   "metadata": {}
  },
  {
   "cell_type": "code",
   "execution_count": 13,
   "metadata": {
    "tags": []
   },
   "outputs": [
    {
     "output_type": "stream",
     "name": "stdout",
     "text": "(LR, 0.010619194876535438, 0.0072737053369331325\n(CART, 0.10303744539951269, 0.013921299332986284\n(NB, 0.9378174963868734, 0.008952183865945028\n(SVM, 0.7632039830322477, 0.034325801019205404\n"
    }
   ],
   "source": [
    "seed =2\n",
    "models = []\n",
    "\n",
    "#logistic Regression\n",
    "models.append(('LR', LogisticRegression(solver='liblinear')))\n",
    "\n",
    "# Decision Tree classifier\n",
    "models.append(('CART', DecisionTreeClassifier()))\n",
    "\n",
    "# Naïve Bayes\n",
    "models.append(('NB', GaussianNB()))\n",
    "# SVM\n",
    "models.append(('SVM', SVC(C=1.0, kernel='rbf', max_iter=1000, tol=1e-3)))\n",
    "# evaluate each model in turn\n",
    "results = []\n",
    "names = []\n",
    "scoring = 'recall'\n",
    "for name, model in models:\n",
    "\t# Kfol cross validation for model selection\n",
    "\tkfold = model_selection.KFold(n_splits=10, random_state=seed)\n",
    "\t#X train , y train\n",
    "\tcv_results = model_selection.cross_val_score(model, X_train, y_train, cv=kfold, scoring=scoring)\n",
    "\tresults.append(cv_results)\n",
    "\tnames.append(name)\n",
    "\tmsg = f\"({name}, {cv_results.mean()}, {cv_results.std()}\"\n",
    "\tprint(msg)"
   ]
  },
  {
   "source": [
    "## Results"
   ],
   "cell_type": "markdown",
   "metadata": {}
  },
  {
   "cell_type": "code",
   "execution_count": 14,
   "metadata": {
    "tags": []
   },
   "outputs": [
    {
     "output_type": "display_data",
     "data": {
      "application/vnd.plotly.v1+json": {
       "config": {
        "plotlyServerURL": "https://plotly.com"
       },
       "data": [
        {
         "alignmentgroup": "True",
         "hovertemplate": "variable=%{x}<br>value=%{y}<extra></extra>",
         "legendgroup": "",
         "marker": {
          "color": "#636efa"
         },
         "name": "",
         "notched": false,
         "offsetgroup": "",
         "orientation": "v",
         "showlegend": false,
         "type": "box",
         "x": [
          "LR",
          "LR",
          "LR",
          "LR",
          "LR",
          "LR",
          "LR",
          "LR",
          "LR",
          "LR",
          "CART",
          "CART",
          "CART",
          "CART",
          "CART",
          "CART",
          "CART",
          "CART",
          "CART",
          "CART",
          "NB",
          "NB",
          "NB",
          "NB",
          "NB",
          "NB",
          "NB",
          "NB",
          "NB",
          "NB",
          "SVM",
          "SVM",
          "SVM",
          "SVM",
          "SVM",
          "SVM",
          "SVM",
          "SVM",
          "SVM",
          "SVM"
         ],
         "x0": " ",
         "xaxis": "x",
         "y": [
          0,
          0.006211180124223602,
          0.007042253521126761,
          0.014184397163120567,
          0.007518796992481203,
          0.011695906432748537,
          0.007462686567164179,
          0.019736842105263157,
          0.02631578947368421,
          0.006024096385542169,
          0.11612903225806452,
          0.10559006211180125,
          0.08450704225352113,
          0.0851063829787234,
          0.09022556390977443,
          0.1111111111111111,
          0.1044776119402985,
          0.10526315789473684,
          0.13157894736842105,
          0.0963855421686747,
          0.9483870967741935,
          0.9440993788819876,
          0.9436619718309859,
          0.9290780141843972,
          0.9548872180451128,
          0.935672514619883,
          0.9328358208955224,
          0.9342105263157895,
          0.9276315789473685,
          0.927710843373494,
          0.7548387096774194,
          0.7577639751552795,
          0.795774647887324,
          0.7092198581560284,
          0.7142857142857143,
          0.7602339181286549,
          0.8134328358208955,
          0.8092105263157895,
          0.7763157894736842,
          0.7409638554216867
         ],
         "y0": " ",
         "yaxis": "y"
        }
       ],
       "layout": {
        "boxmode": "group",
        "legend": {
         "tracegroupgap": 0
        },
        "template": {
         "data": {
          "bar": [
           {
            "error_x": {
             "color": "#2a3f5f"
            },
            "error_y": {
             "color": "#2a3f5f"
            },
            "marker": {
             "line": {
              "color": "#E5ECF6",
              "width": 0.5
             }
            },
            "type": "bar"
           }
          ],
          "barpolar": [
           {
            "marker": {
             "line": {
              "color": "#E5ECF6",
              "width": 0.5
             }
            },
            "type": "barpolar"
           }
          ],
          "carpet": [
           {
            "aaxis": {
             "endlinecolor": "#2a3f5f",
             "gridcolor": "white",
             "linecolor": "white",
             "minorgridcolor": "white",
             "startlinecolor": "#2a3f5f"
            },
            "baxis": {
             "endlinecolor": "#2a3f5f",
             "gridcolor": "white",
             "linecolor": "white",
             "minorgridcolor": "white",
             "startlinecolor": "#2a3f5f"
            },
            "type": "carpet"
           }
          ],
          "choropleth": [
           {
            "colorbar": {
             "outlinewidth": 0,
             "ticks": ""
            },
            "type": "choropleth"
           }
          ],
          "contour": [
           {
            "colorbar": {
             "outlinewidth": 0,
             "ticks": ""
            },
            "colorscale": [
             [
              0,
              "#0d0887"
             ],
             [
              0.1111111111111111,
              "#46039f"
             ],
             [
              0.2222222222222222,
              "#7201a8"
             ],
             [
              0.3333333333333333,
              "#9c179e"
             ],
             [
              0.4444444444444444,
              "#bd3786"
             ],
             [
              0.5555555555555556,
              "#d8576b"
             ],
             [
              0.6666666666666666,
              "#ed7953"
             ],
             [
              0.7777777777777778,
              "#fb9f3a"
             ],
             [
              0.8888888888888888,
              "#fdca26"
             ],
             [
              1,
              "#f0f921"
             ]
            ],
            "type": "contour"
           }
          ],
          "contourcarpet": [
           {
            "colorbar": {
             "outlinewidth": 0,
             "ticks": ""
            },
            "type": "contourcarpet"
           }
          ],
          "heatmap": [
           {
            "colorbar": {
             "outlinewidth": 0,
             "ticks": ""
            },
            "colorscale": [
             [
              0,
              "#0d0887"
             ],
             [
              0.1111111111111111,
              "#46039f"
             ],
             [
              0.2222222222222222,
              "#7201a8"
             ],
             [
              0.3333333333333333,
              "#9c179e"
             ],
             [
              0.4444444444444444,
              "#bd3786"
             ],
             [
              0.5555555555555556,
              "#d8576b"
             ],
             [
              0.6666666666666666,
              "#ed7953"
             ],
             [
              0.7777777777777778,
              "#fb9f3a"
             ],
             [
              0.8888888888888888,
              "#fdca26"
             ],
             [
              1,
              "#f0f921"
             ]
            ],
            "type": "heatmap"
           }
          ],
          "heatmapgl": [
           {
            "colorbar": {
             "outlinewidth": 0,
             "ticks": ""
            },
            "colorscale": [
             [
              0,
              "#0d0887"
             ],
             [
              0.1111111111111111,
              "#46039f"
             ],
             [
              0.2222222222222222,
              "#7201a8"
             ],
             [
              0.3333333333333333,
              "#9c179e"
             ],
             [
              0.4444444444444444,
              "#bd3786"
             ],
             [
              0.5555555555555556,
              "#d8576b"
             ],
             [
              0.6666666666666666,
              "#ed7953"
             ],
             [
              0.7777777777777778,
              "#fb9f3a"
             ],
             [
              0.8888888888888888,
              "#fdca26"
             ],
             [
              1,
              "#f0f921"
             ]
            ],
            "type": "heatmapgl"
           }
          ],
          "histogram": [
           {
            "marker": {
             "colorbar": {
              "outlinewidth": 0,
              "ticks": ""
             }
            },
            "type": "histogram"
           }
          ],
          "histogram2d": [
           {
            "colorbar": {
             "outlinewidth": 0,
             "ticks": ""
            },
            "colorscale": [
             [
              0,
              "#0d0887"
             ],
             [
              0.1111111111111111,
              "#46039f"
             ],
             [
              0.2222222222222222,
              "#7201a8"
             ],
             [
              0.3333333333333333,
              "#9c179e"
             ],
             [
              0.4444444444444444,
              "#bd3786"
             ],
             [
              0.5555555555555556,
              "#d8576b"
             ],
             [
              0.6666666666666666,
              "#ed7953"
             ],
             [
              0.7777777777777778,
              "#fb9f3a"
             ],
             [
              0.8888888888888888,
              "#fdca26"
             ],
             [
              1,
              "#f0f921"
             ]
            ],
            "type": "histogram2d"
           }
          ],
          "histogram2dcontour": [
           {
            "colorbar": {
             "outlinewidth": 0,
             "ticks": ""
            },
            "colorscale": [
             [
              0,
              "#0d0887"
             ],
             [
              0.1111111111111111,
              "#46039f"
             ],
             [
              0.2222222222222222,
              "#7201a8"
             ],
             [
              0.3333333333333333,
              "#9c179e"
             ],
             [
              0.4444444444444444,
              "#bd3786"
             ],
             [
              0.5555555555555556,
              "#d8576b"
             ],
             [
              0.6666666666666666,
              "#ed7953"
             ],
             [
              0.7777777777777778,
              "#fb9f3a"
             ],
             [
              0.8888888888888888,
              "#fdca26"
             ],
             [
              1,
              "#f0f921"
             ]
            ],
            "type": "histogram2dcontour"
           }
          ],
          "mesh3d": [
           {
            "colorbar": {
             "outlinewidth": 0,
             "ticks": ""
            },
            "type": "mesh3d"
           }
          ],
          "parcoords": [
           {
            "line": {
             "colorbar": {
              "outlinewidth": 0,
              "ticks": ""
             }
            },
            "type": "parcoords"
           }
          ],
          "pie": [
           {
            "automargin": true,
            "type": "pie"
           }
          ],
          "scatter": [
           {
            "marker": {
             "colorbar": {
              "outlinewidth": 0,
              "ticks": ""
             }
            },
            "type": "scatter"
           }
          ],
          "scatter3d": [
           {
            "line": {
             "colorbar": {
              "outlinewidth": 0,
              "ticks": ""
             }
            },
            "marker": {
             "colorbar": {
              "outlinewidth": 0,
              "ticks": ""
             }
            },
            "type": "scatter3d"
           }
          ],
          "scattercarpet": [
           {
            "marker": {
             "colorbar": {
              "outlinewidth": 0,
              "ticks": ""
             }
            },
            "type": "scattercarpet"
           }
          ],
          "scattergeo": [
           {
            "marker": {
             "colorbar": {
              "outlinewidth": 0,
              "ticks": ""
             }
            },
            "type": "scattergeo"
           }
          ],
          "scattergl": [
           {
            "marker": {
             "colorbar": {
              "outlinewidth": 0,
              "ticks": ""
             }
            },
            "type": "scattergl"
           }
          ],
          "scattermapbox": [
           {
            "marker": {
             "colorbar": {
              "outlinewidth": 0,
              "ticks": ""
             }
            },
            "type": "scattermapbox"
           }
          ],
          "scatterpolar": [
           {
            "marker": {
             "colorbar": {
              "outlinewidth": 0,
              "ticks": ""
             }
            },
            "type": "scatterpolar"
           }
          ],
          "scatterpolargl": [
           {
            "marker": {
             "colorbar": {
              "outlinewidth": 0,
              "ticks": ""
             }
            },
            "type": "scatterpolargl"
           }
          ],
          "scatterternary": [
           {
            "marker": {
             "colorbar": {
              "outlinewidth": 0,
              "ticks": ""
             }
            },
            "type": "scatterternary"
           }
          ],
          "surface": [
           {
            "colorbar": {
             "outlinewidth": 0,
             "ticks": ""
            },
            "colorscale": [
             [
              0,
              "#0d0887"
             ],
             [
              0.1111111111111111,
              "#46039f"
             ],
             [
              0.2222222222222222,
              "#7201a8"
             ],
             [
              0.3333333333333333,
              "#9c179e"
             ],
             [
              0.4444444444444444,
              "#bd3786"
             ],
             [
              0.5555555555555556,
              "#d8576b"
             ],
             [
              0.6666666666666666,
              "#ed7953"
             ],
             [
              0.7777777777777778,
              "#fb9f3a"
             ],
             [
              0.8888888888888888,
              "#fdca26"
             ],
             [
              1,
              "#f0f921"
             ]
            ],
            "type": "surface"
           }
          ],
          "table": [
           {
            "cells": {
             "fill": {
              "color": "#EBF0F8"
             },
             "line": {
              "color": "white"
             }
            },
            "header": {
             "fill": {
              "color": "#C8D4E3"
             },
             "line": {
              "color": "white"
             }
            },
            "type": "table"
           }
          ]
         },
         "layout": {
          "annotationdefaults": {
           "arrowcolor": "#2a3f5f",
           "arrowhead": 0,
           "arrowwidth": 1
          },
          "coloraxis": {
           "colorbar": {
            "outlinewidth": 0,
            "ticks": ""
           }
          },
          "colorscale": {
           "diverging": [
            [
             0,
             "#8e0152"
            ],
            [
             0.1,
             "#c51b7d"
            ],
            [
             0.2,
             "#de77ae"
            ],
            [
             0.3,
             "#f1b6da"
            ],
            [
             0.4,
             "#fde0ef"
            ],
            [
             0.5,
             "#f7f7f7"
            ],
            [
             0.6,
             "#e6f5d0"
            ],
            [
             0.7,
             "#b8e186"
            ],
            [
             0.8,
             "#7fbc41"
            ],
            [
             0.9,
             "#4d9221"
            ],
            [
             1,
             "#276419"
            ]
           ],
           "sequential": [
            [
             0,
             "#0d0887"
            ],
            [
             0.1111111111111111,
             "#46039f"
            ],
            [
             0.2222222222222222,
             "#7201a8"
            ],
            [
             0.3333333333333333,
             "#9c179e"
            ],
            [
             0.4444444444444444,
             "#bd3786"
            ],
            [
             0.5555555555555556,
             "#d8576b"
            ],
            [
             0.6666666666666666,
             "#ed7953"
            ],
            [
             0.7777777777777778,
             "#fb9f3a"
            ],
            [
             0.8888888888888888,
             "#fdca26"
            ],
            [
             1,
             "#f0f921"
            ]
           ],
           "sequentialminus": [
            [
             0,
             "#0d0887"
            ],
            [
             0.1111111111111111,
             "#46039f"
            ],
            [
             0.2222222222222222,
             "#7201a8"
            ],
            [
             0.3333333333333333,
             "#9c179e"
            ],
            [
             0.4444444444444444,
             "#bd3786"
            ],
            [
             0.5555555555555556,
             "#d8576b"
            ],
            [
             0.6666666666666666,
             "#ed7953"
            ],
            [
             0.7777777777777778,
             "#fb9f3a"
            ],
            [
             0.8888888888888888,
             "#fdca26"
            ],
            [
             1,
             "#f0f921"
            ]
           ]
          },
          "colorway": [
           "#636efa",
           "#EF553B",
           "#00cc96",
           "#ab63fa",
           "#FFA15A",
           "#19d3f3",
           "#FF6692",
           "#B6E880",
           "#FF97FF",
           "#FECB52"
          ],
          "font": {
           "color": "#2a3f5f"
          },
          "geo": {
           "bgcolor": "white",
           "lakecolor": "white",
           "landcolor": "#E5ECF6",
           "showlakes": true,
           "showland": true,
           "subunitcolor": "white"
          },
          "hoverlabel": {
           "align": "left"
          },
          "hovermode": "closest",
          "mapbox": {
           "style": "light"
          },
          "paper_bgcolor": "white",
          "plot_bgcolor": "#E5ECF6",
          "polar": {
           "angularaxis": {
            "gridcolor": "white",
            "linecolor": "white",
            "ticks": ""
           },
           "bgcolor": "#E5ECF6",
           "radialaxis": {
            "gridcolor": "white",
            "linecolor": "white",
            "ticks": ""
           }
          },
          "scene": {
           "xaxis": {
            "backgroundcolor": "#E5ECF6",
            "gridcolor": "white",
            "gridwidth": 2,
            "linecolor": "white",
            "showbackground": true,
            "ticks": "",
            "zerolinecolor": "white"
           },
           "yaxis": {
            "backgroundcolor": "#E5ECF6",
            "gridcolor": "white",
            "gridwidth": 2,
            "linecolor": "white",
            "showbackground": true,
            "ticks": "",
            "zerolinecolor": "white"
           },
           "zaxis": {
            "backgroundcolor": "#E5ECF6",
            "gridcolor": "white",
            "gridwidth": 2,
            "linecolor": "white",
            "showbackground": true,
            "ticks": "",
            "zerolinecolor": "white"
           }
          },
          "shapedefaults": {
           "line": {
            "color": "#2a3f5f"
           }
          },
          "ternary": {
           "aaxis": {
            "gridcolor": "white",
            "linecolor": "white",
            "ticks": ""
           },
           "baxis": {
            "gridcolor": "white",
            "linecolor": "white",
            "ticks": ""
           },
           "bgcolor": "#E5ECF6",
           "caxis": {
            "gridcolor": "white",
            "linecolor": "white",
            "ticks": ""
           }
          },
          "title": {
           "x": 0.05
          },
          "xaxis": {
           "automargin": true,
           "gridcolor": "white",
           "linecolor": "white",
           "ticks": "",
           "title": {
            "standoff": 15
           },
           "zerolinecolor": "white",
           "zerolinewidth": 2
          },
          "yaxis": {
           "automargin": true,
           "gridcolor": "white",
           "linecolor": "white",
           "ticks": "",
           "title": {
            "standoff": 15
           },
           "zerolinecolor": "white",
           "zerolinewidth": 2
          }
         }
        },
        "title": {
         "text": "Algorithm Comparison"
        },
        "xaxis": {
         "anchor": "y",
         "domain": [
          0,
          1
         ],
         "title": {
          "text": "variable"
         }
        },
        "yaxis": {
         "anchor": "x",
         "domain": [
          0,
          1
         ],
         "title": {
          "text": "value"
         }
        }
       }
      }
     },
     "metadata": {}
    }
   ],
   "source": [
    "result_df = pd.DataFrame(results, index=names).T\n",
    "px.box(result_df,title = 'Algorithm Comparison')"
   ]
  },
  {
   "source": [
    "Test if results gest better results transforming the variables using standard scaler\n"
   ],
   "cell_type": "markdown",
   "metadata": {}
  },
  {
   "cell_type": "code",
   "execution_count": 15,
   "metadata": {},
   "outputs": [],
   "source": [
    "from sklearn.pipeline import make_pipeline\n",
    "from sklearn.preprocessing import StandardScaler"
   ]
  },
  {
   "cell_type": "code",
   "execution_count": 16,
   "metadata": {},
   "outputs": [],
   "source": [
    "# Naïve Bayes with standardscaler\n",
    "NB_pipeline = make_pipeline( StandardScaler(), GaussianNB())\n",
    "models.append(('NB_pipeline', NB_pipeline))"
   ]
  },
  {
   "cell_type": "code",
   "execution_count": null,
   "metadata": {},
   "outputs": [],
   "source": []
  },
  {
   "cell_type": "code",
   "execution_count": 17,
   "metadata": {
    "tags": []
   },
   "outputs": [
    {
     "output_type": "stream",
     "name": "stdout",
     "text": "(NB_pipeline, 0.9838766447895948, 0.010196747074416255\n"
    }
   ],
   "source": [
    "scoring = 'recall'\n",
    "name, model\n",
    "# Kfol cross validation for model selection\n",
    "kfold = model_selection.KFold(n_splits=10, random_state=seed)\n",
    "#X train , y train\n",
    "cv_results = model_selection.cross_val_score(NB_pipeline, X_train, y_train, cv=kfold, scoring=scoring)\n",
    "results.append(cv_results)\n",
    "names.append('NB_pipeline')\n",
    "msg = f\"({'NB_pipeline'}, {cv_results.mean()}, {cv_results.std()}\"\n",
    "print(msg)"
   ]
  },
  {
   "cell_type": "code",
   "execution_count": 18,
   "metadata": {},
   "outputs": [
    {
     "output_type": "display_data",
     "data": {
      "application/vnd.plotly.v1+json": {
       "config": {
        "plotlyServerURL": "https://plotly.com"
       },
       "data": [
        {
         "alignmentgroup": "True",
         "hovertemplate": "variable=%{x}<br>value=%{y}<extra></extra>",
         "legendgroup": "",
         "marker": {
          "color": "#636efa"
         },
         "name": "",
         "notched": false,
         "offsetgroup": "",
         "orientation": "v",
         "showlegend": false,
         "type": "box",
         "x": [
          "LR",
          "LR",
          "LR",
          "LR",
          "LR",
          "LR",
          "LR",
          "LR",
          "LR",
          "LR",
          "CART",
          "CART",
          "CART",
          "CART",
          "CART",
          "CART",
          "CART",
          "CART",
          "CART",
          "CART",
          "NB",
          "NB",
          "NB",
          "NB",
          "NB",
          "NB",
          "NB",
          "NB",
          "NB",
          "NB",
          "SVM",
          "SVM",
          "SVM",
          "SVM",
          "SVM",
          "SVM",
          "SVM",
          "SVM",
          "SVM",
          "SVM",
          "NB_pipeline",
          "NB_pipeline",
          "NB_pipeline",
          "NB_pipeline",
          "NB_pipeline",
          "NB_pipeline",
          "NB_pipeline",
          "NB_pipeline",
          "NB_pipeline",
          "NB_pipeline"
         ],
         "x0": " ",
         "xaxis": "x",
         "y": [
          0,
          0.006211180124223602,
          0.007042253521126761,
          0.014184397163120567,
          0.007518796992481203,
          0.011695906432748537,
          0.007462686567164179,
          0.019736842105263157,
          0.02631578947368421,
          0.006024096385542169,
          0.11612903225806452,
          0.10559006211180125,
          0.08450704225352113,
          0.0851063829787234,
          0.09022556390977443,
          0.1111111111111111,
          0.1044776119402985,
          0.10526315789473684,
          0.13157894736842105,
          0.0963855421686747,
          0.9483870967741935,
          0.9440993788819876,
          0.9436619718309859,
          0.9290780141843972,
          0.9548872180451128,
          0.935672514619883,
          0.9328358208955224,
          0.9342105263157895,
          0.9276315789473685,
          0.927710843373494,
          0.7548387096774194,
          0.7577639751552795,
          0.795774647887324,
          0.7092198581560284,
          0.7142857142857143,
          0.7602339181286549,
          0.8134328358208955,
          0.8092105263157895,
          0.7763157894736842,
          0.7409638554216867,
          0.9935483870967742,
          0.9875776397515528,
          0.9929577464788732,
          0.9645390070921985,
          0.9924812030075187,
          0.9824561403508771,
          0.9701492537313433,
          0.9736842105263158,
          0.993421052631579,
          0.9879518072289156
         ],
         "y0": " ",
         "yaxis": "y"
        }
       ],
       "layout": {
        "boxmode": "group",
        "legend": {
         "tracegroupgap": 0
        },
        "template": {
         "data": {
          "bar": [
           {
            "error_x": {
             "color": "#2a3f5f"
            },
            "error_y": {
             "color": "#2a3f5f"
            },
            "marker": {
             "line": {
              "color": "#E5ECF6",
              "width": 0.5
             }
            },
            "type": "bar"
           }
          ],
          "barpolar": [
           {
            "marker": {
             "line": {
              "color": "#E5ECF6",
              "width": 0.5
             }
            },
            "type": "barpolar"
           }
          ],
          "carpet": [
           {
            "aaxis": {
             "endlinecolor": "#2a3f5f",
             "gridcolor": "white",
             "linecolor": "white",
             "minorgridcolor": "white",
             "startlinecolor": "#2a3f5f"
            },
            "baxis": {
             "endlinecolor": "#2a3f5f",
             "gridcolor": "white",
             "linecolor": "white",
             "minorgridcolor": "white",
             "startlinecolor": "#2a3f5f"
            },
            "type": "carpet"
           }
          ],
          "choropleth": [
           {
            "colorbar": {
             "outlinewidth": 0,
             "ticks": ""
            },
            "type": "choropleth"
           }
          ],
          "contour": [
           {
            "colorbar": {
             "outlinewidth": 0,
             "ticks": ""
            },
            "colorscale": [
             [
              0,
              "#0d0887"
             ],
             [
              0.1111111111111111,
              "#46039f"
             ],
             [
              0.2222222222222222,
              "#7201a8"
             ],
             [
              0.3333333333333333,
              "#9c179e"
             ],
             [
              0.4444444444444444,
              "#bd3786"
             ],
             [
              0.5555555555555556,
              "#d8576b"
             ],
             [
              0.6666666666666666,
              "#ed7953"
             ],
             [
              0.7777777777777778,
              "#fb9f3a"
             ],
             [
              0.8888888888888888,
              "#fdca26"
             ],
             [
              1,
              "#f0f921"
             ]
            ],
            "type": "contour"
           }
          ],
          "contourcarpet": [
           {
            "colorbar": {
             "outlinewidth": 0,
             "ticks": ""
            },
            "type": "contourcarpet"
           }
          ],
          "heatmap": [
           {
            "colorbar": {
             "outlinewidth": 0,
             "ticks": ""
            },
            "colorscale": [
             [
              0,
              "#0d0887"
             ],
             [
              0.1111111111111111,
              "#46039f"
             ],
             [
              0.2222222222222222,
              "#7201a8"
             ],
             [
              0.3333333333333333,
              "#9c179e"
             ],
             [
              0.4444444444444444,
              "#bd3786"
             ],
             [
              0.5555555555555556,
              "#d8576b"
             ],
             [
              0.6666666666666666,
              "#ed7953"
             ],
             [
              0.7777777777777778,
              "#fb9f3a"
             ],
             [
              0.8888888888888888,
              "#fdca26"
             ],
             [
              1,
              "#f0f921"
             ]
            ],
            "type": "heatmap"
           }
          ],
          "heatmapgl": [
           {
            "colorbar": {
             "outlinewidth": 0,
             "ticks": ""
            },
            "colorscale": [
             [
              0,
              "#0d0887"
             ],
             [
              0.1111111111111111,
              "#46039f"
             ],
             [
              0.2222222222222222,
              "#7201a8"
             ],
             [
              0.3333333333333333,
              "#9c179e"
             ],
             [
              0.4444444444444444,
              "#bd3786"
             ],
             [
              0.5555555555555556,
              "#d8576b"
             ],
             [
              0.6666666666666666,
              "#ed7953"
             ],
             [
              0.7777777777777778,
              "#fb9f3a"
             ],
             [
              0.8888888888888888,
              "#fdca26"
             ],
             [
              1,
              "#f0f921"
             ]
            ],
            "type": "heatmapgl"
           }
          ],
          "histogram": [
           {
            "marker": {
             "colorbar": {
              "outlinewidth": 0,
              "ticks": ""
             }
            },
            "type": "histogram"
           }
          ],
          "histogram2d": [
           {
            "colorbar": {
             "outlinewidth": 0,
             "ticks": ""
            },
            "colorscale": [
             [
              0,
              "#0d0887"
             ],
             [
              0.1111111111111111,
              "#46039f"
             ],
             [
              0.2222222222222222,
              "#7201a8"
             ],
             [
              0.3333333333333333,
              "#9c179e"
             ],
             [
              0.4444444444444444,
              "#bd3786"
             ],
             [
              0.5555555555555556,
              "#d8576b"
             ],
             [
              0.6666666666666666,
              "#ed7953"
             ],
             [
              0.7777777777777778,
              "#fb9f3a"
             ],
             [
              0.8888888888888888,
              "#fdca26"
             ],
             [
              1,
              "#f0f921"
             ]
            ],
            "type": "histogram2d"
           }
          ],
          "histogram2dcontour": [
           {
            "colorbar": {
             "outlinewidth": 0,
             "ticks": ""
            },
            "colorscale": [
             [
              0,
              "#0d0887"
             ],
             [
              0.1111111111111111,
              "#46039f"
             ],
             [
              0.2222222222222222,
              "#7201a8"
             ],
             [
              0.3333333333333333,
              "#9c179e"
             ],
             [
              0.4444444444444444,
              "#bd3786"
             ],
             [
              0.5555555555555556,
              "#d8576b"
             ],
             [
              0.6666666666666666,
              "#ed7953"
             ],
             [
              0.7777777777777778,
              "#fb9f3a"
             ],
             [
              0.8888888888888888,
              "#fdca26"
             ],
             [
              1,
              "#f0f921"
             ]
            ],
            "type": "histogram2dcontour"
           }
          ],
          "mesh3d": [
           {
            "colorbar": {
             "outlinewidth": 0,
             "ticks": ""
            },
            "type": "mesh3d"
           }
          ],
          "parcoords": [
           {
            "line": {
             "colorbar": {
              "outlinewidth": 0,
              "ticks": ""
             }
            },
            "type": "parcoords"
           }
          ],
          "pie": [
           {
            "automargin": true,
            "type": "pie"
           }
          ],
          "scatter": [
           {
            "marker": {
             "colorbar": {
              "outlinewidth": 0,
              "ticks": ""
             }
            },
            "type": "scatter"
           }
          ],
          "scatter3d": [
           {
            "line": {
             "colorbar": {
              "outlinewidth": 0,
              "ticks": ""
             }
            },
            "marker": {
             "colorbar": {
              "outlinewidth": 0,
              "ticks": ""
             }
            },
            "type": "scatter3d"
           }
          ],
          "scattercarpet": [
           {
            "marker": {
             "colorbar": {
              "outlinewidth": 0,
              "ticks": ""
             }
            },
            "type": "scattercarpet"
           }
          ],
          "scattergeo": [
           {
            "marker": {
             "colorbar": {
              "outlinewidth": 0,
              "ticks": ""
             }
            },
            "type": "scattergeo"
           }
          ],
          "scattergl": [
           {
            "marker": {
             "colorbar": {
              "outlinewidth": 0,
              "ticks": ""
             }
            },
            "type": "scattergl"
           }
          ],
          "scattermapbox": [
           {
            "marker": {
             "colorbar": {
              "outlinewidth": 0,
              "ticks": ""
             }
            },
            "type": "scattermapbox"
           }
          ],
          "scatterpolar": [
           {
            "marker": {
             "colorbar": {
              "outlinewidth": 0,
              "ticks": ""
             }
            },
            "type": "scatterpolar"
           }
          ],
          "scatterpolargl": [
           {
            "marker": {
             "colorbar": {
              "outlinewidth": 0,
              "ticks": ""
             }
            },
            "type": "scatterpolargl"
           }
          ],
          "scatterternary": [
           {
            "marker": {
             "colorbar": {
              "outlinewidth": 0,
              "ticks": ""
             }
            },
            "type": "scatterternary"
           }
          ],
          "surface": [
           {
            "colorbar": {
             "outlinewidth": 0,
             "ticks": ""
            },
            "colorscale": [
             [
              0,
              "#0d0887"
             ],
             [
              0.1111111111111111,
              "#46039f"
             ],
             [
              0.2222222222222222,
              "#7201a8"
             ],
             [
              0.3333333333333333,
              "#9c179e"
             ],
             [
              0.4444444444444444,
              "#bd3786"
             ],
             [
              0.5555555555555556,
              "#d8576b"
             ],
             [
              0.6666666666666666,
              "#ed7953"
             ],
             [
              0.7777777777777778,
              "#fb9f3a"
             ],
             [
              0.8888888888888888,
              "#fdca26"
             ],
             [
              1,
              "#f0f921"
             ]
            ],
            "type": "surface"
           }
          ],
          "table": [
           {
            "cells": {
             "fill": {
              "color": "#EBF0F8"
             },
             "line": {
              "color": "white"
             }
            },
            "header": {
             "fill": {
              "color": "#C8D4E3"
             },
             "line": {
              "color": "white"
             }
            },
            "type": "table"
           }
          ]
         },
         "layout": {
          "annotationdefaults": {
           "arrowcolor": "#2a3f5f",
           "arrowhead": 0,
           "arrowwidth": 1
          },
          "coloraxis": {
           "colorbar": {
            "outlinewidth": 0,
            "ticks": ""
           }
          },
          "colorscale": {
           "diverging": [
            [
             0,
             "#8e0152"
            ],
            [
             0.1,
             "#c51b7d"
            ],
            [
             0.2,
             "#de77ae"
            ],
            [
             0.3,
             "#f1b6da"
            ],
            [
             0.4,
             "#fde0ef"
            ],
            [
             0.5,
             "#f7f7f7"
            ],
            [
             0.6,
             "#e6f5d0"
            ],
            [
             0.7,
             "#b8e186"
            ],
            [
             0.8,
             "#7fbc41"
            ],
            [
             0.9,
             "#4d9221"
            ],
            [
             1,
             "#276419"
            ]
           ],
           "sequential": [
            [
             0,
             "#0d0887"
            ],
            [
             0.1111111111111111,
             "#46039f"
            ],
            [
             0.2222222222222222,
             "#7201a8"
            ],
            [
             0.3333333333333333,
             "#9c179e"
            ],
            [
             0.4444444444444444,
             "#bd3786"
            ],
            [
             0.5555555555555556,
             "#d8576b"
            ],
            [
             0.6666666666666666,
             "#ed7953"
            ],
            [
             0.7777777777777778,
             "#fb9f3a"
            ],
            [
             0.8888888888888888,
             "#fdca26"
            ],
            [
             1,
             "#f0f921"
            ]
           ],
           "sequentialminus": [
            [
             0,
             "#0d0887"
            ],
            [
             0.1111111111111111,
             "#46039f"
            ],
            [
             0.2222222222222222,
             "#7201a8"
            ],
            [
             0.3333333333333333,
             "#9c179e"
            ],
            [
             0.4444444444444444,
             "#bd3786"
            ],
            [
             0.5555555555555556,
             "#d8576b"
            ],
            [
             0.6666666666666666,
             "#ed7953"
            ],
            [
             0.7777777777777778,
             "#fb9f3a"
            ],
            [
             0.8888888888888888,
             "#fdca26"
            ],
            [
             1,
             "#f0f921"
            ]
           ]
          },
          "colorway": [
           "#636efa",
           "#EF553B",
           "#00cc96",
           "#ab63fa",
           "#FFA15A",
           "#19d3f3",
           "#FF6692",
           "#B6E880",
           "#FF97FF",
           "#FECB52"
          ],
          "font": {
           "color": "#2a3f5f"
          },
          "geo": {
           "bgcolor": "white",
           "lakecolor": "white",
           "landcolor": "#E5ECF6",
           "showlakes": true,
           "showland": true,
           "subunitcolor": "white"
          },
          "hoverlabel": {
           "align": "left"
          },
          "hovermode": "closest",
          "mapbox": {
           "style": "light"
          },
          "paper_bgcolor": "white",
          "plot_bgcolor": "#E5ECF6",
          "polar": {
           "angularaxis": {
            "gridcolor": "white",
            "linecolor": "white",
            "ticks": ""
           },
           "bgcolor": "#E5ECF6",
           "radialaxis": {
            "gridcolor": "white",
            "linecolor": "white",
            "ticks": ""
           }
          },
          "scene": {
           "xaxis": {
            "backgroundcolor": "#E5ECF6",
            "gridcolor": "white",
            "gridwidth": 2,
            "linecolor": "white",
            "showbackground": true,
            "ticks": "",
            "zerolinecolor": "white"
           },
           "yaxis": {
            "backgroundcolor": "#E5ECF6",
            "gridcolor": "white",
            "gridwidth": 2,
            "linecolor": "white",
            "showbackground": true,
            "ticks": "",
            "zerolinecolor": "white"
           },
           "zaxis": {
            "backgroundcolor": "#E5ECF6",
            "gridcolor": "white",
            "gridwidth": 2,
            "linecolor": "white",
            "showbackground": true,
            "ticks": "",
            "zerolinecolor": "white"
           }
          },
          "shapedefaults": {
           "line": {
            "color": "#2a3f5f"
           }
          },
          "ternary": {
           "aaxis": {
            "gridcolor": "white",
            "linecolor": "white",
            "ticks": ""
           },
           "baxis": {
            "gridcolor": "white",
            "linecolor": "white",
            "ticks": ""
           },
           "bgcolor": "#E5ECF6",
           "caxis": {
            "gridcolor": "white",
            "linecolor": "white",
            "ticks": ""
           }
          },
          "title": {
           "x": 0.05
          },
          "xaxis": {
           "automargin": true,
           "gridcolor": "white",
           "linecolor": "white",
           "ticks": "",
           "title": {
            "standoff": 15
           },
           "zerolinecolor": "white",
           "zerolinewidth": 2
          },
          "yaxis": {
           "automargin": true,
           "gridcolor": "white",
           "linecolor": "white",
           "ticks": "",
           "title": {
            "standoff": 15
           },
           "zerolinecolor": "white",
           "zerolinewidth": 2
          }
         }
        },
        "title": {
         "text": "Algorithm Comparison"
        },
        "xaxis": {
         "anchor": "y",
         "domain": [
          0,
          1
         ],
         "title": {
          "text": "variable"
         }
        },
        "yaxis": {
         "anchor": "x",
         "domain": [
          0,
          1
         ],
         "title": {
          "text": "value"
         }
        }
       }
      }
     },
     "metadata": {}
    }
   ],
   "source": [
    "result_df = pd.DataFrame(results, index=names).T\n",
    "px.box(result_df,title = 'Algorithm Comparison')"
   ]
  },
  {
   "cell_type": "markdown",
   "metadata": {},
   "source": [
    "# Hyper Parameter optimization\n"
   ]
  },
  {
   "source": [
    "Check if GaussianNB get better results knowing the prior distribution of the classes"
   ],
   "cell_type": "markdown",
   "metadata": {}
  },
  {
   "cell_type": "code",
   "execution_count": 19,
   "metadata": {},
   "outputs": [],
   "source": [
    "from sklearn.model_selection import GridSearchCV"
   ]
  },
  {
   "cell_type": "code",
   "execution_count": 20,
   "metadata": {},
   "outputs": [
    {
     "output_type": "execute_result",
     "data": {
      "text/plain": "0    0.959541\n1    0.040459\nName: readmitted, dtype: float64"
     },
     "metadata": {},
     "execution_count": 20
    }
   ],
   "source": [
    "#priors calculation\n",
    "y.value_counts()/len(y)"
   ]
  },
  {
   "cell_type": "code",
   "execution_count": 21,
   "metadata": {},
   "outputs": [],
   "source": [
    "a,b = y.value_counts()/len(y)"
   ]
  },
  {
   "cell_type": "code",
   "execution_count": 22,
   "metadata": {},
   "outputs": [
    {
     "output_type": "execute_result",
     "data": {
      "text/plain": "{'priors': None}"
     },
     "metadata": {},
     "execution_count": 22
    }
   ],
   "source": [
    "parameters = {'priors': [None, [a,b]]}\n",
    "\n",
    "grid_search = GridSearchCV(GaussianNB(), parameters, cv=10, return_train_score=True)\n",
    "grid_search.fit(X_train, y_train)\n",
    "\n",
    "grid_search.best_params_"
   ]
  },
  {
   "source": [
    "the prior statistical information computed by the model is very similar to the one calculated by hand using the whole dataset information"
   ],
   "cell_type": "markdown",
   "metadata": {}
  },
  {
   "cell_type": "markdown",
   "metadata": {},
   "source": [
    "# Final evaluation Test set"
   ]
  },
  {
   "cell_type": "code",
   "execution_count": 23,
   "metadata": {},
   "outputs": [],
   "source": [
    "from sklearn.metrics import plot_confusion_matrix\n",
    "from sklearn.metrics import classification_report\n",
    "from sklearn.metrics import confusion_matrix\n",
    "from sklearn.metrics import plot_precision_recall_curve"
   ]
  },
  {
   "source": [
    "## Naïve Bayes"
   ],
   "cell_type": "markdown",
   "metadata": {}
  },
  {
   "cell_type": "code",
   "execution_count": 24,
   "metadata": {},
   "outputs": [],
   "source": [
    "NB = GaussianNB()\n",
    "NB.fit(X_train,y_train)\n",
    "y_pred = NB.predict(X_test)"
   ]
  },
  {
   "cell_type": "code",
   "execution_count": 25,
   "metadata": {
    "tags": []
   },
   "outputs": [
    {
     "output_type": "stream",
     "name": "stdout",
     "text": "precision    recall  f1-score   support\n\n           0       0.98      0.14      0.24     15319\n           1       0.04      0.93      0.08       646\n\n    accuracy                           0.17     15965\n   macro avg       0.51      0.53      0.16     15965\nweighted avg       0.94      0.17      0.23     15965\n\n"
    }
   ],
   "source": [
    "print(classification_report(y_test, y_pred))"
   ]
  },
  {
   "cell_type": "code",
   "execution_count": 26,
   "metadata": {},
   "outputs": [
    {
     "output_type": "display_data",
     "data": {
      "text/plain": "<Figure size 432x288 with 2 Axes>",
      "image/svg+xml": "<?xml version=\"1.0\" encoding=\"utf-8\" standalone=\"no\"?>\n<!DOCTYPE svg PUBLIC \"-//W3C//DTD SVG 1.1//EN\"\n  \"http://www.w3.org/Graphics/SVG/1.1/DTD/svg11.dtd\">\n<!-- Created with matplotlib (https://matplotlib.org/) -->\n<svg height=\"262.19625pt\" version=\"1.1\" viewBox=\"0 0 325.305125 262.19625\" width=\"325.305125pt\" xmlns=\"http://www.w3.org/2000/svg\" xmlns:xlink=\"http://www.w3.org/1999/xlink\">\n <defs>\n  <style type=\"text/css\">\n*{stroke-linecap:butt;stroke-linejoin:round;}\n  </style>\n </defs>\n <g id=\"figure_1\">\n  <g id=\"patch_1\">\n   <path d=\"M 0 262.19625 \nL 325.305125 262.19625 \nL 325.305125 0 \nL 0 0 \nz\n\" style=\"fill:none;\"/>\n  </g>\n  <g id=\"axes_1\">\n   <g id=\"patch_2\">\n    <path d=\"M 34.240625 224.64 \nL 251.680625 224.64 \nL 251.680625 7.2 \nL 34.240625 7.2 \nz\n\" style=\"fill:#ffffff;\"/>\n   </g>\n   <g clip-path=\"url(#p267b84ecc9)\">\n    <image height=\"218\" id=\"imagee659b76e22\" transform=\"scale(1 -1)translate(0 -218)\" width=\"218\" x=\"34.240625\" xlink:href=\"data:image/png;base64,\niVBORw0KGgoAAAANSUhEUgAAANoAAADaCAYAAADAHVzbAAAABHNCSVQICAgIfAhkiAAAApVJREFUeJzt1bENwkAABEGMKMht0BD9khODZYRMDZ/sCzFTwSWrW17v4zjxU7b9M3sCg86zB8A/EBoEhAYBoUFAaBAQGgSEBgGhQUBoEBAaBIQGAaFBQGgQEBoEhAYBoUFAaBAQGgSEBgGhQUBoEBAaBIQGAaFBQGgQEBoEhAYBoUFAaBAQGgSEBgGhQUBoEBAaBIQGAaFBQGgQEBoEhAYBoUFAaBAQGgSEBgGhQUBoEBAaBIQGAaFBQGgQEBoEhAYBoUFAaBAQGgSEBgGhQUBoEBAaBIQGAaFBQGgQEBoEhAYBoUFAaBAQGgSEBgGhQUBoEBAaBIQGAaFBQGgQEBoEhAYBoUFAaBAQGgSEBgGhQUBoEBAaBIQGAaFBQGgQEBoEhAYBoUFAaBAQGgSEBgGhQUBoEBAaBIQGAaFBQGgQEBoEhAYBoUFAaBAQGgSEBgGhQUBoEBAaBIQGAaFB4HJ/PGdvYNB6vc2ewCCPBgGhQUBoEBAaBIQGAaFBQGgQEBoEhAYBoUFAaBAQGgSEBgGhQUBoEBAaBIQGAaFBQGgQEBoEhAYBoUFAaBAQGgSEBgGhQUBoEBAaBIQGAaFBQGgQEBoEhAYBoUFAaBAQGgSEBgGhQUBoEBAaBIQGAaFBQGgQEBoEhAYBoUFAaBAQGgSEBgGhQUBoEBAaBIQGAaFBQGgQEBoEhAYBoUFAaBAQGgSEBgGhQUBoEBAaBIQGAaFBQGgQEBoEhAYBoUFAaBAQGgSEBgGhQUBoEBAaBIQGAaFBQGgQEBoEhAYBoUFAaBAQGgSEBgGhQUBoEBAaBIQGAaFBQGgQEBoEhAYBoUFAaBAQGgSEBgGhQUBoEBAaBIQGAaFBQGgQEBoEhAYBoUFAaBAQGgS+do0MR7iUek0AAAAASUVORK5CYII=\" y=\"-6.64\"/>\n   </g>\n   <g id=\"matplotlib.axis_1\">\n    <g id=\"xtick_1\">\n     <g id=\"line2d_1\">\n      <defs>\n       <path d=\"M 0 0 \nL 0 3.5 \n\" id=\"ma507cfc96a\" style=\"stroke:#000000;stroke-width:0.8;\"/>\n      </defs>\n      <g>\n       <use style=\"stroke:#000000;stroke-width:0.8;\" x=\"88.600625\" xlink:href=\"#ma507cfc96a\" y=\"224.64\"/>\n      </g>\n     </g>\n     <g id=\"text_1\">\n      <!-- 0 -->\n      <defs>\n       <path d=\"M 31.78125 66.40625 \nQ 24.171875 66.40625 20.328125 58.90625 \nQ 16.5 51.421875 16.5 36.375 \nQ 16.5 21.390625 20.328125 13.890625 \nQ 24.171875 6.390625 31.78125 6.390625 \nQ 39.453125 6.390625 43.28125 13.890625 \nQ 47.125 21.390625 47.125 36.375 \nQ 47.125 51.421875 43.28125 58.90625 \nQ 39.453125 66.40625 31.78125 66.40625 \nz\nM 31.78125 74.21875 \nQ 44.046875 74.21875 50.515625 64.515625 \nQ 56.984375 54.828125 56.984375 36.375 \nQ 56.984375 17.96875 50.515625 8.265625 \nQ 44.046875 -1.421875 31.78125 -1.421875 \nQ 19.53125 -1.421875 13.0625 8.265625 \nQ 6.59375 17.96875 6.59375 36.375 \nQ 6.59375 54.828125 13.0625 64.515625 \nQ 19.53125 74.21875 31.78125 74.21875 \nz\n\" id=\"DejaVuSans-48\"/>\n      </defs>\n      <g transform=\"translate(85.419375 239.238437)scale(0.1 -0.1)\">\n       <use xlink:href=\"#DejaVuSans-48\"/>\n      </g>\n     </g>\n    </g>\n    <g id=\"xtick_2\">\n     <g id=\"line2d_2\">\n      <g>\n       <use style=\"stroke:#000000;stroke-width:0.8;\" x=\"197.320625\" xlink:href=\"#ma507cfc96a\" y=\"224.64\"/>\n      </g>\n     </g>\n     <g id=\"text_2\">\n      <!-- 1 -->\n      <defs>\n       <path d=\"M 12.40625 8.296875 \nL 28.515625 8.296875 \nL 28.515625 63.921875 \nL 10.984375 60.40625 \nL 10.984375 69.390625 \nL 28.421875 72.90625 \nL 38.28125 72.90625 \nL 38.28125 8.296875 \nL 54.390625 8.296875 \nL 54.390625 0 \nL 12.40625 0 \nz\n\" id=\"DejaVuSans-49\"/>\n      </defs>\n      <g transform=\"translate(194.139375 239.238437)scale(0.1 -0.1)\">\n       <use xlink:href=\"#DejaVuSans-49\"/>\n      </g>\n     </g>\n    </g>\n    <g id=\"text_3\">\n     <!-- Predicted label -->\n     <defs>\n      <path d=\"M 19.671875 64.796875 \nL 19.671875 37.40625 \nL 32.078125 37.40625 \nQ 38.96875 37.40625 42.71875 40.96875 \nQ 46.484375 44.53125 46.484375 51.125 \nQ 46.484375 57.671875 42.71875 61.234375 \nQ 38.96875 64.796875 32.078125 64.796875 \nz\nM 9.8125 72.90625 \nL 32.078125 72.90625 \nQ 44.34375 72.90625 50.609375 67.359375 \nQ 56.890625 61.8125 56.890625 51.125 \nQ 56.890625 40.328125 50.609375 34.8125 \nQ 44.34375 29.296875 32.078125 29.296875 \nL 19.671875 29.296875 \nL 19.671875 0 \nL 9.8125 0 \nz\n\" id=\"DejaVuSans-80\"/>\n      <path d=\"M 41.109375 46.296875 \nQ 39.59375 47.171875 37.8125 47.578125 \nQ 36.03125 48 33.890625 48 \nQ 26.265625 48 22.1875 43.046875 \nQ 18.109375 38.09375 18.109375 28.8125 \nL 18.109375 0 \nL 9.078125 0 \nL 9.078125 54.6875 \nL 18.109375 54.6875 \nL 18.109375 46.1875 \nQ 20.953125 51.171875 25.484375 53.578125 \nQ 30.03125 56 36.53125 56 \nQ 37.453125 56 38.578125 55.875 \nQ 39.703125 55.765625 41.0625 55.515625 \nz\n\" id=\"DejaVuSans-114\"/>\n      <path d=\"M 56.203125 29.59375 \nL 56.203125 25.203125 \nL 14.890625 25.203125 \nQ 15.484375 15.921875 20.484375 11.0625 \nQ 25.484375 6.203125 34.421875 6.203125 \nQ 39.59375 6.203125 44.453125 7.46875 \nQ 49.3125 8.734375 54.109375 11.28125 \nL 54.109375 2.78125 \nQ 49.265625 0.734375 44.1875 -0.34375 \nQ 39.109375 -1.421875 33.890625 -1.421875 \nQ 20.796875 -1.421875 13.15625 6.1875 \nQ 5.515625 13.8125 5.515625 26.8125 \nQ 5.515625 40.234375 12.765625 48.109375 \nQ 20.015625 56 32.328125 56 \nQ 43.359375 56 49.78125 48.890625 \nQ 56.203125 41.796875 56.203125 29.59375 \nz\nM 47.21875 32.234375 \nQ 47.125 39.59375 43.09375 43.984375 \nQ 39.0625 48.390625 32.421875 48.390625 \nQ 24.90625 48.390625 20.390625 44.140625 \nQ 15.875 39.890625 15.1875 32.171875 \nz\n\" id=\"DejaVuSans-101\"/>\n      <path d=\"M 45.40625 46.390625 \nL 45.40625 75.984375 \nL 54.390625 75.984375 \nL 54.390625 0 \nL 45.40625 0 \nL 45.40625 8.203125 \nQ 42.578125 3.328125 38.25 0.953125 \nQ 33.9375 -1.421875 27.875 -1.421875 \nQ 17.96875 -1.421875 11.734375 6.484375 \nQ 5.515625 14.40625 5.515625 27.296875 \nQ 5.515625 40.1875 11.734375 48.09375 \nQ 17.96875 56 27.875 56 \nQ 33.9375 56 38.25 53.625 \nQ 42.578125 51.265625 45.40625 46.390625 \nz\nM 14.796875 27.296875 \nQ 14.796875 17.390625 18.875 11.75 \nQ 22.953125 6.109375 30.078125 6.109375 \nQ 37.203125 6.109375 41.296875 11.75 \nQ 45.40625 17.390625 45.40625 27.296875 \nQ 45.40625 37.203125 41.296875 42.84375 \nQ 37.203125 48.484375 30.078125 48.484375 \nQ 22.953125 48.484375 18.875 42.84375 \nQ 14.796875 37.203125 14.796875 27.296875 \nz\n\" id=\"DejaVuSans-100\"/>\n      <path d=\"M 9.421875 54.6875 \nL 18.40625 54.6875 \nL 18.40625 0 \nL 9.421875 0 \nz\nM 9.421875 75.984375 \nL 18.40625 75.984375 \nL 18.40625 64.59375 \nL 9.421875 64.59375 \nz\n\" id=\"DejaVuSans-105\"/>\n      <path d=\"M 48.78125 52.59375 \nL 48.78125 44.1875 \nQ 44.96875 46.296875 41.140625 47.34375 \nQ 37.3125 48.390625 33.40625 48.390625 \nQ 24.65625 48.390625 19.8125 42.84375 \nQ 14.984375 37.3125 14.984375 27.296875 \nQ 14.984375 17.28125 19.8125 11.734375 \nQ 24.65625 6.203125 33.40625 6.203125 \nQ 37.3125 6.203125 41.140625 7.25 \nQ 44.96875 8.296875 48.78125 10.40625 \nL 48.78125 2.09375 \nQ 45.015625 0.34375 40.984375 -0.53125 \nQ 36.96875 -1.421875 32.421875 -1.421875 \nQ 20.0625 -1.421875 12.78125 6.34375 \nQ 5.515625 14.109375 5.515625 27.296875 \nQ 5.515625 40.671875 12.859375 48.328125 \nQ 20.21875 56 33.015625 56 \nQ 37.15625 56 41.109375 55.140625 \nQ 45.0625 54.296875 48.78125 52.59375 \nz\n\" id=\"DejaVuSans-99\"/>\n      <path d=\"M 18.3125 70.21875 \nL 18.3125 54.6875 \nL 36.8125 54.6875 \nL 36.8125 47.703125 \nL 18.3125 47.703125 \nL 18.3125 18.015625 \nQ 18.3125 11.328125 20.140625 9.421875 \nQ 21.96875 7.515625 27.59375 7.515625 \nL 36.8125 7.515625 \nL 36.8125 0 \nL 27.59375 0 \nQ 17.1875 0 13.234375 3.875 \nQ 9.28125 7.765625 9.28125 18.015625 \nL 9.28125 47.703125 \nL 2.6875 47.703125 \nL 2.6875 54.6875 \nL 9.28125 54.6875 \nL 9.28125 70.21875 \nz\n\" id=\"DejaVuSans-116\"/>\n      <path id=\"DejaVuSans-32\"/>\n      <path d=\"M 9.421875 75.984375 \nL 18.40625 75.984375 \nL 18.40625 0 \nL 9.421875 0 \nz\n\" id=\"DejaVuSans-108\"/>\n      <path d=\"M 34.28125 27.484375 \nQ 23.390625 27.484375 19.1875 25 \nQ 14.984375 22.515625 14.984375 16.5 \nQ 14.984375 11.71875 18.140625 8.90625 \nQ 21.296875 6.109375 26.703125 6.109375 \nQ 34.1875 6.109375 38.703125 11.40625 \nQ 43.21875 16.703125 43.21875 25.484375 \nL 43.21875 27.484375 \nz\nM 52.203125 31.203125 \nL 52.203125 0 \nL 43.21875 0 \nL 43.21875 8.296875 \nQ 40.140625 3.328125 35.546875 0.953125 \nQ 30.953125 -1.421875 24.3125 -1.421875 \nQ 15.921875 -1.421875 10.953125 3.296875 \nQ 6 8.015625 6 15.921875 \nQ 6 25.140625 12.171875 29.828125 \nQ 18.359375 34.515625 30.609375 34.515625 \nL 43.21875 34.515625 \nL 43.21875 35.40625 \nQ 43.21875 41.609375 39.140625 45 \nQ 35.0625 48.390625 27.6875 48.390625 \nQ 23 48.390625 18.546875 47.265625 \nQ 14.109375 46.140625 10.015625 43.890625 \nL 10.015625 52.203125 \nQ 14.9375 54.109375 19.578125 55.046875 \nQ 24.21875 56 28.609375 56 \nQ 40.484375 56 46.34375 49.84375 \nQ 52.203125 43.703125 52.203125 31.203125 \nz\n\" id=\"DejaVuSans-97\"/>\n      <path d=\"M 48.6875 27.296875 \nQ 48.6875 37.203125 44.609375 42.84375 \nQ 40.53125 48.484375 33.40625 48.484375 \nQ 26.265625 48.484375 22.1875 42.84375 \nQ 18.109375 37.203125 18.109375 27.296875 \nQ 18.109375 17.390625 22.1875 11.75 \nQ 26.265625 6.109375 33.40625 6.109375 \nQ 40.53125 6.109375 44.609375 11.75 \nQ 48.6875 17.390625 48.6875 27.296875 \nz\nM 18.109375 46.390625 \nQ 20.953125 51.265625 25.265625 53.625 \nQ 29.59375 56 35.59375 56 \nQ 45.5625 56 51.78125 48.09375 \nQ 58.015625 40.1875 58.015625 27.296875 \nQ 58.015625 14.40625 51.78125 6.484375 \nQ 45.5625 -1.421875 35.59375 -1.421875 \nQ 29.59375 -1.421875 25.265625 0.953125 \nQ 20.953125 3.328125 18.109375 8.203125 \nL 18.109375 0 \nL 9.078125 0 \nL 9.078125 75.984375 \nL 18.109375 75.984375 \nz\n\" id=\"DejaVuSans-98\"/>\n     </defs>\n     <g transform=\"translate(105.808281 252.916562)scale(0.1 -0.1)\">\n      <use xlink:href=\"#DejaVuSans-80\"/>\n      <use x=\"58.552734\" xlink:href=\"#DejaVuSans-114\"/>\n      <use x=\"97.416016\" xlink:href=\"#DejaVuSans-101\"/>\n      <use x=\"158.939453\" xlink:href=\"#DejaVuSans-100\"/>\n      <use x=\"222.416016\" xlink:href=\"#DejaVuSans-105\"/>\n      <use x=\"250.199219\" xlink:href=\"#DejaVuSans-99\"/>\n      <use x=\"305.179688\" xlink:href=\"#DejaVuSans-116\"/>\n      <use x=\"344.388672\" xlink:href=\"#DejaVuSans-101\"/>\n      <use x=\"405.912109\" xlink:href=\"#DejaVuSans-100\"/>\n      <use x=\"469.388672\" xlink:href=\"#DejaVuSans-32\"/>\n      <use x=\"501.175781\" xlink:href=\"#DejaVuSans-108\"/>\n      <use x=\"528.958984\" xlink:href=\"#DejaVuSans-97\"/>\n      <use x=\"590.238281\" xlink:href=\"#DejaVuSans-98\"/>\n      <use x=\"653.714844\" xlink:href=\"#DejaVuSans-101\"/>\n      <use x=\"715.238281\" xlink:href=\"#DejaVuSans-108\"/>\n     </g>\n    </g>\n   </g>\n   <g id=\"matplotlib.axis_2\">\n    <g id=\"ytick_1\">\n     <g id=\"line2d_3\">\n      <defs>\n       <path d=\"M 0 0 \nL -3.5 0 \n\" id=\"maf15db324d\" style=\"stroke:#000000;stroke-width:0.8;\"/>\n      </defs>\n      <g>\n       <use style=\"stroke:#000000;stroke-width:0.8;\" x=\"34.240625\" xlink:href=\"#maf15db324d\" y=\"61.56\"/>\n      </g>\n     </g>\n     <g id=\"text_4\">\n      <!-- 0 -->\n      <g transform=\"translate(20.878125 65.359219)scale(0.1 -0.1)\">\n       <use xlink:href=\"#DejaVuSans-48\"/>\n      </g>\n     </g>\n    </g>\n    <g id=\"ytick_2\">\n     <g id=\"line2d_4\">\n      <g>\n       <use style=\"stroke:#000000;stroke-width:0.8;\" x=\"34.240625\" xlink:href=\"#maf15db324d\" y=\"170.28\"/>\n      </g>\n     </g>\n     <g id=\"text_5\">\n      <!-- 1 -->\n      <g transform=\"translate(20.878125 174.079219)scale(0.1 -0.1)\">\n       <use xlink:href=\"#DejaVuSans-49\"/>\n      </g>\n     </g>\n    </g>\n    <g id=\"text_6\">\n     <!-- True label -->\n     <defs>\n      <path d=\"M -0.296875 72.90625 \nL 61.375 72.90625 \nL 61.375 64.59375 \nL 35.5 64.59375 \nL 35.5 0 \nL 25.59375 0 \nL 25.59375 64.59375 \nL -0.296875 64.59375 \nz\n\" id=\"DejaVuSans-84\"/>\n      <path d=\"M 8.5 21.578125 \nL 8.5 54.6875 \nL 17.484375 54.6875 \nL 17.484375 21.921875 \nQ 17.484375 14.15625 20.5 10.265625 \nQ 23.53125 6.390625 29.59375 6.390625 \nQ 36.859375 6.390625 41.078125 11.03125 \nQ 45.3125 15.671875 45.3125 23.6875 \nL 45.3125 54.6875 \nL 54.296875 54.6875 \nL 54.296875 0 \nL 45.3125 0 \nL 45.3125 8.40625 \nQ 42.046875 3.421875 37.71875 1 \nQ 33.40625 -1.421875 27.6875 -1.421875 \nQ 18.265625 -1.421875 13.375 4.4375 \nQ 8.5 10.296875 8.5 21.578125 \nz\nM 31.109375 56 \nz\n\" id=\"DejaVuSans-117\"/>\n     </defs>\n     <g transform=\"translate(14.798437 140.219219)rotate(-90)scale(0.1 -0.1)\">\n      <use xlink:href=\"#DejaVuSans-84\"/>\n      <use x=\"46.333984\" xlink:href=\"#DejaVuSans-114\"/>\n      <use x=\"87.447266\" xlink:href=\"#DejaVuSans-117\"/>\n      <use x=\"150.826172\" xlink:href=\"#DejaVuSans-101\"/>\n      <use x=\"212.349609\" xlink:href=\"#DejaVuSans-32\"/>\n      <use x=\"244.136719\" xlink:href=\"#DejaVuSans-108\"/>\n      <use x=\"271.919922\" xlink:href=\"#DejaVuSans-97\"/>\n      <use x=\"333.199219\" xlink:href=\"#DejaVuSans-98\"/>\n      <use x=\"396.675781\" xlink:href=\"#DejaVuSans-101\"/>\n      <use x=\"458.199219\" xlink:href=\"#DejaVuSans-108\"/>\n     </g>\n    </g>\n   </g>\n   <g id=\"patch_3\">\n    <path d=\"M 34.240625 224.64 \nL 34.240625 7.2 \n\" style=\"fill:none;stroke:#000000;stroke-linecap:square;stroke-linejoin:miter;stroke-width:0.8;\"/>\n   </g>\n   <g id=\"patch_4\">\n    <path d=\"M 251.680625 224.64 \nL 251.680625 7.2 \n\" style=\"fill:none;stroke:#000000;stroke-linecap:square;stroke-linejoin:miter;stroke-width:0.8;\"/>\n   </g>\n   <g id=\"patch_5\">\n    <path d=\"M 34.240625 224.64 \nL 251.680625 224.64 \n\" style=\"fill:none;stroke:#000000;stroke-linecap:square;stroke-linejoin:miter;stroke-width:0.8;\"/>\n   </g>\n   <g id=\"patch_6\">\n    <path d=\"M 34.240625 7.2 \nL 251.680625 7.2 \n\" style=\"fill:none;stroke:#000000;stroke-linecap:square;stroke-linejoin:miter;stroke-width:0.8;\"/>\n   </g>\n   <g id=\"text_7\">\n    <!-- 2071 -->\n    <defs>\n     <path d=\"M 19.1875 8.296875 \nL 53.609375 8.296875 \nL 53.609375 0 \nL 7.328125 0 \nL 7.328125 8.296875 \nQ 12.9375 14.109375 22.625 23.890625 \nQ 32.328125 33.6875 34.8125 36.53125 \nQ 39.546875 41.84375 41.421875 45.53125 \nQ 43.3125 49.21875 43.3125 52.78125 \nQ 43.3125 58.59375 39.234375 62.25 \nQ 35.15625 65.921875 28.609375 65.921875 \nQ 23.96875 65.921875 18.8125 64.3125 \nQ 13.671875 62.703125 7.8125 59.421875 \nL 7.8125 69.390625 \nQ 13.765625 71.78125 18.9375 73 \nQ 24.125 74.21875 28.421875 74.21875 \nQ 39.75 74.21875 46.484375 68.546875 \nQ 53.21875 62.890625 53.21875 53.421875 \nQ 53.21875 48.921875 51.53125 44.890625 \nQ 49.859375 40.875 45.40625 35.40625 \nQ 44.1875 33.984375 37.640625 27.21875 \nQ 31.109375 20.453125 19.1875 8.296875 \nz\n\" id=\"DejaVuSans-50\"/>\n     <path d=\"M 8.203125 72.90625 \nL 55.078125 72.90625 \nL 55.078125 68.703125 \nL 28.609375 0 \nL 18.3125 0 \nL 43.21875 64.59375 \nL 8.203125 64.59375 \nz\n\" id=\"DejaVuSans-55\"/>\n    </defs>\n    <g style=\"fill:#08306b;\" transform=\"translate(75.875625 64.319375)scale(0.1 -0.1)\">\n     <use xlink:href=\"#DejaVuSans-50\"/>\n     <use x=\"63.623047\" xlink:href=\"#DejaVuSans-48\"/>\n     <use x=\"127.246094\" xlink:href=\"#DejaVuSans-55\"/>\n     <use x=\"190.869141\" xlink:href=\"#DejaVuSans-49\"/>\n    </g>\n   </g>\n   <g id=\"text_8\">\n    <!-- 13248 -->\n    <defs>\n     <path d=\"M 40.578125 39.3125 \nQ 47.65625 37.796875 51.625 33 \nQ 55.609375 28.21875 55.609375 21.1875 \nQ 55.609375 10.40625 48.1875 4.484375 \nQ 40.765625 -1.421875 27.09375 -1.421875 \nQ 22.515625 -1.421875 17.65625 -0.515625 \nQ 12.796875 0.390625 7.625 2.203125 \nL 7.625 11.71875 \nQ 11.71875 9.328125 16.59375 8.109375 \nQ 21.484375 6.890625 26.8125 6.890625 \nQ 36.078125 6.890625 40.9375 10.546875 \nQ 45.796875 14.203125 45.796875 21.1875 \nQ 45.796875 27.640625 41.28125 31.265625 \nQ 36.765625 34.90625 28.71875 34.90625 \nL 20.21875 34.90625 \nL 20.21875 43.015625 \nL 29.109375 43.015625 \nQ 36.375 43.015625 40.234375 45.921875 \nQ 44.09375 48.828125 44.09375 54.296875 \nQ 44.09375 59.90625 40.109375 62.90625 \nQ 36.140625 65.921875 28.71875 65.921875 \nQ 24.65625 65.921875 20.015625 65.03125 \nQ 15.375 64.15625 9.8125 62.3125 \nL 9.8125 71.09375 \nQ 15.4375 72.65625 20.34375 73.4375 \nQ 25.25 74.21875 29.59375 74.21875 \nQ 40.828125 74.21875 47.359375 69.109375 \nQ 53.90625 64.015625 53.90625 55.328125 \nQ 53.90625 49.265625 50.4375 45.09375 \nQ 46.96875 40.921875 40.578125 39.3125 \nz\n\" id=\"DejaVuSans-51\"/>\n     <path d=\"M 37.796875 64.3125 \nL 12.890625 25.390625 \nL 37.796875 25.390625 \nz\nM 35.203125 72.90625 \nL 47.609375 72.90625 \nL 47.609375 25.390625 \nL 58.015625 25.390625 \nL 58.015625 17.1875 \nL 47.609375 17.1875 \nL 47.609375 0 \nL 37.796875 0 \nL 37.796875 17.1875 \nL 4.890625 17.1875 \nL 4.890625 26.703125 \nz\n\" id=\"DejaVuSans-52\"/>\n     <path d=\"M 31.78125 34.625 \nQ 24.75 34.625 20.71875 30.859375 \nQ 16.703125 27.09375 16.703125 20.515625 \nQ 16.703125 13.921875 20.71875 10.15625 \nQ 24.75 6.390625 31.78125 6.390625 \nQ 38.8125 6.390625 42.859375 10.171875 \nQ 46.921875 13.96875 46.921875 20.515625 \nQ 46.921875 27.09375 42.890625 30.859375 \nQ 38.875 34.625 31.78125 34.625 \nz\nM 21.921875 38.8125 \nQ 15.578125 40.375 12.03125 44.71875 \nQ 8.5 49.078125 8.5 55.328125 \nQ 8.5 64.0625 14.71875 69.140625 \nQ 20.953125 74.21875 31.78125 74.21875 \nQ 42.671875 74.21875 48.875 69.140625 \nQ 55.078125 64.0625 55.078125 55.328125 \nQ 55.078125 49.078125 51.53125 44.71875 \nQ 48 40.375 41.703125 38.8125 \nQ 48.828125 37.15625 52.796875 32.3125 \nQ 56.78125 27.484375 56.78125 20.515625 \nQ 56.78125 9.90625 50.3125 4.234375 \nQ 43.84375 -1.421875 31.78125 -1.421875 \nQ 19.734375 -1.421875 13.25 4.234375 \nQ 6.78125 9.90625 6.78125 20.515625 \nQ 6.78125 27.484375 10.78125 32.3125 \nQ 14.796875 37.15625 21.921875 38.8125 \nz\nM 18.3125 54.390625 \nQ 18.3125 48.734375 21.84375 45.5625 \nQ 25.390625 42.390625 31.78125 42.390625 \nQ 38.140625 42.390625 41.71875 45.5625 \nQ 45.3125 48.734375 45.3125 54.390625 \nQ 45.3125 60.0625 41.71875 63.234375 \nQ 38.140625 66.40625 31.78125 66.40625 \nQ 25.390625 66.40625 21.84375 63.234375 \nQ 18.3125 60.0625 18.3125 54.390625 \nz\n\" id=\"DejaVuSans-56\"/>\n    </defs>\n    <g style=\"fill:#f7fbff;\" transform=\"translate(181.414375 64.319375)scale(0.1 -0.1)\">\n     <use xlink:href=\"#DejaVuSans-49\"/>\n     <use x=\"63.623047\" xlink:href=\"#DejaVuSans-51\"/>\n     <use x=\"127.246094\" xlink:href=\"#DejaVuSans-50\"/>\n     <use x=\"190.869141\" xlink:href=\"#DejaVuSans-52\"/>\n     <use x=\"254.492188\" xlink:href=\"#DejaVuSans-56\"/>\n    </g>\n   </g>\n   <g id=\"text_9\">\n    <!-- 44 -->\n    <g style=\"fill:#08306b;\" transform=\"translate(82.238125 173.039375)scale(0.1 -0.1)\">\n     <use xlink:href=\"#DejaVuSans-52\"/>\n     <use x=\"63.623047\" xlink:href=\"#DejaVuSans-52\"/>\n    </g>\n   </g>\n   <g id=\"text_10\">\n    <!-- 602 -->\n    <defs>\n     <path d=\"M 33.015625 40.375 \nQ 26.375 40.375 22.484375 35.828125 \nQ 18.609375 31.296875 18.609375 23.390625 \nQ 18.609375 15.53125 22.484375 10.953125 \nQ 26.375 6.390625 33.015625 6.390625 \nQ 39.65625 6.390625 43.53125 10.953125 \nQ 47.40625 15.53125 47.40625 23.390625 \nQ 47.40625 31.296875 43.53125 35.828125 \nQ 39.65625 40.375 33.015625 40.375 \nz\nM 52.59375 71.296875 \nL 52.59375 62.3125 \nQ 48.875 64.0625 45.09375 64.984375 \nQ 41.3125 65.921875 37.59375 65.921875 \nQ 27.828125 65.921875 22.671875 59.328125 \nQ 17.53125 52.734375 16.796875 39.40625 \nQ 19.671875 43.65625 24.015625 45.921875 \nQ 28.375 48.1875 33.59375 48.1875 \nQ 44.578125 48.1875 50.953125 41.515625 \nQ 57.328125 34.859375 57.328125 23.390625 \nQ 57.328125 12.15625 50.6875 5.359375 \nQ 44.046875 -1.421875 33.015625 -1.421875 \nQ 20.359375 -1.421875 13.671875 8.265625 \nQ 6.984375 17.96875 6.984375 36.375 \nQ 6.984375 53.65625 15.1875 63.9375 \nQ 23.390625 74.21875 37.203125 74.21875 \nQ 40.921875 74.21875 44.703125 73.484375 \nQ 48.484375 72.75 52.59375 71.296875 \nz\n\" id=\"DejaVuSans-54\"/>\n    </defs>\n    <g style=\"fill:#08306b;\" transform=\"translate(187.776875 173.039375)scale(0.1 -0.1)\">\n     <use xlink:href=\"#DejaVuSans-54\"/>\n     <use x=\"63.623047\" xlink:href=\"#DejaVuSans-48\"/>\n     <use x=\"127.246094\" xlink:href=\"#DejaVuSans-50\"/>\n    </g>\n   </g>\n  </g>\n  <g id=\"axes_2\">\n   <g id=\"patch_7\">\n    <path clip-path=\"url(#p839b4a47d6)\" d=\"M 268.420625 224.64 \nL 268.420625 223.790625 \nL 268.420625 8.049375 \nL 268.420625 7.2 \nL 279.292625 7.2 \nL 279.292625 8.049375 \nL 279.292625 223.790625 \nL 279.292625 224.64 \nz\n\" style=\"fill:#ffffff;stroke:#ffffff;stroke-linejoin:miter;stroke-width:0.01;\"/>\n   </g>\n   <image height=\"217\" id=\"image7bf9dc2a8b\" transform=\"scale(1 -1)translate(0 -217)\" width=\"11\" x=\"268\" xlink:href=\"data:image/png;base64,\niVBORw0KGgoAAAANSUhEUgAAAAsAAADZCAYAAAD2WsoCAAAABHNCSVQICAgIfAhkiAAAARxJREFUaIHtmDEOAjEQAwPK/59LgciGFrpMMciL7mpr5dheJ7rb47n3OPzmHsfYMc/nYjChAbBjAizkXAB9ByxM6UIchJMBGGYDcC5NupEhHcwG4ezR0HqD2d2wvjr2Rop0V/h/QiNEOu1VkHJAZDc8oHbDag4udMAMzpWR5zof7LaoxblARhlnszfA5OVVgZc67XGCqkBsUe3uXiTPXj97DiKdF+gC08FzrEnDywa0O6LMPZ3ZPSi2qLewEdJ5/dwxG2i7PZ3NvxCo+SN2MCQb7JXLaESoAQ9o0QiZbNoNaHhB8uzuGKSQ7WZ/AsVsnL8ZUzgzcIbdIdn4f7uvbHyAod2IRsPJ9bImt1RjRdBAk8nCXnZ/gTvabU1+A25V4hFkL86SAAAAAElFTkSuQmCC\" y=\"-7\"/>\n   <g id=\"matplotlib.axis_3\"/>\n   <g id=\"matplotlib.axis_4\">\n    <g id=\"ytick_3\">\n     <g id=\"line2d_5\">\n      <defs>\n       <path d=\"M 0 0 \nL 3.5 0 \n\" id=\"m974df8f615\" style=\"stroke:#000000;stroke-width:0.8;\"/>\n      </defs>\n      <g>\n       <use style=\"stroke:#000000;stroke-width:0.8;\" x=\"279.292625\" xlink:href=\"#m974df8f615\" y=\"192.429106\"/>\n      </g>\n     </g>\n     <g id=\"text_11\">\n      <!-- 2000 -->\n      <g transform=\"translate(286.292625 196.228325)scale(0.1 -0.1)\">\n       <use xlink:href=\"#DejaVuSans-50\"/>\n       <use x=\"63.623047\" xlink:href=\"#DejaVuSans-48\"/>\n       <use x=\"127.246094\" xlink:href=\"#DejaVuSans-48\"/>\n       <use x=\"190.869141\" xlink:href=\"#DejaVuSans-48\"/>\n      </g>\n     </g>\n    </g>\n    <g id=\"ytick_4\">\n     <g id=\"line2d_6\">\n      <g>\n       <use style=\"stroke:#000000;stroke-width:0.8;\" x=\"279.292625\" xlink:href=\"#m974df8f615\" y=\"159.493632\"/>\n      </g>\n     </g>\n     <g id=\"text_12\">\n      <!-- 4000 -->\n      <g transform=\"translate(286.292625 163.292851)scale(0.1 -0.1)\">\n       <use xlink:href=\"#DejaVuSans-52\"/>\n       <use x=\"63.623047\" xlink:href=\"#DejaVuSans-48\"/>\n       <use x=\"127.246094\" xlink:href=\"#DejaVuSans-48\"/>\n       <use x=\"190.869141\" xlink:href=\"#DejaVuSans-48\"/>\n      </g>\n     </g>\n    </g>\n    <g id=\"ytick_5\">\n     <g id=\"line2d_7\">\n      <g>\n       <use style=\"stroke:#000000;stroke-width:0.8;\" x=\"279.292625\" xlink:href=\"#m974df8f615\" y=\"126.558158\"/>\n      </g>\n     </g>\n     <g id=\"text_13\">\n      <!-- 6000 -->\n      <g transform=\"translate(286.292625 130.357377)scale(0.1 -0.1)\">\n       <use xlink:href=\"#DejaVuSans-54\"/>\n       <use x=\"63.623047\" xlink:href=\"#DejaVuSans-48\"/>\n       <use x=\"127.246094\" xlink:href=\"#DejaVuSans-48\"/>\n       <use x=\"190.869141\" xlink:href=\"#DejaVuSans-48\"/>\n      </g>\n     </g>\n    </g>\n    <g id=\"ytick_6\">\n     <g id=\"line2d_8\">\n      <g>\n       <use style=\"stroke:#000000;stroke-width:0.8;\" x=\"279.292625\" xlink:href=\"#m974df8f615\" y=\"93.622684\"/>\n      </g>\n     </g>\n     <g id=\"text_14\">\n      <!-- 8000 -->\n      <g transform=\"translate(286.292625 97.421903)scale(0.1 -0.1)\">\n       <use xlink:href=\"#DejaVuSans-56\"/>\n       <use x=\"63.623047\" xlink:href=\"#DejaVuSans-48\"/>\n       <use x=\"127.246094\" xlink:href=\"#DejaVuSans-48\"/>\n       <use x=\"190.869141\" xlink:href=\"#DejaVuSans-48\"/>\n      </g>\n     </g>\n    </g>\n    <g id=\"ytick_7\">\n     <g id=\"line2d_9\">\n      <g>\n       <use style=\"stroke:#000000;stroke-width:0.8;\" x=\"279.292625\" xlink:href=\"#m974df8f615\" y=\"60.68721\"/>\n      </g>\n     </g>\n     <g id=\"text_15\">\n      <!-- 10000 -->\n      <g transform=\"translate(286.292625 64.486429)scale(0.1 -0.1)\">\n       <use xlink:href=\"#DejaVuSans-49\"/>\n       <use x=\"63.623047\" xlink:href=\"#DejaVuSans-48\"/>\n       <use x=\"127.246094\" xlink:href=\"#DejaVuSans-48\"/>\n       <use x=\"190.869141\" xlink:href=\"#DejaVuSans-48\"/>\n       <use x=\"254.492188\" xlink:href=\"#DejaVuSans-48\"/>\n      </g>\n     </g>\n    </g>\n    <g id=\"ytick_8\">\n     <g id=\"line2d_10\">\n      <g>\n       <use style=\"stroke:#000000;stroke-width:0.8;\" x=\"279.292625\" xlink:href=\"#m974df8f615\" y=\"27.751736\"/>\n      </g>\n     </g>\n     <g id=\"text_16\">\n      <!-- 12000 -->\n      <g transform=\"translate(286.292625 31.550955)scale(0.1 -0.1)\">\n       <use xlink:href=\"#DejaVuSans-49\"/>\n       <use x=\"63.623047\" xlink:href=\"#DejaVuSans-50\"/>\n       <use x=\"127.246094\" xlink:href=\"#DejaVuSans-48\"/>\n       <use x=\"190.869141\" xlink:href=\"#DejaVuSans-48\"/>\n       <use x=\"254.492188\" xlink:href=\"#DejaVuSans-48\"/>\n      </g>\n     </g>\n    </g>\n   </g>\n   <g id=\"patch_8\">\n    <path d=\"M 268.420625 224.64 \nL 268.420625 223.790625 \nL 268.420625 8.049375 \nL 268.420625 7.2 \nL 279.292625 7.2 \nL 279.292625 8.049375 \nL 279.292625 223.790625 \nL 279.292625 224.64 \nz\n\" style=\"fill:none;stroke:#000000;stroke-linejoin:miter;stroke-width:0.8;\"/>\n   </g>\n  </g>\n </g>\n <defs>\n  <clipPath id=\"p267b84ecc9\">\n   <rect height=\"217.44\" width=\"217.44\" x=\"34.240625\" y=\"7.2\"/>\n  </clipPath>\n  <clipPath id=\"p839b4a47d6\">\n   <rect height=\"217.44\" width=\"10.872\" x=\"268.420625\" y=\"7.2\"/>\n  </clipPath>\n </defs>\n</svg>\n",
      "image/png": "[encoded data removed]"
     },
     "metadata": {
      "needs_background": "light"
     }
    }
   ],
   "source": [
    "plot_confusion_matrix(NB, X_test, y_test,cmap=plt.cm.Blues); "
   ]
  },
  {
   "cell_type": "code",
   "execution_count": 27,
   "metadata": {},
   "outputs": [
    {
     "output_type": "execute_result",
     "data": {
      "text/plain": "0.9318885448916409"
     },
     "metadata": {},
     "execution_count": 27
    }
   ],
   "source": [
    "tn, fp, fn, tp = confusion_matrix(y_test, y_pred).ravel()\n",
    "sensitivity = tp / (tp+fn)\n",
    "sensitivity"
   ]
  },
  {
   "cell_type": "code",
   "execution_count": 28,
   "metadata": {},
   "outputs": [
    {
     "output_type": "execute_result",
     "data": {
      "text/plain": "0.9791962174940898"
     },
     "metadata": {},
     "execution_count": 28
    }
   ],
   "source": [
    "Negative_predictive_value = tn /(tn+fn)\n",
    "Negative_predictive_value"
   ]
  },
  {
   "source": [
    "## Naïve Bayes with StandardScaler"
   ],
   "cell_type": "markdown",
   "metadata": {}
  },
  {
   "cell_type": "code",
   "execution_count": 29,
   "metadata": {},
   "outputs": [],
   "source": [
    "NB_pipeline.fit(X_train,y_train)\n",
    "y_pred = NB_pipeline.predict(X_test)"
   ]
  },
  {
   "cell_type": "code",
   "execution_count": 30,
   "metadata": {
    "tags": []
   },
   "outputs": [
    {
     "output_type": "stream",
     "name": "stdout",
     "text": "precision    recall  f1-score   support\n\n           0       0.98      0.03      0.07     15319\n           1       0.04      0.99      0.08       646\n\n    accuracy                           0.07     15965\n   macro avg       0.51      0.51      0.07     15965\nweighted avg       0.94      0.07      0.07     15965\n\n"
    }
   ],
   "source": [
    "print(classification_report(y_test, y_pred))"
   ]
  },
  {
   "cell_type": "code",
   "execution_count": 31,
   "metadata": {},
   "outputs": [
    {
     "output_type": "display_data",
     "data": {
      "text/plain": "<Figure size 432x288 with 2 Axes>",
      "image/svg+xml": "<?xml version=\"1.0\" encoding=\"utf-8\" standalone=\"no\"?>\n<!DOCTYPE svg PUBLIC \"-//W3C//DTD SVG 1.1//EN\"\n  \"http://www.w3.org/Graphics/SVG/1.1/DTD/svg11.dtd\">\n<!-- Created with matplotlib (https://matplotlib.org/) -->\n<svg height=\"262.19625pt\" version=\"1.1\" viewBox=\"0 0 325.305125 262.19625\" width=\"325.305125pt\" xmlns=\"http://www.w3.org/2000/svg\" xmlns:xlink=\"http://www.w3.org/1999/xlink\">\n <defs>\n  <style type=\"text/css\">\n*{stroke-linecap:butt;stroke-linejoin:round;}\n  </style>\n </defs>\n <g id=\"figure_1\">\n  <g id=\"patch_1\">\n   <path d=\"M 0 262.19625 \nL 325.305125 262.19625 \nL 325.305125 0 \nL 0 0 \nz\n\" style=\"fill:none;\"/>\n  </g>\n  <g id=\"axes_1\">\n   <g id=\"patch_2\">\n    <path d=\"M 34.240625 224.64 \nL 251.680625 224.64 \nL 251.680625 7.2 \nL 34.240625 7.2 \nz\n\" style=\"fill:#ffffff;\"/>\n   </g>\n   <g clip-path=\"url(#pd7342b2c6f)\">\n    <image height=\"218\" id=\"image1e9b85f7fa\" transform=\"scale(1 -1)translate(0 -218)\" width=\"218\" x=\"34.240625\" xlink:href=\"data:image/png;base64,\niVBORw0KGgoAAAANSUhEUgAAANoAAADaCAYAAADAHVzbAAAABHNCSVQICAgIfAhkiAAAApNJREFUeJzt1cENglAABUExNmEtFGX5oIRgDf+yP8aZCt5l85btuK4bP2X/nLMnMOg+ewD8A6FBQGgQEBoEhAYBoUFAaBAQGgSEBgGhQUBoEBAaBIQGAaFBQGgQEBoEhAYBoUFAaBAQGgSEBgGhQUBoEBAaBIQGAaFBQGgQEBoEhAYBoUFAaBAQGgSEBgGhQUBoEBAaBIQGAaFBQGgQEBoEhAYBoUFAaBAQGgSEBgGhQUBoEBAaBIQGAaFBQGgQEBoEhAYBoUFAaBAQGgSEBgGhQUBoEBAaBIQGAaFBQGgQEBoEhAYBoUFAaBAQGgSEBgGhQUBoEBAaBIQGAaFBQGgQEBoEhAYBoUFAaBAQGgSEBgGhQUBoEBAaBIQGAaFBQGgQEBoEhAYBoUFAaBAQGgSEBgGhQUBoEBAaBIQGAaFBQGgQEBoEhAYBoUFAaBAQGgSEBgGhQUBoEBAaBB7v45y9gUHP9TV7AoM8GgSEBgGhQUBoEBAaBIQGAaFBQGgQEBoEhAYBoUFAaBAQGgSEBgGhQUBoEBAaBIQGAaFBQGgQEBoEhAYBoUFAaBAQGgSEBgGhQUBoEBAaBIQGAaFBQGgQEBoEhAYBoUFAaBAQGgSEBgGhQUBoEBAaBIQGAaFBQGgQEBoEhAYBoUFAaBAQGgSEBgGhQUBoEBAaBIQGAaFBQGgQEBoEhAYBoUFAaBAQGgSEBgGhQUBoEBAaBIQGAaFBQGgQEBoEhAYBoUFAaBAQGgSEBgGhQUBoEBAaBIQGAaFBQGgQEBoEhAYBoUFAaBAQGgSEBgGhQUBoEBAaBIQGAaFBQGgQEBoEhAYBoUFAaBAQGgSEBgGhQUBoEBAaBIQGAaFBQGgQEBoEhAYBoUFAaBD4AqkRDEnm0KwFAAAAAElFTkSuQmCC\" y=\"-6.64\"/>\n   </g>\n   <g id=\"matplotlib.axis_1\">\n    <g id=\"xtick_1\">\n     <g id=\"line2d_1\">\n      <defs>\n       <path d=\"M 0 0 \nL 0 3.5 \n\" id=\"me566c0a61c\" style=\"stroke:#000000;stroke-width:0.8;\"/>\n      </defs>\n      <g>\n       <use style=\"stroke:#000000;stroke-width:0.8;\" x=\"88.600625\" xlink:href=\"#me566c0a61c\" y=\"224.64\"/>\n      </g>\n     </g>\n     <g id=\"text_1\">\n      <!-- 0 -->\n      <defs>\n       <path d=\"M 31.78125 66.40625 \nQ 24.171875 66.40625 20.328125 58.90625 \nQ 16.5 51.421875 16.5 36.375 \nQ 16.5 21.390625 20.328125 13.890625 \nQ 24.171875 6.390625 31.78125 6.390625 \nQ 39.453125 6.390625 43.28125 13.890625 \nQ 47.125 21.390625 47.125 36.375 \nQ 47.125 51.421875 43.28125 58.90625 \nQ 39.453125 66.40625 31.78125 66.40625 \nz\nM 31.78125 74.21875 \nQ 44.046875 74.21875 50.515625 64.515625 \nQ 56.984375 54.828125 56.984375 36.375 \nQ 56.984375 17.96875 50.515625 8.265625 \nQ 44.046875 -1.421875 31.78125 -1.421875 \nQ 19.53125 -1.421875 13.0625 8.265625 \nQ 6.59375 17.96875 6.59375 36.375 \nQ 6.59375 54.828125 13.0625 64.515625 \nQ 19.53125 74.21875 31.78125 74.21875 \nz\n\" id=\"DejaVuSans-48\"/>\n      </defs>\n      <g transform=\"translate(85.419375 239.238437)scale(0.1 -0.1)\">\n       <use xlink:href=\"#DejaVuSans-48\"/>\n      </g>\n     </g>\n    </g>\n    <g id=\"xtick_2\">\n     <g id=\"line2d_2\">\n      <g>\n       <use style=\"stroke:#000000;stroke-width:0.8;\" x=\"197.320625\" xlink:href=\"#me566c0a61c\" y=\"224.64\"/>\n      </g>\n     </g>\n     <g id=\"text_2\">\n      <!-- 1 -->\n      <defs>\n       <path d=\"M 12.40625 8.296875 \nL 28.515625 8.296875 \nL 28.515625 63.921875 \nL 10.984375 60.40625 \nL 10.984375 69.390625 \nL 28.421875 72.90625 \nL 38.28125 72.90625 \nL 38.28125 8.296875 \nL 54.390625 8.296875 \nL 54.390625 0 \nL 12.40625 0 \nz\n\" id=\"DejaVuSans-49\"/>\n      </defs>\n      <g transform=\"translate(194.139375 239.238437)scale(0.1 -0.1)\">\n       <use xlink:href=\"#DejaVuSans-49\"/>\n      </g>\n     </g>\n    </g>\n    <g id=\"text_3\">\n     <!-- Predicted label -->\n     <defs>\n      <path d=\"M 19.671875 64.796875 \nL 19.671875 37.40625 \nL 32.078125 37.40625 \nQ 38.96875 37.40625 42.71875 40.96875 \nQ 46.484375 44.53125 46.484375 51.125 \nQ 46.484375 57.671875 42.71875 61.234375 \nQ 38.96875 64.796875 32.078125 64.796875 \nz\nM 9.8125 72.90625 \nL 32.078125 72.90625 \nQ 44.34375 72.90625 50.609375 67.359375 \nQ 56.890625 61.8125 56.890625 51.125 \nQ 56.890625 40.328125 50.609375 34.8125 \nQ 44.34375 29.296875 32.078125 29.296875 \nL 19.671875 29.296875 \nL 19.671875 0 \nL 9.8125 0 \nz\n\" id=\"DejaVuSans-80\"/>\n      <path d=\"M 41.109375 46.296875 \nQ 39.59375 47.171875 37.8125 47.578125 \nQ 36.03125 48 33.890625 48 \nQ 26.265625 48 22.1875 43.046875 \nQ 18.109375 38.09375 18.109375 28.8125 \nL 18.109375 0 \nL 9.078125 0 \nL 9.078125 54.6875 \nL 18.109375 54.6875 \nL 18.109375 46.1875 \nQ 20.953125 51.171875 25.484375 53.578125 \nQ 30.03125 56 36.53125 56 \nQ 37.453125 56 38.578125 55.875 \nQ 39.703125 55.765625 41.0625 55.515625 \nz\n\" id=\"DejaVuSans-114\"/>\n      <path d=\"M 56.203125 29.59375 \nL 56.203125 25.203125 \nL 14.890625 25.203125 \nQ 15.484375 15.921875 20.484375 11.0625 \nQ 25.484375 6.203125 34.421875 6.203125 \nQ 39.59375 6.203125 44.453125 7.46875 \nQ 49.3125 8.734375 54.109375 11.28125 \nL 54.109375 2.78125 \nQ 49.265625 0.734375 44.1875 -0.34375 \nQ 39.109375 -1.421875 33.890625 -1.421875 \nQ 20.796875 -1.421875 13.15625 6.1875 \nQ 5.515625 13.8125 5.515625 26.8125 \nQ 5.515625 40.234375 12.765625 48.109375 \nQ 20.015625 56 32.328125 56 \nQ 43.359375 56 49.78125 48.890625 \nQ 56.203125 41.796875 56.203125 29.59375 \nz\nM 47.21875 32.234375 \nQ 47.125 39.59375 43.09375 43.984375 \nQ 39.0625 48.390625 32.421875 48.390625 \nQ 24.90625 48.390625 20.390625 44.140625 \nQ 15.875 39.890625 15.1875 32.171875 \nz\n\" id=\"DejaVuSans-101\"/>\n      <path d=\"M 45.40625 46.390625 \nL 45.40625 75.984375 \nL 54.390625 75.984375 \nL 54.390625 0 \nL 45.40625 0 \nL 45.40625 8.203125 \nQ 42.578125 3.328125 38.25 0.953125 \nQ 33.9375 -1.421875 27.875 -1.421875 \nQ 17.96875 -1.421875 11.734375 6.484375 \nQ 5.515625 14.40625 5.515625 27.296875 \nQ 5.515625 40.1875 11.734375 48.09375 \nQ 17.96875 56 27.875 56 \nQ 33.9375 56 38.25 53.625 \nQ 42.578125 51.265625 45.40625 46.390625 \nz\nM 14.796875 27.296875 \nQ 14.796875 17.390625 18.875 11.75 \nQ 22.953125 6.109375 30.078125 6.109375 \nQ 37.203125 6.109375 41.296875 11.75 \nQ 45.40625 17.390625 45.40625 27.296875 \nQ 45.40625 37.203125 41.296875 42.84375 \nQ 37.203125 48.484375 30.078125 48.484375 \nQ 22.953125 48.484375 18.875 42.84375 \nQ 14.796875 37.203125 14.796875 27.296875 \nz\n\" id=\"DejaVuSans-100\"/>\n      <path d=\"M 9.421875 54.6875 \nL 18.40625 54.6875 \nL 18.40625 0 \nL 9.421875 0 \nz\nM 9.421875 75.984375 \nL 18.40625 75.984375 \nL 18.40625 64.59375 \nL 9.421875 64.59375 \nz\n\" id=\"DejaVuSans-105\"/>\n      <path d=\"M 48.78125 52.59375 \nL 48.78125 44.1875 \nQ 44.96875 46.296875 41.140625 47.34375 \nQ 37.3125 48.390625 33.40625 48.390625 \nQ 24.65625 48.390625 19.8125 42.84375 \nQ 14.984375 37.3125 14.984375 27.296875 \nQ 14.984375 17.28125 19.8125 11.734375 \nQ 24.65625 6.203125 33.40625 6.203125 \nQ 37.3125 6.203125 41.140625 7.25 \nQ 44.96875 8.296875 48.78125 10.40625 \nL 48.78125 2.09375 \nQ 45.015625 0.34375 40.984375 -0.53125 \nQ 36.96875 -1.421875 32.421875 -1.421875 \nQ 20.0625 -1.421875 12.78125 6.34375 \nQ 5.515625 14.109375 5.515625 27.296875 \nQ 5.515625 40.671875 12.859375 48.328125 \nQ 20.21875 56 33.015625 56 \nQ 37.15625 56 41.109375 55.140625 \nQ 45.0625 54.296875 48.78125 52.59375 \nz\n\" id=\"DejaVuSans-99\"/>\n      <path d=\"M 18.3125 70.21875 \nL 18.3125 54.6875 \nL 36.8125 54.6875 \nL 36.8125 47.703125 \nL 18.3125 47.703125 \nL 18.3125 18.015625 \nQ 18.3125 11.328125 20.140625 9.421875 \nQ 21.96875 7.515625 27.59375 7.515625 \nL 36.8125 7.515625 \nL 36.8125 0 \nL 27.59375 0 \nQ 17.1875 0 13.234375 3.875 \nQ 9.28125 7.765625 9.28125 18.015625 \nL 9.28125 47.703125 \nL 2.6875 47.703125 \nL 2.6875 54.6875 \nL 9.28125 54.6875 \nL 9.28125 70.21875 \nz\n\" id=\"DejaVuSans-116\"/>\n      <path id=\"DejaVuSans-32\"/>\n      <path d=\"M 9.421875 75.984375 \nL 18.40625 75.984375 \nL 18.40625 0 \nL 9.421875 0 \nz\n\" id=\"DejaVuSans-108\"/>\n      <path d=\"M 34.28125 27.484375 \nQ 23.390625 27.484375 19.1875 25 \nQ 14.984375 22.515625 14.984375 16.5 \nQ 14.984375 11.71875 18.140625 8.90625 \nQ 21.296875 6.109375 26.703125 6.109375 \nQ 34.1875 6.109375 38.703125 11.40625 \nQ 43.21875 16.703125 43.21875 25.484375 \nL 43.21875 27.484375 \nz\nM 52.203125 31.203125 \nL 52.203125 0 \nL 43.21875 0 \nL 43.21875 8.296875 \nQ 40.140625 3.328125 35.546875 0.953125 \nQ 30.953125 -1.421875 24.3125 -1.421875 \nQ 15.921875 -1.421875 10.953125 3.296875 \nQ 6 8.015625 6 15.921875 \nQ 6 25.140625 12.171875 29.828125 \nQ 18.359375 34.515625 30.609375 34.515625 \nL 43.21875 34.515625 \nL 43.21875 35.40625 \nQ 43.21875 41.609375 39.140625 45 \nQ 35.0625 48.390625 27.6875 48.390625 \nQ 23 48.390625 18.546875 47.265625 \nQ 14.109375 46.140625 10.015625 43.890625 \nL 10.015625 52.203125 \nQ 14.9375 54.109375 19.578125 55.046875 \nQ 24.21875 56 28.609375 56 \nQ 40.484375 56 46.34375 49.84375 \nQ 52.203125 43.703125 52.203125 31.203125 \nz\n\" id=\"DejaVuSans-97\"/>\n      <path d=\"M 48.6875 27.296875 \nQ 48.6875 37.203125 44.609375 42.84375 \nQ 40.53125 48.484375 33.40625 48.484375 \nQ 26.265625 48.484375 22.1875 42.84375 \nQ 18.109375 37.203125 18.109375 27.296875 \nQ 18.109375 17.390625 22.1875 11.75 \nQ 26.265625 6.109375 33.40625 6.109375 \nQ 40.53125 6.109375 44.609375 11.75 \nQ 48.6875 17.390625 48.6875 27.296875 \nz\nM 18.109375 46.390625 \nQ 20.953125 51.265625 25.265625 53.625 \nQ 29.59375 56 35.59375 56 \nQ 45.5625 56 51.78125 48.09375 \nQ 58.015625 40.1875 58.015625 27.296875 \nQ 58.015625 14.40625 51.78125 6.484375 \nQ 45.5625 -1.421875 35.59375 -1.421875 \nQ 29.59375 -1.421875 25.265625 0.953125 \nQ 20.953125 3.328125 18.109375 8.203125 \nL 18.109375 0 \nL 9.078125 0 \nL 9.078125 75.984375 \nL 18.109375 75.984375 \nz\n\" id=\"DejaVuSans-98\"/>\n     </defs>\n     <g transform=\"translate(105.808281 252.916562)scale(0.1 -0.1)\">\n      <use xlink:href=\"#DejaVuSans-80\"/>\n      <use x=\"58.552734\" xlink:href=\"#DejaVuSans-114\"/>\n      <use x=\"97.416016\" xlink:href=\"#DejaVuSans-101\"/>\n      <use x=\"158.939453\" xlink:href=\"#DejaVuSans-100\"/>\n      <use x=\"222.416016\" xlink:href=\"#DejaVuSans-105\"/>\n      <use x=\"250.199219\" xlink:href=\"#DejaVuSans-99\"/>\n      <use x=\"305.179688\" xlink:href=\"#DejaVuSans-116\"/>\n      <use x=\"344.388672\" xlink:href=\"#DejaVuSans-101\"/>\n      <use x=\"405.912109\" xlink:href=\"#DejaVuSans-100\"/>\n      <use x=\"469.388672\" xlink:href=\"#DejaVuSans-32\"/>\n      <use x=\"501.175781\" xlink:href=\"#DejaVuSans-108\"/>\n      <use x=\"528.958984\" xlink:href=\"#DejaVuSans-97\"/>\n      <use x=\"590.238281\" xlink:href=\"#DejaVuSans-98\"/>\n      <use x=\"653.714844\" xlink:href=\"#DejaVuSans-101\"/>\n      <use x=\"715.238281\" xlink:href=\"#DejaVuSans-108\"/>\n     </g>\n    </g>\n   </g>\n   <g id=\"matplotlib.axis_2\">\n    <g id=\"ytick_1\">\n     <g id=\"line2d_3\">\n      <defs>\n       <path d=\"M 0 0 \nL -3.5 0 \n\" id=\"m6e7c27ff35\" style=\"stroke:#000000;stroke-width:0.8;\"/>\n      </defs>\n      <g>\n       <use style=\"stroke:#000000;stroke-width:0.8;\" x=\"34.240625\" xlink:href=\"#m6e7c27ff35\" y=\"61.56\"/>\n      </g>\n     </g>\n     <g id=\"text_4\">\n      <!-- 0 -->\n      <g transform=\"translate(20.878125 65.359219)scale(0.1 -0.1)\">\n       <use xlink:href=\"#DejaVuSans-48\"/>\n      </g>\n     </g>\n    </g>\n    <g id=\"ytick_2\">\n     <g id=\"line2d_4\">\n      <g>\n       <use style=\"stroke:#000000;stroke-width:0.8;\" x=\"34.240625\" xlink:href=\"#m6e7c27ff35\" y=\"170.28\"/>\n      </g>\n     </g>\n     <g id=\"text_5\">\n      <!-- 1 -->\n      <g transform=\"translate(20.878125 174.079219)scale(0.1 -0.1)\">\n       <use xlink:href=\"#DejaVuSans-49\"/>\n      </g>\n     </g>\n    </g>\n    <g id=\"text_6\">\n     <!-- True label -->\n     <defs>\n      <path d=\"M -0.296875 72.90625 \nL 61.375 72.90625 \nL 61.375 64.59375 \nL 35.5 64.59375 \nL 35.5 0 \nL 25.59375 0 \nL 25.59375 64.59375 \nL -0.296875 64.59375 \nz\n\" id=\"DejaVuSans-84\"/>\n      <path d=\"M 8.5 21.578125 \nL 8.5 54.6875 \nL 17.484375 54.6875 \nL 17.484375 21.921875 \nQ 17.484375 14.15625 20.5 10.265625 \nQ 23.53125 6.390625 29.59375 6.390625 \nQ 36.859375 6.390625 41.078125 11.03125 \nQ 45.3125 15.671875 45.3125 23.6875 \nL 45.3125 54.6875 \nL 54.296875 54.6875 \nL 54.296875 0 \nL 45.3125 0 \nL 45.3125 8.40625 \nQ 42.046875 3.421875 37.71875 1 \nQ 33.40625 -1.421875 27.6875 -1.421875 \nQ 18.265625 -1.421875 13.375 4.4375 \nQ 8.5 10.296875 8.5 21.578125 \nz\nM 31.109375 56 \nz\n\" id=\"DejaVuSans-117\"/>\n     </defs>\n     <g transform=\"translate(14.798437 140.219219)rotate(-90)scale(0.1 -0.1)\">\n      <use xlink:href=\"#DejaVuSans-84\"/>\n      <use x=\"46.333984\" xlink:href=\"#DejaVuSans-114\"/>\n      <use x=\"87.447266\" xlink:href=\"#DejaVuSans-117\"/>\n      <use x=\"150.826172\" xlink:href=\"#DejaVuSans-101\"/>\n      <use x=\"212.349609\" xlink:href=\"#DejaVuSans-32\"/>\n      <use x=\"244.136719\" xlink:href=\"#DejaVuSans-108\"/>\n      <use x=\"271.919922\" xlink:href=\"#DejaVuSans-97\"/>\n      <use x=\"333.199219\" xlink:href=\"#DejaVuSans-98\"/>\n      <use x=\"396.675781\" xlink:href=\"#DejaVuSans-101\"/>\n      <use x=\"458.199219\" xlink:href=\"#DejaVuSans-108\"/>\n     </g>\n    </g>\n   </g>\n   <g id=\"patch_3\">\n    <path d=\"M 34.240625 224.64 \nL 34.240625 7.2 \n\" style=\"fill:none;stroke:#000000;stroke-linecap:square;stroke-linejoin:miter;stroke-width:0.8;\"/>\n   </g>\n   <g id=\"patch_4\">\n    <path d=\"M 251.680625 224.64 \nL 251.680625 7.2 \n\" style=\"fill:none;stroke:#000000;stroke-linecap:square;stroke-linejoin:miter;stroke-width:0.8;\"/>\n   </g>\n   <g id=\"patch_5\">\n    <path d=\"M 34.240625 224.64 \nL 251.680625 224.64 \n\" style=\"fill:none;stroke:#000000;stroke-linecap:square;stroke-linejoin:miter;stroke-width:0.8;\"/>\n   </g>\n   <g id=\"patch_6\">\n    <path d=\"M 34.240625 7.2 \nL 251.680625 7.2 \n\" style=\"fill:none;stroke:#000000;stroke-linecap:square;stroke-linejoin:miter;stroke-width:0.8;\"/>\n   </g>\n   <g id=\"text_7\">\n    <!-- 519 -->\n    <defs>\n     <path d=\"M 10.796875 72.90625 \nL 49.515625 72.90625 \nL 49.515625 64.59375 \nL 19.828125 64.59375 \nL 19.828125 46.734375 \nQ 21.96875 47.46875 24.109375 47.828125 \nQ 26.265625 48.1875 28.421875 48.1875 \nQ 40.625 48.1875 47.75 41.5 \nQ 54.890625 34.8125 54.890625 23.390625 \nQ 54.890625 11.625 47.5625 5.09375 \nQ 40.234375 -1.421875 26.90625 -1.421875 \nQ 22.3125 -1.421875 17.546875 -0.640625 \nQ 12.796875 0.140625 7.71875 1.703125 \nL 7.71875 11.625 \nQ 12.109375 9.234375 16.796875 8.0625 \nQ 21.484375 6.890625 26.703125 6.890625 \nQ 35.15625 6.890625 40.078125 11.328125 \nQ 45.015625 15.765625 45.015625 23.390625 \nQ 45.015625 31 40.078125 35.4375 \nQ 35.15625 39.890625 26.703125 39.890625 \nQ 22.75 39.890625 18.8125 39.015625 \nQ 14.890625 38.140625 10.796875 36.28125 \nz\n\" id=\"DejaVuSans-53\"/>\n     <path d=\"M 10.984375 1.515625 \nL 10.984375 10.5 \nQ 14.703125 8.734375 18.5 7.8125 \nQ 22.3125 6.890625 25.984375 6.890625 \nQ 35.75 6.890625 40.890625 13.453125 \nQ 46.046875 20.015625 46.78125 33.40625 \nQ 43.953125 29.203125 39.59375 26.953125 \nQ 35.25 24.703125 29.984375 24.703125 \nQ 19.046875 24.703125 12.671875 31.3125 \nQ 6.296875 37.9375 6.296875 49.421875 \nQ 6.296875 60.640625 12.9375 67.421875 \nQ 19.578125 74.21875 30.609375 74.21875 \nQ 43.265625 74.21875 49.921875 64.515625 \nQ 56.59375 54.828125 56.59375 36.375 \nQ 56.59375 19.140625 48.40625 8.859375 \nQ 40.234375 -1.421875 26.421875 -1.421875 \nQ 22.703125 -1.421875 18.890625 -0.6875 \nQ 15.09375 0.046875 10.984375 1.515625 \nz\nM 30.609375 32.421875 \nQ 37.25 32.421875 41.125 36.953125 \nQ 45.015625 41.5 45.015625 49.421875 \nQ 45.015625 57.28125 41.125 61.84375 \nQ 37.25 66.40625 30.609375 66.40625 \nQ 23.96875 66.40625 20.09375 61.84375 \nQ 16.21875 57.28125 16.21875 49.421875 \nQ 16.21875 41.5 20.09375 36.953125 \nQ 23.96875 32.421875 30.609375 32.421875 \nz\n\" id=\"DejaVuSans-57\"/>\n    </defs>\n    <g style=\"fill:#08306b;\" transform=\"translate(79.056875 64.319375)scale(0.1 -0.1)\">\n     <use xlink:href=\"#DejaVuSans-53\"/>\n     <use x=\"63.623047\" xlink:href=\"#DejaVuSans-49\"/>\n     <use x=\"127.246094\" xlink:href=\"#DejaVuSans-57\"/>\n    </g>\n   </g>\n   <g id=\"text_8\">\n    <!-- 14800 -->\n    <defs>\n     <path d=\"M 37.796875 64.3125 \nL 12.890625 25.390625 \nL 37.796875 25.390625 \nz\nM 35.203125 72.90625 \nL 47.609375 72.90625 \nL 47.609375 25.390625 \nL 58.015625 25.390625 \nL 58.015625 17.1875 \nL 47.609375 17.1875 \nL 47.609375 0 \nL 37.796875 0 \nL 37.796875 17.1875 \nL 4.890625 17.1875 \nL 4.890625 26.703125 \nz\n\" id=\"DejaVuSans-52\"/>\n     <path d=\"M 31.78125 34.625 \nQ 24.75 34.625 20.71875 30.859375 \nQ 16.703125 27.09375 16.703125 20.515625 \nQ 16.703125 13.921875 20.71875 10.15625 \nQ 24.75 6.390625 31.78125 6.390625 \nQ 38.8125 6.390625 42.859375 10.171875 \nQ 46.921875 13.96875 46.921875 20.515625 \nQ 46.921875 27.09375 42.890625 30.859375 \nQ 38.875 34.625 31.78125 34.625 \nz\nM 21.921875 38.8125 \nQ 15.578125 40.375 12.03125 44.71875 \nQ 8.5 49.078125 8.5 55.328125 \nQ 8.5 64.0625 14.71875 69.140625 \nQ 20.953125 74.21875 31.78125 74.21875 \nQ 42.671875 74.21875 48.875 69.140625 \nQ 55.078125 64.0625 55.078125 55.328125 \nQ 55.078125 49.078125 51.53125 44.71875 \nQ 48 40.375 41.703125 38.8125 \nQ 48.828125 37.15625 52.796875 32.3125 \nQ 56.78125 27.484375 56.78125 20.515625 \nQ 56.78125 9.90625 50.3125 4.234375 \nQ 43.84375 -1.421875 31.78125 -1.421875 \nQ 19.734375 -1.421875 13.25 4.234375 \nQ 6.78125 9.90625 6.78125 20.515625 \nQ 6.78125 27.484375 10.78125 32.3125 \nQ 14.796875 37.15625 21.921875 38.8125 \nz\nM 18.3125 54.390625 \nQ 18.3125 48.734375 21.84375 45.5625 \nQ 25.390625 42.390625 31.78125 42.390625 \nQ 38.140625 42.390625 41.71875 45.5625 \nQ 45.3125 48.734375 45.3125 54.390625 \nQ 45.3125 60.0625 41.71875 63.234375 \nQ 38.140625 66.40625 31.78125 66.40625 \nQ 25.390625 66.40625 21.84375 63.234375 \nQ 18.3125 60.0625 18.3125 54.390625 \nz\n\" id=\"DejaVuSans-56\"/>\n    </defs>\n    <g style=\"fill:#f7fbff;\" transform=\"translate(181.414375 64.319375)scale(0.1 -0.1)\">\n     <use xlink:href=\"#DejaVuSans-49\"/>\n     <use x=\"63.623047\" xlink:href=\"#DejaVuSans-52\"/>\n     <use x=\"127.246094\" xlink:href=\"#DejaVuSans-56\"/>\n     <use x=\"190.869141\" xlink:href=\"#DejaVuSans-48\"/>\n     <use x=\"254.492188\" xlink:href=\"#DejaVuSans-48\"/>\n    </g>\n   </g>\n   <g id=\"text_9\">\n    <!-- 9 -->\n    <g style=\"fill:#08306b;\" transform=\"translate(85.419375 173.039375)scale(0.1 -0.1)\">\n     <use xlink:href=\"#DejaVuSans-57\"/>\n    </g>\n   </g>\n   <g id=\"text_10\">\n    <!-- 637 -->\n    <defs>\n     <path d=\"M 33.015625 40.375 \nQ 26.375 40.375 22.484375 35.828125 \nQ 18.609375 31.296875 18.609375 23.390625 \nQ 18.609375 15.53125 22.484375 10.953125 \nQ 26.375 6.390625 33.015625 6.390625 \nQ 39.65625 6.390625 43.53125 10.953125 \nQ 47.40625 15.53125 47.40625 23.390625 \nQ 47.40625 31.296875 43.53125 35.828125 \nQ 39.65625 40.375 33.015625 40.375 \nz\nM 52.59375 71.296875 \nL 52.59375 62.3125 \nQ 48.875 64.0625 45.09375 64.984375 \nQ 41.3125 65.921875 37.59375 65.921875 \nQ 27.828125 65.921875 22.671875 59.328125 \nQ 17.53125 52.734375 16.796875 39.40625 \nQ 19.671875 43.65625 24.015625 45.921875 \nQ 28.375 48.1875 33.59375 48.1875 \nQ 44.578125 48.1875 50.953125 41.515625 \nQ 57.328125 34.859375 57.328125 23.390625 \nQ 57.328125 12.15625 50.6875 5.359375 \nQ 44.046875 -1.421875 33.015625 -1.421875 \nQ 20.359375 -1.421875 13.671875 8.265625 \nQ 6.984375 17.96875 6.984375 36.375 \nQ 6.984375 53.65625 15.1875 63.9375 \nQ 23.390625 74.21875 37.203125 74.21875 \nQ 40.921875 74.21875 44.703125 73.484375 \nQ 48.484375 72.75 52.59375 71.296875 \nz\n\" id=\"DejaVuSans-54\"/>\n     <path d=\"M 40.578125 39.3125 \nQ 47.65625 37.796875 51.625 33 \nQ 55.609375 28.21875 55.609375 21.1875 \nQ 55.609375 10.40625 48.1875 4.484375 \nQ 40.765625 -1.421875 27.09375 -1.421875 \nQ 22.515625 -1.421875 17.65625 -0.515625 \nQ 12.796875 0.390625 7.625 2.203125 \nL 7.625 11.71875 \nQ 11.71875 9.328125 16.59375 8.109375 \nQ 21.484375 6.890625 26.8125 6.890625 \nQ 36.078125 6.890625 40.9375 10.546875 \nQ 45.796875 14.203125 45.796875 21.1875 \nQ 45.796875 27.640625 41.28125 31.265625 \nQ 36.765625 34.90625 28.71875 34.90625 \nL 20.21875 34.90625 \nL 20.21875 43.015625 \nL 29.109375 43.015625 \nQ 36.375 43.015625 40.234375 45.921875 \nQ 44.09375 48.828125 44.09375 54.296875 \nQ 44.09375 59.90625 40.109375 62.90625 \nQ 36.140625 65.921875 28.71875 65.921875 \nQ 24.65625 65.921875 20.015625 65.03125 \nQ 15.375 64.15625 9.8125 62.3125 \nL 9.8125 71.09375 \nQ 15.4375 72.65625 20.34375 73.4375 \nQ 25.25 74.21875 29.59375 74.21875 \nQ 40.828125 74.21875 47.359375 69.109375 \nQ 53.90625 64.015625 53.90625 55.328125 \nQ 53.90625 49.265625 50.4375 45.09375 \nQ 46.96875 40.921875 40.578125 39.3125 \nz\n\" id=\"DejaVuSans-51\"/>\n     <path d=\"M 8.203125 72.90625 \nL 55.078125 72.90625 \nL 55.078125 68.703125 \nL 28.609375 0 \nL 18.3125 0 \nL 43.21875 64.59375 \nL 8.203125 64.59375 \nz\n\" id=\"DejaVuSans-55\"/>\n    </defs>\n    <g style=\"fill:#08306b;\" transform=\"translate(187.776875 173.039375)scale(0.1 -0.1)\">\n     <use xlink:href=\"#DejaVuSans-54\"/>\n     <use x=\"63.623047\" xlink:href=\"#DejaVuSans-51\"/>\n     <use x=\"127.246094\" xlink:href=\"#DejaVuSans-55\"/>\n    </g>\n   </g>\n  </g>\n  <g id=\"axes_2\">\n   <g id=\"patch_7\">\n    <path clip-path=\"url(#p9a8ea13273)\" d=\"M 268.420625 224.64 \nL 268.420625 223.790625 \nL 268.420625 8.049375 \nL 268.420625 7.2 \nL 279.292625 7.2 \nL 279.292625 8.049375 \nL 279.292625 223.790625 \nL 279.292625 224.64 \nz\n\" style=\"fill:#ffffff;stroke:#ffffff;stroke-linejoin:miter;stroke-width:0.01;\"/>\n   </g>\n   <image height=\"217\" id=\"image6aa5731f20\" transform=\"scale(1 -1)translate(0 -217)\" width=\"11\" x=\"268\" xlink:href=\"data:image/png;base64,\niVBORw0KGgoAAAANSUhEUgAAAAsAAADZCAYAAAD2WsoCAAAABHNCSVQICAgIfAhkiAAAARxJREFUaIHtmDEOAjEQAwPK/59LgciGFrpMMciL7mpr5dheJ7rb47n3OPzmHsfYMc/nYjChAbBjAizkXAB9ByxM6UIchJMBGGYDcC5NupEhHcwG4ezR0HqD2d2wvjr2Rop0V/h/QiNEOu1VkHJAZDc8oHbDag4udMAMzpWR5zof7LaoxblARhlnszfA5OVVgZc67XGCqkBsUe3uXiTPXj97DiKdF+gC08FzrEnDywa0O6LMPZ3ZPSi2qLewEdJ5/dwxG2i7PZ3NvxCo+SN2MCQb7JXLaESoAQ9o0QiZbNoNaHhB8uzuGKSQ7WZ/AsVsnL8ZUzgzcIbdIdn4f7uvbHyAod2IRsPJ9bImt1RjRdBAk8nCXnZ/gTvabU1+A25V4hFkL86SAAAAAElFTkSuQmCC\" y=\"-7\"/>\n   <g id=\"matplotlib.axis_3\"/>\n   <g id=\"matplotlib.axis_4\">\n    <g id=\"ytick_3\">\n     <g id=\"line2d_5\">\n      <defs>\n       <path d=\"M 0 0 \nL 3.5 0 \n\" id=\"m4d0065363e\" style=\"stroke:#000000;stroke-width:0.8;\"/>\n      </defs>\n      <g>\n       <use style=\"stroke:#000000;stroke-width:0.8;\" x=\"279.292625\" xlink:href=\"#m4d0065363e\" y=\"195.370644\"/>\n      </g>\n     </g>\n     <g id=\"text_11\">\n      <!-- 2000 -->\n      <defs>\n       <path d=\"M 19.1875 8.296875 \nL 53.609375 8.296875 \nL 53.609375 0 \nL 7.328125 0 \nL 7.328125 8.296875 \nQ 12.9375 14.109375 22.625 23.890625 \nQ 32.328125 33.6875 34.8125 36.53125 \nQ 39.546875 41.84375 41.421875 45.53125 \nQ 43.3125 49.21875 43.3125 52.78125 \nQ 43.3125 58.59375 39.234375 62.25 \nQ 35.15625 65.921875 28.609375 65.921875 \nQ 23.96875 65.921875 18.8125 64.3125 \nQ 13.671875 62.703125 7.8125 59.421875 \nL 7.8125 69.390625 \nQ 13.765625 71.78125 18.9375 73 \nQ 24.125 74.21875 28.421875 74.21875 \nQ 39.75 74.21875 46.484375 68.546875 \nQ 53.21875 62.890625 53.21875 53.421875 \nQ 53.21875 48.921875 51.53125 44.890625 \nQ 49.859375 40.875 45.40625 35.40625 \nQ 44.1875 33.984375 37.640625 27.21875 \nQ 31.109375 20.453125 19.1875 8.296875 \nz\n\" id=\"DejaVuSans-50\"/>\n      </defs>\n      <g transform=\"translate(286.292625 199.169863)scale(0.1 -0.1)\">\n       <use xlink:href=\"#DejaVuSans-50\"/>\n       <use x=\"63.623047\" xlink:href=\"#DejaVuSans-48\"/>\n       <use x=\"127.246094\" xlink:href=\"#DejaVuSans-48\"/>\n       <use x=\"190.869141\" xlink:href=\"#DejaVuSans-48\"/>\n      </g>\n     </g>\n    </g>\n    <g id=\"ytick_4\">\n     <g id=\"line2d_6\">\n      <g>\n       <use style=\"stroke:#000000;stroke-width:0.8;\" x=\"279.292625\" xlink:href=\"#m4d0065363e\" y=\"165.968981\"/>\n      </g>\n     </g>\n     <g id=\"text_12\">\n      <!-- 4000 -->\n      <g transform=\"translate(286.292625 169.7682)scale(0.1 -0.1)\">\n       <use xlink:href=\"#DejaVuSans-52\"/>\n       <use x=\"63.623047\" xlink:href=\"#DejaVuSans-48\"/>\n       <use x=\"127.246094\" xlink:href=\"#DejaVuSans-48\"/>\n       <use x=\"190.869141\" xlink:href=\"#DejaVuSans-48\"/>\n      </g>\n     </g>\n    </g>\n    <g id=\"ytick_5\">\n     <g id=\"line2d_7\">\n      <g>\n       <use style=\"stroke:#000000;stroke-width:0.8;\" x=\"279.292625\" xlink:href=\"#m4d0065363e\" y=\"136.567318\"/>\n      </g>\n     </g>\n     <g id=\"text_13\">\n      <!-- 6000 -->\n      <g transform=\"translate(286.292625 140.366537)scale(0.1 -0.1)\">\n       <use xlink:href=\"#DejaVuSans-54\"/>\n       <use x=\"63.623047\" xlink:href=\"#DejaVuSans-48\"/>\n       <use x=\"127.246094\" xlink:href=\"#DejaVuSans-48\"/>\n       <use x=\"190.869141\" xlink:href=\"#DejaVuSans-48\"/>\n      </g>\n     </g>\n    </g>\n    <g id=\"ytick_6\">\n     <g id=\"line2d_8\">\n      <g>\n       <use style=\"stroke:#000000;stroke-width:0.8;\" x=\"279.292625\" xlink:href=\"#m4d0065363e\" y=\"107.165655\"/>\n      </g>\n     </g>\n     <g id=\"text_14\">\n      <!-- 8000 -->\n      <g transform=\"translate(286.292625 110.964874)scale(0.1 -0.1)\">\n       <use xlink:href=\"#DejaVuSans-56\"/>\n       <use x=\"63.623047\" xlink:href=\"#DejaVuSans-48\"/>\n       <use x=\"127.246094\" xlink:href=\"#DejaVuSans-48\"/>\n       <use x=\"190.869141\" xlink:href=\"#DejaVuSans-48\"/>\n      </g>\n     </g>\n    </g>\n    <g id=\"ytick_7\">\n     <g id=\"line2d_9\">\n      <g>\n       <use style=\"stroke:#000000;stroke-width:0.8;\" x=\"279.292625\" xlink:href=\"#m4d0065363e\" y=\"77.763992\"/>\n      </g>\n     </g>\n     <g id=\"text_15\">\n      <!-- 10000 -->\n      <g transform=\"translate(286.292625 81.56321)scale(0.1 -0.1)\">\n       <use xlink:href=\"#DejaVuSans-49\"/>\n       <use x=\"63.623047\" xlink:href=\"#DejaVuSans-48\"/>\n       <use x=\"127.246094\" xlink:href=\"#DejaVuSans-48\"/>\n       <use x=\"190.869141\" xlink:href=\"#DejaVuSans-48\"/>\n       <use x=\"254.492188\" xlink:href=\"#DejaVuSans-48\"/>\n      </g>\n     </g>\n    </g>\n    <g id=\"ytick_8\">\n     <g id=\"line2d_10\">\n      <g>\n       <use style=\"stroke:#000000;stroke-width:0.8;\" x=\"279.292625\" xlink:href=\"#m4d0065363e\" y=\"48.362328\"/>\n      </g>\n     </g>\n     <g id=\"text_16\">\n      <!-- 12000 -->\n      <g transform=\"translate(286.292625 52.161547)scale(0.1 -0.1)\">\n       <use xlink:href=\"#DejaVuSans-49\"/>\n       <use x=\"63.623047\" xlink:href=\"#DejaVuSans-50\"/>\n       <use x=\"127.246094\" xlink:href=\"#DejaVuSans-48\"/>\n       <use x=\"190.869141\" xlink:href=\"#DejaVuSans-48\"/>\n       <use x=\"254.492188\" xlink:href=\"#DejaVuSans-48\"/>\n      </g>\n     </g>\n    </g>\n    <g id=\"ytick_9\">\n     <g id=\"line2d_11\">\n      <g>\n       <use style=\"stroke:#000000;stroke-width:0.8;\" x=\"279.292625\" xlink:href=\"#m4d0065363e\" y=\"18.960665\"/>\n      </g>\n     </g>\n     <g id=\"text_17\">\n      <!-- 14000 -->\n      <g transform=\"translate(286.292625 22.759884)scale(0.1 -0.1)\">\n       <use xlink:href=\"#DejaVuSans-49\"/>\n       <use x=\"63.623047\" xlink:href=\"#DejaVuSans-52\"/>\n       <use x=\"127.246094\" xlink:href=\"#DejaVuSans-48\"/>\n       <use x=\"190.869141\" xlink:href=\"#DejaVuSans-48\"/>\n       <use x=\"254.492188\" xlink:href=\"#DejaVuSans-48\"/>\n      </g>\n     </g>\n    </g>\n   </g>\n   <g id=\"patch_8\">\n    <path d=\"M 268.420625 224.64 \nL 268.420625 223.790625 \nL 268.420625 8.049375 \nL 268.420625 7.2 \nL 279.292625 7.2 \nL 279.292625 8.049375 \nL 279.292625 223.790625 \nL 279.292625 224.64 \nz\n\" style=\"fill:none;stroke:#000000;stroke-linejoin:miter;stroke-width:0.8;\"/>\n   </g>\n  </g>\n </g>\n <defs>\n  <clipPath id=\"pd7342b2c6f\">\n   <rect height=\"217.44\" width=\"217.44\" x=\"34.240625\" y=\"7.2\"/>\n  </clipPath>\n  <clipPath id=\"p9a8ea13273\">\n   <rect height=\"217.44\" width=\"10.872\" x=\"268.420625\" y=\"7.2\"/>\n  </clipPath>\n </defs>\n</svg>\n",
      "image/png": "[encoded data removed]"
     },
     "metadata": {
      "needs_background": "light"
     }
    }
   ],
   "source": [
    "plot_confusion_matrix(NB_pipeline, X_test, y_test,cmap=plt.cm.Blues); "
   ]
  },
  {
   "cell_type": "code",
   "execution_count": 32,
   "metadata": {},
   "outputs": [
    {
     "output_type": "execute_result",
     "data": {
      "text/plain": "0.9860681114551083"
     },
     "metadata": {},
     "execution_count": 32
    }
   ],
   "source": [
    "tn, fp, fn, tp = confusion_matrix(y_test, y_pred).ravel()\n",
    "sensitivity = tp / (tp+fn)\n",
    "sensitivity"
   ]
  },
  {
   "cell_type": "code",
   "execution_count": 33,
   "metadata": {},
   "outputs": [
    {
     "output_type": "execute_result",
     "data": {
      "text/plain": "0.9829545454545454"
     },
     "metadata": {},
     "execution_count": 33
    }
   ],
   "source": [
    "Negative_predictive_value = tn /(tn+fn)\n",
    "Negative_predictive_value"
   ]
  },
  {
   "source": [
    "# Model Interpretability\n",
    "The selected Model is the Naïve Bayes in a pipeline with a standard scaler,\n",
    "the sensitivity result is higher\n",
    "\n",
    "The permutation feature importance is defined to be the decrease in a model score when a single feature value is randomly shuffled "
   ],
   "cell_type": "markdown",
   "metadata": {}
  },
  {
   "cell_type": "code",
   "execution_count": 34,
   "metadata": {},
   "outputs": [],
   "source": [
    "from sklearn.inspection import permutation_importance"
   ]
  },
  {
   "cell_type": "code",
   "execution_count": 41,
   "metadata": {
    "tags": []
   },
   "outputs": [],
   "source": [
    "imps = permutation_importance(NB_pipeline, X_test, y_test, n_repeats = 5,scoring='recall', n_jobs=-1, random_state=42)"
   ]
  },
  {
   "cell_type": "code",
   "execution_count": 42,
   "metadata": {},
   "outputs": [
    {
     "output_type": "display_data",
     "data": {
      "text/plain": "<Figure size 720x2160 with 1 Axes>",
      "image/svg+xml": "<?xml version=\"1.0\" encoding=\"utf-8\" standalone=\"no\"?>\n<!DOCTYPE svg PUBLIC \"-//W3C//DTD SVG 1.1//EN\"\n  \"http://www.w3.org/Graphics/SVG/1.1/DTD/svg11.dtd\">\n<!-- Created with matplotlib (https://matplotlib.org/) -->\n<svg height=\"1676.99625pt\" version=\"1.1\" viewBox=\"0 0 836.492188 1676.99625\" width=\"836.492188pt\" xmlns=\"http://www.w3.org/2000/svg\" xmlns:xlink=\"http://www.w3.org/1999/xlink\">\n <defs>\n  <style type=\"text/css\">\n*{stroke-linecap:butt;stroke-linejoin:round;}\n  </style>\n </defs>\n <g id=\"figure_1\">\n  <g id=\"patch_1\">\n   <path d=\"M 0 1676.99625 \nL 836.492187 1676.99625 \nL 836.492187 0 \nL 0 0 \nz\n\" style=\"fill:none;\"/>\n  </g>\n  <g id=\"axes_1\">\n   <g id=\"patch_2\">\n    <path d=\"M 271.292188 1653.118125 \nL 829.292188 1653.118125 \nL 829.292188 22.318125 \nL 271.292188 22.318125 \nz\n\" style=\"fill:#ffffff;\"/>\n   </g>\n   <g id=\"matplotlib.axis_1\">\n    <g id=\"xtick_1\">\n     <g id=\"line2d_1\">\n      <defs>\n       <path d=\"M 0 0 \nL 0 3.5 \n\" id=\"m8b06454ef8\" style=\"stroke:#000000;stroke-width:0.8;\"/>\n      </defs>\n      <g>\n       <use style=\"stroke:#000000;stroke-width:0.8;\" x=\"286.049212\" xlink:href=\"#m8b06454ef8\" y=\"1653.118125\"/>\n      </g>\n     </g>\n     <g id=\"text_1\">\n      <!-- −0.0050 -->\n      <defs>\n       <path d=\"M 10.59375 35.5 \nL 73.1875 35.5 \nL 73.1875 27.203125 \nL 10.59375 27.203125 \nz\n\" id=\"DejaVuSans-8722\"/>\n       <path d=\"M 31.78125 66.40625 \nQ 24.171875 66.40625 20.328125 58.90625 \nQ 16.5 51.421875 16.5 36.375 \nQ 16.5 21.390625 20.328125 13.890625 \nQ 24.171875 6.390625 31.78125 6.390625 \nQ 39.453125 6.390625 43.28125 13.890625 \nQ 47.125 21.390625 47.125 36.375 \nQ 47.125 51.421875 43.28125 58.90625 \nQ 39.453125 66.40625 31.78125 66.40625 \nz\nM 31.78125 74.21875 \nQ 44.046875 74.21875 50.515625 64.515625 \nQ 56.984375 54.828125 56.984375 36.375 \nQ 56.984375 17.96875 50.515625 8.265625 \nQ 44.046875 -1.421875 31.78125 -1.421875 \nQ 19.53125 -1.421875 13.0625 8.265625 \nQ 6.59375 17.96875 6.59375 36.375 \nQ 6.59375 54.828125 13.0625 64.515625 \nQ 19.53125 74.21875 31.78125 74.21875 \nz\n\" id=\"DejaVuSans-48\"/>\n       <path d=\"M 10.6875 12.40625 \nL 21 12.40625 \nL 21 0 \nL 10.6875 0 \nz\n\" id=\"DejaVuSans-46\"/>\n       <path d=\"M 10.796875 72.90625 \nL 49.515625 72.90625 \nL 49.515625 64.59375 \nL 19.828125 64.59375 \nL 19.828125 46.734375 \nQ 21.96875 47.46875 24.109375 47.828125 \nQ 26.265625 48.1875 28.421875 48.1875 \nQ 40.625 48.1875 47.75 41.5 \nQ 54.890625 34.8125 54.890625 23.390625 \nQ 54.890625 11.625 47.5625 5.09375 \nQ 40.234375 -1.421875 26.90625 -1.421875 \nQ 22.3125 -1.421875 17.546875 -0.640625 \nQ 12.796875 0.140625 7.71875 1.703125 \nL 7.71875 11.625 \nQ 12.109375 9.234375 16.796875 8.0625 \nQ 21.484375 6.890625 26.703125 6.890625 \nQ 35.15625 6.890625 40.078125 11.328125 \nQ 45.015625 15.765625 45.015625 23.390625 \nQ 45.015625 31 40.078125 35.4375 \nQ 35.15625 39.890625 26.703125 39.890625 \nQ 22.75 39.890625 18.8125 39.015625 \nQ 14.890625 38.140625 10.796875 36.28125 \nz\n\" id=\"DejaVuSans-53\"/>\n      </defs>\n      <g transform=\"translate(264.364056 1667.716563)scale(0.1 -0.1)\">\n       <use xlink:href=\"#DejaVuSans-8722\"/>\n       <use x=\"83.789062\" xlink:href=\"#DejaVuSans-48\"/>\n       <use x=\"147.412109\" xlink:href=\"#DejaVuSans-46\"/>\n       <use x=\"179.199219\" xlink:href=\"#DejaVuSans-48\"/>\n       <use x=\"242.822266\" xlink:href=\"#DejaVuSans-48\"/>\n       <use x=\"306.445312\" xlink:href=\"#DejaVuSans-53\"/>\n       <use x=\"370.068359\" xlink:href=\"#DejaVuSans-48\"/>\n      </g>\n     </g>\n    </g>\n    <g id=\"xtick_2\">\n     <g id=\"line2d_2\">\n      <g>\n       <use style=\"stroke:#000000;stroke-width:0.8;\" x=\"360.526072\" xlink:href=\"#m8b06454ef8\" y=\"1653.118125\"/>\n      </g>\n     </g>\n     <g id=\"text_2\">\n      <!-- −0.0025 -->\n      <defs>\n       <path d=\"M 19.1875 8.296875 \nL 53.609375 8.296875 \nL 53.609375 0 \nL 7.328125 0 \nL 7.328125 8.296875 \nQ 12.9375 14.109375 22.625 23.890625 \nQ 32.328125 33.6875 34.8125 36.53125 \nQ 39.546875 41.84375 41.421875 45.53125 \nQ 43.3125 49.21875 43.3125 52.78125 \nQ 43.3125 58.59375 39.234375 62.25 \nQ 35.15625 65.921875 28.609375 65.921875 \nQ 23.96875 65.921875 18.8125 64.3125 \nQ 13.671875 62.703125 7.8125 59.421875 \nL 7.8125 69.390625 \nQ 13.765625 71.78125 18.9375 73 \nQ 24.125 74.21875 28.421875 74.21875 \nQ 39.75 74.21875 46.484375 68.546875 \nQ 53.21875 62.890625 53.21875 53.421875 \nQ 53.21875 48.921875 51.53125 44.890625 \nQ 49.859375 40.875 45.40625 35.40625 \nQ 44.1875 33.984375 37.640625 27.21875 \nQ 31.109375 20.453125 19.1875 8.296875 \nz\n\" id=\"DejaVuSans-50\"/>\n      </defs>\n      <g transform=\"translate(338.840916 1667.716563)scale(0.1 -0.1)\">\n       <use xlink:href=\"#DejaVuSans-8722\"/>\n       <use x=\"83.789062\" xlink:href=\"#DejaVuSans-48\"/>\n       <use x=\"147.412109\" xlink:href=\"#DejaVuSans-46\"/>\n       <use x=\"179.199219\" xlink:href=\"#DejaVuSans-48\"/>\n       <use x=\"242.822266\" xlink:href=\"#DejaVuSans-48\"/>\n       <use x=\"306.445312\" xlink:href=\"#DejaVuSans-50\"/>\n       <use x=\"370.068359\" xlink:href=\"#DejaVuSans-53\"/>\n      </g>\n     </g>\n    </g>\n    <g id=\"xtick_3\">\n     <g id=\"line2d_3\">\n      <g>\n       <use style=\"stroke:#000000;stroke-width:0.8;\" x=\"435.002931\" xlink:href=\"#m8b06454ef8\" y=\"1653.118125\"/>\n      </g>\n     </g>\n     <g id=\"text_3\">\n      <!-- 0.0000 -->\n      <g transform=\"translate(417.507619 1667.716563)scale(0.1 -0.1)\">\n       <use xlink:href=\"#DejaVuSans-48\"/>\n       <use x=\"63.623047\" xlink:href=\"#DejaVuSans-46\"/>\n       <use x=\"95.410156\" xlink:href=\"#DejaVuSans-48\"/>\n       <use x=\"159.033203\" xlink:href=\"#DejaVuSans-48\"/>\n       <use x=\"222.65625\" xlink:href=\"#DejaVuSans-48\"/>\n       <use x=\"286.279297\" xlink:href=\"#DejaVuSans-48\"/>\n      </g>\n     </g>\n    </g>\n    <g id=\"xtick_4\">\n     <g id=\"line2d_4\">\n      <g>\n       <use style=\"stroke:#000000;stroke-width:0.8;\" x=\"509.479791\" xlink:href=\"#m8b06454ef8\" y=\"1653.118125\"/>\n      </g>\n     </g>\n     <g id=\"text_4\">\n      <!-- 0.0025 -->\n      <g transform=\"translate(491.984478 1667.716563)scale(0.1 -0.1)\">\n       <use xlink:href=\"#DejaVuSans-48\"/>\n       <use x=\"63.623047\" xlink:href=\"#DejaVuSans-46\"/>\n       <use x=\"95.410156\" xlink:href=\"#DejaVuSans-48\"/>\n       <use x=\"159.033203\" xlink:href=\"#DejaVuSans-48\"/>\n       <use x=\"222.65625\" xlink:href=\"#DejaVuSans-50\"/>\n       <use x=\"286.279297\" xlink:href=\"#DejaVuSans-53\"/>\n      </g>\n     </g>\n    </g>\n    <g id=\"xtick_5\">\n     <g id=\"line2d_5\">\n      <g>\n       <use style=\"stroke:#000000;stroke-width:0.8;\" x=\"583.95665\" xlink:href=\"#m8b06454ef8\" y=\"1653.118125\"/>\n      </g>\n     </g>\n     <g id=\"text_5\">\n      <!-- 0.0050 -->\n      <g transform=\"translate(566.461338 1667.716563)scale(0.1 -0.1)\">\n       <use xlink:href=\"#DejaVuSans-48\"/>\n       <use x=\"63.623047\" xlink:href=\"#DejaVuSans-46\"/>\n       <use x=\"95.410156\" xlink:href=\"#DejaVuSans-48\"/>\n       <use x=\"159.033203\" xlink:href=\"#DejaVuSans-48\"/>\n       <use x=\"222.65625\" xlink:href=\"#DejaVuSans-53\"/>\n       <use x=\"286.279297\" xlink:href=\"#DejaVuSans-48\"/>\n      </g>\n     </g>\n    </g>\n    <g id=\"xtick_6\">\n     <g id=\"line2d_6\">\n      <g>\n       <use style=\"stroke:#000000;stroke-width:0.8;\" x=\"658.43351\" xlink:href=\"#m8b06454ef8\" y=\"1653.118125\"/>\n      </g>\n     </g>\n     <g id=\"text_6\">\n      <!-- 0.0075 -->\n      <defs>\n       <path d=\"M 8.203125 72.90625 \nL 55.078125 72.90625 \nL 55.078125 68.703125 \nL 28.609375 0 \nL 18.3125 0 \nL 43.21875 64.59375 \nL 8.203125 64.59375 \nz\n\" id=\"DejaVuSans-55\"/>\n      </defs>\n      <g transform=\"translate(640.938197 1667.716563)scale(0.1 -0.1)\">\n       <use xlink:href=\"#DejaVuSans-48\"/>\n       <use x=\"63.623047\" xlink:href=\"#DejaVuSans-46\"/>\n       <use x=\"95.410156\" xlink:href=\"#DejaVuSans-48\"/>\n       <use x=\"159.033203\" xlink:href=\"#DejaVuSans-48\"/>\n       <use x=\"222.65625\" xlink:href=\"#DejaVuSans-55\"/>\n       <use x=\"286.279297\" xlink:href=\"#DejaVuSans-53\"/>\n      </g>\n     </g>\n    </g>\n    <g id=\"xtick_7\">\n     <g id=\"line2d_7\">\n      <g>\n       <use style=\"stroke:#000000;stroke-width:0.8;\" x=\"732.910369\" xlink:href=\"#m8b06454ef8\" y=\"1653.118125\"/>\n      </g>\n     </g>\n     <g id=\"text_7\">\n      <!-- 0.0100 -->\n      <defs>\n       <path d=\"M 12.40625 8.296875 \nL 28.515625 8.296875 \nL 28.515625 63.921875 \nL 10.984375 60.40625 \nL 10.984375 69.390625 \nL 28.421875 72.90625 \nL 38.28125 72.90625 \nL 38.28125 8.296875 \nL 54.390625 8.296875 \nL 54.390625 0 \nL 12.40625 0 \nz\n\" id=\"DejaVuSans-49\"/>\n      </defs>\n      <g transform=\"translate(715.415057 1667.716563)scale(0.1 -0.1)\">\n       <use xlink:href=\"#DejaVuSans-48\"/>\n       <use x=\"63.623047\" xlink:href=\"#DejaVuSans-46\"/>\n       <use x=\"95.410156\" xlink:href=\"#DejaVuSans-48\"/>\n       <use x=\"159.033203\" xlink:href=\"#DejaVuSans-49\"/>\n       <use x=\"222.65625\" xlink:href=\"#DejaVuSans-48\"/>\n       <use x=\"286.279297\" xlink:href=\"#DejaVuSans-48\"/>\n      </g>\n     </g>\n    </g>\n    <g id=\"xtick_8\">\n     <g id=\"line2d_8\">\n      <g>\n       <use style=\"stroke:#000000;stroke-width:0.8;\" x=\"807.387229\" xlink:href=\"#m8b06454ef8\" y=\"1653.118125\"/>\n      </g>\n     </g>\n     <g id=\"text_8\">\n      <!-- 0.0125 -->\n      <g transform=\"translate(789.891916 1667.716563)scale(0.1 -0.1)\">\n       <use xlink:href=\"#DejaVuSans-48\"/>\n       <use x=\"63.623047\" xlink:href=\"#DejaVuSans-46\"/>\n       <use x=\"95.410156\" xlink:href=\"#DejaVuSans-48\"/>\n       <use x=\"159.033203\" xlink:href=\"#DejaVuSans-49\"/>\n       <use x=\"222.65625\" xlink:href=\"#DejaVuSans-50\"/>\n       <use x=\"286.279297\" xlink:href=\"#DejaVuSans-53\"/>\n      </g>\n     </g>\n    </g>\n   </g>\n   <g id=\"matplotlib.axis_2\">\n    <g id=\"ytick_1\">\n     <g id=\"line2d_9\">\n      <defs>\n       <path d=\"M 0 0 \nL -3.5 0 \n\" id=\"m05ac85b2da\" style=\"stroke:#000000;stroke-width:0.8;\"/>\n      </defs>\n      <g>\n       <use style=\"stroke:#000000;stroke-width:0.8;\" x=\"271.292188\" xlink:href=\"#m05ac85b2da\" y=\"1643.294029\"/>\n      </g>\n     </g>\n     <g id=\"text_9\">\n      <!-- medical_specialty_Gastroenterology -->\n      <defs>\n       <path d=\"M 52 44.1875 \nQ 55.375 50.25 60.0625 53.125 \nQ 64.75 56 71.09375 56 \nQ 79.640625 56 84.28125 50.015625 \nQ 88.921875 44.046875 88.921875 33.015625 \nL 88.921875 0 \nL 79.890625 0 \nL 79.890625 32.71875 \nQ 79.890625 40.578125 77.09375 44.375 \nQ 74.3125 48.1875 68.609375 48.1875 \nQ 61.625 48.1875 57.5625 43.546875 \nQ 53.515625 38.921875 53.515625 30.90625 \nL 53.515625 0 \nL 44.484375 0 \nL 44.484375 32.71875 \nQ 44.484375 40.625 41.703125 44.40625 \nQ 38.921875 48.1875 33.109375 48.1875 \nQ 26.21875 48.1875 22.15625 43.53125 \nQ 18.109375 38.875 18.109375 30.90625 \nL 18.109375 0 \nL 9.078125 0 \nL 9.078125 54.6875 \nL 18.109375 54.6875 \nL 18.109375 46.1875 \nQ 21.1875 51.21875 25.484375 53.609375 \nQ 29.78125 56 35.6875 56 \nQ 41.65625 56 45.828125 52.96875 \nQ 50 49.953125 52 44.1875 \nz\n\" id=\"DejaVuSans-109\"/>\n       <path d=\"M 56.203125 29.59375 \nL 56.203125 25.203125 \nL 14.890625 25.203125 \nQ 15.484375 15.921875 20.484375 11.0625 \nQ 25.484375 6.203125 34.421875 6.203125 \nQ 39.59375 6.203125 44.453125 7.46875 \nQ 49.3125 8.734375 54.109375 11.28125 \nL 54.109375 2.78125 \nQ 49.265625 0.734375 44.1875 -0.34375 \nQ 39.109375 -1.421875 33.890625 -1.421875 \nQ 20.796875 -1.421875 13.15625 6.1875 \nQ 5.515625 13.8125 5.515625 26.8125 \nQ 5.515625 40.234375 12.765625 48.109375 \nQ 20.015625 56 32.328125 56 \nQ 43.359375 56 49.78125 48.890625 \nQ 56.203125 41.796875 56.203125 29.59375 \nz\nM 47.21875 32.234375 \nQ 47.125 39.59375 43.09375 43.984375 \nQ 39.0625 48.390625 32.421875 48.390625 \nQ 24.90625 48.390625 20.390625 44.140625 \nQ 15.875 39.890625 15.1875 32.171875 \nz\n\" id=\"DejaVuSans-101\"/>\n       <path d=\"M 45.40625 46.390625 \nL 45.40625 75.984375 \nL 54.390625 75.984375 \nL 54.390625 0 \nL 45.40625 0 \nL 45.40625 8.203125 \nQ 42.578125 3.328125 38.25 0.953125 \nQ 33.9375 -1.421875 27.875 -1.421875 \nQ 17.96875 -1.421875 11.734375 6.484375 \nQ 5.515625 14.40625 5.515625 27.296875 \nQ 5.515625 40.1875 11.734375 48.09375 \nQ 17.96875 56 27.875 56 \nQ 33.9375 56 38.25 53.625 \nQ 42.578125 51.265625 45.40625 46.390625 \nz\nM 14.796875 27.296875 \nQ 14.796875 17.390625 18.875 11.75 \nQ 22.953125 6.109375 30.078125 6.109375 \nQ 37.203125 6.109375 41.296875 11.75 \nQ 45.40625 17.390625 45.40625 27.296875 \nQ 45.40625 37.203125 41.296875 42.84375 \nQ 37.203125 48.484375 30.078125 48.484375 \nQ 22.953125 48.484375 18.875 42.84375 \nQ 14.796875 37.203125 14.796875 27.296875 \nz\n\" id=\"DejaVuSans-100\"/>\n       <path d=\"M 9.421875 54.6875 \nL 18.40625 54.6875 \nL 18.40625 0 \nL 9.421875 0 \nz\nM 9.421875 75.984375 \nL 18.40625 75.984375 \nL 18.40625 64.59375 \nL 9.421875 64.59375 \nz\n\" id=\"DejaVuSans-105\"/>\n       <path d=\"M 48.78125 52.59375 \nL 48.78125 44.1875 \nQ 44.96875 46.296875 41.140625 47.34375 \nQ 37.3125 48.390625 33.40625 48.390625 \nQ 24.65625 48.390625 19.8125 42.84375 \nQ 14.984375 37.3125 14.984375 27.296875 \nQ 14.984375 17.28125 19.8125 11.734375 \nQ 24.65625 6.203125 33.40625 6.203125 \nQ 37.3125 6.203125 41.140625 7.25 \nQ 44.96875 8.296875 48.78125 10.40625 \nL 48.78125 2.09375 \nQ 45.015625 0.34375 40.984375 -0.53125 \nQ 36.96875 -1.421875 32.421875 -1.421875 \nQ 20.0625 -1.421875 12.78125 6.34375 \nQ 5.515625 14.109375 5.515625 27.296875 \nQ 5.515625 40.671875 12.859375 48.328125 \nQ 20.21875 56 33.015625 56 \nQ 37.15625 56 41.109375 55.140625 \nQ 45.0625 54.296875 48.78125 52.59375 \nz\n\" id=\"DejaVuSans-99\"/>\n       <path d=\"M 34.28125 27.484375 \nQ 23.390625 27.484375 19.1875 25 \nQ 14.984375 22.515625 14.984375 16.5 \nQ 14.984375 11.71875 18.140625 8.90625 \nQ 21.296875 6.109375 26.703125 6.109375 \nQ 34.1875 6.109375 38.703125 11.40625 \nQ 43.21875 16.703125 43.21875 25.484375 \nL 43.21875 27.484375 \nz\nM 52.203125 31.203125 \nL 52.203125 0 \nL 43.21875 0 \nL 43.21875 8.296875 \nQ 40.140625 3.328125 35.546875 0.953125 \nQ 30.953125 -1.421875 24.3125 -1.421875 \nQ 15.921875 -1.421875 10.953125 3.296875 \nQ 6 8.015625 6 15.921875 \nQ 6 25.140625 12.171875 29.828125 \nQ 18.359375 34.515625 30.609375 34.515625 \nL 43.21875 34.515625 \nL 43.21875 35.40625 \nQ 43.21875 41.609375 39.140625 45 \nQ 35.0625 48.390625 27.6875 48.390625 \nQ 23 48.390625 18.546875 47.265625 \nQ 14.109375 46.140625 10.015625 43.890625 \nL 10.015625 52.203125 \nQ 14.9375 54.109375 19.578125 55.046875 \nQ 24.21875 56 28.609375 56 \nQ 40.484375 56 46.34375 49.84375 \nQ 52.203125 43.703125 52.203125 31.203125 \nz\n\" id=\"DejaVuSans-97\"/>\n       <path d=\"M 9.421875 75.984375 \nL 18.40625 75.984375 \nL 18.40625 0 \nL 9.421875 0 \nz\n\" id=\"DejaVuSans-108\"/>\n       <path d=\"M 50.984375 -16.609375 \nL 50.984375 -23.578125 \nL -0.984375 -23.578125 \nL -0.984375 -16.609375 \nz\n\" id=\"DejaVuSans-95\"/>\n       <path d=\"M 44.28125 53.078125 \nL 44.28125 44.578125 \nQ 40.484375 46.53125 36.375 47.5 \nQ 32.28125 48.484375 27.875 48.484375 \nQ 21.1875 48.484375 17.84375 46.4375 \nQ 14.5 44.390625 14.5 40.28125 \nQ 14.5 37.15625 16.890625 35.375 \nQ 19.28125 33.59375 26.515625 31.984375 \nL 29.59375 31.296875 \nQ 39.15625 29.25 43.1875 25.515625 \nQ 47.21875 21.78125 47.21875 15.09375 \nQ 47.21875 7.46875 41.1875 3.015625 \nQ 35.15625 -1.421875 24.609375 -1.421875 \nQ 20.21875 -1.421875 15.453125 -0.5625 \nQ 10.6875 0.296875 5.421875 2 \nL 5.421875 11.28125 \nQ 10.40625 8.6875 15.234375 7.390625 \nQ 20.0625 6.109375 24.8125 6.109375 \nQ 31.15625 6.109375 34.5625 8.28125 \nQ 37.984375 10.453125 37.984375 14.40625 \nQ 37.984375 18.0625 35.515625 20.015625 \nQ 33.0625 21.96875 24.703125 23.78125 \nL 21.578125 24.515625 \nQ 13.234375 26.265625 9.515625 29.90625 \nQ 5.8125 33.546875 5.8125 39.890625 \nQ 5.8125 47.609375 11.28125 51.796875 \nQ 16.75 56 26.8125 56 \nQ 31.78125 56 36.171875 55.265625 \nQ 40.578125 54.546875 44.28125 53.078125 \nz\n\" id=\"DejaVuSans-115\"/>\n       <path d=\"M 18.109375 8.203125 \nL 18.109375 -20.796875 \nL 9.078125 -20.796875 \nL 9.078125 54.6875 \nL 18.109375 54.6875 \nL 18.109375 46.390625 \nQ 20.953125 51.265625 25.265625 53.625 \nQ 29.59375 56 35.59375 56 \nQ 45.5625 56 51.78125 48.09375 \nQ 58.015625 40.1875 58.015625 27.296875 \nQ 58.015625 14.40625 51.78125 6.484375 \nQ 45.5625 -1.421875 35.59375 -1.421875 \nQ 29.59375 -1.421875 25.265625 0.953125 \nQ 20.953125 3.328125 18.109375 8.203125 \nz\nM 48.6875 27.296875 \nQ 48.6875 37.203125 44.609375 42.84375 \nQ 40.53125 48.484375 33.40625 48.484375 \nQ 26.265625 48.484375 22.1875 42.84375 \nQ 18.109375 37.203125 18.109375 27.296875 \nQ 18.109375 17.390625 22.1875 11.75 \nQ 26.265625 6.109375 33.40625 6.109375 \nQ 40.53125 6.109375 44.609375 11.75 \nQ 48.6875 17.390625 48.6875 27.296875 \nz\n\" id=\"DejaVuSans-112\"/>\n       <path d=\"M 18.3125 70.21875 \nL 18.3125 54.6875 \nL 36.8125 54.6875 \nL 36.8125 47.703125 \nL 18.3125 47.703125 \nL 18.3125 18.015625 \nQ 18.3125 11.328125 20.140625 9.421875 \nQ 21.96875 7.515625 27.59375 7.515625 \nL 36.8125 7.515625 \nL 36.8125 0 \nL 27.59375 0 \nQ 17.1875 0 13.234375 3.875 \nQ 9.28125 7.765625 9.28125 18.015625 \nL 9.28125 47.703125 \nL 2.6875 47.703125 \nL 2.6875 54.6875 \nL 9.28125 54.6875 \nL 9.28125 70.21875 \nz\n\" id=\"DejaVuSans-116\"/>\n       <path d=\"M 32.171875 -5.078125 \nQ 28.375 -14.84375 24.75 -17.8125 \nQ 21.140625 -20.796875 15.09375 -20.796875 \nL 7.90625 -20.796875 \nL 7.90625 -13.28125 \nL 13.1875 -13.28125 \nQ 16.890625 -13.28125 18.9375 -11.515625 \nQ 21 -9.765625 23.484375 -3.21875 \nL 25.09375 0.875 \nL 2.984375 54.6875 \nL 12.5 54.6875 \nL 29.59375 11.921875 \nL 46.6875 54.6875 \nL 56.203125 54.6875 \nz\n\" id=\"DejaVuSans-121\"/>\n       <path d=\"M 59.515625 10.40625 \nL 59.515625 29.984375 \nL 43.40625 29.984375 \nL 43.40625 38.09375 \nL 69.28125 38.09375 \nL 69.28125 6.78125 \nQ 63.578125 2.734375 56.6875 0.65625 \nQ 49.8125 -1.421875 42 -1.421875 \nQ 24.90625 -1.421875 15.25 8.5625 \nQ 5.609375 18.5625 5.609375 36.375 \nQ 5.609375 54.25 15.25 64.234375 \nQ 24.90625 74.21875 42 74.21875 \nQ 49.125 74.21875 55.546875 72.453125 \nQ 61.96875 70.703125 67.390625 67.28125 \nL 67.390625 56.78125 \nQ 61.921875 61.421875 55.765625 63.765625 \nQ 49.609375 66.109375 42.828125 66.109375 \nQ 29.4375 66.109375 22.71875 58.640625 \nQ 16.015625 51.171875 16.015625 36.375 \nQ 16.015625 21.625 22.71875 14.15625 \nQ 29.4375 6.6875 42.828125 6.6875 \nQ 48.046875 6.6875 52.140625 7.59375 \nQ 56.25 8.5 59.515625 10.40625 \nz\n\" id=\"DejaVuSans-71\"/>\n       <path d=\"M 41.109375 46.296875 \nQ 39.59375 47.171875 37.8125 47.578125 \nQ 36.03125 48 33.890625 48 \nQ 26.265625 48 22.1875 43.046875 \nQ 18.109375 38.09375 18.109375 28.8125 \nL 18.109375 0 \nL 9.078125 0 \nL 9.078125 54.6875 \nL 18.109375 54.6875 \nL 18.109375 46.1875 \nQ 20.953125 51.171875 25.484375 53.578125 \nQ 30.03125 56 36.53125 56 \nQ 37.453125 56 38.578125 55.875 \nQ 39.703125 55.765625 41.0625 55.515625 \nz\n\" id=\"DejaVuSans-114\"/>\n       <path d=\"M 30.609375 48.390625 \nQ 23.390625 48.390625 19.1875 42.75 \nQ 14.984375 37.109375 14.984375 27.296875 \nQ 14.984375 17.484375 19.15625 11.84375 \nQ 23.34375 6.203125 30.609375 6.203125 \nQ 37.796875 6.203125 41.984375 11.859375 \nQ 46.1875 17.53125 46.1875 27.296875 \nQ 46.1875 37.015625 41.984375 42.703125 \nQ 37.796875 48.390625 30.609375 48.390625 \nz\nM 30.609375 56 \nQ 42.328125 56 49.015625 48.375 \nQ 55.71875 40.765625 55.71875 27.296875 \nQ 55.71875 13.875 49.015625 6.21875 \nQ 42.328125 -1.421875 30.609375 -1.421875 \nQ 18.84375 -1.421875 12.171875 6.21875 \nQ 5.515625 13.875 5.515625 27.296875 \nQ 5.515625 40.765625 12.171875 48.375 \nQ 18.84375 56 30.609375 56 \nz\n\" id=\"DejaVuSans-111\"/>\n       <path d=\"M 54.890625 33.015625 \nL 54.890625 0 \nL 45.90625 0 \nL 45.90625 32.71875 \nQ 45.90625 40.484375 42.875 44.328125 \nQ 39.84375 48.1875 33.796875 48.1875 \nQ 26.515625 48.1875 22.3125 43.546875 \nQ 18.109375 38.921875 18.109375 30.90625 \nL 18.109375 0 \nL 9.078125 0 \nL 9.078125 54.6875 \nL 18.109375 54.6875 \nL 18.109375 46.1875 \nQ 21.34375 51.125 25.703125 53.5625 \nQ 30.078125 56 35.796875 56 \nQ 45.21875 56 50.046875 50.171875 \nQ 54.890625 44.34375 54.890625 33.015625 \nz\n\" id=\"DejaVuSans-110\"/>\n       <path d=\"M 45.40625 27.984375 \nQ 45.40625 37.75 41.375 43.109375 \nQ 37.359375 48.484375 30.078125 48.484375 \nQ 22.859375 48.484375 18.828125 43.109375 \nQ 14.796875 37.75 14.796875 27.984375 \nQ 14.796875 18.265625 18.828125 12.890625 \nQ 22.859375 7.515625 30.078125 7.515625 \nQ 37.359375 7.515625 41.375 12.890625 \nQ 45.40625 18.265625 45.40625 27.984375 \nz\nM 54.390625 6.78125 \nQ 54.390625 -7.171875 48.1875 -13.984375 \nQ 42 -20.796875 29.203125 -20.796875 \nQ 24.46875 -20.796875 20.265625 -20.09375 \nQ 16.0625 -19.390625 12.109375 -17.921875 \nL 12.109375 -9.1875 \nQ 16.0625 -11.328125 19.921875 -12.34375 \nQ 23.78125 -13.375 27.78125 -13.375 \nQ 36.625 -13.375 41.015625 -8.765625 \nQ 45.40625 -4.15625 45.40625 5.171875 \nL 45.40625 9.625 \nQ 42.625 4.78125 38.28125 2.390625 \nQ 33.9375 0 27.875 0 \nQ 17.828125 0 11.671875 7.65625 \nQ 5.515625 15.328125 5.515625 27.984375 \nQ 5.515625 40.671875 11.671875 48.328125 \nQ 17.828125 56 27.875 56 \nQ 33.9375 56 38.28125 53.609375 \nQ 42.625 51.21875 45.40625 46.390625 \nL 45.40625 54.6875 \nL 54.390625 54.6875 \nz\n\" id=\"DejaVuSans-103\"/>\n      </defs>\n      <g transform=\"translate(83.390625 1647.093247)scale(0.1 -0.1)\">\n       <use xlink:href=\"#DejaVuSans-109\"/>\n       <use x=\"97.412109\" xlink:href=\"#DejaVuSans-101\"/>\n       <use x=\"158.935547\" xlink:href=\"#DejaVuSans-100\"/>\n       <use x=\"222.412109\" xlink:href=\"#DejaVuSans-105\"/>\n       <use x=\"250.195312\" xlink:href=\"#DejaVuSans-99\"/>\n       <use x=\"305.175781\" xlink:href=\"#DejaVuSans-97\"/>\n       <use x=\"366.455078\" xlink:href=\"#DejaVuSans-108\"/>\n       <use x=\"394.238281\" xlink:href=\"#DejaVuSans-95\"/>\n       <use x=\"444.238281\" xlink:href=\"#DejaVuSans-115\"/>\n       <use x=\"496.337891\" xlink:href=\"#DejaVuSans-112\"/>\n       <use x=\"559.814453\" xlink:href=\"#DejaVuSans-101\"/>\n       <use x=\"621.337891\" xlink:href=\"#DejaVuSans-99\"/>\n       <use x=\"676.318359\" xlink:href=\"#DejaVuSans-105\"/>\n       <use x=\"704.101562\" xlink:href=\"#DejaVuSans-97\"/>\n       <use x=\"765.380859\" xlink:href=\"#DejaVuSans-108\"/>\n       <use x=\"793.164062\" xlink:href=\"#DejaVuSans-116\"/>\n       <use x=\"832.373047\" xlink:href=\"#DejaVuSans-121\"/>\n       <use x=\"891.552734\" xlink:href=\"#DejaVuSans-95\"/>\n       <use x=\"941.552734\" xlink:href=\"#DejaVuSans-71\"/>\n       <use x=\"1019.042969\" xlink:href=\"#DejaVuSans-97\"/>\n       <use x=\"1080.322266\" xlink:href=\"#DejaVuSans-115\"/>\n       <use x=\"1132.421875\" xlink:href=\"#DejaVuSans-116\"/>\n       <use x=\"1171.630859\" xlink:href=\"#DejaVuSans-114\"/>\n       <use x=\"1210.494141\" xlink:href=\"#DejaVuSans-111\"/>\n       <use x=\"1271.675781\" xlink:href=\"#DejaVuSans-101\"/>\n       <use x=\"1333.199219\" xlink:href=\"#DejaVuSans-110\"/>\n       <use x=\"1396.578125\" xlink:href=\"#DejaVuSans-116\"/>\n       <use x=\"1435.787109\" xlink:href=\"#DejaVuSans-101\"/>\n       <use x=\"1497.310547\" xlink:href=\"#DejaVuSans-114\"/>\n       <use x=\"1536.173828\" xlink:href=\"#DejaVuSans-111\"/>\n       <use x=\"1597.355469\" xlink:href=\"#DejaVuSans-108\"/>\n       <use x=\"1625.138672\" xlink:href=\"#DejaVuSans-111\"/>\n       <use x=\"1686.320312\" xlink:href=\"#DejaVuSans-103\"/>\n       <use x=\"1749.796875\" xlink:href=\"#DejaVuSans-121\"/>\n      </g>\n     </g>\n    </g>\n    <g id=\"ytick_2\">\n     <g id=\"line2d_10\">\n      <g>\n       <use style=\"stroke:#000000;stroke-width:0.8;\" x=\"271.292188\" xlink:href=\"#m05ac85b2da\" y=\"1623.645836\"/>\n      </g>\n     </g>\n     <g id=\"text_10\">\n      <!-- tolbutamide -->\n      <defs>\n       <path d=\"M 48.6875 27.296875 \nQ 48.6875 37.203125 44.609375 42.84375 \nQ 40.53125 48.484375 33.40625 48.484375 \nQ 26.265625 48.484375 22.1875 42.84375 \nQ 18.109375 37.203125 18.109375 27.296875 \nQ 18.109375 17.390625 22.1875 11.75 \nQ 26.265625 6.109375 33.40625 6.109375 \nQ 40.53125 6.109375 44.609375 11.75 \nQ 48.6875 17.390625 48.6875 27.296875 \nz\nM 18.109375 46.390625 \nQ 20.953125 51.265625 25.265625 53.625 \nQ 29.59375 56 35.59375 56 \nQ 45.5625 56 51.78125 48.09375 \nQ 58.015625 40.1875 58.015625 27.296875 \nQ 58.015625 14.40625 51.78125 6.484375 \nQ 45.5625 -1.421875 35.59375 -1.421875 \nQ 29.59375 -1.421875 25.265625 0.953125 \nQ 20.953125 3.328125 18.109375 8.203125 \nL 18.109375 0 \nL 9.078125 0 \nL 9.078125 75.984375 \nL 18.109375 75.984375 \nz\n\" id=\"DejaVuSans-98\"/>\n       <path d=\"M 8.5 21.578125 \nL 8.5 54.6875 \nL 17.484375 54.6875 \nL 17.484375 21.921875 \nQ 17.484375 14.15625 20.5 10.265625 \nQ 23.53125 6.390625 29.59375 6.390625 \nQ 36.859375 6.390625 41.078125 11.03125 \nQ 45.3125 15.671875 45.3125 23.6875 \nL 45.3125 54.6875 \nL 54.296875 54.6875 \nL 54.296875 0 \nL 45.3125 0 \nL 45.3125 8.40625 \nQ 42.046875 3.421875 37.71875 1 \nQ 33.40625 -1.421875 27.6875 -1.421875 \nQ 18.265625 -1.421875 13.375 4.4375 \nQ 8.5 10.296875 8.5 21.578125 \nz\nM 31.109375 56 \nz\n\" id=\"DejaVuSans-117\"/>\n      </defs>\n      <g transform=\"translate(203.720313 1627.445055)scale(0.1 -0.1)\">\n       <use xlink:href=\"#DejaVuSans-116\"/>\n       <use x=\"39.208984\" xlink:href=\"#DejaVuSans-111\"/>\n       <use x=\"100.390625\" xlink:href=\"#DejaVuSans-108\"/>\n       <use x=\"128.173828\" xlink:href=\"#DejaVuSans-98\"/>\n       <use x=\"191.650391\" xlink:href=\"#DejaVuSans-117\"/>\n       <use x=\"255.029297\" xlink:href=\"#DejaVuSans-116\"/>\n       <use x=\"294.238281\" xlink:href=\"#DejaVuSans-97\"/>\n       <use x=\"355.517578\" xlink:href=\"#DejaVuSans-109\"/>\n       <use x=\"452.929688\" xlink:href=\"#DejaVuSans-105\"/>\n       <use x=\"480.712891\" xlink:href=\"#DejaVuSans-100\"/>\n       <use x=\"544.189453\" xlink:href=\"#DejaVuSans-101\"/>\n      </g>\n     </g>\n    </g>\n    <g id=\"ytick_3\">\n     <g id=\"line2d_11\">\n      <g>\n       <use style=\"stroke:#000000;stroke-width:0.8;\" x=\"271.292188\" xlink:href=\"#m05ac85b2da\" y=\"1603.997643\"/>\n      </g>\n     </g>\n     <g id=\"text_11\">\n      <!-- admission_type_id -->\n      <g transform=\"translate(172.176563 1607.796862)scale(0.1 -0.1)\">\n       <use xlink:href=\"#DejaVuSans-97\"/>\n       <use x=\"61.279297\" xlink:href=\"#DejaVuSans-100\"/>\n       <use x=\"124.755859\" xlink:href=\"#DejaVuSans-109\"/>\n       <use x=\"222.167969\" xlink:href=\"#DejaVuSans-105\"/>\n       <use x=\"249.951172\" xlink:href=\"#DejaVuSans-115\"/>\n       <use x=\"302.050781\" xlink:href=\"#DejaVuSans-115\"/>\n       <use x=\"354.150391\" xlink:href=\"#DejaVuSans-105\"/>\n       <use x=\"381.933594\" xlink:href=\"#DejaVuSans-111\"/>\n       <use x=\"443.115234\" xlink:href=\"#DejaVuSans-110\"/>\n       <use x=\"506.494141\" xlink:href=\"#DejaVuSans-95\"/>\n       <use x=\"556.494141\" xlink:href=\"#DejaVuSans-116\"/>\n       <use x=\"595.703125\" xlink:href=\"#DejaVuSans-121\"/>\n       <use x=\"654.882812\" xlink:href=\"#DejaVuSans-112\"/>\n       <use x=\"718.359375\" xlink:href=\"#DejaVuSans-101\"/>\n       <use x=\"779.882812\" xlink:href=\"#DejaVuSans-95\"/>\n       <use x=\"829.882812\" xlink:href=\"#DejaVuSans-105\"/>\n       <use x=\"857.666016\" xlink:href=\"#DejaVuSans-100\"/>\n      </g>\n     </g>\n    </g>\n    <g id=\"ytick_4\">\n     <g id=\"line2d_12\">\n      <g>\n       <use style=\"stroke:#000000;stroke-width:0.8;\" x=\"271.292188\" xlink:href=\"#m05ac85b2da\" y=\"1584.34945\"/>\n      </g>\n     </g>\n     <g id=\"text_12\">\n      <!-- medical_specialty_Psychiatry -->\n      <defs>\n       <path d=\"M 19.671875 64.796875 \nL 19.671875 37.40625 \nL 32.078125 37.40625 \nQ 38.96875 37.40625 42.71875 40.96875 \nQ 46.484375 44.53125 46.484375 51.125 \nQ 46.484375 57.671875 42.71875 61.234375 \nQ 38.96875 64.796875 32.078125 64.796875 \nz\nM 9.8125 72.90625 \nL 32.078125 72.90625 \nQ 44.34375 72.90625 50.609375 67.359375 \nQ 56.890625 61.8125 56.890625 51.125 \nQ 56.890625 40.328125 50.609375 34.8125 \nQ 44.34375 29.296875 32.078125 29.296875 \nL 19.671875 29.296875 \nL 19.671875 0 \nL 9.8125 0 \nz\n\" id=\"DejaVuSans-80\"/>\n       <path d=\"M 54.890625 33.015625 \nL 54.890625 0 \nL 45.90625 0 \nL 45.90625 32.71875 \nQ 45.90625 40.484375 42.875 44.328125 \nQ 39.84375 48.1875 33.796875 48.1875 \nQ 26.515625 48.1875 22.3125 43.546875 \nQ 18.109375 38.921875 18.109375 30.90625 \nL 18.109375 0 \nL 9.078125 0 \nL 9.078125 75.984375 \nL 18.109375 75.984375 \nL 18.109375 46.1875 \nQ 21.34375 51.125 25.703125 53.5625 \nQ 30.078125 56 35.796875 56 \nQ 45.21875 56 50.046875 50.171875 \nQ 54.890625 44.34375 54.890625 33.015625 \nz\n\" id=\"DejaVuSans-104\"/>\n      </defs>\n      <g transform=\"translate(118.459375 1588.148669)scale(0.1 -0.1)\">\n       <use xlink:href=\"#DejaVuSans-109\"/>\n       <use x=\"97.412109\" xlink:href=\"#DejaVuSans-101\"/>\n       <use x=\"158.935547\" xlink:href=\"#DejaVuSans-100\"/>\n       <use x=\"222.412109\" xlink:href=\"#DejaVuSans-105\"/>\n       <use x=\"250.195312\" xlink:href=\"#DejaVuSans-99\"/>\n       <use x=\"305.175781\" xlink:href=\"#DejaVuSans-97\"/>\n       <use x=\"366.455078\" xlink:href=\"#DejaVuSans-108\"/>\n       <use x=\"394.238281\" xlink:href=\"#DejaVuSans-95\"/>\n       <use x=\"444.238281\" xlink:href=\"#DejaVuSans-115\"/>\n       <use x=\"496.337891\" xlink:href=\"#DejaVuSans-112\"/>\n       <use x=\"559.814453\" xlink:href=\"#DejaVuSans-101\"/>\n       <use x=\"621.337891\" xlink:href=\"#DejaVuSans-99\"/>\n       <use x=\"676.318359\" xlink:href=\"#DejaVuSans-105\"/>\n       <use x=\"704.101562\" xlink:href=\"#DejaVuSans-97\"/>\n       <use x=\"765.380859\" xlink:href=\"#DejaVuSans-108\"/>\n       <use x=\"793.164062\" xlink:href=\"#DejaVuSans-116\"/>\n       <use x=\"832.373047\" xlink:href=\"#DejaVuSans-121\"/>\n       <use x=\"891.552734\" xlink:href=\"#DejaVuSans-95\"/>\n       <use x=\"941.552734\" xlink:href=\"#DejaVuSans-80\"/>\n       <use x=\"1000.105469\" xlink:href=\"#DejaVuSans-115\"/>\n       <use x=\"1052.205078\" xlink:href=\"#DejaVuSans-121\"/>\n       <use x=\"1111.384766\" xlink:href=\"#DejaVuSans-99\"/>\n       <use x=\"1166.365234\" xlink:href=\"#DejaVuSans-104\"/>\n       <use x=\"1229.744141\" xlink:href=\"#DejaVuSans-105\"/>\n       <use x=\"1257.527344\" xlink:href=\"#DejaVuSans-97\"/>\n       <use x=\"1318.806641\" xlink:href=\"#DejaVuSans-116\"/>\n       <use x=\"1358.015625\" xlink:href=\"#DejaVuSans-114\"/>\n       <use x=\"1399.128906\" xlink:href=\"#DejaVuSans-121\"/>\n      </g>\n     </g>\n    </g>\n    <g id=\"ytick_5\">\n     <g id=\"line2d_13\">\n      <g>\n       <use style=\"stroke:#000000;stroke-width:0.8;\" x=\"271.292188\" xlink:href=\"#m05ac85b2da\" y=\"1564.701258\"/>\n      </g>\n     </g>\n     <g id=\"text_13\">\n      <!-- medical_specialty_Other -->\n      <defs>\n       <path d=\"M 39.40625 66.21875 \nQ 28.65625 66.21875 22.328125 58.203125 \nQ 16.015625 50.203125 16.015625 36.375 \nQ 16.015625 22.609375 22.328125 14.59375 \nQ 28.65625 6.59375 39.40625 6.59375 \nQ 50.140625 6.59375 56.421875 14.59375 \nQ 62.703125 22.609375 62.703125 36.375 \nQ 62.703125 50.203125 56.421875 58.203125 \nQ 50.140625 66.21875 39.40625 66.21875 \nz\nM 39.40625 74.21875 \nQ 54.734375 74.21875 63.90625 63.9375 \nQ 73.09375 53.65625 73.09375 36.375 \nQ 73.09375 19.140625 63.90625 8.859375 \nQ 54.734375 -1.421875 39.40625 -1.421875 \nQ 24.03125 -1.421875 14.8125 8.828125 \nQ 5.609375 19.09375 5.609375 36.375 \nQ 5.609375 53.65625 14.8125 63.9375 \nQ 24.03125 74.21875 39.40625 74.21875 \nz\n\" id=\"DejaVuSans-79\"/>\n      </defs>\n      <g transform=\"translate(141.740625 1568.500476)scale(0.1 -0.1)\">\n       <use xlink:href=\"#DejaVuSans-109\"/>\n       <use x=\"97.412109\" xlink:href=\"#DejaVuSans-101\"/>\n       <use x=\"158.935547\" xlink:href=\"#DejaVuSans-100\"/>\n       <use x=\"222.412109\" xlink:href=\"#DejaVuSans-105\"/>\n       <use x=\"250.195312\" xlink:href=\"#DejaVuSans-99\"/>\n       <use x=\"305.175781\" xlink:href=\"#DejaVuSans-97\"/>\n       <use x=\"366.455078\" xlink:href=\"#DejaVuSans-108\"/>\n       <use x=\"394.238281\" xlink:href=\"#DejaVuSans-95\"/>\n       <use x=\"444.238281\" xlink:href=\"#DejaVuSans-115\"/>\n       <use x=\"496.337891\" xlink:href=\"#DejaVuSans-112\"/>\n       <use x=\"559.814453\" xlink:href=\"#DejaVuSans-101\"/>\n       <use x=\"621.337891\" xlink:href=\"#DejaVuSans-99\"/>\n       <use x=\"676.318359\" xlink:href=\"#DejaVuSans-105\"/>\n       <use x=\"704.101562\" xlink:href=\"#DejaVuSans-97\"/>\n       <use x=\"765.380859\" xlink:href=\"#DejaVuSans-108\"/>\n       <use x=\"793.164062\" xlink:href=\"#DejaVuSans-116\"/>\n       <use x=\"832.373047\" xlink:href=\"#DejaVuSans-121\"/>\n       <use x=\"891.552734\" xlink:href=\"#DejaVuSans-95\"/>\n       <use x=\"941.552734\" xlink:href=\"#DejaVuSans-79\"/>\n       <use x=\"1020.263672\" xlink:href=\"#DejaVuSans-116\"/>\n       <use x=\"1059.472656\" xlink:href=\"#DejaVuSans-104\"/>\n       <use x=\"1122.851562\" xlink:href=\"#DejaVuSans-101\"/>\n       <use x=\"1184.375\" xlink:href=\"#DejaVuSans-114\"/>\n      </g>\n     </g>\n    </g>\n    <g id=\"ytick_6\">\n     <g id=\"line2d_14\">\n      <g>\n       <use style=\"stroke:#000000;stroke-width:0.8;\" x=\"271.292188\" xlink:href=\"#m05ac85b2da\" y=\"1545.053065\"/>\n      </g>\n     </g>\n     <g id=\"text_14\">\n      <!-- medical_specialty_Orthopedics-Reconstructive -->\n      <defs>\n       <path d=\"M 4.890625 31.390625 \nL 31.203125 31.390625 \nL 31.203125 23.390625 \nL 4.890625 23.390625 \nz\n\" id=\"DejaVuSans-45\"/>\n       <path d=\"M 44.390625 34.1875 \nQ 47.5625 33.109375 50.5625 29.59375 \nQ 53.5625 26.078125 56.59375 19.921875 \nL 66.609375 0 \nL 56 0 \nL 46.6875 18.703125 \nQ 43.0625 26.03125 39.671875 28.421875 \nQ 36.28125 30.8125 30.421875 30.8125 \nL 19.671875 30.8125 \nL 19.671875 0 \nL 9.8125 0 \nL 9.8125 72.90625 \nL 32.078125 72.90625 \nQ 44.578125 72.90625 50.734375 67.671875 \nQ 56.890625 62.453125 56.890625 51.90625 \nQ 56.890625 45.015625 53.6875 40.46875 \nQ 50.484375 35.9375 44.390625 34.1875 \nz\nM 19.671875 64.796875 \nL 19.671875 38.921875 \nL 32.078125 38.921875 \nQ 39.203125 38.921875 42.84375 42.21875 \nQ 46.484375 45.515625 46.484375 51.90625 \nQ 46.484375 58.296875 42.84375 61.546875 \nQ 39.203125 64.796875 32.078125 64.796875 \nz\n\" id=\"DejaVuSans-82\"/>\n       <path d=\"M 2.984375 54.6875 \nL 12.5 54.6875 \nL 29.59375 8.796875 \nL 46.6875 54.6875 \nL 56.203125 54.6875 \nL 35.6875 0 \nL 23.484375 0 \nz\n\" id=\"DejaVuSans-118\"/>\n      </defs>\n      <g transform=\"translate(31.378125 1548.852284)scale(0.1 -0.1)\">\n       <use xlink:href=\"#DejaVuSans-109\"/>\n       <use x=\"97.412109\" xlink:href=\"#DejaVuSans-101\"/>\n       <use x=\"158.935547\" xlink:href=\"#DejaVuSans-100\"/>\n       <use x=\"222.412109\" xlink:href=\"#DejaVuSans-105\"/>\n       <use x=\"250.195312\" xlink:href=\"#DejaVuSans-99\"/>\n       <use x=\"305.175781\" xlink:href=\"#DejaVuSans-97\"/>\n       <use x=\"366.455078\" xlink:href=\"#DejaVuSans-108\"/>\n       <use x=\"394.238281\" xlink:href=\"#DejaVuSans-95\"/>\n       <use x=\"444.238281\" xlink:href=\"#DejaVuSans-115\"/>\n       <use x=\"496.337891\" xlink:href=\"#DejaVuSans-112\"/>\n       <use x=\"559.814453\" xlink:href=\"#DejaVuSans-101\"/>\n       <use x=\"621.337891\" xlink:href=\"#DejaVuSans-99\"/>\n       <use x=\"676.318359\" xlink:href=\"#DejaVuSans-105\"/>\n       <use x=\"704.101562\" xlink:href=\"#DejaVuSans-97\"/>\n       <use x=\"765.380859\" xlink:href=\"#DejaVuSans-108\"/>\n       <use x=\"793.164062\" xlink:href=\"#DejaVuSans-116\"/>\n       <use x=\"832.373047\" xlink:href=\"#DejaVuSans-121\"/>\n       <use x=\"891.552734\" xlink:href=\"#DejaVuSans-95\"/>\n       <use x=\"941.552734\" xlink:href=\"#DejaVuSans-79\"/>\n       <use x=\"1020.263672\" xlink:href=\"#DejaVuSans-114\"/>\n       <use x=\"1061.376953\" xlink:href=\"#DejaVuSans-116\"/>\n       <use x=\"1100.585938\" xlink:href=\"#DejaVuSans-104\"/>\n       <use x=\"1163.964844\" xlink:href=\"#DejaVuSans-111\"/>\n       <use x=\"1225.146484\" xlink:href=\"#DejaVuSans-112\"/>\n       <use x=\"1288.623047\" xlink:href=\"#DejaVuSans-101\"/>\n       <use x=\"1350.146484\" xlink:href=\"#DejaVuSans-100\"/>\n       <use x=\"1413.623047\" xlink:href=\"#DejaVuSans-105\"/>\n       <use x=\"1441.40625\" xlink:href=\"#DejaVuSans-99\"/>\n       <use x=\"1496.386719\" xlink:href=\"#DejaVuSans-115\"/>\n       <use x=\"1548.486328\" xlink:href=\"#DejaVuSans-45\"/>\n       <use x=\"1584.570312\" xlink:href=\"#DejaVuSans-82\"/>\n       <use x=\"1649.552734\" xlink:href=\"#DejaVuSans-101\"/>\n       <use x=\"1711.076172\" xlink:href=\"#DejaVuSans-99\"/>\n       <use x=\"1766.056641\" xlink:href=\"#DejaVuSans-111\"/>\n       <use x=\"1827.238281\" xlink:href=\"#DejaVuSans-110\"/>\n       <use x=\"1890.617188\" xlink:href=\"#DejaVuSans-115\"/>\n       <use x=\"1942.716797\" xlink:href=\"#DejaVuSans-116\"/>\n       <use x=\"1981.925781\" xlink:href=\"#DejaVuSans-114\"/>\n       <use x=\"2023.039062\" xlink:href=\"#DejaVuSans-117\"/>\n       <use x=\"2086.417969\" xlink:href=\"#DejaVuSans-99\"/>\n       <use x=\"2141.398438\" xlink:href=\"#DejaVuSans-116\"/>\n       <use x=\"2180.607422\" xlink:href=\"#DejaVuSans-105\"/>\n       <use x=\"2208.390625\" xlink:href=\"#DejaVuSans-118\"/>\n       <use x=\"2267.570312\" xlink:href=\"#DejaVuSans-101\"/>\n      </g>\n     </g>\n    </g>\n    <g id=\"ytick_7\">\n     <g id=\"line2d_15\">\n      <g>\n       <use style=\"stroke:#000000;stroke-width:0.8;\" x=\"271.292188\" xlink:href=\"#m05ac85b2da\" y=\"1525.404872\"/>\n      </g>\n     </g>\n     <g id=\"text_15\">\n      <!-- medical_specialty_Orthopedics -->\n      <g transform=\"translate(109.439063 1529.204091)scale(0.1 -0.1)\">\n       <use xlink:href=\"#DejaVuSans-109\"/>\n       <use x=\"97.412109\" xlink:href=\"#DejaVuSans-101\"/>\n       <use x=\"158.935547\" xlink:href=\"#DejaVuSans-100\"/>\n       <use x=\"222.412109\" xlink:href=\"#DejaVuSans-105\"/>\n       <use x=\"250.195312\" xlink:href=\"#DejaVuSans-99\"/>\n       <use x=\"305.175781\" xlink:href=\"#DejaVuSans-97\"/>\n       <use x=\"366.455078\" xlink:href=\"#DejaVuSans-108\"/>\n       <use x=\"394.238281\" xlink:href=\"#DejaVuSans-95\"/>\n       <use x=\"444.238281\" xlink:href=\"#DejaVuSans-115\"/>\n       <use x=\"496.337891\" xlink:href=\"#DejaVuSans-112\"/>\n       <use x=\"559.814453\" xlink:href=\"#DejaVuSans-101\"/>\n       <use x=\"621.337891\" xlink:href=\"#DejaVuSans-99\"/>\n       <use x=\"676.318359\" xlink:href=\"#DejaVuSans-105\"/>\n       <use x=\"704.101562\" xlink:href=\"#DejaVuSans-97\"/>\n       <use x=\"765.380859\" xlink:href=\"#DejaVuSans-108\"/>\n       <use x=\"793.164062\" xlink:href=\"#DejaVuSans-116\"/>\n       <use x=\"832.373047\" xlink:href=\"#DejaVuSans-121\"/>\n       <use x=\"891.552734\" xlink:href=\"#DejaVuSans-95\"/>\n       <use x=\"941.552734\" xlink:href=\"#DejaVuSans-79\"/>\n       <use x=\"1020.263672\" xlink:href=\"#DejaVuSans-114\"/>\n       <use x=\"1061.376953\" xlink:href=\"#DejaVuSans-116\"/>\n       <use x=\"1100.585938\" xlink:href=\"#DejaVuSans-104\"/>\n       <use x=\"1163.964844\" xlink:href=\"#DejaVuSans-111\"/>\n       <use x=\"1225.146484\" xlink:href=\"#DejaVuSans-112\"/>\n       <use x=\"1288.623047\" xlink:href=\"#DejaVuSans-101\"/>\n       <use x=\"1350.146484\" xlink:href=\"#DejaVuSans-100\"/>\n       <use x=\"1413.623047\" xlink:href=\"#DejaVuSans-105\"/>\n       <use x=\"1441.40625\" xlink:href=\"#DejaVuSans-99\"/>\n       <use x=\"1496.386719\" xlink:href=\"#DejaVuSans-115\"/>\n      </g>\n     </g>\n    </g>\n    <g id=\"ytick_8\">\n     <g id=\"line2d_16\">\n      <g>\n       <use style=\"stroke:#000000;stroke-width:0.8;\" x=\"271.292188\" xlink:href=\"#m05ac85b2da\" y=\"1505.756679\"/>\n      </g>\n     </g>\n     <g id=\"text_16\">\n      <!-- medical_specialty_Nephrology -->\n      <defs>\n       <path d=\"M 9.8125 72.90625 \nL 23.09375 72.90625 \nL 55.421875 11.921875 \nL 55.421875 72.90625 \nL 64.984375 72.90625 \nL 64.984375 0 \nL 51.703125 0 \nL 19.390625 60.984375 \nL 19.390625 0 \nL 9.8125 0 \nz\n\" id=\"DejaVuSans-78\"/>\n      </defs>\n      <g transform=\"translate(112.645313 1509.555898)scale(0.1 -0.1)\">\n       <use xlink:href=\"#DejaVuSans-109\"/>\n       <use x=\"97.412109\" xlink:href=\"#DejaVuSans-101\"/>\n       <use x=\"158.935547\" xlink:href=\"#DejaVuSans-100\"/>\n       <use x=\"222.412109\" xlink:href=\"#DejaVuSans-105\"/>\n       <use x=\"250.195312\" xlink:href=\"#DejaVuSans-99\"/>\n       <use x=\"305.175781\" xlink:href=\"#DejaVuSans-97\"/>\n       <use x=\"366.455078\" xlink:href=\"#DejaVuSans-108\"/>\n       <use x=\"394.238281\" xlink:href=\"#DejaVuSans-95\"/>\n       <use x=\"444.238281\" xlink:href=\"#DejaVuSans-115\"/>\n       <use x=\"496.337891\" xlink:href=\"#DejaVuSans-112\"/>\n       <use x=\"559.814453\" xlink:href=\"#DejaVuSans-101\"/>\n       <use x=\"621.337891\" xlink:href=\"#DejaVuSans-99\"/>\n       <use x=\"676.318359\" xlink:href=\"#DejaVuSans-105\"/>\n       <use x=\"704.101562\" xlink:href=\"#DejaVuSans-97\"/>\n       <use x=\"765.380859\" xlink:href=\"#DejaVuSans-108\"/>\n       <use x=\"793.164062\" xlink:href=\"#DejaVuSans-116\"/>\n       <use x=\"832.373047\" xlink:href=\"#DejaVuSans-121\"/>\n       <use x=\"891.552734\" xlink:href=\"#DejaVuSans-95\"/>\n       <use x=\"941.552734\" xlink:href=\"#DejaVuSans-78\"/>\n       <use x=\"1016.357422\" xlink:href=\"#DejaVuSans-101\"/>\n       <use x=\"1077.880859\" xlink:href=\"#DejaVuSans-112\"/>\n       <use x=\"1141.357422\" xlink:href=\"#DejaVuSans-104\"/>\n       <use x=\"1204.736328\" xlink:href=\"#DejaVuSans-114\"/>\n       <use x=\"1243.599609\" xlink:href=\"#DejaVuSans-111\"/>\n       <use x=\"1304.78125\" xlink:href=\"#DejaVuSans-108\"/>\n       <use x=\"1332.564453\" xlink:href=\"#DejaVuSans-111\"/>\n       <use x=\"1393.746094\" xlink:href=\"#DejaVuSans-103\"/>\n       <use x=\"1457.222656\" xlink:href=\"#DejaVuSans-121\"/>\n      </g>\n     </g>\n    </g>\n    <g id=\"ytick_9\">\n     <g id=\"line2d_17\">\n      <g>\n       <use style=\"stroke:#000000;stroke-width:0.8;\" x=\"271.292188\" xlink:href=\"#m05ac85b2da\" y=\"1486.108486\"/>\n      </g>\n     </g>\n     <g id=\"text_17\">\n      <!-- medical_specialty_InternalMedicine -->\n      <defs>\n       <path d=\"M 9.8125 72.90625 \nL 19.671875 72.90625 \nL 19.671875 0 \nL 9.8125 0 \nz\n\" id=\"DejaVuSans-73\"/>\n       <path d=\"M 9.8125 72.90625 \nL 24.515625 72.90625 \nL 43.109375 23.296875 \nL 61.8125 72.90625 \nL 76.515625 72.90625 \nL 76.515625 0 \nL 66.890625 0 \nL 66.890625 64.015625 \nL 48.09375 14.015625 \nL 38.1875 14.015625 \nL 19.390625 64.015625 \nL 19.390625 0 \nL 9.8125 0 \nz\n\" id=\"DejaVuSans-77\"/>\n      </defs>\n      <g transform=\"translate(86.91875 1489.907705)scale(0.1 -0.1)\">\n       <use xlink:href=\"#DejaVuSans-109\"/>\n       <use x=\"97.412109\" xlink:href=\"#DejaVuSans-101\"/>\n       <use x=\"158.935547\" xlink:href=\"#DejaVuSans-100\"/>\n       <use x=\"222.412109\" xlink:href=\"#DejaVuSans-105\"/>\n       <use x=\"250.195312\" xlink:href=\"#DejaVuSans-99\"/>\n       <use x=\"305.175781\" xlink:href=\"#DejaVuSans-97\"/>\n       <use x=\"366.455078\" xlink:href=\"#DejaVuSans-108\"/>\n       <use x=\"394.238281\" xlink:href=\"#DejaVuSans-95\"/>\n       <use x=\"444.238281\" xlink:href=\"#DejaVuSans-115\"/>\n       <use x=\"496.337891\" xlink:href=\"#DejaVuSans-112\"/>\n       <use x=\"559.814453\" xlink:href=\"#DejaVuSans-101\"/>\n       <use x=\"621.337891\" xlink:href=\"#DejaVuSans-99\"/>\n       <use x=\"676.318359\" xlink:href=\"#DejaVuSans-105\"/>\n       <use x=\"704.101562\" xlink:href=\"#DejaVuSans-97\"/>\n       <use x=\"765.380859\" xlink:href=\"#DejaVuSans-108\"/>\n       <use x=\"793.164062\" xlink:href=\"#DejaVuSans-116\"/>\n       <use x=\"832.373047\" xlink:href=\"#DejaVuSans-121\"/>\n       <use x=\"891.552734\" xlink:href=\"#DejaVuSans-95\"/>\n       <use x=\"941.552734\" xlink:href=\"#DejaVuSans-73\"/>\n       <use x=\"971.044922\" xlink:href=\"#DejaVuSans-110\"/>\n       <use x=\"1034.423828\" xlink:href=\"#DejaVuSans-116\"/>\n       <use x=\"1073.632812\" xlink:href=\"#DejaVuSans-101\"/>\n       <use x=\"1135.15625\" xlink:href=\"#DejaVuSans-114\"/>\n       <use x=\"1174.519531\" xlink:href=\"#DejaVuSans-110\"/>\n       <use x=\"1237.898438\" xlink:href=\"#DejaVuSans-97\"/>\n       <use x=\"1299.177734\" xlink:href=\"#DejaVuSans-108\"/>\n       <use x=\"1326.960938\" xlink:href=\"#DejaVuSans-77\"/>\n       <use x=\"1413.240234\" xlink:href=\"#DejaVuSans-101\"/>\n       <use x=\"1474.763672\" xlink:href=\"#DejaVuSans-100\"/>\n       <use x=\"1538.240234\" xlink:href=\"#DejaVuSans-105\"/>\n       <use x=\"1566.023438\" xlink:href=\"#DejaVuSans-99\"/>\n       <use x=\"1621.003906\" xlink:href=\"#DejaVuSans-105\"/>\n       <use x=\"1648.787109\" xlink:href=\"#DejaVuSans-110\"/>\n       <use x=\"1712.166016\" xlink:href=\"#DejaVuSans-101\"/>\n      </g>\n     </g>\n    </g>\n    <g id=\"ytick_10\">\n     <g id=\"line2d_18\">\n      <g>\n       <use style=\"stroke:#000000;stroke-width:0.8;\" x=\"271.292188\" xlink:href=\"#m05ac85b2da\" y=\"1466.460294\"/>\n      </g>\n     </g>\n     <g id=\"text_18\">\n      <!-- medical_specialty_Family/GeneralPractice -->\n      <defs>\n       <path d=\"M 9.8125 72.90625 \nL 51.703125 72.90625 \nL 51.703125 64.59375 \nL 19.671875 64.59375 \nL 19.671875 43.109375 \nL 48.578125 43.109375 \nL 48.578125 34.8125 \nL 19.671875 34.8125 \nL 19.671875 0 \nL 9.8125 0 \nz\n\" id=\"DejaVuSans-70\"/>\n       <path d=\"M 25.390625 72.90625 \nL 33.6875 72.90625 \nL 8.296875 -9.28125 \nL 0 -9.28125 \nz\n\" id=\"DejaVuSans-47\"/>\n      </defs>\n      <g transform=\"translate(55.23125 1470.259512)scale(0.1 -0.1)\">\n       <use xlink:href=\"#DejaVuSans-109\"/>\n       <use x=\"97.412109\" xlink:href=\"#DejaVuSans-101\"/>\n       <use x=\"158.935547\" xlink:href=\"#DejaVuSans-100\"/>\n       <use x=\"222.412109\" xlink:href=\"#DejaVuSans-105\"/>\n       <use x=\"250.195312\" xlink:href=\"#DejaVuSans-99\"/>\n       <use x=\"305.175781\" xlink:href=\"#DejaVuSans-97\"/>\n       <use x=\"366.455078\" xlink:href=\"#DejaVuSans-108\"/>\n       <use x=\"394.238281\" xlink:href=\"#DejaVuSans-95\"/>\n       <use x=\"444.238281\" xlink:href=\"#DejaVuSans-115\"/>\n       <use x=\"496.337891\" xlink:href=\"#DejaVuSans-112\"/>\n       <use x=\"559.814453\" xlink:href=\"#DejaVuSans-101\"/>\n       <use x=\"621.337891\" xlink:href=\"#DejaVuSans-99\"/>\n       <use x=\"676.318359\" xlink:href=\"#DejaVuSans-105\"/>\n       <use x=\"704.101562\" xlink:href=\"#DejaVuSans-97\"/>\n       <use x=\"765.380859\" xlink:href=\"#DejaVuSans-108\"/>\n       <use x=\"793.164062\" xlink:href=\"#DejaVuSans-116\"/>\n       <use x=\"832.373047\" xlink:href=\"#DejaVuSans-121\"/>\n       <use x=\"891.552734\" xlink:href=\"#DejaVuSans-95\"/>\n       <use x=\"941.552734\" xlink:href=\"#DejaVuSans-70\"/>\n       <use x=\"989.947266\" xlink:href=\"#DejaVuSans-97\"/>\n       <use x=\"1051.226562\" xlink:href=\"#DejaVuSans-109\"/>\n       <use x=\"1148.638672\" xlink:href=\"#DejaVuSans-105\"/>\n       <use x=\"1176.421875\" xlink:href=\"#DejaVuSans-108\"/>\n       <use x=\"1204.205078\" xlink:href=\"#DejaVuSans-121\"/>\n       <use x=\"1263.384766\" xlink:href=\"#DejaVuSans-47\"/>\n       <use x=\"1297.076172\" xlink:href=\"#DejaVuSans-71\"/>\n       <use x=\"1374.566406\" xlink:href=\"#DejaVuSans-101\"/>\n       <use x=\"1436.089844\" xlink:href=\"#DejaVuSans-110\"/>\n       <use x=\"1499.46875\" xlink:href=\"#DejaVuSans-101\"/>\n       <use x=\"1560.992188\" xlink:href=\"#DejaVuSans-114\"/>\n       <use x=\"1602.105469\" xlink:href=\"#DejaVuSans-97\"/>\n       <use x=\"1663.384766\" xlink:href=\"#DejaVuSans-108\"/>\n       <use x=\"1691.167969\" xlink:href=\"#DejaVuSans-80\"/>\n       <use x=\"1749.720703\" xlink:href=\"#DejaVuSans-114\"/>\n       <use x=\"1790.833984\" xlink:href=\"#DejaVuSans-97\"/>\n       <use x=\"1852.113281\" xlink:href=\"#DejaVuSans-99\"/>\n       <use x=\"1907.09375\" xlink:href=\"#DejaVuSans-116\"/>\n       <use x=\"1946.302734\" xlink:href=\"#DejaVuSans-105\"/>\n       <use x=\"1974.085938\" xlink:href=\"#DejaVuSans-99\"/>\n       <use x=\"2029.066406\" xlink:href=\"#DejaVuSans-101\"/>\n      </g>\n     </g>\n    </g>\n    <g id=\"ytick_11\">\n     <g id=\"line2d_19\">\n      <g>\n       <use style=\"stroke:#000000;stroke-width:0.8;\" x=\"271.292188\" xlink:href=\"#m05ac85b2da\" y=\"1446.812101\"/>\n      </g>\n     </g>\n     <g id=\"text_19\">\n      <!-- age_[90-100) -->\n      <defs>\n       <path d=\"M 8.59375 75.984375 \nL 29.296875 75.984375 \nL 29.296875 69 \nL 17.578125 69 \nL 17.578125 -6.203125 \nL 29.296875 -6.203125 \nL 29.296875 -13.1875 \nL 8.59375 -13.1875 \nz\n\" id=\"DejaVuSans-91\"/>\n       <path d=\"M 10.984375 1.515625 \nL 10.984375 10.5 \nQ 14.703125 8.734375 18.5 7.8125 \nQ 22.3125 6.890625 25.984375 6.890625 \nQ 35.75 6.890625 40.890625 13.453125 \nQ 46.046875 20.015625 46.78125 33.40625 \nQ 43.953125 29.203125 39.59375 26.953125 \nQ 35.25 24.703125 29.984375 24.703125 \nQ 19.046875 24.703125 12.671875 31.3125 \nQ 6.296875 37.9375 6.296875 49.421875 \nQ 6.296875 60.640625 12.9375 67.421875 \nQ 19.578125 74.21875 30.609375 74.21875 \nQ 43.265625 74.21875 49.921875 64.515625 \nQ 56.59375 54.828125 56.59375 36.375 \nQ 56.59375 19.140625 48.40625 8.859375 \nQ 40.234375 -1.421875 26.421875 -1.421875 \nQ 22.703125 -1.421875 18.890625 -0.6875 \nQ 15.09375 0.046875 10.984375 1.515625 \nz\nM 30.609375 32.421875 \nQ 37.25 32.421875 41.125 36.953125 \nQ 45.015625 41.5 45.015625 49.421875 \nQ 45.015625 57.28125 41.125 61.84375 \nQ 37.25 66.40625 30.609375 66.40625 \nQ 23.96875 66.40625 20.09375 61.84375 \nQ 16.21875 57.28125 16.21875 49.421875 \nQ 16.21875 41.5 20.09375 36.953125 \nQ 23.96875 32.421875 30.609375 32.421875 \nz\n\" id=\"DejaVuSans-57\"/>\n       <path d=\"M 8.015625 75.875 \nL 15.828125 75.875 \nQ 23.140625 64.359375 26.78125 53.3125 \nQ 30.421875 42.28125 30.421875 31.390625 \nQ 30.421875 20.453125 26.78125 9.375 \nQ 23.140625 -1.703125 15.828125 -13.1875 \nL 8.015625 -13.1875 \nQ 14.5 -2 17.703125 9.0625 \nQ 20.90625 20.125 20.90625 31.390625 \nQ 20.90625 42.671875 17.703125 53.65625 \nQ 14.5 64.65625 8.015625 75.875 \nz\n\" id=\"DejaVuSans-41\"/>\n      </defs>\n      <g transform=\"translate(197.439063 1450.61132)scale(0.1 -0.1)\">\n       <use xlink:href=\"#DejaVuSans-97\"/>\n       <use x=\"61.279297\" xlink:href=\"#DejaVuSans-103\"/>\n       <use x=\"124.755859\" xlink:href=\"#DejaVuSans-101\"/>\n       <use x=\"186.279297\" xlink:href=\"#DejaVuSans-95\"/>\n       <use x=\"236.279297\" xlink:href=\"#DejaVuSans-91\"/>\n       <use x=\"275.292969\" xlink:href=\"#DejaVuSans-57\"/>\n       <use x=\"338.916016\" xlink:href=\"#DejaVuSans-48\"/>\n       <use x=\"402.539062\" xlink:href=\"#DejaVuSans-45\"/>\n       <use x=\"438.623047\" xlink:href=\"#DejaVuSans-49\"/>\n       <use x=\"502.246094\" xlink:href=\"#DejaVuSans-48\"/>\n       <use x=\"565.869141\" xlink:href=\"#DejaVuSans-48\"/>\n       <use x=\"629.492188\" xlink:href=\"#DejaVuSans-41\"/>\n      </g>\n     </g>\n    </g>\n    <g id=\"ytick_12\">\n     <g id=\"line2d_20\">\n      <g>\n       <use style=\"stroke:#000000;stroke-width:0.8;\" x=\"271.292188\" xlink:href=\"#m05ac85b2da\" y=\"1427.163908\"/>\n      </g>\n     </g>\n     <g id=\"text_20\">\n      <!-- age_[80-90) -->\n      <defs>\n       <path d=\"M 31.78125 34.625 \nQ 24.75 34.625 20.71875 30.859375 \nQ 16.703125 27.09375 16.703125 20.515625 \nQ 16.703125 13.921875 20.71875 10.15625 \nQ 24.75 6.390625 31.78125 6.390625 \nQ 38.8125 6.390625 42.859375 10.171875 \nQ 46.921875 13.96875 46.921875 20.515625 \nQ 46.921875 27.09375 42.890625 30.859375 \nQ 38.875 34.625 31.78125 34.625 \nz\nM 21.921875 38.8125 \nQ 15.578125 40.375 12.03125 44.71875 \nQ 8.5 49.078125 8.5 55.328125 \nQ 8.5 64.0625 14.71875 69.140625 \nQ 20.953125 74.21875 31.78125 74.21875 \nQ 42.671875 74.21875 48.875 69.140625 \nQ 55.078125 64.0625 55.078125 55.328125 \nQ 55.078125 49.078125 51.53125 44.71875 \nQ 48 40.375 41.703125 38.8125 \nQ 48.828125 37.15625 52.796875 32.3125 \nQ 56.78125 27.484375 56.78125 20.515625 \nQ 56.78125 9.90625 50.3125 4.234375 \nQ 43.84375 -1.421875 31.78125 -1.421875 \nQ 19.734375 -1.421875 13.25 4.234375 \nQ 6.78125 9.90625 6.78125 20.515625 \nQ 6.78125 27.484375 10.78125 32.3125 \nQ 14.796875 37.15625 21.921875 38.8125 \nz\nM 18.3125 54.390625 \nQ 18.3125 48.734375 21.84375 45.5625 \nQ 25.390625 42.390625 31.78125 42.390625 \nQ 38.140625 42.390625 41.71875 45.5625 \nQ 45.3125 48.734375 45.3125 54.390625 \nQ 45.3125 60.0625 41.71875 63.234375 \nQ 38.140625 66.40625 31.78125 66.40625 \nQ 25.390625 66.40625 21.84375 63.234375 \nQ 18.3125 60.0625 18.3125 54.390625 \nz\n\" id=\"DejaVuSans-56\"/>\n      </defs>\n      <g transform=\"translate(203.801563 1430.963127)scale(0.1 -0.1)\">\n       <use xlink:href=\"#DejaVuSans-97\"/>\n       <use x=\"61.279297\" xlink:href=\"#DejaVuSans-103\"/>\n       <use x=\"124.755859\" xlink:href=\"#DejaVuSans-101\"/>\n       <use x=\"186.279297\" xlink:href=\"#DejaVuSans-95\"/>\n       <use x=\"236.279297\" xlink:href=\"#DejaVuSans-91\"/>\n       <use x=\"275.292969\" xlink:href=\"#DejaVuSans-56\"/>\n       <use x=\"338.916016\" xlink:href=\"#DejaVuSans-48\"/>\n       <use x=\"402.539062\" xlink:href=\"#DejaVuSans-45\"/>\n       <use x=\"438.623047\" xlink:href=\"#DejaVuSans-57\"/>\n       <use x=\"502.246094\" xlink:href=\"#DejaVuSans-48\"/>\n       <use x=\"565.869141\" xlink:href=\"#DejaVuSans-41\"/>\n      </g>\n     </g>\n    </g>\n    <g id=\"ytick_13\">\n     <g id=\"line2d_21\">\n      <g>\n       <use style=\"stroke:#000000;stroke-width:0.8;\" x=\"271.292188\" xlink:href=\"#m05ac85b2da\" y=\"1407.515715\"/>\n      </g>\n     </g>\n     <g id=\"text_21\">\n      <!-- age_[70-80) -->\n      <g transform=\"translate(203.801563 1411.314934)scale(0.1 -0.1)\">\n       <use xlink:href=\"#DejaVuSans-97\"/>\n       <use x=\"61.279297\" xlink:href=\"#DejaVuSans-103\"/>\n       <use x=\"124.755859\" xlink:href=\"#DejaVuSans-101\"/>\n       <use x=\"186.279297\" xlink:href=\"#DejaVuSans-95\"/>\n       <use x=\"236.279297\" xlink:href=\"#DejaVuSans-91\"/>\n       <use x=\"275.292969\" xlink:href=\"#DejaVuSans-55\"/>\n       <use x=\"338.916016\" xlink:href=\"#DejaVuSans-48\"/>\n       <use x=\"402.539062\" xlink:href=\"#DejaVuSans-45\"/>\n       <use x=\"438.623047\" xlink:href=\"#DejaVuSans-56\"/>\n       <use x=\"502.246094\" xlink:href=\"#DejaVuSans-48\"/>\n       <use x=\"565.869141\" xlink:href=\"#DejaVuSans-41\"/>\n      </g>\n     </g>\n    </g>\n    <g id=\"ytick_14\">\n     <g id=\"line2d_22\">\n      <g>\n       <use style=\"stroke:#000000;stroke-width:0.8;\" x=\"271.292188\" xlink:href=\"#m05ac85b2da\" y=\"1387.867523\"/>\n      </g>\n     </g>\n     <g id=\"text_22\">\n      <!-- age_[60-70) -->\n      <defs>\n       <path d=\"M 33.015625 40.375 \nQ 26.375 40.375 22.484375 35.828125 \nQ 18.609375 31.296875 18.609375 23.390625 \nQ 18.609375 15.53125 22.484375 10.953125 \nQ 26.375 6.390625 33.015625 6.390625 \nQ 39.65625 6.390625 43.53125 10.953125 \nQ 47.40625 15.53125 47.40625 23.390625 \nQ 47.40625 31.296875 43.53125 35.828125 \nQ 39.65625 40.375 33.015625 40.375 \nz\nM 52.59375 71.296875 \nL 52.59375 62.3125 \nQ 48.875 64.0625 45.09375 64.984375 \nQ 41.3125 65.921875 37.59375 65.921875 \nQ 27.828125 65.921875 22.671875 59.328125 \nQ 17.53125 52.734375 16.796875 39.40625 \nQ 19.671875 43.65625 24.015625 45.921875 \nQ 28.375 48.1875 33.59375 48.1875 \nQ 44.578125 48.1875 50.953125 41.515625 \nQ 57.328125 34.859375 57.328125 23.390625 \nQ 57.328125 12.15625 50.6875 5.359375 \nQ 44.046875 -1.421875 33.015625 -1.421875 \nQ 20.359375 -1.421875 13.671875 8.265625 \nQ 6.984375 17.96875 6.984375 36.375 \nQ 6.984375 53.65625 15.1875 63.9375 \nQ 23.390625 74.21875 37.203125 74.21875 \nQ 40.921875 74.21875 44.703125 73.484375 \nQ 48.484375 72.75 52.59375 71.296875 \nz\n\" id=\"DejaVuSans-54\"/>\n      </defs>\n      <g transform=\"translate(203.801563 1391.666741)scale(0.1 -0.1)\">\n       <use xlink:href=\"#DejaVuSans-97\"/>\n       <use x=\"61.279297\" xlink:href=\"#DejaVuSans-103\"/>\n       <use x=\"124.755859\" xlink:href=\"#DejaVuSans-101\"/>\n       <use x=\"186.279297\" xlink:href=\"#DejaVuSans-95\"/>\n       <use x=\"236.279297\" xlink:href=\"#DejaVuSans-91\"/>\n       <use x=\"275.292969\" xlink:href=\"#DejaVuSans-54\"/>\n       <use x=\"338.916016\" xlink:href=\"#DejaVuSans-48\"/>\n       <use x=\"402.539062\" xlink:href=\"#DejaVuSans-45\"/>\n       <use x=\"438.623047\" xlink:href=\"#DejaVuSans-55\"/>\n       <use x=\"502.246094\" xlink:href=\"#DejaVuSans-48\"/>\n       <use x=\"565.869141\" xlink:href=\"#DejaVuSans-41\"/>\n      </g>\n     </g>\n    </g>\n    <g id=\"ytick_15\">\n     <g id=\"line2d_23\">\n      <g>\n       <use style=\"stroke:#000000;stroke-width:0.8;\" x=\"271.292188\" xlink:href=\"#m05ac85b2da\" y=\"1368.21933\"/>\n      </g>\n     </g>\n     <g id=\"text_23\">\n      <!-- age_[50-60) -->\n      <g transform=\"translate(203.801563 1372.018549)scale(0.1 -0.1)\">\n       <use xlink:href=\"#DejaVuSans-97\"/>\n       <use x=\"61.279297\" xlink:href=\"#DejaVuSans-103\"/>\n       <use x=\"124.755859\" xlink:href=\"#DejaVuSans-101\"/>\n       <use x=\"186.279297\" xlink:href=\"#DejaVuSans-95\"/>\n       <use x=\"236.279297\" xlink:href=\"#DejaVuSans-91\"/>\n       <use x=\"275.292969\" xlink:href=\"#DejaVuSans-53\"/>\n       <use x=\"338.916016\" xlink:href=\"#DejaVuSans-48\"/>\n       <use x=\"402.539062\" xlink:href=\"#DejaVuSans-45\"/>\n       <use x=\"438.623047\" xlink:href=\"#DejaVuSans-54\"/>\n       <use x=\"502.246094\" xlink:href=\"#DejaVuSans-48\"/>\n       <use x=\"565.869141\" xlink:href=\"#DejaVuSans-41\"/>\n      </g>\n     </g>\n    </g>\n    <g id=\"ytick_16\">\n     <g id=\"line2d_24\">\n      <g>\n       <use style=\"stroke:#000000;stroke-width:0.8;\" x=\"271.292188\" xlink:href=\"#m05ac85b2da\" y=\"1348.571137\"/>\n      </g>\n     </g>\n     <g id=\"text_24\">\n      <!-- age_[40-50) -->\n      <defs>\n       <path d=\"M 37.796875 64.3125 \nL 12.890625 25.390625 \nL 37.796875 25.390625 \nz\nM 35.203125 72.90625 \nL 47.609375 72.90625 \nL 47.609375 25.390625 \nL 58.015625 25.390625 \nL 58.015625 17.1875 \nL 47.609375 17.1875 \nL 47.609375 0 \nL 37.796875 0 \nL 37.796875 17.1875 \nL 4.890625 17.1875 \nL 4.890625 26.703125 \nz\n\" id=\"DejaVuSans-52\"/>\n      </defs>\n      <g transform=\"translate(203.801563 1352.370356)scale(0.1 -0.1)\">\n       <use xlink:href=\"#DejaVuSans-97\"/>\n       <use x=\"61.279297\" xlink:href=\"#DejaVuSans-103\"/>\n       <use x=\"124.755859\" xlink:href=\"#DejaVuSans-101\"/>\n       <use x=\"186.279297\" xlink:href=\"#DejaVuSans-95\"/>\n       <use x=\"236.279297\" xlink:href=\"#DejaVuSans-91\"/>\n       <use x=\"275.292969\" xlink:href=\"#DejaVuSans-52\"/>\n       <use x=\"338.916016\" xlink:href=\"#DejaVuSans-48\"/>\n       <use x=\"402.539062\" xlink:href=\"#DejaVuSans-45\"/>\n       <use x=\"438.623047\" xlink:href=\"#DejaVuSans-53\"/>\n       <use x=\"502.246094\" xlink:href=\"#DejaVuSans-48\"/>\n       <use x=\"565.869141\" xlink:href=\"#DejaVuSans-41\"/>\n      </g>\n     </g>\n    </g>\n    <g id=\"ytick_17\">\n     <g id=\"line2d_25\">\n      <g>\n       <use style=\"stroke:#000000;stroke-width:0.8;\" x=\"271.292188\" xlink:href=\"#m05ac85b2da\" y=\"1328.922944\"/>\n      </g>\n     </g>\n     <g id=\"text_25\">\n      <!-- age_[30-40) -->\n      <defs>\n       <path d=\"M 40.578125 39.3125 \nQ 47.65625 37.796875 51.625 33 \nQ 55.609375 28.21875 55.609375 21.1875 \nQ 55.609375 10.40625 48.1875 4.484375 \nQ 40.765625 -1.421875 27.09375 -1.421875 \nQ 22.515625 -1.421875 17.65625 -0.515625 \nQ 12.796875 0.390625 7.625 2.203125 \nL 7.625 11.71875 \nQ 11.71875 9.328125 16.59375 8.109375 \nQ 21.484375 6.890625 26.8125 6.890625 \nQ 36.078125 6.890625 40.9375 10.546875 \nQ 45.796875 14.203125 45.796875 21.1875 \nQ 45.796875 27.640625 41.28125 31.265625 \nQ 36.765625 34.90625 28.71875 34.90625 \nL 20.21875 34.90625 \nL 20.21875 43.015625 \nL 29.109375 43.015625 \nQ 36.375 43.015625 40.234375 45.921875 \nQ 44.09375 48.828125 44.09375 54.296875 \nQ 44.09375 59.90625 40.109375 62.90625 \nQ 36.140625 65.921875 28.71875 65.921875 \nQ 24.65625 65.921875 20.015625 65.03125 \nQ 15.375 64.15625 9.8125 62.3125 \nL 9.8125 71.09375 \nQ 15.4375 72.65625 20.34375 73.4375 \nQ 25.25 74.21875 29.59375 74.21875 \nQ 40.828125 74.21875 47.359375 69.109375 \nQ 53.90625 64.015625 53.90625 55.328125 \nQ 53.90625 49.265625 50.4375 45.09375 \nQ 46.96875 40.921875 40.578125 39.3125 \nz\n\" id=\"DejaVuSans-51\"/>\n      </defs>\n      <g transform=\"translate(203.801563 1332.722163)scale(0.1 -0.1)\">\n       <use xlink:href=\"#DejaVuSans-97\"/>\n       <use x=\"61.279297\" xlink:href=\"#DejaVuSans-103\"/>\n       <use x=\"124.755859\" xlink:href=\"#DejaVuSans-101\"/>\n       <use x=\"186.279297\" xlink:href=\"#DejaVuSans-95\"/>\n       <use x=\"236.279297\" xlink:href=\"#DejaVuSans-91\"/>\n       <use x=\"275.292969\" xlink:href=\"#DejaVuSans-51\"/>\n       <use x=\"338.916016\" xlink:href=\"#DejaVuSans-48\"/>\n       <use x=\"402.539062\" xlink:href=\"#DejaVuSans-45\"/>\n       <use x=\"438.623047\" xlink:href=\"#DejaVuSans-52\"/>\n       <use x=\"502.246094\" xlink:href=\"#DejaVuSans-48\"/>\n       <use x=\"565.869141\" xlink:href=\"#DejaVuSans-41\"/>\n      </g>\n     </g>\n    </g>\n    <g id=\"ytick_18\">\n     <g id=\"line2d_26\">\n      <g>\n       <use style=\"stroke:#000000;stroke-width:0.8;\" x=\"271.292188\" xlink:href=\"#m05ac85b2da\" y=\"1309.274752\"/>\n      </g>\n     </g>\n     <g id=\"text_26\">\n      <!-- medical_specialty_Emergency/Trauma -->\n      <defs>\n       <path d=\"M 9.8125 72.90625 \nL 55.90625 72.90625 \nL 55.90625 64.59375 \nL 19.671875 64.59375 \nL 19.671875 43.015625 \nL 54.390625 43.015625 \nL 54.390625 34.71875 \nL 19.671875 34.71875 \nL 19.671875 8.296875 \nL 56.78125 8.296875 \nL 56.78125 0 \nL 9.8125 0 \nz\n\" id=\"DejaVuSans-69\"/>\n       <path d=\"M -0.296875 72.90625 \nL 61.375 72.90625 \nL 61.375 64.59375 \nL 35.5 64.59375 \nL 35.5 0 \nL 25.59375 0 \nL 25.59375 64.59375 \nL -0.296875 64.59375 \nz\n\" id=\"DejaVuSans-84\"/>\n      </defs>\n      <g transform=\"translate(73.282813 1313.07397)scale(0.1 -0.1)\">\n       <use xlink:href=\"#DejaVuSans-109\"/>\n       <use x=\"97.412109\" xlink:href=\"#DejaVuSans-101\"/>\n       <use x=\"158.935547\" xlink:href=\"#DejaVuSans-100\"/>\n       <use x=\"222.412109\" xlink:href=\"#DejaVuSans-105\"/>\n       <use x=\"250.195312\" xlink:href=\"#DejaVuSans-99\"/>\n       <use x=\"305.175781\" xlink:href=\"#DejaVuSans-97\"/>\n       <use x=\"366.455078\" xlink:href=\"#DejaVuSans-108\"/>\n       <use x=\"394.238281\" xlink:href=\"#DejaVuSans-95\"/>\n       <use x=\"444.238281\" xlink:href=\"#DejaVuSans-115\"/>\n       <use x=\"496.337891\" xlink:href=\"#DejaVuSans-112\"/>\n       <use x=\"559.814453\" xlink:href=\"#DejaVuSans-101\"/>\n       <use x=\"621.337891\" xlink:href=\"#DejaVuSans-99\"/>\n       <use x=\"676.318359\" xlink:href=\"#DejaVuSans-105\"/>\n       <use x=\"704.101562\" xlink:href=\"#DejaVuSans-97\"/>\n       <use x=\"765.380859\" xlink:href=\"#DejaVuSans-108\"/>\n       <use x=\"793.164062\" xlink:href=\"#DejaVuSans-116\"/>\n       <use x=\"832.373047\" xlink:href=\"#DejaVuSans-121\"/>\n       <use x=\"891.552734\" xlink:href=\"#DejaVuSans-95\"/>\n       <use x=\"941.552734\" xlink:href=\"#DejaVuSans-69\"/>\n       <use x=\"1004.736328\" xlink:href=\"#DejaVuSans-109\"/>\n       <use x=\"1102.148438\" xlink:href=\"#DejaVuSans-101\"/>\n       <use x=\"1163.671875\" xlink:href=\"#DejaVuSans-114\"/>\n       <use x=\"1203.035156\" xlink:href=\"#DejaVuSans-103\"/>\n       <use x=\"1266.511719\" xlink:href=\"#DejaVuSans-101\"/>\n       <use x=\"1328.035156\" xlink:href=\"#DejaVuSans-110\"/>\n       <use x=\"1391.414062\" xlink:href=\"#DejaVuSans-99\"/>\n       <use x=\"1446.394531\" xlink:href=\"#DejaVuSans-121\"/>\n       <use x=\"1505.574219\" xlink:href=\"#DejaVuSans-47\"/>\n       <use x=\"1539.265625\" xlink:href=\"#DejaVuSans-84\"/>\n       <use x=\"1585.599609\" xlink:href=\"#DejaVuSans-114\"/>\n       <use x=\"1626.712891\" xlink:href=\"#DejaVuSans-97\"/>\n       <use x=\"1687.992188\" xlink:href=\"#DejaVuSans-117\"/>\n       <use x=\"1751.371094\" xlink:href=\"#DejaVuSans-109\"/>\n       <use x=\"1848.783203\" xlink:href=\"#DejaVuSans-97\"/>\n      </g>\n     </g>\n    </g>\n    <g id=\"ytick_19\">\n     <g id=\"line2d_27\">\n      <g>\n       <use style=\"stroke:#000000;stroke-width:0.8;\" x=\"271.292188\" xlink:href=\"#m05ac85b2da\" y=\"1289.626559\"/>\n      </g>\n     </g>\n     <g id=\"text_27\">\n      <!-- medical_specialty_Pulmonology -->\n      <g transform=\"translate(105.684375 1293.425777)scale(0.1 -0.1)\">\n       <use xlink:href=\"#DejaVuSans-109\"/>\n       <use x=\"97.412109\" xlink:href=\"#DejaVuSans-101\"/>\n       <use x=\"158.935547\" xlink:href=\"#DejaVuSans-100\"/>\n       <use x=\"222.412109\" xlink:href=\"#DejaVuSans-105\"/>\n       <use x=\"250.195312\" xlink:href=\"#DejaVuSans-99\"/>\n       <use x=\"305.175781\" xlink:href=\"#DejaVuSans-97\"/>\n       <use x=\"366.455078\" xlink:href=\"#DejaVuSans-108\"/>\n       <use x=\"394.238281\" xlink:href=\"#DejaVuSans-95\"/>\n       <use x=\"444.238281\" xlink:href=\"#DejaVuSans-115\"/>\n       <use x=\"496.337891\" xlink:href=\"#DejaVuSans-112\"/>\n       <use x=\"559.814453\" xlink:href=\"#DejaVuSans-101\"/>\n       <use x=\"621.337891\" xlink:href=\"#DejaVuSans-99\"/>\n       <use x=\"676.318359\" xlink:href=\"#DejaVuSans-105\"/>\n       <use x=\"704.101562\" xlink:href=\"#DejaVuSans-97\"/>\n       <use x=\"765.380859\" xlink:href=\"#DejaVuSans-108\"/>\n       <use x=\"793.164062\" xlink:href=\"#DejaVuSans-116\"/>\n       <use x=\"832.373047\" xlink:href=\"#DejaVuSans-121\"/>\n       <use x=\"891.552734\" xlink:href=\"#DejaVuSans-95\"/>\n       <use x=\"941.552734\" xlink:href=\"#DejaVuSans-80\"/>\n       <use x=\"1000.105469\" xlink:href=\"#DejaVuSans-117\"/>\n       <use x=\"1063.484375\" xlink:href=\"#DejaVuSans-108\"/>\n       <use x=\"1091.267578\" xlink:href=\"#DejaVuSans-109\"/>\n       <use x=\"1188.679688\" xlink:href=\"#DejaVuSans-111\"/>\n       <use x=\"1249.861328\" xlink:href=\"#DejaVuSans-110\"/>\n       <use x=\"1313.240234\" xlink:href=\"#DejaVuSans-111\"/>\n       <use x=\"1374.421875\" xlink:href=\"#DejaVuSans-108\"/>\n       <use x=\"1402.205078\" xlink:href=\"#DejaVuSans-111\"/>\n       <use x=\"1463.386719\" xlink:href=\"#DejaVuSans-103\"/>\n       <use x=\"1526.863281\" xlink:href=\"#DejaVuSans-121\"/>\n      </g>\n     </g>\n    </g>\n    <g id=\"ytick_20\">\n     <g id=\"line2d_28\">\n      <g>\n       <use style=\"stroke:#000000;stroke-width:0.8;\" x=\"271.292188\" xlink:href=\"#m05ac85b2da\" y=\"1269.978366\"/>\n      </g>\n     </g>\n     <g id=\"text_28\">\n      <!-- medical_specialty_Radiologist -->\n      <g transform=\"translate(114.884375 1273.777585)scale(0.1 -0.1)\">\n       <use xlink:href=\"#DejaVuSans-109\"/>\n       <use x=\"97.412109\" xlink:href=\"#DejaVuSans-101\"/>\n       <use x=\"158.935547\" xlink:href=\"#DejaVuSans-100\"/>\n       <use x=\"222.412109\" xlink:href=\"#DejaVuSans-105\"/>\n       <use x=\"250.195312\" xlink:href=\"#DejaVuSans-99\"/>\n       <use x=\"305.175781\" xlink:href=\"#DejaVuSans-97\"/>\n       <use x=\"366.455078\" xlink:href=\"#DejaVuSans-108\"/>\n       <use x=\"394.238281\" xlink:href=\"#DejaVuSans-95\"/>\n       <use x=\"444.238281\" xlink:href=\"#DejaVuSans-115\"/>\n       <use x=\"496.337891\" xlink:href=\"#DejaVuSans-112\"/>\n       <use x=\"559.814453\" xlink:href=\"#DejaVuSans-101\"/>\n       <use x=\"621.337891\" xlink:href=\"#DejaVuSans-99\"/>\n       <use x=\"676.318359\" xlink:href=\"#DejaVuSans-105\"/>\n       <use x=\"704.101562\" xlink:href=\"#DejaVuSans-97\"/>\n       <use x=\"765.380859\" xlink:href=\"#DejaVuSans-108\"/>\n       <use x=\"793.164062\" xlink:href=\"#DejaVuSans-116\"/>\n       <use x=\"832.373047\" xlink:href=\"#DejaVuSans-121\"/>\n       <use x=\"891.552734\" xlink:href=\"#DejaVuSans-95\"/>\n       <use x=\"941.552734\" xlink:href=\"#DejaVuSans-82\"/>\n       <use x=\"1008.785156\" xlink:href=\"#DejaVuSans-97\"/>\n       <use x=\"1070.064453\" xlink:href=\"#DejaVuSans-100\"/>\n       <use x=\"1133.541016\" xlink:href=\"#DejaVuSans-105\"/>\n       <use x=\"1161.324219\" xlink:href=\"#DejaVuSans-111\"/>\n       <use x=\"1222.505859\" xlink:href=\"#DejaVuSans-108\"/>\n       <use x=\"1250.289062\" xlink:href=\"#DejaVuSans-111\"/>\n       <use x=\"1311.470703\" xlink:href=\"#DejaVuSans-103\"/>\n       <use x=\"1374.947266\" xlink:href=\"#DejaVuSans-105\"/>\n       <use x=\"1402.730469\" xlink:href=\"#DejaVuSans-115\"/>\n       <use x=\"1454.830078\" xlink:href=\"#DejaVuSans-116\"/>\n      </g>\n     </g>\n    </g>\n    <g id=\"ytick_21\">\n     <g id=\"line2d_29\">\n      <g>\n       <use style=\"stroke:#000000;stroke-width:0.8;\" x=\"271.292188\" xlink:href=\"#m05ac85b2da\" y=\"1250.330173\"/>\n      </g>\n     </g>\n     <g id=\"text_29\">\n      <!-- medical_specialty_Surgery-General -->\n      <defs>\n       <path d=\"M 53.515625 70.515625 \nL 53.515625 60.890625 \nQ 47.90625 63.578125 42.921875 64.890625 \nQ 37.9375 66.21875 33.296875 66.21875 \nQ 25.25 66.21875 20.875 63.09375 \nQ 16.5 59.96875 16.5 54.203125 \nQ 16.5 49.359375 19.40625 46.890625 \nQ 22.3125 44.4375 30.421875 42.921875 \nL 36.375 41.703125 \nQ 47.40625 39.59375 52.65625 34.296875 \nQ 57.90625 29 57.90625 20.125 \nQ 57.90625 9.515625 50.796875 4.046875 \nQ 43.703125 -1.421875 29.984375 -1.421875 \nQ 24.8125 -1.421875 18.96875 -0.25 \nQ 13.140625 0.921875 6.890625 3.21875 \nL 6.890625 13.375 \nQ 12.890625 10.015625 18.65625 8.296875 \nQ 24.421875 6.59375 29.984375 6.59375 \nQ 38.421875 6.59375 43.015625 9.90625 \nQ 47.609375 13.234375 47.609375 19.390625 \nQ 47.609375 24.75 44.3125 27.78125 \nQ 41.015625 30.8125 33.5 32.328125 \nL 27.484375 33.5 \nQ 16.453125 35.6875 11.515625 40.375 \nQ 6.59375 45.0625 6.59375 53.421875 \nQ 6.59375 63.09375 13.40625 68.65625 \nQ 20.21875 74.21875 32.171875 74.21875 \nQ 37.3125 74.21875 42.625 73.28125 \nQ 47.953125 72.359375 53.515625 70.515625 \nz\n\" id=\"DejaVuSans-83\"/>\n      </defs>\n      <g transform=\"translate(87.776563 1254.129392)scale(0.1 -0.1)\">\n       <use xlink:href=\"#DejaVuSans-109\"/>\n       <use x=\"97.412109\" xlink:href=\"#DejaVuSans-101\"/>\n       <use x=\"158.935547\" xlink:href=\"#DejaVuSans-100\"/>\n       <use x=\"222.412109\" xlink:href=\"#DejaVuSans-105\"/>\n       <use x=\"250.195312\" xlink:href=\"#DejaVuSans-99\"/>\n       <use x=\"305.175781\" xlink:href=\"#DejaVuSans-97\"/>\n       <use x=\"366.455078\" xlink:href=\"#DejaVuSans-108\"/>\n       <use x=\"394.238281\" xlink:href=\"#DejaVuSans-95\"/>\n       <use x=\"444.238281\" xlink:href=\"#DejaVuSans-115\"/>\n       <use x=\"496.337891\" xlink:href=\"#DejaVuSans-112\"/>\n       <use x=\"559.814453\" xlink:href=\"#DejaVuSans-101\"/>\n       <use x=\"621.337891\" xlink:href=\"#DejaVuSans-99\"/>\n       <use x=\"676.318359\" xlink:href=\"#DejaVuSans-105\"/>\n       <use x=\"704.101562\" xlink:href=\"#DejaVuSans-97\"/>\n       <use x=\"765.380859\" xlink:href=\"#DejaVuSans-108\"/>\n       <use x=\"793.164062\" xlink:href=\"#DejaVuSans-116\"/>\n       <use x=\"832.373047\" xlink:href=\"#DejaVuSans-121\"/>\n       <use x=\"891.552734\" xlink:href=\"#DejaVuSans-95\"/>\n       <use x=\"941.552734\" xlink:href=\"#DejaVuSans-83\"/>\n       <use x=\"1005.029297\" xlink:href=\"#DejaVuSans-117\"/>\n       <use x=\"1068.408203\" xlink:href=\"#DejaVuSans-114\"/>\n       <use x=\"1107.771484\" xlink:href=\"#DejaVuSans-103\"/>\n       <use x=\"1171.248047\" xlink:href=\"#DejaVuSans-101\"/>\n       <use x=\"1232.771484\" xlink:href=\"#DejaVuSans-114\"/>\n       <use x=\"1273.884766\" xlink:href=\"#DejaVuSans-121\"/>\n       <use x=\"1331.314453\" xlink:href=\"#DejaVuSans-45\"/>\n       <use x=\"1371.023438\" xlink:href=\"#DejaVuSans-71\"/>\n       <use x=\"1448.513672\" xlink:href=\"#DejaVuSans-101\"/>\n       <use x=\"1510.037109\" xlink:href=\"#DejaVuSans-110\"/>\n       <use x=\"1573.416016\" xlink:href=\"#DejaVuSans-101\"/>\n       <use x=\"1634.939453\" xlink:href=\"#DejaVuSans-114\"/>\n       <use x=\"1676.052734\" xlink:href=\"#DejaVuSans-97\"/>\n       <use x=\"1737.332031\" xlink:href=\"#DejaVuSans-108\"/>\n      </g>\n     </g>\n    </g>\n    <g id=\"ytick_22\">\n     <g id=\"line2d_30\">\n      <g>\n       <use style=\"stroke:#000000;stroke-width:0.8;\" x=\"271.292188\" xlink:href=\"#m05ac85b2da\" y=\"1230.68198\"/>\n      </g>\n     </g>\n     <g id=\"text_30\">\n      <!-- diag_2_Neoplasms -->\n      <g transform=\"translate(171.159375 1234.481199)scale(0.1 -0.1)\">\n       <use xlink:href=\"#DejaVuSans-100\"/>\n       <use x=\"63.476562\" xlink:href=\"#DejaVuSans-105\"/>\n       <use x=\"91.259766\" xlink:href=\"#DejaVuSans-97\"/>\n       <use x=\"152.539062\" xlink:href=\"#DejaVuSans-103\"/>\n       <use x=\"216.015625\" xlink:href=\"#DejaVuSans-95\"/>\n       <use x=\"266.015625\" xlink:href=\"#DejaVuSans-50\"/>\n       <use x=\"329.638672\" xlink:href=\"#DejaVuSans-95\"/>\n       <use x=\"379.638672\" xlink:href=\"#DejaVuSans-78\"/>\n       <use x=\"454.443359\" xlink:href=\"#DejaVuSans-101\"/>\n       <use x=\"515.966797\" xlink:href=\"#DejaVuSans-111\"/>\n       <use x=\"577.148438\" xlink:href=\"#DejaVuSans-112\"/>\n       <use x=\"640.625\" xlink:href=\"#DejaVuSans-108\"/>\n       <use x=\"668.408203\" xlink:href=\"#DejaVuSans-97\"/>\n       <use x=\"729.6875\" xlink:href=\"#DejaVuSans-115\"/>\n       <use x=\"781.787109\" xlink:href=\"#DejaVuSans-109\"/>\n       <use x=\"879.199219\" xlink:href=\"#DejaVuSans-115\"/>\n      </g>\n     </g>\n    </g>\n    <g id=\"ytick_23\">\n     <g id=\"line2d_31\">\n      <g>\n       <use style=\"stroke:#000000;stroke-width:0.8;\" x=\"271.292188\" xlink:href=\"#m05ac85b2da\" y=\"1211.033788\"/>\n      </g>\n     </g>\n     <g id=\"text_31\">\n      <!-- diag_2_Muscoloskeletal -->\n      <defs>\n       <path d=\"M 9.078125 75.984375 \nL 18.109375 75.984375 \nL 18.109375 31.109375 \nL 44.921875 54.6875 \nL 56.390625 54.6875 \nL 27.390625 29.109375 \nL 57.625 0 \nL 45.90625 0 \nL 18.109375 26.703125 \nL 18.109375 0 \nL 9.078125 0 \nz\n\" id=\"DejaVuSans-107\"/>\n      </defs>\n      <g transform=\"translate(147.089063 1214.833006)scale(0.1 -0.1)\">\n       <use xlink:href=\"#DejaVuSans-100\"/>\n       <use x=\"63.476562\" xlink:href=\"#DejaVuSans-105\"/>\n       <use x=\"91.259766\" xlink:href=\"#DejaVuSans-97\"/>\n       <use x=\"152.539062\" xlink:href=\"#DejaVuSans-103\"/>\n       <use x=\"216.015625\" xlink:href=\"#DejaVuSans-95\"/>\n       <use x=\"266.015625\" xlink:href=\"#DejaVuSans-50\"/>\n       <use x=\"329.638672\" xlink:href=\"#DejaVuSans-95\"/>\n       <use x=\"379.638672\" xlink:href=\"#DejaVuSans-77\"/>\n       <use x=\"465.917969\" xlink:href=\"#DejaVuSans-117\"/>\n       <use x=\"529.296875\" xlink:href=\"#DejaVuSans-115\"/>\n       <use x=\"581.396484\" xlink:href=\"#DejaVuSans-99\"/>\n       <use x=\"636.376953\" xlink:href=\"#DejaVuSans-111\"/>\n       <use x=\"697.558594\" xlink:href=\"#DejaVuSans-108\"/>\n       <use x=\"725.341797\" xlink:href=\"#DejaVuSans-111\"/>\n       <use x=\"786.523438\" xlink:href=\"#DejaVuSans-115\"/>\n       <use x=\"838.623047\" xlink:href=\"#DejaVuSans-107\"/>\n       <use x=\"892.908203\" xlink:href=\"#DejaVuSans-101\"/>\n       <use x=\"954.431641\" xlink:href=\"#DejaVuSans-108\"/>\n       <use x=\"982.214844\" xlink:href=\"#DejaVuSans-101\"/>\n       <use x=\"1043.738281\" xlink:href=\"#DejaVuSans-116\"/>\n       <use x=\"1082.947266\" xlink:href=\"#DejaVuSans-97\"/>\n       <use x=\"1144.226562\" xlink:href=\"#DejaVuSans-108\"/>\n      </g>\n     </g>\n    </g>\n    <g id=\"ytick_24\">\n     <g id=\"line2d_32\">\n      <g>\n       <use style=\"stroke:#000000;stroke-width:0.8;\" x=\"271.292188\" xlink:href=\"#m05ac85b2da\" y=\"1191.385595\"/>\n      </g>\n     </g>\n     <g id=\"text_32\">\n      <!-- diag_2_Injury -->\n      <defs>\n       <path d=\"M 9.421875 54.6875 \nL 18.40625 54.6875 \nL 18.40625 -0.984375 \nQ 18.40625 -11.421875 14.421875 -16.109375 \nQ 10.453125 -20.796875 1.609375 -20.796875 \nL -1.8125 -20.796875 \nL -1.8125 -13.1875 \nL 0.59375 -13.1875 \nQ 5.71875 -13.1875 7.5625 -10.8125 \nQ 9.421875 -8.453125 9.421875 -0.984375 \nz\nM 9.421875 75.984375 \nL 18.40625 75.984375 \nL 18.40625 64.59375 \nL 9.421875 64.59375 \nz\n\" id=\"DejaVuSans-106\"/>\n      </defs>\n      <g transform=\"translate(197.89375 1195.184814)scale(0.1 -0.1)\">\n       <use xlink:href=\"#DejaVuSans-100\"/>\n       <use x=\"63.476562\" xlink:href=\"#DejaVuSans-105\"/>\n       <use x=\"91.259766\" xlink:href=\"#DejaVuSans-97\"/>\n       <use x=\"152.539062\" xlink:href=\"#DejaVuSans-103\"/>\n       <use x=\"216.015625\" xlink:href=\"#DejaVuSans-95\"/>\n       <use x=\"266.015625\" xlink:href=\"#DejaVuSans-50\"/>\n       <use x=\"329.638672\" xlink:href=\"#DejaVuSans-95\"/>\n       <use x=\"379.638672\" xlink:href=\"#DejaVuSans-73\"/>\n       <use x=\"409.130859\" xlink:href=\"#DejaVuSans-110\"/>\n       <use x=\"472.509766\" xlink:href=\"#DejaVuSans-106\"/>\n       <use x=\"500.292969\" xlink:href=\"#DejaVuSans-117\"/>\n       <use x=\"563.671875\" xlink:href=\"#DejaVuSans-114\"/>\n       <use x=\"604.785156\" xlink:href=\"#DejaVuSans-121\"/>\n      </g>\n     </g>\n    </g>\n    <g id=\"ytick_25\">\n     <g id=\"line2d_33\">\n      <g>\n       <use style=\"stroke:#000000;stroke-width:0.8;\" x=\"271.292188\" xlink:href=\"#m05ac85b2da\" y=\"1171.737402\"/>\n      </g>\n     </g>\n     <g id=\"text_33\">\n      <!-- diag_2_Genitourinary -->\n      <g transform=\"translate(157.548438 1175.536621)scale(0.1 -0.1)\">\n       <use xlink:href=\"#DejaVuSans-100\"/>\n       <use x=\"63.476562\" xlink:href=\"#DejaVuSans-105\"/>\n       <use x=\"91.259766\" xlink:href=\"#DejaVuSans-97\"/>\n       <use x=\"152.539062\" xlink:href=\"#DejaVuSans-103\"/>\n       <use x=\"216.015625\" xlink:href=\"#DejaVuSans-95\"/>\n       <use x=\"266.015625\" xlink:href=\"#DejaVuSans-50\"/>\n       <use x=\"329.638672\" xlink:href=\"#DejaVuSans-95\"/>\n       <use x=\"379.638672\" xlink:href=\"#DejaVuSans-71\"/>\n       <use x=\"457.128906\" xlink:href=\"#DejaVuSans-101\"/>\n       <use x=\"518.652344\" xlink:href=\"#DejaVuSans-110\"/>\n       <use x=\"582.03125\" xlink:href=\"#DejaVuSans-105\"/>\n       <use x=\"609.814453\" xlink:href=\"#DejaVuSans-116\"/>\n       <use x=\"649.023438\" xlink:href=\"#DejaVuSans-111\"/>\n       <use x=\"710.205078\" xlink:href=\"#DejaVuSans-117\"/>\n       <use x=\"773.583984\" xlink:href=\"#DejaVuSans-114\"/>\n       <use x=\"814.697266\" xlink:href=\"#DejaVuSans-105\"/>\n       <use x=\"842.480469\" xlink:href=\"#DejaVuSans-110\"/>\n       <use x=\"905.859375\" xlink:href=\"#DejaVuSans-97\"/>\n       <use x=\"967.138672\" xlink:href=\"#DejaVuSans-114\"/>\n       <use x=\"1008.251953\" xlink:href=\"#DejaVuSans-121\"/>\n      </g>\n     </g>\n    </g>\n    <g id=\"ytick_26\">\n     <g id=\"line2d_34\">\n      <g>\n       <use style=\"stroke:#000000;stroke-width:0.8;\" x=\"271.292188\" xlink:href=\"#m05ac85b2da\" y=\"1152.089209\"/>\n      </g>\n     </g>\n     <g id=\"text_34\">\n      <!-- diag_2_Digestive -->\n      <defs>\n       <path d=\"M 19.671875 64.796875 \nL 19.671875 8.109375 \nL 31.59375 8.109375 \nQ 46.6875 8.109375 53.6875 14.9375 \nQ 60.6875 21.78125 60.6875 36.53125 \nQ 60.6875 51.171875 53.6875 57.984375 \nQ 46.6875 64.796875 31.59375 64.796875 \nz\nM 9.8125 72.90625 \nL 30.078125 72.90625 \nQ 51.265625 72.90625 61.171875 64.09375 \nQ 71.09375 55.28125 71.09375 36.53125 \nQ 71.09375 17.671875 61.125 8.828125 \nQ 51.171875 0 30.078125 0 \nL 9.8125 0 \nz\n\" id=\"DejaVuSans-68\"/>\n      </defs>\n      <g transform=\"translate(179.367188 1155.888428)scale(0.1 -0.1)\">\n       <use xlink:href=\"#DejaVuSans-100\"/>\n       <use x=\"63.476562\" xlink:href=\"#DejaVuSans-105\"/>\n       <use x=\"91.259766\" xlink:href=\"#DejaVuSans-97\"/>\n       <use x=\"152.539062\" xlink:href=\"#DejaVuSans-103\"/>\n       <use x=\"216.015625\" xlink:href=\"#DejaVuSans-95\"/>\n       <use x=\"266.015625\" xlink:href=\"#DejaVuSans-50\"/>\n       <use x=\"329.638672\" xlink:href=\"#DejaVuSans-95\"/>\n       <use x=\"379.638672\" xlink:href=\"#DejaVuSans-68\"/>\n       <use x=\"456.640625\" xlink:href=\"#DejaVuSans-105\"/>\n       <use x=\"484.423828\" xlink:href=\"#DejaVuSans-103\"/>\n       <use x=\"547.900391\" xlink:href=\"#DejaVuSans-101\"/>\n       <use x=\"609.423828\" xlink:href=\"#DejaVuSans-115\"/>\n       <use x=\"661.523438\" xlink:href=\"#DejaVuSans-116\"/>\n       <use x=\"700.732422\" xlink:href=\"#DejaVuSans-105\"/>\n       <use x=\"728.515625\" xlink:href=\"#DejaVuSans-118\"/>\n       <use x=\"787.695312\" xlink:href=\"#DejaVuSans-101\"/>\n      </g>\n     </g>\n    </g>\n    <g id=\"ytick_27\">\n     <g id=\"line2d_35\">\n      <g>\n       <use style=\"stroke:#000000;stroke-width:0.8;\" x=\"271.292188\" xlink:href=\"#m05ac85b2da\" y=\"1132.441017\"/>\n      </g>\n     </g>\n     <g id=\"text_35\">\n      <!-- diag_2_Diabetes -->\n      <g transform=\"translate(181.935938 1136.240235)scale(0.1 -0.1)\">\n       <use xlink:href=\"#DejaVuSans-100\"/>\n       <use x=\"63.476562\" xlink:href=\"#DejaVuSans-105\"/>\n       <use x=\"91.259766\" xlink:href=\"#DejaVuSans-97\"/>\n       <use x=\"152.539062\" xlink:href=\"#DejaVuSans-103\"/>\n       <use x=\"216.015625\" xlink:href=\"#DejaVuSans-95\"/>\n       <use x=\"266.015625\" xlink:href=\"#DejaVuSans-50\"/>\n       <use x=\"329.638672\" xlink:href=\"#DejaVuSans-95\"/>\n       <use x=\"379.638672\" xlink:href=\"#DejaVuSans-68\"/>\n       <use x=\"456.640625\" xlink:href=\"#DejaVuSans-105\"/>\n       <use x=\"484.423828\" xlink:href=\"#DejaVuSans-97\"/>\n       <use x=\"545.703125\" xlink:href=\"#DejaVuSans-98\"/>\n       <use x=\"609.179688\" xlink:href=\"#DejaVuSans-101\"/>\n       <use x=\"670.703125\" xlink:href=\"#DejaVuSans-116\"/>\n       <use x=\"709.912109\" xlink:href=\"#DejaVuSans-101\"/>\n       <use x=\"771.435547\" xlink:href=\"#DejaVuSans-115\"/>\n      </g>\n     </g>\n    </g>\n    <g id=\"ytick_28\">\n     <g id=\"line2d_36\">\n      <g>\n       <use style=\"stroke:#000000;stroke-width:0.8;\" x=\"271.292188\" xlink:href=\"#m05ac85b2da\" y=\"1112.792824\"/>\n      </g>\n     </g>\n     <g id=\"text_36\">\n      <!-- diag_1_Respiratory -->\n      <g transform=\"translate(169.03125 1116.592043)scale(0.1 -0.1)\">\n       <use xlink:href=\"#DejaVuSans-100\"/>\n       <use x=\"63.476562\" xlink:href=\"#DejaVuSans-105\"/>\n       <use x=\"91.259766\" xlink:href=\"#DejaVuSans-97\"/>\n       <use x=\"152.539062\" xlink:href=\"#DejaVuSans-103\"/>\n       <use x=\"216.015625\" xlink:href=\"#DejaVuSans-95\"/>\n       <use x=\"266.015625\" xlink:href=\"#DejaVuSans-49\"/>\n       <use x=\"329.638672\" xlink:href=\"#DejaVuSans-95\"/>\n       <use x=\"379.638672\" xlink:href=\"#DejaVuSans-82\"/>\n       <use x=\"444.621094\" xlink:href=\"#DejaVuSans-101\"/>\n       <use x=\"506.144531\" xlink:href=\"#DejaVuSans-115\"/>\n       <use x=\"558.244141\" xlink:href=\"#DejaVuSans-112\"/>\n       <use x=\"621.720703\" xlink:href=\"#DejaVuSans-105\"/>\n       <use x=\"649.503906\" xlink:href=\"#DejaVuSans-114\"/>\n       <use x=\"690.617188\" xlink:href=\"#DejaVuSans-97\"/>\n       <use x=\"751.896484\" xlink:href=\"#DejaVuSans-116\"/>\n       <use x=\"791.105469\" xlink:href=\"#DejaVuSans-111\"/>\n       <use x=\"852.287109\" xlink:href=\"#DejaVuSans-114\"/>\n       <use x=\"893.400391\" xlink:href=\"#DejaVuSans-121\"/>\n      </g>\n     </g>\n    </g>\n    <g id=\"ytick_29\">\n     <g id=\"line2d_37\">\n      <g>\n       <use style=\"stroke:#000000;stroke-width:0.8;\" x=\"271.292188\" xlink:href=\"#m05ac85b2da\" y=\"1093.144631\"/>\n      </g>\n     </g>\n     <g id=\"text_37\">\n      <!-- diag_1_Others -->\n      <g transform=\"translate(192.723438 1096.94385)scale(0.1 -0.1)\">\n       <use xlink:href=\"#DejaVuSans-100\"/>\n       <use x=\"63.476562\" xlink:href=\"#DejaVuSans-105\"/>\n       <use x=\"91.259766\" xlink:href=\"#DejaVuSans-97\"/>\n       <use x=\"152.539062\" xlink:href=\"#DejaVuSans-103\"/>\n       <use x=\"216.015625\" xlink:href=\"#DejaVuSans-95\"/>\n       <use x=\"266.015625\" xlink:href=\"#DejaVuSans-49\"/>\n       <use x=\"329.638672\" xlink:href=\"#DejaVuSans-95\"/>\n       <use x=\"379.638672\" xlink:href=\"#DejaVuSans-79\"/>\n       <use x=\"458.349609\" xlink:href=\"#DejaVuSans-116\"/>\n       <use x=\"497.558594\" xlink:href=\"#DejaVuSans-104\"/>\n       <use x=\"560.9375\" xlink:href=\"#DejaVuSans-101\"/>\n       <use x=\"622.460938\" xlink:href=\"#DejaVuSans-114\"/>\n       <use x=\"663.574219\" xlink:href=\"#DejaVuSans-115\"/>\n      </g>\n     </g>\n    </g>\n    <g id=\"ytick_30\">\n     <g id=\"line2d_38\">\n      <g>\n       <use style=\"stroke:#000000;stroke-width:0.8;\" x=\"271.292188\" xlink:href=\"#m05ac85b2da\" y=\"1073.496438\"/>\n      </g>\n     </g>\n     <g id=\"text_38\">\n      <!-- diag_1_Neoplasms -->\n      <g transform=\"translate(171.159375 1077.295657)scale(0.1 -0.1)\">\n       <use xlink:href=\"#DejaVuSans-100\"/>\n       <use x=\"63.476562\" xlink:href=\"#DejaVuSans-105\"/>\n       <use x=\"91.259766\" xlink:href=\"#DejaVuSans-97\"/>\n       <use x=\"152.539062\" xlink:href=\"#DejaVuSans-103\"/>\n       <use x=\"216.015625\" xlink:href=\"#DejaVuSans-95\"/>\n       <use x=\"266.015625\" xlink:href=\"#DejaVuSans-49\"/>\n       <use x=\"329.638672\" xlink:href=\"#DejaVuSans-95\"/>\n       <use x=\"379.638672\" xlink:href=\"#DejaVuSans-78\"/>\n       <use x=\"454.443359\" xlink:href=\"#DejaVuSans-101\"/>\n       <use x=\"515.966797\" xlink:href=\"#DejaVuSans-111\"/>\n       <use x=\"577.148438\" xlink:href=\"#DejaVuSans-112\"/>\n       <use x=\"640.625\" xlink:href=\"#DejaVuSans-108\"/>\n       <use x=\"668.408203\" xlink:href=\"#DejaVuSans-97\"/>\n       <use x=\"729.6875\" xlink:href=\"#DejaVuSans-115\"/>\n       <use x=\"781.787109\" xlink:href=\"#DejaVuSans-109\"/>\n       <use x=\"879.199219\" xlink:href=\"#DejaVuSans-115\"/>\n      </g>\n     </g>\n    </g>\n    <g id=\"ytick_31\">\n     <g id=\"line2d_39\">\n      <g>\n       <use style=\"stroke:#000000;stroke-width:0.8;\" x=\"271.292188\" xlink:href=\"#m05ac85b2da\" y=\"1053.848245\"/>\n      </g>\n     </g>\n     <g id=\"text_39\">\n      <!-- diag_1_Muscoloskeletal -->\n      <g transform=\"translate(147.089063 1057.647464)scale(0.1 -0.1)\">\n       <use xlink:href=\"#DejaVuSans-100\"/>\n       <use x=\"63.476562\" xlink:href=\"#DejaVuSans-105\"/>\n       <use x=\"91.259766\" xlink:href=\"#DejaVuSans-97\"/>\n       <use x=\"152.539062\" xlink:href=\"#DejaVuSans-103\"/>\n       <use x=\"216.015625\" xlink:href=\"#DejaVuSans-95\"/>\n       <use x=\"266.015625\" xlink:href=\"#DejaVuSans-49\"/>\n       <use x=\"329.638672\" xlink:href=\"#DejaVuSans-95\"/>\n       <use x=\"379.638672\" xlink:href=\"#DejaVuSans-77\"/>\n       <use x=\"465.917969\" xlink:href=\"#DejaVuSans-117\"/>\n       <use x=\"529.296875\" xlink:href=\"#DejaVuSans-115\"/>\n       <use x=\"581.396484\" xlink:href=\"#DejaVuSans-99\"/>\n       <use x=\"636.376953\" xlink:href=\"#DejaVuSans-111\"/>\n       <use x=\"697.558594\" xlink:href=\"#DejaVuSans-108\"/>\n       <use x=\"725.341797\" xlink:href=\"#DejaVuSans-111\"/>\n       <use x=\"786.523438\" xlink:href=\"#DejaVuSans-115\"/>\n       <use x=\"838.623047\" xlink:href=\"#DejaVuSans-107\"/>\n       <use x=\"892.908203\" xlink:href=\"#DejaVuSans-101\"/>\n       <use x=\"954.431641\" xlink:href=\"#DejaVuSans-108\"/>\n       <use x=\"982.214844\" xlink:href=\"#DejaVuSans-101\"/>\n       <use x=\"1043.738281\" xlink:href=\"#DejaVuSans-116\"/>\n       <use x=\"1082.947266\" xlink:href=\"#DejaVuSans-97\"/>\n       <use x=\"1144.226562\" xlink:href=\"#DejaVuSans-108\"/>\n      </g>\n     </g>\n    </g>\n    <g id=\"ytick_32\">\n     <g id=\"line2d_40\">\n      <g>\n       <use style=\"stroke:#000000;stroke-width:0.8;\" x=\"271.292188\" xlink:href=\"#m05ac85b2da\" y=\"1034.200053\"/>\n      </g>\n     </g>\n     <g id=\"text_40\">\n      <!-- diag_1_Injury -->\n      <g transform=\"translate(197.89375 1037.999271)scale(0.1 -0.1)\">\n       <use xlink:href=\"#DejaVuSans-100\"/>\n       <use x=\"63.476562\" xlink:href=\"#DejaVuSans-105\"/>\n       <use x=\"91.259766\" xlink:href=\"#DejaVuSans-97\"/>\n       <use x=\"152.539062\" xlink:href=\"#DejaVuSans-103\"/>\n       <use x=\"216.015625\" xlink:href=\"#DejaVuSans-95\"/>\n       <use x=\"266.015625\" xlink:href=\"#DejaVuSans-49\"/>\n       <use x=\"329.638672\" xlink:href=\"#DejaVuSans-95\"/>\n       <use x=\"379.638672\" xlink:href=\"#DejaVuSans-73\"/>\n       <use x=\"409.130859\" xlink:href=\"#DejaVuSans-110\"/>\n       <use x=\"472.509766\" xlink:href=\"#DejaVuSans-106\"/>\n       <use x=\"500.292969\" xlink:href=\"#DejaVuSans-117\"/>\n       <use x=\"563.671875\" xlink:href=\"#DejaVuSans-114\"/>\n       <use x=\"604.785156\" xlink:href=\"#DejaVuSans-121\"/>\n      </g>\n     </g>\n    </g>\n    <g id=\"ytick_33\">\n     <g id=\"line2d_41\">\n      <g>\n       <use style=\"stroke:#000000;stroke-width:0.8;\" x=\"271.292188\" xlink:href=\"#m05ac85b2da\" y=\"1014.55186\"/>\n      </g>\n     </g>\n     <g id=\"text_41\">\n      <!-- diag_1_Genitourinary -->\n      <g transform=\"translate(157.548438 1018.351079)scale(0.1 -0.1)\">\n       <use xlink:href=\"#DejaVuSans-100\"/>\n       <use x=\"63.476562\" xlink:href=\"#DejaVuSans-105\"/>\n       <use x=\"91.259766\" xlink:href=\"#DejaVuSans-97\"/>\n       <use x=\"152.539062\" xlink:href=\"#DejaVuSans-103\"/>\n       <use x=\"216.015625\" xlink:href=\"#DejaVuSans-95\"/>\n       <use x=\"266.015625\" xlink:href=\"#DejaVuSans-49\"/>\n       <use x=\"329.638672\" xlink:href=\"#DejaVuSans-95\"/>\n       <use x=\"379.638672\" xlink:href=\"#DejaVuSans-71\"/>\n       <use x=\"457.128906\" xlink:href=\"#DejaVuSans-101\"/>\n       <use x=\"518.652344\" xlink:href=\"#DejaVuSans-110\"/>\n       <use x=\"582.03125\" xlink:href=\"#DejaVuSans-105\"/>\n       <use x=\"609.814453\" xlink:href=\"#DejaVuSans-116\"/>\n       <use x=\"649.023438\" xlink:href=\"#DejaVuSans-111\"/>\n       <use x=\"710.205078\" xlink:href=\"#DejaVuSans-117\"/>\n       <use x=\"773.583984\" xlink:href=\"#DejaVuSans-114\"/>\n       <use x=\"814.697266\" xlink:href=\"#DejaVuSans-105\"/>\n       <use x=\"842.480469\" xlink:href=\"#DejaVuSans-110\"/>\n       <use x=\"905.859375\" xlink:href=\"#DejaVuSans-97\"/>\n       <use x=\"967.138672\" xlink:href=\"#DejaVuSans-114\"/>\n       <use x=\"1008.251953\" xlink:href=\"#DejaVuSans-121\"/>\n      </g>\n     </g>\n    </g>\n    <g id=\"ytick_34\">\n     <g id=\"line2d_42\">\n      <g>\n       <use style=\"stroke:#000000;stroke-width:0.8;\" x=\"271.292188\" xlink:href=\"#m05ac85b2da\" y=\"994.903667\"/>\n      </g>\n     </g>\n     <g id=\"text_42\">\n      <!-- diag_1_Digestive -->\n      <g transform=\"translate(179.367188 998.702886)scale(0.1 -0.1)\">\n       <use xlink:href=\"#DejaVuSans-100\"/>\n       <use x=\"63.476562\" xlink:href=\"#DejaVuSans-105\"/>\n       <use x=\"91.259766\" xlink:href=\"#DejaVuSans-97\"/>\n       <use x=\"152.539062\" xlink:href=\"#DejaVuSans-103\"/>\n       <use x=\"216.015625\" xlink:href=\"#DejaVuSans-95\"/>\n       <use x=\"266.015625\" xlink:href=\"#DejaVuSans-49\"/>\n       <use x=\"329.638672\" xlink:href=\"#DejaVuSans-95\"/>\n       <use x=\"379.638672\" xlink:href=\"#DejaVuSans-68\"/>\n       <use x=\"456.640625\" xlink:href=\"#DejaVuSans-105\"/>\n       <use x=\"484.423828\" xlink:href=\"#DejaVuSans-103\"/>\n       <use x=\"547.900391\" xlink:href=\"#DejaVuSans-101\"/>\n       <use x=\"609.423828\" xlink:href=\"#DejaVuSans-115\"/>\n       <use x=\"661.523438\" xlink:href=\"#DejaVuSans-116\"/>\n       <use x=\"700.732422\" xlink:href=\"#DejaVuSans-105\"/>\n       <use x=\"728.515625\" xlink:href=\"#DejaVuSans-118\"/>\n       <use x=\"787.695312\" xlink:href=\"#DejaVuSans-101\"/>\n      </g>\n     </g>\n    </g>\n    <g id=\"ytick_35\">\n     <g id=\"line2d_43\">\n      <g>\n       <use style=\"stroke:#000000;stroke-width:0.8;\" x=\"271.292188\" xlink:href=\"#m05ac85b2da\" y=\"975.255474\"/>\n      </g>\n     </g>\n     <g id=\"text_43\">\n      <!-- diag_1_Diabetes -->\n      <g transform=\"translate(181.935938 979.054693)scale(0.1 -0.1)\">\n       <use xlink:href=\"#DejaVuSans-100\"/>\n       <use x=\"63.476562\" xlink:href=\"#DejaVuSans-105\"/>\n       <use x=\"91.259766\" xlink:href=\"#DejaVuSans-97\"/>\n       <use x=\"152.539062\" xlink:href=\"#DejaVuSans-103\"/>\n       <use x=\"216.015625\" xlink:href=\"#DejaVuSans-95\"/>\n       <use x=\"266.015625\" xlink:href=\"#DejaVuSans-49\"/>\n       <use x=\"329.638672\" xlink:href=\"#DejaVuSans-95\"/>\n       <use x=\"379.638672\" xlink:href=\"#DejaVuSans-68\"/>\n       <use x=\"456.640625\" xlink:href=\"#DejaVuSans-105\"/>\n       <use x=\"484.423828\" xlink:href=\"#DejaVuSans-97\"/>\n       <use x=\"545.703125\" xlink:href=\"#DejaVuSans-98\"/>\n       <use x=\"609.179688\" xlink:href=\"#DejaVuSans-101\"/>\n       <use x=\"670.703125\" xlink:href=\"#DejaVuSans-116\"/>\n       <use x=\"709.912109\" xlink:href=\"#DejaVuSans-101\"/>\n       <use x=\"771.435547\" xlink:href=\"#DejaVuSans-115\"/>\n      </g>\n     </g>\n    </g>\n    <g id=\"ytick_36\">\n     <g id=\"line2d_44\">\n      <g>\n       <use style=\"stroke:#000000;stroke-width:0.8;\" x=\"271.292188\" xlink:href=\"#m05ac85b2da\" y=\"955.607282\"/>\n      </g>\n     </g>\n     <g id=\"text_44\">\n      <!-- medical_specialty_Unknow -->\n      <defs>\n       <path d=\"M 8.6875 72.90625 \nL 18.609375 72.90625 \nL 18.609375 28.609375 \nQ 18.609375 16.890625 22.84375 11.734375 \nQ 27.09375 6.59375 36.625 6.59375 \nQ 46.09375 6.59375 50.34375 11.734375 \nQ 54.59375 16.890625 54.59375 28.609375 \nL 54.59375 72.90625 \nL 64.5 72.90625 \nL 64.5 27.390625 \nQ 64.5 13.140625 57.4375 5.859375 \nQ 50.390625 -1.421875 36.625 -1.421875 \nQ 22.796875 -1.421875 15.734375 5.859375 \nQ 8.6875 13.140625 8.6875 27.390625 \nz\n\" id=\"DejaVuSans-85\"/>\n       <path d=\"M 4.203125 54.6875 \nL 13.1875 54.6875 \nL 24.421875 12.015625 \nL 35.59375 54.6875 \nL 46.1875 54.6875 \nL 57.421875 12.015625 \nL 68.609375 54.6875 \nL 77.59375 54.6875 \nL 63.28125 0 \nL 52.6875 0 \nL 40.921875 44.828125 \nL 29.109375 0 \nL 18.5 0 \nz\n\" id=\"DejaVuSans-119\"/>\n      </defs>\n      <g transform=\"translate(130.053125 959.4065)scale(0.1 -0.1)\">\n       <use xlink:href=\"#DejaVuSans-109\"/>\n       <use x=\"97.412109\" xlink:href=\"#DejaVuSans-101\"/>\n       <use x=\"158.935547\" xlink:href=\"#DejaVuSans-100\"/>\n       <use x=\"222.412109\" xlink:href=\"#DejaVuSans-105\"/>\n       <use x=\"250.195312\" xlink:href=\"#DejaVuSans-99\"/>\n       <use x=\"305.175781\" xlink:href=\"#DejaVuSans-97\"/>\n       <use x=\"366.455078\" xlink:href=\"#DejaVuSans-108\"/>\n       <use x=\"394.238281\" xlink:href=\"#DejaVuSans-95\"/>\n       <use x=\"444.238281\" xlink:href=\"#DejaVuSans-115\"/>\n       <use x=\"496.337891\" xlink:href=\"#DejaVuSans-112\"/>\n       <use x=\"559.814453\" xlink:href=\"#DejaVuSans-101\"/>\n       <use x=\"621.337891\" xlink:href=\"#DejaVuSans-99\"/>\n       <use x=\"676.318359\" xlink:href=\"#DejaVuSans-105\"/>\n       <use x=\"704.101562\" xlink:href=\"#DejaVuSans-97\"/>\n       <use x=\"765.380859\" xlink:href=\"#DejaVuSans-108\"/>\n       <use x=\"793.164062\" xlink:href=\"#DejaVuSans-116\"/>\n       <use x=\"832.373047\" xlink:href=\"#DejaVuSans-121\"/>\n       <use x=\"891.552734\" xlink:href=\"#DejaVuSans-95\"/>\n       <use x=\"941.552734\" xlink:href=\"#DejaVuSans-85\"/>\n       <use x=\"1014.746094\" xlink:href=\"#DejaVuSans-110\"/>\n       <use x=\"1078.125\" xlink:href=\"#DejaVuSans-107\"/>\n       <use x=\"1136.035156\" xlink:href=\"#DejaVuSans-110\"/>\n       <use x=\"1199.414062\" xlink:href=\"#DejaVuSans-111\"/>\n       <use x=\"1260.595703\" xlink:href=\"#DejaVuSans-119\"/>\n      </g>\n     </g>\n    </g>\n    <g id=\"ytick_37\">\n     <g id=\"line2d_45\">\n      <g>\n       <use style=\"stroke:#000000;stroke-width:0.8;\" x=\"271.292188\" xlink:href=\"#m05ac85b2da\" y=\"935.959089\"/>\n      </g>\n     </g>\n     <g id=\"text_45\">\n      <!-- medical_specialty_Surgery-Vascular -->\n      <defs>\n       <path d=\"M 28.609375 0 \nL 0.78125 72.90625 \nL 11.078125 72.90625 \nL 34.1875 11.53125 \nL 57.328125 72.90625 \nL 67.578125 72.90625 \nL 39.796875 0 \nz\n\" id=\"DejaVuSans-86\"/>\n      </defs>\n      <g transform=\"translate(85.879688 939.758308)scale(0.1 -0.1)\">\n       <use xlink:href=\"#DejaVuSans-109\"/>\n       <use x=\"97.412109\" xlink:href=\"#DejaVuSans-101\"/>\n       <use x=\"158.935547\" xlink:href=\"#DejaVuSans-100\"/>\n       <use x=\"222.412109\" xlink:href=\"#DejaVuSans-105\"/>\n       <use x=\"250.195312\" xlink:href=\"#DejaVuSans-99\"/>\n       <use x=\"305.175781\" xlink:href=\"#DejaVuSans-97\"/>\n       <use x=\"366.455078\" xlink:href=\"#DejaVuSans-108\"/>\n       <use x=\"394.238281\" xlink:href=\"#DejaVuSans-95\"/>\n       <use x=\"444.238281\" xlink:href=\"#DejaVuSans-115\"/>\n       <use x=\"496.337891\" xlink:href=\"#DejaVuSans-112\"/>\n       <use x=\"559.814453\" xlink:href=\"#DejaVuSans-101\"/>\n       <use x=\"621.337891\" xlink:href=\"#DejaVuSans-99\"/>\n       <use x=\"676.318359\" xlink:href=\"#DejaVuSans-105\"/>\n       <use x=\"704.101562\" xlink:href=\"#DejaVuSans-97\"/>\n       <use x=\"765.380859\" xlink:href=\"#DejaVuSans-108\"/>\n       <use x=\"793.164062\" xlink:href=\"#DejaVuSans-116\"/>\n       <use x=\"832.373047\" xlink:href=\"#DejaVuSans-121\"/>\n       <use x=\"891.552734\" xlink:href=\"#DejaVuSans-95\"/>\n       <use x=\"941.552734\" xlink:href=\"#DejaVuSans-83\"/>\n       <use x=\"1005.029297\" xlink:href=\"#DejaVuSans-117\"/>\n       <use x=\"1068.408203\" xlink:href=\"#DejaVuSans-114\"/>\n       <use x=\"1107.771484\" xlink:href=\"#DejaVuSans-103\"/>\n       <use x=\"1171.248047\" xlink:href=\"#DejaVuSans-101\"/>\n       <use x=\"1232.771484\" xlink:href=\"#DejaVuSans-114\"/>\n       <use x=\"1273.884766\" xlink:href=\"#DejaVuSans-121\"/>\n       <use x=\"1331.314453\" xlink:href=\"#DejaVuSans-45\"/>\n       <use x=\"1361.523438\" xlink:href=\"#DejaVuSans-86\"/>\n       <use x=\"1422.181641\" xlink:href=\"#DejaVuSans-97\"/>\n       <use x=\"1483.460938\" xlink:href=\"#DejaVuSans-115\"/>\n       <use x=\"1535.560547\" xlink:href=\"#DejaVuSans-99\"/>\n       <use x=\"1590.541016\" xlink:href=\"#DejaVuSans-117\"/>\n       <use x=\"1653.919922\" xlink:href=\"#DejaVuSans-108\"/>\n       <use x=\"1681.703125\" xlink:href=\"#DejaVuSans-97\"/>\n       <use x=\"1742.982422\" xlink:href=\"#DejaVuSans-114\"/>\n      </g>\n     </g>\n    </g>\n    <g id=\"ytick_38\">\n     <g id=\"line2d_46\">\n      <g>\n       <use style=\"stroke:#000000;stroke-width:0.8;\" x=\"271.292188\" xlink:href=\"#m05ac85b2da\" y=\"916.310896\"/>\n      </g>\n     </g>\n     <g id=\"text_46\">\n      <!-- medical_specialty_Surgery-Neuro -->\n      <g transform=\"translate(97.571875 920.110115)scale(0.1 -0.1)\">\n       <use xlink:href=\"#DejaVuSans-109\"/>\n       <use x=\"97.412109\" xlink:href=\"#DejaVuSans-101\"/>\n       <use x=\"158.935547\" xlink:href=\"#DejaVuSans-100\"/>\n       <use x=\"222.412109\" xlink:href=\"#DejaVuSans-105\"/>\n       <use x=\"250.195312\" xlink:href=\"#DejaVuSans-99\"/>\n       <use x=\"305.175781\" xlink:href=\"#DejaVuSans-97\"/>\n       <use x=\"366.455078\" xlink:href=\"#DejaVuSans-108\"/>\n       <use x=\"394.238281\" xlink:href=\"#DejaVuSans-95\"/>\n       <use x=\"444.238281\" xlink:href=\"#DejaVuSans-115\"/>\n       <use x=\"496.337891\" xlink:href=\"#DejaVuSans-112\"/>\n       <use x=\"559.814453\" xlink:href=\"#DejaVuSans-101\"/>\n       <use x=\"621.337891\" xlink:href=\"#DejaVuSans-99\"/>\n       <use x=\"676.318359\" xlink:href=\"#DejaVuSans-105\"/>\n       <use x=\"704.101562\" xlink:href=\"#DejaVuSans-97\"/>\n       <use x=\"765.380859\" xlink:href=\"#DejaVuSans-108\"/>\n       <use x=\"793.164062\" xlink:href=\"#DejaVuSans-116\"/>\n       <use x=\"832.373047\" xlink:href=\"#DejaVuSans-121\"/>\n       <use x=\"891.552734\" xlink:href=\"#DejaVuSans-95\"/>\n       <use x=\"941.552734\" xlink:href=\"#DejaVuSans-83\"/>\n       <use x=\"1005.029297\" xlink:href=\"#DejaVuSans-117\"/>\n       <use x=\"1068.408203\" xlink:href=\"#DejaVuSans-114\"/>\n       <use x=\"1107.771484\" xlink:href=\"#DejaVuSans-103\"/>\n       <use x=\"1171.248047\" xlink:href=\"#DejaVuSans-101\"/>\n       <use x=\"1232.771484\" xlink:href=\"#DejaVuSans-114\"/>\n       <use x=\"1273.884766\" xlink:href=\"#DejaVuSans-121\"/>\n       <use x=\"1331.314453\" xlink:href=\"#DejaVuSans-45\"/>\n       <use x=\"1367.398438\" xlink:href=\"#DejaVuSans-78\"/>\n       <use x=\"1442.203125\" xlink:href=\"#DejaVuSans-101\"/>\n       <use x=\"1503.726562\" xlink:href=\"#DejaVuSans-117\"/>\n       <use x=\"1567.105469\" xlink:href=\"#DejaVuSans-114\"/>\n       <use x=\"1605.96875\" xlink:href=\"#DejaVuSans-111\"/>\n      </g>\n     </g>\n    </g>\n    <g id=\"ytick_39\">\n     <g id=\"line2d_47\">\n      <g>\n       <use style=\"stroke:#000000;stroke-width:0.8;\" x=\"271.292188\" xlink:href=\"#m05ac85b2da\" y=\"896.662703\"/>\n      </g>\n     </g>\n     <g id=\"text_47\">\n      <!-- diag_2_Others -->\n      <g transform=\"translate(192.723438 900.461922)scale(0.1 -0.1)\">\n       <use xlink:href=\"#DejaVuSans-100\"/>\n       <use x=\"63.476562\" xlink:href=\"#DejaVuSans-105\"/>\n       <use x=\"91.259766\" xlink:href=\"#DejaVuSans-97\"/>\n       <use x=\"152.539062\" xlink:href=\"#DejaVuSans-103\"/>\n       <use x=\"216.015625\" xlink:href=\"#DejaVuSans-95\"/>\n       <use x=\"266.015625\" xlink:href=\"#DejaVuSans-50\"/>\n       <use x=\"329.638672\" xlink:href=\"#DejaVuSans-95\"/>\n       <use x=\"379.638672\" xlink:href=\"#DejaVuSans-79\"/>\n       <use x=\"458.349609\" xlink:href=\"#DejaVuSans-116\"/>\n       <use x=\"497.558594\" xlink:href=\"#DejaVuSans-104\"/>\n       <use x=\"560.9375\" xlink:href=\"#DejaVuSans-101\"/>\n       <use x=\"622.460938\" xlink:href=\"#DejaVuSans-114\"/>\n       <use x=\"663.574219\" xlink:href=\"#DejaVuSans-115\"/>\n      </g>\n     </g>\n    </g>\n    <g id=\"ytick_40\">\n     <g id=\"line2d_48\">\n      <g>\n       <use style=\"stroke:#000000;stroke-width:0.8;\" x=\"271.292188\" xlink:href=\"#m05ac85b2da\" y=\"877.014511\"/>\n      </g>\n     </g>\n     <g id=\"text_48\">\n      <!-- age_[10-20) -->\n      <g transform=\"translate(203.801563 880.813729)scale(0.1 -0.1)\">\n       <use xlink:href=\"#DejaVuSans-97\"/>\n       <use x=\"61.279297\" xlink:href=\"#DejaVuSans-103\"/>\n       <use x=\"124.755859\" xlink:href=\"#DejaVuSans-101\"/>\n       <use x=\"186.279297\" xlink:href=\"#DejaVuSans-95\"/>\n       <use x=\"236.279297\" xlink:href=\"#DejaVuSans-91\"/>\n       <use x=\"275.292969\" xlink:href=\"#DejaVuSans-49\"/>\n       <use x=\"338.916016\" xlink:href=\"#DejaVuSans-48\"/>\n       <use x=\"402.539062\" xlink:href=\"#DejaVuSans-45\"/>\n       <use x=\"438.623047\" xlink:href=\"#DejaVuSans-50\"/>\n       <use x=\"502.246094\" xlink:href=\"#DejaVuSans-48\"/>\n       <use x=\"565.869141\" xlink:href=\"#DejaVuSans-41\"/>\n      </g>\n     </g>\n    </g>\n    <g id=\"ytick_41\">\n     <g id=\"line2d_49\">\n      <g>\n       <use style=\"stroke:#000000;stroke-width:0.8;\" x=\"271.292188\" xlink:href=\"#m05ac85b2da\" y=\"857.366318\"/>\n      </g>\n     </g>\n     <g id=\"text_49\">\n      <!-- age_[20-30) -->\n      <g transform=\"translate(203.801563 861.165537)scale(0.1 -0.1)\">\n       <use xlink:href=\"#DejaVuSans-97\"/>\n       <use x=\"61.279297\" xlink:href=\"#DejaVuSans-103\"/>\n       <use x=\"124.755859\" xlink:href=\"#DejaVuSans-101\"/>\n       <use x=\"186.279297\" xlink:href=\"#DejaVuSans-95\"/>\n       <use x=\"236.279297\" xlink:href=\"#DejaVuSans-91\"/>\n       <use x=\"275.292969\" xlink:href=\"#DejaVuSans-50\"/>\n       <use x=\"338.916016\" xlink:href=\"#DejaVuSans-48\"/>\n       <use x=\"402.539062\" xlink:href=\"#DejaVuSans-45\"/>\n       <use x=\"438.623047\" xlink:href=\"#DejaVuSans-51\"/>\n       <use x=\"502.246094\" xlink:href=\"#DejaVuSans-48\"/>\n       <use x=\"565.869141\" xlink:href=\"#DejaVuSans-41\"/>\n      </g>\n     </g>\n    </g>\n    <g id=\"ytick_42\">\n     <g id=\"line2d_50\">\n      <g>\n       <use style=\"stroke:#000000;stroke-width:0.8;\" x=\"271.292188\" xlink:href=\"#m05ac85b2da\" y=\"837.718125\"/>\n      </g>\n     </g>\n     <g id=\"text_50\">\n      <!-- race_Hispanic -->\n      <defs>\n       <path d=\"M 9.8125 72.90625 \nL 19.671875 72.90625 \nL 19.671875 43.015625 \nL 55.515625 43.015625 \nL 55.515625 72.90625 \nL 65.375 72.90625 \nL 65.375 0 \nL 55.515625 0 \nL 55.515625 34.71875 \nL 19.671875 34.71875 \nL 19.671875 0 \nL 9.8125 0 \nz\n\" id=\"DejaVuSans-72\"/>\n      </defs>\n      <g transform=\"translate(194.803125 841.517344)scale(0.1 -0.1)\">\n       <use xlink:href=\"#DejaVuSans-114\"/>\n       <use x=\"41.113281\" xlink:href=\"#DejaVuSans-97\"/>\n       <use x=\"102.392578\" xlink:href=\"#DejaVuSans-99\"/>\n       <use x=\"157.373047\" xlink:href=\"#DejaVuSans-101\"/>\n       <use x=\"218.896484\" xlink:href=\"#DejaVuSans-95\"/>\n       <use x=\"268.896484\" xlink:href=\"#DejaVuSans-72\"/>\n       <use x=\"344.091797\" xlink:href=\"#DejaVuSans-105\"/>\n       <use x=\"371.875\" xlink:href=\"#DejaVuSans-115\"/>\n       <use x=\"423.974609\" xlink:href=\"#DejaVuSans-112\"/>\n       <use x=\"487.451172\" xlink:href=\"#DejaVuSans-97\"/>\n       <use x=\"548.730469\" xlink:href=\"#DejaVuSans-110\"/>\n       <use x=\"612.109375\" xlink:href=\"#DejaVuSans-105\"/>\n       <use x=\"639.892578\" xlink:href=\"#DejaVuSans-99\"/>\n      </g>\n     </g>\n    </g>\n    <g id=\"ytick_43\">\n     <g id=\"line2d_51\">\n      <g>\n       <use style=\"stroke:#000000;stroke-width:0.8;\" x=\"271.292188\" xlink:href=\"#m05ac85b2da\" y=\"818.069932\"/>\n      </g>\n     </g>\n     <g id=\"text_51\">\n      <!-- glimepiride -->\n      <g transform=\"translate(207.976563 821.869151)scale(0.1 -0.1)\">\n       <use xlink:href=\"#DejaVuSans-103\"/>\n       <use x=\"63.476562\" xlink:href=\"#DejaVuSans-108\"/>\n       <use x=\"91.259766\" xlink:href=\"#DejaVuSans-105\"/>\n       <use x=\"119.042969\" xlink:href=\"#DejaVuSans-109\"/>\n       <use x=\"216.455078\" xlink:href=\"#DejaVuSans-101\"/>\n       <use x=\"277.978516\" xlink:href=\"#DejaVuSans-112\"/>\n       <use x=\"341.455078\" xlink:href=\"#DejaVuSans-105\"/>\n       <use x=\"369.238281\" xlink:href=\"#DejaVuSans-114\"/>\n       <use x=\"410.351562\" xlink:href=\"#DejaVuSans-105\"/>\n       <use x=\"438.134766\" xlink:href=\"#DejaVuSans-100\"/>\n       <use x=\"501.611328\" xlink:href=\"#DejaVuSans-101\"/>\n      </g>\n     </g>\n    </g>\n    <g id=\"ytick_44\">\n     <g id=\"line2d_52\">\n      <g>\n       <use style=\"stroke:#000000;stroke-width:0.8;\" x=\"271.292188\" xlink:href=\"#m05ac85b2da\" y=\"798.421739\"/>\n      </g>\n     </g>\n     <g id=\"text_52\">\n      <!-- nateglinide -->\n      <g transform=\"translate(208.23125 802.220958)scale(0.1 -0.1)\">\n       <use xlink:href=\"#DejaVuSans-110\"/>\n       <use x=\"63.378906\" xlink:href=\"#DejaVuSans-97\"/>\n       <use x=\"124.658203\" xlink:href=\"#DejaVuSans-116\"/>\n       <use x=\"163.867188\" xlink:href=\"#DejaVuSans-101\"/>\n       <use x=\"225.390625\" xlink:href=\"#DejaVuSans-103\"/>\n       <use x=\"288.867188\" xlink:href=\"#DejaVuSans-108\"/>\n       <use x=\"316.650391\" xlink:href=\"#DejaVuSans-105\"/>\n       <use x=\"344.433594\" xlink:href=\"#DejaVuSans-110\"/>\n       <use x=\"407.8125\" xlink:href=\"#DejaVuSans-105\"/>\n       <use x=\"435.595703\" xlink:href=\"#DejaVuSans-100\"/>\n       <use x=\"499.072266\" xlink:href=\"#DejaVuSans-101\"/>\n      </g>\n     </g>\n    </g>\n    <g id=\"ytick_45\">\n     <g id=\"line2d_53\">\n      <g>\n       <use style=\"stroke:#000000;stroke-width:0.8;\" x=\"271.292188\" xlink:href=\"#m05ac85b2da\" y=\"778.773547\"/>\n      </g>\n     </g>\n     <g id=\"text_53\">\n      <!-- repaglinide -->\n      <g transform=\"translate(208.254688 782.572765)scale(0.1 -0.1)\">\n       <use xlink:href=\"#DejaVuSans-114\"/>\n       <use x=\"38.863281\" xlink:href=\"#DejaVuSans-101\"/>\n       <use x=\"100.386719\" xlink:href=\"#DejaVuSans-112\"/>\n       <use x=\"163.863281\" xlink:href=\"#DejaVuSans-97\"/>\n       <use x=\"225.142578\" xlink:href=\"#DejaVuSans-103\"/>\n       <use x=\"288.619141\" xlink:href=\"#DejaVuSans-108\"/>\n       <use x=\"316.402344\" xlink:href=\"#DejaVuSans-105\"/>\n       <use x=\"344.185547\" xlink:href=\"#DejaVuSans-110\"/>\n       <use x=\"407.564453\" xlink:href=\"#DejaVuSans-105\"/>\n       <use x=\"435.347656\" xlink:href=\"#DejaVuSans-100\"/>\n       <use x=\"498.824219\" xlink:href=\"#DejaVuSans-101\"/>\n      </g>\n     </g>\n    </g>\n    <g id=\"ytick_46\">\n     <g id=\"line2d_54\">\n      <g>\n       <use style=\"stroke:#000000;stroke-width:0.8;\" x=\"271.292188\" xlink:href=\"#m05ac85b2da\" y=\"759.125354\"/>\n      </g>\n     </g>\n     <g id=\"text_54\">\n      <!-- metformin -->\n      <defs>\n       <path d=\"M 37.109375 75.984375 \nL 37.109375 68.5 \nL 28.515625 68.5 \nQ 23.6875 68.5 21.796875 66.546875 \nQ 19.921875 64.59375 19.921875 59.515625 \nL 19.921875 54.6875 \nL 34.71875 54.6875 \nL 34.71875 47.703125 \nL 19.921875 47.703125 \nL 19.921875 0 \nL 10.890625 0 \nL 10.890625 47.703125 \nL 2.296875 47.703125 \nL 2.296875 54.6875 \nL 10.890625 54.6875 \nL 10.890625 58.5 \nQ 10.890625 67.625 15.140625 71.796875 \nQ 19.390625 75.984375 28.609375 75.984375 \nz\n\" id=\"DejaVuSans-102\"/>\n      </defs>\n      <g transform=\"translate(212.046875 762.924573)scale(0.1 -0.1)\">\n       <use xlink:href=\"#DejaVuSans-109\"/>\n       <use x=\"97.412109\" xlink:href=\"#DejaVuSans-101\"/>\n       <use x=\"158.935547\" xlink:href=\"#DejaVuSans-116\"/>\n       <use x=\"198.144531\" xlink:href=\"#DejaVuSans-102\"/>\n       <use x=\"233.349609\" xlink:href=\"#DejaVuSans-111\"/>\n       <use x=\"294.53125\" xlink:href=\"#DejaVuSans-114\"/>\n       <use x=\"333.894531\" xlink:href=\"#DejaVuSans-109\"/>\n       <use x=\"431.306641\" xlink:href=\"#DejaVuSans-105\"/>\n       <use x=\"459.089844\" xlink:href=\"#DejaVuSans-110\"/>\n      </g>\n     </g>\n    </g>\n    <g id=\"ytick_47\">\n     <g id=\"line2d_55\">\n      <g>\n       <use style=\"stroke:#000000;stroke-width:0.8;\" x=\"271.292188\" xlink:href=\"#m05ac85b2da\" y=\"739.477161\"/>\n      </g>\n     </g>\n     <g id=\"text_55\">\n      <!-- A1Cresult -->\n      <defs>\n       <path d=\"M 34.1875 63.1875 \nL 20.796875 26.90625 \nL 47.609375 26.90625 \nz\nM 28.609375 72.90625 \nL 39.796875 72.90625 \nL 67.578125 0 \nL 57.328125 0 \nL 50.6875 18.703125 \nL 17.828125 18.703125 \nL 11.1875 0 \nL 0.78125 0 \nz\n\" id=\"DejaVuSans-65\"/>\n       <path d=\"M 64.40625 67.28125 \nL 64.40625 56.890625 \nQ 59.421875 61.53125 53.78125 63.8125 \nQ 48.140625 66.109375 41.796875 66.109375 \nQ 29.296875 66.109375 22.65625 58.46875 \nQ 16.015625 50.828125 16.015625 36.375 \nQ 16.015625 21.96875 22.65625 14.328125 \nQ 29.296875 6.6875 41.796875 6.6875 \nQ 48.140625 6.6875 53.78125 8.984375 \nQ 59.421875 11.28125 64.40625 15.921875 \nL 64.40625 5.609375 \nQ 59.234375 2.09375 53.4375 0.328125 \nQ 47.65625 -1.421875 41.21875 -1.421875 \nQ 24.65625 -1.421875 15.125 8.703125 \nQ 5.609375 18.84375 5.609375 36.375 \nQ 5.609375 53.953125 15.125 64.078125 \nQ 24.65625 74.21875 41.21875 74.21875 \nQ 47.75 74.21875 53.53125 72.484375 \nQ 59.328125 70.75 64.40625 67.28125 \nz\n\" id=\"DejaVuSans-67\"/>\n      </defs>\n      <g transform=\"translate(215.821875 743.27638)scale(0.1 -0.1)\">\n       <use xlink:href=\"#DejaVuSans-65\"/>\n       <use x=\"68.408203\" xlink:href=\"#DejaVuSans-49\"/>\n       <use x=\"132.03125\" xlink:href=\"#DejaVuSans-67\"/>\n       <use x=\"201.855469\" xlink:href=\"#DejaVuSans-114\"/>\n       <use x=\"240.71875\" xlink:href=\"#DejaVuSans-101\"/>\n       <use x=\"302.242188\" xlink:href=\"#DejaVuSans-115\"/>\n       <use x=\"354.341797\" xlink:href=\"#DejaVuSans-117\"/>\n       <use x=\"417.720703\" xlink:href=\"#DejaVuSans-108\"/>\n       <use x=\"445.503906\" xlink:href=\"#DejaVuSans-116\"/>\n      </g>\n     </g>\n    </g>\n    <g id=\"ytick_48\">\n     <g id=\"line2d_56\">\n      <g>\n       <use style=\"stroke:#000000;stroke-width:0.8;\" x=\"271.292188\" xlink:href=\"#m05ac85b2da\" y=\"719.828968\"/>\n      </g>\n     </g>\n     <g id=\"text_56\">\n      <!-- max_glu_serum -->\n      <defs>\n       <path d=\"M 54.890625 54.6875 \nL 35.109375 28.078125 \nL 55.90625 0 \nL 45.3125 0 \nL 29.390625 21.484375 \nL 13.484375 0 \nL 2.875 0 \nL 24.125 28.609375 \nL 4.6875 54.6875 \nL 15.28125 54.6875 \nL 29.78125 35.203125 \nL 44.28125 54.6875 \nz\n\" id=\"DejaVuSans-120\"/>\n      </defs>\n      <g transform=\"translate(185.489063 723.628187)scale(0.1 -0.1)\">\n       <use xlink:href=\"#DejaVuSans-109\"/>\n       <use x=\"97.412109\" xlink:href=\"#DejaVuSans-97\"/>\n       <use x=\"158.691406\" xlink:href=\"#DejaVuSans-120\"/>\n       <use x=\"217.871094\" xlink:href=\"#DejaVuSans-95\"/>\n       <use x=\"267.871094\" xlink:href=\"#DejaVuSans-103\"/>\n       <use x=\"331.347656\" xlink:href=\"#DejaVuSans-108\"/>\n       <use x=\"359.130859\" xlink:href=\"#DejaVuSans-117\"/>\n       <use x=\"422.509766\" xlink:href=\"#DejaVuSans-95\"/>\n       <use x=\"472.509766\" xlink:href=\"#DejaVuSans-115\"/>\n       <use x=\"524.609375\" xlink:href=\"#DejaVuSans-101\"/>\n       <use x=\"586.132812\" xlink:href=\"#DejaVuSans-114\"/>\n       <use x=\"627.246094\" xlink:href=\"#DejaVuSans-117\"/>\n       <use x=\"690.625\" xlink:href=\"#DejaVuSans-109\"/>\n      </g>\n     </g>\n    </g>\n    <g id=\"ytick_49\">\n     <g id=\"line2d_57\">\n      <g>\n       <use style=\"stroke:#000000;stroke-width:0.8;\" x=\"271.292188\" xlink:href=\"#m05ac85b2da\" y=\"700.180776\"/>\n      </g>\n     </g>\n     <g id=\"text_57\">\n      <!-- number_diagnoses -->\n      <g transform=\"translate(169.632813 703.979994)scale(0.1 -0.1)\">\n       <use xlink:href=\"#DejaVuSans-110\"/>\n       <use x=\"63.378906\" xlink:href=\"#DejaVuSans-117\"/>\n       <use x=\"126.757812\" xlink:href=\"#DejaVuSans-109\"/>\n       <use x=\"224.169922\" xlink:href=\"#DejaVuSans-98\"/>\n       <use x=\"287.646484\" xlink:href=\"#DejaVuSans-101\"/>\n       <use x=\"349.169922\" xlink:href=\"#DejaVuSans-114\"/>\n       <use x=\"390.283203\" xlink:href=\"#DejaVuSans-95\"/>\n       <use x=\"440.283203\" xlink:href=\"#DejaVuSans-100\"/>\n       <use x=\"503.759766\" xlink:href=\"#DejaVuSans-105\"/>\n       <use x=\"531.542969\" xlink:href=\"#DejaVuSans-97\"/>\n       <use x=\"592.822266\" xlink:href=\"#DejaVuSans-103\"/>\n       <use x=\"656.298828\" xlink:href=\"#DejaVuSans-110\"/>\n       <use x=\"719.677734\" xlink:href=\"#DejaVuSans-111\"/>\n       <use x=\"780.859375\" xlink:href=\"#DejaVuSans-115\"/>\n       <use x=\"832.958984\" xlink:href=\"#DejaVuSans-101\"/>\n       <use x=\"894.482422\" xlink:href=\"#DejaVuSans-115\"/>\n      </g>\n     </g>\n    </g>\n    <g id=\"ytick_50\">\n     <g id=\"line2d_58\">\n      <g>\n       <use style=\"stroke:#000000;stroke-width:0.8;\" x=\"271.292188\" xlink:href=\"#m05ac85b2da\" y=\"680.532583\"/>\n      </g>\n     </g>\n     <g id=\"text_58\">\n      <!-- acetohexamide -->\n      <g transform=\"translate(187.090625 684.331802)scale(0.1 -0.1)\">\n       <use xlink:href=\"#DejaVuSans-97\"/>\n       <use x=\"61.279297\" xlink:href=\"#DejaVuSans-99\"/>\n       <use x=\"116.259766\" xlink:href=\"#DejaVuSans-101\"/>\n       <use x=\"177.783203\" xlink:href=\"#DejaVuSans-116\"/>\n       <use x=\"216.992188\" xlink:href=\"#DejaVuSans-111\"/>\n       <use x=\"278.173828\" xlink:href=\"#DejaVuSans-104\"/>\n       <use x=\"341.552734\" xlink:href=\"#DejaVuSans-101\"/>\n       <use x=\"401.326172\" xlink:href=\"#DejaVuSans-120\"/>\n       <use x=\"460.505859\" xlink:href=\"#DejaVuSans-97\"/>\n       <use x=\"521.785156\" xlink:href=\"#DejaVuSans-109\"/>\n       <use x=\"619.197266\" xlink:href=\"#DejaVuSans-105\"/>\n       <use x=\"646.980469\" xlink:href=\"#DejaVuSans-100\"/>\n       <use x=\"710.457031\" xlink:href=\"#DejaVuSans-101\"/>\n      </g>\n     </g>\n    </g>\n    <g id=\"ytick_51\">\n     <g id=\"line2d_59\">\n      <g>\n       <use style=\"stroke:#000000;stroke-width:0.8;\" x=\"271.292188\" xlink:href=\"#m05ac85b2da\" y=\"660.88439\"/>\n      </g>\n     </g>\n     <g id=\"text_59\">\n      <!-- number_inpatient -->\n      <g transform=\"translate(175.5625 664.683609)scale(0.1 -0.1)\">\n       <use xlink:href=\"#DejaVuSans-110\"/>\n       <use x=\"63.378906\" xlink:href=\"#DejaVuSans-117\"/>\n       <use x=\"126.757812\" xlink:href=\"#DejaVuSans-109\"/>\n       <use x=\"224.169922\" xlink:href=\"#DejaVuSans-98\"/>\n       <use x=\"287.646484\" xlink:href=\"#DejaVuSans-101\"/>\n       <use x=\"349.169922\" xlink:href=\"#DejaVuSans-114\"/>\n       <use x=\"390.283203\" xlink:href=\"#DejaVuSans-95\"/>\n       <use x=\"440.283203\" xlink:href=\"#DejaVuSans-105\"/>\n       <use x=\"468.066406\" xlink:href=\"#DejaVuSans-110\"/>\n       <use x=\"531.445312\" xlink:href=\"#DejaVuSans-112\"/>\n       <use x=\"594.921875\" xlink:href=\"#DejaVuSans-97\"/>\n       <use x=\"656.201172\" xlink:href=\"#DejaVuSans-116\"/>\n       <use x=\"695.410156\" xlink:href=\"#DejaVuSans-105\"/>\n       <use x=\"723.193359\" xlink:href=\"#DejaVuSans-101\"/>\n       <use x=\"784.716797\" xlink:href=\"#DejaVuSans-110\"/>\n       <use x=\"848.095703\" xlink:href=\"#DejaVuSans-116\"/>\n      </g>\n     </g>\n    </g>\n    <g id=\"ytick_52\">\n     <g id=\"line2d_60\">\n      <g>\n       <use style=\"stroke:#000000;stroke-width:0.8;\" x=\"271.292188\" xlink:href=\"#m05ac85b2da\" y=\"641.236197\"/>\n      </g>\n     </g>\n     <g id=\"text_60\">\n      <!-- number_outpatient -->\n      <g transform=\"translate(168.301563 645.035416)scale(0.1 -0.1)\">\n       <use xlink:href=\"#DejaVuSans-110\"/>\n       <use x=\"63.378906\" xlink:href=\"#DejaVuSans-117\"/>\n       <use x=\"126.757812\" xlink:href=\"#DejaVuSans-109\"/>\n       <use x=\"224.169922\" xlink:href=\"#DejaVuSans-98\"/>\n       <use x=\"287.646484\" xlink:href=\"#DejaVuSans-101\"/>\n       <use x=\"349.169922\" xlink:href=\"#DejaVuSans-114\"/>\n       <use x=\"390.283203\" xlink:href=\"#DejaVuSans-95\"/>\n       <use x=\"440.283203\" xlink:href=\"#DejaVuSans-111\"/>\n       <use x=\"501.464844\" xlink:href=\"#DejaVuSans-117\"/>\n       <use x=\"564.84375\" xlink:href=\"#DejaVuSans-116\"/>\n       <use x=\"604.052734\" xlink:href=\"#DejaVuSans-112\"/>\n       <use x=\"667.529297\" xlink:href=\"#DejaVuSans-97\"/>\n       <use x=\"728.808594\" xlink:href=\"#DejaVuSans-116\"/>\n       <use x=\"768.017578\" xlink:href=\"#DejaVuSans-105\"/>\n       <use x=\"795.800781\" xlink:href=\"#DejaVuSans-101\"/>\n       <use x=\"857.324219\" xlink:href=\"#DejaVuSans-110\"/>\n       <use x=\"920.703125\" xlink:href=\"#DejaVuSans-116\"/>\n      </g>\n     </g>\n    </g>\n    <g id=\"ytick_53\">\n     <g id=\"line2d_61\">\n      <g>\n       <use style=\"stroke:#000000;stroke-width:0.8;\" x=\"271.292188\" xlink:href=\"#m05ac85b2da\" y=\"621.588005\"/>\n      </g>\n     </g>\n     <g id=\"text_61\">\n      <!-- num_medications -->\n      <g transform=\"translate(175.865625 625.387223)scale(0.1 -0.1)\">\n       <use xlink:href=\"#DejaVuSans-110\"/>\n       <use x=\"63.378906\" xlink:href=\"#DejaVuSans-117\"/>\n       <use x=\"126.757812\" xlink:href=\"#DejaVuSans-109\"/>\n       <use x=\"224.169922\" xlink:href=\"#DejaVuSans-95\"/>\n       <use x=\"274.169922\" xlink:href=\"#DejaVuSans-109\"/>\n       <use x=\"371.582031\" xlink:href=\"#DejaVuSans-101\"/>\n       <use x=\"433.105469\" xlink:href=\"#DejaVuSans-100\"/>\n       <use x=\"496.582031\" xlink:href=\"#DejaVuSans-105\"/>\n       <use x=\"524.365234\" xlink:href=\"#DejaVuSans-99\"/>\n       <use x=\"579.345703\" xlink:href=\"#DejaVuSans-97\"/>\n       <use x=\"640.625\" xlink:href=\"#DejaVuSans-116\"/>\n       <use x=\"679.833984\" xlink:href=\"#DejaVuSans-105\"/>\n       <use x=\"707.617188\" xlink:href=\"#DejaVuSans-111\"/>\n       <use x=\"768.798828\" xlink:href=\"#DejaVuSans-110\"/>\n       <use x=\"832.177734\" xlink:href=\"#DejaVuSans-115\"/>\n      </g>\n     </g>\n    </g>\n    <g id=\"ytick_54\">\n     <g id=\"line2d_62\">\n      <g>\n       <use style=\"stroke:#000000;stroke-width:0.8;\" x=\"271.292188\" xlink:href=\"#m05ac85b2da\" y=\"601.939812\"/>\n      </g>\n     </g>\n     <g id=\"text_62\">\n      <!-- num_procedures -->\n      <g transform=\"translate(180.9375 605.73903)scale(0.1 -0.1)\">\n       <use xlink:href=\"#DejaVuSans-110\"/>\n       <use x=\"63.378906\" xlink:href=\"#DejaVuSans-117\"/>\n       <use x=\"126.757812\" xlink:href=\"#DejaVuSans-109\"/>\n       <use x=\"224.169922\" xlink:href=\"#DejaVuSans-95\"/>\n       <use x=\"274.169922\" xlink:href=\"#DejaVuSans-112\"/>\n       <use x=\"337.646484\" xlink:href=\"#DejaVuSans-114\"/>\n       <use x=\"376.509766\" xlink:href=\"#DejaVuSans-111\"/>\n       <use x=\"437.691406\" xlink:href=\"#DejaVuSans-99\"/>\n       <use x=\"492.671875\" xlink:href=\"#DejaVuSans-101\"/>\n       <use x=\"554.195312\" xlink:href=\"#DejaVuSans-100\"/>\n       <use x=\"617.671875\" xlink:href=\"#DejaVuSans-117\"/>\n       <use x=\"681.050781\" xlink:href=\"#DejaVuSans-114\"/>\n       <use x=\"719.914062\" xlink:href=\"#DejaVuSans-101\"/>\n       <use x=\"781.4375\" xlink:href=\"#DejaVuSans-115\"/>\n      </g>\n     </g>\n    </g>\n    <g id=\"ytick_55\">\n     <g id=\"line2d_63\">\n      <g>\n       <use style=\"stroke:#000000;stroke-width:0.8;\" x=\"271.292188\" xlink:href=\"#m05ac85b2da\" y=\"582.291619\"/>\n      </g>\n     </g>\n     <g id=\"text_63\">\n      <!-- num_lab_procedures -->\n      <g transform=\"translate(160.682813 586.090838)scale(0.1 -0.1)\">\n       <use xlink:href=\"#DejaVuSans-110\"/>\n       <use x=\"63.378906\" xlink:href=\"#DejaVuSans-117\"/>\n       <use x=\"126.757812\" xlink:href=\"#DejaVuSans-109\"/>\n       <use x=\"224.169922\" xlink:href=\"#DejaVuSans-95\"/>\n       <use x=\"274.169922\" xlink:href=\"#DejaVuSans-108\"/>\n       <use x=\"301.953125\" xlink:href=\"#DejaVuSans-97\"/>\n       <use x=\"363.232422\" xlink:href=\"#DejaVuSans-98\"/>\n       <use x=\"426.708984\" xlink:href=\"#DejaVuSans-95\"/>\n       <use x=\"476.708984\" xlink:href=\"#DejaVuSans-112\"/>\n       <use x=\"540.185547\" xlink:href=\"#DejaVuSans-114\"/>\n       <use x=\"579.048828\" xlink:href=\"#DejaVuSans-111\"/>\n       <use x=\"640.230469\" xlink:href=\"#DejaVuSans-99\"/>\n       <use x=\"695.210938\" xlink:href=\"#DejaVuSans-101\"/>\n       <use x=\"756.734375\" xlink:href=\"#DejaVuSans-100\"/>\n       <use x=\"820.210938\" xlink:href=\"#DejaVuSans-117\"/>\n       <use x=\"883.589844\" xlink:href=\"#DejaVuSans-114\"/>\n       <use x=\"922.453125\" xlink:href=\"#DejaVuSans-101\"/>\n       <use x=\"983.976562\" xlink:href=\"#DejaVuSans-115\"/>\n      </g>\n     </g>\n    </g>\n    <g id=\"ytick_56\">\n     <g id=\"line2d_64\">\n      <g>\n       <use style=\"stroke:#000000;stroke-width:0.8;\" x=\"271.292188\" xlink:href=\"#m05ac85b2da\" y=\"562.643426\"/>\n      </g>\n     </g>\n     <g id=\"text_64\">\n      <!-- time_in_hospital -->\n      <g transform=\"translate(182.965625 566.442645)scale(0.1 -0.1)\">\n       <use xlink:href=\"#DejaVuSans-116\"/>\n       <use x=\"39.208984\" xlink:href=\"#DejaVuSans-105\"/>\n       <use x=\"66.992188\" xlink:href=\"#DejaVuSans-109\"/>\n       <use x=\"164.404297\" xlink:href=\"#DejaVuSans-101\"/>\n       <use x=\"225.927734\" xlink:href=\"#DejaVuSans-95\"/>\n       <use x=\"275.927734\" xlink:href=\"#DejaVuSans-105\"/>\n       <use x=\"303.710938\" xlink:href=\"#DejaVuSans-110\"/>\n       <use x=\"367.089844\" xlink:href=\"#DejaVuSans-95\"/>\n       <use x=\"417.089844\" xlink:href=\"#DejaVuSans-104\"/>\n       <use x=\"480.46875\" xlink:href=\"#DejaVuSans-111\"/>\n       <use x=\"541.650391\" xlink:href=\"#DejaVuSans-115\"/>\n       <use x=\"593.75\" xlink:href=\"#DejaVuSans-112\"/>\n       <use x=\"657.226562\" xlink:href=\"#DejaVuSans-105\"/>\n       <use x=\"685.009766\" xlink:href=\"#DejaVuSans-116\"/>\n       <use x=\"724.21875\" xlink:href=\"#DejaVuSans-97\"/>\n       <use x=\"785.498047\" xlink:href=\"#DejaVuSans-108\"/>\n      </g>\n     </g>\n    </g>\n    <g id=\"ytick_57\">\n     <g id=\"line2d_65\">\n      <g>\n       <use style=\"stroke:#000000;stroke-width:0.8;\" x=\"271.292188\" xlink:href=\"#m05ac85b2da\" y=\"542.995233\"/>\n      </g>\n     </g>\n     <g id=\"text_65\">\n      <!-- admission_source_id -->\n      <g transform=\"translate(161.314063 546.794452)scale(0.1 -0.1)\">\n       <use xlink:href=\"#DejaVuSans-97\"/>\n       <use x=\"61.279297\" xlink:href=\"#DejaVuSans-100\"/>\n       <use x=\"124.755859\" xlink:href=\"#DejaVuSans-109\"/>\n       <use x=\"222.167969\" xlink:href=\"#DejaVuSans-105\"/>\n       <use x=\"249.951172\" xlink:href=\"#DejaVuSans-115\"/>\n       <use x=\"302.050781\" xlink:href=\"#DejaVuSans-115\"/>\n       <use x=\"354.150391\" xlink:href=\"#DejaVuSans-105\"/>\n       <use x=\"381.933594\" xlink:href=\"#DejaVuSans-111\"/>\n       <use x=\"443.115234\" xlink:href=\"#DejaVuSans-110\"/>\n       <use x=\"506.494141\" xlink:href=\"#DejaVuSans-95\"/>\n       <use x=\"556.494141\" xlink:href=\"#DejaVuSans-115\"/>\n       <use x=\"608.59375\" xlink:href=\"#DejaVuSans-111\"/>\n       <use x=\"669.775391\" xlink:href=\"#DejaVuSans-117\"/>\n       <use x=\"733.154297\" xlink:href=\"#DejaVuSans-114\"/>\n       <use x=\"772.017578\" xlink:href=\"#DejaVuSans-99\"/>\n       <use x=\"826.998047\" xlink:href=\"#DejaVuSans-101\"/>\n       <use x=\"888.521484\" xlink:href=\"#DejaVuSans-95\"/>\n       <use x=\"938.521484\" xlink:href=\"#DejaVuSans-105\"/>\n       <use x=\"966.304688\" xlink:href=\"#DejaVuSans-100\"/>\n      </g>\n     </g>\n    </g>\n    <g id=\"ytick_58\">\n     <g id=\"line2d_66\">\n      <g>\n       <use style=\"stroke:#000000;stroke-width:0.8;\" x=\"271.292188\" xlink:href=\"#m05ac85b2da\" y=\"523.347041\"/>\n      </g>\n     </g>\n     <g id=\"text_66\">\n      <!-- discharge_disposition_id -->\n      <g transform=\"translate(142.482813 527.146259)scale(0.1 -0.1)\">\n       <use xlink:href=\"#DejaVuSans-100\"/>\n       <use x=\"63.476562\" xlink:href=\"#DejaVuSans-105\"/>\n       <use x=\"91.259766\" xlink:href=\"#DejaVuSans-115\"/>\n       <use x=\"143.359375\" xlink:href=\"#DejaVuSans-99\"/>\n       <use x=\"198.339844\" xlink:href=\"#DejaVuSans-104\"/>\n       <use x=\"261.71875\" xlink:href=\"#DejaVuSans-97\"/>\n       <use x=\"322.998047\" xlink:href=\"#DejaVuSans-114\"/>\n       <use x=\"362.361328\" xlink:href=\"#DejaVuSans-103\"/>\n       <use x=\"425.837891\" xlink:href=\"#DejaVuSans-101\"/>\n       <use x=\"487.361328\" xlink:href=\"#DejaVuSans-95\"/>\n       <use x=\"537.361328\" xlink:href=\"#DejaVuSans-100\"/>\n       <use x=\"600.837891\" xlink:href=\"#DejaVuSans-105\"/>\n       <use x=\"628.621094\" xlink:href=\"#DejaVuSans-115\"/>\n       <use x=\"680.720703\" xlink:href=\"#DejaVuSans-112\"/>\n       <use x=\"744.197266\" xlink:href=\"#DejaVuSans-111\"/>\n       <use x=\"805.378906\" xlink:href=\"#DejaVuSans-115\"/>\n       <use x=\"857.478516\" xlink:href=\"#DejaVuSans-105\"/>\n       <use x=\"885.261719\" xlink:href=\"#DejaVuSans-116\"/>\n       <use x=\"924.470703\" xlink:href=\"#DejaVuSans-105\"/>\n       <use x=\"952.253906\" xlink:href=\"#DejaVuSans-111\"/>\n       <use x=\"1013.435547\" xlink:href=\"#DejaVuSans-110\"/>\n       <use x=\"1076.814453\" xlink:href=\"#DejaVuSans-95\"/>\n       <use x=\"1126.814453\" xlink:href=\"#DejaVuSans-105\"/>\n       <use x=\"1154.597656\" xlink:href=\"#DejaVuSans-100\"/>\n      </g>\n     </g>\n    </g>\n    <g id=\"ytick_59\">\n     <g id=\"line2d_67\">\n      <g>\n       <use style=\"stroke:#000000;stroke-width:0.8;\" x=\"271.292188\" xlink:href=\"#m05ac85b2da\" y=\"503.698848\"/>\n      </g>\n     </g>\n     <g id=\"text_67\">\n      <!-- number_emergency -->\n      <g transform=\"translate(164.025 507.498067)scale(0.1 -0.1)\">\n       <use xlink:href=\"#DejaVuSans-110\"/>\n       <use x=\"63.378906\" xlink:href=\"#DejaVuSans-117\"/>\n       <use x=\"126.757812\" xlink:href=\"#DejaVuSans-109\"/>\n       <use x=\"224.169922\" xlink:href=\"#DejaVuSans-98\"/>\n       <use x=\"287.646484\" xlink:href=\"#DejaVuSans-101\"/>\n       <use x=\"349.169922\" xlink:href=\"#DejaVuSans-114\"/>\n       <use x=\"390.283203\" xlink:href=\"#DejaVuSans-95\"/>\n       <use x=\"440.283203\" xlink:href=\"#DejaVuSans-101\"/>\n       <use x=\"501.806641\" xlink:href=\"#DejaVuSans-109\"/>\n       <use x=\"599.21875\" xlink:href=\"#DejaVuSans-101\"/>\n       <use x=\"660.742188\" xlink:href=\"#DejaVuSans-114\"/>\n       <use x=\"700.105469\" xlink:href=\"#DejaVuSans-103\"/>\n       <use x=\"763.582031\" xlink:href=\"#DejaVuSans-101\"/>\n       <use x=\"825.105469\" xlink:href=\"#DejaVuSans-110\"/>\n       <use x=\"888.484375\" xlink:href=\"#DejaVuSans-99\"/>\n       <use x=\"943.464844\" xlink:href=\"#DejaVuSans-121\"/>\n      </g>\n     </g>\n    </g>\n    <g id=\"ytick_60\">\n     <g id=\"line2d_68\">\n      <g>\n       <use style=\"stroke:#000000;stroke-width:0.8;\" x=\"271.292188\" xlink:href=\"#m05ac85b2da\" y=\"484.050655\"/>\n      </g>\n     </g>\n     <g id=\"text_68\">\n      <!-- race_Other -->\n      <g transform=\"translate(209.007813 487.849874)scale(0.1 -0.1)\">\n       <use xlink:href=\"#DejaVuSans-114\"/>\n       <use x=\"41.113281\" xlink:href=\"#DejaVuSans-97\"/>\n       <use x=\"102.392578\" xlink:href=\"#DejaVuSans-99\"/>\n       <use x=\"157.373047\" xlink:href=\"#DejaVuSans-101\"/>\n       <use x=\"218.896484\" xlink:href=\"#DejaVuSans-95\"/>\n       <use x=\"268.896484\" xlink:href=\"#DejaVuSans-79\"/>\n       <use x=\"347.607422\" xlink:href=\"#DejaVuSans-116\"/>\n       <use x=\"386.816406\" xlink:href=\"#DejaVuSans-104\"/>\n       <use x=\"450.195312\" xlink:href=\"#DejaVuSans-101\"/>\n       <use x=\"511.71875\" xlink:href=\"#DejaVuSans-114\"/>\n      </g>\n     </g>\n    </g>\n    <g id=\"ytick_61\">\n     <g id=\"line2d_69\">\n      <g>\n       <use style=\"stroke:#000000;stroke-width:0.8;\" x=\"271.292188\" xlink:href=\"#m05ac85b2da\" y=\"464.402462\"/>\n      </g>\n     </g>\n     <g id=\"text_69\">\n      <!-- diag_2_Respiratory -->\n      <g transform=\"translate(169.03125 468.201681)scale(0.1 -0.1)\">\n       <use xlink:href=\"#DejaVuSans-100\"/>\n       <use x=\"63.476562\" xlink:href=\"#DejaVuSans-105\"/>\n       <use x=\"91.259766\" xlink:href=\"#DejaVuSans-97\"/>\n       <use x=\"152.539062\" xlink:href=\"#DejaVuSans-103\"/>\n       <use x=\"216.015625\" xlink:href=\"#DejaVuSans-95\"/>\n       <use x=\"266.015625\" xlink:href=\"#DejaVuSans-50\"/>\n       <use x=\"329.638672\" xlink:href=\"#DejaVuSans-95\"/>\n       <use x=\"379.638672\" xlink:href=\"#DejaVuSans-82\"/>\n       <use x=\"444.621094\" xlink:href=\"#DejaVuSans-101\"/>\n       <use x=\"506.144531\" xlink:href=\"#DejaVuSans-115\"/>\n       <use x=\"558.244141\" xlink:href=\"#DejaVuSans-112\"/>\n       <use x=\"621.720703\" xlink:href=\"#DejaVuSans-105\"/>\n       <use x=\"649.503906\" xlink:href=\"#DejaVuSans-114\"/>\n       <use x=\"690.617188\" xlink:href=\"#DejaVuSans-97\"/>\n       <use x=\"751.896484\" xlink:href=\"#DejaVuSans-116\"/>\n       <use x=\"791.105469\" xlink:href=\"#DejaVuSans-111\"/>\n       <use x=\"852.287109\" xlink:href=\"#DejaVuSans-114\"/>\n       <use x=\"893.400391\" xlink:href=\"#DejaVuSans-121\"/>\n      </g>\n     </g>\n    </g>\n    <g id=\"ytick_62\">\n     <g id=\"line2d_70\">\n      <g>\n       <use style=\"stroke:#000000;stroke-width:0.8;\" x=\"271.292188\" xlink:href=\"#m05ac85b2da\" y=\"444.75427\"/>\n      </g>\n     </g>\n     <g id=\"text_70\">\n      <!-- glyburide -->\n      <g transform=\"translate(217.170313 448.553488)scale(0.1 -0.1)\">\n       <use xlink:href=\"#DejaVuSans-103\"/>\n       <use x=\"63.476562\" xlink:href=\"#DejaVuSans-108\"/>\n       <use x=\"91.259766\" xlink:href=\"#DejaVuSans-121\"/>\n       <use x=\"150.439453\" xlink:href=\"#DejaVuSans-98\"/>\n       <use x=\"213.916016\" xlink:href=\"#DejaVuSans-117\"/>\n       <use x=\"277.294922\" xlink:href=\"#DejaVuSans-114\"/>\n       <use x=\"318.408203\" xlink:href=\"#DejaVuSans-105\"/>\n       <use x=\"346.191406\" xlink:href=\"#DejaVuSans-100\"/>\n       <use x=\"409.667969\" xlink:href=\"#DejaVuSans-101\"/>\n      </g>\n     </g>\n    </g>\n    <g id=\"ytick_63\">\n     <g id=\"line2d_71\">\n      <g>\n       <use style=\"stroke:#000000;stroke-width:0.8;\" x=\"271.292188\" xlink:href=\"#m05ac85b2da\" y=\"425.106077\"/>\n      </g>\n     </g>\n     <g id=\"text_71\">\n      <!-- race_Caucasian -->\n      <g transform=\"translate(185.873438 428.905296)scale(0.1 -0.1)\">\n       <use xlink:href=\"#DejaVuSans-114\"/>\n       <use x=\"41.113281\" xlink:href=\"#DejaVuSans-97\"/>\n       <use x=\"102.392578\" xlink:href=\"#DejaVuSans-99\"/>\n       <use x=\"157.373047\" xlink:href=\"#DejaVuSans-101\"/>\n       <use x=\"218.896484\" xlink:href=\"#DejaVuSans-95\"/>\n       <use x=\"268.896484\" xlink:href=\"#DejaVuSans-67\"/>\n       <use x=\"338.720703\" xlink:href=\"#DejaVuSans-97\"/>\n       <use x=\"400\" xlink:href=\"#DejaVuSans-117\"/>\n       <use x=\"463.378906\" xlink:href=\"#DejaVuSans-99\"/>\n       <use x=\"518.359375\" xlink:href=\"#DejaVuSans-97\"/>\n       <use x=\"579.638672\" xlink:href=\"#DejaVuSans-115\"/>\n       <use x=\"631.738281\" xlink:href=\"#DejaVuSans-105\"/>\n       <use x=\"659.521484\" xlink:href=\"#DejaVuSans-97\"/>\n       <use x=\"720.800781\" xlink:href=\"#DejaVuSans-110\"/>\n      </g>\n     </g>\n    </g>\n    <g id=\"ytick_64\">\n     <g id=\"line2d_72\">\n      <g>\n       <use style=\"stroke:#000000;stroke-width:0.8;\" x=\"271.292188\" xlink:href=\"#m05ac85b2da\" y=\"405.457884\"/>\n      </g>\n     </g>\n     <g id=\"text_72\">\n      <!-- race_Asian -->\n      <g transform=\"translate(210.107813 409.257103)scale(0.1 -0.1)\">\n       <use xlink:href=\"#DejaVuSans-114\"/>\n       <use x=\"41.113281\" xlink:href=\"#DejaVuSans-97\"/>\n       <use x=\"102.392578\" xlink:href=\"#DejaVuSans-99\"/>\n       <use x=\"157.373047\" xlink:href=\"#DejaVuSans-101\"/>\n       <use x=\"218.896484\" xlink:href=\"#DejaVuSans-95\"/>\n       <use x=\"268.896484\" xlink:href=\"#DejaVuSans-65\"/>\n       <use x=\"337.304688\" xlink:href=\"#DejaVuSans-115\"/>\n       <use x=\"389.404297\" xlink:href=\"#DejaVuSans-105\"/>\n       <use x=\"417.1875\" xlink:href=\"#DejaVuSans-97\"/>\n       <use x=\"478.466797\" xlink:href=\"#DejaVuSans-110\"/>\n      </g>\n     </g>\n    </g>\n    <g id=\"ytick_65\">\n     <g id=\"line2d_73\">\n      <g>\n       <use style=\"stroke:#000000;stroke-width:0.8;\" x=\"271.292188\" xlink:href=\"#m05ac85b2da\" y=\"385.809691\"/>\n      </g>\n     </g>\n     <g id=\"text_73\">\n      <!-- numchange -->\n      <g transform=\"translate(205.073438 389.60891)scale(0.1 -0.1)\">\n       <use xlink:href=\"#DejaVuSans-110\"/>\n       <use x=\"63.378906\" xlink:href=\"#DejaVuSans-117\"/>\n       <use x=\"126.757812\" xlink:href=\"#DejaVuSans-109\"/>\n       <use x=\"224.169922\" xlink:href=\"#DejaVuSans-99\"/>\n       <use x=\"279.150391\" xlink:href=\"#DejaVuSans-104\"/>\n       <use x=\"342.529297\" xlink:href=\"#DejaVuSans-97\"/>\n       <use x=\"403.808594\" xlink:href=\"#DejaVuSans-110\"/>\n       <use x=\"467.1875\" xlink:href=\"#DejaVuSans-103\"/>\n       <use x=\"530.664062\" xlink:href=\"#DejaVuSans-101\"/>\n      </g>\n     </g>\n    </g>\n    <g id=\"ytick_66\">\n     <g id=\"line2d_74\">\n      <g>\n       <use style=\"stroke:#000000;stroke-width:0.8;\" x=\"271.292188\" xlink:href=\"#m05ac85b2da\" y=\"366.161498\"/>\n      </g>\n     </g>\n     <g id=\"text_74\">\n      <!-- diabetesMed -->\n      <g transform=\"translate(200.123438 369.960717)scale(0.1 -0.1)\">\n       <use xlink:href=\"#DejaVuSans-100\"/>\n       <use x=\"63.476562\" xlink:href=\"#DejaVuSans-105\"/>\n       <use x=\"91.259766\" xlink:href=\"#DejaVuSans-97\"/>\n       <use x=\"152.539062\" xlink:href=\"#DejaVuSans-98\"/>\n       <use x=\"216.015625\" xlink:href=\"#DejaVuSans-101\"/>\n       <use x=\"277.539062\" xlink:href=\"#DejaVuSans-116\"/>\n       <use x=\"316.748047\" xlink:href=\"#DejaVuSans-101\"/>\n       <use x=\"378.271484\" xlink:href=\"#DejaVuSans-115\"/>\n       <use x=\"430.371094\" xlink:href=\"#DejaVuSans-77\"/>\n       <use x=\"516.650391\" xlink:href=\"#DejaVuSans-101\"/>\n       <use x=\"578.173828\" xlink:href=\"#DejaVuSans-100\"/>\n      </g>\n     </g>\n    </g>\n    <g id=\"ytick_67\">\n     <g id=\"line2d_75\">\n      <g>\n       <use style=\"stroke:#000000;stroke-width:0.8;\" x=\"271.292188\" xlink:href=\"#m05ac85b2da\" y=\"346.513306\"/>\n      </g>\n     </g>\n     <g id=\"text_75\">\n      <!-- change -->\n      <g transform=\"translate(227.489063 350.312524)scale(0.1 -0.1)\">\n       <use xlink:href=\"#DejaVuSans-99\"/>\n       <use x=\"54.980469\" xlink:href=\"#DejaVuSans-104\"/>\n       <use x=\"118.359375\" xlink:href=\"#DejaVuSans-97\"/>\n       <use x=\"179.638672\" xlink:href=\"#DejaVuSans-110\"/>\n       <use x=\"243.017578\" xlink:href=\"#DejaVuSans-103\"/>\n       <use x=\"306.494141\" xlink:href=\"#DejaVuSans-101\"/>\n      </g>\n     </g>\n    </g>\n    <g id=\"ytick_68\">\n     <g id=\"line2d_76\">\n      <g>\n       <use style=\"stroke:#000000;stroke-width:0.8;\" x=\"271.292188\" xlink:href=\"#m05ac85b2da\" y=\"326.865113\"/>\n      </g>\n     </g>\n     <g id=\"text_76\">\n      <!-- metformin-pioglitazone -->\n      <defs>\n       <path d=\"M 5.515625 54.6875 \nL 48.1875 54.6875 \nL 48.1875 46.484375 \nL 14.40625 7.171875 \nL 48.1875 7.171875 \nL 48.1875 0 \nL 4.296875 0 \nL 4.296875 8.203125 \nL 38.09375 47.515625 \nL 5.515625 47.515625 \nz\n\" id=\"DejaVuSans-122\"/>\n      </defs>\n      <g transform=\"translate(147.382813 330.664332)scale(0.1 -0.1)\">\n       <use xlink:href=\"#DejaVuSans-109\"/>\n       <use x=\"97.412109\" xlink:href=\"#DejaVuSans-101\"/>\n       <use x=\"158.935547\" xlink:href=\"#DejaVuSans-116\"/>\n       <use x=\"198.144531\" xlink:href=\"#DejaVuSans-102\"/>\n       <use x=\"233.349609\" xlink:href=\"#DejaVuSans-111\"/>\n       <use x=\"294.53125\" xlink:href=\"#DejaVuSans-114\"/>\n       <use x=\"333.894531\" xlink:href=\"#DejaVuSans-109\"/>\n       <use x=\"431.306641\" xlink:href=\"#DejaVuSans-105\"/>\n       <use x=\"459.089844\" xlink:href=\"#DejaVuSans-110\"/>\n       <use x=\"522.46875\" xlink:href=\"#DejaVuSans-45\"/>\n       <use x=\"558.552734\" xlink:href=\"#DejaVuSans-112\"/>\n       <use x=\"622.029297\" xlink:href=\"#DejaVuSans-105\"/>\n       <use x=\"649.8125\" xlink:href=\"#DejaVuSans-111\"/>\n       <use x=\"710.994141\" xlink:href=\"#DejaVuSans-103\"/>\n       <use x=\"774.470703\" xlink:href=\"#DejaVuSans-108\"/>\n       <use x=\"802.253906\" xlink:href=\"#DejaVuSans-105\"/>\n       <use x=\"830.037109\" xlink:href=\"#DejaVuSans-116\"/>\n       <use x=\"869.246094\" xlink:href=\"#DejaVuSans-97\"/>\n       <use x=\"930.525391\" xlink:href=\"#DejaVuSans-122\"/>\n       <use x=\"983.015625\" xlink:href=\"#DejaVuSans-111\"/>\n       <use x=\"1044.197266\" xlink:href=\"#DejaVuSans-110\"/>\n       <use x=\"1107.576172\" xlink:href=\"#DejaVuSans-101\"/>\n      </g>\n     </g>\n    </g>\n    <g id=\"ytick_69\">\n     <g id=\"line2d_77\">\n      <g>\n       <use style=\"stroke:#000000;stroke-width:0.8;\" x=\"271.292188\" xlink:href=\"#m05ac85b2da\" y=\"307.21692\"/>\n      </g>\n     </g>\n     <g id=\"text_77\">\n      <!-- metformin-rosiglitazone -->\n      <g transform=\"translate(144.635938 311.016139)scale(0.1 -0.1)\">\n       <use xlink:href=\"#DejaVuSans-109\"/>\n       <use x=\"97.412109\" xlink:href=\"#DejaVuSans-101\"/>\n       <use x=\"158.935547\" xlink:href=\"#DejaVuSans-116\"/>\n       <use x=\"198.144531\" xlink:href=\"#DejaVuSans-102\"/>\n       <use x=\"233.349609\" xlink:href=\"#DejaVuSans-111\"/>\n       <use x=\"294.53125\" xlink:href=\"#DejaVuSans-114\"/>\n       <use x=\"333.894531\" xlink:href=\"#DejaVuSans-109\"/>\n       <use x=\"431.306641\" xlink:href=\"#DejaVuSans-105\"/>\n       <use x=\"459.089844\" xlink:href=\"#DejaVuSans-110\"/>\n       <use x=\"522.46875\" xlink:href=\"#DejaVuSans-45\"/>\n       <use x=\"558.552734\" xlink:href=\"#DejaVuSans-114\"/>\n       <use x=\"597.416016\" xlink:href=\"#DejaVuSans-111\"/>\n       <use x=\"658.597656\" xlink:href=\"#DejaVuSans-115\"/>\n       <use x=\"710.697266\" xlink:href=\"#DejaVuSans-105\"/>\n       <use x=\"738.480469\" xlink:href=\"#DejaVuSans-103\"/>\n       <use x=\"801.957031\" xlink:href=\"#DejaVuSans-108\"/>\n       <use x=\"829.740234\" xlink:href=\"#DejaVuSans-105\"/>\n       <use x=\"857.523438\" xlink:href=\"#DejaVuSans-116\"/>\n       <use x=\"896.732422\" xlink:href=\"#DejaVuSans-97\"/>\n       <use x=\"958.011719\" xlink:href=\"#DejaVuSans-122\"/>\n       <use x=\"1010.501953\" xlink:href=\"#DejaVuSans-111\"/>\n       <use x=\"1071.683594\" xlink:href=\"#DejaVuSans-110\"/>\n       <use x=\"1135.0625\" xlink:href=\"#DejaVuSans-101\"/>\n      </g>\n     </g>\n    </g>\n    <g id=\"ytick_70\">\n     <g id=\"line2d_78\">\n      <g>\n       <use style=\"stroke:#000000;stroke-width:0.8;\" x=\"271.292188\" xlink:href=\"#m05ac85b2da\" y=\"287.568727\"/>\n      </g>\n     </g>\n     <g id=\"text_78\">\n      <!-- glipizide-metformin -->\n      <g transform=\"translate(166.879688 291.367946)scale(0.1 -0.1)\">\n       <use xlink:href=\"#DejaVuSans-103\"/>\n       <use x=\"63.476562\" xlink:href=\"#DejaVuSans-108\"/>\n       <use x=\"91.259766\" xlink:href=\"#DejaVuSans-105\"/>\n       <use x=\"119.042969\" xlink:href=\"#DejaVuSans-112\"/>\n       <use x=\"182.519531\" xlink:href=\"#DejaVuSans-105\"/>\n       <use x=\"210.302734\" xlink:href=\"#DejaVuSans-122\"/>\n       <use x=\"262.792969\" xlink:href=\"#DejaVuSans-105\"/>\n       <use x=\"290.576172\" xlink:href=\"#DejaVuSans-100\"/>\n       <use x=\"354.052734\" xlink:href=\"#DejaVuSans-101\"/>\n       <use x=\"415.576172\" xlink:href=\"#DejaVuSans-45\"/>\n       <use x=\"451.660156\" xlink:href=\"#DejaVuSans-109\"/>\n       <use x=\"549.072266\" xlink:href=\"#DejaVuSans-101\"/>\n       <use x=\"610.595703\" xlink:href=\"#DejaVuSans-116\"/>\n       <use x=\"649.804688\" xlink:href=\"#DejaVuSans-102\"/>\n       <use x=\"685.009766\" xlink:href=\"#DejaVuSans-111\"/>\n       <use x=\"746.191406\" xlink:href=\"#DejaVuSans-114\"/>\n       <use x=\"785.554688\" xlink:href=\"#DejaVuSans-109\"/>\n       <use x=\"882.966797\" xlink:href=\"#DejaVuSans-105\"/>\n       <use x=\"910.75\" xlink:href=\"#DejaVuSans-110\"/>\n      </g>\n     </g>\n    </g>\n    <g id=\"ytick_71\">\n     <g id=\"line2d_79\">\n      <g>\n       <use style=\"stroke:#000000;stroke-width:0.8;\" x=\"271.292188\" xlink:href=\"#m05ac85b2da\" y=\"267.920535\"/>\n      </g>\n     </g>\n     <g id=\"text_79\">\n      <!-- glyburide-metformin -->\n      <g transform=\"translate(161.317188 271.719753)scale(0.1 -0.1)\">\n       <use xlink:href=\"#DejaVuSans-103\"/>\n       <use x=\"63.476562\" xlink:href=\"#DejaVuSans-108\"/>\n       <use x=\"91.259766\" xlink:href=\"#DejaVuSans-121\"/>\n       <use x=\"150.439453\" xlink:href=\"#DejaVuSans-98\"/>\n       <use x=\"213.916016\" xlink:href=\"#DejaVuSans-117\"/>\n       <use x=\"277.294922\" xlink:href=\"#DejaVuSans-114\"/>\n       <use x=\"318.408203\" xlink:href=\"#DejaVuSans-105\"/>\n       <use x=\"346.191406\" xlink:href=\"#DejaVuSans-100\"/>\n       <use x=\"409.667969\" xlink:href=\"#DejaVuSans-101\"/>\n       <use x=\"471.191406\" xlink:href=\"#DejaVuSans-45\"/>\n       <use x=\"507.275391\" xlink:href=\"#DejaVuSans-109\"/>\n       <use x=\"604.6875\" xlink:href=\"#DejaVuSans-101\"/>\n       <use x=\"666.210938\" xlink:href=\"#DejaVuSans-116\"/>\n       <use x=\"705.419922\" xlink:href=\"#DejaVuSans-102\"/>\n       <use x=\"740.625\" xlink:href=\"#DejaVuSans-111\"/>\n       <use x=\"801.806641\" xlink:href=\"#DejaVuSans-114\"/>\n       <use x=\"841.169922\" xlink:href=\"#DejaVuSans-109\"/>\n       <use x=\"938.582031\" xlink:href=\"#DejaVuSans-105\"/>\n       <use x=\"966.365234\" xlink:href=\"#DejaVuSans-110\"/>\n      </g>\n     </g>\n    </g>\n    <g id=\"ytick_72\">\n     <g id=\"line2d_80\">\n      <g>\n       <use style=\"stroke:#000000;stroke-width:0.8;\" x=\"271.292188\" xlink:href=\"#m05ac85b2da\" y=\"248.272342\"/>\n      </g>\n     </g>\n     <g id=\"text_80\">\n      <!-- insulin -->\n      <g transform=\"translate(231.735938 252.071561)scale(0.1 -0.1)\">\n       <use xlink:href=\"#DejaVuSans-105\"/>\n       <use x=\"27.783203\" xlink:href=\"#DejaVuSans-110\"/>\n       <use x=\"91.162109\" xlink:href=\"#DejaVuSans-115\"/>\n       <use x=\"143.261719\" xlink:href=\"#DejaVuSans-117\"/>\n       <use x=\"206.640625\" xlink:href=\"#DejaVuSans-108\"/>\n       <use x=\"234.423828\" xlink:href=\"#DejaVuSans-105\"/>\n       <use x=\"262.207031\" xlink:href=\"#DejaVuSans-110\"/>\n      </g>\n     </g>\n    </g>\n    <g id=\"ytick_73\">\n     <g id=\"line2d_81\">\n      <g>\n       <use style=\"stroke:#000000;stroke-width:0.8;\" x=\"271.292188\" xlink:href=\"#m05ac85b2da\" y=\"228.624149\"/>\n      </g>\n     </g>\n     <g id=\"text_81\">\n      <!-- troglitazone -->\n      <g transform=\"translate(204.55625 232.423368)scale(0.1 -0.1)\">\n       <use xlink:href=\"#DejaVuSans-116\"/>\n       <use x=\"39.208984\" xlink:href=\"#DejaVuSans-114\"/>\n       <use x=\"78.072266\" xlink:href=\"#DejaVuSans-111\"/>\n       <use x=\"139.253906\" xlink:href=\"#DejaVuSans-103\"/>\n       <use x=\"202.730469\" xlink:href=\"#DejaVuSans-108\"/>\n       <use x=\"230.513672\" xlink:href=\"#DejaVuSans-105\"/>\n       <use x=\"258.296875\" xlink:href=\"#DejaVuSans-116\"/>\n       <use x=\"297.505859\" xlink:href=\"#DejaVuSans-97\"/>\n       <use x=\"358.785156\" xlink:href=\"#DejaVuSans-122\"/>\n       <use x=\"411.275391\" xlink:href=\"#DejaVuSans-111\"/>\n       <use x=\"472.457031\" xlink:href=\"#DejaVuSans-110\"/>\n       <use x=\"535.835938\" xlink:href=\"#DejaVuSans-101\"/>\n      </g>\n     </g>\n    </g>\n    <g id=\"ytick_74\">\n     <g id=\"line2d_82\">\n      <g>\n       <use style=\"stroke:#000000;stroke-width:0.8;\" x=\"271.292188\" xlink:href=\"#m05ac85b2da\" y=\"208.975956\"/>\n      </g>\n     </g>\n     <g id=\"text_82\">\n      <!-- miglitol -->\n      <g transform=\"translate(227.051563 212.775175)scale(0.1 -0.1)\">\n       <use xlink:href=\"#DejaVuSans-109\"/>\n       <use x=\"97.412109\" xlink:href=\"#DejaVuSans-105\"/>\n       <use x=\"125.195312\" xlink:href=\"#DejaVuSans-103\"/>\n       <use x=\"188.671875\" xlink:href=\"#DejaVuSans-108\"/>\n       <use x=\"216.455078\" xlink:href=\"#DejaVuSans-105\"/>\n       <use x=\"244.238281\" xlink:href=\"#DejaVuSans-116\"/>\n       <use x=\"283.447266\" xlink:href=\"#DejaVuSans-111\"/>\n       <use x=\"344.628906\" xlink:href=\"#DejaVuSans-108\"/>\n      </g>\n     </g>\n    </g>\n    <g id=\"ytick_75\">\n     <g id=\"line2d_83\">\n      <g>\n       <use style=\"stroke:#000000;stroke-width:0.8;\" x=\"271.292188\" xlink:href=\"#m05ac85b2da\" y=\"189.327764\"/>\n      </g>\n     </g>\n     <g id=\"text_83\">\n      <!-- acarbose -->\n      <g transform=\"translate(218.596875 193.126982)scale(0.1 -0.1)\">\n       <use xlink:href=\"#DejaVuSans-97\"/>\n       <use x=\"61.279297\" xlink:href=\"#DejaVuSans-99\"/>\n       <use x=\"116.259766\" xlink:href=\"#DejaVuSans-97\"/>\n       <use x=\"177.539062\" xlink:href=\"#DejaVuSans-114\"/>\n       <use x=\"218.652344\" xlink:href=\"#DejaVuSans-98\"/>\n       <use x=\"282.128906\" xlink:href=\"#DejaVuSans-111\"/>\n       <use x=\"343.310547\" xlink:href=\"#DejaVuSans-115\"/>\n       <use x=\"395.410156\" xlink:href=\"#DejaVuSans-101\"/>\n      </g>\n     </g>\n    </g>\n    <g id=\"ytick_76\">\n     <g id=\"line2d_84\">\n      <g>\n       <use style=\"stroke:#000000;stroke-width:0.8;\" x=\"271.292188\" xlink:href=\"#m05ac85b2da\" y=\"169.679571\"/>\n      </g>\n     </g>\n     <g id=\"text_84\">\n      <!-- rosiglitazone -->\n      <g transform=\"translate(200.489063 173.47879)scale(0.1 -0.1)\">\n       <use xlink:href=\"#DejaVuSans-114\"/>\n       <use x=\"38.863281\" xlink:href=\"#DejaVuSans-111\"/>\n       <use x=\"100.044922\" xlink:href=\"#DejaVuSans-115\"/>\n       <use x=\"152.144531\" xlink:href=\"#DejaVuSans-105\"/>\n       <use x=\"179.927734\" xlink:href=\"#DejaVuSans-103\"/>\n       <use x=\"243.404297\" xlink:href=\"#DejaVuSans-108\"/>\n       <use x=\"271.1875\" xlink:href=\"#DejaVuSans-105\"/>\n       <use x=\"298.970703\" xlink:href=\"#DejaVuSans-116\"/>\n       <use x=\"338.179688\" xlink:href=\"#DejaVuSans-97\"/>\n       <use x=\"399.458984\" xlink:href=\"#DejaVuSans-122\"/>\n       <use x=\"451.949219\" xlink:href=\"#DejaVuSans-111\"/>\n       <use x=\"513.130859\" xlink:href=\"#DejaVuSans-110\"/>\n       <use x=\"576.509766\" xlink:href=\"#DejaVuSans-101\"/>\n      </g>\n     </g>\n    </g>\n    <g id=\"ytick_77\">\n     <g id=\"line2d_85\">\n      <g>\n       <use style=\"stroke:#000000;stroke-width:0.8;\" x=\"271.292188\" xlink:href=\"#m05ac85b2da\" y=\"150.031378\"/>\n      </g>\n     </g>\n     <g id=\"text_85\">\n      <!-- pioglitazone -->\n      <g transform=\"translate(203.235938 153.830597)scale(0.1 -0.1)\">\n       <use xlink:href=\"#DejaVuSans-112\"/>\n       <use x=\"63.476562\" xlink:href=\"#DejaVuSans-105\"/>\n       <use x=\"91.259766\" xlink:href=\"#DejaVuSans-111\"/>\n       <use x=\"152.441406\" xlink:href=\"#DejaVuSans-103\"/>\n       <use x=\"215.917969\" xlink:href=\"#DejaVuSans-108\"/>\n       <use x=\"243.701172\" xlink:href=\"#DejaVuSans-105\"/>\n       <use x=\"271.484375\" xlink:href=\"#DejaVuSans-116\"/>\n       <use x=\"310.693359\" xlink:href=\"#DejaVuSans-97\"/>\n       <use x=\"371.972656\" xlink:href=\"#DejaVuSans-122\"/>\n       <use x=\"424.462891\" xlink:href=\"#DejaVuSans-111\"/>\n       <use x=\"485.644531\" xlink:href=\"#DejaVuSans-110\"/>\n       <use x=\"549.023438\" xlink:href=\"#DejaVuSans-101\"/>\n      </g>\n     </g>\n    </g>\n    <g id=\"ytick_78\">\n     <g id=\"line2d_86\">\n      <g>\n       <use style=\"stroke:#000000;stroke-width:0.8;\" x=\"271.292188\" xlink:href=\"#m05ac85b2da\" y=\"130.383185\"/>\n      </g>\n     </g>\n     <g id=\"text_86\">\n      <!-- glipizide -->\n      <g transform=\"translate(222.732813 134.182404)scale(0.1 -0.1)\">\n       <use xlink:href=\"#DejaVuSans-103\"/>\n       <use x=\"63.476562\" xlink:href=\"#DejaVuSans-108\"/>\n       <use x=\"91.259766\" xlink:href=\"#DejaVuSans-105\"/>\n       <use x=\"119.042969\" xlink:href=\"#DejaVuSans-112\"/>\n       <use x=\"182.519531\" xlink:href=\"#DejaVuSans-105\"/>\n       <use x=\"210.302734\" xlink:href=\"#DejaVuSans-122\"/>\n       <use x=\"262.792969\" xlink:href=\"#DejaVuSans-105\"/>\n       <use x=\"290.576172\" xlink:href=\"#DejaVuSans-100\"/>\n       <use x=\"354.052734\" xlink:href=\"#DejaVuSans-101\"/>\n      </g>\n     </g>\n    </g>\n    <g id=\"ytick_79\">\n     <g id=\"line2d_87\">\n      <g>\n       <use style=\"stroke:#000000;stroke-width:0.8;\" x=\"271.292188\" xlink:href=\"#m05ac85b2da\" y=\"110.734992\"/>\n      </g>\n     </g>\n     <g id=\"text_87\">\n      <!-- tolazamide -->\n      <g transform=\"translate(208.95 114.534211)scale(0.1 -0.1)\">\n       <use xlink:href=\"#DejaVuSans-116\"/>\n       <use x=\"39.208984\" xlink:href=\"#DejaVuSans-111\"/>\n       <use x=\"100.390625\" xlink:href=\"#DejaVuSans-108\"/>\n       <use x=\"128.173828\" xlink:href=\"#DejaVuSans-97\"/>\n       <use x=\"189.453125\" xlink:href=\"#DejaVuSans-122\"/>\n       <use x=\"241.943359\" xlink:href=\"#DejaVuSans-97\"/>\n       <use x=\"303.222656\" xlink:href=\"#DejaVuSans-109\"/>\n       <use x=\"400.634766\" xlink:href=\"#DejaVuSans-105\"/>\n       <use x=\"428.417969\" xlink:href=\"#DejaVuSans-100\"/>\n       <use x=\"491.894531\" xlink:href=\"#DejaVuSans-101\"/>\n      </g>\n     </g>\n    </g>\n    <g id=\"ytick_80\">\n     <g id=\"line2d_88\">\n      <g>\n       <use style=\"stroke:#000000;stroke-width:0.8;\" x=\"271.292188\" xlink:href=\"#m05ac85b2da\" y=\"91.0868\"/>\n      </g>\n     </g>\n     <g id=\"text_88\">\n      <!-- chlorpropamide -->\n      <g transform=\"translate(185.598438 94.886018)scale(0.1 -0.1)\">\n       <use xlink:href=\"#DejaVuSans-99\"/>\n       <use x=\"54.980469\" xlink:href=\"#DejaVuSans-104\"/>\n       <use x=\"118.359375\" xlink:href=\"#DejaVuSans-108\"/>\n       <use x=\"146.142578\" xlink:href=\"#DejaVuSans-111\"/>\n       <use x=\"207.324219\" xlink:href=\"#DejaVuSans-114\"/>\n       <use x=\"248.4375\" xlink:href=\"#DejaVuSans-112\"/>\n       <use x=\"311.914062\" xlink:href=\"#DejaVuSans-114\"/>\n       <use x=\"350.777344\" xlink:href=\"#DejaVuSans-111\"/>\n       <use x=\"411.958984\" xlink:href=\"#DejaVuSans-112\"/>\n       <use x=\"475.435547\" xlink:href=\"#DejaVuSans-97\"/>\n       <use x=\"536.714844\" xlink:href=\"#DejaVuSans-109\"/>\n       <use x=\"634.126953\" xlink:href=\"#DejaVuSans-105\"/>\n       <use x=\"661.910156\" xlink:href=\"#DejaVuSans-100\"/>\n       <use x=\"725.386719\" xlink:href=\"#DejaVuSans-101\"/>\n      </g>\n     </g>\n    </g>\n    <g id=\"ytick_81\">\n     <g id=\"line2d_89\">\n      <g>\n       <use style=\"stroke:#000000;stroke-width:0.8;\" x=\"271.292188\" xlink:href=\"#m05ac85b2da\" y=\"71.438607\"/>\n      </g>\n     </g>\n     <g id=\"text_89\">\n      <!-- medical_specialty_Urology -->\n      <g transform=\"translate(131.646875 75.237826)scale(0.1 -0.1)\">\n       <use xlink:href=\"#DejaVuSans-109\"/>\n       <use x=\"97.412109\" xlink:href=\"#DejaVuSans-101\"/>\n       <use x=\"158.935547\" xlink:href=\"#DejaVuSans-100\"/>\n       <use x=\"222.412109\" xlink:href=\"#DejaVuSans-105\"/>\n       <use x=\"250.195312\" xlink:href=\"#DejaVuSans-99\"/>\n       <use x=\"305.175781\" xlink:href=\"#DejaVuSans-97\"/>\n       <use x=\"366.455078\" xlink:href=\"#DejaVuSans-108\"/>\n       <use x=\"394.238281\" xlink:href=\"#DejaVuSans-95\"/>\n       <use x=\"444.238281\" xlink:href=\"#DejaVuSans-115\"/>\n       <use x=\"496.337891\" xlink:href=\"#DejaVuSans-112\"/>\n       <use x=\"559.814453\" xlink:href=\"#DejaVuSans-101\"/>\n       <use x=\"621.337891\" xlink:href=\"#DejaVuSans-99\"/>\n       <use x=\"676.318359\" xlink:href=\"#DejaVuSans-105\"/>\n       <use x=\"704.101562\" xlink:href=\"#DejaVuSans-97\"/>\n       <use x=\"765.380859\" xlink:href=\"#DejaVuSans-108\"/>\n       <use x=\"793.164062\" xlink:href=\"#DejaVuSans-116\"/>\n       <use x=\"832.373047\" xlink:href=\"#DejaVuSans-121\"/>\n       <use x=\"891.552734\" xlink:href=\"#DejaVuSans-95\"/>\n       <use x=\"941.552734\" xlink:href=\"#DejaVuSans-85\"/>\n       <use x=\"1014.746094\" xlink:href=\"#DejaVuSans-114\"/>\n       <use x=\"1053.609375\" xlink:href=\"#DejaVuSans-111\"/>\n       <use x=\"1114.791016\" xlink:href=\"#DejaVuSans-108\"/>\n       <use x=\"1142.574219\" xlink:href=\"#DejaVuSans-111\"/>\n       <use x=\"1203.755859\" xlink:href=\"#DejaVuSans-103\"/>\n       <use x=\"1267.232422\" xlink:href=\"#DejaVuSans-121\"/>\n      </g>\n     </g>\n    </g>\n    <g id=\"ytick_82\">\n     <g id=\"line2d_90\">\n      <g>\n       <use style=\"stroke:#000000;stroke-width:0.8;\" x=\"271.292188\" xlink:href=\"#m05ac85b2da\" y=\"51.790414\"/>\n      </g>\n     </g>\n     <g id=\"text_90\">\n      <!-- medical_specialty_Surgery-Cardiovascular/Thoracic -->\n      <g transform=\"translate(7.2 55.589633)scale(0.1 -0.1)\">\n       <use xlink:href=\"#DejaVuSans-109\"/>\n       <use x=\"97.412109\" xlink:href=\"#DejaVuSans-101\"/>\n       <use x=\"158.935547\" xlink:href=\"#DejaVuSans-100\"/>\n       <use x=\"222.412109\" xlink:href=\"#DejaVuSans-105\"/>\n       <use x=\"250.195312\" xlink:href=\"#DejaVuSans-99\"/>\n       <use x=\"305.175781\" xlink:href=\"#DejaVuSans-97\"/>\n       <use x=\"366.455078\" xlink:href=\"#DejaVuSans-108\"/>\n       <use x=\"394.238281\" xlink:href=\"#DejaVuSans-95\"/>\n       <use x=\"444.238281\" xlink:href=\"#DejaVuSans-115\"/>\n       <use x=\"496.337891\" xlink:href=\"#DejaVuSans-112\"/>\n       <use x=\"559.814453\" xlink:href=\"#DejaVuSans-101\"/>\n       <use x=\"621.337891\" xlink:href=\"#DejaVuSans-99\"/>\n       <use x=\"676.318359\" xlink:href=\"#DejaVuSans-105\"/>\n       <use x=\"704.101562\" xlink:href=\"#DejaVuSans-97\"/>\n       <use x=\"765.380859\" xlink:href=\"#DejaVuSans-108\"/>\n       <use x=\"793.164062\" xlink:href=\"#DejaVuSans-116\"/>\n       <use x=\"832.373047\" xlink:href=\"#DejaVuSans-121\"/>\n       <use x=\"891.552734\" xlink:href=\"#DejaVuSans-95\"/>\n       <use x=\"941.552734\" xlink:href=\"#DejaVuSans-83\"/>\n       <use x=\"1005.029297\" xlink:href=\"#DejaVuSans-117\"/>\n       <use x=\"1068.408203\" xlink:href=\"#DejaVuSans-114\"/>\n       <use x=\"1107.771484\" xlink:href=\"#DejaVuSans-103\"/>\n       <use x=\"1171.248047\" xlink:href=\"#DejaVuSans-101\"/>\n       <use x=\"1232.771484\" xlink:href=\"#DejaVuSans-114\"/>\n       <use x=\"1273.884766\" xlink:href=\"#DejaVuSans-121\"/>\n       <use x=\"1331.314453\" xlink:href=\"#DejaVuSans-45\"/>\n       <use x=\"1367.398438\" xlink:href=\"#DejaVuSans-67\"/>\n       <use x=\"1437.222656\" xlink:href=\"#DejaVuSans-97\"/>\n       <use x=\"1498.501953\" xlink:href=\"#DejaVuSans-114\"/>\n       <use x=\"1537.865234\" xlink:href=\"#DejaVuSans-100\"/>\n       <use x=\"1601.341797\" xlink:href=\"#DejaVuSans-105\"/>\n       <use x=\"1629.125\" xlink:href=\"#DejaVuSans-111\"/>\n       <use x=\"1690.306641\" xlink:href=\"#DejaVuSans-118\"/>\n       <use x=\"1749.486328\" xlink:href=\"#DejaVuSans-97\"/>\n       <use x=\"1810.765625\" xlink:href=\"#DejaVuSans-115\"/>\n       <use x=\"1862.865234\" xlink:href=\"#DejaVuSans-99\"/>\n       <use x=\"1917.845703\" xlink:href=\"#DejaVuSans-117\"/>\n       <use x=\"1981.224609\" xlink:href=\"#DejaVuSans-108\"/>\n       <use x=\"2009.007812\" xlink:href=\"#DejaVuSans-97\"/>\n       <use x=\"2070.287109\" xlink:href=\"#DejaVuSans-114\"/>\n       <use x=\"2111.400391\" xlink:href=\"#DejaVuSans-47\"/>\n       <use x=\"2145.091797\" xlink:href=\"#DejaVuSans-84\"/>\n       <use x=\"2206.175781\" xlink:href=\"#DejaVuSans-104\"/>\n       <use x=\"2269.554688\" xlink:href=\"#DejaVuSans-111\"/>\n       <use x=\"2330.736328\" xlink:href=\"#DejaVuSans-114\"/>\n       <use x=\"2371.849609\" xlink:href=\"#DejaVuSans-97\"/>\n       <use x=\"2433.128906\" xlink:href=\"#DejaVuSans-99\"/>\n       <use x=\"2488.109375\" xlink:href=\"#DejaVuSans-105\"/>\n       <use x=\"2515.892578\" xlink:href=\"#DejaVuSans-99\"/>\n      </g>\n     </g>\n    </g>\n    <g id=\"ytick_83\">\n     <g id=\"line2d_91\">\n      <g>\n       <use style=\"stroke:#000000;stroke-width:0.8;\" x=\"271.292188\" xlink:href=\"#m05ac85b2da\" y=\"32.142221\"/>\n      </g>\n     </g>\n     <g id=\"text_91\">\n      <!-- medical_specialty_ObstetricsandGynecology -->\n      <g transform=\"translate(41.360938 35.94144)scale(0.1 -0.1)\">\n       <use xlink:href=\"#DejaVuSans-109\"/>\n       <use x=\"97.412109\" xlink:href=\"#DejaVuSans-101\"/>\n       <use x=\"158.935547\" xlink:href=\"#DejaVuSans-100\"/>\n       <use x=\"222.412109\" xlink:href=\"#DejaVuSans-105\"/>\n       <use x=\"250.195312\" xlink:href=\"#DejaVuSans-99\"/>\n       <use x=\"305.175781\" xlink:href=\"#DejaVuSans-97\"/>\n       <use x=\"366.455078\" xlink:href=\"#DejaVuSans-108\"/>\n       <use x=\"394.238281\" xlink:href=\"#DejaVuSans-95\"/>\n       <use x=\"444.238281\" xlink:href=\"#DejaVuSans-115\"/>\n       <use x=\"496.337891\" xlink:href=\"#DejaVuSans-112\"/>\n       <use x=\"559.814453\" xlink:href=\"#DejaVuSans-101\"/>\n       <use x=\"621.337891\" xlink:href=\"#DejaVuSans-99\"/>\n       <use x=\"676.318359\" xlink:href=\"#DejaVuSans-105\"/>\n       <use x=\"704.101562\" xlink:href=\"#DejaVuSans-97\"/>\n       <use x=\"765.380859\" xlink:href=\"#DejaVuSans-108\"/>\n       <use x=\"793.164062\" xlink:href=\"#DejaVuSans-116\"/>\n       <use x=\"832.373047\" xlink:href=\"#DejaVuSans-121\"/>\n       <use x=\"891.552734\" xlink:href=\"#DejaVuSans-95\"/>\n       <use x=\"941.552734\" xlink:href=\"#DejaVuSans-79\"/>\n       <use x=\"1020.263672\" xlink:href=\"#DejaVuSans-98\"/>\n       <use x=\"1083.740234\" xlink:href=\"#DejaVuSans-115\"/>\n       <use x=\"1135.839844\" xlink:href=\"#DejaVuSans-116\"/>\n       <use x=\"1175.048828\" xlink:href=\"#DejaVuSans-101\"/>\n       <use x=\"1236.572266\" xlink:href=\"#DejaVuSans-116\"/>\n       <use x=\"1275.78125\" xlink:href=\"#DejaVuSans-114\"/>\n       <use x=\"1316.894531\" xlink:href=\"#DejaVuSans-105\"/>\n       <use x=\"1344.677734\" xlink:href=\"#DejaVuSans-99\"/>\n       <use x=\"1399.658203\" xlink:href=\"#DejaVuSans-115\"/>\n       <use x=\"1451.757812\" xlink:href=\"#DejaVuSans-97\"/>\n       <use x=\"1513.037109\" xlink:href=\"#DejaVuSans-110\"/>\n       <use x=\"1576.416016\" xlink:href=\"#DejaVuSans-100\"/>\n       <use x=\"1639.892578\" xlink:href=\"#DejaVuSans-71\"/>\n       <use x=\"1717.382812\" xlink:href=\"#DejaVuSans-121\"/>\n       <use x=\"1776.5625\" xlink:href=\"#DejaVuSans-110\"/>\n       <use x=\"1839.941406\" xlink:href=\"#DejaVuSans-101\"/>\n       <use x=\"1901.464844\" xlink:href=\"#DejaVuSans-99\"/>\n       <use x=\"1956.445312\" xlink:href=\"#DejaVuSans-111\"/>\n       <use x=\"2017.626953\" xlink:href=\"#DejaVuSans-108\"/>\n       <use x=\"2045.410156\" xlink:href=\"#DejaVuSans-111\"/>\n       <use x=\"2106.591797\" xlink:href=\"#DejaVuSans-103\"/>\n       <use x=\"2170.068359\" xlink:href=\"#DejaVuSans-121\"/>\n      </g>\n     </g>\n    </g>\n   </g>\n   <g id=\"line2d_92\">\n    <path clip-path=\"url(#pda535593da)\" d=\"M 296.655824 1648.206077 \nL 296.655824 1638.38198 \nL 342.771526 1638.38198 \nL 342.771526 1648.206077 \nL 296.655824 1648.206077 \n\" style=\"fill:none;stroke:#000000;stroke-linecap:square;\"/>\n   </g>\n   <g id=\"line2d_93\">\n    <path clip-path=\"url(#pda535593da)\" d=\"M 296.655824 1643.294029 \nL 296.655824 1643.294029 \n\" style=\"fill:none;stroke:#000000;stroke-linecap:square;\"/>\n   </g>\n   <g id=\"line2d_94\">\n    <path clip-path=\"url(#pda535593da)\" d=\"M 342.771526 1643.294029 \nL 388.887229 1643.294029 \n\" style=\"fill:none;stroke:#000000;stroke-linecap:square;\"/>\n   </g>\n   <g id=\"line2d_95\">\n    <path clip-path=\"url(#pda535593da)\" d=\"M 296.655824 1645.750053 \nL 296.655824 1640.838005 \n\" style=\"fill:none;stroke:#000000;stroke-linecap:square;\"/>\n   </g>\n   <g id=\"line2d_96\">\n    <path clip-path=\"url(#pda535593da)\" d=\"M 388.887229 1645.750053 \nL 388.887229 1640.838005 \n\" style=\"fill:none;stroke:#000000;stroke-linecap:square;\"/>\n   </g>\n   <g id=\"line2d_97\"/>\n   <g id=\"line2d_98\">\n    <path clip-path=\"url(#pda535593da)\" d=\"M 388.887229 1628.557884 \nL 388.887229 1618.733788 \nL 435.002931 1618.733788 \nL 435.002931 1628.557884 \nL 388.887229 1628.557884 \n\" style=\"fill:none;stroke:#000000;stroke-linecap:square;\"/>\n   </g>\n   <g id=\"line2d_99\">\n    <path clip-path=\"url(#pda535593da)\" d=\"M 388.887229 1623.645836 \nL 388.887229 1623.645836 \n\" style=\"fill:none;stroke:#000000;stroke-linecap:square;\"/>\n   </g>\n   <g id=\"line2d_100\">\n    <path clip-path=\"url(#pda535593da)\" d=\"M 435.002931 1623.645836 \nL 481.118634 1623.645836 \n\" style=\"fill:none;stroke:#000000;stroke-linecap:square;\"/>\n   </g>\n   <g id=\"line2d_101\">\n    <path clip-path=\"url(#pda535593da)\" d=\"M 388.887229 1626.10186 \nL 388.887229 1621.189812 \n\" style=\"fill:none;stroke:#000000;stroke-linecap:square;\"/>\n   </g>\n   <g id=\"line2d_102\">\n    <path clip-path=\"url(#pda535593da)\" d=\"M 481.118634 1626.10186 \nL 481.118634 1621.189812 \n\" style=\"fill:none;stroke:#000000;stroke-linecap:square;\"/>\n   </g>\n   <g id=\"line2d_103\"/>\n   <g id=\"line2d_104\">\n    <path clip-path=\"url(#pda535593da)\" d=\"M 435.002931 1608.909691 \nL 435.002931 1599.085595 \nL 435.002931 1599.085595 \nL 435.002931 1608.909691 \nL 435.002931 1608.909691 \n\" style=\"fill:none;stroke:#000000;stroke-linecap:square;\"/>\n   </g>\n   <g id=\"line2d_105\">\n    <path clip-path=\"url(#pda535593da)\" d=\"M 435.002931 1603.997643 \nL 435.002931 1603.997643 \n\" style=\"fill:none;stroke:#000000;stroke-linecap:square;\"/>\n   </g>\n   <g id=\"line2d_106\">\n    <path clip-path=\"url(#pda535593da)\" d=\"M 435.002931 1603.997643 \nL 435.002931 1603.997643 \n\" style=\"fill:none;stroke:#000000;stroke-linecap:square;\"/>\n   </g>\n   <g id=\"line2d_107\">\n    <path clip-path=\"url(#pda535593da)\" d=\"M 435.002931 1606.453667 \nL 435.002931 1601.541619 \n\" style=\"fill:none;stroke:#000000;stroke-linecap:square;\"/>\n   </g>\n   <g id=\"line2d_108\">\n    <path clip-path=\"url(#pda535593da)\" d=\"M 435.002931 1606.453667 \nL 435.002931 1601.541619 \n\" style=\"fill:none;stroke:#000000;stroke-linecap:square;\"/>\n   </g>\n   <g id=\"line2d_109\"/>\n   <g id=\"line2d_110\">\n    <path clip-path=\"url(#pda535593da)\" d=\"M 435.002931 1589.261498 \nL 435.002931 1579.437402 \nL 435.002931 1579.437402 \nL 435.002931 1589.261498 \nL 435.002931 1589.261498 \n\" style=\"fill:none;stroke:#000000;stroke-linecap:square;\"/>\n   </g>\n   <g id=\"line2d_111\">\n    <path clip-path=\"url(#pda535593da)\" d=\"M 435.002931 1584.34945 \nL 435.002931 1584.34945 \n\" style=\"fill:none;stroke:#000000;stroke-linecap:square;\"/>\n   </g>\n   <g id=\"line2d_112\">\n    <path clip-path=\"url(#pda535593da)\" d=\"M 435.002931 1584.34945 \nL 435.002931 1584.34945 \n\" style=\"fill:none;stroke:#000000;stroke-linecap:square;\"/>\n   </g>\n   <g id=\"line2d_113\">\n    <path clip-path=\"url(#pda535593da)\" d=\"M 435.002931 1586.805474 \nL 435.002931 1581.893426 \n\" style=\"fill:none;stroke:#000000;stroke-linecap:square;\"/>\n   </g>\n   <g id=\"line2d_114\">\n    <path clip-path=\"url(#pda535593da)\" d=\"M 435.002931 1586.805474 \nL 435.002931 1581.893426 \n\" style=\"fill:none;stroke:#000000;stroke-linecap:square;\"/>\n   </g>\n   <g id=\"line2d_115\"/>\n   <g id=\"line2d_116\">\n    <path clip-path=\"url(#pda535593da)\" d=\"M 435.002931 1569.613306 \nL 435.002931 1559.789209 \nL 435.002931 1559.789209 \nL 435.002931 1569.613306 \nL 435.002931 1569.613306 \n\" style=\"fill:none;stroke:#000000;stroke-linecap:square;\"/>\n   </g>\n   <g id=\"line2d_117\">\n    <path clip-path=\"url(#pda535593da)\" d=\"M 435.002931 1564.701258 \nL 435.002931 1564.701258 \n\" style=\"fill:none;stroke:#000000;stroke-linecap:square;\"/>\n   </g>\n   <g id=\"line2d_118\">\n    <path clip-path=\"url(#pda535593da)\" d=\"M 435.002931 1564.701258 \nL 435.002931 1564.701258 \n\" style=\"fill:none;stroke:#000000;stroke-linecap:square;\"/>\n   </g>\n   <g id=\"line2d_119\">\n    <path clip-path=\"url(#pda535593da)\" d=\"M 435.002931 1567.157282 \nL 435.002931 1562.245233 \n\" style=\"fill:none;stroke:#000000;stroke-linecap:square;\"/>\n   </g>\n   <g id=\"line2d_120\">\n    <path clip-path=\"url(#pda535593da)\" d=\"M 435.002931 1567.157282 \nL 435.002931 1562.245233 \n\" style=\"fill:none;stroke:#000000;stroke-linecap:square;\"/>\n   </g>\n   <g id=\"line2d_121\"/>\n   <g id=\"line2d_122\">\n    <path clip-path=\"url(#pda535593da)\" d=\"M 435.002931 1549.965113 \nL 435.002931 1540.141017 \nL 435.002931 1540.141017 \nL 435.002931 1549.965113 \nL 435.002931 1549.965113 \n\" style=\"fill:none;stroke:#000000;stroke-linecap:square;\"/>\n   </g>\n   <g id=\"line2d_123\">\n    <path clip-path=\"url(#pda535593da)\" d=\"M 435.002931 1545.053065 \nL 435.002931 1545.053065 \n\" style=\"fill:none;stroke:#000000;stroke-linecap:square;\"/>\n   </g>\n   <g id=\"line2d_124\">\n    <path clip-path=\"url(#pda535593da)\" d=\"M 435.002931 1545.053065 \nL 435.002931 1545.053065 \n\" style=\"fill:none;stroke:#000000;stroke-linecap:square;\"/>\n   </g>\n   <g id=\"line2d_125\">\n    <path clip-path=\"url(#pda535593da)\" d=\"M 435.002931 1547.509089 \nL 435.002931 1542.597041 \n\" style=\"fill:none;stroke:#000000;stroke-linecap:square;\"/>\n   </g>\n   <g id=\"line2d_126\">\n    <path clip-path=\"url(#pda535593da)\" d=\"M 435.002931 1547.509089 \nL 435.002931 1542.597041 \n\" style=\"fill:none;stroke:#000000;stroke-linecap:square;\"/>\n   </g>\n   <g id=\"line2d_127\"/>\n   <g id=\"line2d_128\">\n    <path clip-path=\"url(#pda535593da)\" d=\"M 435.002931 1530.31692 \nL 435.002931 1520.492824 \nL 435.002931 1520.492824 \nL 435.002931 1530.31692 \nL 435.002931 1530.31692 \n\" style=\"fill:none;stroke:#000000;stroke-linecap:square;\"/>\n   </g>\n   <g id=\"line2d_129\">\n    <path clip-path=\"url(#pda535593da)\" d=\"M 435.002931 1525.404872 \nL 435.002931 1525.404872 \n\" style=\"fill:none;stroke:#000000;stroke-linecap:square;\"/>\n   </g>\n   <g id=\"line2d_130\">\n    <path clip-path=\"url(#pda535593da)\" d=\"M 435.002931 1525.404872 \nL 435.002931 1525.404872 \n\" style=\"fill:none;stroke:#000000;stroke-linecap:square;\"/>\n   </g>\n   <g id=\"line2d_131\">\n    <path clip-path=\"url(#pda535593da)\" d=\"M 435.002931 1527.860896 \nL 435.002931 1522.948848 \n\" style=\"fill:none;stroke:#000000;stroke-linecap:square;\"/>\n   </g>\n   <g id=\"line2d_132\">\n    <path clip-path=\"url(#pda535593da)\" d=\"M 435.002931 1527.860896 \nL 435.002931 1522.948848 \n\" style=\"fill:none;stroke:#000000;stroke-linecap:square;\"/>\n   </g>\n   <g id=\"line2d_133\"/>\n   <g id=\"line2d_134\">\n    <path clip-path=\"url(#pda535593da)\" d=\"M 435.002931 1510.668727 \nL 435.002931 1500.844631 \nL 435.002931 1500.844631 \nL 435.002931 1510.668727 \nL 435.002931 1510.668727 \n\" style=\"fill:none;stroke:#000000;stroke-linecap:square;\"/>\n   </g>\n   <g id=\"line2d_135\">\n    <path clip-path=\"url(#pda535593da)\" d=\"M 435.002931 1505.756679 \nL 435.002931 1505.756679 \n\" style=\"fill:none;stroke:#000000;stroke-linecap:square;\"/>\n   </g>\n   <g id=\"line2d_136\">\n    <path clip-path=\"url(#pda535593da)\" d=\"M 435.002931 1505.756679 \nL 435.002931 1505.756679 \n\" style=\"fill:none;stroke:#000000;stroke-linecap:square;\"/>\n   </g>\n   <g id=\"line2d_137\">\n    <path clip-path=\"url(#pda535593da)\" d=\"M 435.002931 1508.212703 \nL 435.002931 1503.300655 \n\" style=\"fill:none;stroke:#000000;stroke-linecap:square;\"/>\n   </g>\n   <g id=\"line2d_138\">\n    <path clip-path=\"url(#pda535593da)\" d=\"M 435.002931 1508.212703 \nL 435.002931 1503.300655 \n\" style=\"fill:none;stroke:#000000;stroke-linecap:square;\"/>\n   </g>\n   <g id=\"line2d_139\"/>\n   <g id=\"line2d_140\">\n    <path clip-path=\"url(#pda535593da)\" d=\"M 435.002931 1491.020535 \nL 435.002931 1481.196438 \nL 435.002931 1481.196438 \nL 435.002931 1491.020535 \nL 435.002931 1491.020535 \n\" style=\"fill:none;stroke:#000000;stroke-linecap:square;\"/>\n   </g>\n   <g id=\"line2d_141\">\n    <path clip-path=\"url(#pda535593da)\" d=\"M 435.002931 1486.108486 \nL 435.002931 1486.108486 \n\" style=\"fill:none;stroke:#000000;stroke-linecap:square;\"/>\n   </g>\n   <g id=\"line2d_142\">\n    <path clip-path=\"url(#pda535593da)\" d=\"M 435.002931 1486.108486 \nL 435.002931 1486.108486 \n\" style=\"fill:none;stroke:#000000;stroke-linecap:square;\"/>\n   </g>\n   <g id=\"line2d_143\">\n    <path clip-path=\"url(#pda535593da)\" d=\"M 435.002931 1488.564511 \nL 435.002931 1483.652462 \n\" style=\"fill:none;stroke:#000000;stroke-linecap:square;\"/>\n   </g>\n   <g id=\"line2d_144\">\n    <path clip-path=\"url(#pda535593da)\" d=\"M 435.002931 1488.564511 \nL 435.002931 1483.652462 \n\" style=\"fill:none;stroke:#000000;stroke-linecap:square;\"/>\n   </g>\n   <g id=\"line2d_145\"/>\n   <g id=\"line2d_146\">\n    <path clip-path=\"url(#pda535593da)\" d=\"M 435.002931 1471.372342 \nL 435.002931 1461.548245 \nL 435.002931 1461.548245 \nL 435.002931 1471.372342 \nL 435.002931 1471.372342 \n\" style=\"fill:none;stroke:#000000;stroke-linecap:square;\"/>\n   </g>\n   <g id=\"line2d_147\">\n    <path clip-path=\"url(#pda535593da)\" d=\"M 435.002931 1466.460294 \nL 435.002931 1466.460294 \n\" style=\"fill:none;stroke:#000000;stroke-linecap:square;\"/>\n   </g>\n   <g id=\"line2d_148\">\n    <path clip-path=\"url(#pda535593da)\" d=\"M 435.002931 1466.460294 \nL 435.002931 1466.460294 \n\" style=\"fill:none;stroke:#000000;stroke-linecap:square;\"/>\n   </g>\n   <g id=\"line2d_149\">\n    <path clip-path=\"url(#pda535593da)\" d=\"M 435.002931 1468.916318 \nL 435.002931 1464.00427 \n\" style=\"fill:none;stroke:#000000;stroke-linecap:square;\"/>\n   </g>\n   <g id=\"line2d_150\">\n    <path clip-path=\"url(#pda535593da)\" d=\"M 435.002931 1468.916318 \nL 435.002931 1464.00427 \n\" style=\"fill:none;stroke:#000000;stroke-linecap:square;\"/>\n   </g>\n   <g id=\"line2d_151\"/>\n   <g id=\"line2d_152\">\n    <path clip-path=\"url(#pda535593da)\" d=\"M 435.002931 1451.724149 \nL 435.002931 1441.900053 \nL 435.002931 1441.900053 \nL 435.002931 1451.724149 \nL 435.002931 1451.724149 \n\" style=\"fill:none;stroke:#000000;stroke-linecap:square;\"/>\n   </g>\n   <g id=\"line2d_153\">\n    <path clip-path=\"url(#pda535593da)\" d=\"M 435.002931 1446.812101 \nL 435.002931 1446.812101 \n\" style=\"fill:none;stroke:#000000;stroke-linecap:square;\"/>\n   </g>\n   <g id=\"line2d_154\">\n    <path clip-path=\"url(#pda535593da)\" d=\"M 435.002931 1446.812101 \nL 435.002931 1446.812101 \n\" style=\"fill:none;stroke:#000000;stroke-linecap:square;\"/>\n   </g>\n   <g id=\"line2d_155\">\n    <path clip-path=\"url(#pda535593da)\" d=\"M 435.002931 1449.268125 \nL 435.002931 1444.356077 \n\" style=\"fill:none;stroke:#000000;stroke-linecap:square;\"/>\n   </g>\n   <g id=\"line2d_156\">\n    <path clip-path=\"url(#pda535593da)\" d=\"M 435.002931 1449.268125 \nL 435.002931 1444.356077 \n\" style=\"fill:none;stroke:#000000;stroke-linecap:square;\"/>\n   </g>\n   <g id=\"line2d_157\"/>\n   <g id=\"line2d_158\">\n    <path clip-path=\"url(#pda535593da)\" d=\"M 435.002931 1432.075956 \nL 435.002931 1422.25186 \nL 435.002931 1422.25186 \nL 435.002931 1432.075956 \nL 435.002931 1432.075956 \n\" style=\"fill:none;stroke:#000000;stroke-linecap:square;\"/>\n   </g>\n   <g id=\"line2d_159\">\n    <path clip-path=\"url(#pda535593da)\" d=\"M 435.002931 1427.163908 \nL 435.002931 1427.163908 \n\" style=\"fill:none;stroke:#000000;stroke-linecap:square;\"/>\n   </g>\n   <g id=\"line2d_160\">\n    <path clip-path=\"url(#pda535593da)\" d=\"M 435.002931 1427.163908 \nL 435.002931 1427.163908 \n\" style=\"fill:none;stroke:#000000;stroke-linecap:square;\"/>\n   </g>\n   <g id=\"line2d_161\">\n    <path clip-path=\"url(#pda535593da)\" d=\"M 435.002931 1429.619932 \nL 435.002931 1424.707884 \n\" style=\"fill:none;stroke:#000000;stroke-linecap:square;\"/>\n   </g>\n   <g id=\"line2d_162\">\n    <path clip-path=\"url(#pda535593da)\" d=\"M 435.002931 1429.619932 \nL 435.002931 1424.707884 \n\" style=\"fill:none;stroke:#000000;stroke-linecap:square;\"/>\n   </g>\n   <g id=\"line2d_163\"/>\n   <g id=\"line2d_164\">\n    <path clip-path=\"url(#pda535593da)\" d=\"M 435.002931 1412.427764 \nL 435.002931 1402.603667 \nL 435.002931 1402.603667 \nL 435.002931 1412.427764 \nL 435.002931 1412.427764 \n\" style=\"fill:none;stroke:#000000;stroke-linecap:square;\"/>\n   </g>\n   <g id=\"line2d_165\">\n    <path clip-path=\"url(#pda535593da)\" d=\"M 435.002931 1407.515715 \nL 435.002931 1407.515715 \n\" style=\"fill:none;stroke:#000000;stroke-linecap:square;\"/>\n   </g>\n   <g id=\"line2d_166\">\n    <path clip-path=\"url(#pda535593da)\" d=\"M 435.002931 1407.515715 \nL 435.002931 1407.515715 \n\" style=\"fill:none;stroke:#000000;stroke-linecap:square;\"/>\n   </g>\n   <g id=\"line2d_167\">\n    <path clip-path=\"url(#pda535593da)\" d=\"M 435.002931 1409.971739 \nL 435.002931 1405.059691 \n\" style=\"fill:none;stroke:#000000;stroke-linecap:square;\"/>\n   </g>\n   <g id=\"line2d_168\">\n    <path clip-path=\"url(#pda535593da)\" d=\"M 435.002931 1409.971739 \nL 435.002931 1405.059691 \n\" style=\"fill:none;stroke:#000000;stroke-linecap:square;\"/>\n   </g>\n   <g id=\"line2d_169\"/>\n   <g id=\"line2d_170\">\n    <path clip-path=\"url(#pda535593da)\" d=\"M 435.002931 1392.779571 \nL 435.002931 1382.955474 \nL 435.002931 1382.955474 \nL 435.002931 1392.779571 \nL 435.002931 1392.779571 \n\" style=\"fill:none;stroke:#000000;stroke-linecap:square;\"/>\n   </g>\n   <g id=\"line2d_171\">\n    <path clip-path=\"url(#pda535593da)\" d=\"M 435.002931 1387.867523 \nL 435.002931 1387.867523 \n\" style=\"fill:none;stroke:#000000;stroke-linecap:square;\"/>\n   </g>\n   <g id=\"line2d_172\">\n    <path clip-path=\"url(#pda535593da)\" d=\"M 435.002931 1387.867523 \nL 435.002931 1387.867523 \n\" style=\"fill:none;stroke:#000000;stroke-linecap:square;\"/>\n   </g>\n   <g id=\"line2d_173\">\n    <path clip-path=\"url(#pda535593da)\" d=\"M 435.002931 1390.323547 \nL 435.002931 1385.411498 \n\" style=\"fill:none;stroke:#000000;stroke-linecap:square;\"/>\n   </g>\n   <g id=\"line2d_174\">\n    <path clip-path=\"url(#pda535593da)\" d=\"M 435.002931 1390.323547 \nL 435.002931 1385.411498 \n\" style=\"fill:none;stroke:#000000;stroke-linecap:square;\"/>\n   </g>\n   <g id=\"line2d_175\"/>\n   <g id=\"line2d_176\">\n    <path clip-path=\"url(#pda535593da)\" d=\"M 435.002931 1373.131378 \nL 435.002931 1363.307282 \nL 435.002931 1363.307282 \nL 435.002931 1373.131378 \nL 435.002931 1373.131378 \n\" style=\"fill:none;stroke:#000000;stroke-linecap:square;\"/>\n   </g>\n   <g id=\"line2d_177\">\n    <path clip-path=\"url(#pda535593da)\" d=\"M 435.002931 1368.21933 \nL 435.002931 1368.21933 \n\" style=\"fill:none;stroke:#000000;stroke-linecap:square;\"/>\n   </g>\n   <g id=\"line2d_178\">\n    <path clip-path=\"url(#pda535593da)\" d=\"M 435.002931 1368.21933 \nL 435.002931 1368.21933 \n\" style=\"fill:none;stroke:#000000;stroke-linecap:square;\"/>\n   </g>\n   <g id=\"line2d_179\">\n    <path clip-path=\"url(#pda535593da)\" d=\"M 435.002931 1370.675354 \nL 435.002931 1365.763306 \n\" style=\"fill:none;stroke:#000000;stroke-linecap:square;\"/>\n   </g>\n   <g id=\"line2d_180\">\n    <path clip-path=\"url(#pda535593da)\" d=\"M 435.002931 1370.675354 \nL 435.002931 1365.763306 \n\" style=\"fill:none;stroke:#000000;stroke-linecap:square;\"/>\n   </g>\n   <g id=\"line2d_181\"/>\n   <g id=\"line2d_182\">\n    <path clip-path=\"url(#pda535593da)\" d=\"M 435.002931 1353.483185 \nL 435.002931 1343.659089 \nL 435.002931 1343.659089 \nL 435.002931 1353.483185 \nL 435.002931 1353.483185 \n\" style=\"fill:none;stroke:#000000;stroke-linecap:square;\"/>\n   </g>\n   <g id=\"line2d_183\">\n    <path clip-path=\"url(#pda535593da)\" d=\"M 435.002931 1348.571137 \nL 435.002931 1348.571137 \n\" style=\"fill:none;stroke:#000000;stroke-linecap:square;\"/>\n   </g>\n   <g id=\"line2d_184\">\n    <path clip-path=\"url(#pda535593da)\" d=\"M 435.002931 1348.571137 \nL 435.002931 1348.571137 \n\" style=\"fill:none;stroke:#000000;stroke-linecap:square;\"/>\n   </g>\n   <g id=\"line2d_185\">\n    <path clip-path=\"url(#pda535593da)\" d=\"M 435.002931 1351.027161 \nL 435.002931 1346.115113 \n\" style=\"fill:none;stroke:#000000;stroke-linecap:square;\"/>\n   </g>\n   <g id=\"line2d_186\">\n    <path clip-path=\"url(#pda535593da)\" d=\"M 435.002931 1351.027161 \nL 435.002931 1346.115113 \n\" style=\"fill:none;stroke:#000000;stroke-linecap:square;\"/>\n   </g>\n   <g id=\"line2d_187\"/>\n   <g id=\"line2d_188\">\n    <path clip-path=\"url(#pda535593da)\" d=\"M 435.002931 1333.834992 \nL 435.002931 1324.010896 \nL 435.002931 1324.010896 \nL 435.002931 1333.834992 \nL 435.002931 1333.834992 \n\" style=\"fill:none;stroke:#000000;stroke-linecap:square;\"/>\n   </g>\n   <g id=\"line2d_189\">\n    <path clip-path=\"url(#pda535593da)\" d=\"M 435.002931 1328.922944 \nL 435.002931 1328.922944 \n\" style=\"fill:none;stroke:#000000;stroke-linecap:square;\"/>\n   </g>\n   <g id=\"line2d_190\">\n    <path clip-path=\"url(#pda535593da)\" d=\"M 435.002931 1328.922944 \nL 435.002931 1328.922944 \n\" style=\"fill:none;stroke:#000000;stroke-linecap:square;\"/>\n   </g>\n   <g id=\"line2d_191\">\n    <path clip-path=\"url(#pda535593da)\" d=\"M 435.002931 1331.378968 \nL 435.002931 1326.46692 \n\" style=\"fill:none;stroke:#000000;stroke-linecap:square;\"/>\n   </g>\n   <g id=\"line2d_192\">\n    <path clip-path=\"url(#pda535593da)\" d=\"M 435.002931 1331.378968 \nL 435.002931 1326.46692 \n\" style=\"fill:none;stroke:#000000;stroke-linecap:square;\"/>\n   </g>\n   <g id=\"line2d_193\"/>\n   <g id=\"line2d_194\">\n    <path clip-path=\"url(#pda535593da)\" d=\"M 435.002931 1314.1868 \nL 435.002931 1304.362703 \nL 435.002931 1304.362703 \nL 435.002931 1314.1868 \nL 435.002931 1314.1868 \n\" style=\"fill:none;stroke:#000000;stroke-linecap:square;\"/>\n   </g>\n   <g id=\"line2d_195\">\n    <path clip-path=\"url(#pda535593da)\" d=\"M 435.002931 1309.274752 \nL 435.002931 1309.274752 \n\" style=\"fill:none;stroke:#000000;stroke-linecap:square;\"/>\n   </g>\n   <g id=\"line2d_196\">\n    <path clip-path=\"url(#pda535593da)\" d=\"M 435.002931 1309.274752 \nL 435.002931 1309.274752 \n\" style=\"fill:none;stroke:#000000;stroke-linecap:square;\"/>\n   </g>\n   <g id=\"line2d_197\">\n    <path clip-path=\"url(#pda535593da)\" d=\"M 435.002931 1311.730776 \nL 435.002931 1306.818727 \n\" style=\"fill:none;stroke:#000000;stroke-linecap:square;\"/>\n   </g>\n   <g id=\"line2d_198\">\n    <path clip-path=\"url(#pda535593da)\" d=\"M 435.002931 1311.730776 \nL 435.002931 1306.818727 \n\" style=\"fill:none;stroke:#000000;stroke-linecap:square;\"/>\n   </g>\n   <g id=\"line2d_199\"/>\n   <g id=\"line2d_200\">\n    <path clip-path=\"url(#pda535593da)\" d=\"M 435.002931 1294.538607 \nL 435.002931 1284.714511 \nL 435.002931 1284.714511 \nL 435.002931 1294.538607 \nL 435.002931 1294.538607 \n\" style=\"fill:none;stroke:#000000;stroke-linecap:square;\"/>\n   </g>\n   <g id=\"line2d_201\">\n    <path clip-path=\"url(#pda535593da)\" d=\"M 435.002931 1289.626559 \nL 435.002931 1289.626559 \n\" style=\"fill:none;stroke:#000000;stroke-linecap:square;\"/>\n   </g>\n   <g id=\"line2d_202\">\n    <path clip-path=\"url(#pda535593da)\" d=\"M 435.002931 1289.626559 \nL 435.002931 1289.626559 \n\" style=\"fill:none;stroke:#000000;stroke-linecap:square;\"/>\n   </g>\n   <g id=\"line2d_203\">\n    <path clip-path=\"url(#pda535593da)\" d=\"M 435.002931 1292.082583 \nL 435.002931 1287.170535 \n\" style=\"fill:none;stroke:#000000;stroke-linecap:square;\"/>\n   </g>\n   <g id=\"line2d_204\">\n    <path clip-path=\"url(#pda535593da)\" d=\"M 435.002931 1292.082583 \nL 435.002931 1287.170535 \n\" style=\"fill:none;stroke:#000000;stroke-linecap:square;\"/>\n   </g>\n   <g id=\"line2d_205\"/>\n   <g id=\"line2d_206\">\n    <path clip-path=\"url(#pda535593da)\" d=\"M 435.002931 1274.890414 \nL 435.002931 1265.066318 \nL 435.002931 1265.066318 \nL 435.002931 1274.890414 \nL 435.002931 1274.890414 \n\" style=\"fill:none;stroke:#000000;stroke-linecap:square;\"/>\n   </g>\n   <g id=\"line2d_207\">\n    <path clip-path=\"url(#pda535593da)\" d=\"M 435.002931 1269.978366 \nL 435.002931 1269.978366 \n\" style=\"fill:none;stroke:#000000;stroke-linecap:square;\"/>\n   </g>\n   <g id=\"line2d_208\">\n    <path clip-path=\"url(#pda535593da)\" d=\"M 435.002931 1269.978366 \nL 435.002931 1269.978366 \n\" style=\"fill:none;stroke:#000000;stroke-linecap:square;\"/>\n   </g>\n   <g id=\"line2d_209\">\n    <path clip-path=\"url(#pda535593da)\" d=\"M 435.002931 1272.43439 \nL 435.002931 1267.522342 \n\" style=\"fill:none;stroke:#000000;stroke-linecap:square;\"/>\n   </g>\n   <g id=\"line2d_210\">\n    <path clip-path=\"url(#pda535593da)\" d=\"M 435.002931 1272.43439 \nL 435.002931 1267.522342 \n\" style=\"fill:none;stroke:#000000;stroke-linecap:square;\"/>\n   </g>\n   <g id=\"line2d_211\"/>\n   <g id=\"line2d_212\">\n    <path clip-path=\"url(#pda535593da)\" d=\"M 435.002931 1255.242221 \nL 435.002931 1245.418125 \nL 435.002931 1245.418125 \nL 435.002931 1255.242221 \nL 435.002931 1255.242221 \n\" style=\"fill:none;stroke:#000000;stroke-linecap:square;\"/>\n   </g>\n   <g id=\"line2d_213\">\n    <path clip-path=\"url(#pda535593da)\" d=\"M 435.002931 1250.330173 \nL 435.002931 1250.330173 \n\" style=\"fill:none;stroke:#000000;stroke-linecap:square;\"/>\n   </g>\n   <g id=\"line2d_214\">\n    <path clip-path=\"url(#pda535593da)\" d=\"M 435.002931 1250.330173 \nL 435.002931 1250.330173 \n\" style=\"fill:none;stroke:#000000;stroke-linecap:square;\"/>\n   </g>\n   <g id=\"line2d_215\">\n    <path clip-path=\"url(#pda535593da)\" d=\"M 435.002931 1252.786197 \nL 435.002931 1247.874149 \n\" style=\"fill:none;stroke:#000000;stroke-linecap:square;\"/>\n   </g>\n   <g id=\"line2d_216\">\n    <path clip-path=\"url(#pda535593da)\" d=\"M 435.002931 1252.786197 \nL 435.002931 1247.874149 \n\" style=\"fill:none;stroke:#000000;stroke-linecap:square;\"/>\n   </g>\n   <g id=\"line2d_217\"/>\n   <g id=\"line2d_218\">\n    <path clip-path=\"url(#pda535593da)\" d=\"M 435.002931 1235.594029 \nL 435.002931 1225.769932 \nL 435.002931 1225.769932 \nL 435.002931 1235.594029 \nL 435.002931 1235.594029 \n\" style=\"fill:none;stroke:#000000;stroke-linecap:square;\"/>\n   </g>\n   <g id=\"line2d_219\">\n    <path clip-path=\"url(#pda535593da)\" d=\"M 435.002931 1230.68198 \nL 435.002931 1230.68198 \n\" style=\"fill:none;stroke:#000000;stroke-linecap:square;\"/>\n   </g>\n   <g id=\"line2d_220\">\n    <path clip-path=\"url(#pda535593da)\" d=\"M 435.002931 1230.68198 \nL 435.002931 1230.68198 \n\" style=\"fill:none;stroke:#000000;stroke-linecap:square;\"/>\n   </g>\n   <g id=\"line2d_221\">\n    <path clip-path=\"url(#pda535593da)\" d=\"M 435.002931 1233.138005 \nL 435.002931 1228.225956 \n\" style=\"fill:none;stroke:#000000;stroke-linecap:square;\"/>\n   </g>\n   <g id=\"line2d_222\">\n    <path clip-path=\"url(#pda535593da)\" d=\"M 435.002931 1233.138005 \nL 435.002931 1228.225956 \n\" style=\"fill:none;stroke:#000000;stroke-linecap:square;\"/>\n   </g>\n   <g id=\"line2d_223\"/>\n   <g id=\"line2d_224\">\n    <path clip-path=\"url(#pda535593da)\" d=\"M 435.002931 1215.945836 \nL 435.002931 1206.121739 \nL 435.002931 1206.121739 \nL 435.002931 1215.945836 \nL 435.002931 1215.945836 \n\" style=\"fill:none;stroke:#000000;stroke-linecap:square;\"/>\n   </g>\n   <g id=\"line2d_225\">\n    <path clip-path=\"url(#pda535593da)\" d=\"M 435.002931 1211.033788 \nL 435.002931 1211.033788 \n\" style=\"fill:none;stroke:#000000;stroke-linecap:square;\"/>\n   </g>\n   <g id=\"line2d_226\">\n    <path clip-path=\"url(#pda535593da)\" d=\"M 435.002931 1211.033788 \nL 435.002931 1211.033788 \n\" style=\"fill:none;stroke:#000000;stroke-linecap:square;\"/>\n   </g>\n   <g id=\"line2d_227\">\n    <path clip-path=\"url(#pda535593da)\" d=\"M 435.002931 1213.489812 \nL 435.002931 1208.577764 \n\" style=\"fill:none;stroke:#000000;stroke-linecap:square;\"/>\n   </g>\n   <g id=\"line2d_228\">\n    <path clip-path=\"url(#pda535593da)\" d=\"M 435.002931 1213.489812 \nL 435.002931 1208.577764 \n\" style=\"fill:none;stroke:#000000;stroke-linecap:square;\"/>\n   </g>\n   <g id=\"line2d_229\"/>\n   <g id=\"line2d_230\">\n    <path clip-path=\"url(#pda535593da)\" d=\"M 435.002931 1196.297643 \nL 435.002931 1186.473547 \nL 435.002931 1186.473547 \nL 435.002931 1196.297643 \nL 435.002931 1196.297643 \n\" style=\"fill:none;stroke:#000000;stroke-linecap:square;\"/>\n   </g>\n   <g id=\"line2d_231\">\n    <path clip-path=\"url(#pda535593da)\" d=\"M 435.002931 1191.385595 \nL 435.002931 1191.385595 \n\" style=\"fill:none;stroke:#000000;stroke-linecap:square;\"/>\n   </g>\n   <g id=\"line2d_232\">\n    <path clip-path=\"url(#pda535593da)\" d=\"M 435.002931 1191.385595 \nL 435.002931 1191.385595 \n\" style=\"fill:none;stroke:#000000;stroke-linecap:square;\"/>\n   </g>\n   <g id=\"line2d_233\">\n    <path clip-path=\"url(#pda535593da)\" d=\"M 435.002931 1193.841619 \nL 435.002931 1188.929571 \n\" style=\"fill:none;stroke:#000000;stroke-linecap:square;\"/>\n   </g>\n   <g id=\"line2d_234\">\n    <path clip-path=\"url(#pda535593da)\" d=\"M 435.002931 1193.841619 \nL 435.002931 1188.929571 \n\" style=\"fill:none;stroke:#000000;stroke-linecap:square;\"/>\n   </g>\n   <g id=\"line2d_235\"/>\n   <g id=\"line2d_236\">\n    <path clip-path=\"url(#pda535593da)\" d=\"M 435.002931 1176.64945 \nL 435.002931 1166.825354 \nL 435.002931 1166.825354 \nL 435.002931 1176.64945 \nL 435.002931 1176.64945 \n\" style=\"fill:none;stroke:#000000;stroke-linecap:square;\"/>\n   </g>\n   <g id=\"line2d_237\">\n    <path clip-path=\"url(#pda535593da)\" d=\"M 435.002931 1171.737402 \nL 435.002931 1171.737402 \n\" style=\"fill:none;stroke:#000000;stroke-linecap:square;\"/>\n   </g>\n   <g id=\"line2d_238\">\n    <path clip-path=\"url(#pda535593da)\" d=\"M 435.002931 1171.737402 \nL 435.002931 1171.737402 \n\" style=\"fill:none;stroke:#000000;stroke-linecap:square;\"/>\n   </g>\n   <g id=\"line2d_239\">\n    <path clip-path=\"url(#pda535593da)\" d=\"M 435.002931 1174.193426 \nL 435.002931 1169.281378 \n\" style=\"fill:none;stroke:#000000;stroke-linecap:square;\"/>\n   </g>\n   <g id=\"line2d_240\">\n    <path clip-path=\"url(#pda535593da)\" d=\"M 435.002931 1174.193426 \nL 435.002931 1169.281378 \n\" style=\"fill:none;stroke:#000000;stroke-linecap:square;\"/>\n   </g>\n   <g id=\"line2d_241\"/>\n   <g id=\"line2d_242\">\n    <path clip-path=\"url(#pda535593da)\" d=\"M 435.002931 1157.001258 \nL 435.002931 1147.177161 \nL 435.002931 1147.177161 \nL 435.002931 1157.001258 \nL 435.002931 1157.001258 \n\" style=\"fill:none;stroke:#000000;stroke-linecap:square;\"/>\n   </g>\n   <g id=\"line2d_243\">\n    <path clip-path=\"url(#pda535593da)\" d=\"M 435.002931 1152.089209 \nL 435.002931 1152.089209 \n\" style=\"fill:none;stroke:#000000;stroke-linecap:square;\"/>\n   </g>\n   <g id=\"line2d_244\">\n    <path clip-path=\"url(#pda535593da)\" d=\"M 435.002931 1152.089209 \nL 435.002931 1152.089209 \n\" style=\"fill:none;stroke:#000000;stroke-linecap:square;\"/>\n   </g>\n   <g id=\"line2d_245\">\n    <path clip-path=\"url(#pda535593da)\" d=\"M 435.002931 1154.545233 \nL 435.002931 1149.633185 \n\" style=\"fill:none;stroke:#000000;stroke-linecap:square;\"/>\n   </g>\n   <g id=\"line2d_246\">\n    <path clip-path=\"url(#pda535593da)\" d=\"M 435.002931 1154.545233 \nL 435.002931 1149.633185 \n\" style=\"fill:none;stroke:#000000;stroke-linecap:square;\"/>\n   </g>\n   <g id=\"line2d_247\"/>\n   <g id=\"line2d_248\">\n    <path clip-path=\"url(#pda535593da)\" d=\"M 435.002931 1137.353065 \nL 435.002931 1127.528968 \nL 435.002931 1127.528968 \nL 435.002931 1137.353065 \nL 435.002931 1137.353065 \n\" style=\"fill:none;stroke:#000000;stroke-linecap:square;\"/>\n   </g>\n   <g id=\"line2d_249\">\n    <path clip-path=\"url(#pda535593da)\" d=\"M 435.002931 1132.441017 \nL 435.002931 1132.441017 \n\" style=\"fill:none;stroke:#000000;stroke-linecap:square;\"/>\n   </g>\n   <g id=\"line2d_250\">\n    <path clip-path=\"url(#pda535593da)\" d=\"M 435.002931 1132.441017 \nL 435.002931 1132.441017 \n\" style=\"fill:none;stroke:#000000;stroke-linecap:square;\"/>\n   </g>\n   <g id=\"line2d_251\">\n    <path clip-path=\"url(#pda535593da)\" d=\"M 435.002931 1134.897041 \nL 435.002931 1129.984992 \n\" style=\"fill:none;stroke:#000000;stroke-linecap:square;\"/>\n   </g>\n   <g id=\"line2d_252\">\n    <path clip-path=\"url(#pda535593da)\" d=\"M 435.002931 1134.897041 \nL 435.002931 1129.984992 \n\" style=\"fill:none;stroke:#000000;stroke-linecap:square;\"/>\n   </g>\n   <g id=\"line2d_253\"/>\n   <g id=\"line2d_254\">\n    <path clip-path=\"url(#pda535593da)\" d=\"M 435.002931 1117.704872 \nL 435.002931 1107.880776 \nL 435.002931 1107.880776 \nL 435.002931 1117.704872 \nL 435.002931 1117.704872 \n\" style=\"fill:none;stroke:#000000;stroke-linecap:square;\"/>\n   </g>\n   <g id=\"line2d_255\">\n    <path clip-path=\"url(#pda535593da)\" d=\"M 435.002931 1112.792824 \nL 435.002931 1112.792824 \n\" style=\"fill:none;stroke:#000000;stroke-linecap:square;\"/>\n   </g>\n   <g id=\"line2d_256\">\n    <path clip-path=\"url(#pda535593da)\" d=\"M 435.002931 1112.792824 \nL 435.002931 1112.792824 \n\" style=\"fill:none;stroke:#000000;stroke-linecap:square;\"/>\n   </g>\n   <g id=\"line2d_257\">\n    <path clip-path=\"url(#pda535593da)\" d=\"M 435.002931 1115.248848 \nL 435.002931 1110.3368 \n\" style=\"fill:none;stroke:#000000;stroke-linecap:square;\"/>\n   </g>\n   <g id=\"line2d_258\">\n    <path clip-path=\"url(#pda535593da)\" d=\"M 435.002931 1115.248848 \nL 435.002931 1110.3368 \n\" style=\"fill:none;stroke:#000000;stroke-linecap:square;\"/>\n   </g>\n   <g id=\"line2d_259\"/>\n   <g id=\"line2d_260\">\n    <path clip-path=\"url(#pda535593da)\" d=\"M 435.002931 1098.056679 \nL 435.002931 1088.232583 \nL 435.002931 1088.232583 \nL 435.002931 1098.056679 \nL 435.002931 1098.056679 \n\" style=\"fill:none;stroke:#000000;stroke-linecap:square;\"/>\n   </g>\n   <g id=\"line2d_261\">\n    <path clip-path=\"url(#pda535593da)\" d=\"M 435.002931 1093.144631 \nL 435.002931 1093.144631 \n\" style=\"fill:none;stroke:#000000;stroke-linecap:square;\"/>\n   </g>\n   <g id=\"line2d_262\">\n    <path clip-path=\"url(#pda535593da)\" d=\"M 435.002931 1093.144631 \nL 435.002931 1093.144631 \n\" style=\"fill:none;stroke:#000000;stroke-linecap:square;\"/>\n   </g>\n   <g id=\"line2d_263\">\n    <path clip-path=\"url(#pda535593da)\" d=\"M 435.002931 1095.600655 \nL 435.002931 1090.688607 \n\" style=\"fill:none;stroke:#000000;stroke-linecap:square;\"/>\n   </g>\n   <g id=\"line2d_264\">\n    <path clip-path=\"url(#pda535593da)\" d=\"M 435.002931 1095.600655 \nL 435.002931 1090.688607 \n\" style=\"fill:none;stroke:#000000;stroke-linecap:square;\"/>\n   </g>\n   <g id=\"line2d_265\"/>\n   <g id=\"line2d_266\">\n    <path clip-path=\"url(#pda535593da)\" d=\"M 435.002931 1078.408486 \nL 435.002931 1068.58439 \nL 435.002931 1068.58439 \nL 435.002931 1078.408486 \nL 435.002931 1078.408486 \n\" style=\"fill:none;stroke:#000000;stroke-linecap:square;\"/>\n   </g>\n   <g id=\"line2d_267\">\n    <path clip-path=\"url(#pda535593da)\" d=\"M 435.002931 1073.496438 \nL 435.002931 1073.496438 \n\" style=\"fill:none;stroke:#000000;stroke-linecap:square;\"/>\n   </g>\n   <g id=\"line2d_268\">\n    <path clip-path=\"url(#pda535593da)\" d=\"M 435.002931 1073.496438 \nL 435.002931 1073.496438 \n\" style=\"fill:none;stroke:#000000;stroke-linecap:square;\"/>\n   </g>\n   <g id=\"line2d_269\">\n    <path clip-path=\"url(#pda535593da)\" d=\"M 435.002931 1075.952462 \nL 435.002931 1071.040414 \n\" style=\"fill:none;stroke:#000000;stroke-linecap:square;\"/>\n   </g>\n   <g id=\"line2d_270\">\n    <path clip-path=\"url(#pda535593da)\" d=\"M 435.002931 1075.952462 \nL 435.002931 1071.040414 \n\" style=\"fill:none;stroke:#000000;stroke-linecap:square;\"/>\n   </g>\n   <g id=\"line2d_271\"/>\n   <g id=\"line2d_272\">\n    <path clip-path=\"url(#pda535593da)\" d=\"M 435.002931 1058.760294 \nL 435.002931 1048.936197 \nL 435.002931 1048.936197 \nL 435.002931 1058.760294 \nL 435.002931 1058.760294 \n\" style=\"fill:none;stroke:#000000;stroke-linecap:square;\"/>\n   </g>\n   <g id=\"line2d_273\">\n    <path clip-path=\"url(#pda535593da)\" d=\"M 435.002931 1053.848245 \nL 435.002931 1053.848245 \n\" style=\"fill:none;stroke:#000000;stroke-linecap:square;\"/>\n   </g>\n   <g id=\"line2d_274\">\n    <path clip-path=\"url(#pda535593da)\" d=\"M 435.002931 1053.848245 \nL 435.002931 1053.848245 \n\" style=\"fill:none;stroke:#000000;stroke-linecap:square;\"/>\n   </g>\n   <g id=\"line2d_275\">\n    <path clip-path=\"url(#pda535593da)\" d=\"M 435.002931 1056.30427 \nL 435.002931 1051.392221 \n\" style=\"fill:none;stroke:#000000;stroke-linecap:square;\"/>\n   </g>\n   <g id=\"line2d_276\">\n    <path clip-path=\"url(#pda535593da)\" d=\"M 435.002931 1056.30427 \nL 435.002931 1051.392221 \n\" style=\"fill:none;stroke:#000000;stroke-linecap:square;\"/>\n   </g>\n   <g id=\"line2d_277\"/>\n   <g id=\"line2d_278\">\n    <path clip-path=\"url(#pda535593da)\" d=\"M 435.002931 1039.112101 \nL 435.002931 1029.288005 \nL 435.002931 1029.288005 \nL 435.002931 1039.112101 \nL 435.002931 1039.112101 \n\" style=\"fill:none;stroke:#000000;stroke-linecap:square;\"/>\n   </g>\n   <g id=\"line2d_279\">\n    <path clip-path=\"url(#pda535593da)\" d=\"M 435.002931 1034.200053 \nL 435.002931 1034.200053 \n\" style=\"fill:none;stroke:#000000;stroke-linecap:square;\"/>\n   </g>\n   <g id=\"line2d_280\">\n    <path clip-path=\"url(#pda535593da)\" d=\"M 435.002931 1034.200053 \nL 435.002931 1034.200053 \n\" style=\"fill:none;stroke:#000000;stroke-linecap:square;\"/>\n   </g>\n   <g id=\"line2d_281\">\n    <path clip-path=\"url(#pda535593da)\" d=\"M 435.002931 1036.656077 \nL 435.002931 1031.744029 \n\" style=\"fill:none;stroke:#000000;stroke-linecap:square;\"/>\n   </g>\n   <g id=\"line2d_282\">\n    <path clip-path=\"url(#pda535593da)\" d=\"M 435.002931 1036.656077 \nL 435.002931 1031.744029 \n\" style=\"fill:none;stroke:#000000;stroke-linecap:square;\"/>\n   </g>\n   <g id=\"line2d_283\"/>\n   <g id=\"line2d_284\">\n    <path clip-path=\"url(#pda535593da)\" d=\"M 435.002931 1019.463908 \nL 435.002931 1009.639812 \nL 435.002931 1009.639812 \nL 435.002931 1019.463908 \nL 435.002931 1019.463908 \n\" style=\"fill:none;stroke:#000000;stroke-linecap:square;\"/>\n   </g>\n   <g id=\"line2d_285\">\n    <path clip-path=\"url(#pda535593da)\" d=\"M 435.002931 1014.55186 \nL 435.002931 1014.55186 \n\" style=\"fill:none;stroke:#000000;stroke-linecap:square;\"/>\n   </g>\n   <g id=\"line2d_286\">\n    <path clip-path=\"url(#pda535593da)\" d=\"M 435.002931 1014.55186 \nL 435.002931 1014.55186 \n\" style=\"fill:none;stroke:#000000;stroke-linecap:square;\"/>\n   </g>\n   <g id=\"line2d_287\">\n    <path clip-path=\"url(#pda535593da)\" d=\"M 435.002931 1017.007884 \nL 435.002931 1012.095836 \n\" style=\"fill:none;stroke:#000000;stroke-linecap:square;\"/>\n   </g>\n   <g id=\"line2d_288\">\n    <path clip-path=\"url(#pda535593da)\" d=\"M 435.002931 1017.007884 \nL 435.002931 1012.095836 \n\" style=\"fill:none;stroke:#000000;stroke-linecap:square;\"/>\n   </g>\n   <g id=\"line2d_289\"/>\n   <g id=\"line2d_290\">\n    <path clip-path=\"url(#pda535593da)\" d=\"M 435.002931 999.815715 \nL 435.002931 989.991619 \nL 435.002931 989.991619 \nL 435.002931 999.815715 \nL 435.002931 999.815715 \n\" style=\"fill:none;stroke:#000000;stroke-linecap:square;\"/>\n   </g>\n   <g id=\"line2d_291\">\n    <path clip-path=\"url(#pda535593da)\" d=\"M 435.002931 994.903667 \nL 435.002931 994.903667 \n\" style=\"fill:none;stroke:#000000;stroke-linecap:square;\"/>\n   </g>\n   <g id=\"line2d_292\">\n    <path clip-path=\"url(#pda535593da)\" d=\"M 435.002931 994.903667 \nL 435.002931 994.903667 \n\" style=\"fill:none;stroke:#000000;stroke-linecap:square;\"/>\n   </g>\n   <g id=\"line2d_293\">\n    <path clip-path=\"url(#pda535593da)\" d=\"M 435.002931 997.359691 \nL 435.002931 992.447643 \n\" style=\"fill:none;stroke:#000000;stroke-linecap:square;\"/>\n   </g>\n   <g id=\"line2d_294\">\n    <path clip-path=\"url(#pda535593da)\" d=\"M 435.002931 997.359691 \nL 435.002931 992.447643 \n\" style=\"fill:none;stroke:#000000;stroke-linecap:square;\"/>\n   </g>\n   <g id=\"line2d_295\"/>\n   <g id=\"line2d_296\">\n    <path clip-path=\"url(#pda535593da)\" d=\"M 435.002931 980.167523 \nL 435.002931 970.343426 \nL 435.002931 970.343426 \nL 435.002931 980.167523 \nL 435.002931 980.167523 \n\" style=\"fill:none;stroke:#000000;stroke-linecap:square;\"/>\n   </g>\n   <g id=\"line2d_297\">\n    <path clip-path=\"url(#pda535593da)\" d=\"M 435.002931 975.255474 \nL 435.002931 975.255474 \n\" style=\"fill:none;stroke:#000000;stroke-linecap:square;\"/>\n   </g>\n   <g id=\"line2d_298\">\n    <path clip-path=\"url(#pda535593da)\" d=\"M 435.002931 975.255474 \nL 435.002931 975.255474 \n\" style=\"fill:none;stroke:#000000;stroke-linecap:square;\"/>\n   </g>\n   <g id=\"line2d_299\">\n    <path clip-path=\"url(#pda535593da)\" d=\"M 435.002931 977.711498 \nL 435.002931 972.79945 \n\" style=\"fill:none;stroke:#000000;stroke-linecap:square;\"/>\n   </g>\n   <g id=\"line2d_300\">\n    <path clip-path=\"url(#pda535593da)\" d=\"M 435.002931 977.711498 \nL 435.002931 972.79945 \n\" style=\"fill:none;stroke:#000000;stroke-linecap:square;\"/>\n   </g>\n   <g id=\"line2d_301\"/>\n   <g id=\"line2d_302\">\n    <path clip-path=\"url(#pda535593da)\" d=\"M 435.002931 960.51933 \nL 435.002931 950.695233 \nL 435.002931 950.695233 \nL 435.002931 960.51933 \nL 435.002931 960.51933 \n\" style=\"fill:none;stroke:#000000;stroke-linecap:square;\"/>\n   </g>\n   <g id=\"line2d_303\">\n    <path clip-path=\"url(#pda535593da)\" d=\"M 435.002931 955.607282 \nL 435.002931 955.607282 \n\" style=\"fill:none;stroke:#000000;stroke-linecap:square;\"/>\n   </g>\n   <g id=\"line2d_304\">\n    <path clip-path=\"url(#pda535593da)\" d=\"M 435.002931 955.607282 \nL 435.002931 955.607282 \n\" style=\"fill:none;stroke:#000000;stroke-linecap:square;\"/>\n   </g>\n   <g id=\"line2d_305\">\n    <path clip-path=\"url(#pda535593da)\" d=\"M 435.002931 958.063306 \nL 435.002931 953.151258 \n\" style=\"fill:none;stroke:#000000;stroke-linecap:square;\"/>\n   </g>\n   <g id=\"line2d_306\">\n    <path clip-path=\"url(#pda535593da)\" d=\"M 435.002931 958.063306 \nL 435.002931 953.151258 \n\" style=\"fill:none;stroke:#000000;stroke-linecap:square;\"/>\n   </g>\n   <g id=\"line2d_307\"/>\n   <g id=\"line2d_308\">\n    <path clip-path=\"url(#pda535593da)\" d=\"M 435.002931 940.871137 \nL 435.002931 931.047041 \nL 435.002931 931.047041 \nL 435.002931 940.871137 \nL 435.002931 940.871137 \n\" style=\"fill:none;stroke:#000000;stroke-linecap:square;\"/>\n   </g>\n   <g id=\"line2d_309\">\n    <path clip-path=\"url(#pda535593da)\" d=\"M 435.002931 935.959089 \nL 435.002931 935.959089 \n\" style=\"fill:none;stroke:#000000;stroke-linecap:square;\"/>\n   </g>\n   <g id=\"line2d_310\">\n    <path clip-path=\"url(#pda535593da)\" d=\"M 435.002931 935.959089 \nL 435.002931 935.959089 \n\" style=\"fill:none;stroke:#000000;stroke-linecap:square;\"/>\n   </g>\n   <g id=\"line2d_311\">\n    <path clip-path=\"url(#pda535593da)\" d=\"M 435.002931 938.415113 \nL 435.002931 933.503065 \n\" style=\"fill:none;stroke:#000000;stroke-linecap:square;\"/>\n   </g>\n   <g id=\"line2d_312\">\n    <path clip-path=\"url(#pda535593da)\" d=\"M 435.002931 938.415113 \nL 435.002931 933.503065 \n\" style=\"fill:none;stroke:#000000;stroke-linecap:square;\"/>\n   </g>\n   <g id=\"line2d_313\"/>\n   <g id=\"line2d_314\">\n    <path clip-path=\"url(#pda535593da)\" d=\"M 435.002931 921.222944 \nL 435.002931 911.398848 \nL 435.002931 911.398848 \nL 435.002931 921.222944 \nL 435.002931 921.222944 \n\" style=\"fill:none;stroke:#000000;stroke-linecap:square;\"/>\n   </g>\n   <g id=\"line2d_315\">\n    <path clip-path=\"url(#pda535593da)\" d=\"M 435.002931 916.310896 \nL 435.002931 916.310896 \n\" style=\"fill:none;stroke:#000000;stroke-linecap:square;\"/>\n   </g>\n   <g id=\"line2d_316\">\n    <path clip-path=\"url(#pda535593da)\" d=\"M 435.002931 916.310896 \nL 435.002931 916.310896 \n\" style=\"fill:none;stroke:#000000;stroke-linecap:square;\"/>\n   </g>\n   <g id=\"line2d_317\">\n    <path clip-path=\"url(#pda535593da)\" d=\"M 435.002931 918.76692 \nL 435.002931 913.854872 \n\" style=\"fill:none;stroke:#000000;stroke-linecap:square;\"/>\n   </g>\n   <g id=\"line2d_318\">\n    <path clip-path=\"url(#pda535593da)\" d=\"M 435.002931 918.76692 \nL 435.002931 913.854872 \n\" style=\"fill:none;stroke:#000000;stroke-linecap:square;\"/>\n   </g>\n   <g id=\"line2d_319\"/>\n   <g id=\"line2d_320\">\n    <path clip-path=\"url(#pda535593da)\" d=\"M 435.002931 901.574752 \nL 435.002931 891.750655 \nL 435.002931 891.750655 \nL 435.002931 901.574752 \nL 435.002931 901.574752 \n\" style=\"fill:none;stroke:#000000;stroke-linecap:square;\"/>\n   </g>\n   <g id=\"line2d_321\">\n    <path clip-path=\"url(#pda535593da)\" d=\"M 435.002931 896.662703 \nL 435.002931 896.662703 \n\" style=\"fill:none;stroke:#000000;stroke-linecap:square;\"/>\n   </g>\n   <g id=\"line2d_322\">\n    <path clip-path=\"url(#pda535593da)\" d=\"M 435.002931 896.662703 \nL 435.002931 896.662703 \n\" style=\"fill:none;stroke:#000000;stroke-linecap:square;\"/>\n   </g>\n   <g id=\"line2d_323\">\n    <path clip-path=\"url(#pda535593da)\" d=\"M 435.002931 899.118727 \nL 435.002931 894.206679 \n\" style=\"fill:none;stroke:#000000;stroke-linecap:square;\"/>\n   </g>\n   <g id=\"line2d_324\">\n    <path clip-path=\"url(#pda535593da)\" d=\"M 435.002931 899.118727 \nL 435.002931 894.206679 \n\" style=\"fill:none;stroke:#000000;stroke-linecap:square;\"/>\n   </g>\n   <g id=\"line2d_325\"/>\n   <g id=\"line2d_326\">\n    <path clip-path=\"url(#pda535593da)\" d=\"M 435.002931 881.926559 \nL 435.002931 872.102462 \nL 435.002931 872.102462 \nL 435.002931 881.926559 \nL 435.002931 881.926559 \n\" style=\"fill:none;stroke:#000000;stroke-linecap:square;\"/>\n   </g>\n   <g id=\"line2d_327\">\n    <path clip-path=\"url(#pda535593da)\" d=\"M 435.002931 877.014511 \nL 435.002931 877.014511 \n\" style=\"fill:none;stroke:#000000;stroke-linecap:square;\"/>\n   </g>\n   <g id=\"line2d_328\">\n    <path clip-path=\"url(#pda535593da)\" d=\"M 435.002931 877.014511 \nL 435.002931 877.014511 \n\" style=\"fill:none;stroke:#000000;stroke-linecap:square;\"/>\n   </g>\n   <g id=\"line2d_329\">\n    <path clip-path=\"url(#pda535593da)\" d=\"M 435.002931 879.470535 \nL 435.002931 874.558486 \n\" style=\"fill:none;stroke:#000000;stroke-linecap:square;\"/>\n   </g>\n   <g id=\"line2d_330\">\n    <path clip-path=\"url(#pda535593da)\" d=\"M 435.002931 879.470535 \nL 435.002931 874.558486 \n\" style=\"fill:none;stroke:#000000;stroke-linecap:square;\"/>\n   </g>\n   <g id=\"line2d_331\"/>\n   <g id=\"line2d_332\">\n    <path clip-path=\"url(#pda535593da)\" d=\"M 435.002931 862.278366 \nL 435.002931 852.45427 \nL 435.002931 852.45427 \nL 435.002931 862.278366 \nL 435.002931 862.278366 \n\" style=\"fill:none;stroke:#000000;stroke-linecap:square;\"/>\n   </g>\n   <g id=\"line2d_333\">\n    <path clip-path=\"url(#pda535593da)\" d=\"M 435.002931 857.366318 \nL 435.002931 857.366318 \n\" style=\"fill:none;stroke:#000000;stroke-linecap:square;\"/>\n   </g>\n   <g id=\"line2d_334\">\n    <path clip-path=\"url(#pda535593da)\" d=\"M 435.002931 857.366318 \nL 435.002931 857.366318 \n\" style=\"fill:none;stroke:#000000;stroke-linecap:square;\"/>\n   </g>\n   <g id=\"line2d_335\">\n    <path clip-path=\"url(#pda535593da)\" d=\"M 435.002931 859.822342 \nL 435.002931 854.910294 \n\" style=\"fill:none;stroke:#000000;stroke-linecap:square;\"/>\n   </g>\n   <g id=\"line2d_336\">\n    <path clip-path=\"url(#pda535593da)\" d=\"M 435.002931 859.822342 \nL 435.002931 854.910294 \n\" style=\"fill:none;stroke:#000000;stroke-linecap:square;\"/>\n   </g>\n   <g id=\"line2d_337\"/>\n   <g id=\"line2d_338\">\n    <path clip-path=\"url(#pda535593da)\" d=\"M 435.002931 842.630173 \nL 435.002931 832.806077 \nL 435.002931 832.806077 \nL 435.002931 842.630173 \nL 435.002931 842.630173 \n\" style=\"fill:none;stroke:#000000;stroke-linecap:square;\"/>\n   </g>\n   <g id=\"line2d_339\">\n    <path clip-path=\"url(#pda535593da)\" d=\"M 435.002931 837.718125 \nL 435.002931 837.718125 \n\" style=\"fill:none;stroke:#000000;stroke-linecap:square;\"/>\n   </g>\n   <g id=\"line2d_340\">\n    <path clip-path=\"url(#pda535593da)\" d=\"M 435.002931 837.718125 \nL 435.002931 837.718125 \n\" style=\"fill:none;stroke:#000000;stroke-linecap:square;\"/>\n   </g>\n   <g id=\"line2d_341\">\n    <path clip-path=\"url(#pda535593da)\" d=\"M 435.002931 840.174149 \nL 435.002931 835.262101 \n\" style=\"fill:none;stroke:#000000;stroke-linecap:square;\"/>\n   </g>\n   <g id=\"line2d_342\">\n    <path clip-path=\"url(#pda535593da)\" d=\"M 435.002931 840.174149 \nL 435.002931 835.262101 \n\" style=\"fill:none;stroke:#000000;stroke-linecap:square;\"/>\n   </g>\n   <g id=\"line2d_343\"/>\n   <g id=\"line2d_344\">\n    <path clip-path=\"url(#pda535593da)\" d=\"M 435.002931 822.98198 \nL 435.002931 813.157884 \nL 435.002931 813.157884 \nL 435.002931 822.98198 \nL 435.002931 822.98198 \n\" style=\"fill:none;stroke:#000000;stroke-linecap:square;\"/>\n   </g>\n   <g id=\"line2d_345\">\n    <path clip-path=\"url(#pda535593da)\" d=\"M 435.002931 818.069932 \nL 435.002931 818.069932 \n\" style=\"fill:none;stroke:#000000;stroke-linecap:square;\"/>\n   </g>\n   <g id=\"line2d_346\">\n    <path clip-path=\"url(#pda535593da)\" d=\"M 435.002931 818.069932 \nL 435.002931 818.069932 \n\" style=\"fill:none;stroke:#000000;stroke-linecap:square;\"/>\n   </g>\n   <g id=\"line2d_347\">\n    <path clip-path=\"url(#pda535593da)\" d=\"M 435.002931 820.525956 \nL 435.002931 815.613908 \n\" style=\"fill:none;stroke:#000000;stroke-linecap:square;\"/>\n   </g>\n   <g id=\"line2d_348\">\n    <path clip-path=\"url(#pda535593da)\" d=\"M 435.002931 820.525956 \nL 435.002931 815.613908 \n\" style=\"fill:none;stroke:#000000;stroke-linecap:square;\"/>\n   </g>\n   <g id=\"line2d_349\"/>\n   <g id=\"line2d_350\">\n    <path clip-path=\"url(#pda535593da)\" d=\"M 435.002931 803.333788 \nL 435.002931 793.509691 \nL 435.002931 793.509691 \nL 435.002931 803.333788 \nL 435.002931 803.333788 \n\" style=\"fill:none;stroke:#000000;stroke-linecap:square;\"/>\n   </g>\n   <g id=\"line2d_351\">\n    <path clip-path=\"url(#pda535593da)\" d=\"M 435.002931 798.421739 \nL 435.002931 798.421739 \n\" style=\"fill:none;stroke:#000000;stroke-linecap:square;\"/>\n   </g>\n   <g id=\"line2d_352\">\n    <path clip-path=\"url(#pda535593da)\" d=\"M 435.002931 798.421739 \nL 435.002931 798.421739 \n\" style=\"fill:none;stroke:#000000;stroke-linecap:square;\"/>\n   </g>\n   <g id=\"line2d_353\">\n    <path clip-path=\"url(#pda535593da)\" d=\"M 435.002931 800.877764 \nL 435.002931 795.965715 \n\" style=\"fill:none;stroke:#000000;stroke-linecap:square;\"/>\n   </g>\n   <g id=\"line2d_354\">\n    <path clip-path=\"url(#pda535593da)\" d=\"M 435.002931 800.877764 \nL 435.002931 795.965715 \n\" style=\"fill:none;stroke:#000000;stroke-linecap:square;\"/>\n   </g>\n   <g id=\"line2d_355\"/>\n   <g id=\"line2d_356\">\n    <path clip-path=\"url(#pda535593da)\" d=\"M 435.002931 783.685595 \nL 435.002931 773.861498 \nL 435.002931 773.861498 \nL 435.002931 783.685595 \nL 435.002931 783.685595 \n\" style=\"fill:none;stroke:#000000;stroke-linecap:square;\"/>\n   </g>\n   <g id=\"line2d_357\">\n    <path clip-path=\"url(#pda535593da)\" d=\"M 435.002931 778.773547 \nL 435.002931 778.773547 \n\" style=\"fill:none;stroke:#000000;stroke-linecap:square;\"/>\n   </g>\n   <g id=\"line2d_358\">\n    <path clip-path=\"url(#pda535593da)\" d=\"M 435.002931 778.773547 \nL 435.002931 778.773547 \n\" style=\"fill:none;stroke:#000000;stroke-linecap:square;\"/>\n   </g>\n   <g id=\"line2d_359\">\n    <path clip-path=\"url(#pda535593da)\" d=\"M 435.002931 781.229571 \nL 435.002931 776.317523 \n\" style=\"fill:none;stroke:#000000;stroke-linecap:square;\"/>\n   </g>\n   <g id=\"line2d_360\">\n    <path clip-path=\"url(#pda535593da)\" d=\"M 435.002931 781.229571 \nL 435.002931 776.317523 \n\" style=\"fill:none;stroke:#000000;stroke-linecap:square;\"/>\n   </g>\n   <g id=\"line2d_361\"/>\n   <g id=\"line2d_362\">\n    <path clip-path=\"url(#pda535593da)\" d=\"M 435.002931 764.037402 \nL 435.002931 754.213306 \nL 435.002931 754.213306 \nL 435.002931 764.037402 \nL 435.002931 764.037402 \n\" style=\"fill:none;stroke:#000000;stroke-linecap:square;\"/>\n   </g>\n   <g id=\"line2d_363\">\n    <path clip-path=\"url(#pda535593da)\" d=\"M 435.002931 759.125354 \nL 435.002931 759.125354 \n\" style=\"fill:none;stroke:#000000;stroke-linecap:square;\"/>\n   </g>\n   <g id=\"line2d_364\">\n    <path clip-path=\"url(#pda535593da)\" d=\"M 435.002931 759.125354 \nL 435.002931 759.125354 \n\" style=\"fill:none;stroke:#000000;stroke-linecap:square;\"/>\n   </g>\n   <g id=\"line2d_365\">\n    <path clip-path=\"url(#pda535593da)\" d=\"M 435.002931 761.581378 \nL 435.002931 756.66933 \n\" style=\"fill:none;stroke:#000000;stroke-linecap:square;\"/>\n   </g>\n   <g id=\"line2d_366\">\n    <path clip-path=\"url(#pda535593da)\" d=\"M 435.002931 761.581378 \nL 435.002931 756.66933 \n\" style=\"fill:none;stroke:#000000;stroke-linecap:square;\"/>\n   </g>\n   <g id=\"line2d_367\"/>\n   <g id=\"line2d_368\">\n    <path clip-path=\"url(#pda535593da)\" d=\"M 435.002931 744.389209 \nL 435.002931 734.565113 \nL 435.002931 734.565113 \nL 435.002931 744.389209 \nL 435.002931 744.389209 \n\" style=\"fill:none;stroke:#000000;stroke-linecap:square;\"/>\n   </g>\n   <g id=\"line2d_369\">\n    <path clip-path=\"url(#pda535593da)\" d=\"M 435.002931 739.477161 \nL 435.002931 739.477161 \n\" style=\"fill:none;stroke:#000000;stroke-linecap:square;\"/>\n   </g>\n   <g id=\"line2d_370\">\n    <path clip-path=\"url(#pda535593da)\" d=\"M 435.002931 739.477161 \nL 435.002931 739.477161 \n\" style=\"fill:none;stroke:#000000;stroke-linecap:square;\"/>\n   </g>\n   <g id=\"line2d_371\">\n    <path clip-path=\"url(#pda535593da)\" d=\"M 435.002931 741.933185 \nL 435.002931 737.021137 \n\" style=\"fill:none;stroke:#000000;stroke-linecap:square;\"/>\n   </g>\n   <g id=\"line2d_372\">\n    <path clip-path=\"url(#pda535593da)\" d=\"M 435.002931 741.933185 \nL 435.002931 737.021137 \n\" style=\"fill:none;stroke:#000000;stroke-linecap:square;\"/>\n   </g>\n   <g id=\"line2d_373\"/>\n   <g id=\"line2d_374\">\n    <path clip-path=\"url(#pda535593da)\" d=\"M 435.002931 724.741017 \nL 435.002931 714.91692 \nL 435.002931 714.91692 \nL 435.002931 724.741017 \nL 435.002931 724.741017 \n\" style=\"fill:none;stroke:#000000;stroke-linecap:square;\"/>\n   </g>\n   <g id=\"line2d_375\">\n    <path clip-path=\"url(#pda535593da)\" d=\"M 435.002931 719.828968 \nL 435.002931 719.828968 \n\" style=\"fill:none;stroke:#000000;stroke-linecap:square;\"/>\n   </g>\n   <g id=\"line2d_376\">\n    <path clip-path=\"url(#pda535593da)\" d=\"M 435.002931 719.828968 \nL 435.002931 719.828968 \n\" style=\"fill:none;stroke:#000000;stroke-linecap:square;\"/>\n   </g>\n   <g id=\"line2d_377\">\n    <path clip-path=\"url(#pda535593da)\" d=\"M 435.002931 722.284992 \nL 435.002931 717.372944 \n\" style=\"fill:none;stroke:#000000;stroke-linecap:square;\"/>\n   </g>\n   <g id=\"line2d_378\">\n    <path clip-path=\"url(#pda535593da)\" d=\"M 435.002931 722.284992 \nL 435.002931 717.372944 \n\" style=\"fill:none;stroke:#000000;stroke-linecap:square;\"/>\n   </g>\n   <g id=\"line2d_379\"/>\n   <g id=\"line2d_380\">\n    <path clip-path=\"url(#pda535593da)\" d=\"M 435.002931 705.092824 \nL 435.002931 695.268727 \nL 435.002931 695.268727 \nL 435.002931 705.092824 \nL 435.002931 705.092824 \n\" style=\"fill:none;stroke:#000000;stroke-linecap:square;\"/>\n   </g>\n   <g id=\"line2d_381\">\n    <path clip-path=\"url(#pda535593da)\" d=\"M 435.002931 700.180776 \nL 435.002931 700.180776 \n\" style=\"fill:none;stroke:#000000;stroke-linecap:square;\"/>\n   </g>\n   <g id=\"line2d_382\">\n    <path clip-path=\"url(#pda535593da)\" d=\"M 435.002931 700.180776 \nL 435.002931 700.180776 \n\" style=\"fill:none;stroke:#000000;stroke-linecap:square;\"/>\n   </g>\n   <g id=\"line2d_383\">\n    <path clip-path=\"url(#pda535593da)\" d=\"M 435.002931 702.6368 \nL 435.002931 697.724752 \n\" style=\"fill:none;stroke:#000000;stroke-linecap:square;\"/>\n   </g>\n   <g id=\"line2d_384\">\n    <path clip-path=\"url(#pda535593da)\" d=\"M 435.002931 702.6368 \nL 435.002931 697.724752 \n\" style=\"fill:none;stroke:#000000;stroke-linecap:square;\"/>\n   </g>\n   <g id=\"line2d_385\"/>\n   <g id=\"line2d_386\">\n    <path clip-path=\"url(#pda535593da)\" d=\"M 435.002931 685.444631 \nL 435.002931 675.620535 \nL 435.002931 675.620535 \nL 435.002931 685.444631 \nL 435.002931 685.444631 \n\" style=\"fill:none;stroke:#000000;stroke-linecap:square;\"/>\n   </g>\n   <g id=\"line2d_387\">\n    <path clip-path=\"url(#pda535593da)\" d=\"M 435.002931 680.532583 \nL 435.002931 680.532583 \n\" style=\"fill:none;stroke:#000000;stroke-linecap:square;\"/>\n   </g>\n   <g id=\"line2d_388\">\n    <path clip-path=\"url(#pda535593da)\" d=\"M 435.002931 680.532583 \nL 435.002931 680.532583 \n\" style=\"fill:none;stroke:#000000;stroke-linecap:square;\"/>\n   </g>\n   <g id=\"line2d_389\">\n    <path clip-path=\"url(#pda535593da)\" d=\"M 435.002931 682.988607 \nL 435.002931 678.076559 \n\" style=\"fill:none;stroke:#000000;stroke-linecap:square;\"/>\n   </g>\n   <g id=\"line2d_390\">\n    <path clip-path=\"url(#pda535593da)\" d=\"M 435.002931 682.988607 \nL 435.002931 678.076559 \n\" style=\"fill:none;stroke:#000000;stroke-linecap:square;\"/>\n   </g>\n   <g id=\"line2d_391\"/>\n   <g id=\"line2d_392\">\n    <path clip-path=\"url(#pda535593da)\" d=\"M 435.002931 665.796438 \nL 435.002931 655.972342 \nL 435.002931 655.972342 \nL 435.002931 665.796438 \nL 435.002931 665.796438 \n\" style=\"fill:none;stroke:#000000;stroke-linecap:square;\"/>\n   </g>\n   <g id=\"line2d_393\">\n    <path clip-path=\"url(#pda535593da)\" d=\"M 435.002931 660.88439 \nL 435.002931 660.88439 \n\" style=\"fill:none;stroke:#000000;stroke-linecap:square;\"/>\n   </g>\n   <g id=\"line2d_394\">\n    <path clip-path=\"url(#pda535593da)\" d=\"M 435.002931 660.88439 \nL 435.002931 660.88439 \n\" style=\"fill:none;stroke:#000000;stroke-linecap:square;\"/>\n   </g>\n   <g id=\"line2d_395\">\n    <path clip-path=\"url(#pda535593da)\" d=\"M 435.002931 663.340414 \nL 435.002931 658.428366 \n\" style=\"fill:none;stroke:#000000;stroke-linecap:square;\"/>\n   </g>\n   <g id=\"line2d_396\">\n    <path clip-path=\"url(#pda535593da)\" d=\"M 435.002931 663.340414 \nL 435.002931 658.428366 \n\" style=\"fill:none;stroke:#000000;stroke-linecap:square;\"/>\n   </g>\n   <g id=\"line2d_397\"/>\n   <g id=\"line2d_398\">\n    <path clip-path=\"url(#pda535593da)\" d=\"M 435.002931 646.148245 \nL 435.002931 636.324149 \nL 435.002931 636.324149 \nL 435.002931 646.148245 \nL 435.002931 646.148245 \n\" style=\"fill:none;stroke:#000000;stroke-linecap:square;\"/>\n   </g>\n   <g id=\"line2d_399\">\n    <path clip-path=\"url(#pda535593da)\" d=\"M 435.002931 641.236197 \nL 435.002931 641.236197 \n\" style=\"fill:none;stroke:#000000;stroke-linecap:square;\"/>\n   </g>\n   <g id=\"line2d_400\">\n    <path clip-path=\"url(#pda535593da)\" d=\"M 435.002931 641.236197 \nL 435.002931 641.236197 \n\" style=\"fill:none;stroke:#000000;stroke-linecap:square;\"/>\n   </g>\n   <g id=\"line2d_401\">\n    <path clip-path=\"url(#pda535593da)\" d=\"M 435.002931 643.692221 \nL 435.002931 638.780173 \n\" style=\"fill:none;stroke:#000000;stroke-linecap:square;\"/>\n   </g>\n   <g id=\"line2d_402\">\n    <path clip-path=\"url(#pda535593da)\" d=\"M 435.002931 643.692221 \nL 435.002931 638.780173 \n\" style=\"fill:none;stroke:#000000;stroke-linecap:square;\"/>\n   </g>\n   <g id=\"line2d_403\"/>\n   <g id=\"line2d_404\">\n    <path clip-path=\"url(#pda535593da)\" d=\"M 435.002931 626.500053 \nL 435.002931 616.675956 \nL 435.002931 616.675956 \nL 435.002931 626.500053 \nL 435.002931 626.500053 \n\" style=\"fill:none;stroke:#000000;stroke-linecap:square;\"/>\n   </g>\n   <g id=\"line2d_405\">\n    <path clip-path=\"url(#pda535593da)\" d=\"M 435.002931 621.588005 \nL 435.002931 621.588005 \n\" style=\"fill:none;stroke:#000000;stroke-linecap:square;\"/>\n   </g>\n   <g id=\"line2d_406\">\n    <path clip-path=\"url(#pda535593da)\" d=\"M 435.002931 621.588005 \nL 435.002931 621.588005 \n\" style=\"fill:none;stroke:#000000;stroke-linecap:square;\"/>\n   </g>\n   <g id=\"line2d_407\">\n    <path clip-path=\"url(#pda535593da)\" d=\"M 435.002931 624.044029 \nL 435.002931 619.13198 \n\" style=\"fill:none;stroke:#000000;stroke-linecap:square;\"/>\n   </g>\n   <g id=\"line2d_408\">\n    <path clip-path=\"url(#pda535593da)\" d=\"M 435.002931 624.044029 \nL 435.002931 619.13198 \n\" style=\"fill:none;stroke:#000000;stroke-linecap:square;\"/>\n   </g>\n   <g id=\"line2d_409\"/>\n   <g id=\"line2d_410\">\n    <path clip-path=\"url(#pda535593da)\" d=\"M 435.002931 606.85186 \nL 435.002931 597.027764 \nL 435.002931 597.027764 \nL 435.002931 606.85186 \nL 435.002931 606.85186 \n\" style=\"fill:none;stroke:#000000;stroke-linecap:square;\"/>\n   </g>\n   <g id=\"line2d_411\">\n    <path clip-path=\"url(#pda535593da)\" d=\"M 435.002931 601.939812 \nL 435.002931 601.939812 \n\" style=\"fill:none;stroke:#000000;stroke-linecap:square;\"/>\n   </g>\n   <g id=\"line2d_412\">\n    <path clip-path=\"url(#pda535593da)\" d=\"M 435.002931 601.939812 \nL 435.002931 601.939812 \n\" style=\"fill:none;stroke:#000000;stroke-linecap:square;\"/>\n   </g>\n   <g id=\"line2d_413\">\n    <path clip-path=\"url(#pda535593da)\" d=\"M 435.002931 604.395836 \nL 435.002931 599.483788 \n\" style=\"fill:none;stroke:#000000;stroke-linecap:square;\"/>\n   </g>\n   <g id=\"line2d_414\">\n    <path clip-path=\"url(#pda535593da)\" d=\"M 435.002931 604.395836 \nL 435.002931 599.483788 \n\" style=\"fill:none;stroke:#000000;stroke-linecap:square;\"/>\n   </g>\n   <g id=\"line2d_415\"/>\n   <g id=\"line2d_416\">\n    <path clip-path=\"url(#pda535593da)\" d=\"M 435.002931 587.203667 \nL 435.002931 577.379571 \nL 435.002931 577.379571 \nL 435.002931 587.203667 \nL 435.002931 587.203667 \n\" style=\"fill:none;stroke:#000000;stroke-linecap:square;\"/>\n   </g>\n   <g id=\"line2d_417\">\n    <path clip-path=\"url(#pda535593da)\" d=\"M 435.002931 582.291619 \nL 435.002931 582.291619 \n\" style=\"fill:none;stroke:#000000;stroke-linecap:square;\"/>\n   </g>\n   <g id=\"line2d_418\">\n    <path clip-path=\"url(#pda535593da)\" d=\"M 435.002931 582.291619 \nL 435.002931 582.291619 \n\" style=\"fill:none;stroke:#000000;stroke-linecap:square;\"/>\n   </g>\n   <g id=\"line2d_419\">\n    <path clip-path=\"url(#pda535593da)\" d=\"M 435.002931 584.747643 \nL 435.002931 579.835595 \n\" style=\"fill:none;stroke:#000000;stroke-linecap:square;\"/>\n   </g>\n   <g id=\"line2d_420\">\n    <path clip-path=\"url(#pda535593da)\" d=\"M 435.002931 584.747643 \nL 435.002931 579.835595 \n\" style=\"fill:none;stroke:#000000;stroke-linecap:square;\"/>\n   </g>\n   <g id=\"line2d_421\"/>\n   <g id=\"line2d_422\">\n    <path clip-path=\"url(#pda535593da)\" d=\"M 435.002931 567.555474 \nL 435.002931 557.731378 \nL 435.002931 557.731378 \nL 435.002931 567.555474 \nL 435.002931 567.555474 \n\" style=\"fill:none;stroke:#000000;stroke-linecap:square;\"/>\n   </g>\n   <g id=\"line2d_423\">\n    <path clip-path=\"url(#pda535593da)\" d=\"M 435.002931 562.643426 \nL 435.002931 562.643426 \n\" style=\"fill:none;stroke:#000000;stroke-linecap:square;\"/>\n   </g>\n   <g id=\"line2d_424\">\n    <path clip-path=\"url(#pda535593da)\" d=\"M 435.002931 562.643426 \nL 435.002931 562.643426 \n\" style=\"fill:none;stroke:#000000;stroke-linecap:square;\"/>\n   </g>\n   <g id=\"line2d_425\">\n    <path clip-path=\"url(#pda535593da)\" d=\"M 435.002931 565.09945 \nL 435.002931 560.187402 \n\" style=\"fill:none;stroke:#000000;stroke-linecap:square;\"/>\n   </g>\n   <g id=\"line2d_426\">\n    <path clip-path=\"url(#pda535593da)\" d=\"M 435.002931 565.09945 \nL 435.002931 560.187402 \n\" style=\"fill:none;stroke:#000000;stroke-linecap:square;\"/>\n   </g>\n   <g id=\"line2d_427\"/>\n   <g id=\"line2d_428\">\n    <path clip-path=\"url(#pda535593da)\" d=\"M 435.002931 547.907282 \nL 435.002931 538.083185 \nL 435.002931 538.083185 \nL 435.002931 547.907282 \nL 435.002931 547.907282 \n\" style=\"fill:none;stroke:#000000;stroke-linecap:square;\"/>\n   </g>\n   <g id=\"line2d_429\">\n    <path clip-path=\"url(#pda535593da)\" d=\"M 435.002931 542.995233 \nL 435.002931 542.995233 \n\" style=\"fill:none;stroke:#000000;stroke-linecap:square;\"/>\n   </g>\n   <g id=\"line2d_430\">\n    <path clip-path=\"url(#pda535593da)\" d=\"M 435.002931 542.995233 \nL 435.002931 542.995233 \n\" style=\"fill:none;stroke:#000000;stroke-linecap:square;\"/>\n   </g>\n   <g id=\"line2d_431\">\n    <path clip-path=\"url(#pda535593da)\" d=\"M 435.002931 545.451258 \nL 435.002931 540.539209 \n\" style=\"fill:none;stroke:#000000;stroke-linecap:square;\"/>\n   </g>\n   <g id=\"line2d_432\">\n    <path clip-path=\"url(#pda535593da)\" d=\"M 435.002931 545.451258 \nL 435.002931 540.539209 \n\" style=\"fill:none;stroke:#000000;stroke-linecap:square;\"/>\n   </g>\n   <g id=\"line2d_433\"/>\n   <g id=\"line2d_434\">\n    <path clip-path=\"url(#pda535593da)\" d=\"M 435.002931 528.259089 \nL 435.002931 518.434992 \nL 435.002931 518.434992 \nL 435.002931 528.259089 \nL 435.002931 528.259089 \n\" style=\"fill:none;stroke:#000000;stroke-linecap:square;\"/>\n   </g>\n   <g id=\"line2d_435\">\n    <path clip-path=\"url(#pda535593da)\" d=\"M 435.002931 523.347041 \nL 435.002931 523.347041 \n\" style=\"fill:none;stroke:#000000;stroke-linecap:square;\"/>\n   </g>\n   <g id=\"line2d_436\">\n    <path clip-path=\"url(#pda535593da)\" d=\"M 435.002931 523.347041 \nL 435.002931 523.347041 \n\" style=\"fill:none;stroke:#000000;stroke-linecap:square;\"/>\n   </g>\n   <g id=\"line2d_437\">\n    <path clip-path=\"url(#pda535593da)\" d=\"M 435.002931 525.803065 \nL 435.002931 520.891017 \n\" style=\"fill:none;stroke:#000000;stroke-linecap:square;\"/>\n   </g>\n   <g id=\"line2d_438\">\n    <path clip-path=\"url(#pda535593da)\" d=\"M 435.002931 525.803065 \nL 435.002931 520.891017 \n\" style=\"fill:none;stroke:#000000;stroke-linecap:square;\"/>\n   </g>\n   <g id=\"line2d_439\"/>\n   <g id=\"line2d_440\">\n    <path clip-path=\"url(#pda535593da)\" d=\"M 435.002931 508.610896 \nL 435.002931 498.7868 \nL 435.002931 498.7868 \nL 435.002931 508.610896 \nL 435.002931 508.610896 \n\" style=\"fill:none;stroke:#000000;stroke-linecap:square;\"/>\n   </g>\n   <g id=\"line2d_441\">\n    <path clip-path=\"url(#pda535593da)\" d=\"M 435.002931 503.698848 \nL 435.002931 503.698848 \n\" style=\"fill:none;stroke:#000000;stroke-linecap:square;\"/>\n   </g>\n   <g id=\"line2d_442\">\n    <path clip-path=\"url(#pda535593da)\" d=\"M 435.002931 503.698848 \nL 435.002931 503.698848 \n\" style=\"fill:none;stroke:#000000;stroke-linecap:square;\"/>\n   </g>\n   <g id=\"line2d_443\">\n    <path clip-path=\"url(#pda535593da)\" d=\"M 435.002931 506.154872 \nL 435.002931 501.242824 \n\" style=\"fill:none;stroke:#000000;stroke-linecap:square;\"/>\n   </g>\n   <g id=\"line2d_444\">\n    <path clip-path=\"url(#pda535593da)\" d=\"M 435.002931 506.154872 \nL 435.002931 501.242824 \n\" style=\"fill:none;stroke:#000000;stroke-linecap:square;\"/>\n   </g>\n   <g id=\"line2d_445\"/>\n   <g id=\"line2d_446\">\n    <path clip-path=\"url(#pda535593da)\" d=\"M 435.002931 488.962703 \nL 435.002931 479.138607 \nL 435.002931 479.138607 \nL 435.002931 488.962703 \nL 435.002931 488.962703 \n\" style=\"fill:none;stroke:#000000;stroke-linecap:square;\"/>\n   </g>\n   <g id=\"line2d_447\">\n    <path clip-path=\"url(#pda535593da)\" d=\"M 435.002931 484.050655 \nL 435.002931 484.050655 \n\" style=\"fill:none;stroke:#000000;stroke-linecap:square;\"/>\n   </g>\n   <g id=\"line2d_448\">\n    <path clip-path=\"url(#pda535593da)\" d=\"M 435.002931 484.050655 \nL 435.002931 484.050655 \n\" style=\"fill:none;stroke:#000000;stroke-linecap:square;\"/>\n   </g>\n   <g id=\"line2d_449\">\n    <path clip-path=\"url(#pda535593da)\" d=\"M 435.002931 486.506679 \nL 435.002931 481.594631 \n\" style=\"fill:none;stroke:#000000;stroke-linecap:square;\"/>\n   </g>\n   <g id=\"line2d_450\">\n    <path clip-path=\"url(#pda535593da)\" d=\"M 435.002931 486.506679 \nL 435.002931 481.594631 \n\" style=\"fill:none;stroke:#000000;stroke-linecap:square;\"/>\n   </g>\n   <g id=\"line2d_451\"/>\n   <g id=\"line2d_452\">\n    <path clip-path=\"url(#pda535593da)\" d=\"M 435.002931 469.314511 \nL 435.002931 459.490414 \nL 435.002931 459.490414 \nL 435.002931 469.314511 \nL 435.002931 469.314511 \n\" style=\"fill:none;stroke:#000000;stroke-linecap:square;\"/>\n   </g>\n   <g id=\"line2d_453\">\n    <path clip-path=\"url(#pda535593da)\" d=\"M 435.002931 464.402462 \nL 435.002931 464.402462 \n\" style=\"fill:none;stroke:#000000;stroke-linecap:square;\"/>\n   </g>\n   <g id=\"line2d_454\">\n    <path clip-path=\"url(#pda535593da)\" d=\"M 435.002931 464.402462 \nL 435.002931 464.402462 \n\" style=\"fill:none;stroke:#000000;stroke-linecap:square;\"/>\n   </g>\n   <g id=\"line2d_455\">\n    <path clip-path=\"url(#pda535593da)\" d=\"M 435.002931 466.858486 \nL 435.002931 461.946438 \n\" style=\"fill:none;stroke:#000000;stroke-linecap:square;\"/>\n   </g>\n   <g id=\"line2d_456\">\n    <path clip-path=\"url(#pda535593da)\" d=\"M 435.002931 466.858486 \nL 435.002931 461.946438 \n\" style=\"fill:none;stroke:#000000;stroke-linecap:square;\"/>\n   </g>\n   <g id=\"line2d_457\"/>\n   <g id=\"line2d_458\">\n    <path clip-path=\"url(#pda535593da)\" d=\"M 435.002931 449.666318 \nL 435.002931 439.842221 \nL 435.002931 439.842221 \nL 435.002931 449.666318 \nL 435.002931 449.666318 \n\" style=\"fill:none;stroke:#000000;stroke-linecap:square;\"/>\n   </g>\n   <g id=\"line2d_459\">\n    <path clip-path=\"url(#pda535593da)\" d=\"M 435.002931 444.75427 \nL 435.002931 444.75427 \n\" style=\"fill:none;stroke:#000000;stroke-linecap:square;\"/>\n   </g>\n   <g id=\"line2d_460\">\n    <path clip-path=\"url(#pda535593da)\" d=\"M 435.002931 444.75427 \nL 435.002931 444.75427 \n\" style=\"fill:none;stroke:#000000;stroke-linecap:square;\"/>\n   </g>\n   <g id=\"line2d_461\">\n    <path clip-path=\"url(#pda535593da)\" d=\"M 435.002931 447.210294 \nL 435.002931 442.298245 \n\" style=\"fill:none;stroke:#000000;stroke-linecap:square;\"/>\n   </g>\n   <g id=\"line2d_462\">\n    <path clip-path=\"url(#pda535593da)\" d=\"M 435.002931 447.210294 \nL 435.002931 442.298245 \n\" style=\"fill:none;stroke:#000000;stroke-linecap:square;\"/>\n   </g>\n   <g id=\"line2d_463\"/>\n   <g id=\"line2d_464\">\n    <path clip-path=\"url(#pda535593da)\" d=\"M 435.002931 430.018125 \nL 435.002931 420.194029 \nL 435.002931 420.194029 \nL 435.002931 430.018125 \nL 435.002931 430.018125 \n\" style=\"fill:none;stroke:#000000;stroke-linecap:square;\"/>\n   </g>\n   <g id=\"line2d_465\">\n    <path clip-path=\"url(#pda535593da)\" d=\"M 435.002931 425.106077 \nL 435.002931 425.106077 \n\" style=\"fill:none;stroke:#000000;stroke-linecap:square;\"/>\n   </g>\n   <g id=\"line2d_466\">\n    <path clip-path=\"url(#pda535593da)\" d=\"M 435.002931 425.106077 \nL 435.002931 425.106077 \n\" style=\"fill:none;stroke:#000000;stroke-linecap:square;\"/>\n   </g>\n   <g id=\"line2d_467\">\n    <path clip-path=\"url(#pda535593da)\" d=\"M 435.002931 427.562101 \nL 435.002931 422.650053 \n\" style=\"fill:none;stroke:#000000;stroke-linecap:square;\"/>\n   </g>\n   <g id=\"line2d_468\">\n    <path clip-path=\"url(#pda535593da)\" d=\"M 435.002931 427.562101 \nL 435.002931 422.650053 \n\" style=\"fill:none;stroke:#000000;stroke-linecap:square;\"/>\n   </g>\n   <g id=\"line2d_469\"/>\n   <g id=\"line2d_470\">\n    <path clip-path=\"url(#pda535593da)\" d=\"M 435.002931 410.369932 \nL 435.002931 400.545836 \nL 435.002931 400.545836 \nL 435.002931 410.369932 \nL 435.002931 410.369932 \n\" style=\"fill:none;stroke:#000000;stroke-linecap:square;\"/>\n   </g>\n   <g id=\"line2d_471\">\n    <path clip-path=\"url(#pda535593da)\" d=\"M 435.002931 405.457884 \nL 435.002931 405.457884 \n\" style=\"fill:none;stroke:#000000;stroke-linecap:square;\"/>\n   </g>\n   <g id=\"line2d_472\">\n    <path clip-path=\"url(#pda535593da)\" d=\"M 435.002931 405.457884 \nL 435.002931 405.457884 \n\" style=\"fill:none;stroke:#000000;stroke-linecap:square;\"/>\n   </g>\n   <g id=\"line2d_473\">\n    <path clip-path=\"url(#pda535593da)\" d=\"M 435.002931 407.913908 \nL 435.002931 403.00186 \n\" style=\"fill:none;stroke:#000000;stroke-linecap:square;\"/>\n   </g>\n   <g id=\"line2d_474\">\n    <path clip-path=\"url(#pda535593da)\" d=\"M 435.002931 407.913908 \nL 435.002931 403.00186 \n\" style=\"fill:none;stroke:#000000;stroke-linecap:square;\"/>\n   </g>\n   <g id=\"line2d_475\"/>\n   <g id=\"line2d_476\">\n    <path clip-path=\"url(#pda535593da)\" d=\"M 435.002931 390.721739 \nL 435.002931 380.897643 \nL 435.002931 380.897643 \nL 435.002931 390.721739 \nL 435.002931 390.721739 \n\" style=\"fill:none;stroke:#000000;stroke-linecap:square;\"/>\n   </g>\n   <g id=\"line2d_477\">\n    <path clip-path=\"url(#pda535593da)\" d=\"M 435.002931 385.809691 \nL 435.002931 385.809691 \n\" style=\"fill:none;stroke:#000000;stroke-linecap:square;\"/>\n   </g>\n   <g id=\"line2d_478\">\n    <path clip-path=\"url(#pda535593da)\" d=\"M 435.002931 385.809691 \nL 435.002931 385.809691 \n\" style=\"fill:none;stroke:#000000;stroke-linecap:square;\"/>\n   </g>\n   <g id=\"line2d_479\">\n    <path clip-path=\"url(#pda535593da)\" d=\"M 435.002931 388.265715 \nL 435.002931 383.353667 \n\" style=\"fill:none;stroke:#000000;stroke-linecap:square;\"/>\n   </g>\n   <g id=\"line2d_480\">\n    <path clip-path=\"url(#pda535593da)\" d=\"M 435.002931 388.265715 \nL 435.002931 383.353667 \n\" style=\"fill:none;stroke:#000000;stroke-linecap:square;\"/>\n   </g>\n   <g id=\"line2d_481\"/>\n   <g id=\"line2d_482\">\n    <path clip-path=\"url(#pda535593da)\" d=\"M 435.002931 371.073547 \nL 435.002931 361.24945 \nL 435.002931 361.24945 \nL 435.002931 371.073547 \nL 435.002931 371.073547 \n\" style=\"fill:none;stroke:#000000;stroke-linecap:square;\"/>\n   </g>\n   <g id=\"line2d_483\">\n    <path clip-path=\"url(#pda535593da)\" d=\"M 435.002931 366.161498 \nL 435.002931 366.161498 \n\" style=\"fill:none;stroke:#000000;stroke-linecap:square;\"/>\n   </g>\n   <g id=\"line2d_484\">\n    <path clip-path=\"url(#pda535593da)\" d=\"M 435.002931 366.161498 \nL 435.002931 366.161498 \n\" style=\"fill:none;stroke:#000000;stroke-linecap:square;\"/>\n   </g>\n   <g id=\"line2d_485\">\n    <path clip-path=\"url(#pda535593da)\" d=\"M 435.002931 368.617523 \nL 435.002931 363.705474 \n\" style=\"fill:none;stroke:#000000;stroke-linecap:square;\"/>\n   </g>\n   <g id=\"line2d_486\">\n    <path clip-path=\"url(#pda535593da)\" d=\"M 435.002931 368.617523 \nL 435.002931 363.705474 \n\" style=\"fill:none;stroke:#000000;stroke-linecap:square;\"/>\n   </g>\n   <g id=\"line2d_487\"/>\n   <g id=\"line2d_488\">\n    <path clip-path=\"url(#pda535593da)\" d=\"M 435.002931 351.425354 \nL 435.002931 341.601258 \nL 435.002931 341.601258 \nL 435.002931 351.425354 \nL 435.002931 351.425354 \n\" style=\"fill:none;stroke:#000000;stroke-linecap:square;\"/>\n   </g>\n   <g id=\"line2d_489\">\n    <path clip-path=\"url(#pda535593da)\" d=\"M 435.002931 346.513306 \nL 435.002931 346.513306 \n\" style=\"fill:none;stroke:#000000;stroke-linecap:square;\"/>\n   </g>\n   <g id=\"line2d_490\">\n    <path clip-path=\"url(#pda535593da)\" d=\"M 435.002931 346.513306 \nL 435.002931 346.513306 \n\" style=\"fill:none;stroke:#000000;stroke-linecap:square;\"/>\n   </g>\n   <g id=\"line2d_491\">\n    <path clip-path=\"url(#pda535593da)\" d=\"M 435.002931 348.96933 \nL 435.002931 344.057282 \n\" style=\"fill:none;stroke:#000000;stroke-linecap:square;\"/>\n   </g>\n   <g id=\"line2d_492\">\n    <path clip-path=\"url(#pda535593da)\" d=\"M 435.002931 348.96933 \nL 435.002931 344.057282 \n\" style=\"fill:none;stroke:#000000;stroke-linecap:square;\"/>\n   </g>\n   <g id=\"line2d_493\"/>\n   <g id=\"line2d_494\">\n    <path clip-path=\"url(#pda535593da)\" d=\"M 435.002931 331.777161 \nL 435.002931 321.953065 \nL 435.002931 321.953065 \nL 435.002931 331.777161 \nL 435.002931 331.777161 \n\" style=\"fill:none;stroke:#000000;stroke-linecap:square;\"/>\n   </g>\n   <g id=\"line2d_495\">\n    <path clip-path=\"url(#pda535593da)\" d=\"M 435.002931 326.865113 \nL 435.002931 326.865113 \n\" style=\"fill:none;stroke:#000000;stroke-linecap:square;\"/>\n   </g>\n   <g id=\"line2d_496\">\n    <path clip-path=\"url(#pda535593da)\" d=\"M 435.002931 326.865113 \nL 435.002931 326.865113 \n\" style=\"fill:none;stroke:#000000;stroke-linecap:square;\"/>\n   </g>\n   <g id=\"line2d_497\">\n    <path clip-path=\"url(#pda535593da)\" d=\"M 435.002931 329.321137 \nL 435.002931 324.409089 \n\" style=\"fill:none;stroke:#000000;stroke-linecap:square;\"/>\n   </g>\n   <g id=\"line2d_498\">\n    <path clip-path=\"url(#pda535593da)\" d=\"M 435.002931 329.321137 \nL 435.002931 324.409089 \n\" style=\"fill:none;stroke:#000000;stroke-linecap:square;\"/>\n   </g>\n   <g id=\"line2d_499\"/>\n   <g id=\"line2d_500\">\n    <path clip-path=\"url(#pda535593da)\" d=\"M 435.002931 312.128968 \nL 435.002931 302.304872 \nL 435.002931 302.304872 \nL 435.002931 312.128968 \nL 435.002931 312.128968 \n\" style=\"fill:none;stroke:#000000;stroke-linecap:square;\"/>\n   </g>\n   <g id=\"line2d_501\">\n    <path clip-path=\"url(#pda535593da)\" d=\"M 435.002931 307.21692 \nL 435.002931 307.21692 \n\" style=\"fill:none;stroke:#000000;stroke-linecap:square;\"/>\n   </g>\n   <g id=\"line2d_502\">\n    <path clip-path=\"url(#pda535593da)\" d=\"M 435.002931 307.21692 \nL 435.002931 307.21692 \n\" style=\"fill:none;stroke:#000000;stroke-linecap:square;\"/>\n   </g>\n   <g id=\"line2d_503\">\n    <path clip-path=\"url(#pda535593da)\" d=\"M 435.002931 309.672944 \nL 435.002931 304.760896 \n\" style=\"fill:none;stroke:#000000;stroke-linecap:square;\"/>\n   </g>\n   <g id=\"line2d_504\">\n    <path clip-path=\"url(#pda535593da)\" d=\"M 435.002931 309.672944 \nL 435.002931 304.760896 \n\" style=\"fill:none;stroke:#000000;stroke-linecap:square;\"/>\n   </g>\n   <g id=\"line2d_505\"/>\n   <g id=\"line2d_506\">\n    <path clip-path=\"url(#pda535593da)\" d=\"M 435.002931 292.480776 \nL 435.002931 282.656679 \nL 435.002931 282.656679 \nL 435.002931 292.480776 \nL 435.002931 292.480776 \n\" style=\"fill:none;stroke:#000000;stroke-linecap:square;\"/>\n   </g>\n   <g id=\"line2d_507\">\n    <path clip-path=\"url(#pda535593da)\" d=\"M 435.002931 287.568727 \nL 435.002931 287.568727 \n\" style=\"fill:none;stroke:#000000;stroke-linecap:square;\"/>\n   </g>\n   <g id=\"line2d_508\">\n    <path clip-path=\"url(#pda535593da)\" d=\"M 435.002931 287.568727 \nL 435.002931 287.568727 \n\" style=\"fill:none;stroke:#000000;stroke-linecap:square;\"/>\n   </g>\n   <g id=\"line2d_509\">\n    <path clip-path=\"url(#pda535593da)\" d=\"M 435.002931 290.024752 \nL 435.002931 285.112703 \n\" style=\"fill:none;stroke:#000000;stroke-linecap:square;\"/>\n   </g>\n   <g id=\"line2d_510\">\n    <path clip-path=\"url(#pda535593da)\" d=\"M 435.002931 290.024752 \nL 435.002931 285.112703 \n\" style=\"fill:none;stroke:#000000;stroke-linecap:square;\"/>\n   </g>\n   <g id=\"line2d_511\"/>\n   <g id=\"line2d_512\">\n    <path clip-path=\"url(#pda535593da)\" d=\"M 435.002931 272.832583 \nL 435.002931 263.008486 \nL 435.002931 263.008486 \nL 435.002931 272.832583 \nL 435.002931 272.832583 \n\" style=\"fill:none;stroke:#000000;stroke-linecap:square;\"/>\n   </g>\n   <g id=\"line2d_513\">\n    <path clip-path=\"url(#pda535593da)\" d=\"M 435.002931 267.920535 \nL 435.002931 267.920535 \n\" style=\"fill:none;stroke:#000000;stroke-linecap:square;\"/>\n   </g>\n   <g id=\"line2d_514\">\n    <path clip-path=\"url(#pda535593da)\" d=\"M 435.002931 267.920535 \nL 435.002931 267.920535 \n\" style=\"fill:none;stroke:#000000;stroke-linecap:square;\"/>\n   </g>\n   <g id=\"line2d_515\">\n    <path clip-path=\"url(#pda535593da)\" d=\"M 435.002931 270.376559 \nL 435.002931 265.464511 \n\" style=\"fill:none;stroke:#000000;stroke-linecap:square;\"/>\n   </g>\n   <g id=\"line2d_516\">\n    <path clip-path=\"url(#pda535593da)\" d=\"M 435.002931 270.376559 \nL 435.002931 265.464511 \n\" style=\"fill:none;stroke:#000000;stroke-linecap:square;\"/>\n   </g>\n   <g id=\"line2d_517\"/>\n   <g id=\"line2d_518\">\n    <path clip-path=\"url(#pda535593da)\" d=\"M 435.002931 253.18439 \nL 435.002931 243.360294 \nL 435.002931 243.360294 \nL 435.002931 253.18439 \nL 435.002931 253.18439 \n\" style=\"fill:none;stroke:#000000;stroke-linecap:square;\"/>\n   </g>\n   <g id=\"line2d_519\">\n    <path clip-path=\"url(#pda535593da)\" d=\"M 435.002931 248.272342 \nL 435.002931 248.272342 \n\" style=\"fill:none;stroke:#000000;stroke-linecap:square;\"/>\n   </g>\n   <g id=\"line2d_520\">\n    <path clip-path=\"url(#pda535593da)\" d=\"M 435.002931 248.272342 \nL 435.002931 248.272342 \n\" style=\"fill:none;stroke:#000000;stroke-linecap:square;\"/>\n   </g>\n   <g id=\"line2d_521\">\n    <path clip-path=\"url(#pda535593da)\" d=\"M 435.002931 250.728366 \nL 435.002931 245.816318 \n\" style=\"fill:none;stroke:#000000;stroke-linecap:square;\"/>\n   </g>\n   <g id=\"line2d_522\">\n    <path clip-path=\"url(#pda535593da)\" d=\"M 435.002931 250.728366 \nL 435.002931 245.816318 \n\" style=\"fill:none;stroke:#000000;stroke-linecap:square;\"/>\n   </g>\n   <g id=\"line2d_523\"/>\n   <g id=\"line2d_524\">\n    <path clip-path=\"url(#pda535593da)\" d=\"M 435.002931 233.536197 \nL 435.002931 223.712101 \nL 435.002931 223.712101 \nL 435.002931 233.536197 \nL 435.002931 233.536197 \n\" style=\"fill:none;stroke:#000000;stroke-linecap:square;\"/>\n   </g>\n   <g id=\"line2d_525\">\n    <path clip-path=\"url(#pda535593da)\" d=\"M 435.002931 228.624149 \nL 435.002931 228.624149 \n\" style=\"fill:none;stroke:#000000;stroke-linecap:square;\"/>\n   </g>\n   <g id=\"line2d_526\">\n    <path clip-path=\"url(#pda535593da)\" d=\"M 435.002931 228.624149 \nL 435.002931 228.624149 \n\" style=\"fill:none;stroke:#000000;stroke-linecap:square;\"/>\n   </g>\n   <g id=\"line2d_527\">\n    <path clip-path=\"url(#pda535593da)\" d=\"M 435.002931 231.080173 \nL 435.002931 226.168125 \n\" style=\"fill:none;stroke:#000000;stroke-linecap:square;\"/>\n   </g>\n   <g id=\"line2d_528\">\n    <path clip-path=\"url(#pda535593da)\" d=\"M 435.002931 231.080173 \nL 435.002931 226.168125 \n\" style=\"fill:none;stroke:#000000;stroke-linecap:square;\"/>\n   </g>\n   <g id=\"line2d_529\"/>\n   <g id=\"line2d_530\">\n    <path clip-path=\"url(#pda535593da)\" d=\"M 435.002931 213.888005 \nL 435.002931 204.063908 \nL 435.002931 204.063908 \nL 435.002931 213.888005 \nL 435.002931 213.888005 \n\" style=\"fill:none;stroke:#000000;stroke-linecap:square;\"/>\n   </g>\n   <g id=\"line2d_531\">\n    <path clip-path=\"url(#pda535593da)\" d=\"M 435.002931 208.975956 \nL 435.002931 208.975956 \n\" style=\"fill:none;stroke:#000000;stroke-linecap:square;\"/>\n   </g>\n   <g id=\"line2d_532\">\n    <path clip-path=\"url(#pda535593da)\" d=\"M 435.002931 208.975956 \nL 435.002931 208.975956 \n\" style=\"fill:none;stroke:#000000;stroke-linecap:square;\"/>\n   </g>\n   <g id=\"line2d_533\">\n    <path clip-path=\"url(#pda535593da)\" d=\"M 435.002931 211.43198 \nL 435.002931 206.519932 \n\" style=\"fill:none;stroke:#000000;stroke-linecap:square;\"/>\n   </g>\n   <g id=\"line2d_534\">\n    <path clip-path=\"url(#pda535593da)\" d=\"M 435.002931 211.43198 \nL 435.002931 206.519932 \n\" style=\"fill:none;stroke:#000000;stroke-linecap:square;\"/>\n   </g>\n   <g id=\"line2d_535\"/>\n   <g id=\"line2d_536\">\n    <path clip-path=\"url(#pda535593da)\" d=\"M 435.002931 194.239812 \nL 435.002931 184.415715 \nL 435.002931 184.415715 \nL 435.002931 194.239812 \nL 435.002931 194.239812 \n\" style=\"fill:none;stroke:#000000;stroke-linecap:square;\"/>\n   </g>\n   <g id=\"line2d_537\">\n    <path clip-path=\"url(#pda535593da)\" d=\"M 435.002931 189.327764 \nL 435.002931 189.327764 \n\" style=\"fill:none;stroke:#000000;stroke-linecap:square;\"/>\n   </g>\n   <g id=\"line2d_538\">\n    <path clip-path=\"url(#pda535593da)\" d=\"M 435.002931 189.327764 \nL 435.002931 189.327764 \n\" style=\"fill:none;stroke:#000000;stroke-linecap:square;\"/>\n   </g>\n   <g id=\"line2d_539\">\n    <path clip-path=\"url(#pda535593da)\" d=\"M 435.002931 191.783788 \nL 435.002931 186.871739 \n\" style=\"fill:none;stroke:#000000;stroke-linecap:square;\"/>\n   </g>\n   <g id=\"line2d_540\">\n    <path clip-path=\"url(#pda535593da)\" d=\"M 435.002931 191.783788 \nL 435.002931 186.871739 \n\" style=\"fill:none;stroke:#000000;stroke-linecap:square;\"/>\n   </g>\n   <g id=\"line2d_541\"/>\n   <g id=\"line2d_542\">\n    <path clip-path=\"url(#pda535593da)\" d=\"M 435.002931 174.591619 \nL 435.002931 164.767523 \nL 435.002931 164.767523 \nL 435.002931 174.591619 \nL 435.002931 174.591619 \n\" style=\"fill:none;stroke:#000000;stroke-linecap:square;\"/>\n   </g>\n   <g id=\"line2d_543\">\n    <path clip-path=\"url(#pda535593da)\" d=\"M 435.002931 169.679571 \nL 435.002931 169.679571 \n\" style=\"fill:none;stroke:#000000;stroke-linecap:square;\"/>\n   </g>\n   <g id=\"line2d_544\">\n    <path clip-path=\"url(#pda535593da)\" d=\"M 435.002931 169.679571 \nL 435.002931 169.679571 \n\" style=\"fill:none;stroke:#000000;stroke-linecap:square;\"/>\n   </g>\n   <g id=\"line2d_545\">\n    <path clip-path=\"url(#pda535593da)\" d=\"M 435.002931 172.135595 \nL 435.002931 167.223547 \n\" style=\"fill:none;stroke:#000000;stroke-linecap:square;\"/>\n   </g>\n   <g id=\"line2d_546\">\n    <path clip-path=\"url(#pda535593da)\" d=\"M 435.002931 172.135595 \nL 435.002931 167.223547 \n\" style=\"fill:none;stroke:#000000;stroke-linecap:square;\"/>\n   </g>\n   <g id=\"line2d_547\"/>\n   <g id=\"line2d_548\">\n    <path clip-path=\"url(#pda535593da)\" d=\"M 435.002931 154.943426 \nL 435.002931 145.11933 \nL 435.002931 145.11933 \nL 435.002931 154.943426 \nL 435.002931 154.943426 \n\" style=\"fill:none;stroke:#000000;stroke-linecap:square;\"/>\n   </g>\n   <g id=\"line2d_549\">\n    <path clip-path=\"url(#pda535593da)\" d=\"M 435.002931 150.031378 \nL 435.002931 150.031378 \n\" style=\"fill:none;stroke:#000000;stroke-linecap:square;\"/>\n   </g>\n   <g id=\"line2d_550\">\n    <path clip-path=\"url(#pda535593da)\" d=\"M 435.002931 150.031378 \nL 435.002931 150.031378 \n\" style=\"fill:none;stroke:#000000;stroke-linecap:square;\"/>\n   </g>\n   <g id=\"line2d_551\">\n    <path clip-path=\"url(#pda535593da)\" d=\"M 435.002931 152.487402 \nL 435.002931 147.575354 \n\" style=\"fill:none;stroke:#000000;stroke-linecap:square;\"/>\n   </g>\n   <g id=\"line2d_552\">\n    <path clip-path=\"url(#pda535593da)\" d=\"M 435.002931 152.487402 \nL 435.002931 147.575354 \n\" style=\"fill:none;stroke:#000000;stroke-linecap:square;\"/>\n   </g>\n   <g id=\"line2d_553\"/>\n   <g id=\"line2d_554\">\n    <path clip-path=\"url(#pda535593da)\" d=\"M 435.002931 135.295233 \nL 435.002931 125.471137 \nL 435.002931 125.471137 \nL 435.002931 135.295233 \nL 435.002931 135.295233 \n\" style=\"fill:none;stroke:#000000;stroke-linecap:square;\"/>\n   </g>\n   <g id=\"line2d_555\">\n    <path clip-path=\"url(#pda535593da)\" d=\"M 435.002931 130.383185 \nL 435.002931 130.383185 \n\" style=\"fill:none;stroke:#000000;stroke-linecap:square;\"/>\n   </g>\n   <g id=\"line2d_556\">\n    <path clip-path=\"url(#pda535593da)\" d=\"M 435.002931 130.383185 \nL 435.002931 130.383185 \n\" style=\"fill:none;stroke:#000000;stroke-linecap:square;\"/>\n   </g>\n   <g id=\"line2d_557\">\n    <path clip-path=\"url(#pda535593da)\" d=\"M 435.002931 132.839209 \nL 435.002931 127.927161 \n\" style=\"fill:none;stroke:#000000;stroke-linecap:square;\"/>\n   </g>\n   <g id=\"line2d_558\">\n    <path clip-path=\"url(#pda535593da)\" d=\"M 435.002931 132.839209 \nL 435.002931 127.927161 \n\" style=\"fill:none;stroke:#000000;stroke-linecap:square;\"/>\n   </g>\n   <g id=\"line2d_559\"/>\n   <g id=\"line2d_560\">\n    <path clip-path=\"url(#pda535593da)\" d=\"M 435.002931 115.647041 \nL 435.002931 105.822944 \nL 435.002931 105.822944 \nL 435.002931 115.647041 \nL 435.002931 115.647041 \n\" style=\"fill:none;stroke:#000000;stroke-linecap:square;\"/>\n   </g>\n   <g id=\"line2d_561\">\n    <path clip-path=\"url(#pda535593da)\" d=\"M 435.002931 110.734992 \nL 435.002931 110.734992 \n\" style=\"fill:none;stroke:#000000;stroke-linecap:square;\"/>\n   </g>\n   <g id=\"line2d_562\">\n    <path clip-path=\"url(#pda535593da)\" d=\"M 435.002931 110.734992 \nL 435.002931 110.734992 \n\" style=\"fill:none;stroke:#000000;stroke-linecap:square;\"/>\n   </g>\n   <g id=\"line2d_563\">\n    <path clip-path=\"url(#pda535593da)\" d=\"M 435.002931 113.191017 \nL 435.002931 108.278968 \n\" style=\"fill:none;stroke:#000000;stroke-linecap:square;\"/>\n   </g>\n   <g id=\"line2d_564\">\n    <path clip-path=\"url(#pda535593da)\" d=\"M 435.002931 113.191017 \nL 435.002931 108.278968 \n\" style=\"fill:none;stroke:#000000;stroke-linecap:square;\"/>\n   </g>\n   <g id=\"line2d_565\">\n    <defs>\n     <path d=\"M 0 3 \nC 0.795609 3 1.55874 2.683901 2.12132 2.12132 \nC 2.683901 1.55874 3 0.795609 3 0 \nC 3 -0.795609 2.683901 -1.55874 2.12132 -2.12132 \nC 1.55874 -2.683901 0.795609 -3 0 -3 \nC -0.795609 -3 -1.55874 -2.683901 -2.12132 -2.12132 \nC -2.683901 -1.55874 -3 -0.795609 -3 0 \nC -3 0.795609 -2.683901 1.55874 -2.12132 2.12132 \nC -1.55874 2.683901 -0.795609 3 0 3 \nz\n\" id=\"m65f5717523\" style=\"stroke:#000000;\"/>\n    </defs>\n    <g clip-path=\"url(#pda535593da)\">\n     <use style=\"fill-opacity:0;stroke:#000000;\" x=\"481.118634\" xlink:href=\"#m65f5717523\" y=\"110.734992\"/>\n    </g>\n   </g>\n   <g id=\"line2d_566\">\n    <path clip-path=\"url(#pda535593da)\" d=\"M 481.118634 95.998848 \nL 481.118634 86.174752 \nL 481.118634 86.174752 \nL 481.118634 95.998848 \nL 481.118634 95.998848 \n\" style=\"fill:none;stroke:#000000;stroke-linecap:square;\"/>\n   </g>\n   <g id=\"line2d_567\">\n    <path clip-path=\"url(#pda535593da)\" d=\"M 481.118634 91.0868 \nL 481.118634 91.0868 \n\" style=\"fill:none;stroke:#000000;stroke-linecap:square;\"/>\n   </g>\n   <g id=\"line2d_568\">\n    <path clip-path=\"url(#pda535593da)\" d=\"M 481.118634 91.0868 \nL 481.118634 91.0868 \n\" style=\"fill:none;stroke:#000000;stroke-linecap:square;\"/>\n   </g>\n   <g id=\"line2d_569\">\n    <path clip-path=\"url(#pda535593da)\" d=\"M 481.118634 93.542824 \nL 481.118634 88.630776 \n\" style=\"fill:none;stroke:#000000;stroke-linecap:square;\"/>\n   </g>\n   <g id=\"line2d_570\">\n    <path clip-path=\"url(#pda535593da)\" d=\"M 481.118634 93.542824 \nL 481.118634 88.630776 \n\" style=\"fill:none;stroke:#000000;stroke-linecap:square;\"/>\n   </g>\n   <g id=\"line2d_571\">\n    <g clip-path=\"url(#pda535593da)\">\n     <use style=\"fill-opacity:0;stroke:#000000;\" x=\"435.002931\" xlink:href=\"#m65f5717523\" y=\"91.0868\"/>\n     <use style=\"fill-opacity:0;stroke:#000000;\" x=\"527.234336\" xlink:href=\"#m65f5717523\" y=\"91.0868\"/>\n    </g>\n   </g>\n   <g id=\"line2d_572\">\n    <path clip-path=\"url(#pda535593da)\" d=\"M 527.234336 76.350655 \nL 527.234336 66.526559 \nL 573.350039 66.526559 \nL 573.350039 76.350655 \nL 527.234336 76.350655 \n\" style=\"fill:none;stroke:#000000;stroke-linecap:square;\"/>\n   </g>\n   <g id=\"line2d_573\">\n    <path clip-path=\"url(#pda535593da)\" d=\"M 527.234336 71.438607 \nL 527.234336 71.438607 \n\" style=\"fill:none;stroke:#000000;stroke-linecap:square;\"/>\n   </g>\n   <g id=\"line2d_574\">\n    <path clip-path=\"url(#pda535593da)\" d=\"M 573.350039 71.438607 \nL 619.465741 71.438607 \n\" style=\"fill:none;stroke:#000000;stroke-linecap:square;\"/>\n   </g>\n   <g id=\"line2d_575\">\n    <path clip-path=\"url(#pda535593da)\" d=\"M 527.234336 73.894631 \nL 527.234336 68.982583 \n\" style=\"fill:none;stroke:#000000;stroke-linecap:square;\"/>\n   </g>\n   <g id=\"line2d_576\">\n    <path clip-path=\"url(#pda535593da)\" d=\"M 619.465741 73.894631 \nL 619.465741 68.982583 \n\" style=\"fill:none;stroke:#000000;stroke-linecap:square;\"/>\n   </g>\n   <g id=\"line2d_577\">\n    <g clip-path=\"url(#pda535593da)\">\n     <use style=\"fill-opacity:0;stroke:#000000;\" x=\"342.771526\" xlink:href=\"#m65f5717523\" y=\"71.438607\"/>\n    </g>\n   </g>\n   <g id=\"line2d_578\">\n    <path clip-path=\"url(#pda535593da)\" d=\"M 619.465741 56.702462 \nL 619.465741 46.878366 \nL 711.697146 46.878366 \nL 711.697146 56.702462 \nL 619.465741 56.702462 \n\" style=\"fill:none;stroke:#000000;stroke-linecap:square;\"/>\n   </g>\n   <g id=\"line2d_579\">\n    <path clip-path=\"url(#pda535593da)\" d=\"M 619.465741 51.790414 \nL 481.118634 51.790414 \n\" style=\"fill:none;stroke:#000000;stroke-linecap:square;\"/>\n   </g>\n   <g id=\"line2d_580\">\n    <path clip-path=\"url(#pda535593da)\" d=\"M 711.697146 51.790414 \nL 711.697146 51.790414 \n\" style=\"fill:none;stroke:#000000;stroke-linecap:square;\"/>\n   </g>\n   <g id=\"line2d_581\">\n    <path clip-path=\"url(#pda535593da)\" d=\"M 481.118634 54.246438 \nL 481.118634 49.33439 \n\" style=\"fill:none;stroke:#000000;stroke-linecap:square;\"/>\n   </g>\n   <g id=\"line2d_582\">\n    <path clip-path=\"url(#pda535593da)\" d=\"M 711.697146 54.246438 \nL 711.697146 49.33439 \n\" style=\"fill:none;stroke:#000000;stroke-linecap:square;\"/>\n   </g>\n   <g id=\"line2d_583\"/>\n   <g id=\"line2d_584\">\n    <path clip-path=\"url(#pda535593da)\" d=\"M 619.465741 37.05427 \nL 619.465741 27.230173 \nL 711.697146 27.230173 \nL 711.697146 37.05427 \nL 619.465741 37.05427 \n\" style=\"fill:none;stroke:#000000;stroke-linecap:square;\"/>\n   </g>\n   <g id=\"line2d_585\">\n    <path clip-path=\"url(#pda535593da)\" d=\"M 619.465741 32.142221 \nL 527.234336 32.142221 \n\" style=\"fill:none;stroke:#000000;stroke-linecap:square;\"/>\n   </g>\n   <g id=\"line2d_586\">\n    <path clip-path=\"url(#pda535593da)\" d=\"M 711.697146 32.142221 \nL 803.928551 32.142221 \n\" style=\"fill:none;stroke:#000000;stroke-linecap:square;\"/>\n   </g>\n   <g id=\"line2d_587\">\n    <path clip-path=\"url(#pda535593da)\" d=\"M 527.234336 34.598245 \nL 527.234336 29.686197 \n\" style=\"fill:none;stroke:#000000;stroke-linecap:square;\"/>\n   </g>\n   <g id=\"line2d_588\">\n    <path clip-path=\"url(#pda535593da)\" d=\"M 803.928551 34.598245 \nL 803.928551 29.686197 \n\" style=\"fill:none;stroke:#000000;stroke-linecap:square;\"/>\n   </g>\n   <g id=\"line2d_589\"/>\n   <g id=\"line2d_590\">\n    <path clip-path=\"url(#pda535593da)\" d=\"M 296.655824 1648.206077 \nL 296.655824 1638.38198 \n\" style=\"fill:none;stroke:#ff7f0e;stroke-linecap:square;\"/>\n   </g>\n   <g id=\"line2d_591\">\n    <path clip-path=\"url(#pda535593da)\" d=\"M 388.887229 1628.557884 \nL 388.887229 1618.733788 \n\" style=\"fill:none;stroke:#ff7f0e;stroke-linecap:square;\"/>\n   </g>\n   <g id=\"line2d_592\">\n    <path clip-path=\"url(#pda535593da)\" d=\"M 435.002931 1608.909691 \nL 435.002931 1599.085595 \n\" style=\"fill:none;stroke:#ff7f0e;stroke-linecap:square;\"/>\n   </g>\n   <g id=\"line2d_593\">\n    <path clip-path=\"url(#pda535593da)\" d=\"M 435.002931 1589.261498 \nL 435.002931 1579.437402 \n\" style=\"fill:none;stroke:#ff7f0e;stroke-linecap:square;\"/>\n   </g>\n   <g id=\"line2d_594\">\n    <path clip-path=\"url(#pda535593da)\" d=\"M 435.002931 1569.613306 \nL 435.002931 1559.789209 \n\" style=\"fill:none;stroke:#ff7f0e;stroke-linecap:square;\"/>\n   </g>\n   <g id=\"line2d_595\">\n    <path clip-path=\"url(#pda535593da)\" d=\"M 435.002931 1549.965113 \nL 435.002931 1540.141017 \n\" style=\"fill:none;stroke:#ff7f0e;stroke-linecap:square;\"/>\n   </g>\n   <g id=\"line2d_596\">\n    <path clip-path=\"url(#pda535593da)\" d=\"M 435.002931 1530.31692 \nL 435.002931 1520.492824 \n\" style=\"fill:none;stroke:#ff7f0e;stroke-linecap:square;\"/>\n   </g>\n   <g id=\"line2d_597\">\n    <path clip-path=\"url(#pda535593da)\" d=\"M 435.002931 1510.668727 \nL 435.002931 1500.844631 \n\" style=\"fill:none;stroke:#ff7f0e;stroke-linecap:square;\"/>\n   </g>\n   <g id=\"line2d_598\">\n    <path clip-path=\"url(#pda535593da)\" d=\"M 435.002931 1491.020535 \nL 435.002931 1481.196438 \n\" style=\"fill:none;stroke:#ff7f0e;stroke-linecap:square;\"/>\n   </g>\n   <g id=\"line2d_599\">\n    <path clip-path=\"url(#pda535593da)\" d=\"M 435.002931 1471.372342 \nL 435.002931 1461.548245 \n\" style=\"fill:none;stroke:#ff7f0e;stroke-linecap:square;\"/>\n   </g>\n   <g id=\"line2d_600\">\n    <path clip-path=\"url(#pda535593da)\" d=\"M 435.002931 1451.724149 \nL 435.002931 1441.900053 \n\" style=\"fill:none;stroke:#ff7f0e;stroke-linecap:square;\"/>\n   </g>\n   <g id=\"line2d_601\">\n    <path clip-path=\"url(#pda535593da)\" d=\"M 435.002931 1432.075956 \nL 435.002931 1422.25186 \n\" style=\"fill:none;stroke:#ff7f0e;stroke-linecap:square;\"/>\n   </g>\n   <g id=\"line2d_602\">\n    <path clip-path=\"url(#pda535593da)\" d=\"M 435.002931 1412.427764 \nL 435.002931 1402.603667 \n\" style=\"fill:none;stroke:#ff7f0e;stroke-linecap:square;\"/>\n   </g>\n   <g id=\"line2d_603\">\n    <path clip-path=\"url(#pda535593da)\" d=\"M 435.002931 1392.779571 \nL 435.002931 1382.955474 \n\" style=\"fill:none;stroke:#ff7f0e;stroke-linecap:square;\"/>\n   </g>\n   <g id=\"line2d_604\">\n    <path clip-path=\"url(#pda535593da)\" d=\"M 435.002931 1373.131378 \nL 435.002931 1363.307282 \n\" style=\"fill:none;stroke:#ff7f0e;stroke-linecap:square;\"/>\n   </g>\n   <g id=\"line2d_605\">\n    <path clip-path=\"url(#pda535593da)\" d=\"M 435.002931 1353.483185 \nL 435.002931 1343.659089 \n\" style=\"fill:none;stroke:#ff7f0e;stroke-linecap:square;\"/>\n   </g>\n   <g id=\"line2d_606\">\n    <path clip-path=\"url(#pda535593da)\" d=\"M 435.002931 1333.834992 \nL 435.002931 1324.010896 \n\" style=\"fill:none;stroke:#ff7f0e;stroke-linecap:square;\"/>\n   </g>\n   <g id=\"line2d_607\">\n    <path clip-path=\"url(#pda535593da)\" d=\"M 435.002931 1314.1868 \nL 435.002931 1304.362703 \n\" style=\"fill:none;stroke:#ff7f0e;stroke-linecap:square;\"/>\n   </g>\n   <g id=\"line2d_608\">\n    <path clip-path=\"url(#pda535593da)\" d=\"M 435.002931 1294.538607 \nL 435.002931 1284.714511 \n\" style=\"fill:none;stroke:#ff7f0e;stroke-linecap:square;\"/>\n   </g>\n   <g id=\"line2d_609\">\n    <path clip-path=\"url(#pda535593da)\" d=\"M 435.002931 1274.890414 \nL 435.002931 1265.066318 \n\" style=\"fill:none;stroke:#ff7f0e;stroke-linecap:square;\"/>\n   </g>\n   <g id=\"line2d_610\">\n    <path clip-path=\"url(#pda535593da)\" d=\"M 435.002931 1255.242221 \nL 435.002931 1245.418125 \n\" style=\"fill:none;stroke:#ff7f0e;stroke-linecap:square;\"/>\n   </g>\n   <g id=\"line2d_611\">\n    <path clip-path=\"url(#pda535593da)\" d=\"M 435.002931 1235.594029 \nL 435.002931 1225.769932 \n\" style=\"fill:none;stroke:#ff7f0e;stroke-linecap:square;\"/>\n   </g>\n   <g id=\"line2d_612\">\n    <path clip-path=\"url(#pda535593da)\" d=\"M 435.002931 1215.945836 \nL 435.002931 1206.121739 \n\" style=\"fill:none;stroke:#ff7f0e;stroke-linecap:square;\"/>\n   </g>\n   <g id=\"line2d_613\">\n    <path clip-path=\"url(#pda535593da)\" d=\"M 435.002931 1196.297643 \nL 435.002931 1186.473547 \n\" style=\"fill:none;stroke:#ff7f0e;stroke-linecap:square;\"/>\n   </g>\n   <g id=\"line2d_614\">\n    <path clip-path=\"url(#pda535593da)\" d=\"M 435.002931 1176.64945 \nL 435.002931 1166.825354 \n\" style=\"fill:none;stroke:#ff7f0e;stroke-linecap:square;\"/>\n   </g>\n   <g id=\"line2d_615\">\n    <path clip-path=\"url(#pda535593da)\" d=\"M 435.002931 1157.001258 \nL 435.002931 1147.177161 \n\" style=\"fill:none;stroke:#ff7f0e;stroke-linecap:square;\"/>\n   </g>\n   <g id=\"line2d_616\">\n    <path clip-path=\"url(#pda535593da)\" d=\"M 435.002931 1137.353065 \nL 435.002931 1127.528968 \n\" style=\"fill:none;stroke:#ff7f0e;stroke-linecap:square;\"/>\n   </g>\n   <g id=\"line2d_617\">\n    <path clip-path=\"url(#pda535593da)\" d=\"M 435.002931 1117.704872 \nL 435.002931 1107.880776 \n\" style=\"fill:none;stroke:#ff7f0e;stroke-linecap:square;\"/>\n   </g>\n   <g id=\"line2d_618\">\n    <path clip-path=\"url(#pda535593da)\" d=\"M 435.002931 1098.056679 \nL 435.002931 1088.232583 \n\" style=\"fill:none;stroke:#ff7f0e;stroke-linecap:square;\"/>\n   </g>\n   <g id=\"line2d_619\">\n    <path clip-path=\"url(#pda535593da)\" d=\"M 435.002931 1078.408486 \nL 435.002931 1068.58439 \n\" style=\"fill:none;stroke:#ff7f0e;stroke-linecap:square;\"/>\n   </g>\n   <g id=\"line2d_620\">\n    <path clip-path=\"url(#pda535593da)\" d=\"M 435.002931 1058.760294 \nL 435.002931 1048.936197 \n\" style=\"fill:none;stroke:#ff7f0e;stroke-linecap:square;\"/>\n   </g>\n   <g id=\"line2d_621\">\n    <path clip-path=\"url(#pda535593da)\" d=\"M 435.002931 1039.112101 \nL 435.002931 1029.288005 \n\" style=\"fill:none;stroke:#ff7f0e;stroke-linecap:square;\"/>\n   </g>\n   <g id=\"line2d_622\">\n    <path clip-path=\"url(#pda535593da)\" d=\"M 435.002931 1019.463908 \nL 435.002931 1009.639812 \n\" style=\"fill:none;stroke:#ff7f0e;stroke-linecap:square;\"/>\n   </g>\n   <g id=\"line2d_623\">\n    <path clip-path=\"url(#pda535593da)\" d=\"M 435.002931 999.815715 \nL 435.002931 989.991619 \n\" style=\"fill:none;stroke:#ff7f0e;stroke-linecap:square;\"/>\n   </g>\n   <g id=\"line2d_624\">\n    <path clip-path=\"url(#pda535593da)\" d=\"M 435.002931 980.167523 \nL 435.002931 970.343426 \n\" style=\"fill:none;stroke:#ff7f0e;stroke-linecap:square;\"/>\n   </g>\n   <g id=\"line2d_625\">\n    <path clip-path=\"url(#pda535593da)\" d=\"M 435.002931 960.51933 \nL 435.002931 950.695233 \n\" style=\"fill:none;stroke:#ff7f0e;stroke-linecap:square;\"/>\n   </g>\n   <g id=\"line2d_626\">\n    <path clip-path=\"url(#pda535593da)\" d=\"M 435.002931 940.871137 \nL 435.002931 931.047041 \n\" style=\"fill:none;stroke:#ff7f0e;stroke-linecap:square;\"/>\n   </g>\n   <g id=\"line2d_627\">\n    <path clip-path=\"url(#pda535593da)\" d=\"M 435.002931 921.222944 \nL 435.002931 911.398848 \n\" style=\"fill:none;stroke:#ff7f0e;stroke-linecap:square;\"/>\n   </g>\n   <g id=\"line2d_628\">\n    <path clip-path=\"url(#pda535593da)\" d=\"M 435.002931 901.574752 \nL 435.002931 891.750655 \n\" style=\"fill:none;stroke:#ff7f0e;stroke-linecap:square;\"/>\n   </g>\n   <g id=\"line2d_629\">\n    <path clip-path=\"url(#pda535593da)\" d=\"M 435.002931 881.926559 \nL 435.002931 872.102462 \n\" style=\"fill:none;stroke:#ff7f0e;stroke-linecap:square;\"/>\n   </g>\n   <g id=\"line2d_630\">\n    <path clip-path=\"url(#pda535593da)\" d=\"M 435.002931 862.278366 \nL 435.002931 852.45427 \n\" style=\"fill:none;stroke:#ff7f0e;stroke-linecap:square;\"/>\n   </g>\n   <g id=\"line2d_631\">\n    <path clip-path=\"url(#pda535593da)\" d=\"M 435.002931 842.630173 \nL 435.002931 832.806077 \n\" style=\"fill:none;stroke:#ff7f0e;stroke-linecap:square;\"/>\n   </g>\n   <g id=\"line2d_632\">\n    <path clip-path=\"url(#pda535593da)\" d=\"M 435.002931 822.98198 \nL 435.002931 813.157884 \n\" style=\"fill:none;stroke:#ff7f0e;stroke-linecap:square;\"/>\n   </g>\n   <g id=\"line2d_633\">\n    <path clip-path=\"url(#pda535593da)\" d=\"M 435.002931 803.333788 \nL 435.002931 793.509691 \n\" style=\"fill:none;stroke:#ff7f0e;stroke-linecap:square;\"/>\n   </g>\n   <g id=\"line2d_634\">\n    <path clip-path=\"url(#pda535593da)\" d=\"M 435.002931 783.685595 \nL 435.002931 773.861498 \n\" style=\"fill:none;stroke:#ff7f0e;stroke-linecap:square;\"/>\n   </g>\n   <g id=\"line2d_635\">\n    <path clip-path=\"url(#pda535593da)\" d=\"M 435.002931 764.037402 \nL 435.002931 754.213306 \n\" style=\"fill:none;stroke:#ff7f0e;stroke-linecap:square;\"/>\n   </g>\n   <g id=\"line2d_636\">\n    <path clip-path=\"url(#pda535593da)\" d=\"M 435.002931 744.389209 \nL 435.002931 734.565113 \n\" style=\"fill:none;stroke:#ff7f0e;stroke-linecap:square;\"/>\n   </g>\n   <g id=\"line2d_637\">\n    <path clip-path=\"url(#pda535593da)\" d=\"M 435.002931 724.741017 \nL 435.002931 714.91692 \n\" style=\"fill:none;stroke:#ff7f0e;stroke-linecap:square;\"/>\n   </g>\n   <g id=\"line2d_638\">\n    <path clip-path=\"url(#pda535593da)\" d=\"M 435.002931 705.092824 \nL 435.002931 695.268727 \n\" style=\"fill:none;stroke:#ff7f0e;stroke-linecap:square;\"/>\n   </g>\n   <g id=\"line2d_639\">\n    <path clip-path=\"url(#pda535593da)\" d=\"M 435.002931 685.444631 \nL 435.002931 675.620535 \n\" style=\"fill:none;stroke:#ff7f0e;stroke-linecap:square;\"/>\n   </g>\n   <g id=\"line2d_640\">\n    <path clip-path=\"url(#pda535593da)\" d=\"M 435.002931 665.796438 \nL 435.002931 655.972342 \n\" style=\"fill:none;stroke:#ff7f0e;stroke-linecap:square;\"/>\n   </g>\n   <g id=\"line2d_641\">\n    <path clip-path=\"url(#pda535593da)\" d=\"M 435.002931 646.148245 \nL 435.002931 636.324149 \n\" style=\"fill:none;stroke:#ff7f0e;stroke-linecap:square;\"/>\n   </g>\n   <g id=\"line2d_642\">\n    <path clip-path=\"url(#pda535593da)\" d=\"M 435.002931 626.500053 \nL 435.002931 616.675956 \n\" style=\"fill:none;stroke:#ff7f0e;stroke-linecap:square;\"/>\n   </g>\n   <g id=\"line2d_643\">\n    <path clip-path=\"url(#pda535593da)\" d=\"M 435.002931 606.85186 \nL 435.002931 597.027764 \n\" style=\"fill:none;stroke:#ff7f0e;stroke-linecap:square;\"/>\n   </g>\n   <g id=\"line2d_644\">\n    <path clip-path=\"url(#pda535593da)\" d=\"M 435.002931 587.203667 \nL 435.002931 577.379571 \n\" style=\"fill:none;stroke:#ff7f0e;stroke-linecap:square;\"/>\n   </g>\n   <g id=\"line2d_645\">\n    <path clip-path=\"url(#pda535593da)\" d=\"M 435.002931 567.555474 \nL 435.002931 557.731378 \n\" style=\"fill:none;stroke:#ff7f0e;stroke-linecap:square;\"/>\n   </g>\n   <g id=\"line2d_646\">\n    <path clip-path=\"url(#pda535593da)\" d=\"M 435.002931 547.907282 \nL 435.002931 538.083185 \n\" style=\"fill:none;stroke:#ff7f0e;stroke-linecap:square;\"/>\n   </g>\n   <g id=\"line2d_647\">\n    <path clip-path=\"url(#pda535593da)\" d=\"M 435.002931 528.259089 \nL 435.002931 518.434992 \n\" style=\"fill:none;stroke:#ff7f0e;stroke-linecap:square;\"/>\n   </g>\n   <g id=\"line2d_648\">\n    <path clip-path=\"url(#pda535593da)\" d=\"M 435.002931 508.610896 \nL 435.002931 498.7868 \n\" style=\"fill:none;stroke:#ff7f0e;stroke-linecap:square;\"/>\n   </g>\n   <g id=\"line2d_649\">\n    <path clip-path=\"url(#pda535593da)\" d=\"M 435.002931 488.962703 \nL 435.002931 479.138607 \n\" style=\"fill:none;stroke:#ff7f0e;stroke-linecap:square;\"/>\n   </g>\n   <g id=\"line2d_650\">\n    <path clip-path=\"url(#pda535593da)\" d=\"M 435.002931 469.314511 \nL 435.002931 459.490414 \n\" style=\"fill:none;stroke:#ff7f0e;stroke-linecap:square;\"/>\n   </g>\n   <g id=\"line2d_651\">\n    <path clip-path=\"url(#pda535593da)\" d=\"M 435.002931 449.666318 \nL 435.002931 439.842221 \n\" style=\"fill:none;stroke:#ff7f0e;stroke-linecap:square;\"/>\n   </g>\n   <g id=\"line2d_652\">\n    <path clip-path=\"url(#pda535593da)\" d=\"M 435.002931 430.018125 \nL 435.002931 420.194029 \n\" style=\"fill:none;stroke:#ff7f0e;stroke-linecap:square;\"/>\n   </g>\n   <g id=\"line2d_653\">\n    <path clip-path=\"url(#pda535593da)\" d=\"M 435.002931 410.369932 \nL 435.002931 400.545836 \n\" style=\"fill:none;stroke:#ff7f0e;stroke-linecap:square;\"/>\n   </g>\n   <g id=\"line2d_654\">\n    <path clip-path=\"url(#pda535593da)\" d=\"M 435.002931 390.721739 \nL 435.002931 380.897643 \n\" style=\"fill:none;stroke:#ff7f0e;stroke-linecap:square;\"/>\n   </g>\n   <g id=\"line2d_655\">\n    <path clip-path=\"url(#pda535593da)\" d=\"M 435.002931 371.073547 \nL 435.002931 361.24945 \n\" style=\"fill:none;stroke:#ff7f0e;stroke-linecap:square;\"/>\n   </g>\n   <g id=\"line2d_656\">\n    <path clip-path=\"url(#pda535593da)\" d=\"M 435.002931 351.425354 \nL 435.002931 341.601258 \n\" style=\"fill:none;stroke:#ff7f0e;stroke-linecap:square;\"/>\n   </g>\n   <g id=\"line2d_657\">\n    <path clip-path=\"url(#pda535593da)\" d=\"M 435.002931 331.777161 \nL 435.002931 321.953065 \n\" style=\"fill:none;stroke:#ff7f0e;stroke-linecap:square;\"/>\n   </g>\n   <g id=\"line2d_658\">\n    <path clip-path=\"url(#pda535593da)\" d=\"M 435.002931 312.128968 \nL 435.002931 302.304872 \n\" style=\"fill:none;stroke:#ff7f0e;stroke-linecap:square;\"/>\n   </g>\n   <g id=\"line2d_659\">\n    <path clip-path=\"url(#pda535593da)\" d=\"M 435.002931 292.480776 \nL 435.002931 282.656679 \n\" style=\"fill:none;stroke:#ff7f0e;stroke-linecap:square;\"/>\n   </g>\n   <g id=\"line2d_660\">\n    <path clip-path=\"url(#pda535593da)\" d=\"M 435.002931 272.832583 \nL 435.002931 263.008486 \n\" style=\"fill:none;stroke:#ff7f0e;stroke-linecap:square;\"/>\n   </g>\n   <g id=\"line2d_661\">\n    <path clip-path=\"url(#pda535593da)\" d=\"M 435.002931 253.18439 \nL 435.002931 243.360294 \n\" style=\"fill:none;stroke:#ff7f0e;stroke-linecap:square;\"/>\n   </g>\n   <g id=\"line2d_662\">\n    <path clip-path=\"url(#pda535593da)\" d=\"M 435.002931 233.536197 \nL 435.002931 223.712101 \n\" style=\"fill:none;stroke:#ff7f0e;stroke-linecap:square;\"/>\n   </g>\n   <g id=\"line2d_663\">\n    <path clip-path=\"url(#pda535593da)\" d=\"M 435.002931 213.888005 \nL 435.002931 204.063908 \n\" style=\"fill:none;stroke:#ff7f0e;stroke-linecap:square;\"/>\n   </g>\n   <g id=\"line2d_664\">\n    <path clip-path=\"url(#pda535593da)\" d=\"M 435.002931 194.239812 \nL 435.002931 184.415715 \n\" style=\"fill:none;stroke:#ff7f0e;stroke-linecap:square;\"/>\n   </g>\n   <g id=\"line2d_665\">\n    <path clip-path=\"url(#pda535593da)\" d=\"M 435.002931 174.591619 \nL 435.002931 164.767523 \n\" style=\"fill:none;stroke:#ff7f0e;stroke-linecap:square;\"/>\n   </g>\n   <g id=\"line2d_666\">\n    <path clip-path=\"url(#pda535593da)\" d=\"M 435.002931 154.943426 \nL 435.002931 145.11933 \n\" style=\"fill:none;stroke:#ff7f0e;stroke-linecap:square;\"/>\n   </g>\n   <g id=\"line2d_667\">\n    <path clip-path=\"url(#pda535593da)\" d=\"M 435.002931 135.295233 \nL 435.002931 125.471137 \n\" style=\"fill:none;stroke:#ff7f0e;stroke-linecap:square;\"/>\n   </g>\n   <g id=\"line2d_668\">\n    <path clip-path=\"url(#pda535593da)\" d=\"M 435.002931 115.647041 \nL 435.002931 105.822944 \n\" style=\"fill:none;stroke:#ff7f0e;stroke-linecap:square;\"/>\n   </g>\n   <g id=\"line2d_669\">\n    <path clip-path=\"url(#pda535593da)\" d=\"M 481.118634 95.998848 \nL 481.118634 86.174752 \n\" style=\"fill:none;stroke:#ff7f0e;stroke-linecap:square;\"/>\n   </g>\n   <g id=\"line2d_670\">\n    <path clip-path=\"url(#pda535593da)\" d=\"M 527.234336 76.350655 \nL 527.234336 66.526559 \n\" style=\"fill:none;stroke:#ff7f0e;stroke-linecap:square;\"/>\n   </g>\n   <g id=\"line2d_671\">\n    <path clip-path=\"url(#pda535593da)\" d=\"M 619.465741 56.702462 \nL 619.465741 46.878366 \n\" style=\"fill:none;stroke:#ff7f0e;stroke-linecap:square;\"/>\n   </g>\n   <g id=\"line2d_672\">\n    <path clip-path=\"url(#pda535593da)\" d=\"M 665.581444 37.05427 \nL 665.581444 27.230173 \n\" style=\"fill:none;stroke:#ff7f0e;stroke-linecap:square;\"/>\n   </g>\n   <g id=\"patch_3\">\n    <path d=\"M 271.292188 1653.118125 \nL 271.292188 22.318125 \n\" style=\"fill:none;stroke:#000000;stroke-linecap:square;stroke-linejoin:miter;stroke-width:0.8;\"/>\n   </g>\n   <g id=\"patch_4\">\n    <path d=\"M 829.292188 1653.118125 \nL 829.292188 22.318125 \n\" style=\"fill:none;stroke:#000000;stroke-linecap:square;stroke-linejoin:miter;stroke-width:0.8;\"/>\n   </g>\n   <g id=\"patch_5\">\n    <path d=\"M 271.292188 1653.118125 \nL 829.292188 1653.118125 \n\" style=\"fill:none;stroke:#000000;stroke-linecap:square;stroke-linejoin:miter;stroke-width:0.8;\"/>\n   </g>\n   <g id=\"patch_6\">\n    <path d=\"M 271.292188 22.318125 \nL 829.292188 22.318125 \n\" style=\"fill:none;stroke:#000000;stroke-linecap:square;stroke-linejoin:miter;stroke-width:0.8;\"/>\n   </g>\n   <g id=\"text_92\">\n    <!-- Permutation Importances (test set) -->\n    <defs>\n     <path id=\"DejaVuSans-32\"/>\n     <path d=\"M 31 75.875 \nQ 24.46875 64.65625 21.28125 53.65625 \nQ 18.109375 42.671875 18.109375 31.390625 \nQ 18.109375 20.125 21.3125 9.0625 \nQ 24.515625 -2 31 -13.1875 \nL 23.1875 -13.1875 \nQ 15.875 -1.703125 12.234375 9.375 \nQ 8.59375 20.453125 8.59375 31.390625 \nQ 8.59375 42.28125 12.203125 53.3125 \nQ 15.828125 64.359375 23.1875 75.875 \nz\n\" id=\"DejaVuSans-40\"/>\n    </defs>\n    <g transform=\"translate(445.06625 16.318125)scale(0.12 -0.12)\">\n     <use xlink:href=\"#DejaVuSans-80\"/>\n     <use x=\"56.677734\" xlink:href=\"#DejaVuSans-101\"/>\n     <use x=\"118.201172\" xlink:href=\"#DejaVuSans-114\"/>\n     <use x=\"157.564453\" xlink:href=\"#DejaVuSans-109\"/>\n     <use x=\"254.976562\" xlink:href=\"#DejaVuSans-117\"/>\n     <use x=\"318.355469\" xlink:href=\"#DejaVuSans-116\"/>\n     <use x=\"357.564453\" xlink:href=\"#DejaVuSans-97\"/>\n     <use x=\"418.84375\" xlink:href=\"#DejaVuSans-116\"/>\n     <use x=\"458.052734\" xlink:href=\"#DejaVuSans-105\"/>\n     <use x=\"485.835938\" xlink:href=\"#DejaVuSans-111\"/>\n     <use x=\"547.017578\" xlink:href=\"#DejaVuSans-110\"/>\n     <use x=\"610.396484\" xlink:href=\"#DejaVuSans-32\"/>\n     <use x=\"642.183594\" xlink:href=\"#DejaVuSans-73\"/>\n     <use x=\"671.675781\" xlink:href=\"#DejaVuSans-109\"/>\n     <use x=\"769.087891\" xlink:href=\"#DejaVuSans-112\"/>\n     <use x=\"832.564453\" xlink:href=\"#DejaVuSans-111\"/>\n     <use x=\"893.746094\" xlink:href=\"#DejaVuSans-114\"/>\n     <use x=\"934.859375\" xlink:href=\"#DejaVuSans-116\"/>\n     <use x=\"974.068359\" xlink:href=\"#DejaVuSans-97\"/>\n     <use x=\"1035.347656\" xlink:href=\"#DejaVuSans-110\"/>\n     <use x=\"1098.726562\" xlink:href=\"#DejaVuSans-99\"/>\n     <use x=\"1153.707031\" xlink:href=\"#DejaVuSans-101\"/>\n     <use x=\"1215.230469\" xlink:href=\"#DejaVuSans-115\"/>\n     <use x=\"1267.330078\" xlink:href=\"#DejaVuSans-32\"/>\n     <use x=\"1299.117188\" xlink:href=\"#DejaVuSans-40\"/>\n     <use x=\"1338.130859\" xlink:href=\"#DejaVuSans-116\"/>\n     <use x=\"1377.339844\" xlink:href=\"#DejaVuSans-101\"/>\n     <use x=\"1438.863281\" xlink:href=\"#DejaVuSans-115\"/>\n     <use x=\"1490.962891\" xlink:href=\"#DejaVuSans-116\"/>\n     <use x=\"1530.171875\" xlink:href=\"#DejaVuSans-32\"/>\n     <use x=\"1561.958984\" xlink:href=\"#DejaVuSans-115\"/>\n     <use x=\"1614.058594\" xlink:href=\"#DejaVuSans-101\"/>\n     <use x=\"1675.582031\" xlink:href=\"#DejaVuSans-116\"/>\n     <use x=\"1714.791016\" xlink:href=\"#DejaVuSans-41\"/>\n    </g>\n   </g>\n  </g>\n </g>\n <defs>\n  <clipPath id=\"pda535593da\">\n   <rect height=\"1630.8\" width=\"558\" x=\"271.292188\" y=\"22.318125\"/>\n  </clipPath>\n </defs>\n</svg>\n",
      "image/png": "[encoded data removed]"
     },
     "metadata": {
      "needs_background": "light"
     }
    }
   ],
   "source": [
    "fig= plt.figure(figsize=(10,30))\n",
    "perm_sorted_idx = imps.importances_mean.argsort()\n",
    "plt.boxplot(imps.importances[perm_sorted_idx].T, vert=False,\n",
    "            labels=X_test.columns[perm_sorted_idx])\n",
    "plt.title(\"Permutation Importances (test set)\");"
   ]
  },
  {
   "cell_type": "code",
   "execution_count": 52,
   "metadata": {
    "tags": []
   },
   "outputs": [
    {
     "output_type": "stream",
     "name": "stdout",
     "text": "The change in this variables results in a drop of the recall - sensitivity, so this variables are important for the results \ntolazamide\nchlorpropamide\nmedical_specialty_Urology\nmedical_specialty_Surgery-Cardiovascular/Thoracic\nmedical_specialty_ObstetricsandGynecology\n"
    },
    {
     "output_type": "execute_result",
     "data": {
      "text/plain": "[None, None, None, None, None]"
     },
     "metadata": {},
     "execution_count": 52
    }
   ],
   "source": [
    "vari = list(X_test.columns[perm_sorted_idx][-5:])\n",
    "print('The change in this variables results in a drop of the recall - sensitivity, so this variables are important for the results ')\n",
    "\n",
    "[print(x) for x in vari]"
   ]
  },
  {
   "cell_type": "markdown",
   "metadata": {},
   "source": [
    "# Save Model\n",
    "\n",
    "The selected Model is the Naïve Bayes in a pipeline with a standard scaler,\n",
    "the sensitivity result is higher"
   ]
  },
  {
   "cell_type": "code",
   "execution_count": 38,
   "metadata": {},
   "outputs": [
    {
     "output_type": "execute_result",
     "data": {
      "text/plain": "['../models/NB_pipeline_imbalance_recall.joblib']"
     },
     "metadata": {},
     "execution_count": 38
    }
   ],
   "source": [
    "from joblib import dump # libreria de serializacion\n",
    "\n",
    "# garbar el modelo en un archivo\n",
    "dump(NB_pipeline, '../models/NB_pipeline_imbalance_recall.joblib')"
   ]
  },
  {
   "cell_type": "code",
   "execution_count": null,
   "metadata": {},
   "outputs": [],
   "source": []
  },
  {
   "source": [
    "# CONCLUSIONS\n",
    "\n",
    "- A very good sensitivity in the model where achived by using a gaussian Naïve Bayes in a pipeline with a standard scaler (removing the mean and scaling to unit variance)\n",
    "\n",
    "- The precision value is very Low, because the False positives value are high this just lead to more tests or treatments – not as costly as putting a life at stake. so the patient-hospital outcome is better.\n",
    "\n",
    "- Around 98% of the pattients that will be readmitted in less than 30 days were detected.\n",
    "\n",
    "- In the model, if a person is classified to be discharge has less than 2% chance to be readmited\n",
    "\n",
    "- To Minimize the False Negatives (type I error) and keep the recall and the Negative_predictive of the model and ensemble model is suggested (this Minimize the simplicity and interpretability of the final model)"
   ],
   "cell_type": "markdown",
   "metadata": {}
  },
  {
   "cell_type": "markdown",
   "metadata": {},
   "source": [
    "# References\n",
    "\n",
    "- Correction to: Hospital Readmission of Patients with Diabetes - https://link.springer.com/article/10.1007/s11892-018-0989-1\n",
    "\n",
    "- Center for disease control and prevention, Diabetes atlas- https://gis.cdc.gov/grasp/diabetes/DiabetesAtlas.html\n",
    "\n",
    "- https://medium.com/@joserzapata/paso-a-paso-en-un-proyecto-machine-learning-bcdd0939d387\n",
    "- [a-complete-machine-learning-walk-through-in-python-part-one](https://towardsdatascience.com/a-complete-machine-learning-walk-through-in-python-part-one-c62152f39420)\n",
    "\n",
    "- https://www.kaggle.com/vignesh1609/readmission-classification-model\n",
    "\n",
    "- https://www.kaggle.com/kavyarall/predicting-effective-treatments/\n",
    "- Priors in GaussianNB https://stackoverflow.com/questions/30896367/how-to-specify-the-prior-probability-for-scikit-learns-naive-bayes\n",
    "- permutation importance - https://scikit-learn.org/stable/modules/generated/sklearn.inspection.permutation_importance.html#sklearn.inspection.permutation_importance\n",
    "- Permutation Importance example - https://scikit-learn.org/stable/auto_examples/inspection/plot_permutation_importance.html#sphx-glr-auto-examples-inspection-plot-permutation-importance-py\n",
    "- Permutation Importance with multicollinear or correlated features- https://scikit-learn.org/stable/auto_examples/inspection/plot_permutation_importance_multicollinear.html"
   ]
  },
  {
   "cell_type": "markdown",
   "metadata": {},
   "source": [
    "[Jose R. Zapata](https://joserzapata.github.io)\n",
    "- https://joserzapata.github.io\n",
    "- https://twitter.com/joserzapata\n",
    "- https://www.linkedin.com/in/jose-ricardo-zapata-gonzalez/   "
   ]
  }
 ],
 "metadata": {
  "colab": {
   "collapsed_sections": [
    "mXQHmtMbHJoh",
    "3aVUkwJVHJom",
    "9SfZHh6oHJor",
    "1S_iRK8rHJo0",
    "Ey5Lk8evHJo3",
    "0Y0UV-GVHJo6",
    "he4lxsEUHJpM",
    "h0FKIrJHHJpO",
    "jYPdefrhHJpS",
    "zUundEM6HJpT",
    "2GNrgJzHHJpW",
    "uRwep7LjHJpZ",
    "JCcM4XFbHJpd"
   ],
   "name": "Trabajo_Preparacion_Datos_JoseR_Zapata.ipynb",
   "provenance": []
  },
  "kernelspec": {
   "display_name": "Python 3",
   "language": "python",
   "name": "python3"
  },
  "language_info": {
   "codemirror_mode": {
    "name": "ipython",
    "version": 3
   },
   "file_extension": ".py",
   "mimetype": "text/x-python",
   "name": "python",
   "nbconvert_exporter": "python",
   "pygments_lexer": "ipython3",
   "version": "3.8.3-final"
  },
  "nbTranslate": {
   "displayLangs": [
    "es",
    "en"
   ],
   "hotkey": "alt-t",
   "langInMainMenu": true,
   "sourceLang": "en",
   "targetLang": "es",
   "useGoogleTranslate": true
  },
  "toc": {
   "base_numbering": 1,
   "nav_menu": {},
   "number_sections": true,
   "sideBar": true,
   "skip_h1_title": false,
   "title_cell": "Contenido",
   "title_sidebar": "Contenido",
   "toc_cell": true,
   "toc_position": {},
   "toc_section_display": true,
   "toc_window_display": false
  },
  "varInspector": {
   "cols": {
    "lenName": 16,
    "lenType": 16,
    "lenVar": 40
   },
   "kernels_config": {
    "python": {
     "delete_cmd_postfix": "",
     "delete_cmd_prefix": "del ",
     "library": "var_list.py",
     "varRefreshCmd": "print(var_dic_list())"
    },
    "r": {
     "delete_cmd_postfix": ") ",
     "delete_cmd_prefix": "rm(",
     "library": "var_list.r",
     "varRefreshCmd": "cat(var_dic_list()) "
    }
   },
   "types_to_exclude": [
    "module",
    "function",
    "builtin_function_or_method",
    "instance",
    "_Feature"
   ],
   "window_display": false
  }
 },
 "nbformat": 4,
 "nbformat_minor": 4
}