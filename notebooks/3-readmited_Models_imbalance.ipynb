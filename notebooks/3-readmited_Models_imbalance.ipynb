{
 "cells": [
  {
   "cell_type": "markdown",
   "metadata": {
    "colab_type": "text",
    "id": "Wbepu01LHJoL"
   },
   "source": [
    "# Diabetes Classification - Models\n",
    "[Jose R. Zapata](https://joserzapata.github.io)\n",
    "- https://joserzapata.github.io\n",
    "- https://twitter.com/joserzapata\n",
    "- https://www.linkedin.com/in/jose-ricardo-zapata-gonzalez/       \n"
   ]
  },
  {
   "cell_type": "markdown",
   "metadata": {
    "colab_type": "text",
    "id": "Wa9xYivpD4Eo"
   },
   "source": [
    "## Introduction\n",
    "\n",
    "\n",
    "Analyze factors related to readmission as well as other outcomes pertaining to patients in order to classify a patient-hospital outcome\n",
    "\n",
    "3 different outputs:\n",
    "\n",
    "1. No readmission\n",
    "\n",
    "2. A readmission in less than `30` days (this situation is not good, because maybe your treatment was not appropriate);\n",
    "\n",
    "3. A readmission in more than 30 days (this one is not so good as well the last one, however, the reason could be the state of the patient.\n",
    "\n",
    "\n",
    "## Main Objective\n",
    "\n",
    "> **How effective was the treatment received in hospital?**\n",
    "\n",
    "## Principal References\n",
    "\n",
    "### Paper\n",
    "\n",
    "Beata Strack, Jonathan P. DeShazo, Chris Gennings, Juan L. Olmo, Sebastian Ventura, Krzysztof J. Cios, and John N. Clore, “Impact of HbA1c Measurement on Hospital Readmission Rates: Analysis of 70,000 Clinical Database Patient Records,” BioMed Research International, vol. 2014, Article ID 781670, 11 pages, 2014.\n",
    "\n",
    "https://www.hindawi.com/journals/bmri/2014/781670/\n",
    "\n",
    "### Dataset\n",
    "\n",
    "https://archive.ics.uci.edu/ml/datasets/Diabetes+130-US+hospitals+for+years+1999-2008#\n",
    "\n",
    "### Data description\n",
    "\n",
    "https://www.hindawi.com/journals/bmri/2014/781670/tab1/"
   ]
  },
  {
   "cell_type": "markdown",
   "metadata": {
    "colab_type": "text",
    "id": "MjPWhesSHJoO"
   },
   "source": [
    "# Import libraries"
   ]
  },
  {
   "cell_type": "code",
   "execution_count": 2,
   "metadata": {
    "colab": {},
    "colab_type": "code",
    "id": "ksQYJRZTHJoP"
   },
   "outputs": [],
   "source": [
    "import pandas as pd\n",
    "import matplotlib.pyplot as plt\n",
    "\n",
    "from sklearn.model_selection import train_test_split\n",
    "from sklearn import model_selection\n",
    "import plotly.express as px"
   ]
  },
  {
   "cell_type": "markdown",
   "metadata": {
    "colab_type": "text",
    "id": "LM4dC7lBHJoT"
   },
   "source": [
    "# Load Dataset"
   ]
  },
  {
   "cell_type": "code",
   "execution_count": 3,
   "metadata": {
    "colab": {},
    "colab_type": "code",
    "id": "R2C-zrtBHJoT"
   },
   "outputs": [],
   "source": [
    "data = pd.read_csv(\"../data/processed/data_imbalanced.csv\")"
   ]
  },
  {
   "cell_type": "code",
   "execution_count": 4,
   "metadata": {
    "colab": {},
    "colab_type": "code",
    "id": "ZYzna68bHJoW",
    "tags": []
   },
   "outputs": [
    {
     "output_type": "stream",
     "name": "stdout",
     "text": "<class 'pandas.core.frame.DataFrame'>\nRangeIndex: 53214 entries, 0 to 53213\nData columns (total 43 columns):\n #   Column                    Non-Null Count  Dtype \n---  ------                    --------------  ----- \n 0   race                      53214 non-null  object\n 1   gender                    53214 non-null  int64 \n 2   age                       53214 non-null  object\n 3   admission_type_id         53214 non-null  int64 \n 4   discharge_disposition_id  53214 non-null  int64 \n 5   admission_source_id       53214 non-null  int64 \n 6   time_in_hospital          53214 non-null  int64 \n 7   medical_specialty         53214 non-null  object\n 8   num_lab_procedures        53214 non-null  int64 \n 9   num_procedures            53214 non-null  int64 \n 10  num_medications           53214 non-null  int64 \n 11  number_outpatient         53214 non-null  int64 \n 12  number_emergency          53214 non-null  int64 \n 13  number_inpatient          53214 non-null  int64 \n 14  diag_1                    53214 non-null  object\n 15  diag_2                    53214 non-null  object\n 16  number_diagnoses          53214 non-null  int64 \n 17  max_glu_serum             53214 non-null  int64 \n 18  A1Cresult                 53214 non-null  int64 \n 19  metformin                 53214 non-null  int64 \n 20  repaglinide               53214 non-null  int64 \n 21  nateglinide               53214 non-null  int64 \n 22  chlorpropamide            53214 non-null  int64 \n 23  glimepiride               53214 non-null  int64 \n 24  acetohexamide             53214 non-null  int64 \n 25  glipizide                 53214 non-null  int64 \n 26  glyburide                 53214 non-null  int64 \n 27  tolbutamide               53214 non-null  int64 \n 28  pioglitazone              53214 non-null  int64 \n 29  rosiglitazone             53214 non-null  int64 \n 30  acarbose                  53214 non-null  int64 \n 31  miglitol                  53214 non-null  int64 \n 32  troglitazone              53214 non-null  int64 \n 33  tolazamide                53214 non-null  int64 \n 34  insulin                   53214 non-null  int64 \n 35  glyburide-metformin       53214 non-null  int64 \n 36  glipizide-metformin       53214 non-null  int64 \n 37  metformin-rosiglitazone   53214 non-null  int64 \n 38  metformin-pioglitazone    53214 non-null  int64 \n 39  change                    53214 non-null  int64 \n 40  diabetesMed               53214 non-null  int64 \n 41  readmitted                53214 non-null  int64 \n 42  numchange                 53214 non-null  int64 \ndtypes: int64(38), object(5)\nmemory usage: 17.5+ MB\n"
    }
   ],
   "source": [
    "data.info()"
   ]
  },
  {
   "source": [
    "## Encode categorical colums"
   ],
   "cell_type": "markdown",
   "metadata": {
    "colab": {},
    "colab_type": "code",
    "id": "DsDqeIPbHJpI"
   }
  },
  {
   "cell_type": "code",
   "execution_count": 5,
   "metadata": {
    "colab": {},
    "colab_type": "code",
    "id": "6cCf27oSHJpB"
   },
   "outputs": [],
   "source": [
    "cat_cols = list(data.select_dtypes('object').columns)\n",
    "class_dict = {}\n",
    "for col in cat_cols:\n",
    "    data = pd.concat([data.drop(col, axis=1), pd.get_dummies(data[col], prefix=col, drop_first=True)], axis=1)"
   ]
  },
  {
   "cell_type": "code",
   "execution_count": 6,
   "metadata": {
    "tags": []
   },
   "outputs": [
    {
     "output_type": "stream",
     "name": "stdout",
     "text": "<class 'pandas.core.frame.DataFrame'>\nRangeIndex: 53214 entries, 0 to 53213\nData columns (total 85 columns):\n #   Column                                             Non-Null Count  Dtype\n---  ------                                             --------------  -----\n 0   gender                                             53214 non-null  int64\n 1   admission_type_id                                  53214 non-null  int64\n 2   discharge_disposition_id                           53214 non-null  int64\n 3   admission_source_id                                53214 non-null  int64\n 4   time_in_hospital                                   53214 non-null  int64\n 5   num_lab_procedures                                 53214 non-null  int64\n 6   num_procedures                                     53214 non-null  int64\n 7   num_medications                                    53214 non-null  int64\n 8   number_outpatient                                  53214 non-null  int64\n 9   number_emergency                                   53214 non-null  int64\n 10  number_inpatient                                   53214 non-null  int64\n 11  number_diagnoses                                   53214 non-null  int64\n 12  max_glu_serum                                      53214 non-null  int64\n 13  A1Cresult                                          53214 non-null  int64\n 14  metformin                                          53214 non-null  int64\n 15  repaglinide                                        53214 non-null  int64\n 16  nateglinide                                        53214 non-null  int64\n 17  chlorpropamide                                     53214 non-null  int64\n 18  glimepiride                                        53214 non-null  int64\n 19  acetohexamide                                      53214 non-null  int64\n 20  glipizide                                          53214 non-null  int64\n 21  glyburide                                          53214 non-null  int64\n 22  tolbutamide                                        53214 non-null  int64\n 23  pioglitazone                                       53214 non-null  int64\n 24  rosiglitazone                                      53214 non-null  int64\n 25  acarbose                                           53214 non-null  int64\n 26  miglitol                                           53214 non-null  int64\n 27  troglitazone                                       53214 non-null  int64\n 28  tolazamide                                         53214 non-null  int64\n 29  insulin                                            53214 non-null  int64\n 30  glyburide-metformin                                53214 non-null  int64\n 31  glipizide-metformin                                53214 non-null  int64\n 32  metformin-rosiglitazone                            53214 non-null  int64\n 33  metformin-pioglitazone                             53214 non-null  int64\n 34  change                                             53214 non-null  int64\n 35  diabetesMed                                        53214 non-null  int64\n 36  readmitted                                         53214 non-null  int64\n 37  numchange                                          53214 non-null  int64\n 38  race_Asian                                         53214 non-null  uint8\n 39  race_Caucasian                                     53214 non-null  uint8\n 40  race_Hispanic                                      53214 non-null  uint8\n 41  race_Other                                         53214 non-null  uint8\n 42  age_[10-20)                                        53214 non-null  uint8\n 43  age_[20-30)                                        53214 non-null  uint8\n 44  age_[30-40)                                        53214 non-null  uint8\n 45  age_[40-50)                                        53214 non-null  uint8\n 46  age_[50-60)                                        53214 non-null  uint8\n 47  age_[60-70)                                        53214 non-null  uint8\n 48  age_[70-80)                                        53214 non-null  uint8\n 49  age_[80-90)                                        53214 non-null  uint8\n 50  age_[90-100)                                       53214 non-null  uint8\n 51  medical_specialty_Emergency/Trauma                 53214 non-null  uint8\n 52  medical_specialty_Family/GeneralPractice           53214 non-null  uint8\n 53  medical_specialty_Gastroenterology                 53214 non-null  uint8\n 54  medical_specialty_InternalMedicine                 53214 non-null  uint8\n 55  medical_specialty_Nephrology                       53214 non-null  uint8\n 56  medical_specialty_ObstetricsandGynecology          53214 non-null  uint8\n 57  medical_specialty_Orthopedics                      53214 non-null  uint8\n 58  medical_specialty_Orthopedics-Reconstructive       53214 non-null  uint8\n 59  medical_specialty_Other                            53214 non-null  uint8\n 60  medical_specialty_Psychiatry                       53214 non-null  uint8\n 61  medical_specialty_Pulmonology                      53214 non-null  uint8\n 62  medical_specialty_Radiologist                      53214 non-null  uint8\n 63  medical_specialty_Surgery-Cardiovascular/Thoracic  53214 non-null  uint8\n 64  medical_specialty_Surgery-General                  53214 non-null  uint8\n 65  medical_specialty_Surgery-Neuro                    53214 non-null  uint8\n 66  medical_specialty_Surgery-Vascular                 53214 non-null  uint8\n 67  medical_specialty_Unknow                           53214 non-null  uint8\n 68  medical_specialty_Urology                          53214 non-null  uint8\n 69  diag_1_Diabetes                                    53214 non-null  uint8\n 70  diag_1_Digestive                                   53214 non-null  uint8\n 71  diag_1_Genitourinary                               53214 non-null  uint8\n 72  diag_1_Injury                                      53214 non-null  uint8\n 73  diag_1_Muscoloskeletal                             53214 non-null  uint8\n 74  diag_1_Neoplasms                                   53214 non-null  uint8\n 75  diag_1_Others                                      53214 non-null  uint8\n 76  diag_1_Respiratory                                 53214 non-null  uint8\n 77  diag_2_Diabetes                                    53214 non-null  uint8\n 78  diag_2_Digestive                                   53214 non-null  uint8\n 79  diag_2_Genitourinary                               53214 non-null  uint8\n 80  diag_2_Injury                                      53214 non-null  uint8\n 81  diag_2_Muscoloskeletal                             53214 non-null  uint8\n 82  diag_2_Neoplasms                                   53214 non-null  uint8\n 83  diag_2_Others                                      53214 non-null  uint8\n 84  diag_2_Respiratory                                 53214 non-null  uint8\ndtypes: int64(38), uint8(47)\nmemory usage: 17.8 MB\n"
    }
   ],
   "source": [
    "data.info()"
   ]
  },
  {
   "source": [
    "## Input and output data\n",
    "\n",
    "Get the names of input features and output feature"
   ],
   "cell_type": "markdown",
   "metadata": {}
  },
  {
   "cell_type": "code",
   "execution_count": 7,
   "metadata": {},
   "outputs": [],
   "source": [
    "X = data.drop(\"readmitted\", axis=1)\n",
    "y= data[\"readmitted\"]"
   ]
  },
  {
   "cell_type": "code",
   "execution_count": 8,
   "metadata": {},
   "outputs": [
    {
     "output_type": "execute_result",
     "data": {
      "text/plain": "(53214, 84)"
     },
     "metadata": {},
     "execution_count": 8
    }
   ],
   "source": [
    "X.shape"
   ]
  },
  {
   "cell_type": "code",
   "execution_count": 9,
   "metadata": {},
   "outputs": [
    {
     "output_type": "execute_result",
     "data": {
      "text/plain": "(53214,)"
     },
     "metadata": {},
     "execution_count": 9
    }
   ],
   "source": [
    "y.shape"
   ]
  },
  {
   "cell_type": "markdown",
   "metadata": {},
   "source": [
    "## Split dataset 70/30\n",
    "\n",
    "70% to train the model\n",
    "30% to test the model\n",
    "\n",
    "Split data stratify = y because the dataset is imbalanced"
   ]
  },
  {
   "cell_type": "code",
   "execution_count": 10,
   "metadata": {},
   "outputs": [],
   "source": [
    "\n",
    "X_train, X_test, y_train, y_test = train_test_split(X, y, test_size=.3,random_state =123, stratify=y)"
   ]
  },
  {
   "cell_type": "code",
   "execution_count": 11,
   "metadata": {
    "tags": []
   },
   "outputs": [
    {
     "output_type": "stream",
     "name": "stdout",
     "text": "Percentage of positives in test set=4.046351393673661 , train set=4.0457461945287125\n"
    }
   ],
   "source": [
    "perc_test = y_test.value_counts()[1]*100/len(y_test)\n",
    "perc_train = y_train.value_counts()[1]*100/len(y_train)\n",
    "\n",
    "print(f\" Percentage of positives in test set={perc_test} , train set={perc_train}\")"
   ]
  },
  {
   "cell_type": "markdown",
   "metadata": {},
   "source": [
    "# MODELS\n",
    "\n",
    "## Evaluation Metric\n",
    "\n",
    "The selected evaluation metric is the \n",
    "> **Recall - Sensitivity**\n",
    "\n",
    "A False Negative might delay more tests or treatment, \n",
    "however a False Positive may just lead to more tests or treatments – not as costly as putting a life at stake.\n"
   ]
  },
  {
   "cell_type": "code",
   "execution_count": 12,
   "metadata": {},
   "outputs": [],
   "source": [
    "# Evaluation\n",
    "from sklearn.metrics import accuracy_score\n",
    "from sklearn.metrics import precision_score\n",
    "from sklearn.metrics import recall_score"
   ]
  },
  {
   "source": [
    "Interpretability is important so first intents will be with classic Machine Learning Models, No ensembles, No Neural Networks"
   ],
   "cell_type": "markdown",
   "metadata": {}
  },
  {
   "cell_type": "code",
   "execution_count": 13,
   "metadata": {},
   "outputs": [],
   "source": [
    "# Selected algorithms\n",
    "from sklearn.linear_model import LogisticRegression\n",
    "from sklearn.svm import SVC\n",
    "from sklearn.naive_bayes import GaussianNB\n",
    "from sklearn.tree import DecisionTreeClassifier"
   ]
  },
  {
   "source": [
    "## Model Selection"
   ],
   "cell_type": "markdown",
   "metadata": {}
  },
  {
   "cell_type": "code",
   "execution_count": 14,
   "metadata": {
    "tags": []
   },
   "outputs": [
    {
     "output_type": "stream",
     "name": "stdout",
     "text": "(LR, 0.010619194876535438, 0.0072737053369331325\n(CART, 0.09959344056534568, 0.016637289907653265\n(NB, 0.9378174963868734, 0.008952183865945028\n(SVM, 0.7663281896928434, 0.03593820728648552\n"
    }
   ],
   "source": [
    "seed =2\n",
    "models = []\n",
    "\n",
    "#logistic Regression\n",
    "models.append(('LR', LogisticRegression(solver='liblinear')))\n",
    "\n",
    "# Decision Tree classifier\n",
    "models.append(('CART', DecisionTreeClassifier()))\n",
    "\n",
    "# Naïve Bayes\n",
    "models.append(('NB', GaussianNB()))\n",
    "# SVM\n",
    "models.append(('SVM', SVC(C=1.0, kernel='rbf', max_iter=1000, tol=1e-3)))\n",
    "# evaluate each model in turn\n",
    "results = []\n",
    "names = []\n",
    "scoring = 'recall'\n",
    "for name, model in models:\n",
    "\t# Kfol cross validation for model selection\n",
    "\tkfold = model_selection.KFold(n_splits=10, random_state=seed)\n",
    "\t#X train , y train\n",
    "\tcv_results = model_selection.cross_val_score(model, X_train, y_train, cv=kfold, scoring=scoring)\n",
    "\tresults.append(cv_results)\n",
    "\tnames.append(name)\n",
    "\tmsg = f\"({name}, {cv_results.mean()}, {cv_results.std()}\"\n",
    "\tprint(msg)"
   ]
  },
  {
   "source": [
    "## Results"
   ],
   "cell_type": "markdown",
   "metadata": {}
  },
  {
   "cell_type": "code",
   "execution_count": 15,
   "metadata": {
    "tags": []
   },
   "outputs": [
    {
     "output_type": "display_data",
     "data": {
      "application/vnd.plotly.v1+json": {
       "config": {
        "plotlyServerURL": "https://plotly.com"
       },
       "data": [
        {
         "alignmentgroup": "True",
         "hovertemplate": "variable=%{x}<br>value=%{y}<extra></extra>",
         "legendgroup": "",
         "marker": {
          "color": "#636efa"
         },
         "name": "",
         "notched": false,
         "offsetgroup": "",
         "orientation": "v",
         "showlegend": false,
         "type": "box",
         "x": [
          "LR",
          "LR",
          "LR",
          "LR",
          "LR",
          "LR",
          "LR",
          "LR",
          "LR",
          "LR",
          "CART",
          "CART",
          "CART",
          "CART",
          "CART",
          "CART",
          "CART",
          "CART",
          "CART",
          "CART",
          "NB",
          "NB",
          "NB",
          "NB",
          "NB",
          "NB",
          "NB",
          "NB",
          "NB",
          "NB",
          "SVM",
          "SVM",
          "SVM",
          "SVM",
          "SVM",
          "SVM",
          "SVM",
          "SVM",
          "SVM",
          "SVM"
         ],
         "x0": " ",
         "xaxis": "x",
         "y": [
          0,
          0.006211180124223602,
          0.007042253521126761,
          0.014184397163120567,
          0.007518796992481203,
          0.011695906432748537,
          0.007462686567164179,
          0.019736842105263157,
          0.02631578947368421,
          0.006024096385542169,
          0.07741935483870968,
          0.09316770186335403,
          0.07042253521126761,
          0.10638297872340426,
          0.09022556390977443,
          0.1111111111111111,
          0.09701492537313433,
          0.10526315789473684,
          0.11842105263157894,
          0.12650602409638553,
          0.9483870967741935,
          0.9440993788819876,
          0.9436619718309859,
          0.9290780141843972,
          0.9548872180451128,
          0.935672514619883,
          0.9328358208955224,
          0.9342105263157895,
          0.9276315789473685,
          0.927710843373494,
          0.7741935483870968,
          0.7577639751552795,
          0.795774647887324,
          0.7021276595744681,
          0.7142857142857143,
          0.7485380116959064,
          0.8134328358208955,
          0.8157894736842105,
          0.7763157894736842,
          0.7650602409638554
         ],
         "y0": " ",
         "yaxis": "y"
        }
       ],
       "layout": {
        "boxmode": "group",
        "legend": {
         "tracegroupgap": 0
        },
        "template": {
         "data": {
          "bar": [
           {
            "error_x": {
             "color": "#2a3f5f"
            },
            "error_y": {
             "color": "#2a3f5f"
            },
            "marker": {
             "line": {
              "color": "#E5ECF6",
              "width": 0.5
             }
            },
            "type": "bar"
           }
          ],
          "barpolar": [
           {
            "marker": {
             "line": {
              "color": "#E5ECF6",
              "width": 0.5
             }
            },
            "type": "barpolar"
           }
          ],
          "carpet": [
           {
            "aaxis": {
             "endlinecolor": "#2a3f5f",
             "gridcolor": "white",
             "linecolor": "white",
             "minorgridcolor": "white",
             "startlinecolor": "#2a3f5f"
            },
            "baxis": {
             "endlinecolor": "#2a3f5f",
             "gridcolor": "white",
             "linecolor": "white",
             "minorgridcolor": "white",
             "startlinecolor": "#2a3f5f"
            },
            "type": "carpet"
           }
          ],
          "choropleth": [
           {
            "colorbar": {
             "outlinewidth": 0,
             "ticks": ""
            },
            "type": "choropleth"
           }
          ],
          "contour": [
           {
            "colorbar": {
             "outlinewidth": 0,
             "ticks": ""
            },
            "colorscale": [
             [
              0,
              "#0d0887"
             ],
             [
              0.1111111111111111,
              "#46039f"
             ],
             [
              0.2222222222222222,
              "#7201a8"
             ],
             [
              0.3333333333333333,
              "#9c179e"
             ],
             [
              0.4444444444444444,
              "#bd3786"
             ],
             [
              0.5555555555555556,
              "#d8576b"
             ],
             [
              0.6666666666666666,
              "#ed7953"
             ],
             [
              0.7777777777777778,
              "#fb9f3a"
             ],
             [
              0.8888888888888888,
              "#fdca26"
             ],
             [
              1,
              "#f0f921"
             ]
            ],
            "type": "contour"
           }
          ],
          "contourcarpet": [
           {
            "colorbar": {
             "outlinewidth": 0,
             "ticks": ""
            },
            "type": "contourcarpet"
           }
          ],
          "heatmap": [
           {
            "colorbar": {
             "outlinewidth": 0,
             "ticks": ""
            },
            "colorscale": [
             [
              0,
              "#0d0887"
             ],
             [
              0.1111111111111111,
              "#46039f"
             ],
             [
              0.2222222222222222,
              "#7201a8"
             ],
             [
              0.3333333333333333,
              "#9c179e"
             ],
             [
              0.4444444444444444,
              "#bd3786"
             ],
             [
              0.5555555555555556,
              "#d8576b"
             ],
             [
              0.6666666666666666,
              "#ed7953"
             ],
             [
              0.7777777777777778,
              "#fb9f3a"
             ],
             [
              0.8888888888888888,
              "#fdca26"
             ],
             [
              1,
              "#f0f921"
             ]
            ],
            "type": "heatmap"
           }
          ],
          "heatmapgl": [
           {
            "colorbar": {
             "outlinewidth": 0,
             "ticks": ""
            },
            "colorscale": [
             [
              0,
              "#0d0887"
             ],
             [
              0.1111111111111111,
              "#46039f"
             ],
             [
              0.2222222222222222,
              "#7201a8"
             ],
             [
              0.3333333333333333,
              "#9c179e"
             ],
             [
              0.4444444444444444,
              "#bd3786"
             ],
             [
              0.5555555555555556,
              "#d8576b"
             ],
             [
              0.6666666666666666,
              "#ed7953"
             ],
             [
              0.7777777777777778,
              "#fb9f3a"
             ],
             [
              0.8888888888888888,
              "#fdca26"
             ],
             [
              1,
              "#f0f921"
             ]
            ],
            "type": "heatmapgl"
           }
          ],
          "histogram": [
           {
            "marker": {
             "colorbar": {
              "outlinewidth": 0,
              "ticks": ""
             }
            },
            "type": "histogram"
           }
          ],
          "histogram2d": [
           {
            "colorbar": {
             "outlinewidth": 0,
             "ticks": ""
            },
            "colorscale": [
             [
              0,
              "#0d0887"
             ],
             [
              0.1111111111111111,
              "#46039f"
             ],
             [
              0.2222222222222222,
              "#7201a8"
             ],
             [
              0.3333333333333333,
              "#9c179e"
             ],
             [
              0.4444444444444444,
              "#bd3786"
             ],
             [
              0.5555555555555556,
              "#d8576b"
             ],
             [
              0.6666666666666666,
              "#ed7953"
             ],
             [
              0.7777777777777778,
              "#fb9f3a"
             ],
             [
              0.8888888888888888,
              "#fdca26"
             ],
             [
              1,
              "#f0f921"
             ]
            ],
            "type": "histogram2d"
           }
          ],
          "histogram2dcontour": [
           {
            "colorbar": {
             "outlinewidth": 0,
             "ticks": ""
            },
            "colorscale": [
             [
              0,
              "#0d0887"
             ],
             [
              0.1111111111111111,
              "#46039f"
             ],
             [
              0.2222222222222222,
              "#7201a8"
             ],
             [
              0.3333333333333333,
              "#9c179e"
             ],
             [
              0.4444444444444444,
              "#bd3786"
             ],
             [
              0.5555555555555556,
              "#d8576b"
             ],
             [
              0.6666666666666666,
              "#ed7953"
             ],
             [
              0.7777777777777778,
              "#fb9f3a"
             ],
             [
              0.8888888888888888,
              "#fdca26"
             ],
             [
              1,
              "#f0f921"
             ]
            ],
            "type": "histogram2dcontour"
           }
          ],
          "mesh3d": [
           {
            "colorbar": {
             "outlinewidth": 0,
             "ticks": ""
            },
            "type": "mesh3d"
           }
          ],
          "parcoords": [
           {
            "line": {
             "colorbar": {
              "outlinewidth": 0,
              "ticks": ""
             }
            },
            "type": "parcoords"
           }
          ],
          "pie": [
           {
            "automargin": true,
            "type": "pie"
           }
          ],
          "scatter": [
           {
            "marker": {
             "colorbar": {
              "outlinewidth": 0,
              "ticks": ""
             }
            },
            "type": "scatter"
           }
          ],
          "scatter3d": [
           {
            "line": {
             "colorbar": {
              "outlinewidth": 0,
              "ticks": ""
             }
            },
            "marker": {
             "colorbar": {
              "outlinewidth": 0,
              "ticks": ""
             }
            },
            "type": "scatter3d"
           }
          ],
          "scattercarpet": [
           {
            "marker": {
             "colorbar": {
              "outlinewidth": 0,
              "ticks": ""
             }
            },
            "type": "scattercarpet"
           }
          ],
          "scattergeo": [
           {
            "marker": {
             "colorbar": {
              "outlinewidth": 0,
              "ticks": ""
             }
            },
            "type": "scattergeo"
           }
          ],
          "scattergl": [
           {
            "marker": {
             "colorbar": {
              "outlinewidth": 0,
              "ticks": ""
             }
            },
            "type": "scattergl"
           }
          ],
          "scattermapbox": [
           {
            "marker": {
             "colorbar": {
              "outlinewidth": 0,
              "ticks": ""
             }
            },
            "type": "scattermapbox"
           }
          ],
          "scatterpolar": [
           {
            "marker": {
             "colorbar": {
              "outlinewidth": 0,
              "ticks": ""
             }
            },
            "type": "scatterpolar"
           }
          ],
          "scatterpolargl": [
           {
            "marker": {
             "colorbar": {
              "outlinewidth": 0,
              "ticks": ""
             }
            },
            "type": "scatterpolargl"
           }
          ],
          "scatterternary": [
           {
            "marker": {
             "colorbar": {
              "outlinewidth": 0,
              "ticks": ""
             }
            },
            "type": "scatterternary"
           }
          ],
          "surface": [
           {
            "colorbar": {
             "outlinewidth": 0,
             "ticks": ""
            },
            "colorscale": [
             [
              0,
              "#0d0887"
             ],
             [
              0.1111111111111111,
              "#46039f"
             ],
             [
              0.2222222222222222,
              "#7201a8"
             ],
             [
              0.3333333333333333,
              "#9c179e"
             ],
             [
              0.4444444444444444,
              "#bd3786"
             ],
             [
              0.5555555555555556,
              "#d8576b"
             ],
             [
              0.6666666666666666,
              "#ed7953"
             ],
             [
              0.7777777777777778,
              "#fb9f3a"
             ],
             [
              0.8888888888888888,
              "#fdca26"
             ],
             [
              1,
              "#f0f921"
             ]
            ],
            "type": "surface"
           }
          ],
          "table": [
           {
            "cells": {
             "fill": {
              "color": "#EBF0F8"
             },
             "line": {
              "color": "white"
             }
            },
            "header": {
             "fill": {
              "color": "#C8D4E3"
             },
             "line": {
              "color": "white"
             }
            },
            "type": "table"
           }
          ]
         },
         "layout": {
          "annotationdefaults": {
           "arrowcolor": "#2a3f5f",
           "arrowhead": 0,
           "arrowwidth": 1
          },
          "coloraxis": {
           "colorbar": {
            "outlinewidth": 0,
            "ticks": ""
           }
          },
          "colorscale": {
           "diverging": [
            [
             0,
             "#8e0152"
            ],
            [
             0.1,
             "#c51b7d"
            ],
            [
             0.2,
             "#de77ae"
            ],
            [
             0.3,
             "#f1b6da"
            ],
            [
             0.4,
             "#fde0ef"
            ],
            [
             0.5,
             "#f7f7f7"
            ],
            [
             0.6,
             "#e6f5d0"
            ],
            [
             0.7,
             "#b8e186"
            ],
            [
             0.8,
             "#7fbc41"
            ],
            [
             0.9,
             "#4d9221"
            ],
            [
             1,
             "#276419"
            ]
           ],
           "sequential": [
            [
             0,
             "#0d0887"
            ],
            [
             0.1111111111111111,
             "#46039f"
            ],
            [
             0.2222222222222222,
             "#7201a8"
            ],
            [
             0.3333333333333333,
             "#9c179e"
            ],
            [
             0.4444444444444444,
             "#bd3786"
            ],
            [
             0.5555555555555556,
             "#d8576b"
            ],
            [
             0.6666666666666666,
             "#ed7953"
            ],
            [
             0.7777777777777778,
             "#fb9f3a"
            ],
            [
             0.8888888888888888,
             "#fdca26"
            ],
            [
             1,
             "#f0f921"
            ]
           ],
           "sequentialminus": [
            [
             0,
             "#0d0887"
            ],
            [
             0.1111111111111111,
             "#46039f"
            ],
            [
             0.2222222222222222,
             "#7201a8"
            ],
            [
             0.3333333333333333,
             "#9c179e"
            ],
            [
             0.4444444444444444,
             "#bd3786"
            ],
            [
             0.5555555555555556,
             "#d8576b"
            ],
            [
             0.6666666666666666,
             "#ed7953"
            ],
            [
             0.7777777777777778,
             "#fb9f3a"
            ],
            [
             0.8888888888888888,
             "#fdca26"
            ],
            [
             1,
             "#f0f921"
            ]
           ]
          },
          "colorway": [
           "#636efa",
           "#EF553B",
           "#00cc96",
           "#ab63fa",
           "#FFA15A",
           "#19d3f3",
           "#FF6692",
           "#B6E880",
           "#FF97FF",
           "#FECB52"
          ],
          "font": {
           "color": "#2a3f5f"
          },
          "geo": {
           "bgcolor": "white",
           "lakecolor": "white",
           "landcolor": "#E5ECF6",
           "showlakes": true,
           "showland": true,
           "subunitcolor": "white"
          },
          "hoverlabel": {
           "align": "left"
          },
          "hovermode": "closest",
          "mapbox": {
           "style": "light"
          },
          "paper_bgcolor": "white",
          "plot_bgcolor": "#E5ECF6",
          "polar": {
           "angularaxis": {
            "gridcolor": "white",
            "linecolor": "white",
            "ticks": ""
           },
           "bgcolor": "#E5ECF6",
           "radialaxis": {
            "gridcolor": "white",
            "linecolor": "white",
            "ticks": ""
           }
          },
          "scene": {
           "xaxis": {
            "backgroundcolor": "#E5ECF6",
            "gridcolor": "white",
            "gridwidth": 2,
            "linecolor": "white",
            "showbackground": true,
            "ticks": "",
            "zerolinecolor": "white"
           },
           "yaxis": {
            "backgroundcolor": "#E5ECF6",
            "gridcolor": "white",
            "gridwidth": 2,
            "linecolor": "white",
            "showbackground": true,
            "ticks": "",
            "zerolinecolor": "white"
           },
           "zaxis": {
            "backgroundcolor": "#E5ECF6",
            "gridcolor": "white",
            "gridwidth": 2,
            "linecolor": "white",
            "showbackground": true,
            "ticks": "",
            "zerolinecolor": "white"
           }
          },
          "shapedefaults": {
           "line": {
            "color": "#2a3f5f"
           }
          },
          "ternary": {
           "aaxis": {
            "gridcolor": "white",
            "linecolor": "white",
            "ticks": ""
           },
           "baxis": {
            "gridcolor": "white",
            "linecolor": "white",
            "ticks": ""
           },
           "bgcolor": "#E5ECF6",
           "caxis": {
            "gridcolor": "white",
            "linecolor": "white",
            "ticks": ""
           }
          },
          "title": {
           "x": 0.05
          },
          "xaxis": {
           "automargin": true,
           "gridcolor": "white",
           "linecolor": "white",
           "ticks": "",
           "title": {
            "standoff": 15
           },
           "zerolinecolor": "white",
           "zerolinewidth": 2
          },
          "yaxis": {
           "automargin": true,
           "gridcolor": "white",
           "linecolor": "white",
           "ticks": "",
           "title": {
            "standoff": 15
           },
           "zerolinecolor": "white",
           "zerolinewidth": 2
          }
         }
        },
        "title": {
         "text": "Algorithm Comparison"
        },
        "xaxis": {
         "anchor": "y",
         "domain": [
          0,
          1
         ],
         "title": {
          "text": "variable"
         }
        },
        "yaxis": {
         "anchor": "x",
         "domain": [
          0,
          1
         ],
         "title": {
          "text": "value"
         }
        }
       }
      }
     },
     "metadata": {}
    }
   ],
   "source": [
    "result_df = pd.DataFrame(results, index=names).T\n",
    "px.box(result_df,title = 'Algorithm Comparison')"
   ]
  },
  {
   "source": [
    "Test if results gest better results transforming the variables using standard scaler\n"
   ],
   "cell_type": "markdown",
   "metadata": {}
  },
  {
   "cell_type": "code",
   "execution_count": 16,
   "metadata": {},
   "outputs": [],
   "source": [
    "from sklearn.pipeline import make_pipeline\n",
    "from sklearn.preprocessing import StandardScaler"
   ]
  },
  {
   "cell_type": "code",
   "execution_count": 17,
   "metadata": {},
   "outputs": [],
   "source": [
    "# Naïve Bayes with standardscaler\n",
    "NB_pipeline = make_pipeline( StandardScaler(), GaussianNB())\n",
    "models.append(('NB_pipeline', NB_pipeline))"
   ]
  },
  {
   "cell_type": "code",
   "execution_count": null,
   "metadata": {},
   "outputs": [],
   "source": []
  },
  {
   "cell_type": "code",
   "execution_count": 18,
   "metadata": {
    "tags": []
   },
   "outputs": [
    {
     "output_type": "stream",
     "name": "stdout",
     "text": "(NB_pipeline, 0.9838766447895948, 0.010196747074416255\n"
    }
   ],
   "source": [
    "scoring = 'recall'\n",
    "name, model\n",
    "# Kfol cross validation for model selection\n",
    "kfold = model_selection.KFold(n_splits=10, random_state=seed)\n",
    "#X train , y train\n",
    "cv_results = model_selection.cross_val_score(NB_pipeline, X_train, y_train, cv=kfold, scoring=scoring)\n",
    "results.append(cv_results)\n",
    "names.append('NB_pipeline')\n",
    "msg = f\"({'NB_pipeline'}, {cv_results.mean()}, {cv_results.std()}\"\n",
    "print(msg)"
   ]
  },
  {
   "cell_type": "code",
   "execution_count": 19,
   "metadata": {},
   "outputs": [
    {
     "output_type": "display_data",
     "data": {
      "application/vnd.plotly.v1+json": {
       "config": {
        "plotlyServerURL": "https://plotly.com"
       },
       "data": [
        {
         "alignmentgroup": "True",
         "hovertemplate": "variable=%{x}<br>value=%{y}<extra></extra>",
         "legendgroup": "",
         "marker": {
          "color": "#636efa"
         },
         "name": "",
         "notched": false,
         "offsetgroup": "",
         "orientation": "v",
         "showlegend": false,
         "type": "box",
         "x": [
          "LR",
          "LR",
          "LR",
          "LR",
          "LR",
          "LR",
          "LR",
          "LR",
          "LR",
          "LR",
          "CART",
          "CART",
          "CART",
          "CART",
          "CART",
          "CART",
          "CART",
          "CART",
          "CART",
          "CART",
          "NB",
          "NB",
          "NB",
          "NB",
          "NB",
          "NB",
          "NB",
          "NB",
          "NB",
          "NB",
          "SVM",
          "SVM",
          "SVM",
          "SVM",
          "SVM",
          "SVM",
          "SVM",
          "SVM",
          "SVM",
          "SVM",
          "NB_pipeline",
          "NB_pipeline",
          "NB_pipeline",
          "NB_pipeline",
          "NB_pipeline",
          "NB_pipeline",
          "NB_pipeline",
          "NB_pipeline",
          "NB_pipeline",
          "NB_pipeline"
         ],
         "x0": " ",
         "xaxis": "x",
         "y": [
          0,
          0.006211180124223602,
          0.007042253521126761,
          0.014184397163120567,
          0.007518796992481203,
          0.011695906432748537,
          0.007462686567164179,
          0.019736842105263157,
          0.02631578947368421,
          0.006024096385542169,
          0.07741935483870968,
          0.09316770186335403,
          0.07042253521126761,
          0.10638297872340426,
          0.09022556390977443,
          0.1111111111111111,
          0.09701492537313433,
          0.10526315789473684,
          0.11842105263157894,
          0.12650602409638553,
          0.9483870967741935,
          0.9440993788819876,
          0.9436619718309859,
          0.9290780141843972,
          0.9548872180451128,
          0.935672514619883,
          0.9328358208955224,
          0.9342105263157895,
          0.9276315789473685,
          0.927710843373494,
          0.7741935483870968,
          0.7577639751552795,
          0.795774647887324,
          0.7021276595744681,
          0.7142857142857143,
          0.7485380116959064,
          0.8134328358208955,
          0.8157894736842105,
          0.7763157894736842,
          0.7650602409638554,
          0.9935483870967742,
          0.9875776397515528,
          0.9929577464788732,
          0.9645390070921985,
          0.9924812030075187,
          0.9824561403508771,
          0.9701492537313433,
          0.9736842105263158,
          0.993421052631579,
          0.9879518072289156
         ],
         "y0": " ",
         "yaxis": "y"
        }
       ],
       "layout": {
        "boxmode": "group",
        "legend": {
         "tracegroupgap": 0
        },
        "template": {
         "data": {
          "bar": [
           {
            "error_x": {
             "color": "#2a3f5f"
            },
            "error_y": {
             "color": "#2a3f5f"
            },
            "marker": {
             "line": {
              "color": "#E5ECF6",
              "width": 0.5
             }
            },
            "type": "bar"
           }
          ],
          "barpolar": [
           {
            "marker": {
             "line": {
              "color": "#E5ECF6",
              "width": 0.5
             }
            },
            "type": "barpolar"
           }
          ],
          "carpet": [
           {
            "aaxis": {
             "endlinecolor": "#2a3f5f",
             "gridcolor": "white",
             "linecolor": "white",
             "minorgridcolor": "white",
             "startlinecolor": "#2a3f5f"
            },
            "baxis": {
             "endlinecolor": "#2a3f5f",
             "gridcolor": "white",
             "linecolor": "white",
             "minorgridcolor": "white",
             "startlinecolor": "#2a3f5f"
            },
            "type": "carpet"
           }
          ],
          "choropleth": [
           {
            "colorbar": {
             "outlinewidth": 0,
             "ticks": ""
            },
            "type": "choropleth"
           }
          ],
          "contour": [
           {
            "colorbar": {
             "outlinewidth": 0,
             "ticks": ""
            },
            "colorscale": [
             [
              0,
              "#0d0887"
             ],
             [
              0.1111111111111111,
              "#46039f"
             ],
             [
              0.2222222222222222,
              "#7201a8"
             ],
             [
              0.3333333333333333,
              "#9c179e"
             ],
             [
              0.4444444444444444,
              "#bd3786"
             ],
             [
              0.5555555555555556,
              "#d8576b"
             ],
             [
              0.6666666666666666,
              "#ed7953"
             ],
             [
              0.7777777777777778,
              "#fb9f3a"
             ],
             [
              0.8888888888888888,
              "#fdca26"
             ],
             [
              1,
              "#f0f921"
             ]
            ],
            "type": "contour"
           }
          ],
          "contourcarpet": [
           {
            "colorbar": {
             "outlinewidth": 0,
             "ticks": ""
            },
            "type": "contourcarpet"
           }
          ],
          "heatmap": [
           {
            "colorbar": {
             "outlinewidth": 0,
             "ticks": ""
            },
            "colorscale": [
             [
              0,
              "#0d0887"
             ],
             [
              0.1111111111111111,
              "#46039f"
             ],
             [
              0.2222222222222222,
              "#7201a8"
             ],
             [
              0.3333333333333333,
              "#9c179e"
             ],
             [
              0.4444444444444444,
              "#bd3786"
             ],
             [
              0.5555555555555556,
              "#d8576b"
             ],
             [
              0.6666666666666666,
              "#ed7953"
             ],
             [
              0.7777777777777778,
              "#fb9f3a"
             ],
             [
              0.8888888888888888,
              "#fdca26"
             ],
             [
              1,
              "#f0f921"
             ]
            ],
            "type": "heatmap"
           }
          ],
          "heatmapgl": [
           {
            "colorbar": {
             "outlinewidth": 0,
             "ticks": ""
            },
            "colorscale": [
             [
              0,
              "#0d0887"
             ],
             [
              0.1111111111111111,
              "#46039f"
             ],
             [
              0.2222222222222222,
              "#7201a8"
             ],
             [
              0.3333333333333333,
              "#9c179e"
             ],
             [
              0.4444444444444444,
              "#bd3786"
             ],
             [
              0.5555555555555556,
              "#d8576b"
             ],
             [
              0.6666666666666666,
              "#ed7953"
             ],
             [
              0.7777777777777778,
              "#fb9f3a"
             ],
             [
              0.8888888888888888,
              "#fdca26"
             ],
             [
              1,
              "#f0f921"
             ]
            ],
            "type": "heatmapgl"
           }
          ],
          "histogram": [
           {
            "marker": {
             "colorbar": {
              "outlinewidth": 0,
              "ticks": ""
             }
            },
            "type": "histogram"
           }
          ],
          "histogram2d": [
           {
            "colorbar": {
             "outlinewidth": 0,
             "ticks": ""
            },
            "colorscale": [
             [
              0,
              "#0d0887"
             ],
             [
              0.1111111111111111,
              "#46039f"
             ],
             [
              0.2222222222222222,
              "#7201a8"
             ],
             [
              0.3333333333333333,
              "#9c179e"
             ],
             [
              0.4444444444444444,
              "#bd3786"
             ],
             [
              0.5555555555555556,
              "#d8576b"
             ],
             [
              0.6666666666666666,
              "#ed7953"
             ],
             [
              0.7777777777777778,
              "#fb9f3a"
             ],
             [
              0.8888888888888888,
              "#fdca26"
             ],
             [
              1,
              "#f0f921"
             ]
            ],
            "type": "histogram2d"
           }
          ],
          "histogram2dcontour": [
           {
            "colorbar": {
             "outlinewidth": 0,
             "ticks": ""
            },
            "colorscale": [
             [
              0,
              "#0d0887"
             ],
             [
              0.1111111111111111,
              "#46039f"
             ],
             [
              0.2222222222222222,
              "#7201a8"
             ],
             [
              0.3333333333333333,
              "#9c179e"
             ],
             [
              0.4444444444444444,
              "#bd3786"
             ],
             [
              0.5555555555555556,
              "#d8576b"
             ],
             [
              0.6666666666666666,
              "#ed7953"
             ],
             [
              0.7777777777777778,
              "#fb9f3a"
             ],
             [
              0.8888888888888888,
              "#fdca26"
             ],
             [
              1,
              "#f0f921"
             ]
            ],
            "type": "histogram2dcontour"
           }
          ],
          "mesh3d": [
           {
            "colorbar": {
             "outlinewidth": 0,
             "ticks": ""
            },
            "type": "mesh3d"
           }
          ],
          "parcoords": [
           {
            "line": {
             "colorbar": {
              "outlinewidth": 0,
              "ticks": ""
             }
            },
            "type": "parcoords"
           }
          ],
          "pie": [
           {
            "automargin": true,
            "type": "pie"
           }
          ],
          "scatter": [
           {
            "marker": {
             "colorbar": {
              "outlinewidth": 0,
              "ticks": ""
             }
            },
            "type": "scatter"
           }
          ],
          "scatter3d": [
           {
            "line": {
             "colorbar": {
              "outlinewidth": 0,
              "ticks": ""
             }
            },
            "marker": {
             "colorbar": {
              "outlinewidth": 0,
              "ticks": ""
             }
            },
            "type": "scatter3d"
           }
          ],
          "scattercarpet": [
           {
            "marker": {
             "colorbar": {
              "outlinewidth": 0,
              "ticks": ""
             }
            },
            "type": "scattercarpet"
           }
          ],
          "scattergeo": [
           {
            "marker": {
             "colorbar": {
              "outlinewidth": 0,
              "ticks": ""
             }
            },
            "type": "scattergeo"
           }
          ],
          "scattergl": [
           {
            "marker": {
             "colorbar": {
              "outlinewidth": 0,
              "ticks": ""
             }
            },
            "type": "scattergl"
           }
          ],
          "scattermapbox": [
           {
            "marker": {
             "colorbar": {
              "outlinewidth": 0,
              "ticks": ""
             }
            },
            "type": "scattermapbox"
           }
          ],
          "scatterpolar": [
           {
            "marker": {
             "colorbar": {
              "outlinewidth": 0,
              "ticks": ""
             }
            },
            "type": "scatterpolar"
           }
          ],
          "scatterpolargl": [
           {
            "marker": {
             "colorbar": {
              "outlinewidth": 0,
              "ticks": ""
             }
            },
            "type": "scatterpolargl"
           }
          ],
          "scatterternary": [
           {
            "marker": {
             "colorbar": {
              "outlinewidth": 0,
              "ticks": ""
             }
            },
            "type": "scatterternary"
           }
          ],
          "surface": [
           {
            "colorbar": {
             "outlinewidth": 0,
             "ticks": ""
            },
            "colorscale": [
             [
              0,
              "#0d0887"
             ],
             [
              0.1111111111111111,
              "#46039f"
             ],
             [
              0.2222222222222222,
              "#7201a8"
             ],
             [
              0.3333333333333333,
              "#9c179e"
             ],
             [
              0.4444444444444444,
              "#bd3786"
             ],
             [
              0.5555555555555556,
              "#d8576b"
             ],
             [
              0.6666666666666666,
              "#ed7953"
             ],
             [
              0.7777777777777778,
              "#fb9f3a"
             ],
             [
              0.8888888888888888,
              "#fdca26"
             ],
             [
              1,
              "#f0f921"
             ]
            ],
            "type": "surface"
           }
          ],
          "table": [
           {
            "cells": {
             "fill": {
              "color": "#EBF0F8"
             },
             "line": {
              "color": "white"
             }
            },
            "header": {
             "fill": {
              "color": "#C8D4E3"
             },
             "line": {
              "color": "white"
             }
            },
            "type": "table"
           }
          ]
         },
         "layout": {
          "annotationdefaults": {
           "arrowcolor": "#2a3f5f",
           "arrowhead": 0,
           "arrowwidth": 1
          },
          "coloraxis": {
           "colorbar": {
            "outlinewidth": 0,
            "ticks": ""
           }
          },
          "colorscale": {
           "diverging": [
            [
             0,
             "#8e0152"
            ],
            [
             0.1,
             "#c51b7d"
            ],
            [
             0.2,
             "#de77ae"
            ],
            [
             0.3,
             "#f1b6da"
            ],
            [
             0.4,
             "#fde0ef"
            ],
            [
             0.5,
             "#f7f7f7"
            ],
            [
             0.6,
             "#e6f5d0"
            ],
            [
             0.7,
             "#b8e186"
            ],
            [
             0.8,
             "#7fbc41"
            ],
            [
             0.9,
             "#4d9221"
            ],
            [
             1,
             "#276419"
            ]
           ],
           "sequential": [
            [
             0,
             "#0d0887"
            ],
            [
             0.1111111111111111,
             "#46039f"
            ],
            [
             0.2222222222222222,
             "#7201a8"
            ],
            [
             0.3333333333333333,
             "#9c179e"
            ],
            [
             0.4444444444444444,
             "#bd3786"
            ],
            [
             0.5555555555555556,
             "#d8576b"
            ],
            [
             0.6666666666666666,
             "#ed7953"
            ],
            [
             0.7777777777777778,
             "#fb9f3a"
            ],
            [
             0.8888888888888888,
             "#fdca26"
            ],
            [
             1,
             "#f0f921"
            ]
           ],
           "sequentialminus": [
            [
             0,
             "#0d0887"
            ],
            [
             0.1111111111111111,
             "#46039f"
            ],
            [
             0.2222222222222222,
             "#7201a8"
            ],
            [
             0.3333333333333333,
             "#9c179e"
            ],
            [
             0.4444444444444444,
             "#bd3786"
            ],
            [
             0.5555555555555556,
             "#d8576b"
            ],
            [
             0.6666666666666666,
             "#ed7953"
            ],
            [
             0.7777777777777778,
             "#fb9f3a"
            ],
            [
             0.8888888888888888,
             "#fdca26"
            ],
            [
             1,
             "#f0f921"
            ]
           ]
          },
          "colorway": [
           "#636efa",
           "#EF553B",
           "#00cc96",
           "#ab63fa",
           "#FFA15A",
           "#19d3f3",
           "#FF6692",
           "#B6E880",
           "#FF97FF",
           "#FECB52"
          ],
          "font": {
           "color": "#2a3f5f"
          },
          "geo": {
           "bgcolor": "white",
           "lakecolor": "white",
           "landcolor": "#E5ECF6",
           "showlakes": true,
           "showland": true,
           "subunitcolor": "white"
          },
          "hoverlabel": {
           "align": "left"
          },
          "hovermode": "closest",
          "mapbox": {
           "style": "light"
          },
          "paper_bgcolor": "white",
          "plot_bgcolor": "#E5ECF6",
          "polar": {
           "angularaxis": {
            "gridcolor": "white",
            "linecolor": "white",
            "ticks": ""
           },
           "bgcolor": "#E5ECF6",
           "radialaxis": {
            "gridcolor": "white",
            "linecolor": "white",
            "ticks": ""
           }
          },
          "scene": {
           "xaxis": {
            "backgroundcolor": "#E5ECF6",
            "gridcolor": "white",
            "gridwidth": 2,
            "linecolor": "white",
            "showbackground": true,
            "ticks": "",
            "zerolinecolor": "white"
           },
           "yaxis": {
            "backgroundcolor": "#E5ECF6",
            "gridcolor": "white",
            "gridwidth": 2,
            "linecolor": "white",
            "showbackground": true,
            "ticks": "",
            "zerolinecolor": "white"
           },
           "zaxis": {
            "backgroundcolor": "#E5ECF6",
            "gridcolor": "white",
            "gridwidth": 2,
            "linecolor": "white",
            "showbackground": true,
            "ticks": "",
            "zerolinecolor": "white"
           }
          },
          "shapedefaults": {
           "line": {
            "color": "#2a3f5f"
           }
          },
          "ternary": {
           "aaxis": {
            "gridcolor": "white",
            "linecolor": "white",
            "ticks": ""
           },
           "baxis": {
            "gridcolor": "white",
            "linecolor": "white",
            "ticks": ""
           },
           "bgcolor": "#E5ECF6",
           "caxis": {
            "gridcolor": "white",
            "linecolor": "white",
            "ticks": ""
           }
          },
          "title": {
           "x": 0.05
          },
          "xaxis": {
           "automargin": true,
           "gridcolor": "white",
           "linecolor": "white",
           "ticks": "",
           "title": {
            "standoff": 15
           },
           "zerolinecolor": "white",
           "zerolinewidth": 2
          },
          "yaxis": {
           "automargin": true,
           "gridcolor": "white",
           "linecolor": "white",
           "ticks": "",
           "title": {
            "standoff": 15
           },
           "zerolinecolor": "white",
           "zerolinewidth": 2
          }
         }
        },
        "title": {
         "text": "Algorithm Comparison"
        },
        "xaxis": {
         "anchor": "y",
         "domain": [
          0,
          1
         ],
         "title": {
          "text": "variable"
         }
        },
        "yaxis": {
         "anchor": "x",
         "domain": [
          0,
          1
         ],
         "title": {
          "text": "value"
         }
        }
       }
      }
     },
     "metadata": {}
    }
   ],
   "source": [
    "result_df = pd.DataFrame(results, index=names).T\n",
    "px.box(result_df,title = 'Algorithm Comparison')"
   ]
  },
  {
   "cell_type": "markdown",
   "metadata": {},
   "source": [
    "# Hyper Parameter optimization\n"
   ]
  },
  {
   "source": [
    "Check if GaussianNB get better results knowing the prior distribution of the classes"
   ],
   "cell_type": "markdown",
   "metadata": {}
  },
  {
   "cell_type": "code",
   "execution_count": 20,
   "metadata": {},
   "outputs": [],
   "source": [
    "from sklearn.model_selection import GridSearchCV"
   ]
  },
  {
   "cell_type": "code",
   "execution_count": 21,
   "metadata": {},
   "outputs": [
    {
     "output_type": "execute_result",
     "data": {
      "text/plain": "0    0.959541\n1    0.040459\nName: readmitted, dtype: float64"
     },
     "metadata": {},
     "execution_count": 21
    }
   ],
   "source": [
    "#priors calculation\n",
    "y.value_counts()/len(y)"
   ]
  },
  {
   "cell_type": "code",
   "execution_count": 22,
   "metadata": {},
   "outputs": [],
   "source": [
    "a,b = y.value_counts()/len(y)"
   ]
  },
  {
   "cell_type": "code",
   "execution_count": 23,
   "metadata": {},
   "outputs": [
    {
     "output_type": "execute_result",
     "data": {
      "text/plain": "{'priors': None}"
     },
     "metadata": {},
     "execution_count": 23
    }
   ],
   "source": [
    "parameters = {'priors': [None, [a,b]]}\n",
    "\n",
    "grid_search = GridSearchCV(GaussianNB(), parameters, cv=10, return_train_score=True)\n",
    "grid_search.fit(X_train, y_train)\n",
    "\n",
    "grid_search.best_params_"
   ]
  },
  {
   "source": [
    "the prior statistical information computed by the model is very similar to the one calculated by hand using the whole dataset information"
   ],
   "cell_type": "markdown",
   "metadata": {}
  },
  {
   "cell_type": "markdown",
   "metadata": {},
   "source": [
    "# Final evaluation Test set"
   ]
  },
  {
   "cell_type": "code",
   "execution_count": 24,
   "metadata": {},
   "outputs": [],
   "source": [
    "from sklearn.metrics import plot_confusion_matrix\n",
    "from sklearn.metrics import classification_report\n",
    "from sklearn.metrics import confusion_matrix"
   ]
  },
  {
   "source": [
    "## Naïve Bayes"
   ],
   "cell_type": "markdown",
   "metadata": {}
  },
  {
   "cell_type": "code",
   "execution_count": 25,
   "metadata": {},
   "outputs": [],
   "source": [
    "NB = GaussianNB()\n",
    "NB.fit(X_train,y_train)\n",
    "y_pred = NB.predict(X_test)"
   ]
  },
  {
   "cell_type": "code",
   "execution_count": 26,
   "metadata": {
    "tags": []
   },
   "outputs": [
    {
     "output_type": "stream",
     "name": "stdout",
     "text": "precision    recall  f1-score   support\n\n           0       0.98      0.14      0.24     15319\n           1       0.04      0.93      0.08       646\n\n    accuracy                           0.17     15965\n   macro avg       0.51      0.53      0.16     15965\nweighted avg       0.94      0.17      0.23     15965\n\n"
    }
   ],
   "source": [
    "print(classification_report(y_test, y_pred))"
   ]
  },
  {
   "cell_type": "code",
   "execution_count": 27,
   "metadata": {},
   "outputs": [
    {
     "output_type": "display_data",
     "data": {
      "text/plain": "<Figure size 432x288 with 2 Axes>",
      "image/svg+xml": "<?xml version=\"1.0\" encoding=\"utf-8\" standalone=\"no\"?>\n<!DOCTYPE svg PUBLIC \"-//W3C//DTD SVG 1.1//EN\"\n  \"http://www.w3.org/Graphics/SVG/1.1/DTD/svg11.dtd\">\n<!-- Created with matplotlib (https://matplotlib.org/) -->\n<svg height=\"262.19625pt\" version=\"1.1\" viewBox=\"0 0 325.305125 262.19625\" width=\"325.305125pt\" xmlns=\"http://www.w3.org/2000/svg\" xmlns:xlink=\"http://www.w3.org/1999/xlink\">\n <defs>\n  <style type=\"text/css\">\n*{stroke-linecap:butt;stroke-linejoin:round;}\n  </style>\n </defs>\n <g id=\"figure_1\">\n  <g id=\"patch_1\">\n   <path d=\"M 0 262.19625 \nL 325.305125 262.19625 \nL 325.305125 0 \nL 0 0 \nz\n\" style=\"fill:none;\"/>\n  </g>\n  <g id=\"axes_1\">\n   <g id=\"patch_2\">\n    <path d=\"M 34.240625 224.64 \nL 251.680625 224.64 \nL 251.680625 7.2 \nL 34.240625 7.2 \nz\n\" style=\"fill:#ffffff;\"/>\n   </g>\n   <g clip-path=\"url(#p3a76c34187)\">\n    <image height=\"218\" id=\"image14d7c0f7d1\" transform=\"scale(1 -1)translate(0 -218)\" width=\"218\" x=\"34.240625\" xlink:href=\"data:image/png;base64,\niVBORw0KGgoAAAANSUhEUgAAANoAAADaCAYAAADAHVzbAAAABHNCSVQICAgIfAhkiAAAApVJREFUeJzt1bENwkAABEGMKMht0BD9khODZYRMDZ/sCzFTwSWrW17v4zjxU7b9M3sCg86zB8A/EBoEhAYBoUFAaBAQGgSEBgGhQUBoEBAaBIQGAaFBQGgQEBoEhAYBoUFAaBAQGgSEBgGhQUBoEBAaBIQGAaFBQGgQEBoEhAYBoUFAaBAQGgSEBgGhQUBoEBAaBIQGAaFBQGgQEBoEhAYBoUFAaBAQGgSEBgGhQUBoEBAaBIQGAaFBQGgQEBoEhAYBoUFAaBAQGgSEBgGhQUBoEBAaBIQGAaFBQGgQEBoEhAYBoUFAaBAQGgSEBgGhQUBoEBAaBIQGAaFBQGgQEBoEhAYBoUFAaBAQGgSEBgGhQUBoEBAaBIQGAaFBQGgQEBoEhAYBoUFAaBAQGgSEBgGhQUBoEBAaBIQGAaFBQGgQEBoEhAYBoUFAaBAQGgSEBgGhQUBoEBAaBIQGAaFB4HJ/PGdvYNB6vc2ewCCPBgGhQUBoEBAaBIQGAaFBQGgQEBoEhAYBoUFAaBAQGgSEBgGhQUBoEBAaBIQGAaFBQGgQEBoEhAYBoUFAaBAQGgSEBgGhQUBoEBAaBIQGAaFBQGgQEBoEhAYBoUFAaBAQGgSEBgGhQUBoEBAaBIQGAaFBQGgQEBoEhAYBoUFAaBAQGgSEBgGhQUBoEBAaBIQGAaFBQGgQEBoEhAYBoUFAaBAQGgSEBgGhQUBoEBAaBIQGAaFBQGgQEBoEhAYBoUFAaBAQGgSEBgGhQUBoEBAaBIQGAaFBQGgQEBoEhAYBoUFAaBAQGgSEBgGhQUBoEBAaBIQGAaFBQGgQEBoEhAYBoUFAaBAQGgSEBgGhQUBoEBAaBIQGAaFBQGgQEBoEhAYBoUFAaBAQGgS+do0MR7iUek0AAAAASUVORK5CYII=\" y=\"-6.64\"/>\n   </g>\n   <g id=\"matplotlib.axis_1\">\n    <g id=\"xtick_1\">\n     <g id=\"line2d_1\">\n      <defs>\n       <path d=\"M 0 0 \nL 0 3.5 \n\" id=\"me0252e5553\" style=\"stroke:#000000;stroke-width:0.8;\"/>\n      </defs>\n      <g>\n       <use style=\"stroke:#000000;stroke-width:0.8;\" x=\"88.600625\" xlink:href=\"#me0252e5553\" y=\"224.64\"/>\n      </g>\n     </g>\n     <g id=\"text_1\">\n      <!-- 0 -->\n      <defs>\n       <path d=\"M 31.78125 66.40625 \nQ 24.171875 66.40625 20.328125 58.90625 \nQ 16.5 51.421875 16.5 36.375 \nQ 16.5 21.390625 20.328125 13.890625 \nQ 24.171875 6.390625 31.78125 6.390625 \nQ 39.453125 6.390625 43.28125 13.890625 \nQ 47.125 21.390625 47.125 36.375 \nQ 47.125 51.421875 43.28125 58.90625 \nQ 39.453125 66.40625 31.78125 66.40625 \nz\nM 31.78125 74.21875 \nQ 44.046875 74.21875 50.515625 64.515625 \nQ 56.984375 54.828125 56.984375 36.375 \nQ 56.984375 17.96875 50.515625 8.265625 \nQ 44.046875 -1.421875 31.78125 -1.421875 \nQ 19.53125 -1.421875 13.0625 8.265625 \nQ 6.59375 17.96875 6.59375 36.375 \nQ 6.59375 54.828125 13.0625 64.515625 \nQ 19.53125 74.21875 31.78125 74.21875 \nz\n\" id=\"DejaVuSans-48\"/>\n      </defs>\n      <g transform=\"translate(85.419375 239.238437)scale(0.1 -0.1)\">\n       <use xlink:href=\"#DejaVuSans-48\"/>\n      </g>\n     </g>\n    </g>\n    <g id=\"xtick_2\">\n     <g id=\"line2d_2\">\n      <g>\n       <use style=\"stroke:#000000;stroke-width:0.8;\" x=\"197.320625\" xlink:href=\"#me0252e5553\" y=\"224.64\"/>\n      </g>\n     </g>\n     <g id=\"text_2\">\n      <!-- 1 -->\n      <defs>\n       <path d=\"M 12.40625 8.296875 \nL 28.515625 8.296875 \nL 28.515625 63.921875 \nL 10.984375 60.40625 \nL 10.984375 69.390625 \nL 28.421875 72.90625 \nL 38.28125 72.90625 \nL 38.28125 8.296875 \nL 54.390625 8.296875 \nL 54.390625 0 \nL 12.40625 0 \nz\n\" id=\"DejaVuSans-49\"/>\n      </defs>\n      <g transform=\"translate(194.139375 239.238437)scale(0.1 -0.1)\">\n       <use xlink:href=\"#DejaVuSans-49\"/>\n      </g>\n     </g>\n    </g>\n    <g id=\"text_3\">\n     <!-- Predicted label -->\n     <defs>\n      <path d=\"M 19.671875 64.796875 \nL 19.671875 37.40625 \nL 32.078125 37.40625 \nQ 38.96875 37.40625 42.71875 40.96875 \nQ 46.484375 44.53125 46.484375 51.125 \nQ 46.484375 57.671875 42.71875 61.234375 \nQ 38.96875 64.796875 32.078125 64.796875 \nz\nM 9.8125 72.90625 \nL 32.078125 72.90625 \nQ 44.34375 72.90625 50.609375 67.359375 \nQ 56.890625 61.8125 56.890625 51.125 \nQ 56.890625 40.328125 50.609375 34.8125 \nQ 44.34375 29.296875 32.078125 29.296875 \nL 19.671875 29.296875 \nL 19.671875 0 \nL 9.8125 0 \nz\n\" id=\"DejaVuSans-80\"/>\n      <path d=\"M 41.109375 46.296875 \nQ 39.59375 47.171875 37.8125 47.578125 \nQ 36.03125 48 33.890625 48 \nQ 26.265625 48 22.1875 43.046875 \nQ 18.109375 38.09375 18.109375 28.8125 \nL 18.109375 0 \nL 9.078125 0 \nL 9.078125 54.6875 \nL 18.109375 54.6875 \nL 18.109375 46.1875 \nQ 20.953125 51.171875 25.484375 53.578125 \nQ 30.03125 56 36.53125 56 \nQ 37.453125 56 38.578125 55.875 \nQ 39.703125 55.765625 41.0625 55.515625 \nz\n\" id=\"DejaVuSans-114\"/>\n      <path d=\"M 56.203125 29.59375 \nL 56.203125 25.203125 \nL 14.890625 25.203125 \nQ 15.484375 15.921875 20.484375 11.0625 \nQ 25.484375 6.203125 34.421875 6.203125 \nQ 39.59375 6.203125 44.453125 7.46875 \nQ 49.3125 8.734375 54.109375 11.28125 \nL 54.109375 2.78125 \nQ 49.265625 0.734375 44.1875 -0.34375 \nQ 39.109375 -1.421875 33.890625 -1.421875 \nQ 20.796875 -1.421875 13.15625 6.1875 \nQ 5.515625 13.8125 5.515625 26.8125 \nQ 5.515625 40.234375 12.765625 48.109375 \nQ 20.015625 56 32.328125 56 \nQ 43.359375 56 49.78125 48.890625 \nQ 56.203125 41.796875 56.203125 29.59375 \nz\nM 47.21875 32.234375 \nQ 47.125 39.59375 43.09375 43.984375 \nQ 39.0625 48.390625 32.421875 48.390625 \nQ 24.90625 48.390625 20.390625 44.140625 \nQ 15.875 39.890625 15.1875 32.171875 \nz\n\" id=\"DejaVuSans-101\"/>\n      <path d=\"M 45.40625 46.390625 \nL 45.40625 75.984375 \nL 54.390625 75.984375 \nL 54.390625 0 \nL 45.40625 0 \nL 45.40625 8.203125 \nQ 42.578125 3.328125 38.25 0.953125 \nQ 33.9375 -1.421875 27.875 -1.421875 \nQ 17.96875 -1.421875 11.734375 6.484375 \nQ 5.515625 14.40625 5.515625 27.296875 \nQ 5.515625 40.1875 11.734375 48.09375 \nQ 17.96875 56 27.875 56 \nQ 33.9375 56 38.25 53.625 \nQ 42.578125 51.265625 45.40625 46.390625 \nz\nM 14.796875 27.296875 \nQ 14.796875 17.390625 18.875 11.75 \nQ 22.953125 6.109375 30.078125 6.109375 \nQ 37.203125 6.109375 41.296875 11.75 \nQ 45.40625 17.390625 45.40625 27.296875 \nQ 45.40625 37.203125 41.296875 42.84375 \nQ 37.203125 48.484375 30.078125 48.484375 \nQ 22.953125 48.484375 18.875 42.84375 \nQ 14.796875 37.203125 14.796875 27.296875 \nz\n\" id=\"DejaVuSans-100\"/>\n      <path d=\"M 9.421875 54.6875 \nL 18.40625 54.6875 \nL 18.40625 0 \nL 9.421875 0 \nz\nM 9.421875 75.984375 \nL 18.40625 75.984375 \nL 18.40625 64.59375 \nL 9.421875 64.59375 \nz\n\" id=\"DejaVuSans-105\"/>\n      <path d=\"M 48.78125 52.59375 \nL 48.78125 44.1875 \nQ 44.96875 46.296875 41.140625 47.34375 \nQ 37.3125 48.390625 33.40625 48.390625 \nQ 24.65625 48.390625 19.8125 42.84375 \nQ 14.984375 37.3125 14.984375 27.296875 \nQ 14.984375 17.28125 19.8125 11.734375 \nQ 24.65625 6.203125 33.40625 6.203125 \nQ 37.3125 6.203125 41.140625 7.25 \nQ 44.96875 8.296875 48.78125 10.40625 \nL 48.78125 2.09375 \nQ 45.015625 0.34375 40.984375 -0.53125 \nQ 36.96875 -1.421875 32.421875 -1.421875 \nQ 20.0625 -1.421875 12.78125 6.34375 \nQ 5.515625 14.109375 5.515625 27.296875 \nQ 5.515625 40.671875 12.859375 48.328125 \nQ 20.21875 56 33.015625 56 \nQ 37.15625 56 41.109375 55.140625 \nQ 45.0625 54.296875 48.78125 52.59375 \nz\n\" id=\"DejaVuSans-99\"/>\n      <path d=\"M 18.3125 70.21875 \nL 18.3125 54.6875 \nL 36.8125 54.6875 \nL 36.8125 47.703125 \nL 18.3125 47.703125 \nL 18.3125 18.015625 \nQ 18.3125 11.328125 20.140625 9.421875 \nQ 21.96875 7.515625 27.59375 7.515625 \nL 36.8125 7.515625 \nL 36.8125 0 \nL 27.59375 0 \nQ 17.1875 0 13.234375 3.875 \nQ 9.28125 7.765625 9.28125 18.015625 \nL 9.28125 47.703125 \nL 2.6875 47.703125 \nL 2.6875 54.6875 \nL 9.28125 54.6875 \nL 9.28125 70.21875 \nz\n\" id=\"DejaVuSans-116\"/>\n      <path id=\"DejaVuSans-32\"/>\n      <path d=\"M 9.421875 75.984375 \nL 18.40625 75.984375 \nL 18.40625 0 \nL 9.421875 0 \nz\n\" id=\"DejaVuSans-108\"/>\n      <path d=\"M 34.28125 27.484375 \nQ 23.390625 27.484375 19.1875 25 \nQ 14.984375 22.515625 14.984375 16.5 \nQ 14.984375 11.71875 18.140625 8.90625 \nQ 21.296875 6.109375 26.703125 6.109375 \nQ 34.1875 6.109375 38.703125 11.40625 \nQ 43.21875 16.703125 43.21875 25.484375 \nL 43.21875 27.484375 \nz\nM 52.203125 31.203125 \nL 52.203125 0 \nL 43.21875 0 \nL 43.21875 8.296875 \nQ 40.140625 3.328125 35.546875 0.953125 \nQ 30.953125 -1.421875 24.3125 -1.421875 \nQ 15.921875 -1.421875 10.953125 3.296875 \nQ 6 8.015625 6 15.921875 \nQ 6 25.140625 12.171875 29.828125 \nQ 18.359375 34.515625 30.609375 34.515625 \nL 43.21875 34.515625 \nL 43.21875 35.40625 \nQ 43.21875 41.609375 39.140625 45 \nQ 35.0625 48.390625 27.6875 48.390625 \nQ 23 48.390625 18.546875 47.265625 \nQ 14.109375 46.140625 10.015625 43.890625 \nL 10.015625 52.203125 \nQ 14.9375 54.109375 19.578125 55.046875 \nQ 24.21875 56 28.609375 56 \nQ 40.484375 56 46.34375 49.84375 \nQ 52.203125 43.703125 52.203125 31.203125 \nz\n\" id=\"DejaVuSans-97\"/>\n      <path d=\"M 48.6875 27.296875 \nQ 48.6875 37.203125 44.609375 42.84375 \nQ 40.53125 48.484375 33.40625 48.484375 \nQ 26.265625 48.484375 22.1875 42.84375 \nQ 18.109375 37.203125 18.109375 27.296875 \nQ 18.109375 17.390625 22.1875 11.75 \nQ 26.265625 6.109375 33.40625 6.109375 \nQ 40.53125 6.109375 44.609375 11.75 \nQ 48.6875 17.390625 48.6875 27.296875 \nz\nM 18.109375 46.390625 \nQ 20.953125 51.265625 25.265625 53.625 \nQ 29.59375 56 35.59375 56 \nQ 45.5625 56 51.78125 48.09375 \nQ 58.015625 40.1875 58.015625 27.296875 \nQ 58.015625 14.40625 51.78125 6.484375 \nQ 45.5625 -1.421875 35.59375 -1.421875 \nQ 29.59375 -1.421875 25.265625 0.953125 \nQ 20.953125 3.328125 18.109375 8.203125 \nL 18.109375 0 \nL 9.078125 0 \nL 9.078125 75.984375 \nL 18.109375 75.984375 \nz\n\" id=\"DejaVuSans-98\"/>\n     </defs>\n     <g transform=\"translate(105.808281 252.916562)scale(0.1 -0.1)\">\n      <use xlink:href=\"#DejaVuSans-80\"/>\n      <use x=\"58.552734\" xlink:href=\"#DejaVuSans-114\"/>\n      <use x=\"97.416016\" xlink:href=\"#DejaVuSans-101\"/>\n      <use x=\"158.939453\" xlink:href=\"#DejaVuSans-100\"/>\n      <use x=\"222.416016\" xlink:href=\"#DejaVuSans-105\"/>\n      <use x=\"250.199219\" xlink:href=\"#DejaVuSans-99\"/>\n      <use x=\"305.179688\" xlink:href=\"#DejaVuSans-116\"/>\n      <use x=\"344.388672\" xlink:href=\"#DejaVuSans-101\"/>\n      <use x=\"405.912109\" xlink:href=\"#DejaVuSans-100\"/>\n      <use x=\"469.388672\" xlink:href=\"#DejaVuSans-32\"/>\n      <use x=\"501.175781\" xlink:href=\"#DejaVuSans-108\"/>\n      <use x=\"528.958984\" xlink:href=\"#DejaVuSans-97\"/>\n      <use x=\"590.238281\" xlink:href=\"#DejaVuSans-98\"/>\n      <use x=\"653.714844\" xlink:href=\"#DejaVuSans-101\"/>\n      <use x=\"715.238281\" xlink:href=\"#DejaVuSans-108\"/>\n     </g>\n    </g>\n   </g>\n   <g id=\"matplotlib.axis_2\">\n    <g id=\"ytick_1\">\n     <g id=\"line2d_3\">\n      <defs>\n       <path d=\"M 0 0 \nL -3.5 0 \n\" id=\"m15a490bdcf\" style=\"stroke:#000000;stroke-width:0.8;\"/>\n      </defs>\n      <g>\n       <use style=\"stroke:#000000;stroke-width:0.8;\" x=\"34.240625\" xlink:href=\"#m15a490bdcf\" y=\"61.56\"/>\n      </g>\n     </g>\n     <g id=\"text_4\">\n      <!-- 0 -->\n      <g transform=\"translate(20.878125 65.359219)scale(0.1 -0.1)\">\n       <use xlink:href=\"#DejaVuSans-48\"/>\n      </g>\n     </g>\n    </g>\n    <g id=\"ytick_2\">\n     <g id=\"line2d_4\">\n      <g>\n       <use style=\"stroke:#000000;stroke-width:0.8;\" x=\"34.240625\" xlink:href=\"#m15a490bdcf\" y=\"170.28\"/>\n      </g>\n     </g>\n     <g id=\"text_5\">\n      <!-- 1 -->\n      <g transform=\"translate(20.878125 174.079219)scale(0.1 -0.1)\">\n       <use xlink:href=\"#DejaVuSans-49\"/>\n      </g>\n     </g>\n    </g>\n    <g id=\"text_6\">\n     <!-- True label -->\n     <defs>\n      <path d=\"M -0.296875 72.90625 \nL 61.375 72.90625 \nL 61.375 64.59375 \nL 35.5 64.59375 \nL 35.5 0 \nL 25.59375 0 \nL 25.59375 64.59375 \nL -0.296875 64.59375 \nz\n\" id=\"DejaVuSans-84\"/>\n      <path d=\"M 8.5 21.578125 \nL 8.5 54.6875 \nL 17.484375 54.6875 \nL 17.484375 21.921875 \nQ 17.484375 14.15625 20.5 10.265625 \nQ 23.53125 6.390625 29.59375 6.390625 \nQ 36.859375 6.390625 41.078125 11.03125 \nQ 45.3125 15.671875 45.3125 23.6875 \nL 45.3125 54.6875 \nL 54.296875 54.6875 \nL 54.296875 0 \nL 45.3125 0 \nL 45.3125 8.40625 \nQ 42.046875 3.421875 37.71875 1 \nQ 33.40625 -1.421875 27.6875 -1.421875 \nQ 18.265625 -1.421875 13.375 4.4375 \nQ 8.5 10.296875 8.5 21.578125 \nz\nM 31.109375 56 \nz\n\" id=\"DejaVuSans-117\"/>\n     </defs>\n     <g transform=\"translate(14.798437 140.219219)rotate(-90)scale(0.1 -0.1)\">\n      <use xlink:href=\"#DejaVuSans-84\"/>\n      <use x=\"46.333984\" xlink:href=\"#DejaVuSans-114\"/>\n      <use x=\"87.447266\" xlink:href=\"#DejaVuSans-117\"/>\n      <use x=\"150.826172\" xlink:href=\"#DejaVuSans-101\"/>\n      <use x=\"212.349609\" xlink:href=\"#DejaVuSans-32\"/>\n      <use x=\"244.136719\" xlink:href=\"#DejaVuSans-108\"/>\n      <use x=\"271.919922\" xlink:href=\"#DejaVuSans-97\"/>\n      <use x=\"333.199219\" xlink:href=\"#DejaVuSans-98\"/>\n      <use x=\"396.675781\" xlink:href=\"#DejaVuSans-101\"/>\n      <use x=\"458.199219\" xlink:href=\"#DejaVuSans-108\"/>\n     </g>\n    </g>\n   </g>\n   <g id=\"patch_3\">\n    <path d=\"M 34.240625 224.64 \nL 34.240625 7.2 \n\" style=\"fill:none;stroke:#000000;stroke-linecap:square;stroke-linejoin:miter;stroke-width:0.8;\"/>\n   </g>\n   <g id=\"patch_4\">\n    <path d=\"M 251.680625 224.64 \nL 251.680625 7.2 \n\" style=\"fill:none;stroke:#000000;stroke-linecap:square;stroke-linejoin:miter;stroke-width:0.8;\"/>\n   </g>\n   <g id=\"patch_5\">\n    <path d=\"M 34.240625 224.64 \nL 251.680625 224.64 \n\" style=\"fill:none;stroke:#000000;stroke-linecap:square;stroke-linejoin:miter;stroke-width:0.8;\"/>\n   </g>\n   <g id=\"patch_6\">\n    <path d=\"M 34.240625 7.2 \nL 251.680625 7.2 \n\" style=\"fill:none;stroke:#000000;stroke-linecap:square;stroke-linejoin:miter;stroke-width:0.8;\"/>\n   </g>\n   <g id=\"text_7\">\n    <!-- 2072 -->\n    <defs>\n     <path d=\"M 19.1875 8.296875 \nL 53.609375 8.296875 \nL 53.609375 0 \nL 7.328125 0 \nL 7.328125 8.296875 \nQ 12.9375 14.109375 22.625 23.890625 \nQ 32.328125 33.6875 34.8125 36.53125 \nQ 39.546875 41.84375 41.421875 45.53125 \nQ 43.3125 49.21875 43.3125 52.78125 \nQ 43.3125 58.59375 39.234375 62.25 \nQ 35.15625 65.921875 28.609375 65.921875 \nQ 23.96875 65.921875 18.8125 64.3125 \nQ 13.671875 62.703125 7.8125 59.421875 \nL 7.8125 69.390625 \nQ 13.765625 71.78125 18.9375 73 \nQ 24.125 74.21875 28.421875 74.21875 \nQ 39.75 74.21875 46.484375 68.546875 \nQ 53.21875 62.890625 53.21875 53.421875 \nQ 53.21875 48.921875 51.53125 44.890625 \nQ 49.859375 40.875 45.40625 35.40625 \nQ 44.1875 33.984375 37.640625 27.21875 \nQ 31.109375 20.453125 19.1875 8.296875 \nz\n\" id=\"DejaVuSans-50\"/>\n     <path d=\"M 8.203125 72.90625 \nL 55.078125 72.90625 \nL 55.078125 68.703125 \nL 28.609375 0 \nL 18.3125 0 \nL 43.21875 64.59375 \nL 8.203125 64.59375 \nz\n\" id=\"DejaVuSans-55\"/>\n    </defs>\n    <g style=\"fill:#08306b;\" transform=\"translate(75.875625 64.319375)scale(0.1 -0.1)\">\n     <use xlink:href=\"#DejaVuSans-50\"/>\n     <use x=\"63.623047\" xlink:href=\"#DejaVuSans-48\"/>\n     <use x=\"127.246094\" xlink:href=\"#DejaVuSans-55\"/>\n     <use x=\"190.869141\" xlink:href=\"#DejaVuSans-50\"/>\n    </g>\n   </g>\n   <g id=\"text_8\">\n    <!-- 13247 -->\n    <defs>\n     <path d=\"M 40.578125 39.3125 \nQ 47.65625 37.796875 51.625 33 \nQ 55.609375 28.21875 55.609375 21.1875 \nQ 55.609375 10.40625 48.1875 4.484375 \nQ 40.765625 -1.421875 27.09375 -1.421875 \nQ 22.515625 -1.421875 17.65625 -0.515625 \nQ 12.796875 0.390625 7.625 2.203125 \nL 7.625 11.71875 \nQ 11.71875 9.328125 16.59375 8.109375 \nQ 21.484375 6.890625 26.8125 6.890625 \nQ 36.078125 6.890625 40.9375 10.546875 \nQ 45.796875 14.203125 45.796875 21.1875 \nQ 45.796875 27.640625 41.28125 31.265625 \nQ 36.765625 34.90625 28.71875 34.90625 \nL 20.21875 34.90625 \nL 20.21875 43.015625 \nL 29.109375 43.015625 \nQ 36.375 43.015625 40.234375 45.921875 \nQ 44.09375 48.828125 44.09375 54.296875 \nQ 44.09375 59.90625 40.109375 62.90625 \nQ 36.140625 65.921875 28.71875 65.921875 \nQ 24.65625 65.921875 20.015625 65.03125 \nQ 15.375 64.15625 9.8125 62.3125 \nL 9.8125 71.09375 \nQ 15.4375 72.65625 20.34375 73.4375 \nQ 25.25 74.21875 29.59375 74.21875 \nQ 40.828125 74.21875 47.359375 69.109375 \nQ 53.90625 64.015625 53.90625 55.328125 \nQ 53.90625 49.265625 50.4375 45.09375 \nQ 46.96875 40.921875 40.578125 39.3125 \nz\n\" id=\"DejaVuSans-51\"/>\n     <path d=\"M 37.796875 64.3125 \nL 12.890625 25.390625 \nL 37.796875 25.390625 \nz\nM 35.203125 72.90625 \nL 47.609375 72.90625 \nL 47.609375 25.390625 \nL 58.015625 25.390625 \nL 58.015625 17.1875 \nL 47.609375 17.1875 \nL 47.609375 0 \nL 37.796875 0 \nL 37.796875 17.1875 \nL 4.890625 17.1875 \nL 4.890625 26.703125 \nz\n\" id=\"DejaVuSans-52\"/>\n    </defs>\n    <g style=\"fill:#f7fbff;\" transform=\"translate(181.414375 64.319375)scale(0.1 -0.1)\">\n     <use xlink:href=\"#DejaVuSans-49\"/>\n     <use x=\"63.623047\" xlink:href=\"#DejaVuSans-51\"/>\n     <use x=\"127.246094\" xlink:href=\"#DejaVuSans-50\"/>\n     <use x=\"190.869141\" xlink:href=\"#DejaVuSans-52\"/>\n     <use x=\"254.492188\" xlink:href=\"#DejaVuSans-55\"/>\n    </g>\n   </g>\n   <g id=\"text_9\">\n    <!-- 44 -->\n    <g style=\"fill:#08306b;\" transform=\"translate(82.238125 173.039375)scale(0.1 -0.1)\">\n     <use xlink:href=\"#DejaVuSans-52\"/>\n     <use x=\"63.623047\" xlink:href=\"#DejaVuSans-52\"/>\n    </g>\n   </g>\n   <g id=\"text_10\">\n    <!-- 602 -->\n    <defs>\n     <path d=\"M 33.015625 40.375 \nQ 26.375 40.375 22.484375 35.828125 \nQ 18.609375 31.296875 18.609375 23.390625 \nQ 18.609375 15.53125 22.484375 10.953125 \nQ 26.375 6.390625 33.015625 6.390625 \nQ 39.65625 6.390625 43.53125 10.953125 \nQ 47.40625 15.53125 47.40625 23.390625 \nQ 47.40625 31.296875 43.53125 35.828125 \nQ 39.65625 40.375 33.015625 40.375 \nz\nM 52.59375 71.296875 \nL 52.59375 62.3125 \nQ 48.875 64.0625 45.09375 64.984375 \nQ 41.3125 65.921875 37.59375 65.921875 \nQ 27.828125 65.921875 22.671875 59.328125 \nQ 17.53125 52.734375 16.796875 39.40625 \nQ 19.671875 43.65625 24.015625 45.921875 \nQ 28.375 48.1875 33.59375 48.1875 \nQ 44.578125 48.1875 50.953125 41.515625 \nQ 57.328125 34.859375 57.328125 23.390625 \nQ 57.328125 12.15625 50.6875 5.359375 \nQ 44.046875 -1.421875 33.015625 -1.421875 \nQ 20.359375 -1.421875 13.671875 8.265625 \nQ 6.984375 17.96875 6.984375 36.375 \nQ 6.984375 53.65625 15.1875 63.9375 \nQ 23.390625 74.21875 37.203125 74.21875 \nQ 40.921875 74.21875 44.703125 73.484375 \nQ 48.484375 72.75 52.59375 71.296875 \nz\n\" id=\"DejaVuSans-54\"/>\n    </defs>\n    <g style=\"fill:#08306b;\" transform=\"translate(187.776875 173.039375)scale(0.1 -0.1)\">\n     <use xlink:href=\"#DejaVuSans-54\"/>\n     <use x=\"63.623047\" xlink:href=\"#DejaVuSans-48\"/>\n     <use x=\"127.246094\" xlink:href=\"#DejaVuSans-50\"/>\n    </g>\n   </g>\n  </g>\n  <g id=\"axes_2\">\n   <g id=\"patch_7\">\n    <path clip-path=\"url(#p1363bcf79c)\" d=\"M 268.420625 224.64 \nL 268.420625 223.790625 \nL 268.420625 8.049375 \nL 268.420625 7.2 \nL 279.292625 7.2 \nL 279.292625 8.049375 \nL 279.292625 223.790625 \nL 279.292625 224.64 \nz\n\" style=\"fill:#ffffff;stroke:#ffffff;stroke-linejoin:miter;stroke-width:0.01;\"/>\n   </g>\n   <image height=\"217\" id=\"imageb103ddb167\" transform=\"scale(1 -1)translate(0 -217)\" width=\"11\" x=\"268\" xlink:href=\"data:image/png;base64,\niVBORw0KGgoAAAANSUhEUgAAAAsAAADZCAYAAAD2WsoCAAAABHNCSVQICAgIfAhkiAAAARxJREFUaIHtmDEOAjEQAwPK/59LgciGFrpMMciL7mpr5dheJ7rb47n3OPzmHsfYMc/nYjChAbBjAizkXAB9ByxM6UIchJMBGGYDcC5NupEhHcwG4ezR0HqD2d2wvjr2Rop0V/h/QiNEOu1VkHJAZDc8oHbDag4udMAMzpWR5zof7LaoxblARhlnszfA5OVVgZc67XGCqkBsUe3uXiTPXj97DiKdF+gC08FzrEnDywa0O6LMPZ3ZPSi2qLewEdJ5/dwxG2i7PZ3NvxCo+SN2MCQb7JXLaESoAQ9o0QiZbNoNaHhB8uzuGKSQ7WZ/AsVsnL8ZUzgzcIbdIdn4f7uvbHyAod2IRsPJ9bImt1RjRdBAk8nCXnZ/gTvabU1+A25V4hFkL86SAAAAAElFTkSuQmCC\" y=\"-7\"/>\n   <g id=\"matplotlib.axis_3\"/>\n   <g id=\"matplotlib.axis_4\">\n    <g id=\"ytick_3\">\n     <g id=\"line2d_5\">\n      <defs>\n       <path d=\"M 0 0 \nL 3.5 0 \n\" id=\"m12adc2cc47\" style=\"stroke:#000000;stroke-width:0.8;\"/>\n      </defs>\n      <g>\n       <use style=\"stroke:#000000;stroke-width:0.8;\" x=\"279.292625\" xlink:href=\"#m12adc2cc47\" y=\"192.426667\"/>\n      </g>\n     </g>\n     <g id=\"text_11\">\n      <!-- 2000 -->\n      <g transform=\"translate(286.292625 196.225885)scale(0.1 -0.1)\">\n       <use xlink:href=\"#DejaVuSans-50\"/>\n       <use x=\"63.623047\" xlink:href=\"#DejaVuSans-48\"/>\n       <use x=\"127.246094\" xlink:href=\"#DejaVuSans-48\"/>\n       <use x=\"190.869141\" xlink:href=\"#DejaVuSans-48\"/>\n      </g>\n     </g>\n    </g>\n    <g id=\"ytick_4\">\n     <g id=\"line2d_6\">\n      <g>\n       <use style=\"stroke:#000000;stroke-width:0.8;\" x=\"279.292625\" xlink:href=\"#m12adc2cc47\" y=\"159.488698\"/>\n      </g>\n     </g>\n     <g id=\"text_12\">\n      <!-- 4000 -->\n      <g transform=\"translate(286.292625 163.287917)scale(0.1 -0.1)\">\n       <use xlink:href=\"#DejaVuSans-52\"/>\n       <use x=\"63.623047\" xlink:href=\"#DejaVuSans-48\"/>\n       <use x=\"127.246094\" xlink:href=\"#DejaVuSans-48\"/>\n       <use x=\"190.869141\" xlink:href=\"#DejaVuSans-48\"/>\n      </g>\n     </g>\n    </g>\n    <g id=\"ytick_5\">\n     <g id=\"line2d_7\">\n      <g>\n       <use style=\"stroke:#000000;stroke-width:0.8;\" x=\"279.292625\" xlink:href=\"#m12adc2cc47\" y=\"126.550729\"/>\n      </g>\n     </g>\n     <g id=\"text_13\">\n      <!-- 6000 -->\n      <g transform=\"translate(286.292625 130.349948)scale(0.1 -0.1)\">\n       <use xlink:href=\"#DejaVuSans-54\"/>\n       <use x=\"63.623047\" xlink:href=\"#DejaVuSans-48\"/>\n       <use x=\"127.246094\" xlink:href=\"#DejaVuSans-48\"/>\n       <use x=\"190.869141\" xlink:href=\"#DejaVuSans-48\"/>\n      </g>\n     </g>\n    </g>\n    <g id=\"ytick_6\">\n     <g id=\"line2d_8\">\n      <g>\n       <use style=\"stroke:#000000;stroke-width:0.8;\" x=\"279.292625\" xlink:href=\"#m12adc2cc47\" y=\"93.612761\"/>\n      </g>\n     </g>\n     <g id=\"text_14\">\n      <!-- 8000 -->\n      <defs>\n       <path d=\"M 31.78125 34.625 \nQ 24.75 34.625 20.71875 30.859375 \nQ 16.703125 27.09375 16.703125 20.515625 \nQ 16.703125 13.921875 20.71875 10.15625 \nQ 24.75 6.390625 31.78125 6.390625 \nQ 38.8125 6.390625 42.859375 10.171875 \nQ 46.921875 13.96875 46.921875 20.515625 \nQ 46.921875 27.09375 42.890625 30.859375 \nQ 38.875 34.625 31.78125 34.625 \nz\nM 21.921875 38.8125 \nQ 15.578125 40.375 12.03125 44.71875 \nQ 8.5 49.078125 8.5 55.328125 \nQ 8.5 64.0625 14.71875 69.140625 \nQ 20.953125 74.21875 31.78125 74.21875 \nQ 42.671875 74.21875 48.875 69.140625 \nQ 55.078125 64.0625 55.078125 55.328125 \nQ 55.078125 49.078125 51.53125 44.71875 \nQ 48 40.375 41.703125 38.8125 \nQ 48.828125 37.15625 52.796875 32.3125 \nQ 56.78125 27.484375 56.78125 20.515625 \nQ 56.78125 9.90625 50.3125 4.234375 \nQ 43.84375 -1.421875 31.78125 -1.421875 \nQ 19.734375 -1.421875 13.25 4.234375 \nQ 6.78125 9.90625 6.78125 20.515625 \nQ 6.78125 27.484375 10.78125 32.3125 \nQ 14.796875 37.15625 21.921875 38.8125 \nz\nM 18.3125 54.390625 \nQ 18.3125 48.734375 21.84375 45.5625 \nQ 25.390625 42.390625 31.78125 42.390625 \nQ 38.140625 42.390625 41.71875 45.5625 \nQ 45.3125 48.734375 45.3125 54.390625 \nQ 45.3125 60.0625 41.71875 63.234375 \nQ 38.140625 66.40625 31.78125 66.40625 \nQ 25.390625 66.40625 21.84375 63.234375 \nQ 18.3125 60.0625 18.3125 54.390625 \nz\n\" id=\"DejaVuSans-56\"/>\n      </defs>\n      <g transform=\"translate(286.292625 97.411979)scale(0.1 -0.1)\">\n       <use xlink:href=\"#DejaVuSans-56\"/>\n       <use x=\"63.623047\" xlink:href=\"#DejaVuSans-48\"/>\n       <use x=\"127.246094\" xlink:href=\"#DejaVuSans-48\"/>\n       <use x=\"190.869141\" xlink:href=\"#DejaVuSans-48\"/>\n      </g>\n     </g>\n    </g>\n    <g id=\"ytick_7\">\n     <g id=\"line2d_9\">\n      <g>\n       <use style=\"stroke:#000000;stroke-width:0.8;\" x=\"279.292625\" xlink:href=\"#m12adc2cc47\" y=\"60.674792\"/>\n      </g>\n     </g>\n     <g id=\"text_15\">\n      <!-- 10000 -->\n      <g transform=\"translate(286.292625 64.474011)scale(0.1 -0.1)\">\n       <use xlink:href=\"#DejaVuSans-49\"/>\n       <use x=\"63.623047\" xlink:href=\"#DejaVuSans-48\"/>\n       <use x=\"127.246094\" xlink:href=\"#DejaVuSans-48\"/>\n       <use x=\"190.869141\" xlink:href=\"#DejaVuSans-48\"/>\n       <use x=\"254.492188\" xlink:href=\"#DejaVuSans-48\"/>\n      </g>\n     </g>\n    </g>\n    <g id=\"ytick_8\">\n     <g id=\"line2d_10\">\n      <g>\n       <use style=\"stroke:#000000;stroke-width:0.8;\" x=\"279.292625\" xlink:href=\"#m12adc2cc47\" y=\"27.736823\"/>\n      </g>\n     </g>\n     <g id=\"text_16\">\n      <!-- 12000 -->\n      <g transform=\"translate(286.292625 31.536042)scale(0.1 -0.1)\">\n       <use xlink:href=\"#DejaVuSans-49\"/>\n       <use x=\"63.623047\" xlink:href=\"#DejaVuSans-50\"/>\n       <use x=\"127.246094\" xlink:href=\"#DejaVuSans-48\"/>\n       <use x=\"190.869141\" xlink:href=\"#DejaVuSans-48\"/>\n       <use x=\"254.492188\" xlink:href=\"#DejaVuSans-48\"/>\n      </g>\n     </g>\n    </g>\n   </g>\n   <g id=\"patch_8\">\n    <path d=\"M 268.420625 224.64 \nL 268.420625 223.790625 \nL 268.420625 8.049375 \nL 268.420625 7.2 \nL 279.292625 7.2 \nL 279.292625 8.049375 \nL 279.292625 223.790625 \nL 279.292625 224.64 \nz\n\" style=\"fill:none;stroke:#000000;stroke-linejoin:miter;stroke-width:0.8;\"/>\n   </g>\n  </g>\n </g>\n <defs>\n  <clipPath id=\"p3a76c34187\">\n   <rect height=\"217.44\" width=\"217.44\" x=\"34.240625\" y=\"7.2\"/>\n  </clipPath>\n  <clipPath id=\"p1363bcf79c\">\n   <rect height=\"217.44\" width=\"10.872\" x=\"268.420625\" y=\"7.2\"/>\n  </clipPath>\n </defs>\n</svg>\n",
      "image/png": "[encoded data removed]"
     },
     "metadata": {
      "needs_background": "light"
     }
    }
   ],
   "source": [
    "plot_confusion_matrix(NB, X_test, y_test,cmap=plt.cm.Blues); "
   ]
  },
  {
   "cell_type": "code",
   "execution_count": 28,
   "metadata": {},
   "outputs": [
    {
     "output_type": "execute_result",
     "data": {
      "text/plain": "0.9318885448916409"
     },
     "metadata": {},
     "execution_count": 28
    }
   ],
   "source": [
    "tn, fp, fn, tp = confusion_matrix(y_test, y_pred).ravel()\n",
    "sensitivity = tp / (tp+fn)\n",
    "sensitivity"
   ]
  },
  {
   "source": [
    "## Naïve Bayes with StandardScaler"
   ],
   "cell_type": "markdown",
   "metadata": {}
  },
  {
   "cell_type": "code",
   "execution_count": 29,
   "metadata": {},
   "outputs": [],
   "source": [
    "NB_pipeline.fit(X_train,y_train)\n",
    "y_pred = NB_pipeline.predict(X_test)"
   ]
  },
  {
   "cell_type": "code",
   "execution_count": 30,
   "metadata": {
    "tags": []
   },
   "outputs": [
    {
     "output_type": "stream",
     "name": "stdout",
     "text": "precision    recall  f1-score   support\n\n           0       0.98      0.03      0.07     15319\n           1       0.04      0.99      0.08       646\n\n    accuracy                           0.07     15965\n   macro avg       0.51      0.51      0.07     15965\nweighted avg       0.94      0.07      0.07     15965\n\n"
    }
   ],
   "source": [
    "print(classification_report(y_test, y_pred))"
   ]
  },
  {
   "cell_type": "code",
   "execution_count": 31,
   "metadata": {},
   "outputs": [
    {
     "output_type": "display_data",
     "data": {
      "text/plain": "<Figure size 432x288 with 2 Axes>",
      "image/svg+xml": "<?xml version=\"1.0\" encoding=\"utf-8\" standalone=\"no\"?>\n<!DOCTYPE svg PUBLIC \"-//W3C//DTD SVG 1.1//EN\"\n  \"http://www.w3.org/Graphics/SVG/1.1/DTD/svg11.dtd\">\n<!-- Created with matplotlib (https://matplotlib.org/) -->\n<svg height=\"262.19625pt\" version=\"1.1\" viewBox=\"0 0 325.305125 262.19625\" width=\"325.305125pt\" xmlns=\"http://www.w3.org/2000/svg\" xmlns:xlink=\"http://www.w3.org/1999/xlink\">\n <defs>\n  <style type=\"text/css\">\n*{stroke-linecap:butt;stroke-linejoin:round;}\n  </style>\n </defs>\n <g id=\"figure_1\">\n  <g id=\"patch_1\">\n   <path d=\"M 0 262.19625 \nL 325.305125 262.19625 \nL 325.305125 0 \nL 0 0 \nz\n\" style=\"fill:none;\"/>\n  </g>\n  <g id=\"axes_1\">\n   <g id=\"patch_2\">\n    <path d=\"M 34.240625 224.64 \nL 251.680625 224.64 \nL 251.680625 7.2 \nL 34.240625 7.2 \nz\n\" style=\"fill:#ffffff;\"/>\n   </g>\n   <g clip-path=\"url(#p7f6729adfc)\">\n    <image height=\"218\" id=\"image8370895be8\" transform=\"scale(1 -1)translate(0 -218)\" width=\"218\" x=\"34.240625\" xlink:href=\"data:image/png;base64,\niVBORw0KGgoAAAANSUhEUgAAANoAAADaCAYAAADAHVzbAAAABHNCSVQICAgIfAhkiAAAApNJREFUeJzt1cENglAABUExNmEtFGX5oIRgDf+yP8aZCt5l85btuK4bP2X/nLMnMOg+ewD8A6FBQGgQEBoEhAYBoUFAaBAQGgSEBgGhQUBoEBAaBIQGAaFBQGgQEBoEhAYBoUFAaBAQGgSEBgGhQUBoEBAaBIQGAaFBQGgQEBoEhAYBoUFAaBAQGgSEBgGhQUBoEBAaBIQGAaFBQGgQEBoEhAYBoUFAaBAQGgSEBgGhQUBoEBAaBIQGAaFBQGgQEBoEhAYBoUFAaBAQGgSEBgGhQUBoEBAaBIQGAaFBQGgQEBoEhAYBoUFAaBAQGgSEBgGhQUBoEBAaBIQGAaFBQGgQEBoEhAYBoUFAaBAQGgSEBgGhQUBoEBAaBIQGAaFBQGgQEBoEhAYBoUFAaBAQGgSEBgGhQUBoEBAaBIQGAaFBQGgQEBoEhAYBoUFAaBAQGgSEBgGhQUBoEBAaBB7v45y9gUHP9TV7AoM8GgSEBgGhQUBoEBAaBIQGAaFBQGgQEBoEhAYBoUFAaBAQGgSEBgGhQUBoEBAaBIQGAaFBQGgQEBoEhAYBoUFAaBAQGgSEBgGhQUBoEBAaBIQGAaFBQGgQEBoEhAYBoUFAaBAQGgSEBgGhQUBoEBAaBIQGAaFBQGgQEBoEhAYBoUFAaBAQGgSEBgGhQUBoEBAaBIQGAaFBQGgQEBoEhAYBoUFAaBAQGgSEBgGhQUBoEBAaBIQGAaFBQGgQEBoEhAYBoUFAaBAQGgSEBgGhQUBoEBAaBIQGAaFBQGgQEBoEhAYBoUFAaBAQGgSEBgGhQUBoEBAaBIQGAaFBQGgQEBoEhAYBoUFAaBAQGgSEBgGhQUBoEBAaBIQGAaFBQGgQEBoEhAYBoUFAaBD4AqkRDEnm0KwFAAAAAElFTkSuQmCC\" y=\"-6.64\"/>\n   </g>\n   <g id=\"matplotlib.axis_1\">\n    <g id=\"xtick_1\">\n     <g id=\"line2d_1\">\n      <defs>\n       <path d=\"M 0 0 \nL 0 3.5 \n\" id=\"maee1fb1430\" style=\"stroke:#000000;stroke-width:0.8;\"/>\n      </defs>\n      <g>\n       <use style=\"stroke:#000000;stroke-width:0.8;\" x=\"88.600625\" xlink:href=\"#maee1fb1430\" y=\"224.64\"/>\n      </g>\n     </g>\n     <g id=\"text_1\">\n      <!-- 0 -->\n      <defs>\n       <path d=\"M 31.78125 66.40625 \nQ 24.171875 66.40625 20.328125 58.90625 \nQ 16.5 51.421875 16.5 36.375 \nQ 16.5 21.390625 20.328125 13.890625 \nQ 24.171875 6.390625 31.78125 6.390625 \nQ 39.453125 6.390625 43.28125 13.890625 \nQ 47.125 21.390625 47.125 36.375 \nQ 47.125 51.421875 43.28125 58.90625 \nQ 39.453125 66.40625 31.78125 66.40625 \nz\nM 31.78125 74.21875 \nQ 44.046875 74.21875 50.515625 64.515625 \nQ 56.984375 54.828125 56.984375 36.375 \nQ 56.984375 17.96875 50.515625 8.265625 \nQ 44.046875 -1.421875 31.78125 -1.421875 \nQ 19.53125 -1.421875 13.0625 8.265625 \nQ 6.59375 17.96875 6.59375 36.375 \nQ 6.59375 54.828125 13.0625 64.515625 \nQ 19.53125 74.21875 31.78125 74.21875 \nz\n\" id=\"DejaVuSans-48\"/>\n      </defs>\n      <g transform=\"translate(85.419375 239.238437)scale(0.1 -0.1)\">\n       <use xlink:href=\"#DejaVuSans-48\"/>\n      </g>\n     </g>\n    </g>\n    <g id=\"xtick_2\">\n     <g id=\"line2d_2\">\n      <g>\n       <use style=\"stroke:#000000;stroke-width:0.8;\" x=\"197.320625\" xlink:href=\"#maee1fb1430\" y=\"224.64\"/>\n      </g>\n     </g>\n     <g id=\"text_2\">\n      <!-- 1 -->\n      <defs>\n       <path d=\"M 12.40625 8.296875 \nL 28.515625 8.296875 \nL 28.515625 63.921875 \nL 10.984375 60.40625 \nL 10.984375 69.390625 \nL 28.421875 72.90625 \nL 38.28125 72.90625 \nL 38.28125 8.296875 \nL 54.390625 8.296875 \nL 54.390625 0 \nL 12.40625 0 \nz\n\" id=\"DejaVuSans-49\"/>\n      </defs>\n      <g transform=\"translate(194.139375 239.238437)scale(0.1 -0.1)\">\n       <use xlink:href=\"#DejaVuSans-49\"/>\n      </g>\n     </g>\n    </g>\n    <g id=\"text_3\">\n     <!-- Predicted label -->\n     <defs>\n      <path d=\"M 19.671875 64.796875 \nL 19.671875 37.40625 \nL 32.078125 37.40625 \nQ 38.96875 37.40625 42.71875 40.96875 \nQ 46.484375 44.53125 46.484375 51.125 \nQ 46.484375 57.671875 42.71875 61.234375 \nQ 38.96875 64.796875 32.078125 64.796875 \nz\nM 9.8125 72.90625 \nL 32.078125 72.90625 \nQ 44.34375 72.90625 50.609375 67.359375 \nQ 56.890625 61.8125 56.890625 51.125 \nQ 56.890625 40.328125 50.609375 34.8125 \nQ 44.34375 29.296875 32.078125 29.296875 \nL 19.671875 29.296875 \nL 19.671875 0 \nL 9.8125 0 \nz\n\" id=\"DejaVuSans-80\"/>\n      <path d=\"M 41.109375 46.296875 \nQ 39.59375 47.171875 37.8125 47.578125 \nQ 36.03125 48 33.890625 48 \nQ 26.265625 48 22.1875 43.046875 \nQ 18.109375 38.09375 18.109375 28.8125 \nL 18.109375 0 \nL 9.078125 0 \nL 9.078125 54.6875 \nL 18.109375 54.6875 \nL 18.109375 46.1875 \nQ 20.953125 51.171875 25.484375 53.578125 \nQ 30.03125 56 36.53125 56 \nQ 37.453125 56 38.578125 55.875 \nQ 39.703125 55.765625 41.0625 55.515625 \nz\n\" id=\"DejaVuSans-114\"/>\n      <path d=\"M 56.203125 29.59375 \nL 56.203125 25.203125 \nL 14.890625 25.203125 \nQ 15.484375 15.921875 20.484375 11.0625 \nQ 25.484375 6.203125 34.421875 6.203125 \nQ 39.59375 6.203125 44.453125 7.46875 \nQ 49.3125 8.734375 54.109375 11.28125 \nL 54.109375 2.78125 \nQ 49.265625 0.734375 44.1875 -0.34375 \nQ 39.109375 -1.421875 33.890625 -1.421875 \nQ 20.796875 -1.421875 13.15625 6.1875 \nQ 5.515625 13.8125 5.515625 26.8125 \nQ 5.515625 40.234375 12.765625 48.109375 \nQ 20.015625 56 32.328125 56 \nQ 43.359375 56 49.78125 48.890625 \nQ 56.203125 41.796875 56.203125 29.59375 \nz\nM 47.21875 32.234375 \nQ 47.125 39.59375 43.09375 43.984375 \nQ 39.0625 48.390625 32.421875 48.390625 \nQ 24.90625 48.390625 20.390625 44.140625 \nQ 15.875 39.890625 15.1875 32.171875 \nz\n\" id=\"DejaVuSans-101\"/>\n      <path d=\"M 45.40625 46.390625 \nL 45.40625 75.984375 \nL 54.390625 75.984375 \nL 54.390625 0 \nL 45.40625 0 \nL 45.40625 8.203125 \nQ 42.578125 3.328125 38.25 0.953125 \nQ 33.9375 -1.421875 27.875 -1.421875 \nQ 17.96875 -1.421875 11.734375 6.484375 \nQ 5.515625 14.40625 5.515625 27.296875 \nQ 5.515625 40.1875 11.734375 48.09375 \nQ 17.96875 56 27.875 56 \nQ 33.9375 56 38.25 53.625 \nQ 42.578125 51.265625 45.40625 46.390625 \nz\nM 14.796875 27.296875 \nQ 14.796875 17.390625 18.875 11.75 \nQ 22.953125 6.109375 30.078125 6.109375 \nQ 37.203125 6.109375 41.296875 11.75 \nQ 45.40625 17.390625 45.40625 27.296875 \nQ 45.40625 37.203125 41.296875 42.84375 \nQ 37.203125 48.484375 30.078125 48.484375 \nQ 22.953125 48.484375 18.875 42.84375 \nQ 14.796875 37.203125 14.796875 27.296875 \nz\n\" id=\"DejaVuSans-100\"/>\n      <path d=\"M 9.421875 54.6875 \nL 18.40625 54.6875 \nL 18.40625 0 \nL 9.421875 0 \nz\nM 9.421875 75.984375 \nL 18.40625 75.984375 \nL 18.40625 64.59375 \nL 9.421875 64.59375 \nz\n\" id=\"DejaVuSans-105\"/>\n      <path d=\"M 48.78125 52.59375 \nL 48.78125 44.1875 \nQ 44.96875 46.296875 41.140625 47.34375 \nQ 37.3125 48.390625 33.40625 48.390625 \nQ 24.65625 48.390625 19.8125 42.84375 \nQ 14.984375 37.3125 14.984375 27.296875 \nQ 14.984375 17.28125 19.8125 11.734375 \nQ 24.65625 6.203125 33.40625 6.203125 \nQ 37.3125 6.203125 41.140625 7.25 \nQ 44.96875 8.296875 48.78125 10.40625 \nL 48.78125 2.09375 \nQ 45.015625 0.34375 40.984375 -0.53125 \nQ 36.96875 -1.421875 32.421875 -1.421875 \nQ 20.0625 -1.421875 12.78125 6.34375 \nQ 5.515625 14.109375 5.515625 27.296875 \nQ 5.515625 40.671875 12.859375 48.328125 \nQ 20.21875 56 33.015625 56 \nQ 37.15625 56 41.109375 55.140625 \nQ 45.0625 54.296875 48.78125 52.59375 \nz\n\" id=\"DejaVuSans-99\"/>\n      <path d=\"M 18.3125 70.21875 \nL 18.3125 54.6875 \nL 36.8125 54.6875 \nL 36.8125 47.703125 \nL 18.3125 47.703125 \nL 18.3125 18.015625 \nQ 18.3125 11.328125 20.140625 9.421875 \nQ 21.96875 7.515625 27.59375 7.515625 \nL 36.8125 7.515625 \nL 36.8125 0 \nL 27.59375 0 \nQ 17.1875 0 13.234375 3.875 \nQ 9.28125 7.765625 9.28125 18.015625 \nL 9.28125 47.703125 \nL 2.6875 47.703125 \nL 2.6875 54.6875 \nL 9.28125 54.6875 \nL 9.28125 70.21875 \nz\n\" id=\"DejaVuSans-116\"/>\n      <path id=\"DejaVuSans-32\"/>\n      <path d=\"M 9.421875 75.984375 \nL 18.40625 75.984375 \nL 18.40625 0 \nL 9.421875 0 \nz\n\" id=\"DejaVuSans-108\"/>\n      <path d=\"M 34.28125 27.484375 \nQ 23.390625 27.484375 19.1875 25 \nQ 14.984375 22.515625 14.984375 16.5 \nQ 14.984375 11.71875 18.140625 8.90625 \nQ 21.296875 6.109375 26.703125 6.109375 \nQ 34.1875 6.109375 38.703125 11.40625 \nQ 43.21875 16.703125 43.21875 25.484375 \nL 43.21875 27.484375 \nz\nM 52.203125 31.203125 \nL 52.203125 0 \nL 43.21875 0 \nL 43.21875 8.296875 \nQ 40.140625 3.328125 35.546875 0.953125 \nQ 30.953125 -1.421875 24.3125 -1.421875 \nQ 15.921875 -1.421875 10.953125 3.296875 \nQ 6 8.015625 6 15.921875 \nQ 6 25.140625 12.171875 29.828125 \nQ 18.359375 34.515625 30.609375 34.515625 \nL 43.21875 34.515625 \nL 43.21875 35.40625 \nQ 43.21875 41.609375 39.140625 45 \nQ 35.0625 48.390625 27.6875 48.390625 \nQ 23 48.390625 18.546875 47.265625 \nQ 14.109375 46.140625 10.015625 43.890625 \nL 10.015625 52.203125 \nQ 14.9375 54.109375 19.578125 55.046875 \nQ 24.21875 56 28.609375 56 \nQ 40.484375 56 46.34375 49.84375 \nQ 52.203125 43.703125 52.203125 31.203125 \nz\n\" id=\"DejaVuSans-97\"/>\n      <path d=\"M 48.6875 27.296875 \nQ 48.6875 37.203125 44.609375 42.84375 \nQ 40.53125 48.484375 33.40625 48.484375 \nQ 26.265625 48.484375 22.1875 42.84375 \nQ 18.109375 37.203125 18.109375 27.296875 \nQ 18.109375 17.390625 22.1875 11.75 \nQ 26.265625 6.109375 33.40625 6.109375 \nQ 40.53125 6.109375 44.609375 11.75 \nQ 48.6875 17.390625 48.6875 27.296875 \nz\nM 18.109375 46.390625 \nQ 20.953125 51.265625 25.265625 53.625 \nQ 29.59375 56 35.59375 56 \nQ 45.5625 56 51.78125 48.09375 \nQ 58.015625 40.1875 58.015625 27.296875 \nQ 58.015625 14.40625 51.78125 6.484375 \nQ 45.5625 -1.421875 35.59375 -1.421875 \nQ 29.59375 -1.421875 25.265625 0.953125 \nQ 20.953125 3.328125 18.109375 8.203125 \nL 18.109375 0 \nL 9.078125 0 \nL 9.078125 75.984375 \nL 18.109375 75.984375 \nz\n\" id=\"DejaVuSans-98\"/>\n     </defs>\n     <g transform=\"translate(105.808281 252.916562)scale(0.1 -0.1)\">\n      <use xlink:href=\"#DejaVuSans-80\"/>\n      <use x=\"58.552734\" xlink:href=\"#DejaVuSans-114\"/>\n      <use x=\"97.416016\" xlink:href=\"#DejaVuSans-101\"/>\n      <use x=\"158.939453\" xlink:href=\"#DejaVuSans-100\"/>\n      <use x=\"222.416016\" xlink:href=\"#DejaVuSans-105\"/>\n      <use x=\"250.199219\" xlink:href=\"#DejaVuSans-99\"/>\n      <use x=\"305.179688\" xlink:href=\"#DejaVuSans-116\"/>\n      <use x=\"344.388672\" xlink:href=\"#DejaVuSans-101\"/>\n      <use x=\"405.912109\" xlink:href=\"#DejaVuSans-100\"/>\n      <use x=\"469.388672\" xlink:href=\"#DejaVuSans-32\"/>\n      <use x=\"501.175781\" xlink:href=\"#DejaVuSans-108\"/>\n      <use x=\"528.958984\" xlink:href=\"#DejaVuSans-97\"/>\n      <use x=\"590.238281\" xlink:href=\"#DejaVuSans-98\"/>\n      <use x=\"653.714844\" xlink:href=\"#DejaVuSans-101\"/>\n      <use x=\"715.238281\" xlink:href=\"#DejaVuSans-108\"/>\n     </g>\n    </g>\n   </g>\n   <g id=\"matplotlib.axis_2\">\n    <g id=\"ytick_1\">\n     <g id=\"line2d_3\">\n      <defs>\n       <path d=\"M 0 0 \nL -3.5 0 \n\" id=\"mc6d8c02ad4\" style=\"stroke:#000000;stroke-width:0.8;\"/>\n      </defs>\n      <g>\n       <use style=\"stroke:#000000;stroke-width:0.8;\" x=\"34.240625\" xlink:href=\"#mc6d8c02ad4\" y=\"61.56\"/>\n      </g>\n     </g>\n     <g id=\"text_4\">\n      <!-- 0 -->\n      <g transform=\"translate(20.878125 65.359219)scale(0.1 -0.1)\">\n       <use xlink:href=\"#DejaVuSans-48\"/>\n      </g>\n     </g>\n    </g>\n    <g id=\"ytick_2\">\n     <g id=\"line2d_4\">\n      <g>\n       <use style=\"stroke:#000000;stroke-width:0.8;\" x=\"34.240625\" xlink:href=\"#mc6d8c02ad4\" y=\"170.28\"/>\n      </g>\n     </g>\n     <g id=\"text_5\">\n      <!-- 1 -->\n      <g transform=\"translate(20.878125 174.079219)scale(0.1 -0.1)\">\n       <use xlink:href=\"#DejaVuSans-49\"/>\n      </g>\n     </g>\n    </g>\n    <g id=\"text_6\">\n     <!-- True label -->\n     <defs>\n      <path d=\"M -0.296875 72.90625 \nL 61.375 72.90625 \nL 61.375 64.59375 \nL 35.5 64.59375 \nL 35.5 0 \nL 25.59375 0 \nL 25.59375 64.59375 \nL -0.296875 64.59375 \nz\n\" id=\"DejaVuSans-84\"/>\n      <path d=\"M 8.5 21.578125 \nL 8.5 54.6875 \nL 17.484375 54.6875 \nL 17.484375 21.921875 \nQ 17.484375 14.15625 20.5 10.265625 \nQ 23.53125 6.390625 29.59375 6.390625 \nQ 36.859375 6.390625 41.078125 11.03125 \nQ 45.3125 15.671875 45.3125 23.6875 \nL 45.3125 54.6875 \nL 54.296875 54.6875 \nL 54.296875 0 \nL 45.3125 0 \nL 45.3125 8.40625 \nQ 42.046875 3.421875 37.71875 1 \nQ 33.40625 -1.421875 27.6875 -1.421875 \nQ 18.265625 -1.421875 13.375 4.4375 \nQ 8.5 10.296875 8.5 21.578125 \nz\nM 31.109375 56 \nz\n\" id=\"DejaVuSans-117\"/>\n     </defs>\n     <g transform=\"translate(14.798437 140.219219)rotate(-90)scale(0.1 -0.1)\">\n      <use xlink:href=\"#DejaVuSans-84\"/>\n      <use x=\"46.333984\" xlink:href=\"#DejaVuSans-114\"/>\n      <use x=\"87.447266\" xlink:href=\"#DejaVuSans-117\"/>\n      <use x=\"150.826172\" xlink:href=\"#DejaVuSans-101\"/>\n      <use x=\"212.349609\" xlink:href=\"#DejaVuSans-32\"/>\n      <use x=\"244.136719\" xlink:href=\"#DejaVuSans-108\"/>\n      <use x=\"271.919922\" xlink:href=\"#DejaVuSans-97\"/>\n      <use x=\"333.199219\" xlink:href=\"#DejaVuSans-98\"/>\n      <use x=\"396.675781\" xlink:href=\"#DejaVuSans-101\"/>\n      <use x=\"458.199219\" xlink:href=\"#DejaVuSans-108\"/>\n     </g>\n    </g>\n   </g>\n   <g id=\"patch_3\">\n    <path d=\"M 34.240625 224.64 \nL 34.240625 7.2 \n\" style=\"fill:none;stroke:#000000;stroke-linecap:square;stroke-linejoin:miter;stroke-width:0.8;\"/>\n   </g>\n   <g id=\"patch_4\">\n    <path d=\"M 251.680625 224.64 \nL 251.680625 7.2 \n\" style=\"fill:none;stroke:#000000;stroke-linecap:square;stroke-linejoin:miter;stroke-width:0.8;\"/>\n   </g>\n   <g id=\"patch_5\">\n    <path d=\"M 34.240625 224.64 \nL 251.680625 224.64 \n\" style=\"fill:none;stroke:#000000;stroke-linecap:square;stroke-linejoin:miter;stroke-width:0.8;\"/>\n   </g>\n   <g id=\"patch_6\">\n    <path d=\"M 34.240625 7.2 \nL 251.680625 7.2 \n\" style=\"fill:none;stroke:#000000;stroke-linecap:square;stroke-linejoin:miter;stroke-width:0.8;\"/>\n   </g>\n   <g id=\"text_7\">\n    <!-- 519 -->\n    <defs>\n     <path d=\"M 10.796875 72.90625 \nL 49.515625 72.90625 \nL 49.515625 64.59375 \nL 19.828125 64.59375 \nL 19.828125 46.734375 \nQ 21.96875 47.46875 24.109375 47.828125 \nQ 26.265625 48.1875 28.421875 48.1875 \nQ 40.625 48.1875 47.75 41.5 \nQ 54.890625 34.8125 54.890625 23.390625 \nQ 54.890625 11.625 47.5625 5.09375 \nQ 40.234375 -1.421875 26.90625 -1.421875 \nQ 22.3125 -1.421875 17.546875 -0.640625 \nQ 12.796875 0.140625 7.71875 1.703125 \nL 7.71875 11.625 \nQ 12.109375 9.234375 16.796875 8.0625 \nQ 21.484375 6.890625 26.703125 6.890625 \nQ 35.15625 6.890625 40.078125 11.328125 \nQ 45.015625 15.765625 45.015625 23.390625 \nQ 45.015625 31 40.078125 35.4375 \nQ 35.15625 39.890625 26.703125 39.890625 \nQ 22.75 39.890625 18.8125 39.015625 \nQ 14.890625 38.140625 10.796875 36.28125 \nz\n\" id=\"DejaVuSans-53\"/>\n     <path d=\"M 10.984375 1.515625 \nL 10.984375 10.5 \nQ 14.703125 8.734375 18.5 7.8125 \nQ 22.3125 6.890625 25.984375 6.890625 \nQ 35.75 6.890625 40.890625 13.453125 \nQ 46.046875 20.015625 46.78125 33.40625 \nQ 43.953125 29.203125 39.59375 26.953125 \nQ 35.25 24.703125 29.984375 24.703125 \nQ 19.046875 24.703125 12.671875 31.3125 \nQ 6.296875 37.9375 6.296875 49.421875 \nQ 6.296875 60.640625 12.9375 67.421875 \nQ 19.578125 74.21875 30.609375 74.21875 \nQ 43.265625 74.21875 49.921875 64.515625 \nQ 56.59375 54.828125 56.59375 36.375 \nQ 56.59375 19.140625 48.40625 8.859375 \nQ 40.234375 -1.421875 26.421875 -1.421875 \nQ 22.703125 -1.421875 18.890625 -0.6875 \nQ 15.09375 0.046875 10.984375 1.515625 \nz\nM 30.609375 32.421875 \nQ 37.25 32.421875 41.125 36.953125 \nQ 45.015625 41.5 45.015625 49.421875 \nQ 45.015625 57.28125 41.125 61.84375 \nQ 37.25 66.40625 30.609375 66.40625 \nQ 23.96875 66.40625 20.09375 61.84375 \nQ 16.21875 57.28125 16.21875 49.421875 \nQ 16.21875 41.5 20.09375 36.953125 \nQ 23.96875 32.421875 30.609375 32.421875 \nz\n\" id=\"DejaVuSans-57\"/>\n    </defs>\n    <g style=\"fill:#08306b;\" transform=\"translate(79.056875 64.319375)scale(0.1 -0.1)\">\n     <use xlink:href=\"#DejaVuSans-53\"/>\n     <use x=\"63.623047\" xlink:href=\"#DejaVuSans-49\"/>\n     <use x=\"127.246094\" xlink:href=\"#DejaVuSans-57\"/>\n    </g>\n   </g>\n   <g id=\"text_8\">\n    <!-- 14800 -->\n    <defs>\n     <path d=\"M 37.796875 64.3125 \nL 12.890625 25.390625 \nL 37.796875 25.390625 \nz\nM 35.203125 72.90625 \nL 47.609375 72.90625 \nL 47.609375 25.390625 \nL 58.015625 25.390625 \nL 58.015625 17.1875 \nL 47.609375 17.1875 \nL 47.609375 0 \nL 37.796875 0 \nL 37.796875 17.1875 \nL 4.890625 17.1875 \nL 4.890625 26.703125 \nz\n\" id=\"DejaVuSans-52\"/>\n     <path d=\"M 31.78125 34.625 \nQ 24.75 34.625 20.71875 30.859375 \nQ 16.703125 27.09375 16.703125 20.515625 \nQ 16.703125 13.921875 20.71875 10.15625 \nQ 24.75 6.390625 31.78125 6.390625 \nQ 38.8125 6.390625 42.859375 10.171875 \nQ 46.921875 13.96875 46.921875 20.515625 \nQ 46.921875 27.09375 42.890625 30.859375 \nQ 38.875 34.625 31.78125 34.625 \nz\nM 21.921875 38.8125 \nQ 15.578125 40.375 12.03125 44.71875 \nQ 8.5 49.078125 8.5 55.328125 \nQ 8.5 64.0625 14.71875 69.140625 \nQ 20.953125 74.21875 31.78125 74.21875 \nQ 42.671875 74.21875 48.875 69.140625 \nQ 55.078125 64.0625 55.078125 55.328125 \nQ 55.078125 49.078125 51.53125 44.71875 \nQ 48 40.375 41.703125 38.8125 \nQ 48.828125 37.15625 52.796875 32.3125 \nQ 56.78125 27.484375 56.78125 20.515625 \nQ 56.78125 9.90625 50.3125 4.234375 \nQ 43.84375 -1.421875 31.78125 -1.421875 \nQ 19.734375 -1.421875 13.25 4.234375 \nQ 6.78125 9.90625 6.78125 20.515625 \nQ 6.78125 27.484375 10.78125 32.3125 \nQ 14.796875 37.15625 21.921875 38.8125 \nz\nM 18.3125 54.390625 \nQ 18.3125 48.734375 21.84375 45.5625 \nQ 25.390625 42.390625 31.78125 42.390625 \nQ 38.140625 42.390625 41.71875 45.5625 \nQ 45.3125 48.734375 45.3125 54.390625 \nQ 45.3125 60.0625 41.71875 63.234375 \nQ 38.140625 66.40625 31.78125 66.40625 \nQ 25.390625 66.40625 21.84375 63.234375 \nQ 18.3125 60.0625 18.3125 54.390625 \nz\n\" id=\"DejaVuSans-56\"/>\n    </defs>\n    <g style=\"fill:#f7fbff;\" transform=\"translate(181.414375 64.319375)scale(0.1 -0.1)\">\n     <use xlink:href=\"#DejaVuSans-49\"/>\n     <use x=\"63.623047\" xlink:href=\"#DejaVuSans-52\"/>\n     <use x=\"127.246094\" xlink:href=\"#DejaVuSans-56\"/>\n     <use x=\"190.869141\" xlink:href=\"#DejaVuSans-48\"/>\n     <use x=\"254.492188\" xlink:href=\"#DejaVuSans-48\"/>\n    </g>\n   </g>\n   <g id=\"text_9\">\n    <!-- 9 -->\n    <g style=\"fill:#08306b;\" transform=\"translate(85.419375 173.039375)scale(0.1 -0.1)\">\n     <use xlink:href=\"#DejaVuSans-57\"/>\n    </g>\n   </g>\n   <g id=\"text_10\">\n    <!-- 637 -->\n    <defs>\n     <path d=\"M 33.015625 40.375 \nQ 26.375 40.375 22.484375 35.828125 \nQ 18.609375 31.296875 18.609375 23.390625 \nQ 18.609375 15.53125 22.484375 10.953125 \nQ 26.375 6.390625 33.015625 6.390625 \nQ 39.65625 6.390625 43.53125 10.953125 \nQ 47.40625 15.53125 47.40625 23.390625 \nQ 47.40625 31.296875 43.53125 35.828125 \nQ 39.65625 40.375 33.015625 40.375 \nz\nM 52.59375 71.296875 \nL 52.59375 62.3125 \nQ 48.875 64.0625 45.09375 64.984375 \nQ 41.3125 65.921875 37.59375 65.921875 \nQ 27.828125 65.921875 22.671875 59.328125 \nQ 17.53125 52.734375 16.796875 39.40625 \nQ 19.671875 43.65625 24.015625 45.921875 \nQ 28.375 48.1875 33.59375 48.1875 \nQ 44.578125 48.1875 50.953125 41.515625 \nQ 57.328125 34.859375 57.328125 23.390625 \nQ 57.328125 12.15625 50.6875 5.359375 \nQ 44.046875 -1.421875 33.015625 -1.421875 \nQ 20.359375 -1.421875 13.671875 8.265625 \nQ 6.984375 17.96875 6.984375 36.375 \nQ 6.984375 53.65625 15.1875 63.9375 \nQ 23.390625 74.21875 37.203125 74.21875 \nQ 40.921875 74.21875 44.703125 73.484375 \nQ 48.484375 72.75 52.59375 71.296875 \nz\n\" id=\"DejaVuSans-54\"/>\n     <path d=\"M 40.578125 39.3125 \nQ 47.65625 37.796875 51.625 33 \nQ 55.609375 28.21875 55.609375 21.1875 \nQ 55.609375 10.40625 48.1875 4.484375 \nQ 40.765625 -1.421875 27.09375 -1.421875 \nQ 22.515625 -1.421875 17.65625 -0.515625 \nQ 12.796875 0.390625 7.625 2.203125 \nL 7.625 11.71875 \nQ 11.71875 9.328125 16.59375 8.109375 \nQ 21.484375 6.890625 26.8125 6.890625 \nQ 36.078125 6.890625 40.9375 10.546875 \nQ 45.796875 14.203125 45.796875 21.1875 \nQ 45.796875 27.640625 41.28125 31.265625 \nQ 36.765625 34.90625 28.71875 34.90625 \nL 20.21875 34.90625 \nL 20.21875 43.015625 \nL 29.109375 43.015625 \nQ 36.375 43.015625 40.234375 45.921875 \nQ 44.09375 48.828125 44.09375 54.296875 \nQ 44.09375 59.90625 40.109375 62.90625 \nQ 36.140625 65.921875 28.71875 65.921875 \nQ 24.65625 65.921875 20.015625 65.03125 \nQ 15.375 64.15625 9.8125 62.3125 \nL 9.8125 71.09375 \nQ 15.4375 72.65625 20.34375 73.4375 \nQ 25.25 74.21875 29.59375 74.21875 \nQ 40.828125 74.21875 47.359375 69.109375 \nQ 53.90625 64.015625 53.90625 55.328125 \nQ 53.90625 49.265625 50.4375 45.09375 \nQ 46.96875 40.921875 40.578125 39.3125 \nz\n\" id=\"DejaVuSans-51\"/>\n     <path d=\"M 8.203125 72.90625 \nL 55.078125 72.90625 \nL 55.078125 68.703125 \nL 28.609375 0 \nL 18.3125 0 \nL 43.21875 64.59375 \nL 8.203125 64.59375 \nz\n\" id=\"DejaVuSans-55\"/>\n    </defs>\n    <g style=\"fill:#08306b;\" transform=\"translate(187.776875 173.039375)scale(0.1 -0.1)\">\n     <use xlink:href=\"#DejaVuSans-54\"/>\n     <use x=\"63.623047\" xlink:href=\"#DejaVuSans-51\"/>\n     <use x=\"127.246094\" xlink:href=\"#DejaVuSans-55\"/>\n    </g>\n   </g>\n  </g>\n  <g id=\"axes_2\">\n   <g id=\"patch_7\">\n    <path clip-path=\"url(#p1680887de2)\" d=\"M 268.420625 224.64 \nL 268.420625 223.790625 \nL 268.420625 8.049375 \nL 268.420625 7.2 \nL 279.292625 7.2 \nL 279.292625 8.049375 \nL 279.292625 223.790625 \nL 279.292625 224.64 \nz\n\" style=\"fill:#ffffff;stroke:#ffffff;stroke-linejoin:miter;stroke-width:0.01;\"/>\n   </g>\n   <image height=\"217\" id=\"imagefb808a54dc\" transform=\"scale(1 -1)translate(0 -217)\" width=\"11\" x=\"268\" xlink:href=\"data:image/png;base64,\niVBORw0KGgoAAAANSUhEUgAAAAsAAADZCAYAAAD2WsoCAAAABHNCSVQICAgIfAhkiAAAARxJREFUaIHtmDEOAjEQAwPK/59LgciGFrpMMciL7mpr5dheJ7rb47n3OPzmHsfYMc/nYjChAbBjAizkXAB9ByxM6UIchJMBGGYDcC5NupEhHcwG4ezR0HqD2d2wvjr2Rop0V/h/QiNEOu1VkHJAZDc8oHbDag4udMAMzpWR5zof7LaoxblARhlnszfA5OVVgZc67XGCqkBsUe3uXiTPXj97DiKdF+gC08FzrEnDywa0O6LMPZ3ZPSi2qLewEdJ5/dwxG2i7PZ3NvxCo+SN2MCQb7JXLaESoAQ9o0QiZbNoNaHhB8uzuGKSQ7WZ/AsVsnL8ZUzgzcIbdIdn4f7uvbHyAod2IRsPJ9bImt1RjRdBAk8nCXnZ/gTvabU1+A25V4hFkL86SAAAAAElFTkSuQmCC\" y=\"-7\"/>\n   <g id=\"matplotlib.axis_3\"/>\n   <g id=\"matplotlib.axis_4\">\n    <g id=\"ytick_3\">\n     <g id=\"line2d_5\">\n      <defs>\n       <path d=\"M 0 0 \nL 3.5 0 \n\" id=\"mffa5261281\" style=\"stroke:#000000;stroke-width:0.8;\"/>\n      </defs>\n      <g>\n       <use style=\"stroke:#000000;stroke-width:0.8;\" x=\"279.292625\" xlink:href=\"#mffa5261281\" y=\"195.370644\"/>\n      </g>\n     </g>\n     <g id=\"text_11\">\n      <!-- 2000 -->\n      <defs>\n       <path d=\"M 19.1875 8.296875 \nL 53.609375 8.296875 \nL 53.609375 0 \nL 7.328125 0 \nL 7.328125 8.296875 \nQ 12.9375 14.109375 22.625 23.890625 \nQ 32.328125 33.6875 34.8125 36.53125 \nQ 39.546875 41.84375 41.421875 45.53125 \nQ 43.3125 49.21875 43.3125 52.78125 \nQ 43.3125 58.59375 39.234375 62.25 \nQ 35.15625 65.921875 28.609375 65.921875 \nQ 23.96875 65.921875 18.8125 64.3125 \nQ 13.671875 62.703125 7.8125 59.421875 \nL 7.8125 69.390625 \nQ 13.765625 71.78125 18.9375 73 \nQ 24.125 74.21875 28.421875 74.21875 \nQ 39.75 74.21875 46.484375 68.546875 \nQ 53.21875 62.890625 53.21875 53.421875 \nQ 53.21875 48.921875 51.53125 44.890625 \nQ 49.859375 40.875 45.40625 35.40625 \nQ 44.1875 33.984375 37.640625 27.21875 \nQ 31.109375 20.453125 19.1875 8.296875 \nz\n\" id=\"DejaVuSans-50\"/>\n      </defs>\n      <g transform=\"translate(286.292625 199.169863)scale(0.1 -0.1)\">\n       <use xlink:href=\"#DejaVuSans-50\"/>\n       <use x=\"63.623047\" xlink:href=\"#DejaVuSans-48\"/>\n       <use x=\"127.246094\" xlink:href=\"#DejaVuSans-48\"/>\n       <use x=\"190.869141\" xlink:href=\"#DejaVuSans-48\"/>\n      </g>\n     </g>\n    </g>\n    <g id=\"ytick_4\">\n     <g id=\"line2d_6\">\n      <g>\n       <use style=\"stroke:#000000;stroke-width:0.8;\" x=\"279.292625\" xlink:href=\"#mffa5261281\" y=\"165.968981\"/>\n      </g>\n     </g>\n     <g id=\"text_12\">\n      <!-- 4000 -->\n      <g transform=\"translate(286.292625 169.7682)scale(0.1 -0.1)\">\n       <use xlink:href=\"#DejaVuSans-52\"/>\n       <use x=\"63.623047\" xlink:href=\"#DejaVuSans-48\"/>\n       <use x=\"127.246094\" xlink:href=\"#DejaVuSans-48\"/>\n       <use x=\"190.869141\" xlink:href=\"#DejaVuSans-48\"/>\n      </g>\n     </g>\n    </g>\n    <g id=\"ytick_5\">\n     <g id=\"line2d_7\">\n      <g>\n       <use style=\"stroke:#000000;stroke-width:0.8;\" x=\"279.292625\" xlink:href=\"#mffa5261281\" y=\"136.567318\"/>\n      </g>\n     </g>\n     <g id=\"text_13\">\n      <!-- 6000 -->\n      <g transform=\"translate(286.292625 140.366537)scale(0.1 -0.1)\">\n       <use xlink:href=\"#DejaVuSans-54\"/>\n       <use x=\"63.623047\" xlink:href=\"#DejaVuSans-48\"/>\n       <use x=\"127.246094\" xlink:href=\"#DejaVuSans-48\"/>\n       <use x=\"190.869141\" xlink:href=\"#DejaVuSans-48\"/>\n      </g>\n     </g>\n    </g>\n    <g id=\"ytick_6\">\n     <g id=\"line2d_8\">\n      <g>\n       <use style=\"stroke:#000000;stroke-width:0.8;\" x=\"279.292625\" xlink:href=\"#mffa5261281\" y=\"107.165655\"/>\n      </g>\n     </g>\n     <g id=\"text_14\">\n      <!-- 8000 -->\n      <g transform=\"translate(286.292625 110.964874)scale(0.1 -0.1)\">\n       <use xlink:href=\"#DejaVuSans-56\"/>\n       <use x=\"63.623047\" xlink:href=\"#DejaVuSans-48\"/>\n       <use x=\"127.246094\" xlink:href=\"#DejaVuSans-48\"/>\n       <use x=\"190.869141\" xlink:href=\"#DejaVuSans-48\"/>\n      </g>\n     </g>\n    </g>\n    <g id=\"ytick_7\">\n     <g id=\"line2d_9\">\n      <g>\n       <use style=\"stroke:#000000;stroke-width:0.8;\" x=\"279.292625\" xlink:href=\"#mffa5261281\" y=\"77.763992\"/>\n      </g>\n     </g>\n     <g id=\"text_15\">\n      <!-- 10000 -->\n      <g transform=\"translate(286.292625 81.56321)scale(0.1 -0.1)\">\n       <use xlink:href=\"#DejaVuSans-49\"/>\n       <use x=\"63.623047\" xlink:href=\"#DejaVuSans-48\"/>\n       <use x=\"127.246094\" xlink:href=\"#DejaVuSans-48\"/>\n       <use x=\"190.869141\" xlink:href=\"#DejaVuSans-48\"/>\n       <use x=\"254.492188\" xlink:href=\"#DejaVuSans-48\"/>\n      </g>\n     </g>\n    </g>\n    <g id=\"ytick_8\">\n     <g id=\"line2d_10\">\n      <g>\n       <use style=\"stroke:#000000;stroke-width:0.8;\" x=\"279.292625\" xlink:href=\"#mffa5261281\" y=\"48.362328\"/>\n      </g>\n     </g>\n     <g id=\"text_16\">\n      <!-- 12000 -->\n      <g transform=\"translate(286.292625 52.161547)scale(0.1 -0.1)\">\n       <use xlink:href=\"#DejaVuSans-49\"/>\n       <use x=\"63.623047\" xlink:href=\"#DejaVuSans-50\"/>\n       <use x=\"127.246094\" xlink:href=\"#DejaVuSans-48\"/>\n       <use x=\"190.869141\" xlink:href=\"#DejaVuSans-48\"/>\n       <use x=\"254.492188\" xlink:href=\"#DejaVuSans-48\"/>\n      </g>\n     </g>\n    </g>\n    <g id=\"ytick_9\">\n     <g id=\"line2d_11\">\n      <g>\n       <use style=\"stroke:#000000;stroke-width:0.8;\" x=\"279.292625\" xlink:href=\"#mffa5261281\" y=\"18.960665\"/>\n      </g>\n     </g>\n     <g id=\"text_17\">\n      <!-- 14000 -->\n      <g transform=\"translate(286.292625 22.759884)scale(0.1 -0.1)\">\n       <use xlink:href=\"#DejaVuSans-49\"/>\n       <use x=\"63.623047\" xlink:href=\"#DejaVuSans-52\"/>\n       <use x=\"127.246094\" xlink:href=\"#DejaVuSans-48\"/>\n       <use x=\"190.869141\" xlink:href=\"#DejaVuSans-48\"/>\n       <use x=\"254.492188\" xlink:href=\"#DejaVuSans-48\"/>\n      </g>\n     </g>\n    </g>\n   </g>\n   <g id=\"patch_8\">\n    <path d=\"M 268.420625 224.64 \nL 268.420625 223.790625 \nL 268.420625 8.049375 \nL 268.420625 7.2 \nL 279.292625 7.2 \nL 279.292625 8.049375 \nL 279.292625 223.790625 \nL 279.292625 224.64 \nz\n\" style=\"fill:none;stroke:#000000;stroke-linejoin:miter;stroke-width:0.8;\"/>\n   </g>\n  </g>\n </g>\n <defs>\n  <clipPath id=\"p7f6729adfc\">\n   <rect height=\"217.44\" width=\"217.44\" x=\"34.240625\" y=\"7.2\"/>\n  </clipPath>\n  <clipPath id=\"p1680887de2\">\n   <rect height=\"217.44\" width=\"10.872\" x=\"268.420625\" y=\"7.2\"/>\n  </clipPath>\n </defs>\n</svg>\n",
      "image/png": "[encoded data removed]"
     },
     "metadata": {
      "needs_background": "light"
     }
    }
   ],
   "source": [
    "plot_confusion_matrix(NB_pipeline, X_test, y_test,cmap=plt.cm.Blues); "
   ]
  },
  {
   "cell_type": "code",
   "execution_count": 32,
   "metadata": {},
   "outputs": [
    {
     "output_type": "execute_result",
     "data": {
      "text/plain": "0.9860681114551083"
     },
     "metadata": {},
     "execution_count": 32
    }
   ],
   "source": [
    "tn, fp, fn, tp = confusion_matrix(y_test, y_pred).ravel()\n",
    "sensitivity = tp / (tp+fn)\n",
    "sensitivity"
   ]
  },
  {
   "source": [
    "# Model Interpretability\n",
    "The selected Model is the Naïve Bayes in a pipeline with a standard scaler,\n",
    "the sensitivity result is higher\n",
    "\n",
    "The permutation feature importance is defined to be the decrease in a model score when a single feature value is randomly shuffled "
   ],
   "cell_type": "markdown",
   "metadata": {}
  },
  {
   "cell_type": "code",
   "execution_count": 33,
   "metadata": {},
   "outputs": [],
   "source": [
    "from sklearn.inspection import permutation_importance"
   ]
  },
  {
   "cell_type": "code",
   "execution_count": 34,
   "metadata": {
    "tags": []
   },
   "outputs": [],
   "source": [
    "imps = permutation_importance(NB_pipeline, X_test, y_test, n_repeats = 5,scoring='recall', n_jobs=-1)"
   ]
  },
  {
   "cell_type": "code",
   "execution_count": 35,
   "metadata": {},
   "outputs": [
    {
     "output_type": "display_data",
     "data": {
      "text/plain": "<Figure size 720x2160 with 1 Axes>",
      "image/svg+xml": "<?xml version=\"1.0\" encoding=\"utf-8\" standalone=\"no\"?>\n<!DOCTYPE svg PUBLIC \"-//W3C//DTD SVG 1.1//EN\"\n  \"http://www.w3.org/Graphics/SVG/1.1/DTD/svg11.dtd\">\n<!-- Created with matplotlib (https://matplotlib.org/) -->\n<svg height=\"1676.99625pt\" version=\"1.1\" viewBox=\"0 0 836.492188 1676.99625\" width=\"836.492188pt\" xmlns=\"http://www.w3.org/2000/svg\" xmlns:xlink=\"http://www.w3.org/1999/xlink\">\n <defs>\n  <style type=\"text/css\">\n*{stroke-linecap:butt;stroke-linejoin:round;}\n  </style>\n </defs>\n <g id=\"figure_1\">\n  <g id=\"patch_1\">\n   <path d=\"M 0 1676.99625 \nL 836.492187 1676.99625 \nL 836.492187 0 \nL 0 0 \nz\n\" style=\"fill:none;\"/>\n  </g>\n  <g id=\"axes_1\">\n   <g id=\"patch_2\">\n    <path d=\"M 271.292188 1653.118125 \nL 829.292188 1653.118125 \nL 829.292188 22.318125 \nL 271.292188 22.318125 \nz\n\" style=\"fill:#ffffff;\"/>\n   </g>\n   <g id=\"matplotlib.axis_1\">\n    <g id=\"xtick_1\">\n     <g id=\"line2d_1\">\n      <defs>\n       <path d=\"M 0 0 \nL 0 3.5 \n\" id=\"m83f7ec53d9\" style=\"stroke:#000000;stroke-width:0.8;\"/>\n      </defs>\n      <g>\n       <use style=\"stroke:#000000;stroke-width:0.8;\" x=\"326.701978\" xlink:href=\"#m83f7ec53d9\" y=\"1653.118125\"/>\n      </g>\n     </g>\n     <g id=\"text_1\">\n      <!-- −0.0050 -->\n      <defs>\n       <path d=\"M 10.59375 35.5 \nL 73.1875 35.5 \nL 73.1875 27.203125 \nL 10.59375 27.203125 \nz\n\" id=\"DejaVuSans-8722\"/>\n       <path d=\"M 31.78125 66.40625 \nQ 24.171875 66.40625 20.328125 58.90625 \nQ 16.5 51.421875 16.5 36.375 \nQ 16.5 21.390625 20.328125 13.890625 \nQ 24.171875 6.390625 31.78125 6.390625 \nQ 39.453125 6.390625 43.28125 13.890625 \nQ 47.125 21.390625 47.125 36.375 \nQ 47.125 51.421875 43.28125 58.90625 \nQ 39.453125 66.40625 31.78125 66.40625 \nz\nM 31.78125 74.21875 \nQ 44.046875 74.21875 50.515625 64.515625 \nQ 56.984375 54.828125 56.984375 36.375 \nQ 56.984375 17.96875 50.515625 8.265625 \nQ 44.046875 -1.421875 31.78125 -1.421875 \nQ 19.53125 -1.421875 13.0625 8.265625 \nQ 6.59375 17.96875 6.59375 36.375 \nQ 6.59375 54.828125 13.0625 64.515625 \nQ 19.53125 74.21875 31.78125 74.21875 \nz\n\" id=\"DejaVuSans-48\"/>\n       <path d=\"M 10.6875 12.40625 \nL 21 12.40625 \nL 21 0 \nL 10.6875 0 \nz\n\" id=\"DejaVuSans-46\"/>\n       <path d=\"M 10.796875 72.90625 \nL 49.515625 72.90625 \nL 49.515625 64.59375 \nL 19.828125 64.59375 \nL 19.828125 46.734375 \nQ 21.96875 47.46875 24.109375 47.828125 \nQ 26.265625 48.1875 28.421875 48.1875 \nQ 40.625 48.1875 47.75 41.5 \nQ 54.890625 34.8125 54.890625 23.390625 \nQ 54.890625 11.625 47.5625 5.09375 \nQ 40.234375 -1.421875 26.90625 -1.421875 \nQ 22.3125 -1.421875 17.546875 -0.640625 \nQ 12.796875 0.140625 7.71875 1.703125 \nL 7.71875 11.625 \nQ 12.109375 9.234375 16.796875 8.0625 \nQ 21.484375 6.890625 26.703125 6.890625 \nQ 35.15625 6.890625 40.078125 11.328125 \nQ 45.015625 15.765625 45.015625 23.390625 \nQ 45.015625 31 40.078125 35.4375 \nQ 35.15625 39.890625 26.703125 39.890625 \nQ 22.75 39.890625 18.8125 39.015625 \nQ 14.890625 38.140625 10.796875 36.28125 \nz\n\" id=\"DejaVuSans-53\"/>\n      </defs>\n      <g transform=\"translate(305.016821 1667.716563)scale(0.1 -0.1)\">\n       <use xlink:href=\"#DejaVuSans-8722\"/>\n       <use x=\"83.789062\" xlink:href=\"#DejaVuSans-48\"/>\n       <use x=\"147.412109\" xlink:href=\"#DejaVuSans-46\"/>\n       <use x=\"179.199219\" xlink:href=\"#DejaVuSans-48\"/>\n       <use x=\"242.822266\" xlink:href=\"#DejaVuSans-48\"/>\n       <use x=\"306.445312\" xlink:href=\"#DejaVuSans-53\"/>\n       <use x=\"370.068359\" xlink:href=\"#DejaVuSans-48\"/>\n      </g>\n     </g>\n    </g>\n    <g id=\"xtick_2\">\n     <g id=\"line2d_2\">\n      <g>\n       <use style=\"stroke:#000000;stroke-width:0.8;\" x=\"389.720859\" xlink:href=\"#m83f7ec53d9\" y=\"1653.118125\"/>\n      </g>\n     </g>\n     <g id=\"text_2\">\n      <!-- −0.0025 -->\n      <defs>\n       <path d=\"M 19.1875 8.296875 \nL 53.609375 8.296875 \nL 53.609375 0 \nL 7.328125 0 \nL 7.328125 8.296875 \nQ 12.9375 14.109375 22.625 23.890625 \nQ 32.328125 33.6875 34.8125 36.53125 \nQ 39.546875 41.84375 41.421875 45.53125 \nQ 43.3125 49.21875 43.3125 52.78125 \nQ 43.3125 58.59375 39.234375 62.25 \nQ 35.15625 65.921875 28.609375 65.921875 \nQ 23.96875 65.921875 18.8125 64.3125 \nQ 13.671875 62.703125 7.8125 59.421875 \nL 7.8125 69.390625 \nQ 13.765625 71.78125 18.9375 73 \nQ 24.125 74.21875 28.421875 74.21875 \nQ 39.75 74.21875 46.484375 68.546875 \nQ 53.21875 62.890625 53.21875 53.421875 \nQ 53.21875 48.921875 51.53125 44.890625 \nQ 49.859375 40.875 45.40625 35.40625 \nQ 44.1875 33.984375 37.640625 27.21875 \nQ 31.109375 20.453125 19.1875 8.296875 \nz\n\" id=\"DejaVuSans-50\"/>\n      </defs>\n      <g transform=\"translate(368.035703 1667.716563)scale(0.1 -0.1)\">\n       <use xlink:href=\"#DejaVuSans-8722\"/>\n       <use x=\"83.789062\" xlink:href=\"#DejaVuSans-48\"/>\n       <use x=\"147.412109\" xlink:href=\"#DejaVuSans-46\"/>\n       <use x=\"179.199219\" xlink:href=\"#DejaVuSans-48\"/>\n       <use x=\"242.822266\" xlink:href=\"#DejaVuSans-48\"/>\n       <use x=\"306.445312\" xlink:href=\"#DejaVuSans-50\"/>\n       <use x=\"370.068359\" xlink:href=\"#DejaVuSans-53\"/>\n      </g>\n     </g>\n    </g>\n    <g id=\"xtick_3\">\n     <g id=\"line2d_3\">\n      <g>\n       <use style=\"stroke:#000000;stroke-width:0.8;\" x=\"452.73974\" xlink:href=\"#m83f7ec53d9\" y=\"1653.118125\"/>\n      </g>\n     </g>\n     <g id=\"text_3\">\n      <!-- 0.0000 -->\n      <g transform=\"translate(435.244427 1667.716563)scale(0.1 -0.1)\">\n       <use xlink:href=\"#DejaVuSans-48\"/>\n       <use x=\"63.623047\" xlink:href=\"#DejaVuSans-46\"/>\n       <use x=\"95.410156\" xlink:href=\"#DejaVuSans-48\"/>\n       <use x=\"159.033203\" xlink:href=\"#DejaVuSans-48\"/>\n       <use x=\"222.65625\" xlink:href=\"#DejaVuSans-48\"/>\n       <use x=\"286.279297\" xlink:href=\"#DejaVuSans-48\"/>\n      </g>\n     </g>\n    </g>\n    <g id=\"xtick_4\">\n     <g id=\"line2d_4\">\n      <g>\n       <use style=\"stroke:#000000;stroke-width:0.8;\" x=\"515.758621\" xlink:href=\"#m83f7ec53d9\" y=\"1653.118125\"/>\n      </g>\n     </g>\n     <g id=\"text_4\">\n      <!-- 0.0025 -->\n      <g transform=\"translate(498.263309 1667.716563)scale(0.1 -0.1)\">\n       <use xlink:href=\"#DejaVuSans-48\"/>\n       <use x=\"63.623047\" xlink:href=\"#DejaVuSans-46\"/>\n       <use x=\"95.410156\" xlink:href=\"#DejaVuSans-48\"/>\n       <use x=\"159.033203\" xlink:href=\"#DejaVuSans-48\"/>\n       <use x=\"222.65625\" xlink:href=\"#DejaVuSans-50\"/>\n       <use x=\"286.279297\" xlink:href=\"#DejaVuSans-53\"/>\n      </g>\n     </g>\n    </g>\n    <g id=\"xtick_5\">\n     <g id=\"line2d_5\">\n      <g>\n       <use style=\"stroke:#000000;stroke-width:0.8;\" x=\"578.777502\" xlink:href=\"#m83f7ec53d9\" y=\"1653.118125\"/>\n      </g>\n     </g>\n     <g id=\"text_5\">\n      <!-- 0.0050 -->\n      <g transform=\"translate(561.28219 1667.716563)scale(0.1 -0.1)\">\n       <use xlink:href=\"#DejaVuSans-48\"/>\n       <use x=\"63.623047\" xlink:href=\"#DejaVuSans-46\"/>\n       <use x=\"95.410156\" xlink:href=\"#DejaVuSans-48\"/>\n       <use x=\"159.033203\" xlink:href=\"#DejaVuSans-48\"/>\n       <use x=\"222.65625\" xlink:href=\"#DejaVuSans-53\"/>\n       <use x=\"286.279297\" xlink:href=\"#DejaVuSans-48\"/>\n      </g>\n     </g>\n    </g>\n    <g id=\"xtick_6\">\n     <g id=\"line2d_6\">\n      <g>\n       <use style=\"stroke:#000000;stroke-width:0.8;\" x=\"641.796383\" xlink:href=\"#m83f7ec53d9\" y=\"1653.118125\"/>\n      </g>\n     </g>\n     <g id=\"text_6\">\n      <!-- 0.0075 -->\n      <defs>\n       <path d=\"M 8.203125 72.90625 \nL 55.078125 72.90625 \nL 55.078125 68.703125 \nL 28.609375 0 \nL 18.3125 0 \nL 43.21875 64.59375 \nL 8.203125 64.59375 \nz\n\" id=\"DejaVuSans-55\"/>\n      </defs>\n      <g transform=\"translate(624.301071 1667.716563)scale(0.1 -0.1)\">\n       <use xlink:href=\"#DejaVuSans-48\"/>\n       <use x=\"63.623047\" xlink:href=\"#DejaVuSans-46\"/>\n       <use x=\"95.410156\" xlink:href=\"#DejaVuSans-48\"/>\n       <use x=\"159.033203\" xlink:href=\"#DejaVuSans-48\"/>\n       <use x=\"222.65625\" xlink:href=\"#DejaVuSans-55\"/>\n       <use x=\"286.279297\" xlink:href=\"#DejaVuSans-53\"/>\n      </g>\n     </g>\n    </g>\n    <g id=\"xtick_7\">\n     <g id=\"line2d_7\">\n      <g>\n       <use style=\"stroke:#000000;stroke-width:0.8;\" x=\"704.815264\" xlink:href=\"#m83f7ec53d9\" y=\"1653.118125\"/>\n      </g>\n     </g>\n     <g id=\"text_7\">\n      <!-- 0.0100 -->\n      <defs>\n       <path d=\"M 12.40625 8.296875 \nL 28.515625 8.296875 \nL 28.515625 63.921875 \nL 10.984375 60.40625 \nL 10.984375 69.390625 \nL 28.421875 72.90625 \nL 38.28125 72.90625 \nL 38.28125 8.296875 \nL 54.390625 8.296875 \nL 54.390625 0 \nL 12.40625 0 \nz\n\" id=\"DejaVuSans-49\"/>\n      </defs>\n      <g transform=\"translate(687.319952 1667.716563)scale(0.1 -0.1)\">\n       <use xlink:href=\"#DejaVuSans-48\"/>\n       <use x=\"63.623047\" xlink:href=\"#DejaVuSans-46\"/>\n       <use x=\"95.410156\" xlink:href=\"#DejaVuSans-48\"/>\n       <use x=\"159.033203\" xlink:href=\"#DejaVuSans-49\"/>\n       <use x=\"222.65625\" xlink:href=\"#DejaVuSans-48\"/>\n       <use x=\"286.279297\" xlink:href=\"#DejaVuSans-48\"/>\n      </g>\n     </g>\n    </g>\n    <g id=\"xtick_8\">\n     <g id=\"line2d_8\">\n      <g>\n       <use style=\"stroke:#000000;stroke-width:0.8;\" x=\"767.834146\" xlink:href=\"#m83f7ec53d9\" y=\"1653.118125\"/>\n      </g>\n     </g>\n     <g id=\"text_8\">\n      <!-- 0.0125 -->\n      <g transform=\"translate(750.338833 1667.716563)scale(0.1 -0.1)\">\n       <use xlink:href=\"#DejaVuSans-48\"/>\n       <use x=\"63.623047\" xlink:href=\"#DejaVuSans-46\"/>\n       <use x=\"95.410156\" xlink:href=\"#DejaVuSans-48\"/>\n       <use x=\"159.033203\" xlink:href=\"#DejaVuSans-49\"/>\n       <use x=\"222.65625\" xlink:href=\"#DejaVuSans-50\"/>\n       <use x=\"286.279297\" xlink:href=\"#DejaVuSans-53\"/>\n      </g>\n     </g>\n    </g>\n   </g>\n   <g id=\"matplotlib.axis_2\">\n    <g id=\"ytick_1\">\n     <g id=\"line2d_9\">\n      <defs>\n       <path d=\"M 0 0 \nL -3.5 0 \n\" id=\"m051f1ff470\" style=\"stroke:#000000;stroke-width:0.8;\"/>\n      </defs>\n      <g>\n       <use style=\"stroke:#000000;stroke-width:0.8;\" x=\"271.292188\" xlink:href=\"#m051f1ff470\" y=\"1643.410982\"/>\n      </g>\n     </g>\n     <g id=\"text_9\">\n      <!-- medical_specialty_Gastroenterology -->\n      <defs>\n       <path d=\"M 52 44.1875 \nQ 55.375 50.25 60.0625 53.125 \nQ 64.75 56 71.09375 56 \nQ 79.640625 56 84.28125 50.015625 \nQ 88.921875 44.046875 88.921875 33.015625 \nL 88.921875 0 \nL 79.890625 0 \nL 79.890625 32.71875 \nQ 79.890625 40.578125 77.09375 44.375 \nQ 74.3125 48.1875 68.609375 48.1875 \nQ 61.625 48.1875 57.5625 43.546875 \nQ 53.515625 38.921875 53.515625 30.90625 \nL 53.515625 0 \nL 44.484375 0 \nL 44.484375 32.71875 \nQ 44.484375 40.625 41.703125 44.40625 \nQ 38.921875 48.1875 33.109375 48.1875 \nQ 26.21875 48.1875 22.15625 43.53125 \nQ 18.109375 38.875 18.109375 30.90625 \nL 18.109375 0 \nL 9.078125 0 \nL 9.078125 54.6875 \nL 18.109375 54.6875 \nL 18.109375 46.1875 \nQ 21.1875 51.21875 25.484375 53.609375 \nQ 29.78125 56 35.6875 56 \nQ 41.65625 56 45.828125 52.96875 \nQ 50 49.953125 52 44.1875 \nz\n\" id=\"DejaVuSans-109\"/>\n       <path d=\"M 56.203125 29.59375 \nL 56.203125 25.203125 \nL 14.890625 25.203125 \nQ 15.484375 15.921875 20.484375 11.0625 \nQ 25.484375 6.203125 34.421875 6.203125 \nQ 39.59375 6.203125 44.453125 7.46875 \nQ 49.3125 8.734375 54.109375 11.28125 \nL 54.109375 2.78125 \nQ 49.265625 0.734375 44.1875 -0.34375 \nQ 39.109375 -1.421875 33.890625 -1.421875 \nQ 20.796875 -1.421875 13.15625 6.1875 \nQ 5.515625 13.8125 5.515625 26.8125 \nQ 5.515625 40.234375 12.765625 48.109375 \nQ 20.015625 56 32.328125 56 \nQ 43.359375 56 49.78125 48.890625 \nQ 56.203125 41.796875 56.203125 29.59375 \nz\nM 47.21875 32.234375 \nQ 47.125 39.59375 43.09375 43.984375 \nQ 39.0625 48.390625 32.421875 48.390625 \nQ 24.90625 48.390625 20.390625 44.140625 \nQ 15.875 39.890625 15.1875 32.171875 \nz\n\" id=\"DejaVuSans-101\"/>\n       <path d=\"M 45.40625 46.390625 \nL 45.40625 75.984375 \nL 54.390625 75.984375 \nL 54.390625 0 \nL 45.40625 0 \nL 45.40625 8.203125 \nQ 42.578125 3.328125 38.25 0.953125 \nQ 33.9375 -1.421875 27.875 -1.421875 \nQ 17.96875 -1.421875 11.734375 6.484375 \nQ 5.515625 14.40625 5.515625 27.296875 \nQ 5.515625 40.1875 11.734375 48.09375 \nQ 17.96875 56 27.875 56 \nQ 33.9375 56 38.25 53.625 \nQ 42.578125 51.265625 45.40625 46.390625 \nz\nM 14.796875 27.296875 \nQ 14.796875 17.390625 18.875 11.75 \nQ 22.953125 6.109375 30.078125 6.109375 \nQ 37.203125 6.109375 41.296875 11.75 \nQ 45.40625 17.390625 45.40625 27.296875 \nQ 45.40625 37.203125 41.296875 42.84375 \nQ 37.203125 48.484375 30.078125 48.484375 \nQ 22.953125 48.484375 18.875 42.84375 \nQ 14.796875 37.203125 14.796875 27.296875 \nz\n\" id=\"DejaVuSans-100\"/>\n       <path d=\"M 9.421875 54.6875 \nL 18.40625 54.6875 \nL 18.40625 0 \nL 9.421875 0 \nz\nM 9.421875 75.984375 \nL 18.40625 75.984375 \nL 18.40625 64.59375 \nL 9.421875 64.59375 \nz\n\" id=\"DejaVuSans-105\"/>\n       <path d=\"M 48.78125 52.59375 \nL 48.78125 44.1875 \nQ 44.96875 46.296875 41.140625 47.34375 \nQ 37.3125 48.390625 33.40625 48.390625 \nQ 24.65625 48.390625 19.8125 42.84375 \nQ 14.984375 37.3125 14.984375 27.296875 \nQ 14.984375 17.28125 19.8125 11.734375 \nQ 24.65625 6.203125 33.40625 6.203125 \nQ 37.3125 6.203125 41.140625 7.25 \nQ 44.96875 8.296875 48.78125 10.40625 \nL 48.78125 2.09375 \nQ 45.015625 0.34375 40.984375 -0.53125 \nQ 36.96875 -1.421875 32.421875 -1.421875 \nQ 20.0625 -1.421875 12.78125 6.34375 \nQ 5.515625 14.109375 5.515625 27.296875 \nQ 5.515625 40.671875 12.859375 48.328125 \nQ 20.21875 56 33.015625 56 \nQ 37.15625 56 41.109375 55.140625 \nQ 45.0625 54.296875 48.78125 52.59375 \nz\n\" id=\"DejaVuSans-99\"/>\n       <path d=\"M 34.28125 27.484375 \nQ 23.390625 27.484375 19.1875 25 \nQ 14.984375 22.515625 14.984375 16.5 \nQ 14.984375 11.71875 18.140625 8.90625 \nQ 21.296875 6.109375 26.703125 6.109375 \nQ 34.1875 6.109375 38.703125 11.40625 \nQ 43.21875 16.703125 43.21875 25.484375 \nL 43.21875 27.484375 \nz\nM 52.203125 31.203125 \nL 52.203125 0 \nL 43.21875 0 \nL 43.21875 8.296875 \nQ 40.140625 3.328125 35.546875 0.953125 \nQ 30.953125 -1.421875 24.3125 -1.421875 \nQ 15.921875 -1.421875 10.953125 3.296875 \nQ 6 8.015625 6 15.921875 \nQ 6 25.140625 12.171875 29.828125 \nQ 18.359375 34.515625 30.609375 34.515625 \nL 43.21875 34.515625 \nL 43.21875 35.40625 \nQ 43.21875 41.609375 39.140625 45 \nQ 35.0625 48.390625 27.6875 48.390625 \nQ 23 48.390625 18.546875 47.265625 \nQ 14.109375 46.140625 10.015625 43.890625 \nL 10.015625 52.203125 \nQ 14.9375 54.109375 19.578125 55.046875 \nQ 24.21875 56 28.609375 56 \nQ 40.484375 56 46.34375 49.84375 \nQ 52.203125 43.703125 52.203125 31.203125 \nz\n\" id=\"DejaVuSans-97\"/>\n       <path d=\"M 9.421875 75.984375 \nL 18.40625 75.984375 \nL 18.40625 0 \nL 9.421875 0 \nz\n\" id=\"DejaVuSans-108\"/>\n       <path d=\"M 50.984375 -16.609375 \nL 50.984375 -23.578125 \nL -0.984375 -23.578125 \nL -0.984375 -16.609375 \nz\n\" id=\"DejaVuSans-95\"/>\n       <path d=\"M 44.28125 53.078125 \nL 44.28125 44.578125 \nQ 40.484375 46.53125 36.375 47.5 \nQ 32.28125 48.484375 27.875 48.484375 \nQ 21.1875 48.484375 17.84375 46.4375 \nQ 14.5 44.390625 14.5 40.28125 \nQ 14.5 37.15625 16.890625 35.375 \nQ 19.28125 33.59375 26.515625 31.984375 \nL 29.59375 31.296875 \nQ 39.15625 29.25 43.1875 25.515625 \nQ 47.21875 21.78125 47.21875 15.09375 \nQ 47.21875 7.46875 41.1875 3.015625 \nQ 35.15625 -1.421875 24.609375 -1.421875 \nQ 20.21875 -1.421875 15.453125 -0.5625 \nQ 10.6875 0.296875 5.421875 2 \nL 5.421875 11.28125 \nQ 10.40625 8.6875 15.234375 7.390625 \nQ 20.0625 6.109375 24.8125 6.109375 \nQ 31.15625 6.109375 34.5625 8.28125 \nQ 37.984375 10.453125 37.984375 14.40625 \nQ 37.984375 18.0625 35.515625 20.015625 \nQ 33.0625 21.96875 24.703125 23.78125 \nL 21.578125 24.515625 \nQ 13.234375 26.265625 9.515625 29.90625 \nQ 5.8125 33.546875 5.8125 39.890625 \nQ 5.8125 47.609375 11.28125 51.796875 \nQ 16.75 56 26.8125 56 \nQ 31.78125 56 36.171875 55.265625 \nQ 40.578125 54.546875 44.28125 53.078125 \nz\n\" id=\"DejaVuSans-115\"/>\n       <path d=\"M 18.109375 8.203125 \nL 18.109375 -20.796875 \nL 9.078125 -20.796875 \nL 9.078125 54.6875 \nL 18.109375 54.6875 \nL 18.109375 46.390625 \nQ 20.953125 51.265625 25.265625 53.625 \nQ 29.59375 56 35.59375 56 \nQ 45.5625 56 51.78125 48.09375 \nQ 58.015625 40.1875 58.015625 27.296875 \nQ 58.015625 14.40625 51.78125 6.484375 \nQ 45.5625 -1.421875 35.59375 -1.421875 \nQ 29.59375 -1.421875 25.265625 0.953125 \nQ 20.953125 3.328125 18.109375 8.203125 \nz\nM 48.6875 27.296875 \nQ 48.6875 37.203125 44.609375 42.84375 \nQ 40.53125 48.484375 33.40625 48.484375 \nQ 26.265625 48.484375 22.1875 42.84375 \nQ 18.109375 37.203125 18.109375 27.296875 \nQ 18.109375 17.390625 22.1875 11.75 \nQ 26.265625 6.109375 33.40625 6.109375 \nQ 40.53125 6.109375 44.609375 11.75 \nQ 48.6875 17.390625 48.6875 27.296875 \nz\n\" id=\"DejaVuSans-112\"/>\n       <path d=\"M 18.3125 70.21875 \nL 18.3125 54.6875 \nL 36.8125 54.6875 \nL 36.8125 47.703125 \nL 18.3125 47.703125 \nL 18.3125 18.015625 \nQ 18.3125 11.328125 20.140625 9.421875 \nQ 21.96875 7.515625 27.59375 7.515625 \nL 36.8125 7.515625 \nL 36.8125 0 \nL 27.59375 0 \nQ 17.1875 0 13.234375 3.875 \nQ 9.28125 7.765625 9.28125 18.015625 \nL 9.28125 47.703125 \nL 2.6875 47.703125 \nL 2.6875 54.6875 \nL 9.28125 54.6875 \nL 9.28125 70.21875 \nz\n\" id=\"DejaVuSans-116\"/>\n       <path d=\"M 32.171875 -5.078125 \nQ 28.375 -14.84375 24.75 -17.8125 \nQ 21.140625 -20.796875 15.09375 -20.796875 \nL 7.90625 -20.796875 \nL 7.90625 -13.28125 \nL 13.1875 -13.28125 \nQ 16.890625 -13.28125 18.9375 -11.515625 \nQ 21 -9.765625 23.484375 -3.21875 \nL 25.09375 0.875 \nL 2.984375 54.6875 \nL 12.5 54.6875 \nL 29.59375 11.921875 \nL 46.6875 54.6875 \nL 56.203125 54.6875 \nz\n\" id=\"DejaVuSans-121\"/>\n       <path d=\"M 59.515625 10.40625 \nL 59.515625 29.984375 \nL 43.40625 29.984375 \nL 43.40625 38.09375 \nL 69.28125 38.09375 \nL 69.28125 6.78125 \nQ 63.578125 2.734375 56.6875 0.65625 \nQ 49.8125 -1.421875 42 -1.421875 \nQ 24.90625 -1.421875 15.25 8.5625 \nQ 5.609375 18.5625 5.609375 36.375 \nQ 5.609375 54.25 15.25 64.234375 \nQ 24.90625 74.21875 42 74.21875 \nQ 49.125 74.21875 55.546875 72.453125 \nQ 61.96875 70.703125 67.390625 67.28125 \nL 67.390625 56.78125 \nQ 61.921875 61.421875 55.765625 63.765625 \nQ 49.609375 66.109375 42.828125 66.109375 \nQ 29.4375 66.109375 22.71875 58.640625 \nQ 16.015625 51.171875 16.015625 36.375 \nQ 16.015625 21.625 22.71875 14.15625 \nQ 29.4375 6.6875 42.828125 6.6875 \nQ 48.046875 6.6875 52.140625 7.59375 \nQ 56.25 8.5 59.515625 10.40625 \nz\n\" id=\"DejaVuSans-71\"/>\n       <path d=\"M 41.109375 46.296875 \nQ 39.59375 47.171875 37.8125 47.578125 \nQ 36.03125 48 33.890625 48 \nQ 26.265625 48 22.1875 43.046875 \nQ 18.109375 38.09375 18.109375 28.8125 \nL 18.109375 0 \nL 9.078125 0 \nL 9.078125 54.6875 \nL 18.109375 54.6875 \nL 18.109375 46.1875 \nQ 20.953125 51.171875 25.484375 53.578125 \nQ 30.03125 56 36.53125 56 \nQ 37.453125 56 38.578125 55.875 \nQ 39.703125 55.765625 41.0625 55.515625 \nz\n\" id=\"DejaVuSans-114\"/>\n       <path d=\"M 30.609375 48.390625 \nQ 23.390625 48.390625 19.1875 42.75 \nQ 14.984375 37.109375 14.984375 27.296875 \nQ 14.984375 17.484375 19.15625 11.84375 \nQ 23.34375 6.203125 30.609375 6.203125 \nQ 37.796875 6.203125 41.984375 11.859375 \nQ 46.1875 17.53125 46.1875 27.296875 \nQ 46.1875 37.015625 41.984375 42.703125 \nQ 37.796875 48.390625 30.609375 48.390625 \nz\nM 30.609375 56 \nQ 42.328125 56 49.015625 48.375 \nQ 55.71875 40.765625 55.71875 27.296875 \nQ 55.71875 13.875 49.015625 6.21875 \nQ 42.328125 -1.421875 30.609375 -1.421875 \nQ 18.84375 -1.421875 12.171875 6.21875 \nQ 5.515625 13.875 5.515625 27.296875 \nQ 5.515625 40.765625 12.171875 48.375 \nQ 18.84375 56 30.609375 56 \nz\n\" id=\"DejaVuSans-111\"/>\n       <path d=\"M 54.890625 33.015625 \nL 54.890625 0 \nL 45.90625 0 \nL 45.90625 32.71875 \nQ 45.90625 40.484375 42.875 44.328125 \nQ 39.84375 48.1875 33.796875 48.1875 \nQ 26.515625 48.1875 22.3125 43.546875 \nQ 18.109375 38.921875 18.109375 30.90625 \nL 18.109375 0 \nL 9.078125 0 \nL 9.078125 54.6875 \nL 18.109375 54.6875 \nL 18.109375 46.1875 \nQ 21.34375 51.125 25.703125 53.5625 \nQ 30.078125 56 35.796875 56 \nQ 45.21875 56 50.046875 50.171875 \nQ 54.890625 44.34375 54.890625 33.015625 \nz\n\" id=\"DejaVuSans-110\"/>\n       <path d=\"M 45.40625 27.984375 \nQ 45.40625 37.75 41.375 43.109375 \nQ 37.359375 48.484375 30.078125 48.484375 \nQ 22.859375 48.484375 18.828125 43.109375 \nQ 14.796875 37.75 14.796875 27.984375 \nQ 14.796875 18.265625 18.828125 12.890625 \nQ 22.859375 7.515625 30.078125 7.515625 \nQ 37.359375 7.515625 41.375 12.890625 \nQ 45.40625 18.265625 45.40625 27.984375 \nz\nM 54.390625 6.78125 \nQ 54.390625 -7.171875 48.1875 -13.984375 \nQ 42 -20.796875 29.203125 -20.796875 \nQ 24.46875 -20.796875 20.265625 -20.09375 \nQ 16.0625 -19.390625 12.109375 -17.921875 \nL 12.109375 -9.1875 \nQ 16.0625 -11.328125 19.921875 -12.34375 \nQ 23.78125 -13.375 27.78125 -13.375 \nQ 36.625 -13.375 41.015625 -8.765625 \nQ 45.40625 -4.15625 45.40625 5.171875 \nL 45.40625 9.625 \nQ 42.625 4.78125 38.28125 2.390625 \nQ 33.9375 0 27.875 0 \nQ 17.828125 0 11.671875 7.65625 \nQ 5.515625 15.328125 5.515625 27.984375 \nQ 5.515625 40.671875 11.671875 48.328125 \nQ 17.828125 56 27.875 56 \nQ 33.9375 56 38.28125 53.609375 \nQ 42.625 51.21875 45.40625 46.390625 \nL 45.40625 54.6875 \nL 54.390625 54.6875 \nz\n\" id=\"DejaVuSans-103\"/>\n      </defs>\n      <g transform=\"translate(83.390625 1647.210201)scale(0.1 -0.1)\">\n       <use xlink:href=\"#DejaVuSans-109\"/>\n       <use x=\"97.412109\" xlink:href=\"#DejaVuSans-101\"/>\n       <use x=\"158.935547\" xlink:href=\"#DejaVuSans-100\"/>\n       <use x=\"222.412109\" xlink:href=\"#DejaVuSans-105\"/>\n       <use x=\"250.195312\" xlink:href=\"#DejaVuSans-99\"/>\n       <use x=\"305.175781\" xlink:href=\"#DejaVuSans-97\"/>\n       <use x=\"366.455078\" xlink:href=\"#DejaVuSans-108\"/>\n       <use x=\"394.238281\" xlink:href=\"#DejaVuSans-95\"/>\n       <use x=\"444.238281\" xlink:href=\"#DejaVuSans-115\"/>\n       <use x=\"496.337891\" xlink:href=\"#DejaVuSans-112\"/>\n       <use x=\"559.814453\" xlink:href=\"#DejaVuSans-101\"/>\n       <use x=\"621.337891\" xlink:href=\"#DejaVuSans-99\"/>\n       <use x=\"676.318359\" xlink:href=\"#DejaVuSans-105\"/>\n       <use x=\"704.101562\" xlink:href=\"#DejaVuSans-97\"/>\n       <use x=\"765.380859\" xlink:href=\"#DejaVuSans-108\"/>\n       <use x=\"793.164062\" xlink:href=\"#DejaVuSans-116\"/>\n       <use x=\"832.373047\" xlink:href=\"#DejaVuSans-121\"/>\n       <use x=\"891.552734\" xlink:href=\"#DejaVuSans-95\"/>\n       <use x=\"941.552734\" xlink:href=\"#DejaVuSans-71\"/>\n       <use x=\"1019.042969\" xlink:href=\"#DejaVuSans-97\"/>\n       <use x=\"1080.322266\" xlink:href=\"#DejaVuSans-115\"/>\n       <use x=\"1132.421875\" xlink:href=\"#DejaVuSans-116\"/>\n       <use x=\"1171.630859\" xlink:href=\"#DejaVuSans-114\"/>\n       <use x=\"1210.494141\" xlink:href=\"#DejaVuSans-111\"/>\n       <use x=\"1271.675781\" xlink:href=\"#DejaVuSans-101\"/>\n       <use x=\"1333.199219\" xlink:href=\"#DejaVuSans-110\"/>\n       <use x=\"1396.578125\" xlink:href=\"#DejaVuSans-116\"/>\n       <use x=\"1435.787109\" xlink:href=\"#DejaVuSans-101\"/>\n       <use x=\"1497.310547\" xlink:href=\"#DejaVuSans-114\"/>\n       <use x=\"1536.173828\" xlink:href=\"#DejaVuSans-111\"/>\n       <use x=\"1597.355469\" xlink:href=\"#DejaVuSans-108\"/>\n       <use x=\"1625.138672\" xlink:href=\"#DejaVuSans-111\"/>\n       <use x=\"1686.320312\" xlink:href=\"#DejaVuSans-103\"/>\n       <use x=\"1749.796875\" xlink:href=\"#DejaVuSans-121\"/>\n      </g>\n     </g>\n    </g>\n    <g id=\"ytick_2\">\n     <g id=\"line2d_10\">\n      <g>\n       <use style=\"stroke:#000000;stroke-width:0.8;\" x=\"271.292188\" xlink:href=\"#m051f1ff470\" y=\"1623.996696\"/>\n      </g>\n     </g>\n     <g id=\"text_10\">\n      <!-- tolbutamide -->\n      <defs>\n       <path d=\"M 48.6875 27.296875 \nQ 48.6875 37.203125 44.609375 42.84375 \nQ 40.53125 48.484375 33.40625 48.484375 \nQ 26.265625 48.484375 22.1875 42.84375 \nQ 18.109375 37.203125 18.109375 27.296875 \nQ 18.109375 17.390625 22.1875 11.75 \nQ 26.265625 6.109375 33.40625 6.109375 \nQ 40.53125 6.109375 44.609375 11.75 \nQ 48.6875 17.390625 48.6875 27.296875 \nz\nM 18.109375 46.390625 \nQ 20.953125 51.265625 25.265625 53.625 \nQ 29.59375 56 35.59375 56 \nQ 45.5625 56 51.78125 48.09375 \nQ 58.015625 40.1875 58.015625 27.296875 \nQ 58.015625 14.40625 51.78125 6.484375 \nQ 45.5625 -1.421875 35.59375 -1.421875 \nQ 29.59375 -1.421875 25.265625 0.953125 \nQ 20.953125 3.328125 18.109375 8.203125 \nL 18.109375 0 \nL 9.078125 0 \nL 9.078125 75.984375 \nL 18.109375 75.984375 \nz\n\" id=\"DejaVuSans-98\"/>\n       <path d=\"M 8.5 21.578125 \nL 8.5 54.6875 \nL 17.484375 54.6875 \nL 17.484375 21.921875 \nQ 17.484375 14.15625 20.5 10.265625 \nQ 23.53125 6.390625 29.59375 6.390625 \nQ 36.859375 6.390625 41.078125 11.03125 \nQ 45.3125 15.671875 45.3125 23.6875 \nL 45.3125 54.6875 \nL 54.296875 54.6875 \nL 54.296875 0 \nL 45.3125 0 \nL 45.3125 8.40625 \nQ 42.046875 3.421875 37.71875 1 \nQ 33.40625 -1.421875 27.6875 -1.421875 \nQ 18.265625 -1.421875 13.375 4.4375 \nQ 8.5 10.296875 8.5 21.578125 \nz\nM 31.109375 56 \nz\n\" id=\"DejaVuSans-117\"/>\n      </defs>\n      <g transform=\"translate(203.720313 1627.795915)scale(0.1 -0.1)\">\n       <use xlink:href=\"#DejaVuSans-116\"/>\n       <use x=\"39.208984\" xlink:href=\"#DejaVuSans-111\"/>\n       <use x=\"100.390625\" xlink:href=\"#DejaVuSans-108\"/>\n       <use x=\"128.173828\" xlink:href=\"#DejaVuSans-98\"/>\n       <use x=\"191.650391\" xlink:href=\"#DejaVuSans-117\"/>\n       <use x=\"255.029297\" xlink:href=\"#DejaVuSans-116\"/>\n       <use x=\"294.238281\" xlink:href=\"#DejaVuSans-97\"/>\n       <use x=\"355.517578\" xlink:href=\"#DejaVuSans-109\"/>\n       <use x=\"452.929688\" xlink:href=\"#DejaVuSans-105\"/>\n       <use x=\"480.712891\" xlink:href=\"#DejaVuSans-100\"/>\n       <use x=\"544.189453\" xlink:href=\"#DejaVuSans-101\"/>\n      </g>\n     </g>\n    </g>\n    <g id=\"ytick_3\">\n     <g id=\"line2d_11\">\n      <g>\n       <use style=\"stroke:#000000;stroke-width:0.8;\" x=\"271.292188\" xlink:href=\"#m051f1ff470\" y=\"1604.582411\"/>\n      </g>\n     </g>\n     <g id=\"text_11\">\n      <!-- gender -->\n      <g transform=\"translate(228.840625 1608.381629)scale(0.1 -0.1)\">\n       <use xlink:href=\"#DejaVuSans-103\"/>\n       <use x=\"63.476562\" xlink:href=\"#DejaVuSans-101\"/>\n       <use x=\"125\" xlink:href=\"#DejaVuSans-110\"/>\n       <use x=\"188.378906\" xlink:href=\"#DejaVuSans-100\"/>\n       <use x=\"251.855469\" xlink:href=\"#DejaVuSans-101\"/>\n       <use x=\"313.378906\" xlink:href=\"#DejaVuSans-114\"/>\n      </g>\n     </g>\n    </g>\n    <g id=\"ytick_4\">\n     <g id=\"line2d_12\">\n      <g>\n       <use style=\"stroke:#000000;stroke-width:0.8;\" x=\"271.292188\" xlink:href=\"#m051f1ff470\" y=\"1585.168125\"/>\n      </g>\n     </g>\n     <g id=\"text_12\">\n      <!-- medical_specialty_Other -->\n      <defs>\n       <path d=\"M 39.40625 66.21875 \nQ 28.65625 66.21875 22.328125 58.203125 \nQ 16.015625 50.203125 16.015625 36.375 \nQ 16.015625 22.609375 22.328125 14.59375 \nQ 28.65625 6.59375 39.40625 6.59375 \nQ 50.140625 6.59375 56.421875 14.59375 \nQ 62.703125 22.609375 62.703125 36.375 \nQ 62.703125 50.203125 56.421875 58.203125 \nQ 50.140625 66.21875 39.40625 66.21875 \nz\nM 39.40625 74.21875 \nQ 54.734375 74.21875 63.90625 63.9375 \nQ 73.09375 53.65625 73.09375 36.375 \nQ 73.09375 19.140625 63.90625 8.859375 \nQ 54.734375 -1.421875 39.40625 -1.421875 \nQ 24.03125 -1.421875 14.8125 8.828125 \nQ 5.609375 19.09375 5.609375 36.375 \nQ 5.609375 53.65625 14.8125 63.9375 \nQ 24.03125 74.21875 39.40625 74.21875 \nz\n\" id=\"DejaVuSans-79\"/>\n       <path d=\"M 54.890625 33.015625 \nL 54.890625 0 \nL 45.90625 0 \nL 45.90625 32.71875 \nQ 45.90625 40.484375 42.875 44.328125 \nQ 39.84375 48.1875 33.796875 48.1875 \nQ 26.515625 48.1875 22.3125 43.546875 \nQ 18.109375 38.921875 18.109375 30.90625 \nL 18.109375 0 \nL 9.078125 0 \nL 9.078125 75.984375 \nL 18.109375 75.984375 \nL 18.109375 46.1875 \nQ 21.34375 51.125 25.703125 53.5625 \nQ 30.078125 56 35.796875 56 \nQ 45.21875 56 50.046875 50.171875 \nQ 54.890625 44.34375 54.890625 33.015625 \nz\n\" id=\"DejaVuSans-104\"/>\n      </defs>\n      <g transform=\"translate(141.740625 1588.967344)scale(0.1 -0.1)\">\n       <use xlink:href=\"#DejaVuSans-109\"/>\n       <use x=\"97.412109\" xlink:href=\"#DejaVuSans-101\"/>\n       <use x=\"158.935547\" xlink:href=\"#DejaVuSans-100\"/>\n       <use x=\"222.412109\" xlink:href=\"#DejaVuSans-105\"/>\n       <use x=\"250.195312\" xlink:href=\"#DejaVuSans-99\"/>\n       <use x=\"305.175781\" xlink:href=\"#DejaVuSans-97\"/>\n       <use x=\"366.455078\" xlink:href=\"#DejaVuSans-108\"/>\n       <use x=\"394.238281\" xlink:href=\"#DejaVuSans-95\"/>\n       <use x=\"444.238281\" xlink:href=\"#DejaVuSans-115\"/>\n       <use x=\"496.337891\" xlink:href=\"#DejaVuSans-112\"/>\n       <use x=\"559.814453\" xlink:href=\"#DejaVuSans-101\"/>\n       <use x=\"621.337891\" xlink:href=\"#DejaVuSans-99\"/>\n       <use x=\"676.318359\" xlink:href=\"#DejaVuSans-105\"/>\n       <use x=\"704.101562\" xlink:href=\"#DejaVuSans-97\"/>\n       <use x=\"765.380859\" xlink:href=\"#DejaVuSans-108\"/>\n       <use x=\"793.164062\" xlink:href=\"#DejaVuSans-116\"/>\n       <use x=\"832.373047\" xlink:href=\"#DejaVuSans-121\"/>\n       <use x=\"891.552734\" xlink:href=\"#DejaVuSans-95\"/>\n       <use x=\"941.552734\" xlink:href=\"#DejaVuSans-79\"/>\n       <use x=\"1020.263672\" xlink:href=\"#DejaVuSans-116\"/>\n       <use x=\"1059.472656\" xlink:href=\"#DejaVuSans-104\"/>\n       <use x=\"1122.851562\" xlink:href=\"#DejaVuSans-101\"/>\n       <use x=\"1184.375\" xlink:href=\"#DejaVuSans-114\"/>\n      </g>\n     </g>\n    </g>\n    <g id=\"ytick_5\">\n     <g id=\"line2d_13\">\n      <g>\n       <use style=\"stroke:#000000;stroke-width:0.8;\" x=\"271.292188\" xlink:href=\"#m051f1ff470\" y=\"1565.753839\"/>\n      </g>\n     </g>\n     <g id=\"text_13\">\n      <!-- medical_specialty_Orthopedics-Reconstructive -->\n      <defs>\n       <path d=\"M 4.890625 31.390625 \nL 31.203125 31.390625 \nL 31.203125 23.390625 \nL 4.890625 23.390625 \nz\n\" id=\"DejaVuSans-45\"/>\n       <path d=\"M 44.390625 34.1875 \nQ 47.5625 33.109375 50.5625 29.59375 \nQ 53.5625 26.078125 56.59375 19.921875 \nL 66.609375 0 \nL 56 0 \nL 46.6875 18.703125 \nQ 43.0625 26.03125 39.671875 28.421875 \nQ 36.28125 30.8125 30.421875 30.8125 \nL 19.671875 30.8125 \nL 19.671875 0 \nL 9.8125 0 \nL 9.8125 72.90625 \nL 32.078125 72.90625 \nQ 44.578125 72.90625 50.734375 67.671875 \nQ 56.890625 62.453125 56.890625 51.90625 \nQ 56.890625 45.015625 53.6875 40.46875 \nQ 50.484375 35.9375 44.390625 34.1875 \nz\nM 19.671875 64.796875 \nL 19.671875 38.921875 \nL 32.078125 38.921875 \nQ 39.203125 38.921875 42.84375 42.21875 \nQ 46.484375 45.515625 46.484375 51.90625 \nQ 46.484375 58.296875 42.84375 61.546875 \nQ 39.203125 64.796875 32.078125 64.796875 \nz\n\" id=\"DejaVuSans-82\"/>\n       <path d=\"M 2.984375 54.6875 \nL 12.5 54.6875 \nL 29.59375 8.796875 \nL 46.6875 54.6875 \nL 56.203125 54.6875 \nL 35.6875 0 \nL 23.484375 0 \nz\n\" id=\"DejaVuSans-118\"/>\n      </defs>\n      <g transform=\"translate(31.378125 1569.553058)scale(0.1 -0.1)\">\n       <use xlink:href=\"#DejaVuSans-109\"/>\n       <use x=\"97.412109\" xlink:href=\"#DejaVuSans-101\"/>\n       <use x=\"158.935547\" xlink:href=\"#DejaVuSans-100\"/>\n       <use x=\"222.412109\" xlink:href=\"#DejaVuSans-105\"/>\n       <use x=\"250.195312\" xlink:href=\"#DejaVuSans-99\"/>\n       <use x=\"305.175781\" xlink:href=\"#DejaVuSans-97\"/>\n       <use x=\"366.455078\" xlink:href=\"#DejaVuSans-108\"/>\n       <use x=\"394.238281\" xlink:href=\"#DejaVuSans-95\"/>\n       <use x=\"444.238281\" xlink:href=\"#DejaVuSans-115\"/>\n       <use x=\"496.337891\" xlink:href=\"#DejaVuSans-112\"/>\n       <use x=\"559.814453\" xlink:href=\"#DejaVuSans-101\"/>\n       <use x=\"621.337891\" xlink:href=\"#DejaVuSans-99\"/>\n       <use x=\"676.318359\" xlink:href=\"#DejaVuSans-105\"/>\n       <use x=\"704.101562\" xlink:href=\"#DejaVuSans-97\"/>\n       <use x=\"765.380859\" xlink:href=\"#DejaVuSans-108\"/>\n       <use x=\"793.164062\" xlink:href=\"#DejaVuSans-116\"/>\n       <use x=\"832.373047\" xlink:href=\"#DejaVuSans-121\"/>\n       <use x=\"891.552734\" xlink:href=\"#DejaVuSans-95\"/>\n       <use x=\"941.552734\" xlink:href=\"#DejaVuSans-79\"/>\n       <use x=\"1020.263672\" xlink:href=\"#DejaVuSans-114\"/>\n       <use x=\"1061.376953\" xlink:href=\"#DejaVuSans-116\"/>\n       <use x=\"1100.585938\" xlink:href=\"#DejaVuSans-104\"/>\n       <use x=\"1163.964844\" xlink:href=\"#DejaVuSans-111\"/>\n       <use x=\"1225.146484\" xlink:href=\"#DejaVuSans-112\"/>\n       <use x=\"1288.623047\" xlink:href=\"#DejaVuSans-101\"/>\n       <use x=\"1350.146484\" xlink:href=\"#DejaVuSans-100\"/>\n       <use x=\"1413.623047\" xlink:href=\"#DejaVuSans-105\"/>\n       <use x=\"1441.40625\" xlink:href=\"#DejaVuSans-99\"/>\n       <use x=\"1496.386719\" xlink:href=\"#DejaVuSans-115\"/>\n       <use x=\"1548.486328\" xlink:href=\"#DejaVuSans-45\"/>\n       <use x=\"1584.570312\" xlink:href=\"#DejaVuSans-82\"/>\n       <use x=\"1649.552734\" xlink:href=\"#DejaVuSans-101\"/>\n       <use x=\"1711.076172\" xlink:href=\"#DejaVuSans-99\"/>\n       <use x=\"1766.056641\" xlink:href=\"#DejaVuSans-111\"/>\n       <use x=\"1827.238281\" xlink:href=\"#DejaVuSans-110\"/>\n       <use x=\"1890.617188\" xlink:href=\"#DejaVuSans-115\"/>\n       <use x=\"1942.716797\" xlink:href=\"#DejaVuSans-116\"/>\n       <use x=\"1981.925781\" xlink:href=\"#DejaVuSans-114\"/>\n       <use x=\"2023.039062\" xlink:href=\"#DejaVuSans-117\"/>\n       <use x=\"2086.417969\" xlink:href=\"#DejaVuSans-99\"/>\n       <use x=\"2141.398438\" xlink:href=\"#DejaVuSans-116\"/>\n       <use x=\"2180.607422\" xlink:href=\"#DejaVuSans-105\"/>\n       <use x=\"2208.390625\" xlink:href=\"#DejaVuSans-118\"/>\n       <use x=\"2267.570312\" xlink:href=\"#DejaVuSans-101\"/>\n      </g>\n     </g>\n    </g>\n    <g id=\"ytick_6\">\n     <g id=\"line2d_14\">\n      <g>\n       <use style=\"stroke:#000000;stroke-width:0.8;\" x=\"271.292188\" xlink:href=\"#m051f1ff470\" y=\"1546.339554\"/>\n      </g>\n     </g>\n     <g id=\"text_14\">\n      <!-- medical_specialty_Orthopedics -->\n      <g transform=\"translate(109.439063 1550.138772)scale(0.1 -0.1)\">\n       <use xlink:href=\"#DejaVuSans-109\"/>\n       <use x=\"97.412109\" xlink:href=\"#DejaVuSans-101\"/>\n       <use x=\"158.935547\" xlink:href=\"#DejaVuSans-100\"/>\n       <use x=\"222.412109\" xlink:href=\"#DejaVuSans-105\"/>\n       <use x=\"250.195312\" xlink:href=\"#DejaVuSans-99\"/>\n       <use x=\"305.175781\" xlink:href=\"#DejaVuSans-97\"/>\n       <use x=\"366.455078\" xlink:href=\"#DejaVuSans-108\"/>\n       <use x=\"394.238281\" xlink:href=\"#DejaVuSans-95\"/>\n       <use x=\"444.238281\" xlink:href=\"#DejaVuSans-115\"/>\n       <use x=\"496.337891\" xlink:href=\"#DejaVuSans-112\"/>\n       <use x=\"559.814453\" xlink:href=\"#DejaVuSans-101\"/>\n       <use x=\"621.337891\" xlink:href=\"#DejaVuSans-99\"/>\n       <use x=\"676.318359\" xlink:href=\"#DejaVuSans-105\"/>\n       <use x=\"704.101562\" xlink:href=\"#DejaVuSans-97\"/>\n       <use x=\"765.380859\" xlink:href=\"#DejaVuSans-108\"/>\n       <use x=\"793.164062\" xlink:href=\"#DejaVuSans-116\"/>\n       <use x=\"832.373047\" xlink:href=\"#DejaVuSans-121\"/>\n       <use x=\"891.552734\" xlink:href=\"#DejaVuSans-95\"/>\n       <use x=\"941.552734\" xlink:href=\"#DejaVuSans-79\"/>\n       <use x=\"1020.263672\" xlink:href=\"#DejaVuSans-114\"/>\n       <use x=\"1061.376953\" xlink:href=\"#DejaVuSans-116\"/>\n       <use x=\"1100.585938\" xlink:href=\"#DejaVuSans-104\"/>\n       <use x=\"1163.964844\" xlink:href=\"#DejaVuSans-111\"/>\n       <use x=\"1225.146484\" xlink:href=\"#DejaVuSans-112\"/>\n       <use x=\"1288.623047\" xlink:href=\"#DejaVuSans-101\"/>\n       <use x=\"1350.146484\" xlink:href=\"#DejaVuSans-100\"/>\n       <use x=\"1413.623047\" xlink:href=\"#DejaVuSans-105\"/>\n       <use x=\"1441.40625\" xlink:href=\"#DejaVuSans-99\"/>\n       <use x=\"1496.386719\" xlink:href=\"#DejaVuSans-115\"/>\n      </g>\n     </g>\n    </g>\n    <g id=\"ytick_7\">\n     <g id=\"line2d_15\">\n      <g>\n       <use style=\"stroke:#000000;stroke-width:0.8;\" x=\"271.292188\" xlink:href=\"#m051f1ff470\" y=\"1526.925268\"/>\n      </g>\n     </g>\n     <g id=\"text_15\">\n      <!-- medical_specialty_Nephrology -->\n      <defs>\n       <path d=\"M 9.8125 72.90625 \nL 23.09375 72.90625 \nL 55.421875 11.921875 \nL 55.421875 72.90625 \nL 64.984375 72.90625 \nL 64.984375 0 \nL 51.703125 0 \nL 19.390625 60.984375 \nL 19.390625 0 \nL 9.8125 0 \nz\n\" id=\"DejaVuSans-78\"/>\n      </defs>\n      <g transform=\"translate(112.645313 1530.724487)scale(0.1 -0.1)\">\n       <use xlink:href=\"#DejaVuSans-109\"/>\n       <use x=\"97.412109\" xlink:href=\"#DejaVuSans-101\"/>\n       <use x=\"158.935547\" xlink:href=\"#DejaVuSans-100\"/>\n       <use x=\"222.412109\" xlink:href=\"#DejaVuSans-105\"/>\n       <use x=\"250.195312\" xlink:href=\"#DejaVuSans-99\"/>\n       <use x=\"305.175781\" xlink:href=\"#DejaVuSans-97\"/>\n       <use x=\"366.455078\" xlink:href=\"#DejaVuSans-108\"/>\n       <use x=\"394.238281\" xlink:href=\"#DejaVuSans-95\"/>\n       <use x=\"444.238281\" xlink:href=\"#DejaVuSans-115\"/>\n       <use x=\"496.337891\" xlink:href=\"#DejaVuSans-112\"/>\n       <use x=\"559.814453\" xlink:href=\"#DejaVuSans-101\"/>\n       <use x=\"621.337891\" xlink:href=\"#DejaVuSans-99\"/>\n       <use x=\"676.318359\" xlink:href=\"#DejaVuSans-105\"/>\n       <use x=\"704.101562\" xlink:href=\"#DejaVuSans-97\"/>\n       <use x=\"765.380859\" xlink:href=\"#DejaVuSans-108\"/>\n       <use x=\"793.164062\" xlink:href=\"#DejaVuSans-116\"/>\n       <use x=\"832.373047\" xlink:href=\"#DejaVuSans-121\"/>\n       <use x=\"891.552734\" xlink:href=\"#DejaVuSans-95\"/>\n       <use x=\"941.552734\" xlink:href=\"#DejaVuSans-78\"/>\n       <use x=\"1016.357422\" xlink:href=\"#DejaVuSans-101\"/>\n       <use x=\"1077.880859\" xlink:href=\"#DejaVuSans-112\"/>\n       <use x=\"1141.357422\" xlink:href=\"#DejaVuSans-104\"/>\n       <use x=\"1204.736328\" xlink:href=\"#DejaVuSans-114\"/>\n       <use x=\"1243.599609\" xlink:href=\"#DejaVuSans-111\"/>\n       <use x=\"1304.78125\" xlink:href=\"#DejaVuSans-108\"/>\n       <use x=\"1332.564453\" xlink:href=\"#DejaVuSans-111\"/>\n       <use x=\"1393.746094\" xlink:href=\"#DejaVuSans-103\"/>\n       <use x=\"1457.222656\" xlink:href=\"#DejaVuSans-121\"/>\n      </g>\n     </g>\n    </g>\n    <g id=\"ytick_8\">\n     <g id=\"line2d_16\">\n      <g>\n       <use style=\"stroke:#000000;stroke-width:0.8;\" x=\"271.292188\" xlink:href=\"#m051f1ff470\" y=\"1507.510982\"/>\n      </g>\n     </g>\n     <g id=\"text_16\">\n      <!-- medical_specialty_InternalMedicine -->\n      <defs>\n       <path d=\"M 9.8125 72.90625 \nL 19.671875 72.90625 \nL 19.671875 0 \nL 9.8125 0 \nz\n\" id=\"DejaVuSans-73\"/>\n       <path d=\"M 9.8125 72.90625 \nL 24.515625 72.90625 \nL 43.109375 23.296875 \nL 61.8125 72.90625 \nL 76.515625 72.90625 \nL 76.515625 0 \nL 66.890625 0 \nL 66.890625 64.015625 \nL 48.09375 14.015625 \nL 38.1875 14.015625 \nL 19.390625 64.015625 \nL 19.390625 0 \nL 9.8125 0 \nz\n\" id=\"DejaVuSans-77\"/>\n      </defs>\n      <g transform=\"translate(86.91875 1511.310201)scale(0.1 -0.1)\">\n       <use xlink:href=\"#DejaVuSans-109\"/>\n       <use x=\"97.412109\" xlink:href=\"#DejaVuSans-101\"/>\n       <use x=\"158.935547\" xlink:href=\"#DejaVuSans-100\"/>\n       <use x=\"222.412109\" xlink:href=\"#DejaVuSans-105\"/>\n       <use x=\"250.195312\" xlink:href=\"#DejaVuSans-99\"/>\n       <use x=\"305.175781\" xlink:href=\"#DejaVuSans-97\"/>\n       <use x=\"366.455078\" xlink:href=\"#DejaVuSans-108\"/>\n       <use x=\"394.238281\" xlink:href=\"#DejaVuSans-95\"/>\n       <use x=\"444.238281\" xlink:href=\"#DejaVuSans-115\"/>\n       <use x=\"496.337891\" xlink:href=\"#DejaVuSans-112\"/>\n       <use x=\"559.814453\" xlink:href=\"#DejaVuSans-101\"/>\n       <use x=\"621.337891\" xlink:href=\"#DejaVuSans-99\"/>\n       <use x=\"676.318359\" xlink:href=\"#DejaVuSans-105\"/>\n       <use x=\"704.101562\" xlink:href=\"#DejaVuSans-97\"/>\n       <use x=\"765.380859\" xlink:href=\"#DejaVuSans-108\"/>\n       <use x=\"793.164062\" xlink:href=\"#DejaVuSans-116\"/>\n       <use x=\"832.373047\" xlink:href=\"#DejaVuSans-121\"/>\n       <use x=\"891.552734\" xlink:href=\"#DejaVuSans-95\"/>\n       <use x=\"941.552734\" xlink:href=\"#DejaVuSans-73\"/>\n       <use x=\"971.044922\" xlink:href=\"#DejaVuSans-110\"/>\n       <use x=\"1034.423828\" xlink:href=\"#DejaVuSans-116\"/>\n       <use x=\"1073.632812\" xlink:href=\"#DejaVuSans-101\"/>\n       <use x=\"1135.15625\" xlink:href=\"#DejaVuSans-114\"/>\n       <use x=\"1174.519531\" xlink:href=\"#DejaVuSans-110\"/>\n       <use x=\"1237.898438\" xlink:href=\"#DejaVuSans-97\"/>\n       <use x=\"1299.177734\" xlink:href=\"#DejaVuSans-108\"/>\n       <use x=\"1326.960938\" xlink:href=\"#DejaVuSans-77\"/>\n       <use x=\"1413.240234\" xlink:href=\"#DejaVuSans-101\"/>\n       <use x=\"1474.763672\" xlink:href=\"#DejaVuSans-100\"/>\n       <use x=\"1538.240234\" xlink:href=\"#DejaVuSans-105\"/>\n       <use x=\"1566.023438\" xlink:href=\"#DejaVuSans-99\"/>\n       <use x=\"1621.003906\" xlink:href=\"#DejaVuSans-105\"/>\n       <use x=\"1648.787109\" xlink:href=\"#DejaVuSans-110\"/>\n       <use x=\"1712.166016\" xlink:href=\"#DejaVuSans-101\"/>\n      </g>\n     </g>\n    </g>\n    <g id=\"ytick_9\">\n     <g id=\"line2d_17\">\n      <g>\n       <use style=\"stroke:#000000;stroke-width:0.8;\" x=\"271.292188\" xlink:href=\"#m051f1ff470\" y=\"1488.096696\"/>\n      </g>\n     </g>\n     <g id=\"text_17\">\n      <!-- medical_specialty_Psychiatry -->\n      <defs>\n       <path d=\"M 19.671875 64.796875 \nL 19.671875 37.40625 \nL 32.078125 37.40625 \nQ 38.96875 37.40625 42.71875 40.96875 \nQ 46.484375 44.53125 46.484375 51.125 \nQ 46.484375 57.671875 42.71875 61.234375 \nQ 38.96875 64.796875 32.078125 64.796875 \nz\nM 9.8125 72.90625 \nL 32.078125 72.90625 \nQ 44.34375 72.90625 50.609375 67.359375 \nQ 56.890625 61.8125 56.890625 51.125 \nQ 56.890625 40.328125 50.609375 34.8125 \nQ 44.34375 29.296875 32.078125 29.296875 \nL 19.671875 29.296875 \nL 19.671875 0 \nL 9.8125 0 \nz\n\" id=\"DejaVuSans-80\"/>\n      </defs>\n      <g transform=\"translate(118.459375 1491.895915)scale(0.1 -0.1)\">\n       <use xlink:href=\"#DejaVuSans-109\"/>\n       <use x=\"97.412109\" xlink:href=\"#DejaVuSans-101\"/>\n       <use x=\"158.935547\" xlink:href=\"#DejaVuSans-100\"/>\n       <use x=\"222.412109\" xlink:href=\"#DejaVuSans-105\"/>\n       <use x=\"250.195312\" xlink:href=\"#DejaVuSans-99\"/>\n       <use x=\"305.175781\" xlink:href=\"#DejaVuSans-97\"/>\n       <use x=\"366.455078\" xlink:href=\"#DejaVuSans-108\"/>\n       <use x=\"394.238281\" xlink:href=\"#DejaVuSans-95\"/>\n       <use x=\"444.238281\" xlink:href=\"#DejaVuSans-115\"/>\n       <use x=\"496.337891\" xlink:href=\"#DejaVuSans-112\"/>\n       <use x=\"559.814453\" xlink:href=\"#DejaVuSans-101\"/>\n       <use x=\"621.337891\" xlink:href=\"#DejaVuSans-99\"/>\n       <use x=\"676.318359\" xlink:href=\"#DejaVuSans-105\"/>\n       <use x=\"704.101562\" xlink:href=\"#DejaVuSans-97\"/>\n       <use x=\"765.380859\" xlink:href=\"#DejaVuSans-108\"/>\n       <use x=\"793.164062\" xlink:href=\"#DejaVuSans-116\"/>\n       <use x=\"832.373047\" xlink:href=\"#DejaVuSans-121\"/>\n       <use x=\"891.552734\" xlink:href=\"#DejaVuSans-95\"/>\n       <use x=\"941.552734\" xlink:href=\"#DejaVuSans-80\"/>\n       <use x=\"1000.105469\" xlink:href=\"#DejaVuSans-115\"/>\n       <use x=\"1052.205078\" xlink:href=\"#DejaVuSans-121\"/>\n       <use x=\"1111.384766\" xlink:href=\"#DejaVuSans-99\"/>\n       <use x=\"1166.365234\" xlink:href=\"#DejaVuSans-104\"/>\n       <use x=\"1229.744141\" xlink:href=\"#DejaVuSans-105\"/>\n       <use x=\"1257.527344\" xlink:href=\"#DejaVuSans-97\"/>\n       <use x=\"1318.806641\" xlink:href=\"#DejaVuSans-116\"/>\n       <use x=\"1358.015625\" xlink:href=\"#DejaVuSans-114\"/>\n       <use x=\"1399.128906\" xlink:href=\"#DejaVuSans-121\"/>\n      </g>\n     </g>\n    </g>\n    <g id=\"ytick_10\">\n     <g id=\"line2d_18\">\n      <g>\n       <use style=\"stroke:#000000;stroke-width:0.8;\" x=\"271.292188\" xlink:href=\"#m051f1ff470\" y=\"1468.682411\"/>\n      </g>\n     </g>\n     <g id=\"text_18\">\n      <!-- medical_specialty_Family/GeneralPractice -->\n      <defs>\n       <path d=\"M 9.8125 72.90625 \nL 51.703125 72.90625 \nL 51.703125 64.59375 \nL 19.671875 64.59375 \nL 19.671875 43.109375 \nL 48.578125 43.109375 \nL 48.578125 34.8125 \nL 19.671875 34.8125 \nL 19.671875 0 \nL 9.8125 0 \nz\n\" id=\"DejaVuSans-70\"/>\n       <path d=\"M 25.390625 72.90625 \nL 33.6875 72.90625 \nL 8.296875 -9.28125 \nL 0 -9.28125 \nz\n\" id=\"DejaVuSans-47\"/>\n      </defs>\n      <g transform=\"translate(55.23125 1472.481629)scale(0.1 -0.1)\">\n       <use xlink:href=\"#DejaVuSans-109\"/>\n       <use x=\"97.412109\" xlink:href=\"#DejaVuSans-101\"/>\n       <use x=\"158.935547\" xlink:href=\"#DejaVuSans-100\"/>\n       <use x=\"222.412109\" xlink:href=\"#DejaVuSans-105\"/>\n       <use x=\"250.195312\" xlink:href=\"#DejaVuSans-99\"/>\n       <use x=\"305.175781\" xlink:href=\"#DejaVuSans-97\"/>\n       <use x=\"366.455078\" xlink:href=\"#DejaVuSans-108\"/>\n       <use x=\"394.238281\" xlink:href=\"#DejaVuSans-95\"/>\n       <use x=\"444.238281\" xlink:href=\"#DejaVuSans-115\"/>\n       <use x=\"496.337891\" xlink:href=\"#DejaVuSans-112\"/>\n       <use x=\"559.814453\" xlink:href=\"#DejaVuSans-101\"/>\n       <use x=\"621.337891\" xlink:href=\"#DejaVuSans-99\"/>\n       <use x=\"676.318359\" xlink:href=\"#DejaVuSans-105\"/>\n       <use x=\"704.101562\" xlink:href=\"#DejaVuSans-97\"/>\n       <use x=\"765.380859\" xlink:href=\"#DejaVuSans-108\"/>\n       <use x=\"793.164062\" xlink:href=\"#DejaVuSans-116\"/>\n       <use x=\"832.373047\" xlink:href=\"#DejaVuSans-121\"/>\n       <use x=\"891.552734\" xlink:href=\"#DejaVuSans-95\"/>\n       <use x=\"941.552734\" xlink:href=\"#DejaVuSans-70\"/>\n       <use x=\"989.947266\" xlink:href=\"#DejaVuSans-97\"/>\n       <use x=\"1051.226562\" xlink:href=\"#DejaVuSans-109\"/>\n       <use x=\"1148.638672\" xlink:href=\"#DejaVuSans-105\"/>\n       <use x=\"1176.421875\" xlink:href=\"#DejaVuSans-108\"/>\n       <use x=\"1204.205078\" xlink:href=\"#DejaVuSans-121\"/>\n       <use x=\"1263.384766\" xlink:href=\"#DejaVuSans-47\"/>\n       <use x=\"1297.076172\" xlink:href=\"#DejaVuSans-71\"/>\n       <use x=\"1374.566406\" xlink:href=\"#DejaVuSans-101\"/>\n       <use x=\"1436.089844\" xlink:href=\"#DejaVuSans-110\"/>\n       <use x=\"1499.46875\" xlink:href=\"#DejaVuSans-101\"/>\n       <use x=\"1560.992188\" xlink:href=\"#DejaVuSans-114\"/>\n       <use x=\"1602.105469\" xlink:href=\"#DejaVuSans-97\"/>\n       <use x=\"1663.384766\" xlink:href=\"#DejaVuSans-108\"/>\n       <use x=\"1691.167969\" xlink:href=\"#DejaVuSans-80\"/>\n       <use x=\"1749.720703\" xlink:href=\"#DejaVuSans-114\"/>\n       <use x=\"1790.833984\" xlink:href=\"#DejaVuSans-97\"/>\n       <use x=\"1852.113281\" xlink:href=\"#DejaVuSans-99\"/>\n       <use x=\"1907.09375\" xlink:href=\"#DejaVuSans-116\"/>\n       <use x=\"1946.302734\" xlink:href=\"#DejaVuSans-105\"/>\n       <use x=\"1974.085938\" xlink:href=\"#DejaVuSans-99\"/>\n       <use x=\"2029.066406\" xlink:href=\"#DejaVuSans-101\"/>\n      </g>\n     </g>\n    </g>\n    <g id=\"ytick_11\">\n     <g id=\"line2d_19\">\n      <g>\n       <use style=\"stroke:#000000;stroke-width:0.8;\" x=\"271.292188\" xlink:href=\"#m051f1ff470\" y=\"1449.268125\"/>\n      </g>\n     </g>\n     <g id=\"text_19\">\n      <!-- age_[90-100) -->\n      <defs>\n       <path d=\"M 8.59375 75.984375 \nL 29.296875 75.984375 \nL 29.296875 69 \nL 17.578125 69 \nL 17.578125 -6.203125 \nL 29.296875 -6.203125 \nL 29.296875 -13.1875 \nL 8.59375 -13.1875 \nz\n\" id=\"DejaVuSans-91\"/>\n       <path d=\"M 10.984375 1.515625 \nL 10.984375 10.5 \nQ 14.703125 8.734375 18.5 7.8125 \nQ 22.3125 6.890625 25.984375 6.890625 \nQ 35.75 6.890625 40.890625 13.453125 \nQ 46.046875 20.015625 46.78125 33.40625 \nQ 43.953125 29.203125 39.59375 26.953125 \nQ 35.25 24.703125 29.984375 24.703125 \nQ 19.046875 24.703125 12.671875 31.3125 \nQ 6.296875 37.9375 6.296875 49.421875 \nQ 6.296875 60.640625 12.9375 67.421875 \nQ 19.578125 74.21875 30.609375 74.21875 \nQ 43.265625 74.21875 49.921875 64.515625 \nQ 56.59375 54.828125 56.59375 36.375 \nQ 56.59375 19.140625 48.40625 8.859375 \nQ 40.234375 -1.421875 26.421875 -1.421875 \nQ 22.703125 -1.421875 18.890625 -0.6875 \nQ 15.09375 0.046875 10.984375 1.515625 \nz\nM 30.609375 32.421875 \nQ 37.25 32.421875 41.125 36.953125 \nQ 45.015625 41.5 45.015625 49.421875 \nQ 45.015625 57.28125 41.125 61.84375 \nQ 37.25 66.40625 30.609375 66.40625 \nQ 23.96875 66.40625 20.09375 61.84375 \nQ 16.21875 57.28125 16.21875 49.421875 \nQ 16.21875 41.5 20.09375 36.953125 \nQ 23.96875 32.421875 30.609375 32.421875 \nz\n\" id=\"DejaVuSans-57\"/>\n       <path d=\"M 8.015625 75.875 \nL 15.828125 75.875 \nQ 23.140625 64.359375 26.78125 53.3125 \nQ 30.421875 42.28125 30.421875 31.390625 \nQ 30.421875 20.453125 26.78125 9.375 \nQ 23.140625 -1.703125 15.828125 -13.1875 \nL 8.015625 -13.1875 \nQ 14.5 -2 17.703125 9.0625 \nQ 20.90625 20.125 20.90625 31.390625 \nQ 20.90625 42.671875 17.703125 53.65625 \nQ 14.5 64.65625 8.015625 75.875 \nz\n\" id=\"DejaVuSans-41\"/>\n      </defs>\n      <g transform=\"translate(197.439063 1453.067344)scale(0.1 -0.1)\">\n       <use xlink:href=\"#DejaVuSans-97\"/>\n       <use x=\"61.279297\" xlink:href=\"#DejaVuSans-103\"/>\n       <use x=\"124.755859\" xlink:href=\"#DejaVuSans-101\"/>\n       <use x=\"186.279297\" xlink:href=\"#DejaVuSans-95\"/>\n       <use x=\"236.279297\" xlink:href=\"#DejaVuSans-91\"/>\n       <use x=\"275.292969\" xlink:href=\"#DejaVuSans-57\"/>\n       <use x=\"338.916016\" xlink:href=\"#DejaVuSans-48\"/>\n       <use x=\"402.539062\" xlink:href=\"#DejaVuSans-45\"/>\n       <use x=\"438.623047\" xlink:href=\"#DejaVuSans-49\"/>\n       <use x=\"502.246094\" xlink:href=\"#DejaVuSans-48\"/>\n       <use x=\"565.869141\" xlink:href=\"#DejaVuSans-48\"/>\n       <use x=\"629.492188\" xlink:href=\"#DejaVuSans-41\"/>\n      </g>\n     </g>\n    </g>\n    <g id=\"ytick_12\">\n     <g id=\"line2d_20\">\n      <g>\n       <use style=\"stroke:#000000;stroke-width:0.8;\" x=\"271.292188\" xlink:href=\"#m051f1ff470\" y=\"1429.853839\"/>\n      </g>\n     </g>\n     <g id=\"text_20\">\n      <!-- age_[80-90) -->\n      <defs>\n       <path d=\"M 31.78125 34.625 \nQ 24.75 34.625 20.71875 30.859375 \nQ 16.703125 27.09375 16.703125 20.515625 \nQ 16.703125 13.921875 20.71875 10.15625 \nQ 24.75 6.390625 31.78125 6.390625 \nQ 38.8125 6.390625 42.859375 10.171875 \nQ 46.921875 13.96875 46.921875 20.515625 \nQ 46.921875 27.09375 42.890625 30.859375 \nQ 38.875 34.625 31.78125 34.625 \nz\nM 21.921875 38.8125 \nQ 15.578125 40.375 12.03125 44.71875 \nQ 8.5 49.078125 8.5 55.328125 \nQ 8.5 64.0625 14.71875 69.140625 \nQ 20.953125 74.21875 31.78125 74.21875 \nQ 42.671875 74.21875 48.875 69.140625 \nQ 55.078125 64.0625 55.078125 55.328125 \nQ 55.078125 49.078125 51.53125 44.71875 \nQ 48 40.375 41.703125 38.8125 \nQ 48.828125 37.15625 52.796875 32.3125 \nQ 56.78125 27.484375 56.78125 20.515625 \nQ 56.78125 9.90625 50.3125 4.234375 \nQ 43.84375 -1.421875 31.78125 -1.421875 \nQ 19.734375 -1.421875 13.25 4.234375 \nQ 6.78125 9.90625 6.78125 20.515625 \nQ 6.78125 27.484375 10.78125 32.3125 \nQ 14.796875 37.15625 21.921875 38.8125 \nz\nM 18.3125 54.390625 \nQ 18.3125 48.734375 21.84375 45.5625 \nQ 25.390625 42.390625 31.78125 42.390625 \nQ 38.140625 42.390625 41.71875 45.5625 \nQ 45.3125 48.734375 45.3125 54.390625 \nQ 45.3125 60.0625 41.71875 63.234375 \nQ 38.140625 66.40625 31.78125 66.40625 \nQ 25.390625 66.40625 21.84375 63.234375 \nQ 18.3125 60.0625 18.3125 54.390625 \nz\n\" id=\"DejaVuSans-56\"/>\n      </defs>\n      <g transform=\"translate(203.801563 1433.653058)scale(0.1 -0.1)\">\n       <use xlink:href=\"#DejaVuSans-97\"/>\n       <use x=\"61.279297\" xlink:href=\"#DejaVuSans-103\"/>\n       <use x=\"124.755859\" xlink:href=\"#DejaVuSans-101\"/>\n       <use x=\"186.279297\" xlink:href=\"#DejaVuSans-95\"/>\n       <use x=\"236.279297\" xlink:href=\"#DejaVuSans-91\"/>\n       <use x=\"275.292969\" xlink:href=\"#DejaVuSans-56\"/>\n       <use x=\"338.916016\" xlink:href=\"#DejaVuSans-48\"/>\n       <use x=\"402.539062\" xlink:href=\"#DejaVuSans-45\"/>\n       <use x=\"438.623047\" xlink:href=\"#DejaVuSans-57\"/>\n       <use x=\"502.246094\" xlink:href=\"#DejaVuSans-48\"/>\n       <use x=\"565.869141\" xlink:href=\"#DejaVuSans-41\"/>\n      </g>\n     </g>\n    </g>\n    <g id=\"ytick_13\">\n     <g id=\"line2d_21\">\n      <g>\n       <use style=\"stroke:#000000;stroke-width:0.8;\" x=\"271.292188\" xlink:href=\"#m051f1ff470\" y=\"1410.439554\"/>\n      </g>\n     </g>\n     <g id=\"text_21\">\n      <!-- age_[70-80) -->\n      <g transform=\"translate(203.801563 1414.238772)scale(0.1 -0.1)\">\n       <use xlink:href=\"#DejaVuSans-97\"/>\n       <use x=\"61.279297\" xlink:href=\"#DejaVuSans-103\"/>\n       <use x=\"124.755859\" xlink:href=\"#DejaVuSans-101\"/>\n       <use x=\"186.279297\" xlink:href=\"#DejaVuSans-95\"/>\n       <use x=\"236.279297\" xlink:href=\"#DejaVuSans-91\"/>\n       <use x=\"275.292969\" xlink:href=\"#DejaVuSans-55\"/>\n       <use x=\"338.916016\" xlink:href=\"#DejaVuSans-48\"/>\n       <use x=\"402.539062\" xlink:href=\"#DejaVuSans-45\"/>\n       <use x=\"438.623047\" xlink:href=\"#DejaVuSans-56\"/>\n       <use x=\"502.246094\" xlink:href=\"#DejaVuSans-48\"/>\n       <use x=\"565.869141\" xlink:href=\"#DejaVuSans-41\"/>\n      </g>\n     </g>\n    </g>\n    <g id=\"ytick_14\">\n     <g id=\"line2d_22\">\n      <g>\n       <use style=\"stroke:#000000;stroke-width:0.8;\" x=\"271.292188\" xlink:href=\"#m051f1ff470\" y=\"1391.025268\"/>\n      </g>\n     </g>\n     <g id=\"text_22\">\n      <!-- age_[60-70) -->\n      <defs>\n       <path d=\"M 33.015625 40.375 \nQ 26.375 40.375 22.484375 35.828125 \nQ 18.609375 31.296875 18.609375 23.390625 \nQ 18.609375 15.53125 22.484375 10.953125 \nQ 26.375 6.390625 33.015625 6.390625 \nQ 39.65625 6.390625 43.53125 10.953125 \nQ 47.40625 15.53125 47.40625 23.390625 \nQ 47.40625 31.296875 43.53125 35.828125 \nQ 39.65625 40.375 33.015625 40.375 \nz\nM 52.59375 71.296875 \nL 52.59375 62.3125 \nQ 48.875 64.0625 45.09375 64.984375 \nQ 41.3125 65.921875 37.59375 65.921875 \nQ 27.828125 65.921875 22.671875 59.328125 \nQ 17.53125 52.734375 16.796875 39.40625 \nQ 19.671875 43.65625 24.015625 45.921875 \nQ 28.375 48.1875 33.59375 48.1875 \nQ 44.578125 48.1875 50.953125 41.515625 \nQ 57.328125 34.859375 57.328125 23.390625 \nQ 57.328125 12.15625 50.6875 5.359375 \nQ 44.046875 -1.421875 33.015625 -1.421875 \nQ 20.359375 -1.421875 13.671875 8.265625 \nQ 6.984375 17.96875 6.984375 36.375 \nQ 6.984375 53.65625 15.1875 63.9375 \nQ 23.390625 74.21875 37.203125 74.21875 \nQ 40.921875 74.21875 44.703125 73.484375 \nQ 48.484375 72.75 52.59375 71.296875 \nz\n\" id=\"DejaVuSans-54\"/>\n      </defs>\n      <g transform=\"translate(203.801563 1394.824487)scale(0.1 -0.1)\">\n       <use xlink:href=\"#DejaVuSans-97\"/>\n       <use x=\"61.279297\" xlink:href=\"#DejaVuSans-103\"/>\n       <use x=\"124.755859\" xlink:href=\"#DejaVuSans-101\"/>\n       <use x=\"186.279297\" xlink:href=\"#DejaVuSans-95\"/>\n       <use x=\"236.279297\" xlink:href=\"#DejaVuSans-91\"/>\n       <use x=\"275.292969\" xlink:href=\"#DejaVuSans-54\"/>\n       <use x=\"338.916016\" xlink:href=\"#DejaVuSans-48\"/>\n       <use x=\"402.539062\" xlink:href=\"#DejaVuSans-45\"/>\n       <use x=\"438.623047\" xlink:href=\"#DejaVuSans-55\"/>\n       <use x=\"502.246094\" xlink:href=\"#DejaVuSans-48\"/>\n       <use x=\"565.869141\" xlink:href=\"#DejaVuSans-41\"/>\n      </g>\n     </g>\n    </g>\n    <g id=\"ytick_15\">\n     <g id=\"line2d_23\">\n      <g>\n       <use style=\"stroke:#000000;stroke-width:0.8;\" x=\"271.292188\" xlink:href=\"#m051f1ff470\" y=\"1371.610982\"/>\n      </g>\n     </g>\n     <g id=\"text_23\">\n      <!-- age_[50-60) -->\n      <g transform=\"translate(203.801563 1375.410201)scale(0.1 -0.1)\">\n       <use xlink:href=\"#DejaVuSans-97\"/>\n       <use x=\"61.279297\" xlink:href=\"#DejaVuSans-103\"/>\n       <use x=\"124.755859\" xlink:href=\"#DejaVuSans-101\"/>\n       <use x=\"186.279297\" xlink:href=\"#DejaVuSans-95\"/>\n       <use x=\"236.279297\" xlink:href=\"#DejaVuSans-91\"/>\n       <use x=\"275.292969\" xlink:href=\"#DejaVuSans-53\"/>\n       <use x=\"338.916016\" xlink:href=\"#DejaVuSans-48\"/>\n       <use x=\"402.539062\" xlink:href=\"#DejaVuSans-45\"/>\n       <use x=\"438.623047\" xlink:href=\"#DejaVuSans-54\"/>\n       <use x=\"502.246094\" xlink:href=\"#DejaVuSans-48\"/>\n       <use x=\"565.869141\" xlink:href=\"#DejaVuSans-41\"/>\n      </g>\n     </g>\n    </g>\n    <g id=\"ytick_16\">\n     <g id=\"line2d_24\">\n      <g>\n       <use style=\"stroke:#000000;stroke-width:0.8;\" x=\"271.292188\" xlink:href=\"#m051f1ff470\" y=\"1352.196696\"/>\n      </g>\n     </g>\n     <g id=\"text_24\">\n      <!-- age_[40-50) -->\n      <defs>\n       <path d=\"M 37.796875 64.3125 \nL 12.890625 25.390625 \nL 37.796875 25.390625 \nz\nM 35.203125 72.90625 \nL 47.609375 72.90625 \nL 47.609375 25.390625 \nL 58.015625 25.390625 \nL 58.015625 17.1875 \nL 47.609375 17.1875 \nL 47.609375 0 \nL 37.796875 0 \nL 37.796875 17.1875 \nL 4.890625 17.1875 \nL 4.890625 26.703125 \nz\n\" id=\"DejaVuSans-52\"/>\n      </defs>\n      <g transform=\"translate(203.801563 1355.995915)scale(0.1 -0.1)\">\n       <use xlink:href=\"#DejaVuSans-97\"/>\n       <use x=\"61.279297\" xlink:href=\"#DejaVuSans-103\"/>\n       <use x=\"124.755859\" xlink:href=\"#DejaVuSans-101\"/>\n       <use x=\"186.279297\" xlink:href=\"#DejaVuSans-95\"/>\n       <use x=\"236.279297\" xlink:href=\"#DejaVuSans-91\"/>\n       <use x=\"275.292969\" xlink:href=\"#DejaVuSans-52\"/>\n       <use x=\"338.916016\" xlink:href=\"#DejaVuSans-48\"/>\n       <use x=\"402.539062\" xlink:href=\"#DejaVuSans-45\"/>\n       <use x=\"438.623047\" xlink:href=\"#DejaVuSans-53\"/>\n       <use x=\"502.246094\" xlink:href=\"#DejaVuSans-48\"/>\n       <use x=\"565.869141\" xlink:href=\"#DejaVuSans-41\"/>\n      </g>\n     </g>\n    </g>\n    <g id=\"ytick_17\">\n     <g id=\"line2d_25\">\n      <g>\n       <use style=\"stroke:#000000;stroke-width:0.8;\" x=\"271.292188\" xlink:href=\"#m051f1ff470\" y=\"1332.782411\"/>\n      </g>\n     </g>\n     <g id=\"text_25\">\n      <!-- age_[30-40) -->\n      <defs>\n       <path d=\"M 40.578125 39.3125 \nQ 47.65625 37.796875 51.625 33 \nQ 55.609375 28.21875 55.609375 21.1875 \nQ 55.609375 10.40625 48.1875 4.484375 \nQ 40.765625 -1.421875 27.09375 -1.421875 \nQ 22.515625 -1.421875 17.65625 -0.515625 \nQ 12.796875 0.390625 7.625 2.203125 \nL 7.625 11.71875 \nQ 11.71875 9.328125 16.59375 8.109375 \nQ 21.484375 6.890625 26.8125 6.890625 \nQ 36.078125 6.890625 40.9375 10.546875 \nQ 45.796875 14.203125 45.796875 21.1875 \nQ 45.796875 27.640625 41.28125 31.265625 \nQ 36.765625 34.90625 28.71875 34.90625 \nL 20.21875 34.90625 \nL 20.21875 43.015625 \nL 29.109375 43.015625 \nQ 36.375 43.015625 40.234375 45.921875 \nQ 44.09375 48.828125 44.09375 54.296875 \nQ 44.09375 59.90625 40.109375 62.90625 \nQ 36.140625 65.921875 28.71875 65.921875 \nQ 24.65625 65.921875 20.015625 65.03125 \nQ 15.375 64.15625 9.8125 62.3125 \nL 9.8125 71.09375 \nQ 15.4375 72.65625 20.34375 73.4375 \nQ 25.25 74.21875 29.59375 74.21875 \nQ 40.828125 74.21875 47.359375 69.109375 \nQ 53.90625 64.015625 53.90625 55.328125 \nQ 53.90625 49.265625 50.4375 45.09375 \nQ 46.96875 40.921875 40.578125 39.3125 \nz\n\" id=\"DejaVuSans-51\"/>\n      </defs>\n      <g transform=\"translate(203.801563 1336.581629)scale(0.1 -0.1)\">\n       <use xlink:href=\"#DejaVuSans-97\"/>\n       <use x=\"61.279297\" xlink:href=\"#DejaVuSans-103\"/>\n       <use x=\"124.755859\" xlink:href=\"#DejaVuSans-101\"/>\n       <use x=\"186.279297\" xlink:href=\"#DejaVuSans-95\"/>\n       <use x=\"236.279297\" xlink:href=\"#DejaVuSans-91\"/>\n       <use x=\"275.292969\" xlink:href=\"#DejaVuSans-51\"/>\n       <use x=\"338.916016\" xlink:href=\"#DejaVuSans-48\"/>\n       <use x=\"402.539062\" xlink:href=\"#DejaVuSans-45\"/>\n       <use x=\"438.623047\" xlink:href=\"#DejaVuSans-52\"/>\n       <use x=\"502.246094\" xlink:href=\"#DejaVuSans-48\"/>\n       <use x=\"565.869141\" xlink:href=\"#DejaVuSans-41\"/>\n      </g>\n     </g>\n    </g>\n    <g id=\"ytick_18\">\n     <g id=\"line2d_26\">\n      <g>\n       <use style=\"stroke:#000000;stroke-width:0.8;\" x=\"271.292188\" xlink:href=\"#m051f1ff470\" y=\"1313.368125\"/>\n      </g>\n     </g>\n     <g id=\"text_26\">\n      <!-- medical_specialty_Emergency/Trauma -->\n      <defs>\n       <path d=\"M 9.8125 72.90625 \nL 55.90625 72.90625 \nL 55.90625 64.59375 \nL 19.671875 64.59375 \nL 19.671875 43.015625 \nL 54.390625 43.015625 \nL 54.390625 34.71875 \nL 19.671875 34.71875 \nL 19.671875 8.296875 \nL 56.78125 8.296875 \nL 56.78125 0 \nL 9.8125 0 \nz\n\" id=\"DejaVuSans-69\"/>\n       <path d=\"M -0.296875 72.90625 \nL 61.375 72.90625 \nL 61.375 64.59375 \nL 35.5 64.59375 \nL 35.5 0 \nL 25.59375 0 \nL 25.59375 64.59375 \nL -0.296875 64.59375 \nz\n\" id=\"DejaVuSans-84\"/>\n      </defs>\n      <g transform=\"translate(73.282813 1317.167344)scale(0.1 -0.1)\">\n       <use xlink:href=\"#DejaVuSans-109\"/>\n       <use x=\"97.412109\" xlink:href=\"#DejaVuSans-101\"/>\n       <use x=\"158.935547\" xlink:href=\"#DejaVuSans-100\"/>\n       <use x=\"222.412109\" xlink:href=\"#DejaVuSans-105\"/>\n       <use x=\"250.195312\" xlink:href=\"#DejaVuSans-99\"/>\n       <use x=\"305.175781\" xlink:href=\"#DejaVuSans-97\"/>\n       <use x=\"366.455078\" xlink:href=\"#DejaVuSans-108\"/>\n       <use x=\"394.238281\" xlink:href=\"#DejaVuSans-95\"/>\n       <use x=\"444.238281\" xlink:href=\"#DejaVuSans-115\"/>\n       <use x=\"496.337891\" xlink:href=\"#DejaVuSans-112\"/>\n       <use x=\"559.814453\" xlink:href=\"#DejaVuSans-101\"/>\n       <use x=\"621.337891\" xlink:href=\"#DejaVuSans-99\"/>\n       <use x=\"676.318359\" xlink:href=\"#DejaVuSans-105\"/>\n       <use x=\"704.101562\" xlink:href=\"#DejaVuSans-97\"/>\n       <use x=\"765.380859\" xlink:href=\"#DejaVuSans-108\"/>\n       <use x=\"793.164062\" xlink:href=\"#DejaVuSans-116\"/>\n       <use x=\"832.373047\" xlink:href=\"#DejaVuSans-121\"/>\n       <use x=\"891.552734\" xlink:href=\"#DejaVuSans-95\"/>\n       <use x=\"941.552734\" xlink:href=\"#DejaVuSans-69\"/>\n       <use x=\"1004.736328\" xlink:href=\"#DejaVuSans-109\"/>\n       <use x=\"1102.148438\" xlink:href=\"#DejaVuSans-101\"/>\n       <use x=\"1163.671875\" xlink:href=\"#DejaVuSans-114\"/>\n       <use x=\"1203.035156\" xlink:href=\"#DejaVuSans-103\"/>\n       <use x=\"1266.511719\" xlink:href=\"#DejaVuSans-101\"/>\n       <use x=\"1328.035156\" xlink:href=\"#DejaVuSans-110\"/>\n       <use x=\"1391.414062\" xlink:href=\"#DejaVuSans-99\"/>\n       <use x=\"1446.394531\" xlink:href=\"#DejaVuSans-121\"/>\n       <use x=\"1505.574219\" xlink:href=\"#DejaVuSans-47\"/>\n       <use x=\"1539.265625\" xlink:href=\"#DejaVuSans-84\"/>\n       <use x=\"1585.599609\" xlink:href=\"#DejaVuSans-114\"/>\n       <use x=\"1626.712891\" xlink:href=\"#DejaVuSans-97\"/>\n       <use x=\"1687.992188\" xlink:href=\"#DejaVuSans-117\"/>\n       <use x=\"1751.371094\" xlink:href=\"#DejaVuSans-109\"/>\n       <use x=\"1848.783203\" xlink:href=\"#DejaVuSans-97\"/>\n      </g>\n     </g>\n    </g>\n    <g id=\"ytick_19\">\n     <g id=\"line2d_27\">\n      <g>\n       <use style=\"stroke:#000000;stroke-width:0.8;\" x=\"271.292188\" xlink:href=\"#m051f1ff470\" y=\"1293.953839\"/>\n      </g>\n     </g>\n     <g id=\"text_27\">\n      <!-- medical_specialty_Pulmonology -->\n      <g transform=\"translate(105.684375 1297.753058)scale(0.1 -0.1)\">\n       <use xlink:href=\"#DejaVuSans-109\"/>\n       <use x=\"97.412109\" xlink:href=\"#DejaVuSans-101\"/>\n       <use x=\"158.935547\" xlink:href=\"#DejaVuSans-100\"/>\n       <use x=\"222.412109\" xlink:href=\"#DejaVuSans-105\"/>\n       <use x=\"250.195312\" xlink:href=\"#DejaVuSans-99\"/>\n       <use x=\"305.175781\" xlink:href=\"#DejaVuSans-97\"/>\n       <use x=\"366.455078\" xlink:href=\"#DejaVuSans-108\"/>\n       <use x=\"394.238281\" xlink:href=\"#DejaVuSans-95\"/>\n       <use x=\"444.238281\" xlink:href=\"#DejaVuSans-115\"/>\n       <use x=\"496.337891\" xlink:href=\"#DejaVuSans-112\"/>\n       <use x=\"559.814453\" xlink:href=\"#DejaVuSans-101\"/>\n       <use x=\"621.337891\" xlink:href=\"#DejaVuSans-99\"/>\n       <use x=\"676.318359\" xlink:href=\"#DejaVuSans-105\"/>\n       <use x=\"704.101562\" xlink:href=\"#DejaVuSans-97\"/>\n       <use x=\"765.380859\" xlink:href=\"#DejaVuSans-108\"/>\n       <use x=\"793.164062\" xlink:href=\"#DejaVuSans-116\"/>\n       <use x=\"832.373047\" xlink:href=\"#DejaVuSans-121\"/>\n       <use x=\"891.552734\" xlink:href=\"#DejaVuSans-95\"/>\n       <use x=\"941.552734\" xlink:href=\"#DejaVuSans-80\"/>\n       <use x=\"1000.105469\" xlink:href=\"#DejaVuSans-117\"/>\n       <use x=\"1063.484375\" xlink:href=\"#DejaVuSans-108\"/>\n       <use x=\"1091.267578\" xlink:href=\"#DejaVuSans-109\"/>\n       <use x=\"1188.679688\" xlink:href=\"#DejaVuSans-111\"/>\n       <use x=\"1249.861328\" xlink:href=\"#DejaVuSans-110\"/>\n       <use x=\"1313.240234\" xlink:href=\"#DejaVuSans-111\"/>\n       <use x=\"1374.421875\" xlink:href=\"#DejaVuSans-108\"/>\n       <use x=\"1402.205078\" xlink:href=\"#DejaVuSans-111\"/>\n       <use x=\"1463.386719\" xlink:href=\"#DejaVuSans-103\"/>\n       <use x=\"1526.863281\" xlink:href=\"#DejaVuSans-121\"/>\n      </g>\n     </g>\n    </g>\n    <g id=\"ytick_20\">\n     <g id=\"line2d_28\">\n      <g>\n       <use style=\"stroke:#000000;stroke-width:0.8;\" x=\"271.292188\" xlink:href=\"#m051f1ff470\" y=\"1274.539554\"/>\n      </g>\n     </g>\n     <g id=\"text_28\">\n      <!-- medical_specialty_Radiologist -->\n      <g transform=\"translate(114.884375 1278.338772)scale(0.1 -0.1)\">\n       <use xlink:href=\"#DejaVuSans-109\"/>\n       <use x=\"97.412109\" xlink:href=\"#DejaVuSans-101\"/>\n       <use x=\"158.935547\" xlink:href=\"#DejaVuSans-100\"/>\n       <use x=\"222.412109\" xlink:href=\"#DejaVuSans-105\"/>\n       <use x=\"250.195312\" xlink:href=\"#DejaVuSans-99\"/>\n       <use x=\"305.175781\" xlink:href=\"#DejaVuSans-97\"/>\n       <use x=\"366.455078\" xlink:href=\"#DejaVuSans-108\"/>\n       <use x=\"394.238281\" xlink:href=\"#DejaVuSans-95\"/>\n       <use x=\"444.238281\" xlink:href=\"#DejaVuSans-115\"/>\n       <use x=\"496.337891\" xlink:href=\"#DejaVuSans-112\"/>\n       <use x=\"559.814453\" xlink:href=\"#DejaVuSans-101\"/>\n       <use x=\"621.337891\" xlink:href=\"#DejaVuSans-99\"/>\n       <use x=\"676.318359\" xlink:href=\"#DejaVuSans-105\"/>\n       <use x=\"704.101562\" xlink:href=\"#DejaVuSans-97\"/>\n       <use x=\"765.380859\" xlink:href=\"#DejaVuSans-108\"/>\n       <use x=\"793.164062\" xlink:href=\"#DejaVuSans-116\"/>\n       <use x=\"832.373047\" xlink:href=\"#DejaVuSans-121\"/>\n       <use x=\"891.552734\" xlink:href=\"#DejaVuSans-95\"/>\n       <use x=\"941.552734\" xlink:href=\"#DejaVuSans-82\"/>\n       <use x=\"1008.785156\" xlink:href=\"#DejaVuSans-97\"/>\n       <use x=\"1070.064453\" xlink:href=\"#DejaVuSans-100\"/>\n       <use x=\"1133.541016\" xlink:href=\"#DejaVuSans-105\"/>\n       <use x=\"1161.324219\" xlink:href=\"#DejaVuSans-111\"/>\n       <use x=\"1222.505859\" xlink:href=\"#DejaVuSans-108\"/>\n       <use x=\"1250.289062\" xlink:href=\"#DejaVuSans-111\"/>\n       <use x=\"1311.470703\" xlink:href=\"#DejaVuSans-103\"/>\n       <use x=\"1374.947266\" xlink:href=\"#DejaVuSans-105\"/>\n       <use x=\"1402.730469\" xlink:href=\"#DejaVuSans-115\"/>\n       <use x=\"1454.830078\" xlink:href=\"#DejaVuSans-116\"/>\n      </g>\n     </g>\n    </g>\n    <g id=\"ytick_21\">\n     <g id=\"line2d_29\">\n      <g>\n       <use style=\"stroke:#000000;stroke-width:0.8;\" x=\"271.292188\" xlink:href=\"#m051f1ff470\" y=\"1255.125268\"/>\n      </g>\n     </g>\n     <g id=\"text_29\">\n      <!-- medical_specialty_Surgery-General -->\n      <defs>\n       <path d=\"M 53.515625 70.515625 \nL 53.515625 60.890625 \nQ 47.90625 63.578125 42.921875 64.890625 \nQ 37.9375 66.21875 33.296875 66.21875 \nQ 25.25 66.21875 20.875 63.09375 \nQ 16.5 59.96875 16.5 54.203125 \nQ 16.5 49.359375 19.40625 46.890625 \nQ 22.3125 44.4375 30.421875 42.921875 \nL 36.375 41.703125 \nQ 47.40625 39.59375 52.65625 34.296875 \nQ 57.90625 29 57.90625 20.125 \nQ 57.90625 9.515625 50.796875 4.046875 \nQ 43.703125 -1.421875 29.984375 -1.421875 \nQ 24.8125 -1.421875 18.96875 -0.25 \nQ 13.140625 0.921875 6.890625 3.21875 \nL 6.890625 13.375 \nQ 12.890625 10.015625 18.65625 8.296875 \nQ 24.421875 6.59375 29.984375 6.59375 \nQ 38.421875 6.59375 43.015625 9.90625 \nQ 47.609375 13.234375 47.609375 19.390625 \nQ 47.609375 24.75 44.3125 27.78125 \nQ 41.015625 30.8125 33.5 32.328125 \nL 27.484375 33.5 \nQ 16.453125 35.6875 11.515625 40.375 \nQ 6.59375 45.0625 6.59375 53.421875 \nQ 6.59375 63.09375 13.40625 68.65625 \nQ 20.21875 74.21875 32.171875 74.21875 \nQ 37.3125 74.21875 42.625 73.28125 \nQ 47.953125 72.359375 53.515625 70.515625 \nz\n\" id=\"DejaVuSans-83\"/>\n      </defs>\n      <g transform=\"translate(87.776563 1258.924487)scale(0.1 -0.1)\">\n       <use xlink:href=\"#DejaVuSans-109\"/>\n       <use x=\"97.412109\" xlink:href=\"#DejaVuSans-101\"/>\n       <use x=\"158.935547\" xlink:href=\"#DejaVuSans-100\"/>\n       <use x=\"222.412109\" xlink:href=\"#DejaVuSans-105\"/>\n       <use x=\"250.195312\" xlink:href=\"#DejaVuSans-99\"/>\n       <use x=\"305.175781\" xlink:href=\"#DejaVuSans-97\"/>\n       <use x=\"366.455078\" xlink:href=\"#DejaVuSans-108\"/>\n       <use x=\"394.238281\" xlink:href=\"#DejaVuSans-95\"/>\n       <use x=\"444.238281\" xlink:href=\"#DejaVuSans-115\"/>\n       <use x=\"496.337891\" xlink:href=\"#DejaVuSans-112\"/>\n       <use x=\"559.814453\" xlink:href=\"#DejaVuSans-101\"/>\n       <use x=\"621.337891\" xlink:href=\"#DejaVuSans-99\"/>\n       <use x=\"676.318359\" xlink:href=\"#DejaVuSans-105\"/>\n       <use x=\"704.101562\" xlink:href=\"#DejaVuSans-97\"/>\n       <use x=\"765.380859\" xlink:href=\"#DejaVuSans-108\"/>\n       <use x=\"793.164062\" xlink:href=\"#DejaVuSans-116\"/>\n       <use x=\"832.373047\" xlink:href=\"#DejaVuSans-121\"/>\n       <use x=\"891.552734\" xlink:href=\"#DejaVuSans-95\"/>\n       <use x=\"941.552734\" xlink:href=\"#DejaVuSans-83\"/>\n       <use x=\"1005.029297\" xlink:href=\"#DejaVuSans-117\"/>\n       <use x=\"1068.408203\" xlink:href=\"#DejaVuSans-114\"/>\n       <use x=\"1107.771484\" xlink:href=\"#DejaVuSans-103\"/>\n       <use x=\"1171.248047\" xlink:href=\"#DejaVuSans-101\"/>\n       <use x=\"1232.771484\" xlink:href=\"#DejaVuSans-114\"/>\n       <use x=\"1273.884766\" xlink:href=\"#DejaVuSans-121\"/>\n       <use x=\"1331.314453\" xlink:href=\"#DejaVuSans-45\"/>\n       <use x=\"1371.023438\" xlink:href=\"#DejaVuSans-71\"/>\n       <use x=\"1448.513672\" xlink:href=\"#DejaVuSans-101\"/>\n       <use x=\"1510.037109\" xlink:href=\"#DejaVuSans-110\"/>\n       <use x=\"1573.416016\" xlink:href=\"#DejaVuSans-101\"/>\n       <use x=\"1634.939453\" xlink:href=\"#DejaVuSans-114\"/>\n       <use x=\"1676.052734\" xlink:href=\"#DejaVuSans-97\"/>\n       <use x=\"1737.332031\" xlink:href=\"#DejaVuSans-108\"/>\n      </g>\n     </g>\n    </g>\n    <g id=\"ytick_22\">\n     <g id=\"line2d_30\">\n      <g>\n       <use style=\"stroke:#000000;stroke-width:0.8;\" x=\"271.292188\" xlink:href=\"#m051f1ff470\" y=\"1235.710982\"/>\n      </g>\n     </g>\n     <g id=\"text_30\">\n      <!-- diag_2_Neoplasms -->\n      <g transform=\"translate(171.159375 1239.510201)scale(0.1 -0.1)\">\n       <use xlink:href=\"#DejaVuSans-100\"/>\n       <use x=\"63.476562\" xlink:href=\"#DejaVuSans-105\"/>\n       <use x=\"91.259766\" xlink:href=\"#DejaVuSans-97\"/>\n       <use x=\"152.539062\" xlink:href=\"#DejaVuSans-103\"/>\n       <use x=\"216.015625\" xlink:href=\"#DejaVuSans-95\"/>\n       <use x=\"266.015625\" xlink:href=\"#DejaVuSans-50\"/>\n       <use x=\"329.638672\" xlink:href=\"#DejaVuSans-95\"/>\n       <use x=\"379.638672\" xlink:href=\"#DejaVuSans-78\"/>\n       <use x=\"454.443359\" xlink:href=\"#DejaVuSans-101\"/>\n       <use x=\"515.966797\" xlink:href=\"#DejaVuSans-111\"/>\n       <use x=\"577.148438\" xlink:href=\"#DejaVuSans-112\"/>\n       <use x=\"640.625\" xlink:href=\"#DejaVuSans-108\"/>\n       <use x=\"668.408203\" xlink:href=\"#DejaVuSans-97\"/>\n       <use x=\"729.6875\" xlink:href=\"#DejaVuSans-115\"/>\n       <use x=\"781.787109\" xlink:href=\"#DejaVuSans-109\"/>\n       <use x=\"879.199219\" xlink:href=\"#DejaVuSans-115\"/>\n      </g>\n     </g>\n    </g>\n    <g id=\"ytick_23\">\n     <g id=\"line2d_31\">\n      <g>\n       <use style=\"stroke:#000000;stroke-width:0.8;\" x=\"271.292188\" xlink:href=\"#m051f1ff470\" y=\"1216.296696\"/>\n      </g>\n     </g>\n     <g id=\"text_31\">\n      <!-- diag_2_Muscoloskeletal -->\n      <defs>\n       <path d=\"M 9.078125 75.984375 \nL 18.109375 75.984375 \nL 18.109375 31.109375 \nL 44.921875 54.6875 \nL 56.390625 54.6875 \nL 27.390625 29.109375 \nL 57.625 0 \nL 45.90625 0 \nL 18.109375 26.703125 \nL 18.109375 0 \nL 9.078125 0 \nz\n\" id=\"DejaVuSans-107\"/>\n      </defs>\n      <g transform=\"translate(147.089063 1220.095915)scale(0.1 -0.1)\">\n       <use xlink:href=\"#DejaVuSans-100\"/>\n       <use x=\"63.476562\" xlink:href=\"#DejaVuSans-105\"/>\n       <use x=\"91.259766\" xlink:href=\"#DejaVuSans-97\"/>\n       <use x=\"152.539062\" xlink:href=\"#DejaVuSans-103\"/>\n       <use x=\"216.015625\" xlink:href=\"#DejaVuSans-95\"/>\n       <use x=\"266.015625\" xlink:href=\"#DejaVuSans-50\"/>\n       <use x=\"329.638672\" xlink:href=\"#DejaVuSans-95\"/>\n       <use x=\"379.638672\" xlink:href=\"#DejaVuSans-77\"/>\n       <use x=\"465.917969\" xlink:href=\"#DejaVuSans-117\"/>\n       <use x=\"529.296875\" xlink:href=\"#DejaVuSans-115\"/>\n       <use x=\"581.396484\" xlink:href=\"#DejaVuSans-99\"/>\n       <use x=\"636.376953\" xlink:href=\"#DejaVuSans-111\"/>\n       <use x=\"697.558594\" xlink:href=\"#DejaVuSans-108\"/>\n       <use x=\"725.341797\" xlink:href=\"#DejaVuSans-111\"/>\n       <use x=\"786.523438\" xlink:href=\"#DejaVuSans-115\"/>\n       <use x=\"838.623047\" xlink:href=\"#DejaVuSans-107\"/>\n       <use x=\"892.908203\" xlink:href=\"#DejaVuSans-101\"/>\n       <use x=\"954.431641\" xlink:href=\"#DejaVuSans-108\"/>\n       <use x=\"982.214844\" xlink:href=\"#DejaVuSans-101\"/>\n       <use x=\"1043.738281\" xlink:href=\"#DejaVuSans-116\"/>\n       <use x=\"1082.947266\" xlink:href=\"#DejaVuSans-97\"/>\n       <use x=\"1144.226562\" xlink:href=\"#DejaVuSans-108\"/>\n      </g>\n     </g>\n    </g>\n    <g id=\"ytick_24\">\n     <g id=\"line2d_32\">\n      <g>\n       <use style=\"stroke:#000000;stroke-width:0.8;\" x=\"271.292188\" xlink:href=\"#m051f1ff470\" y=\"1196.882411\"/>\n      </g>\n     </g>\n     <g id=\"text_32\">\n      <!-- diag_2_Injury -->\n      <defs>\n       <path d=\"M 9.421875 54.6875 \nL 18.40625 54.6875 \nL 18.40625 -0.984375 \nQ 18.40625 -11.421875 14.421875 -16.109375 \nQ 10.453125 -20.796875 1.609375 -20.796875 \nL -1.8125 -20.796875 \nL -1.8125 -13.1875 \nL 0.59375 -13.1875 \nQ 5.71875 -13.1875 7.5625 -10.8125 \nQ 9.421875 -8.453125 9.421875 -0.984375 \nz\nM 9.421875 75.984375 \nL 18.40625 75.984375 \nL 18.40625 64.59375 \nL 9.421875 64.59375 \nz\n\" id=\"DejaVuSans-106\"/>\n      </defs>\n      <g transform=\"translate(197.89375 1200.681629)scale(0.1 -0.1)\">\n       <use xlink:href=\"#DejaVuSans-100\"/>\n       <use x=\"63.476562\" xlink:href=\"#DejaVuSans-105\"/>\n       <use x=\"91.259766\" xlink:href=\"#DejaVuSans-97\"/>\n       <use x=\"152.539062\" xlink:href=\"#DejaVuSans-103\"/>\n       <use x=\"216.015625\" xlink:href=\"#DejaVuSans-95\"/>\n       <use x=\"266.015625\" xlink:href=\"#DejaVuSans-50\"/>\n       <use x=\"329.638672\" xlink:href=\"#DejaVuSans-95\"/>\n       <use x=\"379.638672\" xlink:href=\"#DejaVuSans-73\"/>\n       <use x=\"409.130859\" xlink:href=\"#DejaVuSans-110\"/>\n       <use x=\"472.509766\" xlink:href=\"#DejaVuSans-106\"/>\n       <use x=\"500.292969\" xlink:href=\"#DejaVuSans-117\"/>\n       <use x=\"563.671875\" xlink:href=\"#DejaVuSans-114\"/>\n       <use x=\"604.785156\" xlink:href=\"#DejaVuSans-121\"/>\n      </g>\n     </g>\n    </g>\n    <g id=\"ytick_25\">\n     <g id=\"line2d_33\">\n      <g>\n       <use style=\"stroke:#000000;stroke-width:0.8;\" x=\"271.292188\" xlink:href=\"#m051f1ff470\" y=\"1177.468125\"/>\n      </g>\n     </g>\n     <g id=\"text_33\">\n      <!-- diag_2_Genitourinary -->\n      <g transform=\"translate(157.548438 1181.267344)scale(0.1 -0.1)\">\n       <use xlink:href=\"#DejaVuSans-100\"/>\n       <use x=\"63.476562\" xlink:href=\"#DejaVuSans-105\"/>\n       <use x=\"91.259766\" xlink:href=\"#DejaVuSans-97\"/>\n       <use x=\"152.539062\" xlink:href=\"#DejaVuSans-103\"/>\n       <use x=\"216.015625\" xlink:href=\"#DejaVuSans-95\"/>\n       <use x=\"266.015625\" xlink:href=\"#DejaVuSans-50\"/>\n       <use x=\"329.638672\" xlink:href=\"#DejaVuSans-95\"/>\n       <use x=\"379.638672\" xlink:href=\"#DejaVuSans-71\"/>\n       <use x=\"457.128906\" xlink:href=\"#DejaVuSans-101\"/>\n       <use x=\"518.652344\" xlink:href=\"#DejaVuSans-110\"/>\n       <use x=\"582.03125\" xlink:href=\"#DejaVuSans-105\"/>\n       <use x=\"609.814453\" xlink:href=\"#DejaVuSans-116\"/>\n       <use x=\"649.023438\" xlink:href=\"#DejaVuSans-111\"/>\n       <use x=\"710.205078\" xlink:href=\"#DejaVuSans-117\"/>\n       <use x=\"773.583984\" xlink:href=\"#DejaVuSans-114\"/>\n       <use x=\"814.697266\" xlink:href=\"#DejaVuSans-105\"/>\n       <use x=\"842.480469\" xlink:href=\"#DejaVuSans-110\"/>\n       <use x=\"905.859375\" xlink:href=\"#DejaVuSans-97\"/>\n       <use x=\"967.138672\" xlink:href=\"#DejaVuSans-114\"/>\n       <use x=\"1008.251953\" xlink:href=\"#DejaVuSans-121\"/>\n      </g>\n     </g>\n    </g>\n    <g id=\"ytick_26\">\n     <g id=\"line2d_34\">\n      <g>\n       <use style=\"stroke:#000000;stroke-width:0.8;\" x=\"271.292188\" xlink:href=\"#m051f1ff470\" y=\"1158.053839\"/>\n      </g>\n     </g>\n     <g id=\"text_34\">\n      <!-- diag_2_Digestive -->\n      <defs>\n       <path d=\"M 19.671875 64.796875 \nL 19.671875 8.109375 \nL 31.59375 8.109375 \nQ 46.6875 8.109375 53.6875 14.9375 \nQ 60.6875 21.78125 60.6875 36.53125 \nQ 60.6875 51.171875 53.6875 57.984375 \nQ 46.6875 64.796875 31.59375 64.796875 \nz\nM 9.8125 72.90625 \nL 30.078125 72.90625 \nQ 51.265625 72.90625 61.171875 64.09375 \nQ 71.09375 55.28125 71.09375 36.53125 \nQ 71.09375 17.671875 61.125 8.828125 \nQ 51.171875 0 30.078125 0 \nL 9.8125 0 \nz\n\" id=\"DejaVuSans-68\"/>\n      </defs>\n      <g transform=\"translate(179.367188 1161.853058)scale(0.1 -0.1)\">\n       <use xlink:href=\"#DejaVuSans-100\"/>\n       <use x=\"63.476562\" xlink:href=\"#DejaVuSans-105\"/>\n       <use x=\"91.259766\" xlink:href=\"#DejaVuSans-97\"/>\n       <use x=\"152.539062\" xlink:href=\"#DejaVuSans-103\"/>\n       <use x=\"216.015625\" xlink:href=\"#DejaVuSans-95\"/>\n       <use x=\"266.015625\" xlink:href=\"#DejaVuSans-50\"/>\n       <use x=\"329.638672\" xlink:href=\"#DejaVuSans-95\"/>\n       <use x=\"379.638672\" xlink:href=\"#DejaVuSans-68\"/>\n       <use x=\"456.640625\" xlink:href=\"#DejaVuSans-105\"/>\n       <use x=\"484.423828\" xlink:href=\"#DejaVuSans-103\"/>\n       <use x=\"547.900391\" xlink:href=\"#DejaVuSans-101\"/>\n       <use x=\"609.423828\" xlink:href=\"#DejaVuSans-115\"/>\n       <use x=\"661.523438\" xlink:href=\"#DejaVuSans-116\"/>\n       <use x=\"700.732422\" xlink:href=\"#DejaVuSans-105\"/>\n       <use x=\"728.515625\" xlink:href=\"#DejaVuSans-118\"/>\n       <use x=\"787.695312\" xlink:href=\"#DejaVuSans-101\"/>\n      </g>\n     </g>\n    </g>\n    <g id=\"ytick_27\">\n     <g id=\"line2d_35\">\n      <g>\n       <use style=\"stroke:#000000;stroke-width:0.8;\" x=\"271.292188\" xlink:href=\"#m051f1ff470\" y=\"1138.639554\"/>\n      </g>\n     </g>\n     <g id=\"text_35\">\n      <!-- diag_2_Diabetes -->\n      <g transform=\"translate(181.935938 1142.438772)scale(0.1 -0.1)\">\n       <use xlink:href=\"#DejaVuSans-100\"/>\n       <use x=\"63.476562\" xlink:href=\"#DejaVuSans-105\"/>\n       <use x=\"91.259766\" xlink:href=\"#DejaVuSans-97\"/>\n       <use x=\"152.539062\" xlink:href=\"#DejaVuSans-103\"/>\n       <use x=\"216.015625\" xlink:href=\"#DejaVuSans-95\"/>\n       <use x=\"266.015625\" xlink:href=\"#DejaVuSans-50\"/>\n       <use x=\"329.638672\" xlink:href=\"#DejaVuSans-95\"/>\n       <use x=\"379.638672\" xlink:href=\"#DejaVuSans-68\"/>\n       <use x=\"456.640625\" xlink:href=\"#DejaVuSans-105\"/>\n       <use x=\"484.423828\" xlink:href=\"#DejaVuSans-97\"/>\n       <use x=\"545.703125\" xlink:href=\"#DejaVuSans-98\"/>\n       <use x=\"609.179688\" xlink:href=\"#DejaVuSans-101\"/>\n       <use x=\"670.703125\" xlink:href=\"#DejaVuSans-116\"/>\n       <use x=\"709.912109\" xlink:href=\"#DejaVuSans-101\"/>\n       <use x=\"771.435547\" xlink:href=\"#DejaVuSans-115\"/>\n      </g>\n     </g>\n    </g>\n    <g id=\"ytick_28\">\n     <g id=\"line2d_36\">\n      <g>\n       <use style=\"stroke:#000000;stroke-width:0.8;\" x=\"271.292188\" xlink:href=\"#m051f1ff470\" y=\"1119.225268\"/>\n      </g>\n     </g>\n     <g id=\"text_36\">\n      <!-- diag_1_Respiratory -->\n      <g transform=\"translate(169.03125 1123.024487)scale(0.1 -0.1)\">\n       <use xlink:href=\"#DejaVuSans-100\"/>\n       <use x=\"63.476562\" xlink:href=\"#DejaVuSans-105\"/>\n       <use x=\"91.259766\" xlink:href=\"#DejaVuSans-97\"/>\n       <use x=\"152.539062\" xlink:href=\"#DejaVuSans-103\"/>\n       <use x=\"216.015625\" xlink:href=\"#DejaVuSans-95\"/>\n       <use x=\"266.015625\" xlink:href=\"#DejaVuSans-49\"/>\n       <use x=\"329.638672\" xlink:href=\"#DejaVuSans-95\"/>\n       <use x=\"379.638672\" xlink:href=\"#DejaVuSans-82\"/>\n       <use x=\"444.621094\" xlink:href=\"#DejaVuSans-101\"/>\n       <use x=\"506.144531\" xlink:href=\"#DejaVuSans-115\"/>\n       <use x=\"558.244141\" xlink:href=\"#DejaVuSans-112\"/>\n       <use x=\"621.720703\" xlink:href=\"#DejaVuSans-105\"/>\n       <use x=\"649.503906\" xlink:href=\"#DejaVuSans-114\"/>\n       <use x=\"690.617188\" xlink:href=\"#DejaVuSans-97\"/>\n       <use x=\"751.896484\" xlink:href=\"#DejaVuSans-116\"/>\n       <use x=\"791.105469\" xlink:href=\"#DejaVuSans-111\"/>\n       <use x=\"852.287109\" xlink:href=\"#DejaVuSans-114\"/>\n       <use x=\"893.400391\" xlink:href=\"#DejaVuSans-121\"/>\n      </g>\n     </g>\n    </g>\n    <g id=\"ytick_29\">\n     <g id=\"line2d_37\">\n      <g>\n       <use style=\"stroke:#000000;stroke-width:0.8;\" x=\"271.292188\" xlink:href=\"#m051f1ff470\" y=\"1099.810982\"/>\n      </g>\n     </g>\n     <g id=\"text_37\">\n      <!-- diag_1_Others -->\n      <g transform=\"translate(192.723438 1103.610201)scale(0.1 -0.1)\">\n       <use xlink:href=\"#DejaVuSans-100\"/>\n       <use x=\"63.476562\" xlink:href=\"#DejaVuSans-105\"/>\n       <use x=\"91.259766\" xlink:href=\"#DejaVuSans-97\"/>\n       <use x=\"152.539062\" xlink:href=\"#DejaVuSans-103\"/>\n       <use x=\"216.015625\" xlink:href=\"#DejaVuSans-95\"/>\n       <use x=\"266.015625\" xlink:href=\"#DejaVuSans-49\"/>\n       <use x=\"329.638672\" xlink:href=\"#DejaVuSans-95\"/>\n       <use x=\"379.638672\" xlink:href=\"#DejaVuSans-79\"/>\n       <use x=\"458.349609\" xlink:href=\"#DejaVuSans-116\"/>\n       <use x=\"497.558594\" xlink:href=\"#DejaVuSans-104\"/>\n       <use x=\"560.9375\" xlink:href=\"#DejaVuSans-101\"/>\n       <use x=\"622.460938\" xlink:href=\"#DejaVuSans-114\"/>\n       <use x=\"663.574219\" xlink:href=\"#DejaVuSans-115\"/>\n      </g>\n     </g>\n    </g>\n    <g id=\"ytick_30\">\n     <g id=\"line2d_38\">\n      <g>\n       <use style=\"stroke:#000000;stroke-width:0.8;\" x=\"271.292188\" xlink:href=\"#m051f1ff470\" y=\"1080.396696\"/>\n      </g>\n     </g>\n     <g id=\"text_38\">\n      <!-- diag_1_Neoplasms -->\n      <g transform=\"translate(171.159375 1084.195915)scale(0.1 -0.1)\">\n       <use xlink:href=\"#DejaVuSans-100\"/>\n       <use x=\"63.476562\" xlink:href=\"#DejaVuSans-105\"/>\n       <use x=\"91.259766\" xlink:href=\"#DejaVuSans-97\"/>\n       <use x=\"152.539062\" xlink:href=\"#DejaVuSans-103\"/>\n       <use x=\"216.015625\" xlink:href=\"#DejaVuSans-95\"/>\n       <use x=\"266.015625\" xlink:href=\"#DejaVuSans-49\"/>\n       <use x=\"329.638672\" xlink:href=\"#DejaVuSans-95\"/>\n       <use x=\"379.638672\" xlink:href=\"#DejaVuSans-78\"/>\n       <use x=\"454.443359\" xlink:href=\"#DejaVuSans-101\"/>\n       <use x=\"515.966797\" xlink:href=\"#DejaVuSans-111\"/>\n       <use x=\"577.148438\" xlink:href=\"#DejaVuSans-112\"/>\n       <use x=\"640.625\" xlink:href=\"#DejaVuSans-108\"/>\n       <use x=\"668.408203\" xlink:href=\"#DejaVuSans-97\"/>\n       <use x=\"729.6875\" xlink:href=\"#DejaVuSans-115\"/>\n       <use x=\"781.787109\" xlink:href=\"#DejaVuSans-109\"/>\n       <use x=\"879.199219\" xlink:href=\"#DejaVuSans-115\"/>\n      </g>\n     </g>\n    </g>\n    <g id=\"ytick_31\">\n     <g id=\"line2d_39\">\n      <g>\n       <use style=\"stroke:#000000;stroke-width:0.8;\" x=\"271.292188\" xlink:href=\"#m051f1ff470\" y=\"1060.982411\"/>\n      </g>\n     </g>\n     <g id=\"text_39\">\n      <!-- diag_1_Muscoloskeletal -->\n      <g transform=\"translate(147.089063 1064.781629)scale(0.1 -0.1)\">\n       <use xlink:href=\"#DejaVuSans-100\"/>\n       <use x=\"63.476562\" xlink:href=\"#DejaVuSans-105\"/>\n       <use x=\"91.259766\" xlink:href=\"#DejaVuSans-97\"/>\n       <use x=\"152.539062\" xlink:href=\"#DejaVuSans-103\"/>\n       <use x=\"216.015625\" xlink:href=\"#DejaVuSans-95\"/>\n       <use x=\"266.015625\" xlink:href=\"#DejaVuSans-49\"/>\n       <use x=\"329.638672\" xlink:href=\"#DejaVuSans-95\"/>\n       <use x=\"379.638672\" xlink:href=\"#DejaVuSans-77\"/>\n       <use x=\"465.917969\" xlink:href=\"#DejaVuSans-117\"/>\n       <use x=\"529.296875\" xlink:href=\"#DejaVuSans-115\"/>\n       <use x=\"581.396484\" xlink:href=\"#DejaVuSans-99\"/>\n       <use x=\"636.376953\" xlink:href=\"#DejaVuSans-111\"/>\n       <use x=\"697.558594\" xlink:href=\"#DejaVuSans-108\"/>\n       <use x=\"725.341797\" xlink:href=\"#DejaVuSans-111\"/>\n       <use x=\"786.523438\" xlink:href=\"#DejaVuSans-115\"/>\n       <use x=\"838.623047\" xlink:href=\"#DejaVuSans-107\"/>\n       <use x=\"892.908203\" xlink:href=\"#DejaVuSans-101\"/>\n       <use x=\"954.431641\" xlink:href=\"#DejaVuSans-108\"/>\n       <use x=\"982.214844\" xlink:href=\"#DejaVuSans-101\"/>\n       <use x=\"1043.738281\" xlink:href=\"#DejaVuSans-116\"/>\n       <use x=\"1082.947266\" xlink:href=\"#DejaVuSans-97\"/>\n       <use x=\"1144.226562\" xlink:href=\"#DejaVuSans-108\"/>\n      </g>\n     </g>\n    </g>\n    <g id=\"ytick_32\">\n     <g id=\"line2d_40\">\n      <g>\n       <use style=\"stroke:#000000;stroke-width:0.8;\" x=\"271.292188\" xlink:href=\"#m051f1ff470\" y=\"1041.568125\"/>\n      </g>\n     </g>\n     <g id=\"text_40\">\n      <!-- diag_1_Injury -->\n      <g transform=\"translate(197.89375 1045.367344)scale(0.1 -0.1)\">\n       <use xlink:href=\"#DejaVuSans-100\"/>\n       <use x=\"63.476562\" xlink:href=\"#DejaVuSans-105\"/>\n       <use x=\"91.259766\" xlink:href=\"#DejaVuSans-97\"/>\n       <use x=\"152.539062\" xlink:href=\"#DejaVuSans-103\"/>\n       <use x=\"216.015625\" xlink:href=\"#DejaVuSans-95\"/>\n       <use x=\"266.015625\" xlink:href=\"#DejaVuSans-49\"/>\n       <use x=\"329.638672\" xlink:href=\"#DejaVuSans-95\"/>\n       <use x=\"379.638672\" xlink:href=\"#DejaVuSans-73\"/>\n       <use x=\"409.130859\" xlink:href=\"#DejaVuSans-110\"/>\n       <use x=\"472.509766\" xlink:href=\"#DejaVuSans-106\"/>\n       <use x=\"500.292969\" xlink:href=\"#DejaVuSans-117\"/>\n       <use x=\"563.671875\" xlink:href=\"#DejaVuSans-114\"/>\n       <use x=\"604.785156\" xlink:href=\"#DejaVuSans-121\"/>\n      </g>\n     </g>\n    </g>\n    <g id=\"ytick_33\">\n     <g id=\"line2d_41\">\n      <g>\n       <use style=\"stroke:#000000;stroke-width:0.8;\" x=\"271.292188\" xlink:href=\"#m051f1ff470\" y=\"1022.153839\"/>\n      </g>\n     </g>\n     <g id=\"text_41\">\n      <!-- diag_1_Genitourinary -->\n      <g transform=\"translate(157.548438 1025.953058)scale(0.1 -0.1)\">\n       <use xlink:href=\"#DejaVuSans-100\"/>\n       <use x=\"63.476562\" xlink:href=\"#DejaVuSans-105\"/>\n       <use x=\"91.259766\" xlink:href=\"#DejaVuSans-97\"/>\n       <use x=\"152.539062\" xlink:href=\"#DejaVuSans-103\"/>\n       <use x=\"216.015625\" xlink:href=\"#DejaVuSans-95\"/>\n       <use x=\"266.015625\" xlink:href=\"#DejaVuSans-49\"/>\n       <use x=\"329.638672\" xlink:href=\"#DejaVuSans-95\"/>\n       <use x=\"379.638672\" xlink:href=\"#DejaVuSans-71\"/>\n       <use x=\"457.128906\" xlink:href=\"#DejaVuSans-101\"/>\n       <use x=\"518.652344\" xlink:href=\"#DejaVuSans-110\"/>\n       <use x=\"582.03125\" xlink:href=\"#DejaVuSans-105\"/>\n       <use x=\"609.814453\" xlink:href=\"#DejaVuSans-116\"/>\n       <use x=\"649.023438\" xlink:href=\"#DejaVuSans-111\"/>\n       <use x=\"710.205078\" xlink:href=\"#DejaVuSans-117\"/>\n       <use x=\"773.583984\" xlink:href=\"#DejaVuSans-114\"/>\n       <use x=\"814.697266\" xlink:href=\"#DejaVuSans-105\"/>\n       <use x=\"842.480469\" xlink:href=\"#DejaVuSans-110\"/>\n       <use x=\"905.859375\" xlink:href=\"#DejaVuSans-97\"/>\n       <use x=\"967.138672\" xlink:href=\"#DejaVuSans-114\"/>\n       <use x=\"1008.251953\" xlink:href=\"#DejaVuSans-121\"/>\n      </g>\n     </g>\n    </g>\n    <g id=\"ytick_34\">\n     <g id=\"line2d_42\">\n      <g>\n       <use style=\"stroke:#000000;stroke-width:0.8;\" x=\"271.292188\" xlink:href=\"#m051f1ff470\" y=\"1002.739554\"/>\n      </g>\n     </g>\n     <g id=\"text_42\">\n      <!-- diag_1_Digestive -->\n      <g transform=\"translate(179.367188 1006.538772)scale(0.1 -0.1)\">\n       <use xlink:href=\"#DejaVuSans-100\"/>\n       <use x=\"63.476562\" xlink:href=\"#DejaVuSans-105\"/>\n       <use x=\"91.259766\" xlink:href=\"#DejaVuSans-97\"/>\n       <use x=\"152.539062\" xlink:href=\"#DejaVuSans-103\"/>\n       <use x=\"216.015625\" xlink:href=\"#DejaVuSans-95\"/>\n       <use x=\"266.015625\" xlink:href=\"#DejaVuSans-49\"/>\n       <use x=\"329.638672\" xlink:href=\"#DejaVuSans-95\"/>\n       <use x=\"379.638672\" xlink:href=\"#DejaVuSans-68\"/>\n       <use x=\"456.640625\" xlink:href=\"#DejaVuSans-105\"/>\n       <use x=\"484.423828\" xlink:href=\"#DejaVuSans-103\"/>\n       <use x=\"547.900391\" xlink:href=\"#DejaVuSans-101\"/>\n       <use x=\"609.423828\" xlink:href=\"#DejaVuSans-115\"/>\n       <use x=\"661.523438\" xlink:href=\"#DejaVuSans-116\"/>\n       <use x=\"700.732422\" xlink:href=\"#DejaVuSans-105\"/>\n       <use x=\"728.515625\" xlink:href=\"#DejaVuSans-118\"/>\n       <use x=\"787.695312\" xlink:href=\"#DejaVuSans-101\"/>\n      </g>\n     </g>\n    </g>\n    <g id=\"ytick_35\">\n     <g id=\"line2d_43\">\n      <g>\n       <use style=\"stroke:#000000;stroke-width:0.8;\" x=\"271.292188\" xlink:href=\"#m051f1ff470\" y=\"983.325268\"/>\n      </g>\n     </g>\n     <g id=\"text_43\">\n      <!-- diag_1_Diabetes -->\n      <g transform=\"translate(181.935938 987.124487)scale(0.1 -0.1)\">\n       <use xlink:href=\"#DejaVuSans-100\"/>\n       <use x=\"63.476562\" xlink:href=\"#DejaVuSans-105\"/>\n       <use x=\"91.259766\" xlink:href=\"#DejaVuSans-97\"/>\n       <use x=\"152.539062\" xlink:href=\"#DejaVuSans-103\"/>\n       <use x=\"216.015625\" xlink:href=\"#DejaVuSans-95\"/>\n       <use x=\"266.015625\" xlink:href=\"#DejaVuSans-49\"/>\n       <use x=\"329.638672\" xlink:href=\"#DejaVuSans-95\"/>\n       <use x=\"379.638672\" xlink:href=\"#DejaVuSans-68\"/>\n       <use x=\"456.640625\" xlink:href=\"#DejaVuSans-105\"/>\n       <use x=\"484.423828\" xlink:href=\"#DejaVuSans-97\"/>\n       <use x=\"545.703125\" xlink:href=\"#DejaVuSans-98\"/>\n       <use x=\"609.179688\" xlink:href=\"#DejaVuSans-101\"/>\n       <use x=\"670.703125\" xlink:href=\"#DejaVuSans-116\"/>\n       <use x=\"709.912109\" xlink:href=\"#DejaVuSans-101\"/>\n       <use x=\"771.435547\" xlink:href=\"#DejaVuSans-115\"/>\n      </g>\n     </g>\n    </g>\n    <g id=\"ytick_36\">\n     <g id=\"line2d_44\">\n      <g>\n       <use style=\"stroke:#000000;stroke-width:0.8;\" x=\"271.292188\" xlink:href=\"#m051f1ff470\" y=\"963.910982\"/>\n      </g>\n     </g>\n     <g id=\"text_44\">\n      <!-- medical_specialty_Unknow -->\n      <defs>\n       <path d=\"M 8.6875 72.90625 \nL 18.609375 72.90625 \nL 18.609375 28.609375 \nQ 18.609375 16.890625 22.84375 11.734375 \nQ 27.09375 6.59375 36.625 6.59375 \nQ 46.09375 6.59375 50.34375 11.734375 \nQ 54.59375 16.890625 54.59375 28.609375 \nL 54.59375 72.90625 \nL 64.5 72.90625 \nL 64.5 27.390625 \nQ 64.5 13.140625 57.4375 5.859375 \nQ 50.390625 -1.421875 36.625 -1.421875 \nQ 22.796875 -1.421875 15.734375 5.859375 \nQ 8.6875 13.140625 8.6875 27.390625 \nz\n\" id=\"DejaVuSans-85\"/>\n       <path d=\"M 4.203125 54.6875 \nL 13.1875 54.6875 \nL 24.421875 12.015625 \nL 35.59375 54.6875 \nL 46.1875 54.6875 \nL 57.421875 12.015625 \nL 68.609375 54.6875 \nL 77.59375 54.6875 \nL 63.28125 0 \nL 52.6875 0 \nL 40.921875 44.828125 \nL 29.109375 0 \nL 18.5 0 \nz\n\" id=\"DejaVuSans-119\"/>\n      </defs>\n      <g transform=\"translate(130.053125 967.710201)scale(0.1 -0.1)\">\n       <use xlink:href=\"#DejaVuSans-109\"/>\n       <use x=\"97.412109\" xlink:href=\"#DejaVuSans-101\"/>\n       <use x=\"158.935547\" xlink:href=\"#DejaVuSans-100\"/>\n       <use x=\"222.412109\" xlink:href=\"#DejaVuSans-105\"/>\n       <use x=\"250.195312\" xlink:href=\"#DejaVuSans-99\"/>\n       <use x=\"305.175781\" xlink:href=\"#DejaVuSans-97\"/>\n       <use x=\"366.455078\" xlink:href=\"#DejaVuSans-108\"/>\n       <use x=\"394.238281\" xlink:href=\"#DejaVuSans-95\"/>\n       <use x=\"444.238281\" xlink:href=\"#DejaVuSans-115\"/>\n       <use x=\"496.337891\" xlink:href=\"#DejaVuSans-112\"/>\n       <use x=\"559.814453\" xlink:href=\"#DejaVuSans-101\"/>\n       <use x=\"621.337891\" xlink:href=\"#DejaVuSans-99\"/>\n       <use x=\"676.318359\" xlink:href=\"#DejaVuSans-105\"/>\n       <use x=\"704.101562\" xlink:href=\"#DejaVuSans-97\"/>\n       <use x=\"765.380859\" xlink:href=\"#DejaVuSans-108\"/>\n       <use x=\"793.164062\" xlink:href=\"#DejaVuSans-116\"/>\n       <use x=\"832.373047\" xlink:href=\"#DejaVuSans-121\"/>\n       <use x=\"891.552734\" xlink:href=\"#DejaVuSans-95\"/>\n       <use x=\"941.552734\" xlink:href=\"#DejaVuSans-85\"/>\n       <use x=\"1014.746094\" xlink:href=\"#DejaVuSans-110\"/>\n       <use x=\"1078.125\" xlink:href=\"#DejaVuSans-107\"/>\n       <use x=\"1136.035156\" xlink:href=\"#DejaVuSans-110\"/>\n       <use x=\"1199.414062\" xlink:href=\"#DejaVuSans-111\"/>\n       <use x=\"1260.595703\" xlink:href=\"#DejaVuSans-119\"/>\n      </g>\n     </g>\n    </g>\n    <g id=\"ytick_37\">\n     <g id=\"line2d_45\">\n      <g>\n       <use style=\"stroke:#000000;stroke-width:0.8;\" x=\"271.292188\" xlink:href=\"#m051f1ff470\" y=\"944.496696\"/>\n      </g>\n     </g>\n     <g id=\"text_45\">\n      <!-- medical_specialty_Surgery-Vascular -->\n      <defs>\n       <path d=\"M 28.609375 0 \nL 0.78125 72.90625 \nL 11.078125 72.90625 \nL 34.1875 11.53125 \nL 57.328125 72.90625 \nL 67.578125 72.90625 \nL 39.796875 0 \nz\n\" id=\"DejaVuSans-86\"/>\n      </defs>\n      <g transform=\"translate(85.879688 948.295915)scale(0.1 -0.1)\">\n       <use xlink:href=\"#DejaVuSans-109\"/>\n       <use x=\"97.412109\" xlink:href=\"#DejaVuSans-101\"/>\n       <use x=\"158.935547\" xlink:href=\"#DejaVuSans-100\"/>\n       <use x=\"222.412109\" xlink:href=\"#DejaVuSans-105\"/>\n       <use x=\"250.195312\" xlink:href=\"#DejaVuSans-99\"/>\n       <use x=\"305.175781\" xlink:href=\"#DejaVuSans-97\"/>\n       <use x=\"366.455078\" xlink:href=\"#DejaVuSans-108\"/>\n       <use x=\"394.238281\" xlink:href=\"#DejaVuSans-95\"/>\n       <use x=\"444.238281\" xlink:href=\"#DejaVuSans-115\"/>\n       <use x=\"496.337891\" xlink:href=\"#DejaVuSans-112\"/>\n       <use x=\"559.814453\" xlink:href=\"#DejaVuSans-101\"/>\n       <use x=\"621.337891\" xlink:href=\"#DejaVuSans-99\"/>\n       <use x=\"676.318359\" xlink:href=\"#DejaVuSans-105\"/>\n       <use x=\"704.101562\" xlink:href=\"#DejaVuSans-97\"/>\n       <use x=\"765.380859\" xlink:href=\"#DejaVuSans-108\"/>\n       <use x=\"793.164062\" xlink:href=\"#DejaVuSans-116\"/>\n       <use x=\"832.373047\" xlink:href=\"#DejaVuSans-121\"/>\n       <use x=\"891.552734\" xlink:href=\"#DejaVuSans-95\"/>\n       <use x=\"941.552734\" xlink:href=\"#DejaVuSans-83\"/>\n       <use x=\"1005.029297\" xlink:href=\"#DejaVuSans-117\"/>\n       <use x=\"1068.408203\" xlink:href=\"#DejaVuSans-114\"/>\n       <use x=\"1107.771484\" xlink:href=\"#DejaVuSans-103\"/>\n       <use x=\"1171.248047\" xlink:href=\"#DejaVuSans-101\"/>\n       <use x=\"1232.771484\" xlink:href=\"#DejaVuSans-114\"/>\n       <use x=\"1273.884766\" xlink:href=\"#DejaVuSans-121\"/>\n       <use x=\"1331.314453\" xlink:href=\"#DejaVuSans-45\"/>\n       <use x=\"1361.523438\" xlink:href=\"#DejaVuSans-86\"/>\n       <use x=\"1422.181641\" xlink:href=\"#DejaVuSans-97\"/>\n       <use x=\"1483.460938\" xlink:href=\"#DejaVuSans-115\"/>\n       <use x=\"1535.560547\" xlink:href=\"#DejaVuSans-99\"/>\n       <use x=\"1590.541016\" xlink:href=\"#DejaVuSans-117\"/>\n       <use x=\"1653.919922\" xlink:href=\"#DejaVuSans-108\"/>\n       <use x=\"1681.703125\" xlink:href=\"#DejaVuSans-97\"/>\n       <use x=\"1742.982422\" xlink:href=\"#DejaVuSans-114\"/>\n      </g>\n     </g>\n    </g>\n    <g id=\"ytick_38\">\n     <g id=\"line2d_46\">\n      <g>\n       <use style=\"stroke:#000000;stroke-width:0.8;\" x=\"271.292188\" xlink:href=\"#m051f1ff470\" y=\"925.082411\"/>\n      </g>\n     </g>\n     <g id=\"text_46\">\n      <!-- medical_specialty_Surgery-Neuro -->\n      <g transform=\"translate(97.571875 928.881629)scale(0.1 -0.1)\">\n       <use xlink:href=\"#DejaVuSans-109\"/>\n       <use x=\"97.412109\" xlink:href=\"#DejaVuSans-101\"/>\n       <use x=\"158.935547\" xlink:href=\"#DejaVuSans-100\"/>\n       <use x=\"222.412109\" xlink:href=\"#DejaVuSans-105\"/>\n       <use x=\"250.195312\" xlink:href=\"#DejaVuSans-99\"/>\n       <use x=\"305.175781\" xlink:href=\"#DejaVuSans-97\"/>\n       <use x=\"366.455078\" xlink:href=\"#DejaVuSans-108\"/>\n       <use x=\"394.238281\" xlink:href=\"#DejaVuSans-95\"/>\n       <use x=\"444.238281\" xlink:href=\"#DejaVuSans-115\"/>\n       <use x=\"496.337891\" xlink:href=\"#DejaVuSans-112\"/>\n       <use x=\"559.814453\" xlink:href=\"#DejaVuSans-101\"/>\n       <use x=\"621.337891\" xlink:href=\"#DejaVuSans-99\"/>\n       <use x=\"676.318359\" xlink:href=\"#DejaVuSans-105\"/>\n       <use x=\"704.101562\" xlink:href=\"#DejaVuSans-97\"/>\n       <use x=\"765.380859\" xlink:href=\"#DejaVuSans-108\"/>\n       <use x=\"793.164062\" xlink:href=\"#DejaVuSans-116\"/>\n       <use x=\"832.373047\" xlink:href=\"#DejaVuSans-121\"/>\n       <use x=\"891.552734\" xlink:href=\"#DejaVuSans-95\"/>\n       <use x=\"941.552734\" xlink:href=\"#DejaVuSans-83\"/>\n       <use x=\"1005.029297\" xlink:href=\"#DejaVuSans-117\"/>\n       <use x=\"1068.408203\" xlink:href=\"#DejaVuSans-114\"/>\n       <use x=\"1107.771484\" xlink:href=\"#DejaVuSans-103\"/>\n       <use x=\"1171.248047\" xlink:href=\"#DejaVuSans-101\"/>\n       <use x=\"1232.771484\" xlink:href=\"#DejaVuSans-114\"/>\n       <use x=\"1273.884766\" xlink:href=\"#DejaVuSans-121\"/>\n       <use x=\"1331.314453\" xlink:href=\"#DejaVuSans-45\"/>\n       <use x=\"1367.398438\" xlink:href=\"#DejaVuSans-78\"/>\n       <use x=\"1442.203125\" xlink:href=\"#DejaVuSans-101\"/>\n       <use x=\"1503.726562\" xlink:href=\"#DejaVuSans-117\"/>\n       <use x=\"1567.105469\" xlink:href=\"#DejaVuSans-114\"/>\n       <use x=\"1605.96875\" xlink:href=\"#DejaVuSans-111\"/>\n      </g>\n     </g>\n    </g>\n    <g id=\"ytick_39\">\n     <g id=\"line2d_47\">\n      <g>\n       <use style=\"stroke:#000000;stroke-width:0.8;\" x=\"271.292188\" xlink:href=\"#m051f1ff470\" y=\"905.668125\"/>\n      </g>\n     </g>\n     <g id=\"text_47\">\n      <!-- age_[20-30) -->\n      <g transform=\"translate(203.801563 909.467344)scale(0.1 -0.1)\">\n       <use xlink:href=\"#DejaVuSans-97\"/>\n       <use x=\"61.279297\" xlink:href=\"#DejaVuSans-103\"/>\n       <use x=\"124.755859\" xlink:href=\"#DejaVuSans-101\"/>\n       <use x=\"186.279297\" xlink:href=\"#DejaVuSans-95\"/>\n       <use x=\"236.279297\" xlink:href=\"#DejaVuSans-91\"/>\n       <use x=\"275.292969\" xlink:href=\"#DejaVuSans-50\"/>\n       <use x=\"338.916016\" xlink:href=\"#DejaVuSans-48\"/>\n       <use x=\"402.539062\" xlink:href=\"#DejaVuSans-45\"/>\n       <use x=\"438.623047\" xlink:href=\"#DejaVuSans-51\"/>\n       <use x=\"502.246094\" xlink:href=\"#DejaVuSans-48\"/>\n       <use x=\"565.869141\" xlink:href=\"#DejaVuSans-41\"/>\n      </g>\n     </g>\n    </g>\n    <g id=\"ytick_40\">\n     <g id=\"line2d_48\">\n      <g>\n       <use style=\"stroke:#000000;stroke-width:0.8;\" x=\"271.292188\" xlink:href=\"#m051f1ff470\" y=\"886.253839\"/>\n      </g>\n     </g>\n     <g id=\"text_48\">\n      <!-- diag_2_Others -->\n      <g transform=\"translate(192.723438 890.053058)scale(0.1 -0.1)\">\n       <use xlink:href=\"#DejaVuSans-100\"/>\n       <use x=\"63.476562\" xlink:href=\"#DejaVuSans-105\"/>\n       <use x=\"91.259766\" xlink:href=\"#DejaVuSans-97\"/>\n       <use x=\"152.539062\" xlink:href=\"#DejaVuSans-103\"/>\n       <use x=\"216.015625\" xlink:href=\"#DejaVuSans-95\"/>\n       <use x=\"266.015625\" xlink:href=\"#DejaVuSans-50\"/>\n       <use x=\"329.638672\" xlink:href=\"#DejaVuSans-95\"/>\n       <use x=\"379.638672\" xlink:href=\"#DejaVuSans-79\"/>\n       <use x=\"458.349609\" xlink:href=\"#DejaVuSans-116\"/>\n       <use x=\"497.558594\" xlink:href=\"#DejaVuSans-104\"/>\n       <use x=\"560.9375\" xlink:href=\"#DejaVuSans-101\"/>\n       <use x=\"622.460938\" xlink:href=\"#DejaVuSans-114\"/>\n       <use x=\"663.574219\" xlink:href=\"#DejaVuSans-115\"/>\n      </g>\n     </g>\n    </g>\n    <g id=\"ytick_41\">\n     <g id=\"line2d_49\">\n      <g>\n       <use style=\"stroke:#000000;stroke-width:0.8;\" x=\"271.292188\" xlink:href=\"#m051f1ff470\" y=\"866.839554\"/>\n      </g>\n     </g>\n     <g id=\"text_49\">\n      <!-- age_[10-20) -->\n      <g transform=\"translate(203.801563 870.638772)scale(0.1 -0.1)\">\n       <use xlink:href=\"#DejaVuSans-97\"/>\n       <use x=\"61.279297\" xlink:href=\"#DejaVuSans-103\"/>\n       <use x=\"124.755859\" xlink:href=\"#DejaVuSans-101\"/>\n       <use x=\"186.279297\" xlink:href=\"#DejaVuSans-95\"/>\n       <use x=\"236.279297\" xlink:href=\"#DejaVuSans-91\"/>\n       <use x=\"275.292969\" xlink:href=\"#DejaVuSans-49\"/>\n       <use x=\"338.916016\" xlink:href=\"#DejaVuSans-48\"/>\n       <use x=\"402.539062\" xlink:href=\"#DejaVuSans-45\"/>\n       <use x=\"438.623047\" xlink:href=\"#DejaVuSans-50\"/>\n       <use x=\"502.246094\" xlink:href=\"#DejaVuSans-48\"/>\n       <use x=\"565.869141\" xlink:href=\"#DejaVuSans-41\"/>\n      </g>\n     </g>\n    </g>\n    <g id=\"ytick_42\">\n     <g id=\"line2d_50\">\n      <g>\n       <use style=\"stroke:#000000;stroke-width:0.8;\" x=\"271.292188\" xlink:href=\"#m051f1ff470\" y=\"847.425268\"/>\n      </g>\n     </g>\n     <g id=\"text_50\">\n      <!-- race_Hispanic -->\n      <defs>\n       <path d=\"M 9.8125 72.90625 \nL 19.671875 72.90625 \nL 19.671875 43.015625 \nL 55.515625 43.015625 \nL 55.515625 72.90625 \nL 65.375 72.90625 \nL 65.375 0 \nL 55.515625 0 \nL 55.515625 34.71875 \nL 19.671875 34.71875 \nL 19.671875 0 \nL 9.8125 0 \nz\n\" id=\"DejaVuSans-72\"/>\n      </defs>\n      <g transform=\"translate(194.803125 851.224487)scale(0.1 -0.1)\">\n       <use xlink:href=\"#DejaVuSans-114\"/>\n       <use x=\"41.113281\" xlink:href=\"#DejaVuSans-97\"/>\n       <use x=\"102.392578\" xlink:href=\"#DejaVuSans-99\"/>\n       <use x=\"157.373047\" xlink:href=\"#DejaVuSans-101\"/>\n       <use x=\"218.896484\" xlink:href=\"#DejaVuSans-95\"/>\n       <use x=\"268.896484\" xlink:href=\"#DejaVuSans-72\"/>\n       <use x=\"344.091797\" xlink:href=\"#DejaVuSans-105\"/>\n       <use x=\"371.875\" xlink:href=\"#DejaVuSans-115\"/>\n       <use x=\"423.974609\" xlink:href=\"#DejaVuSans-112\"/>\n       <use x=\"487.451172\" xlink:href=\"#DejaVuSans-97\"/>\n       <use x=\"548.730469\" xlink:href=\"#DejaVuSans-110\"/>\n       <use x=\"612.109375\" xlink:href=\"#DejaVuSans-105\"/>\n       <use x=\"639.892578\" xlink:href=\"#DejaVuSans-99\"/>\n      </g>\n     </g>\n    </g>\n    <g id=\"ytick_43\">\n     <g id=\"line2d_51\">\n      <g>\n       <use style=\"stroke:#000000;stroke-width:0.8;\" x=\"271.292188\" xlink:href=\"#m051f1ff470\" y=\"828.010982\"/>\n      </g>\n     </g>\n     <g id=\"text_51\">\n      <!-- glimepiride -->\n      <g transform=\"translate(207.976563 831.810201)scale(0.1 -0.1)\">\n       <use xlink:href=\"#DejaVuSans-103\"/>\n       <use x=\"63.476562\" xlink:href=\"#DejaVuSans-108\"/>\n       <use x=\"91.259766\" xlink:href=\"#DejaVuSans-105\"/>\n       <use x=\"119.042969\" xlink:href=\"#DejaVuSans-109\"/>\n       <use x=\"216.455078\" xlink:href=\"#DejaVuSans-101\"/>\n       <use x=\"277.978516\" xlink:href=\"#DejaVuSans-112\"/>\n       <use x=\"341.455078\" xlink:href=\"#DejaVuSans-105\"/>\n       <use x=\"369.238281\" xlink:href=\"#DejaVuSans-114\"/>\n       <use x=\"410.351562\" xlink:href=\"#DejaVuSans-105\"/>\n       <use x=\"438.134766\" xlink:href=\"#DejaVuSans-100\"/>\n       <use x=\"501.611328\" xlink:href=\"#DejaVuSans-101\"/>\n      </g>\n     </g>\n    </g>\n    <g id=\"ytick_44\">\n     <g id=\"line2d_52\">\n      <g>\n       <use style=\"stroke:#000000;stroke-width:0.8;\" x=\"271.292188\" xlink:href=\"#m051f1ff470\" y=\"808.596696\"/>\n      </g>\n     </g>\n     <g id=\"text_52\">\n      <!-- nateglinide -->\n      <g transform=\"translate(208.23125 812.395915)scale(0.1 -0.1)\">\n       <use xlink:href=\"#DejaVuSans-110\"/>\n       <use x=\"63.378906\" xlink:href=\"#DejaVuSans-97\"/>\n       <use x=\"124.658203\" xlink:href=\"#DejaVuSans-116\"/>\n       <use x=\"163.867188\" xlink:href=\"#DejaVuSans-101\"/>\n       <use x=\"225.390625\" xlink:href=\"#DejaVuSans-103\"/>\n       <use x=\"288.867188\" xlink:href=\"#DejaVuSans-108\"/>\n       <use x=\"316.650391\" xlink:href=\"#DejaVuSans-105\"/>\n       <use x=\"344.433594\" xlink:href=\"#DejaVuSans-110\"/>\n       <use x=\"407.8125\" xlink:href=\"#DejaVuSans-105\"/>\n       <use x=\"435.595703\" xlink:href=\"#DejaVuSans-100\"/>\n       <use x=\"499.072266\" xlink:href=\"#DejaVuSans-101\"/>\n      </g>\n     </g>\n    </g>\n    <g id=\"ytick_45\">\n     <g id=\"line2d_53\">\n      <g>\n       <use style=\"stroke:#000000;stroke-width:0.8;\" x=\"271.292188\" xlink:href=\"#m051f1ff470\" y=\"789.182411\"/>\n      </g>\n     </g>\n     <g id=\"text_53\">\n      <!-- repaglinide -->\n      <g transform=\"translate(208.254688 792.981629)scale(0.1 -0.1)\">\n       <use xlink:href=\"#DejaVuSans-114\"/>\n       <use x=\"38.863281\" xlink:href=\"#DejaVuSans-101\"/>\n       <use x=\"100.386719\" xlink:href=\"#DejaVuSans-112\"/>\n       <use x=\"163.863281\" xlink:href=\"#DejaVuSans-97\"/>\n       <use x=\"225.142578\" xlink:href=\"#DejaVuSans-103\"/>\n       <use x=\"288.619141\" xlink:href=\"#DejaVuSans-108\"/>\n       <use x=\"316.402344\" xlink:href=\"#DejaVuSans-105\"/>\n       <use x=\"344.185547\" xlink:href=\"#DejaVuSans-110\"/>\n       <use x=\"407.564453\" xlink:href=\"#DejaVuSans-105\"/>\n       <use x=\"435.347656\" xlink:href=\"#DejaVuSans-100\"/>\n       <use x=\"498.824219\" xlink:href=\"#DejaVuSans-101\"/>\n      </g>\n     </g>\n    </g>\n    <g id=\"ytick_46\">\n     <g id=\"line2d_54\">\n      <g>\n       <use style=\"stroke:#000000;stroke-width:0.8;\" x=\"271.292188\" xlink:href=\"#m051f1ff470\" y=\"769.768125\"/>\n      </g>\n     </g>\n     <g id=\"text_54\">\n      <!-- metformin -->\n      <defs>\n       <path d=\"M 37.109375 75.984375 \nL 37.109375 68.5 \nL 28.515625 68.5 \nQ 23.6875 68.5 21.796875 66.546875 \nQ 19.921875 64.59375 19.921875 59.515625 \nL 19.921875 54.6875 \nL 34.71875 54.6875 \nL 34.71875 47.703125 \nL 19.921875 47.703125 \nL 19.921875 0 \nL 10.890625 0 \nL 10.890625 47.703125 \nL 2.296875 47.703125 \nL 2.296875 54.6875 \nL 10.890625 54.6875 \nL 10.890625 58.5 \nQ 10.890625 67.625 15.140625 71.796875 \nQ 19.390625 75.984375 28.609375 75.984375 \nz\n\" id=\"DejaVuSans-102\"/>\n      </defs>\n      <g transform=\"translate(212.046875 773.567344)scale(0.1 -0.1)\">\n       <use xlink:href=\"#DejaVuSans-109\"/>\n       <use x=\"97.412109\" xlink:href=\"#DejaVuSans-101\"/>\n       <use x=\"158.935547\" xlink:href=\"#DejaVuSans-116\"/>\n       <use x=\"198.144531\" xlink:href=\"#DejaVuSans-102\"/>\n       <use x=\"233.349609\" xlink:href=\"#DejaVuSans-111\"/>\n       <use x=\"294.53125\" xlink:href=\"#DejaVuSans-114\"/>\n       <use x=\"333.894531\" xlink:href=\"#DejaVuSans-109\"/>\n       <use x=\"431.306641\" xlink:href=\"#DejaVuSans-105\"/>\n       <use x=\"459.089844\" xlink:href=\"#DejaVuSans-110\"/>\n      </g>\n     </g>\n    </g>\n    <g id=\"ytick_47\">\n     <g id=\"line2d_55\">\n      <g>\n       <use style=\"stroke:#000000;stroke-width:0.8;\" x=\"271.292188\" xlink:href=\"#m051f1ff470\" y=\"750.353839\"/>\n      </g>\n     </g>\n     <g id=\"text_55\">\n      <!-- A1Cresult -->\n      <defs>\n       <path d=\"M 34.1875 63.1875 \nL 20.796875 26.90625 \nL 47.609375 26.90625 \nz\nM 28.609375 72.90625 \nL 39.796875 72.90625 \nL 67.578125 0 \nL 57.328125 0 \nL 50.6875 18.703125 \nL 17.828125 18.703125 \nL 11.1875 0 \nL 0.78125 0 \nz\n\" id=\"DejaVuSans-65\"/>\n       <path d=\"M 64.40625 67.28125 \nL 64.40625 56.890625 \nQ 59.421875 61.53125 53.78125 63.8125 \nQ 48.140625 66.109375 41.796875 66.109375 \nQ 29.296875 66.109375 22.65625 58.46875 \nQ 16.015625 50.828125 16.015625 36.375 \nQ 16.015625 21.96875 22.65625 14.328125 \nQ 29.296875 6.6875 41.796875 6.6875 \nQ 48.140625 6.6875 53.78125 8.984375 \nQ 59.421875 11.28125 64.40625 15.921875 \nL 64.40625 5.609375 \nQ 59.234375 2.09375 53.4375 0.328125 \nQ 47.65625 -1.421875 41.21875 -1.421875 \nQ 24.65625 -1.421875 15.125 8.703125 \nQ 5.609375 18.84375 5.609375 36.375 \nQ 5.609375 53.953125 15.125 64.078125 \nQ 24.65625 74.21875 41.21875 74.21875 \nQ 47.75 74.21875 53.53125 72.484375 \nQ 59.328125 70.75 64.40625 67.28125 \nz\n\" id=\"DejaVuSans-67\"/>\n      </defs>\n      <g transform=\"translate(215.821875 754.153058)scale(0.1 -0.1)\">\n       <use xlink:href=\"#DejaVuSans-65\"/>\n       <use x=\"68.408203\" xlink:href=\"#DejaVuSans-49\"/>\n       <use x=\"132.03125\" xlink:href=\"#DejaVuSans-67\"/>\n       <use x=\"201.855469\" xlink:href=\"#DejaVuSans-114\"/>\n       <use x=\"240.71875\" xlink:href=\"#DejaVuSans-101\"/>\n       <use x=\"302.242188\" xlink:href=\"#DejaVuSans-115\"/>\n       <use x=\"354.341797\" xlink:href=\"#DejaVuSans-117\"/>\n       <use x=\"417.720703\" xlink:href=\"#DejaVuSans-108\"/>\n       <use x=\"445.503906\" xlink:href=\"#DejaVuSans-116\"/>\n      </g>\n     </g>\n    </g>\n    <g id=\"ytick_48\">\n     <g id=\"line2d_56\">\n      <g>\n       <use style=\"stroke:#000000;stroke-width:0.8;\" x=\"271.292188\" xlink:href=\"#m051f1ff470\" y=\"730.939554\"/>\n      </g>\n     </g>\n     <g id=\"text_56\">\n      <!-- max_glu_serum -->\n      <defs>\n       <path d=\"M 54.890625 54.6875 \nL 35.109375 28.078125 \nL 55.90625 0 \nL 45.3125 0 \nL 29.390625 21.484375 \nL 13.484375 0 \nL 2.875 0 \nL 24.125 28.609375 \nL 4.6875 54.6875 \nL 15.28125 54.6875 \nL 29.78125 35.203125 \nL 44.28125 54.6875 \nz\n\" id=\"DejaVuSans-120\"/>\n      </defs>\n      <g transform=\"translate(185.489063 734.738772)scale(0.1 -0.1)\">\n       <use xlink:href=\"#DejaVuSans-109\"/>\n       <use x=\"97.412109\" xlink:href=\"#DejaVuSans-97\"/>\n       <use x=\"158.691406\" xlink:href=\"#DejaVuSans-120\"/>\n       <use x=\"217.871094\" xlink:href=\"#DejaVuSans-95\"/>\n       <use x=\"267.871094\" xlink:href=\"#DejaVuSans-103\"/>\n       <use x=\"331.347656\" xlink:href=\"#DejaVuSans-108\"/>\n       <use x=\"359.130859\" xlink:href=\"#DejaVuSans-117\"/>\n       <use x=\"422.509766\" xlink:href=\"#DejaVuSans-95\"/>\n       <use x=\"472.509766\" xlink:href=\"#DejaVuSans-115\"/>\n       <use x=\"524.609375\" xlink:href=\"#DejaVuSans-101\"/>\n       <use x=\"586.132812\" xlink:href=\"#DejaVuSans-114\"/>\n       <use x=\"627.246094\" xlink:href=\"#DejaVuSans-117\"/>\n       <use x=\"690.625\" xlink:href=\"#DejaVuSans-109\"/>\n      </g>\n     </g>\n    </g>\n    <g id=\"ytick_49\">\n     <g id=\"line2d_57\">\n      <g>\n       <use style=\"stroke:#000000;stroke-width:0.8;\" x=\"271.292188\" xlink:href=\"#m051f1ff470\" y=\"711.525268\"/>\n      </g>\n     </g>\n     <g id=\"text_57\">\n      <!-- number_diagnoses -->\n      <g transform=\"translate(169.632813 715.324487)scale(0.1 -0.1)\">\n       <use xlink:href=\"#DejaVuSans-110\"/>\n       <use x=\"63.378906\" xlink:href=\"#DejaVuSans-117\"/>\n       <use x=\"126.757812\" xlink:href=\"#DejaVuSans-109\"/>\n       <use x=\"224.169922\" xlink:href=\"#DejaVuSans-98\"/>\n       <use x=\"287.646484\" xlink:href=\"#DejaVuSans-101\"/>\n       <use x=\"349.169922\" xlink:href=\"#DejaVuSans-114\"/>\n       <use x=\"390.283203\" xlink:href=\"#DejaVuSans-95\"/>\n       <use x=\"440.283203\" xlink:href=\"#DejaVuSans-100\"/>\n       <use x=\"503.759766\" xlink:href=\"#DejaVuSans-105\"/>\n       <use x=\"531.542969\" xlink:href=\"#DejaVuSans-97\"/>\n       <use x=\"592.822266\" xlink:href=\"#DejaVuSans-103\"/>\n       <use x=\"656.298828\" xlink:href=\"#DejaVuSans-110\"/>\n       <use x=\"719.677734\" xlink:href=\"#DejaVuSans-111\"/>\n       <use x=\"780.859375\" xlink:href=\"#DejaVuSans-115\"/>\n       <use x=\"832.958984\" xlink:href=\"#DejaVuSans-101\"/>\n       <use x=\"894.482422\" xlink:href=\"#DejaVuSans-115\"/>\n      </g>\n     </g>\n    </g>\n    <g id=\"ytick_50\">\n     <g id=\"line2d_58\">\n      <g>\n       <use style=\"stroke:#000000;stroke-width:0.8;\" x=\"271.292188\" xlink:href=\"#m051f1ff470\" y=\"692.110982\"/>\n      </g>\n     </g>\n     <g id=\"text_58\">\n      <!-- number_inpatient -->\n      <g transform=\"translate(175.5625 695.910201)scale(0.1 -0.1)\">\n       <use xlink:href=\"#DejaVuSans-110\"/>\n       <use x=\"63.378906\" xlink:href=\"#DejaVuSans-117\"/>\n       <use x=\"126.757812\" xlink:href=\"#DejaVuSans-109\"/>\n       <use x=\"224.169922\" xlink:href=\"#DejaVuSans-98\"/>\n       <use x=\"287.646484\" xlink:href=\"#DejaVuSans-101\"/>\n       <use x=\"349.169922\" xlink:href=\"#DejaVuSans-114\"/>\n       <use x=\"390.283203\" xlink:href=\"#DejaVuSans-95\"/>\n       <use x=\"440.283203\" xlink:href=\"#DejaVuSans-105\"/>\n       <use x=\"468.066406\" xlink:href=\"#DejaVuSans-110\"/>\n       <use x=\"531.445312\" xlink:href=\"#DejaVuSans-112\"/>\n       <use x=\"594.921875\" xlink:href=\"#DejaVuSans-97\"/>\n       <use x=\"656.201172\" xlink:href=\"#DejaVuSans-116\"/>\n       <use x=\"695.410156\" xlink:href=\"#DejaVuSans-105\"/>\n       <use x=\"723.193359\" xlink:href=\"#DejaVuSans-101\"/>\n       <use x=\"784.716797\" xlink:href=\"#DejaVuSans-110\"/>\n       <use x=\"848.095703\" xlink:href=\"#DejaVuSans-116\"/>\n      </g>\n     </g>\n    </g>\n    <g id=\"ytick_51\">\n     <g id=\"line2d_59\">\n      <g>\n       <use style=\"stroke:#000000;stroke-width:0.8;\" x=\"271.292188\" xlink:href=\"#m051f1ff470\" y=\"672.696696\"/>\n      </g>\n     </g>\n     <g id=\"text_59\">\n      <!-- number_emergency -->\n      <g transform=\"translate(164.025 676.495915)scale(0.1 -0.1)\">\n       <use xlink:href=\"#DejaVuSans-110\"/>\n       <use x=\"63.378906\" xlink:href=\"#DejaVuSans-117\"/>\n       <use x=\"126.757812\" xlink:href=\"#DejaVuSans-109\"/>\n       <use x=\"224.169922\" xlink:href=\"#DejaVuSans-98\"/>\n       <use x=\"287.646484\" xlink:href=\"#DejaVuSans-101\"/>\n       <use x=\"349.169922\" xlink:href=\"#DejaVuSans-114\"/>\n       <use x=\"390.283203\" xlink:href=\"#DejaVuSans-95\"/>\n       <use x=\"440.283203\" xlink:href=\"#DejaVuSans-101\"/>\n       <use x=\"501.806641\" xlink:href=\"#DejaVuSans-109\"/>\n       <use x=\"599.21875\" xlink:href=\"#DejaVuSans-101\"/>\n       <use x=\"660.742188\" xlink:href=\"#DejaVuSans-114\"/>\n       <use x=\"700.105469\" xlink:href=\"#DejaVuSans-103\"/>\n       <use x=\"763.582031\" xlink:href=\"#DejaVuSans-101\"/>\n       <use x=\"825.105469\" xlink:href=\"#DejaVuSans-110\"/>\n       <use x=\"888.484375\" xlink:href=\"#DejaVuSans-99\"/>\n       <use x=\"943.464844\" xlink:href=\"#DejaVuSans-121\"/>\n      </g>\n     </g>\n    </g>\n    <g id=\"ytick_52\">\n     <g id=\"line2d_60\">\n      <g>\n       <use style=\"stroke:#000000;stroke-width:0.8;\" x=\"271.292188\" xlink:href=\"#m051f1ff470\" y=\"653.282411\"/>\n      </g>\n     </g>\n     <g id=\"text_60\">\n      <!-- number_outpatient -->\n      <g transform=\"translate(168.301563 657.081629)scale(0.1 -0.1)\">\n       <use xlink:href=\"#DejaVuSans-110\"/>\n       <use x=\"63.378906\" xlink:href=\"#DejaVuSans-117\"/>\n       <use x=\"126.757812\" xlink:href=\"#DejaVuSans-109\"/>\n       <use x=\"224.169922\" xlink:href=\"#DejaVuSans-98\"/>\n       <use x=\"287.646484\" xlink:href=\"#DejaVuSans-101\"/>\n       <use x=\"349.169922\" xlink:href=\"#DejaVuSans-114\"/>\n       <use x=\"390.283203\" xlink:href=\"#DejaVuSans-95\"/>\n       <use x=\"440.283203\" xlink:href=\"#DejaVuSans-111\"/>\n       <use x=\"501.464844\" xlink:href=\"#DejaVuSans-117\"/>\n       <use x=\"564.84375\" xlink:href=\"#DejaVuSans-116\"/>\n       <use x=\"604.052734\" xlink:href=\"#DejaVuSans-112\"/>\n       <use x=\"667.529297\" xlink:href=\"#DejaVuSans-97\"/>\n       <use x=\"728.808594\" xlink:href=\"#DejaVuSans-116\"/>\n       <use x=\"768.017578\" xlink:href=\"#DejaVuSans-105\"/>\n       <use x=\"795.800781\" xlink:href=\"#DejaVuSans-101\"/>\n       <use x=\"857.324219\" xlink:href=\"#DejaVuSans-110\"/>\n       <use x=\"920.703125\" xlink:href=\"#DejaVuSans-116\"/>\n      </g>\n     </g>\n    </g>\n    <g id=\"ytick_53\">\n     <g id=\"line2d_61\">\n      <g>\n       <use style=\"stroke:#000000;stroke-width:0.8;\" x=\"271.292188\" xlink:href=\"#m051f1ff470\" y=\"633.868125\"/>\n      </g>\n     </g>\n     <g id=\"text_61\">\n      <!-- num_medications -->\n      <g transform=\"translate(175.865625 637.667344)scale(0.1 -0.1)\">\n       <use xlink:href=\"#DejaVuSans-110\"/>\n       <use x=\"63.378906\" xlink:href=\"#DejaVuSans-117\"/>\n       <use x=\"126.757812\" xlink:href=\"#DejaVuSans-109\"/>\n       <use x=\"224.169922\" xlink:href=\"#DejaVuSans-95\"/>\n       <use x=\"274.169922\" xlink:href=\"#DejaVuSans-109\"/>\n       <use x=\"371.582031\" xlink:href=\"#DejaVuSans-101\"/>\n       <use x=\"433.105469\" xlink:href=\"#DejaVuSans-100\"/>\n       <use x=\"496.582031\" xlink:href=\"#DejaVuSans-105\"/>\n       <use x=\"524.365234\" xlink:href=\"#DejaVuSans-99\"/>\n       <use x=\"579.345703\" xlink:href=\"#DejaVuSans-97\"/>\n       <use x=\"640.625\" xlink:href=\"#DejaVuSans-116\"/>\n       <use x=\"679.833984\" xlink:href=\"#DejaVuSans-105\"/>\n       <use x=\"707.617188\" xlink:href=\"#DejaVuSans-111\"/>\n       <use x=\"768.798828\" xlink:href=\"#DejaVuSans-110\"/>\n       <use x=\"832.177734\" xlink:href=\"#DejaVuSans-115\"/>\n      </g>\n     </g>\n    </g>\n    <g id=\"ytick_54\">\n     <g id=\"line2d_62\">\n      <g>\n       <use style=\"stroke:#000000;stroke-width:0.8;\" x=\"271.292188\" xlink:href=\"#m051f1ff470\" y=\"614.453839\"/>\n      </g>\n     </g>\n     <g id=\"text_62\">\n      <!-- num_procedures -->\n      <g transform=\"translate(180.9375 618.253058)scale(0.1 -0.1)\">\n       <use xlink:href=\"#DejaVuSans-110\"/>\n       <use x=\"63.378906\" xlink:href=\"#DejaVuSans-117\"/>\n       <use x=\"126.757812\" xlink:href=\"#DejaVuSans-109\"/>\n       <use x=\"224.169922\" xlink:href=\"#DejaVuSans-95\"/>\n       <use x=\"274.169922\" xlink:href=\"#DejaVuSans-112\"/>\n       <use x=\"337.646484\" xlink:href=\"#DejaVuSans-114\"/>\n       <use x=\"376.509766\" xlink:href=\"#DejaVuSans-111\"/>\n       <use x=\"437.691406\" xlink:href=\"#DejaVuSans-99\"/>\n       <use x=\"492.671875\" xlink:href=\"#DejaVuSans-101\"/>\n       <use x=\"554.195312\" xlink:href=\"#DejaVuSans-100\"/>\n       <use x=\"617.671875\" xlink:href=\"#DejaVuSans-117\"/>\n       <use x=\"681.050781\" xlink:href=\"#DejaVuSans-114\"/>\n       <use x=\"719.914062\" xlink:href=\"#DejaVuSans-101\"/>\n       <use x=\"781.4375\" xlink:href=\"#DejaVuSans-115\"/>\n      </g>\n     </g>\n    </g>\n    <g id=\"ytick_55\">\n     <g id=\"line2d_63\">\n      <g>\n       <use style=\"stroke:#000000;stroke-width:0.8;\" x=\"271.292188\" xlink:href=\"#m051f1ff470\" y=\"595.039554\"/>\n      </g>\n     </g>\n     <g id=\"text_63\">\n      <!-- num_lab_procedures -->\n      <g transform=\"translate(160.682813 598.838772)scale(0.1 -0.1)\">\n       <use xlink:href=\"#DejaVuSans-110\"/>\n       <use x=\"63.378906\" xlink:href=\"#DejaVuSans-117\"/>\n       <use x=\"126.757812\" xlink:href=\"#DejaVuSans-109\"/>\n       <use x=\"224.169922\" xlink:href=\"#DejaVuSans-95\"/>\n       <use x=\"274.169922\" xlink:href=\"#DejaVuSans-108\"/>\n       <use x=\"301.953125\" xlink:href=\"#DejaVuSans-97\"/>\n       <use x=\"363.232422\" xlink:href=\"#DejaVuSans-98\"/>\n       <use x=\"426.708984\" xlink:href=\"#DejaVuSans-95\"/>\n       <use x=\"476.708984\" xlink:href=\"#DejaVuSans-112\"/>\n       <use x=\"540.185547\" xlink:href=\"#DejaVuSans-114\"/>\n       <use x=\"579.048828\" xlink:href=\"#DejaVuSans-111\"/>\n       <use x=\"640.230469\" xlink:href=\"#DejaVuSans-99\"/>\n       <use x=\"695.210938\" xlink:href=\"#DejaVuSans-101\"/>\n       <use x=\"756.734375\" xlink:href=\"#DejaVuSans-100\"/>\n       <use x=\"820.210938\" xlink:href=\"#DejaVuSans-117\"/>\n       <use x=\"883.589844\" xlink:href=\"#DejaVuSans-114\"/>\n       <use x=\"922.453125\" xlink:href=\"#DejaVuSans-101\"/>\n       <use x=\"983.976562\" xlink:href=\"#DejaVuSans-115\"/>\n      </g>\n     </g>\n    </g>\n    <g id=\"ytick_56\">\n     <g id=\"line2d_64\">\n      <g>\n       <use style=\"stroke:#000000;stroke-width:0.8;\" x=\"271.292188\" xlink:href=\"#m051f1ff470\" y=\"575.625268\"/>\n      </g>\n     </g>\n     <g id=\"text_64\">\n      <!-- time_in_hospital -->\n      <g transform=\"translate(182.965625 579.424487)scale(0.1 -0.1)\">\n       <use xlink:href=\"#DejaVuSans-116\"/>\n       <use x=\"39.208984\" xlink:href=\"#DejaVuSans-105\"/>\n       <use x=\"66.992188\" xlink:href=\"#DejaVuSans-109\"/>\n       <use x=\"164.404297\" xlink:href=\"#DejaVuSans-101\"/>\n       <use x=\"225.927734\" xlink:href=\"#DejaVuSans-95\"/>\n       <use x=\"275.927734\" xlink:href=\"#DejaVuSans-105\"/>\n       <use x=\"303.710938\" xlink:href=\"#DejaVuSans-110\"/>\n       <use x=\"367.089844\" xlink:href=\"#DejaVuSans-95\"/>\n       <use x=\"417.089844\" xlink:href=\"#DejaVuSans-104\"/>\n       <use x=\"480.46875\" xlink:href=\"#DejaVuSans-111\"/>\n       <use x=\"541.650391\" xlink:href=\"#DejaVuSans-115\"/>\n       <use x=\"593.75\" xlink:href=\"#DejaVuSans-112\"/>\n       <use x=\"657.226562\" xlink:href=\"#DejaVuSans-105\"/>\n       <use x=\"685.009766\" xlink:href=\"#DejaVuSans-116\"/>\n       <use x=\"724.21875\" xlink:href=\"#DejaVuSans-97\"/>\n       <use x=\"785.498047\" xlink:href=\"#DejaVuSans-108\"/>\n      </g>\n     </g>\n    </g>\n    <g id=\"ytick_57\">\n     <g id=\"line2d_65\">\n      <g>\n       <use style=\"stroke:#000000;stroke-width:0.8;\" x=\"271.292188\" xlink:href=\"#m051f1ff470\" y=\"556.210982\"/>\n      </g>\n     </g>\n     <g id=\"text_65\">\n      <!-- admission_source_id -->\n      <g transform=\"translate(161.314063 560.010201)scale(0.1 -0.1)\">\n       <use xlink:href=\"#DejaVuSans-97\"/>\n       <use x=\"61.279297\" xlink:href=\"#DejaVuSans-100\"/>\n       <use x=\"124.755859\" xlink:href=\"#DejaVuSans-109\"/>\n       <use x=\"222.167969\" xlink:href=\"#DejaVuSans-105\"/>\n       <use x=\"249.951172\" xlink:href=\"#DejaVuSans-115\"/>\n       <use x=\"302.050781\" xlink:href=\"#DejaVuSans-115\"/>\n       <use x=\"354.150391\" xlink:href=\"#DejaVuSans-105\"/>\n       <use x=\"381.933594\" xlink:href=\"#DejaVuSans-111\"/>\n       <use x=\"443.115234\" xlink:href=\"#DejaVuSans-110\"/>\n       <use x=\"506.494141\" xlink:href=\"#DejaVuSans-95\"/>\n       <use x=\"556.494141\" xlink:href=\"#DejaVuSans-115\"/>\n       <use x=\"608.59375\" xlink:href=\"#DejaVuSans-111\"/>\n       <use x=\"669.775391\" xlink:href=\"#DejaVuSans-117\"/>\n       <use x=\"733.154297\" xlink:href=\"#DejaVuSans-114\"/>\n       <use x=\"772.017578\" xlink:href=\"#DejaVuSans-99\"/>\n       <use x=\"826.998047\" xlink:href=\"#DejaVuSans-101\"/>\n       <use x=\"888.521484\" xlink:href=\"#DejaVuSans-95\"/>\n       <use x=\"938.521484\" xlink:href=\"#DejaVuSans-105\"/>\n       <use x=\"966.304688\" xlink:href=\"#DejaVuSans-100\"/>\n      </g>\n     </g>\n    </g>\n    <g id=\"ytick_58\">\n     <g id=\"line2d_66\">\n      <g>\n       <use style=\"stroke:#000000;stroke-width:0.8;\" x=\"271.292188\" xlink:href=\"#m051f1ff470\" y=\"536.796696\"/>\n      </g>\n     </g>\n     <g id=\"text_66\">\n      <!-- discharge_disposition_id -->\n      <g transform=\"translate(142.482813 540.595915)scale(0.1 -0.1)\">\n       <use xlink:href=\"#DejaVuSans-100\"/>\n       <use x=\"63.476562\" xlink:href=\"#DejaVuSans-105\"/>\n       <use x=\"91.259766\" xlink:href=\"#DejaVuSans-115\"/>\n       <use x=\"143.359375\" xlink:href=\"#DejaVuSans-99\"/>\n       <use x=\"198.339844\" xlink:href=\"#DejaVuSans-104\"/>\n       <use x=\"261.71875\" xlink:href=\"#DejaVuSans-97\"/>\n       <use x=\"322.998047\" xlink:href=\"#DejaVuSans-114\"/>\n       <use x=\"362.361328\" xlink:href=\"#DejaVuSans-103\"/>\n       <use x=\"425.837891\" xlink:href=\"#DejaVuSans-101\"/>\n       <use x=\"487.361328\" xlink:href=\"#DejaVuSans-95\"/>\n       <use x=\"537.361328\" xlink:href=\"#DejaVuSans-100\"/>\n       <use x=\"600.837891\" xlink:href=\"#DejaVuSans-105\"/>\n       <use x=\"628.621094\" xlink:href=\"#DejaVuSans-115\"/>\n       <use x=\"680.720703\" xlink:href=\"#DejaVuSans-112\"/>\n       <use x=\"744.197266\" xlink:href=\"#DejaVuSans-111\"/>\n       <use x=\"805.378906\" xlink:href=\"#DejaVuSans-115\"/>\n       <use x=\"857.478516\" xlink:href=\"#DejaVuSans-105\"/>\n       <use x=\"885.261719\" xlink:href=\"#DejaVuSans-116\"/>\n       <use x=\"924.470703\" xlink:href=\"#DejaVuSans-105\"/>\n       <use x=\"952.253906\" xlink:href=\"#DejaVuSans-111\"/>\n       <use x=\"1013.435547\" xlink:href=\"#DejaVuSans-110\"/>\n       <use x=\"1076.814453\" xlink:href=\"#DejaVuSans-95\"/>\n       <use x=\"1126.814453\" xlink:href=\"#DejaVuSans-105\"/>\n       <use x=\"1154.597656\" xlink:href=\"#DejaVuSans-100\"/>\n      </g>\n     </g>\n    </g>\n    <g id=\"ytick_59\">\n     <g id=\"line2d_67\">\n      <g>\n       <use style=\"stroke:#000000;stroke-width:0.8;\" x=\"271.292188\" xlink:href=\"#m051f1ff470\" y=\"517.382411\"/>\n      </g>\n     </g>\n     <g id=\"text_67\">\n      <!-- admission_type_id -->\n      <g transform=\"translate(172.176563 521.181629)scale(0.1 -0.1)\">\n       <use xlink:href=\"#DejaVuSans-97\"/>\n       <use x=\"61.279297\" xlink:href=\"#DejaVuSans-100\"/>\n       <use x=\"124.755859\" xlink:href=\"#DejaVuSans-109\"/>\n       <use x=\"222.167969\" xlink:href=\"#DejaVuSans-105\"/>\n       <use x=\"249.951172\" xlink:href=\"#DejaVuSans-115\"/>\n       <use x=\"302.050781\" xlink:href=\"#DejaVuSans-115\"/>\n       <use x=\"354.150391\" xlink:href=\"#DejaVuSans-105\"/>\n       <use x=\"381.933594\" xlink:href=\"#DejaVuSans-111\"/>\n       <use x=\"443.115234\" xlink:href=\"#DejaVuSans-110\"/>\n       <use x=\"506.494141\" xlink:href=\"#DejaVuSans-95\"/>\n       <use x=\"556.494141\" xlink:href=\"#DejaVuSans-116\"/>\n       <use x=\"595.703125\" xlink:href=\"#DejaVuSans-121\"/>\n       <use x=\"654.882812\" xlink:href=\"#DejaVuSans-112\"/>\n       <use x=\"718.359375\" xlink:href=\"#DejaVuSans-101\"/>\n       <use x=\"779.882812\" xlink:href=\"#DejaVuSans-95\"/>\n       <use x=\"829.882812\" xlink:href=\"#DejaVuSans-105\"/>\n       <use x=\"857.666016\" xlink:href=\"#DejaVuSans-100\"/>\n      </g>\n     </g>\n    </g>\n    <g id=\"ytick_60\">\n     <g id=\"line2d_68\">\n      <g>\n       <use style=\"stroke:#000000;stroke-width:0.8;\" x=\"271.292188\" xlink:href=\"#m051f1ff470\" y=\"497.968125\"/>\n      </g>\n     </g>\n     <g id=\"text_68\">\n      <!-- race_Other -->\n      <g transform=\"translate(209.007813 501.767344)scale(0.1 -0.1)\">\n       <use xlink:href=\"#DejaVuSans-114\"/>\n       <use x=\"41.113281\" xlink:href=\"#DejaVuSans-97\"/>\n       <use x=\"102.392578\" xlink:href=\"#DejaVuSans-99\"/>\n       <use x=\"157.373047\" xlink:href=\"#DejaVuSans-101\"/>\n       <use x=\"218.896484\" xlink:href=\"#DejaVuSans-95\"/>\n       <use x=\"268.896484\" xlink:href=\"#DejaVuSans-79\"/>\n       <use x=\"347.607422\" xlink:href=\"#DejaVuSans-116\"/>\n       <use x=\"386.816406\" xlink:href=\"#DejaVuSans-104\"/>\n       <use x=\"450.195312\" xlink:href=\"#DejaVuSans-101\"/>\n       <use x=\"511.71875\" xlink:href=\"#DejaVuSans-114\"/>\n      </g>\n     </g>\n    </g>\n    <g id=\"ytick_61\">\n     <g id=\"line2d_69\">\n      <g>\n       <use style=\"stroke:#000000;stroke-width:0.8;\" x=\"271.292188\" xlink:href=\"#m051f1ff470\" y=\"478.553839\"/>\n      </g>\n     </g>\n     <g id=\"text_69\">\n      <!-- acetohexamide -->\n      <g transform=\"translate(187.090625 482.353058)scale(0.1 -0.1)\">\n       <use xlink:href=\"#DejaVuSans-97\"/>\n       <use x=\"61.279297\" xlink:href=\"#DejaVuSans-99\"/>\n       <use x=\"116.259766\" xlink:href=\"#DejaVuSans-101\"/>\n       <use x=\"177.783203\" xlink:href=\"#DejaVuSans-116\"/>\n       <use x=\"216.992188\" xlink:href=\"#DejaVuSans-111\"/>\n       <use x=\"278.173828\" xlink:href=\"#DejaVuSans-104\"/>\n       <use x=\"341.552734\" xlink:href=\"#DejaVuSans-101\"/>\n       <use x=\"401.326172\" xlink:href=\"#DejaVuSans-120\"/>\n       <use x=\"460.505859\" xlink:href=\"#DejaVuSans-97\"/>\n       <use x=\"521.785156\" xlink:href=\"#DejaVuSans-109\"/>\n       <use x=\"619.197266\" xlink:href=\"#DejaVuSans-105\"/>\n       <use x=\"646.980469\" xlink:href=\"#DejaVuSans-100\"/>\n       <use x=\"710.457031\" xlink:href=\"#DejaVuSans-101\"/>\n      </g>\n     </g>\n    </g>\n    <g id=\"ytick_62\">\n     <g id=\"line2d_70\">\n      <g>\n       <use style=\"stroke:#000000;stroke-width:0.8;\" x=\"271.292188\" xlink:href=\"#m051f1ff470\" y=\"459.139554\"/>\n      </g>\n     </g>\n     <g id=\"text_70\">\n      <!-- diag_2_Respiratory -->\n      <g transform=\"translate(169.03125 462.938772)scale(0.1 -0.1)\">\n       <use xlink:href=\"#DejaVuSans-100\"/>\n       <use x=\"63.476562\" xlink:href=\"#DejaVuSans-105\"/>\n       <use x=\"91.259766\" xlink:href=\"#DejaVuSans-97\"/>\n       <use x=\"152.539062\" xlink:href=\"#DejaVuSans-103\"/>\n       <use x=\"216.015625\" xlink:href=\"#DejaVuSans-95\"/>\n       <use x=\"266.015625\" xlink:href=\"#DejaVuSans-50\"/>\n       <use x=\"329.638672\" xlink:href=\"#DejaVuSans-95\"/>\n       <use x=\"379.638672\" xlink:href=\"#DejaVuSans-82\"/>\n       <use x=\"444.621094\" xlink:href=\"#DejaVuSans-101\"/>\n       <use x=\"506.144531\" xlink:href=\"#DejaVuSans-115\"/>\n       <use x=\"558.244141\" xlink:href=\"#DejaVuSans-112\"/>\n       <use x=\"621.720703\" xlink:href=\"#DejaVuSans-105\"/>\n       <use x=\"649.503906\" xlink:href=\"#DejaVuSans-114\"/>\n       <use x=\"690.617188\" xlink:href=\"#DejaVuSans-97\"/>\n       <use x=\"751.896484\" xlink:href=\"#DejaVuSans-116\"/>\n       <use x=\"791.105469\" xlink:href=\"#DejaVuSans-111\"/>\n       <use x=\"852.287109\" xlink:href=\"#DejaVuSans-114\"/>\n       <use x=\"893.400391\" xlink:href=\"#DejaVuSans-121\"/>\n      </g>\n     </g>\n    </g>\n    <g id=\"ytick_63\">\n     <g id=\"line2d_71\">\n      <g>\n       <use style=\"stroke:#000000;stroke-width:0.8;\" x=\"271.292188\" xlink:href=\"#m051f1ff470\" y=\"439.725268\"/>\n      </g>\n     </g>\n     <g id=\"text_71\">\n      <!-- glyburide -->\n      <g transform=\"translate(217.170313 443.524487)scale(0.1 -0.1)\">\n       <use xlink:href=\"#DejaVuSans-103\"/>\n       <use x=\"63.476562\" xlink:href=\"#DejaVuSans-108\"/>\n       <use x=\"91.259766\" xlink:href=\"#DejaVuSans-121\"/>\n       <use x=\"150.439453\" xlink:href=\"#DejaVuSans-98\"/>\n       <use x=\"213.916016\" xlink:href=\"#DejaVuSans-117\"/>\n       <use x=\"277.294922\" xlink:href=\"#DejaVuSans-114\"/>\n       <use x=\"318.408203\" xlink:href=\"#DejaVuSans-105\"/>\n       <use x=\"346.191406\" xlink:href=\"#DejaVuSans-100\"/>\n       <use x=\"409.667969\" xlink:href=\"#DejaVuSans-101\"/>\n      </g>\n     </g>\n    </g>\n    <g id=\"ytick_64\">\n     <g id=\"line2d_72\">\n      <g>\n       <use style=\"stroke:#000000;stroke-width:0.8;\" x=\"271.292188\" xlink:href=\"#m051f1ff470\" y=\"420.310982\"/>\n      </g>\n     </g>\n     <g id=\"text_72\">\n      <!-- race_Caucasian -->\n      <g transform=\"translate(185.873438 424.110201)scale(0.1 -0.1)\">\n       <use xlink:href=\"#DejaVuSans-114\"/>\n       <use x=\"41.113281\" xlink:href=\"#DejaVuSans-97\"/>\n       <use x=\"102.392578\" xlink:href=\"#DejaVuSans-99\"/>\n       <use x=\"157.373047\" xlink:href=\"#DejaVuSans-101\"/>\n       <use x=\"218.896484\" xlink:href=\"#DejaVuSans-95\"/>\n       <use x=\"268.896484\" xlink:href=\"#DejaVuSans-67\"/>\n       <use x=\"338.720703\" xlink:href=\"#DejaVuSans-97\"/>\n       <use x=\"400\" xlink:href=\"#DejaVuSans-117\"/>\n       <use x=\"463.378906\" xlink:href=\"#DejaVuSans-99\"/>\n       <use x=\"518.359375\" xlink:href=\"#DejaVuSans-97\"/>\n       <use x=\"579.638672\" xlink:href=\"#DejaVuSans-115\"/>\n       <use x=\"631.738281\" xlink:href=\"#DejaVuSans-105\"/>\n       <use x=\"659.521484\" xlink:href=\"#DejaVuSans-97\"/>\n       <use x=\"720.800781\" xlink:href=\"#DejaVuSans-110\"/>\n      </g>\n     </g>\n    </g>\n    <g id=\"ytick_65\">\n     <g id=\"line2d_73\">\n      <g>\n       <use style=\"stroke:#000000;stroke-width:0.8;\" x=\"271.292188\" xlink:href=\"#m051f1ff470\" y=\"400.896696\"/>\n      </g>\n     </g>\n     <g id=\"text_73\">\n      <!-- race_Asian -->\n      <g transform=\"translate(210.107813 404.695915)scale(0.1 -0.1)\">\n       <use xlink:href=\"#DejaVuSans-114\"/>\n       <use x=\"41.113281\" xlink:href=\"#DejaVuSans-97\"/>\n       <use x=\"102.392578\" xlink:href=\"#DejaVuSans-99\"/>\n       <use x=\"157.373047\" xlink:href=\"#DejaVuSans-101\"/>\n       <use x=\"218.896484\" xlink:href=\"#DejaVuSans-95\"/>\n       <use x=\"268.896484\" xlink:href=\"#DejaVuSans-65\"/>\n       <use x=\"337.304688\" xlink:href=\"#DejaVuSans-115\"/>\n       <use x=\"389.404297\" xlink:href=\"#DejaVuSans-105\"/>\n       <use x=\"417.1875\" xlink:href=\"#DejaVuSans-97\"/>\n       <use x=\"478.466797\" xlink:href=\"#DejaVuSans-110\"/>\n      </g>\n     </g>\n    </g>\n    <g id=\"ytick_66\">\n     <g id=\"line2d_74\">\n      <g>\n       <use style=\"stroke:#000000;stroke-width:0.8;\" x=\"271.292188\" xlink:href=\"#m051f1ff470\" y=\"381.482411\"/>\n      </g>\n     </g>\n     <g id=\"text_74\">\n      <!-- numchange -->\n      <g transform=\"translate(205.073438 385.281629)scale(0.1 -0.1)\">\n       <use xlink:href=\"#DejaVuSans-110\"/>\n       <use x=\"63.378906\" xlink:href=\"#DejaVuSans-117\"/>\n       <use x=\"126.757812\" xlink:href=\"#DejaVuSans-109\"/>\n       <use x=\"224.169922\" xlink:href=\"#DejaVuSans-99\"/>\n       <use x=\"279.150391\" xlink:href=\"#DejaVuSans-104\"/>\n       <use x=\"342.529297\" xlink:href=\"#DejaVuSans-97\"/>\n       <use x=\"403.808594\" xlink:href=\"#DejaVuSans-110\"/>\n       <use x=\"467.1875\" xlink:href=\"#DejaVuSans-103\"/>\n       <use x=\"530.664062\" xlink:href=\"#DejaVuSans-101\"/>\n      </g>\n     </g>\n    </g>\n    <g id=\"ytick_67\">\n     <g id=\"line2d_75\">\n      <g>\n       <use style=\"stroke:#000000;stroke-width:0.8;\" x=\"271.292188\" xlink:href=\"#m051f1ff470\" y=\"362.068125\"/>\n      </g>\n     </g>\n     <g id=\"text_75\">\n      <!-- diabetesMed -->\n      <g transform=\"translate(200.123438 365.867344)scale(0.1 -0.1)\">\n       <use xlink:href=\"#DejaVuSans-100\"/>\n       <use x=\"63.476562\" xlink:href=\"#DejaVuSans-105\"/>\n       <use x=\"91.259766\" xlink:href=\"#DejaVuSans-97\"/>\n       <use x=\"152.539062\" xlink:href=\"#DejaVuSans-98\"/>\n       <use x=\"216.015625\" xlink:href=\"#DejaVuSans-101\"/>\n       <use x=\"277.539062\" xlink:href=\"#DejaVuSans-116\"/>\n       <use x=\"316.748047\" xlink:href=\"#DejaVuSans-101\"/>\n       <use x=\"378.271484\" xlink:href=\"#DejaVuSans-115\"/>\n       <use x=\"430.371094\" xlink:href=\"#DejaVuSans-77\"/>\n       <use x=\"516.650391\" xlink:href=\"#DejaVuSans-101\"/>\n       <use x=\"578.173828\" xlink:href=\"#DejaVuSans-100\"/>\n      </g>\n     </g>\n    </g>\n    <g id=\"ytick_68\">\n     <g id=\"line2d_76\">\n      <g>\n       <use style=\"stroke:#000000;stroke-width:0.8;\" x=\"271.292188\" xlink:href=\"#m051f1ff470\" y=\"342.653839\"/>\n      </g>\n     </g>\n     <g id=\"text_76\">\n      <!-- change -->\n      <g transform=\"translate(227.489063 346.453058)scale(0.1 -0.1)\">\n       <use xlink:href=\"#DejaVuSans-99\"/>\n       <use x=\"54.980469\" xlink:href=\"#DejaVuSans-104\"/>\n       <use x=\"118.359375\" xlink:href=\"#DejaVuSans-97\"/>\n       <use x=\"179.638672\" xlink:href=\"#DejaVuSans-110\"/>\n       <use x=\"243.017578\" xlink:href=\"#DejaVuSans-103\"/>\n       <use x=\"306.494141\" xlink:href=\"#DejaVuSans-101\"/>\n      </g>\n     </g>\n    </g>\n    <g id=\"ytick_69\">\n     <g id=\"line2d_77\">\n      <g>\n       <use style=\"stroke:#000000;stroke-width:0.8;\" x=\"271.292188\" xlink:href=\"#m051f1ff470\" y=\"323.239554\"/>\n      </g>\n     </g>\n     <g id=\"text_77\">\n      <!-- metformin-pioglitazone -->\n      <defs>\n       <path d=\"M 5.515625 54.6875 \nL 48.1875 54.6875 \nL 48.1875 46.484375 \nL 14.40625 7.171875 \nL 48.1875 7.171875 \nL 48.1875 0 \nL 4.296875 0 \nL 4.296875 8.203125 \nL 38.09375 47.515625 \nL 5.515625 47.515625 \nz\n\" id=\"DejaVuSans-122\"/>\n      </defs>\n      <g transform=\"translate(147.382813 327.038772)scale(0.1 -0.1)\">\n       <use xlink:href=\"#DejaVuSans-109\"/>\n       <use x=\"97.412109\" xlink:href=\"#DejaVuSans-101\"/>\n       <use x=\"158.935547\" xlink:href=\"#DejaVuSans-116\"/>\n       <use x=\"198.144531\" xlink:href=\"#DejaVuSans-102\"/>\n       <use x=\"233.349609\" xlink:href=\"#DejaVuSans-111\"/>\n       <use x=\"294.53125\" xlink:href=\"#DejaVuSans-114\"/>\n       <use x=\"333.894531\" xlink:href=\"#DejaVuSans-109\"/>\n       <use x=\"431.306641\" xlink:href=\"#DejaVuSans-105\"/>\n       <use x=\"459.089844\" xlink:href=\"#DejaVuSans-110\"/>\n       <use x=\"522.46875\" xlink:href=\"#DejaVuSans-45\"/>\n       <use x=\"558.552734\" xlink:href=\"#DejaVuSans-112\"/>\n       <use x=\"622.029297\" xlink:href=\"#DejaVuSans-105\"/>\n       <use x=\"649.8125\" xlink:href=\"#DejaVuSans-111\"/>\n       <use x=\"710.994141\" xlink:href=\"#DejaVuSans-103\"/>\n       <use x=\"774.470703\" xlink:href=\"#DejaVuSans-108\"/>\n       <use x=\"802.253906\" xlink:href=\"#DejaVuSans-105\"/>\n       <use x=\"830.037109\" xlink:href=\"#DejaVuSans-116\"/>\n       <use x=\"869.246094\" xlink:href=\"#DejaVuSans-97\"/>\n       <use x=\"930.525391\" xlink:href=\"#DejaVuSans-122\"/>\n       <use x=\"983.015625\" xlink:href=\"#DejaVuSans-111\"/>\n       <use x=\"1044.197266\" xlink:href=\"#DejaVuSans-110\"/>\n       <use x=\"1107.576172\" xlink:href=\"#DejaVuSans-101\"/>\n      </g>\n     </g>\n    </g>\n    <g id=\"ytick_70\">\n     <g id=\"line2d_78\">\n      <g>\n       <use style=\"stroke:#000000;stroke-width:0.8;\" x=\"271.292188\" xlink:href=\"#m051f1ff470\" y=\"303.825268\"/>\n      </g>\n     </g>\n     <g id=\"text_78\">\n      <!-- metformin-rosiglitazone -->\n      <g transform=\"translate(144.635938 307.624487)scale(0.1 -0.1)\">\n       <use xlink:href=\"#DejaVuSans-109\"/>\n       <use x=\"97.412109\" xlink:href=\"#DejaVuSans-101\"/>\n       <use x=\"158.935547\" xlink:href=\"#DejaVuSans-116\"/>\n       <use x=\"198.144531\" xlink:href=\"#DejaVuSans-102\"/>\n       <use x=\"233.349609\" xlink:href=\"#DejaVuSans-111\"/>\n       <use x=\"294.53125\" xlink:href=\"#DejaVuSans-114\"/>\n       <use x=\"333.894531\" xlink:href=\"#DejaVuSans-109\"/>\n       <use x=\"431.306641\" xlink:href=\"#DejaVuSans-105\"/>\n       <use x=\"459.089844\" xlink:href=\"#DejaVuSans-110\"/>\n       <use x=\"522.46875\" xlink:href=\"#DejaVuSans-45\"/>\n       <use x=\"558.552734\" xlink:href=\"#DejaVuSans-114\"/>\n       <use x=\"597.416016\" xlink:href=\"#DejaVuSans-111\"/>\n       <use x=\"658.597656\" xlink:href=\"#DejaVuSans-115\"/>\n       <use x=\"710.697266\" xlink:href=\"#DejaVuSans-105\"/>\n       <use x=\"738.480469\" xlink:href=\"#DejaVuSans-103\"/>\n       <use x=\"801.957031\" xlink:href=\"#DejaVuSans-108\"/>\n       <use x=\"829.740234\" xlink:href=\"#DejaVuSans-105\"/>\n       <use x=\"857.523438\" xlink:href=\"#DejaVuSans-116\"/>\n       <use x=\"896.732422\" xlink:href=\"#DejaVuSans-97\"/>\n       <use x=\"958.011719\" xlink:href=\"#DejaVuSans-122\"/>\n       <use x=\"1010.501953\" xlink:href=\"#DejaVuSans-111\"/>\n       <use x=\"1071.683594\" xlink:href=\"#DejaVuSans-110\"/>\n       <use x=\"1135.0625\" xlink:href=\"#DejaVuSans-101\"/>\n      </g>\n     </g>\n    </g>\n    <g id=\"ytick_71\">\n     <g id=\"line2d_79\">\n      <g>\n       <use style=\"stroke:#000000;stroke-width:0.8;\" x=\"271.292188\" xlink:href=\"#m051f1ff470\" y=\"284.410982\"/>\n      </g>\n     </g>\n     <g id=\"text_79\">\n      <!-- glipizide-metformin -->\n      <g transform=\"translate(166.879688 288.210201)scale(0.1 -0.1)\">\n       <use xlink:href=\"#DejaVuSans-103\"/>\n       <use x=\"63.476562\" xlink:href=\"#DejaVuSans-108\"/>\n       <use x=\"91.259766\" xlink:href=\"#DejaVuSans-105\"/>\n       <use x=\"119.042969\" xlink:href=\"#DejaVuSans-112\"/>\n       <use x=\"182.519531\" xlink:href=\"#DejaVuSans-105\"/>\n       <use x=\"210.302734\" xlink:href=\"#DejaVuSans-122\"/>\n       <use x=\"262.792969\" xlink:href=\"#DejaVuSans-105\"/>\n       <use x=\"290.576172\" xlink:href=\"#DejaVuSans-100\"/>\n       <use x=\"354.052734\" xlink:href=\"#DejaVuSans-101\"/>\n       <use x=\"415.576172\" xlink:href=\"#DejaVuSans-45\"/>\n       <use x=\"451.660156\" xlink:href=\"#DejaVuSans-109\"/>\n       <use x=\"549.072266\" xlink:href=\"#DejaVuSans-101\"/>\n       <use x=\"610.595703\" xlink:href=\"#DejaVuSans-116\"/>\n       <use x=\"649.804688\" xlink:href=\"#DejaVuSans-102\"/>\n       <use x=\"685.009766\" xlink:href=\"#DejaVuSans-111\"/>\n       <use x=\"746.191406\" xlink:href=\"#DejaVuSans-114\"/>\n       <use x=\"785.554688\" xlink:href=\"#DejaVuSans-109\"/>\n       <use x=\"882.966797\" xlink:href=\"#DejaVuSans-105\"/>\n       <use x=\"910.75\" xlink:href=\"#DejaVuSans-110\"/>\n      </g>\n     </g>\n    </g>\n    <g id=\"ytick_72\">\n     <g id=\"line2d_80\">\n      <g>\n       <use style=\"stroke:#000000;stroke-width:0.8;\" x=\"271.292188\" xlink:href=\"#m051f1ff470\" y=\"264.996696\"/>\n      </g>\n     </g>\n     <g id=\"text_80\">\n      <!-- glyburide-metformin -->\n      <g transform=\"translate(161.317188 268.795915)scale(0.1 -0.1)\">\n       <use xlink:href=\"#DejaVuSans-103\"/>\n       <use x=\"63.476562\" xlink:href=\"#DejaVuSans-108\"/>\n       <use x=\"91.259766\" xlink:href=\"#DejaVuSans-121\"/>\n       <use x=\"150.439453\" xlink:href=\"#DejaVuSans-98\"/>\n       <use x=\"213.916016\" xlink:href=\"#DejaVuSans-117\"/>\n       <use x=\"277.294922\" xlink:href=\"#DejaVuSans-114\"/>\n       <use x=\"318.408203\" xlink:href=\"#DejaVuSans-105\"/>\n       <use x=\"346.191406\" xlink:href=\"#DejaVuSans-100\"/>\n       <use x=\"409.667969\" xlink:href=\"#DejaVuSans-101\"/>\n       <use x=\"471.191406\" xlink:href=\"#DejaVuSans-45\"/>\n       <use x=\"507.275391\" xlink:href=\"#DejaVuSans-109\"/>\n       <use x=\"604.6875\" xlink:href=\"#DejaVuSans-101\"/>\n       <use x=\"666.210938\" xlink:href=\"#DejaVuSans-116\"/>\n       <use x=\"705.419922\" xlink:href=\"#DejaVuSans-102\"/>\n       <use x=\"740.625\" xlink:href=\"#DejaVuSans-111\"/>\n       <use x=\"801.806641\" xlink:href=\"#DejaVuSans-114\"/>\n       <use x=\"841.169922\" xlink:href=\"#DejaVuSans-109\"/>\n       <use x=\"938.582031\" xlink:href=\"#DejaVuSans-105\"/>\n       <use x=\"966.365234\" xlink:href=\"#DejaVuSans-110\"/>\n      </g>\n     </g>\n    </g>\n    <g id=\"ytick_73\">\n     <g id=\"line2d_81\">\n      <g>\n       <use style=\"stroke:#000000;stroke-width:0.8;\" x=\"271.292188\" xlink:href=\"#m051f1ff470\" y=\"245.582411\"/>\n      </g>\n     </g>\n     <g id=\"text_81\">\n      <!-- insulin -->\n      <g transform=\"translate(231.735938 249.381629)scale(0.1 -0.1)\">\n       <use xlink:href=\"#DejaVuSans-105\"/>\n       <use x=\"27.783203\" xlink:href=\"#DejaVuSans-110\"/>\n       <use x=\"91.162109\" xlink:href=\"#DejaVuSans-115\"/>\n       <use x=\"143.261719\" xlink:href=\"#DejaVuSans-117\"/>\n       <use x=\"206.640625\" xlink:href=\"#DejaVuSans-108\"/>\n       <use x=\"234.423828\" xlink:href=\"#DejaVuSans-105\"/>\n       <use x=\"262.207031\" xlink:href=\"#DejaVuSans-110\"/>\n      </g>\n     </g>\n    </g>\n    <g id=\"ytick_74\">\n     <g id=\"line2d_82\">\n      <g>\n       <use style=\"stroke:#000000;stroke-width:0.8;\" x=\"271.292188\" xlink:href=\"#m051f1ff470\" y=\"226.168125\"/>\n      </g>\n     </g>\n     <g id=\"text_82\">\n      <!-- tolazamide -->\n      <g transform=\"translate(208.95 229.967344)scale(0.1 -0.1)\">\n       <use xlink:href=\"#DejaVuSans-116\"/>\n       <use x=\"39.208984\" xlink:href=\"#DejaVuSans-111\"/>\n       <use x=\"100.390625\" xlink:href=\"#DejaVuSans-108\"/>\n       <use x=\"128.173828\" xlink:href=\"#DejaVuSans-97\"/>\n       <use x=\"189.453125\" xlink:href=\"#DejaVuSans-122\"/>\n       <use x=\"241.943359\" xlink:href=\"#DejaVuSans-97\"/>\n       <use x=\"303.222656\" xlink:href=\"#DejaVuSans-109\"/>\n       <use x=\"400.634766\" xlink:href=\"#DejaVuSans-105\"/>\n       <use x=\"428.417969\" xlink:href=\"#DejaVuSans-100\"/>\n       <use x=\"491.894531\" xlink:href=\"#DejaVuSans-101\"/>\n      </g>\n     </g>\n    </g>\n    <g id=\"ytick_75\">\n     <g id=\"line2d_83\">\n      <g>\n       <use style=\"stroke:#000000;stroke-width:0.8;\" x=\"271.292188\" xlink:href=\"#m051f1ff470\" y=\"206.753839\"/>\n      </g>\n     </g>\n     <g id=\"text_83\">\n      <!-- troglitazone -->\n      <g transform=\"translate(204.55625 210.553058)scale(0.1 -0.1)\">\n       <use xlink:href=\"#DejaVuSans-116\"/>\n       <use x=\"39.208984\" xlink:href=\"#DejaVuSans-114\"/>\n       <use x=\"78.072266\" xlink:href=\"#DejaVuSans-111\"/>\n       <use x=\"139.253906\" xlink:href=\"#DejaVuSans-103\"/>\n       <use x=\"202.730469\" xlink:href=\"#DejaVuSans-108\"/>\n       <use x=\"230.513672\" xlink:href=\"#DejaVuSans-105\"/>\n       <use x=\"258.296875\" xlink:href=\"#DejaVuSans-116\"/>\n       <use x=\"297.505859\" xlink:href=\"#DejaVuSans-97\"/>\n       <use x=\"358.785156\" xlink:href=\"#DejaVuSans-122\"/>\n       <use x=\"411.275391\" xlink:href=\"#DejaVuSans-111\"/>\n       <use x=\"472.457031\" xlink:href=\"#DejaVuSans-110\"/>\n       <use x=\"535.835938\" xlink:href=\"#DejaVuSans-101\"/>\n      </g>\n     </g>\n    </g>\n    <g id=\"ytick_76\">\n     <g id=\"line2d_84\">\n      <g>\n       <use style=\"stroke:#000000;stroke-width:0.8;\" x=\"271.292188\" xlink:href=\"#m051f1ff470\" y=\"187.339554\"/>\n      </g>\n     </g>\n     <g id=\"text_84\">\n      <!-- acarbose -->\n      <g transform=\"translate(218.596875 191.138772)scale(0.1 -0.1)\">\n       <use xlink:href=\"#DejaVuSans-97\"/>\n       <use x=\"61.279297\" xlink:href=\"#DejaVuSans-99\"/>\n       <use x=\"116.259766\" xlink:href=\"#DejaVuSans-97\"/>\n       <use x=\"177.539062\" xlink:href=\"#DejaVuSans-114\"/>\n       <use x=\"218.652344\" xlink:href=\"#DejaVuSans-98\"/>\n       <use x=\"282.128906\" xlink:href=\"#DejaVuSans-111\"/>\n       <use x=\"343.310547\" xlink:href=\"#DejaVuSans-115\"/>\n       <use x=\"395.410156\" xlink:href=\"#DejaVuSans-101\"/>\n      </g>\n     </g>\n    </g>\n    <g id=\"ytick_77\">\n     <g id=\"line2d_85\">\n      <g>\n       <use style=\"stroke:#000000;stroke-width:0.8;\" x=\"271.292188\" xlink:href=\"#m051f1ff470\" y=\"167.925268\"/>\n      </g>\n     </g>\n     <g id=\"text_85\">\n      <!-- rosiglitazone -->\n      <g transform=\"translate(200.489063 171.724487)scale(0.1 -0.1)\">\n       <use xlink:href=\"#DejaVuSans-114\"/>\n       <use x=\"38.863281\" xlink:href=\"#DejaVuSans-111\"/>\n       <use x=\"100.044922\" xlink:href=\"#DejaVuSans-115\"/>\n       <use x=\"152.144531\" xlink:href=\"#DejaVuSans-105\"/>\n       <use x=\"179.927734\" xlink:href=\"#DejaVuSans-103\"/>\n       <use x=\"243.404297\" xlink:href=\"#DejaVuSans-108\"/>\n       <use x=\"271.1875\" xlink:href=\"#DejaVuSans-105\"/>\n       <use x=\"298.970703\" xlink:href=\"#DejaVuSans-116\"/>\n       <use x=\"338.179688\" xlink:href=\"#DejaVuSans-97\"/>\n       <use x=\"399.458984\" xlink:href=\"#DejaVuSans-122\"/>\n       <use x=\"451.949219\" xlink:href=\"#DejaVuSans-111\"/>\n       <use x=\"513.130859\" xlink:href=\"#DejaVuSans-110\"/>\n       <use x=\"576.509766\" xlink:href=\"#DejaVuSans-101\"/>\n      </g>\n     </g>\n    </g>\n    <g id=\"ytick_78\">\n     <g id=\"line2d_86\">\n      <g>\n       <use style=\"stroke:#000000;stroke-width:0.8;\" x=\"271.292188\" xlink:href=\"#m051f1ff470\" y=\"148.510982\"/>\n      </g>\n     </g>\n     <g id=\"text_86\">\n      <!-- pioglitazone -->\n      <g transform=\"translate(203.235938 152.310201)scale(0.1 -0.1)\">\n       <use xlink:href=\"#DejaVuSans-112\"/>\n       <use x=\"63.476562\" xlink:href=\"#DejaVuSans-105\"/>\n       <use x=\"91.259766\" xlink:href=\"#DejaVuSans-111\"/>\n       <use x=\"152.441406\" xlink:href=\"#DejaVuSans-103\"/>\n       <use x=\"215.917969\" xlink:href=\"#DejaVuSans-108\"/>\n       <use x=\"243.701172\" xlink:href=\"#DejaVuSans-105\"/>\n       <use x=\"271.484375\" xlink:href=\"#DejaVuSans-116\"/>\n       <use x=\"310.693359\" xlink:href=\"#DejaVuSans-97\"/>\n       <use x=\"371.972656\" xlink:href=\"#DejaVuSans-122\"/>\n       <use x=\"424.462891\" xlink:href=\"#DejaVuSans-111\"/>\n       <use x=\"485.644531\" xlink:href=\"#DejaVuSans-110\"/>\n       <use x=\"549.023438\" xlink:href=\"#DejaVuSans-101\"/>\n      </g>\n     </g>\n    </g>\n    <g id=\"ytick_79\">\n     <g id=\"line2d_87\">\n      <g>\n       <use style=\"stroke:#000000;stroke-width:0.8;\" x=\"271.292188\" xlink:href=\"#m051f1ff470\" y=\"129.096696\"/>\n      </g>\n     </g>\n     <g id=\"text_87\">\n      <!-- glipizide -->\n      <g transform=\"translate(222.732813 132.895915)scale(0.1 -0.1)\">\n       <use xlink:href=\"#DejaVuSans-103\"/>\n       <use x=\"63.476562\" xlink:href=\"#DejaVuSans-108\"/>\n       <use x=\"91.259766\" xlink:href=\"#DejaVuSans-105\"/>\n       <use x=\"119.042969\" xlink:href=\"#DejaVuSans-112\"/>\n       <use x=\"182.519531\" xlink:href=\"#DejaVuSans-105\"/>\n       <use x=\"210.302734\" xlink:href=\"#DejaVuSans-122\"/>\n       <use x=\"262.792969\" xlink:href=\"#DejaVuSans-105\"/>\n       <use x=\"290.576172\" xlink:href=\"#DejaVuSans-100\"/>\n       <use x=\"354.052734\" xlink:href=\"#DejaVuSans-101\"/>\n      </g>\n     </g>\n    </g>\n    <g id=\"ytick_80\">\n     <g id=\"line2d_88\">\n      <g>\n       <use style=\"stroke:#000000;stroke-width:0.8;\" x=\"271.292188\" xlink:href=\"#m051f1ff470\" y=\"109.682411\"/>\n      </g>\n     </g>\n     <g id=\"text_88\">\n      <!-- miglitol -->\n      <g transform=\"translate(227.051563 113.481629)scale(0.1 -0.1)\">\n       <use xlink:href=\"#DejaVuSans-109\"/>\n       <use x=\"97.412109\" xlink:href=\"#DejaVuSans-105\"/>\n       <use x=\"125.195312\" xlink:href=\"#DejaVuSans-103\"/>\n       <use x=\"188.671875\" xlink:href=\"#DejaVuSans-108\"/>\n       <use x=\"216.455078\" xlink:href=\"#DejaVuSans-105\"/>\n       <use x=\"244.238281\" xlink:href=\"#DejaVuSans-116\"/>\n       <use x=\"283.447266\" xlink:href=\"#DejaVuSans-111\"/>\n       <use x=\"344.628906\" xlink:href=\"#DejaVuSans-108\"/>\n      </g>\n     </g>\n    </g>\n    <g id=\"ytick_81\">\n     <g id=\"line2d_89\">\n      <g>\n       <use style=\"stroke:#000000;stroke-width:0.8;\" x=\"271.292188\" xlink:href=\"#m051f1ff470\" y=\"90.268125\"/>\n      </g>\n     </g>\n     <g id=\"text_89\">\n      <!-- chlorpropamide -->\n      <g transform=\"translate(185.598438 94.067344)scale(0.1 -0.1)\">\n       <use xlink:href=\"#DejaVuSans-99\"/>\n       <use x=\"54.980469\" xlink:href=\"#DejaVuSans-104\"/>\n       <use x=\"118.359375\" xlink:href=\"#DejaVuSans-108\"/>\n       <use x=\"146.142578\" xlink:href=\"#DejaVuSans-111\"/>\n       <use x=\"207.324219\" xlink:href=\"#DejaVuSans-114\"/>\n       <use x=\"248.4375\" xlink:href=\"#DejaVuSans-112\"/>\n       <use x=\"311.914062\" xlink:href=\"#DejaVuSans-114\"/>\n       <use x=\"350.777344\" xlink:href=\"#DejaVuSans-111\"/>\n       <use x=\"411.958984\" xlink:href=\"#DejaVuSans-112\"/>\n       <use x=\"475.435547\" xlink:href=\"#DejaVuSans-97\"/>\n       <use x=\"536.714844\" xlink:href=\"#DejaVuSans-109\"/>\n       <use x=\"634.126953\" xlink:href=\"#DejaVuSans-105\"/>\n       <use x=\"661.910156\" xlink:href=\"#DejaVuSans-100\"/>\n       <use x=\"725.386719\" xlink:href=\"#DejaVuSans-101\"/>\n      </g>\n     </g>\n    </g>\n    <g id=\"ytick_82\">\n     <g id=\"line2d_90\">\n      <g>\n       <use style=\"stroke:#000000;stroke-width:0.8;\" x=\"271.292188\" xlink:href=\"#m051f1ff470\" y=\"70.853839\"/>\n      </g>\n     </g>\n     <g id=\"text_90\">\n      <!-- medical_specialty_Urology -->\n      <g transform=\"translate(131.646875 74.653058)scale(0.1 -0.1)\">\n       <use xlink:href=\"#DejaVuSans-109\"/>\n       <use x=\"97.412109\" xlink:href=\"#DejaVuSans-101\"/>\n       <use x=\"158.935547\" xlink:href=\"#DejaVuSans-100\"/>\n       <use x=\"222.412109\" xlink:href=\"#DejaVuSans-105\"/>\n       <use x=\"250.195312\" xlink:href=\"#DejaVuSans-99\"/>\n       <use x=\"305.175781\" xlink:href=\"#DejaVuSans-97\"/>\n       <use x=\"366.455078\" xlink:href=\"#DejaVuSans-108\"/>\n       <use x=\"394.238281\" xlink:href=\"#DejaVuSans-95\"/>\n       <use x=\"444.238281\" xlink:href=\"#DejaVuSans-115\"/>\n       <use x=\"496.337891\" xlink:href=\"#DejaVuSans-112\"/>\n       <use x=\"559.814453\" xlink:href=\"#DejaVuSans-101\"/>\n       <use x=\"621.337891\" xlink:href=\"#DejaVuSans-99\"/>\n       <use x=\"676.318359\" xlink:href=\"#DejaVuSans-105\"/>\n       <use x=\"704.101562\" xlink:href=\"#DejaVuSans-97\"/>\n       <use x=\"765.380859\" xlink:href=\"#DejaVuSans-108\"/>\n       <use x=\"793.164062\" xlink:href=\"#DejaVuSans-116\"/>\n       <use x=\"832.373047\" xlink:href=\"#DejaVuSans-121\"/>\n       <use x=\"891.552734\" xlink:href=\"#DejaVuSans-95\"/>\n       <use x=\"941.552734\" xlink:href=\"#DejaVuSans-85\"/>\n       <use x=\"1014.746094\" xlink:href=\"#DejaVuSans-114\"/>\n       <use x=\"1053.609375\" xlink:href=\"#DejaVuSans-111\"/>\n       <use x=\"1114.791016\" xlink:href=\"#DejaVuSans-108\"/>\n       <use x=\"1142.574219\" xlink:href=\"#DejaVuSans-111\"/>\n       <use x=\"1203.755859\" xlink:href=\"#DejaVuSans-103\"/>\n       <use x=\"1267.232422\" xlink:href=\"#DejaVuSans-121\"/>\n      </g>\n     </g>\n    </g>\n    <g id=\"ytick_83\">\n     <g id=\"line2d_91\">\n      <g>\n       <use style=\"stroke:#000000;stroke-width:0.8;\" x=\"271.292188\" xlink:href=\"#m051f1ff470\" y=\"51.439554\"/>\n      </g>\n     </g>\n     <g id=\"text_91\">\n      <!-- medical_specialty_ObstetricsandGynecology -->\n      <g transform=\"translate(41.360938 55.238772)scale(0.1 -0.1)\">\n       <use xlink:href=\"#DejaVuSans-109\"/>\n       <use x=\"97.412109\" xlink:href=\"#DejaVuSans-101\"/>\n       <use x=\"158.935547\" xlink:href=\"#DejaVuSans-100\"/>\n       <use x=\"222.412109\" xlink:href=\"#DejaVuSans-105\"/>\n       <use x=\"250.195312\" xlink:href=\"#DejaVuSans-99\"/>\n       <use x=\"305.175781\" xlink:href=\"#DejaVuSans-97\"/>\n       <use x=\"366.455078\" xlink:href=\"#DejaVuSans-108\"/>\n       <use x=\"394.238281\" xlink:href=\"#DejaVuSans-95\"/>\n       <use x=\"444.238281\" xlink:href=\"#DejaVuSans-115\"/>\n       <use x=\"496.337891\" xlink:href=\"#DejaVuSans-112\"/>\n       <use x=\"559.814453\" xlink:href=\"#DejaVuSans-101\"/>\n       <use x=\"621.337891\" xlink:href=\"#DejaVuSans-99\"/>\n       <use x=\"676.318359\" xlink:href=\"#DejaVuSans-105\"/>\n       <use x=\"704.101562\" xlink:href=\"#DejaVuSans-97\"/>\n       <use x=\"765.380859\" xlink:href=\"#DejaVuSans-108\"/>\n       <use x=\"793.164062\" xlink:href=\"#DejaVuSans-116\"/>\n       <use x=\"832.373047\" xlink:href=\"#DejaVuSans-121\"/>\n       <use x=\"891.552734\" xlink:href=\"#DejaVuSans-95\"/>\n       <use x=\"941.552734\" xlink:href=\"#DejaVuSans-79\"/>\n       <use x=\"1020.263672\" xlink:href=\"#DejaVuSans-98\"/>\n       <use x=\"1083.740234\" xlink:href=\"#DejaVuSans-115\"/>\n       <use x=\"1135.839844\" xlink:href=\"#DejaVuSans-116\"/>\n       <use x=\"1175.048828\" xlink:href=\"#DejaVuSans-101\"/>\n       <use x=\"1236.572266\" xlink:href=\"#DejaVuSans-116\"/>\n       <use x=\"1275.78125\" xlink:href=\"#DejaVuSans-114\"/>\n       <use x=\"1316.894531\" xlink:href=\"#DejaVuSans-105\"/>\n       <use x=\"1344.677734\" xlink:href=\"#DejaVuSans-99\"/>\n       <use x=\"1399.658203\" xlink:href=\"#DejaVuSans-115\"/>\n       <use x=\"1451.757812\" xlink:href=\"#DejaVuSans-97\"/>\n       <use x=\"1513.037109\" xlink:href=\"#DejaVuSans-110\"/>\n       <use x=\"1576.416016\" xlink:href=\"#DejaVuSans-100\"/>\n       <use x=\"1639.892578\" xlink:href=\"#DejaVuSans-71\"/>\n       <use x=\"1717.382812\" xlink:href=\"#DejaVuSans-121\"/>\n       <use x=\"1776.5625\" xlink:href=\"#DejaVuSans-110\"/>\n       <use x=\"1839.941406\" xlink:href=\"#DejaVuSans-101\"/>\n       <use x=\"1901.464844\" xlink:href=\"#DejaVuSans-99\"/>\n       <use x=\"1956.445312\" xlink:href=\"#DejaVuSans-111\"/>\n       <use x=\"2017.626953\" xlink:href=\"#DejaVuSans-108\"/>\n       <use x=\"2045.410156\" xlink:href=\"#DejaVuSans-111\"/>\n       <use x=\"2106.591797\" xlink:href=\"#DejaVuSans-103\"/>\n       <use x=\"2170.068359\" xlink:href=\"#DejaVuSans-121\"/>\n      </g>\n     </g>\n    </g>\n    <g id=\"ytick_84\">\n     <g id=\"line2d_92\">\n      <g>\n       <use style=\"stroke:#000000;stroke-width:0.8;\" x=\"271.292188\" xlink:href=\"#m051f1ff470\" y=\"32.025268\"/>\n      </g>\n     </g>\n     <g id=\"text_92\">\n      <!-- medical_specialty_Surgery-Cardiovascular/Thoracic -->\n      <g transform=\"translate(7.2 35.824487)scale(0.1 -0.1)\">\n       <use xlink:href=\"#DejaVuSans-109\"/>\n       <use x=\"97.412109\" xlink:href=\"#DejaVuSans-101\"/>\n       <use x=\"158.935547\" xlink:href=\"#DejaVuSans-100\"/>\n       <use x=\"222.412109\" xlink:href=\"#DejaVuSans-105\"/>\n       <use x=\"250.195312\" xlink:href=\"#DejaVuSans-99\"/>\n       <use x=\"305.175781\" xlink:href=\"#DejaVuSans-97\"/>\n       <use x=\"366.455078\" xlink:href=\"#DejaVuSans-108\"/>\n       <use x=\"394.238281\" xlink:href=\"#DejaVuSans-95\"/>\n       <use x=\"444.238281\" xlink:href=\"#DejaVuSans-115\"/>\n       <use x=\"496.337891\" xlink:href=\"#DejaVuSans-112\"/>\n       <use x=\"559.814453\" xlink:href=\"#DejaVuSans-101\"/>\n       <use x=\"621.337891\" xlink:href=\"#DejaVuSans-99\"/>\n       <use x=\"676.318359\" xlink:href=\"#DejaVuSans-105\"/>\n       <use x=\"704.101562\" xlink:href=\"#DejaVuSans-97\"/>\n       <use x=\"765.380859\" xlink:href=\"#DejaVuSans-108\"/>\n       <use x=\"793.164062\" xlink:href=\"#DejaVuSans-116\"/>\n       <use x=\"832.373047\" xlink:href=\"#DejaVuSans-121\"/>\n       <use x=\"891.552734\" xlink:href=\"#DejaVuSans-95\"/>\n       <use x=\"941.552734\" xlink:href=\"#DejaVuSans-83\"/>\n       <use x=\"1005.029297\" xlink:href=\"#DejaVuSans-117\"/>\n       <use x=\"1068.408203\" xlink:href=\"#DejaVuSans-114\"/>\n       <use x=\"1107.771484\" xlink:href=\"#DejaVuSans-103\"/>\n       <use x=\"1171.248047\" xlink:href=\"#DejaVuSans-101\"/>\n       <use x=\"1232.771484\" xlink:href=\"#DejaVuSans-114\"/>\n       <use x=\"1273.884766\" xlink:href=\"#DejaVuSans-121\"/>\n       <use x=\"1331.314453\" xlink:href=\"#DejaVuSans-45\"/>\n       <use x=\"1367.398438\" xlink:href=\"#DejaVuSans-67\"/>\n       <use x=\"1437.222656\" xlink:href=\"#DejaVuSans-97\"/>\n       <use x=\"1498.501953\" xlink:href=\"#DejaVuSans-114\"/>\n       <use x=\"1537.865234\" xlink:href=\"#DejaVuSans-100\"/>\n       <use x=\"1601.341797\" xlink:href=\"#DejaVuSans-105\"/>\n       <use x=\"1629.125\" xlink:href=\"#DejaVuSans-111\"/>\n       <use x=\"1690.306641\" xlink:href=\"#DejaVuSans-118\"/>\n       <use x=\"1749.486328\" xlink:href=\"#DejaVuSans-97\"/>\n       <use x=\"1810.765625\" xlink:href=\"#DejaVuSans-115\"/>\n       <use x=\"1862.865234\" xlink:href=\"#DejaVuSans-99\"/>\n       <use x=\"1917.845703\" xlink:href=\"#DejaVuSans-117\"/>\n       <use x=\"1981.224609\" xlink:href=\"#DejaVuSans-108\"/>\n       <use x=\"2009.007812\" xlink:href=\"#DejaVuSans-97\"/>\n       <use x=\"2070.287109\" xlink:href=\"#DejaVuSans-114\"/>\n       <use x=\"2111.400391\" xlink:href=\"#DejaVuSans-47\"/>\n       <use x=\"2145.091797\" xlink:href=\"#DejaVuSans-84\"/>\n       <use x=\"2206.175781\" xlink:href=\"#DejaVuSans-104\"/>\n       <use x=\"2269.554688\" xlink:href=\"#DejaVuSans-111\"/>\n       <use x=\"2330.736328\" xlink:href=\"#DejaVuSans-114\"/>\n       <use x=\"2371.849609\" xlink:href=\"#DejaVuSans-97\"/>\n       <use x=\"2433.128906\" xlink:href=\"#DejaVuSans-99\"/>\n       <use x=\"2488.109375\" xlink:href=\"#DejaVuSans-105\"/>\n       <use x=\"2515.892578\" xlink:href=\"#DejaVuSans-99\"/>\n      </g>\n     </g>\n    </g>\n   </g>\n   <g id=\"line2d_93\">\n    <path clip-path=\"url(#p78c4e028de)\" d=\"M 335.676803 1648.264554 \nL 335.676803 1638.557411 \nL 374.697782 1638.557411 \nL 374.697782 1648.264554 \nL 335.676803 1648.264554 \n\" style=\"fill:none;stroke:#000000;stroke-linecap:square;\"/>\n   </g>\n   <g id=\"line2d_94\">\n    <path clip-path=\"url(#p78c4e028de)\" d=\"M 335.676803 1643.410982 \nL 296.655824 1643.410982 \n\" style=\"fill:none;stroke:#000000;stroke-linecap:square;\"/>\n   </g>\n   <g id=\"line2d_95\">\n    <path clip-path=\"url(#p78c4e028de)\" d=\"M 374.697782 1643.410982 \nL 413.718761 1643.410982 \n\" style=\"fill:none;stroke:#000000;stroke-linecap:square;\"/>\n   </g>\n   <g id=\"line2d_96\">\n    <path clip-path=\"url(#p78c4e028de)\" d=\"M 296.655824 1645.837768 \nL 296.655824 1640.984196 \n\" style=\"fill:none;stroke:#000000;stroke-linecap:square;\"/>\n   </g>\n   <g id=\"line2d_97\">\n    <path clip-path=\"url(#p78c4e028de)\" d=\"M 413.718761 1645.837768 \nL 413.718761 1640.984196 \n\" style=\"fill:none;stroke:#000000;stroke-linecap:square;\"/>\n   </g>\n   <g id=\"line2d_98\"/>\n   <g id=\"line2d_99\">\n    <path clip-path=\"url(#p78c4e028de)\" d=\"M 413.718761 1628.850268 \nL 413.718761 1619.143125 \nL 413.718761 1619.143125 \nL 413.718761 1628.850268 \nL 413.718761 1628.850268 \n\" style=\"fill:none;stroke:#000000;stroke-linecap:square;\"/>\n   </g>\n   <g id=\"line2d_100\">\n    <path clip-path=\"url(#p78c4e028de)\" d=\"M 413.718761 1623.996696 \nL 413.718761 1623.996696 \n\" style=\"fill:none;stroke:#000000;stroke-linecap:square;\"/>\n   </g>\n   <g id=\"line2d_101\">\n    <path clip-path=\"url(#p78c4e028de)\" d=\"M 413.718761 1623.996696 \nL 413.718761 1623.996696 \n\" style=\"fill:none;stroke:#000000;stroke-linecap:square;\"/>\n   </g>\n   <g id=\"line2d_102\">\n    <path clip-path=\"url(#p78c4e028de)\" d=\"M 413.718761 1626.423482 \nL 413.718761 1621.569911 \n\" style=\"fill:none;stroke:#000000;stroke-linecap:square;\"/>\n   </g>\n   <g id=\"line2d_103\">\n    <path clip-path=\"url(#p78c4e028de)\" d=\"M 413.718761 1626.423482 \nL 413.718761 1621.569911 \n\" style=\"fill:none;stroke:#000000;stroke-linecap:square;\"/>\n   </g>\n   <g id=\"line2d_104\">\n    <defs>\n     <path d=\"M 0 3 \nC 0.795609 3 1.55874 2.683901 2.12132 2.12132 \nC 2.683901 1.55874 3 0.795609 3 0 \nC 3 -0.795609 2.683901 -1.55874 2.12132 -2.12132 \nC 1.55874 -2.683901 0.795609 -3 0 -3 \nC -0.795609 -3 -1.55874 -2.683901 -2.12132 -2.12132 \nC -2.683901 -1.55874 -3 -0.795609 -3 0 \nC -3 0.795609 -2.683901 1.55874 -2.12132 2.12132 \nC -1.55874 2.683901 -0.795609 3 0 3 \nz\n\" id=\"m2b85d5d29e\" style=\"stroke:#000000;\"/>\n    </defs>\n    <g clip-path=\"url(#p78c4e028de)\">\n     <use style=\"fill-opacity:0;stroke:#000000;\" x=\"452.73974\" xlink:href=\"#m2b85d5d29e\" y=\"1623.996696\"/>\n    </g>\n   </g>\n   <g id=\"line2d_105\">\n    <path clip-path=\"url(#p78c4e028de)\" d=\"M 452.73974 1609.435982 \nL 452.73974 1599.728839 \nL 452.73974 1599.728839 \nL 452.73974 1609.435982 \nL 452.73974 1609.435982 \n\" style=\"fill:none;stroke:#000000;stroke-linecap:square;\"/>\n   </g>\n   <g id=\"line2d_106\">\n    <path clip-path=\"url(#p78c4e028de)\" d=\"M 452.73974 1604.582411 \nL 452.73974 1604.582411 \n\" style=\"fill:none;stroke:#000000;stroke-linecap:square;\"/>\n   </g>\n   <g id=\"line2d_107\">\n    <path clip-path=\"url(#p78c4e028de)\" d=\"M 452.73974 1604.582411 \nL 452.73974 1604.582411 \n\" style=\"fill:none;stroke:#000000;stroke-linecap:square;\"/>\n   </g>\n   <g id=\"line2d_108\">\n    <path clip-path=\"url(#p78c4e028de)\" d=\"M 452.73974 1607.009196 \nL 452.73974 1602.155625 \n\" style=\"fill:none;stroke:#000000;stroke-linecap:square;\"/>\n   </g>\n   <g id=\"line2d_109\">\n    <path clip-path=\"url(#p78c4e028de)\" d=\"M 452.73974 1607.009196 \nL 452.73974 1602.155625 \n\" style=\"fill:none;stroke:#000000;stroke-linecap:square;\"/>\n   </g>\n   <g id=\"line2d_110\"/>\n   <g id=\"line2d_111\">\n    <path clip-path=\"url(#p78c4e028de)\" d=\"M 452.73974 1590.021696 \nL 452.73974 1580.314554 \nL 452.73974 1580.314554 \nL 452.73974 1590.021696 \nL 452.73974 1590.021696 \n\" style=\"fill:none;stroke:#000000;stroke-linecap:square;\"/>\n   </g>\n   <g id=\"line2d_112\">\n    <path clip-path=\"url(#p78c4e028de)\" d=\"M 452.73974 1585.168125 \nL 452.73974 1585.168125 \n\" style=\"fill:none;stroke:#000000;stroke-linecap:square;\"/>\n   </g>\n   <g id=\"line2d_113\">\n    <path clip-path=\"url(#p78c4e028de)\" d=\"M 452.73974 1585.168125 \nL 452.73974 1585.168125 \n\" style=\"fill:none;stroke:#000000;stroke-linecap:square;\"/>\n   </g>\n   <g id=\"line2d_114\">\n    <path clip-path=\"url(#p78c4e028de)\" d=\"M 452.73974 1587.594911 \nL 452.73974 1582.741339 \n\" style=\"fill:none;stroke:#000000;stroke-linecap:square;\"/>\n   </g>\n   <g id=\"line2d_115\">\n    <path clip-path=\"url(#p78c4e028de)\" d=\"M 452.73974 1587.594911 \nL 452.73974 1582.741339 \n\" style=\"fill:none;stroke:#000000;stroke-linecap:square;\"/>\n   </g>\n   <g id=\"line2d_116\"/>\n   <g id=\"line2d_117\">\n    <path clip-path=\"url(#p78c4e028de)\" d=\"M 452.73974 1570.607411 \nL 452.73974 1560.900268 \nL 452.73974 1560.900268 \nL 452.73974 1570.607411 \nL 452.73974 1570.607411 \n\" style=\"fill:none;stroke:#000000;stroke-linecap:square;\"/>\n   </g>\n   <g id=\"line2d_118\">\n    <path clip-path=\"url(#p78c4e028de)\" d=\"M 452.73974 1565.753839 \nL 452.73974 1565.753839 \n\" style=\"fill:none;stroke:#000000;stroke-linecap:square;\"/>\n   </g>\n   <g id=\"line2d_119\">\n    <path clip-path=\"url(#p78c4e028de)\" d=\"M 452.73974 1565.753839 \nL 452.73974 1565.753839 \n\" style=\"fill:none;stroke:#000000;stroke-linecap:square;\"/>\n   </g>\n   <g id=\"line2d_120\">\n    <path clip-path=\"url(#p78c4e028de)\" d=\"M 452.73974 1568.180625 \nL 452.73974 1563.327054 \n\" style=\"fill:none;stroke:#000000;stroke-linecap:square;\"/>\n   </g>\n   <g id=\"line2d_121\">\n    <path clip-path=\"url(#p78c4e028de)\" d=\"M 452.73974 1568.180625 \nL 452.73974 1563.327054 \n\" style=\"fill:none;stroke:#000000;stroke-linecap:square;\"/>\n   </g>\n   <g id=\"line2d_122\"/>\n   <g id=\"line2d_123\">\n    <path clip-path=\"url(#p78c4e028de)\" d=\"M 452.73974 1551.193125 \nL 452.73974 1541.485982 \nL 452.73974 1541.485982 \nL 452.73974 1551.193125 \nL 452.73974 1551.193125 \n\" style=\"fill:none;stroke:#000000;stroke-linecap:square;\"/>\n   </g>\n   <g id=\"line2d_124\">\n    <path clip-path=\"url(#p78c4e028de)\" d=\"M 452.73974 1546.339554 \nL 452.73974 1546.339554 \n\" style=\"fill:none;stroke:#000000;stroke-linecap:square;\"/>\n   </g>\n   <g id=\"line2d_125\">\n    <path clip-path=\"url(#p78c4e028de)\" d=\"M 452.73974 1546.339554 \nL 452.73974 1546.339554 \n\" style=\"fill:none;stroke:#000000;stroke-linecap:square;\"/>\n   </g>\n   <g id=\"line2d_126\">\n    <path clip-path=\"url(#p78c4e028de)\" d=\"M 452.73974 1548.766339 \nL 452.73974 1543.912768 \n\" style=\"fill:none;stroke:#000000;stroke-linecap:square;\"/>\n   </g>\n   <g id=\"line2d_127\">\n    <path clip-path=\"url(#p78c4e028de)\" d=\"M 452.73974 1548.766339 \nL 452.73974 1543.912768 \n\" style=\"fill:none;stroke:#000000;stroke-linecap:square;\"/>\n   </g>\n   <g id=\"line2d_128\"/>\n   <g id=\"line2d_129\">\n    <path clip-path=\"url(#p78c4e028de)\" d=\"M 452.73974 1531.778839 \nL 452.73974 1522.071696 \nL 452.73974 1522.071696 \nL 452.73974 1531.778839 \nL 452.73974 1531.778839 \n\" style=\"fill:none;stroke:#000000;stroke-linecap:square;\"/>\n   </g>\n   <g id=\"line2d_130\">\n    <path clip-path=\"url(#p78c4e028de)\" d=\"M 452.73974 1526.925268 \nL 452.73974 1526.925268 \n\" style=\"fill:none;stroke:#000000;stroke-linecap:square;\"/>\n   </g>\n   <g id=\"line2d_131\">\n    <path clip-path=\"url(#p78c4e028de)\" d=\"M 452.73974 1526.925268 \nL 452.73974 1526.925268 \n\" style=\"fill:none;stroke:#000000;stroke-linecap:square;\"/>\n   </g>\n   <g id=\"line2d_132\">\n    <path clip-path=\"url(#p78c4e028de)\" d=\"M 452.73974 1529.352054 \nL 452.73974 1524.498482 \n\" style=\"fill:none;stroke:#000000;stroke-linecap:square;\"/>\n   </g>\n   <g id=\"line2d_133\">\n    <path clip-path=\"url(#p78c4e028de)\" d=\"M 452.73974 1529.352054 \nL 452.73974 1524.498482 \n\" style=\"fill:none;stroke:#000000;stroke-linecap:square;\"/>\n   </g>\n   <g id=\"line2d_134\"/>\n   <g id=\"line2d_135\">\n    <path clip-path=\"url(#p78c4e028de)\" d=\"M 452.73974 1512.364554 \nL 452.73974 1502.657411 \nL 452.73974 1502.657411 \nL 452.73974 1512.364554 \nL 452.73974 1512.364554 \n\" style=\"fill:none;stroke:#000000;stroke-linecap:square;\"/>\n   </g>\n   <g id=\"line2d_136\">\n    <path clip-path=\"url(#p78c4e028de)\" d=\"M 452.73974 1507.510982 \nL 452.73974 1507.510982 \n\" style=\"fill:none;stroke:#000000;stroke-linecap:square;\"/>\n   </g>\n   <g id=\"line2d_137\">\n    <path clip-path=\"url(#p78c4e028de)\" d=\"M 452.73974 1507.510982 \nL 452.73974 1507.510982 \n\" style=\"fill:none;stroke:#000000;stroke-linecap:square;\"/>\n   </g>\n   <g id=\"line2d_138\">\n    <path clip-path=\"url(#p78c4e028de)\" d=\"M 452.73974 1509.937768 \nL 452.73974 1505.084196 \n\" style=\"fill:none;stroke:#000000;stroke-linecap:square;\"/>\n   </g>\n   <g id=\"line2d_139\">\n    <path clip-path=\"url(#p78c4e028de)\" d=\"M 452.73974 1509.937768 \nL 452.73974 1505.084196 \n\" style=\"fill:none;stroke:#000000;stroke-linecap:square;\"/>\n   </g>\n   <g id=\"line2d_140\"/>\n   <g id=\"line2d_141\">\n    <path clip-path=\"url(#p78c4e028de)\" d=\"M 452.73974 1492.950268 \nL 452.73974 1483.243125 \nL 452.73974 1483.243125 \nL 452.73974 1492.950268 \nL 452.73974 1492.950268 \n\" style=\"fill:none;stroke:#000000;stroke-linecap:square;\"/>\n   </g>\n   <g id=\"line2d_142\">\n    <path clip-path=\"url(#p78c4e028de)\" d=\"M 452.73974 1488.096696 \nL 452.73974 1488.096696 \n\" style=\"fill:none;stroke:#000000;stroke-linecap:square;\"/>\n   </g>\n   <g id=\"line2d_143\">\n    <path clip-path=\"url(#p78c4e028de)\" d=\"M 452.73974 1488.096696 \nL 452.73974 1488.096696 \n\" style=\"fill:none;stroke:#000000;stroke-linecap:square;\"/>\n   </g>\n   <g id=\"line2d_144\">\n    <path clip-path=\"url(#p78c4e028de)\" d=\"M 452.73974 1490.523482 \nL 452.73974 1485.669911 \n\" style=\"fill:none;stroke:#000000;stroke-linecap:square;\"/>\n   </g>\n   <g id=\"line2d_145\">\n    <path clip-path=\"url(#p78c4e028de)\" d=\"M 452.73974 1490.523482 \nL 452.73974 1485.669911 \n\" style=\"fill:none;stroke:#000000;stroke-linecap:square;\"/>\n   </g>\n   <g id=\"line2d_146\"/>\n   <g id=\"line2d_147\">\n    <path clip-path=\"url(#p78c4e028de)\" d=\"M 452.73974 1473.535982 \nL 452.73974 1463.828839 \nL 452.73974 1463.828839 \nL 452.73974 1473.535982 \nL 452.73974 1473.535982 \n\" style=\"fill:none;stroke:#000000;stroke-linecap:square;\"/>\n   </g>\n   <g id=\"line2d_148\">\n    <path clip-path=\"url(#p78c4e028de)\" d=\"M 452.73974 1468.682411 \nL 452.73974 1468.682411 \n\" style=\"fill:none;stroke:#000000;stroke-linecap:square;\"/>\n   </g>\n   <g id=\"line2d_149\">\n    <path clip-path=\"url(#p78c4e028de)\" d=\"M 452.73974 1468.682411 \nL 452.73974 1468.682411 \n\" style=\"fill:none;stroke:#000000;stroke-linecap:square;\"/>\n   </g>\n   <g id=\"line2d_150\">\n    <path clip-path=\"url(#p78c4e028de)\" d=\"M 452.73974 1471.109196 \nL 452.73974 1466.255625 \n\" style=\"fill:none;stroke:#000000;stroke-linecap:square;\"/>\n   </g>\n   <g id=\"line2d_151\">\n    <path clip-path=\"url(#p78c4e028de)\" d=\"M 452.73974 1471.109196 \nL 452.73974 1466.255625 \n\" style=\"fill:none;stroke:#000000;stroke-linecap:square;\"/>\n   </g>\n   <g id=\"line2d_152\"/>\n   <g id=\"line2d_153\">\n    <path clip-path=\"url(#p78c4e028de)\" d=\"M 452.73974 1454.121696 \nL 452.73974 1444.414554 \nL 452.73974 1444.414554 \nL 452.73974 1454.121696 \nL 452.73974 1454.121696 \n\" style=\"fill:none;stroke:#000000;stroke-linecap:square;\"/>\n   </g>\n   <g id=\"line2d_154\">\n    <path clip-path=\"url(#p78c4e028de)\" d=\"M 452.73974 1449.268125 \nL 452.73974 1449.268125 \n\" style=\"fill:none;stroke:#000000;stroke-linecap:square;\"/>\n   </g>\n   <g id=\"line2d_155\">\n    <path clip-path=\"url(#p78c4e028de)\" d=\"M 452.73974 1449.268125 \nL 452.73974 1449.268125 \n\" style=\"fill:none;stroke:#000000;stroke-linecap:square;\"/>\n   </g>\n   <g id=\"line2d_156\">\n    <path clip-path=\"url(#p78c4e028de)\" d=\"M 452.73974 1451.694911 \nL 452.73974 1446.841339 \n\" style=\"fill:none;stroke:#000000;stroke-linecap:square;\"/>\n   </g>\n   <g id=\"line2d_157\">\n    <path clip-path=\"url(#p78c4e028de)\" d=\"M 452.73974 1451.694911 \nL 452.73974 1446.841339 \n\" style=\"fill:none;stroke:#000000;stroke-linecap:square;\"/>\n   </g>\n   <g id=\"line2d_158\"/>\n   <g id=\"line2d_159\">\n    <path clip-path=\"url(#p78c4e028de)\" d=\"M 452.73974 1434.707411 \nL 452.73974 1425.000268 \nL 452.73974 1425.000268 \nL 452.73974 1434.707411 \nL 452.73974 1434.707411 \n\" style=\"fill:none;stroke:#000000;stroke-linecap:square;\"/>\n   </g>\n   <g id=\"line2d_160\">\n    <path clip-path=\"url(#p78c4e028de)\" d=\"M 452.73974 1429.853839 \nL 452.73974 1429.853839 \n\" style=\"fill:none;stroke:#000000;stroke-linecap:square;\"/>\n   </g>\n   <g id=\"line2d_161\">\n    <path clip-path=\"url(#p78c4e028de)\" d=\"M 452.73974 1429.853839 \nL 452.73974 1429.853839 \n\" style=\"fill:none;stroke:#000000;stroke-linecap:square;\"/>\n   </g>\n   <g id=\"line2d_162\">\n    <path clip-path=\"url(#p78c4e028de)\" d=\"M 452.73974 1432.280625 \nL 452.73974 1427.427054 \n\" style=\"fill:none;stroke:#000000;stroke-linecap:square;\"/>\n   </g>\n   <g id=\"line2d_163\">\n    <path clip-path=\"url(#p78c4e028de)\" d=\"M 452.73974 1432.280625 \nL 452.73974 1427.427054 \n\" style=\"fill:none;stroke:#000000;stroke-linecap:square;\"/>\n   </g>\n   <g id=\"line2d_164\"/>\n   <g id=\"line2d_165\">\n    <path clip-path=\"url(#p78c4e028de)\" d=\"M 452.73974 1415.293125 \nL 452.73974 1405.585982 \nL 452.73974 1405.585982 \nL 452.73974 1415.293125 \nL 452.73974 1415.293125 \n\" style=\"fill:none;stroke:#000000;stroke-linecap:square;\"/>\n   </g>\n   <g id=\"line2d_166\">\n    <path clip-path=\"url(#p78c4e028de)\" d=\"M 452.73974 1410.439554 \nL 452.73974 1410.439554 \n\" style=\"fill:none;stroke:#000000;stroke-linecap:square;\"/>\n   </g>\n   <g id=\"line2d_167\">\n    <path clip-path=\"url(#p78c4e028de)\" d=\"M 452.73974 1410.439554 \nL 452.73974 1410.439554 \n\" style=\"fill:none;stroke:#000000;stroke-linecap:square;\"/>\n   </g>\n   <g id=\"line2d_168\">\n    <path clip-path=\"url(#p78c4e028de)\" d=\"M 452.73974 1412.866339 \nL 452.73974 1408.012768 \n\" style=\"fill:none;stroke:#000000;stroke-linecap:square;\"/>\n   </g>\n   <g id=\"line2d_169\">\n    <path clip-path=\"url(#p78c4e028de)\" d=\"M 452.73974 1412.866339 \nL 452.73974 1408.012768 \n\" style=\"fill:none;stroke:#000000;stroke-linecap:square;\"/>\n   </g>\n   <g id=\"line2d_170\"/>\n   <g id=\"line2d_171\">\n    <path clip-path=\"url(#p78c4e028de)\" d=\"M 452.73974 1395.878839 \nL 452.73974 1386.171696 \nL 452.73974 1386.171696 \nL 452.73974 1395.878839 \nL 452.73974 1395.878839 \n\" style=\"fill:none;stroke:#000000;stroke-linecap:square;\"/>\n   </g>\n   <g id=\"line2d_172\">\n    <path clip-path=\"url(#p78c4e028de)\" d=\"M 452.73974 1391.025268 \nL 452.73974 1391.025268 \n\" style=\"fill:none;stroke:#000000;stroke-linecap:square;\"/>\n   </g>\n   <g id=\"line2d_173\">\n    <path clip-path=\"url(#p78c4e028de)\" d=\"M 452.73974 1391.025268 \nL 452.73974 1391.025268 \n\" style=\"fill:none;stroke:#000000;stroke-linecap:square;\"/>\n   </g>\n   <g id=\"line2d_174\">\n    <path clip-path=\"url(#p78c4e028de)\" d=\"M 452.73974 1393.452054 \nL 452.73974 1388.598482 \n\" style=\"fill:none;stroke:#000000;stroke-linecap:square;\"/>\n   </g>\n   <g id=\"line2d_175\">\n    <path clip-path=\"url(#p78c4e028de)\" d=\"M 452.73974 1393.452054 \nL 452.73974 1388.598482 \n\" style=\"fill:none;stroke:#000000;stroke-linecap:square;\"/>\n   </g>\n   <g id=\"line2d_176\"/>\n   <g id=\"line2d_177\">\n    <path clip-path=\"url(#p78c4e028de)\" d=\"M 452.73974 1376.464554 \nL 452.73974 1366.757411 \nL 452.73974 1366.757411 \nL 452.73974 1376.464554 \nL 452.73974 1376.464554 \n\" style=\"fill:none;stroke:#000000;stroke-linecap:square;\"/>\n   </g>\n   <g id=\"line2d_178\">\n    <path clip-path=\"url(#p78c4e028de)\" d=\"M 452.73974 1371.610982 \nL 452.73974 1371.610982 \n\" style=\"fill:none;stroke:#000000;stroke-linecap:square;\"/>\n   </g>\n   <g id=\"line2d_179\">\n    <path clip-path=\"url(#p78c4e028de)\" d=\"M 452.73974 1371.610982 \nL 452.73974 1371.610982 \n\" style=\"fill:none;stroke:#000000;stroke-linecap:square;\"/>\n   </g>\n   <g id=\"line2d_180\">\n    <path clip-path=\"url(#p78c4e028de)\" d=\"M 452.73974 1374.037768 \nL 452.73974 1369.184196 \n\" style=\"fill:none;stroke:#000000;stroke-linecap:square;\"/>\n   </g>\n   <g id=\"line2d_181\">\n    <path clip-path=\"url(#p78c4e028de)\" d=\"M 452.73974 1374.037768 \nL 452.73974 1369.184196 \n\" style=\"fill:none;stroke:#000000;stroke-linecap:square;\"/>\n   </g>\n   <g id=\"line2d_182\"/>\n   <g id=\"line2d_183\">\n    <path clip-path=\"url(#p78c4e028de)\" d=\"M 452.73974 1357.050268 \nL 452.73974 1347.343125 \nL 452.73974 1347.343125 \nL 452.73974 1357.050268 \nL 452.73974 1357.050268 \n\" style=\"fill:none;stroke:#000000;stroke-linecap:square;\"/>\n   </g>\n   <g id=\"line2d_184\">\n    <path clip-path=\"url(#p78c4e028de)\" d=\"M 452.73974 1352.196696 \nL 452.73974 1352.196696 \n\" style=\"fill:none;stroke:#000000;stroke-linecap:square;\"/>\n   </g>\n   <g id=\"line2d_185\">\n    <path clip-path=\"url(#p78c4e028de)\" d=\"M 452.73974 1352.196696 \nL 452.73974 1352.196696 \n\" style=\"fill:none;stroke:#000000;stroke-linecap:square;\"/>\n   </g>\n   <g id=\"line2d_186\">\n    <path clip-path=\"url(#p78c4e028de)\" d=\"M 452.73974 1354.623482 \nL 452.73974 1349.769911 \n\" style=\"fill:none;stroke:#000000;stroke-linecap:square;\"/>\n   </g>\n   <g id=\"line2d_187\">\n    <path clip-path=\"url(#p78c4e028de)\" d=\"M 452.73974 1354.623482 \nL 452.73974 1349.769911 \n\" style=\"fill:none;stroke:#000000;stroke-linecap:square;\"/>\n   </g>\n   <g id=\"line2d_188\"/>\n   <g id=\"line2d_189\">\n    <path clip-path=\"url(#p78c4e028de)\" d=\"M 452.73974 1337.635982 \nL 452.73974 1327.928839 \nL 452.73974 1327.928839 \nL 452.73974 1337.635982 \nL 452.73974 1337.635982 \n\" style=\"fill:none;stroke:#000000;stroke-linecap:square;\"/>\n   </g>\n   <g id=\"line2d_190\">\n    <path clip-path=\"url(#p78c4e028de)\" d=\"M 452.73974 1332.782411 \nL 452.73974 1332.782411 \n\" style=\"fill:none;stroke:#000000;stroke-linecap:square;\"/>\n   </g>\n   <g id=\"line2d_191\">\n    <path clip-path=\"url(#p78c4e028de)\" d=\"M 452.73974 1332.782411 \nL 452.73974 1332.782411 \n\" style=\"fill:none;stroke:#000000;stroke-linecap:square;\"/>\n   </g>\n   <g id=\"line2d_192\">\n    <path clip-path=\"url(#p78c4e028de)\" d=\"M 452.73974 1335.209196 \nL 452.73974 1330.355625 \n\" style=\"fill:none;stroke:#000000;stroke-linecap:square;\"/>\n   </g>\n   <g id=\"line2d_193\">\n    <path clip-path=\"url(#p78c4e028de)\" d=\"M 452.73974 1335.209196 \nL 452.73974 1330.355625 \n\" style=\"fill:none;stroke:#000000;stroke-linecap:square;\"/>\n   </g>\n   <g id=\"line2d_194\"/>\n   <g id=\"line2d_195\">\n    <path clip-path=\"url(#p78c4e028de)\" d=\"M 452.73974 1318.221696 \nL 452.73974 1308.514554 \nL 452.73974 1308.514554 \nL 452.73974 1318.221696 \nL 452.73974 1318.221696 \n\" style=\"fill:none;stroke:#000000;stroke-linecap:square;\"/>\n   </g>\n   <g id=\"line2d_196\">\n    <path clip-path=\"url(#p78c4e028de)\" d=\"M 452.73974 1313.368125 \nL 452.73974 1313.368125 \n\" style=\"fill:none;stroke:#000000;stroke-linecap:square;\"/>\n   </g>\n   <g id=\"line2d_197\">\n    <path clip-path=\"url(#p78c4e028de)\" d=\"M 452.73974 1313.368125 \nL 452.73974 1313.368125 \n\" style=\"fill:none;stroke:#000000;stroke-linecap:square;\"/>\n   </g>\n   <g id=\"line2d_198\">\n    <path clip-path=\"url(#p78c4e028de)\" d=\"M 452.73974 1315.794911 \nL 452.73974 1310.941339 \n\" style=\"fill:none;stroke:#000000;stroke-linecap:square;\"/>\n   </g>\n   <g id=\"line2d_199\">\n    <path clip-path=\"url(#p78c4e028de)\" d=\"M 452.73974 1315.794911 \nL 452.73974 1310.941339 \n\" style=\"fill:none;stroke:#000000;stroke-linecap:square;\"/>\n   </g>\n   <g id=\"line2d_200\"/>\n   <g id=\"line2d_201\">\n    <path clip-path=\"url(#p78c4e028de)\" d=\"M 452.73974 1298.807411 \nL 452.73974 1289.100268 \nL 452.73974 1289.100268 \nL 452.73974 1298.807411 \nL 452.73974 1298.807411 \n\" style=\"fill:none;stroke:#000000;stroke-linecap:square;\"/>\n   </g>\n   <g id=\"line2d_202\">\n    <path clip-path=\"url(#p78c4e028de)\" d=\"M 452.73974 1293.953839 \nL 452.73974 1293.953839 \n\" style=\"fill:none;stroke:#000000;stroke-linecap:square;\"/>\n   </g>\n   <g id=\"line2d_203\">\n    <path clip-path=\"url(#p78c4e028de)\" d=\"M 452.73974 1293.953839 \nL 452.73974 1293.953839 \n\" style=\"fill:none;stroke:#000000;stroke-linecap:square;\"/>\n   </g>\n   <g id=\"line2d_204\">\n    <path clip-path=\"url(#p78c4e028de)\" d=\"M 452.73974 1296.380625 \nL 452.73974 1291.527054 \n\" style=\"fill:none;stroke:#000000;stroke-linecap:square;\"/>\n   </g>\n   <g id=\"line2d_205\">\n    <path clip-path=\"url(#p78c4e028de)\" d=\"M 452.73974 1296.380625 \nL 452.73974 1291.527054 \n\" style=\"fill:none;stroke:#000000;stroke-linecap:square;\"/>\n   </g>\n   <g id=\"line2d_206\"/>\n   <g id=\"line2d_207\">\n    <path clip-path=\"url(#p78c4e028de)\" d=\"M 452.73974 1279.393125 \nL 452.73974 1269.685982 \nL 452.73974 1269.685982 \nL 452.73974 1279.393125 \nL 452.73974 1279.393125 \n\" style=\"fill:none;stroke:#000000;stroke-linecap:square;\"/>\n   </g>\n   <g id=\"line2d_208\">\n    <path clip-path=\"url(#p78c4e028de)\" d=\"M 452.73974 1274.539554 \nL 452.73974 1274.539554 \n\" style=\"fill:none;stroke:#000000;stroke-linecap:square;\"/>\n   </g>\n   <g id=\"line2d_209\">\n    <path clip-path=\"url(#p78c4e028de)\" d=\"M 452.73974 1274.539554 \nL 452.73974 1274.539554 \n\" style=\"fill:none;stroke:#000000;stroke-linecap:square;\"/>\n   </g>\n   <g id=\"line2d_210\">\n    <path clip-path=\"url(#p78c4e028de)\" d=\"M 452.73974 1276.966339 \nL 452.73974 1272.112768 \n\" style=\"fill:none;stroke:#000000;stroke-linecap:square;\"/>\n   </g>\n   <g id=\"line2d_211\">\n    <path clip-path=\"url(#p78c4e028de)\" d=\"M 452.73974 1276.966339 \nL 452.73974 1272.112768 \n\" style=\"fill:none;stroke:#000000;stroke-linecap:square;\"/>\n   </g>\n   <g id=\"line2d_212\"/>\n   <g id=\"line2d_213\">\n    <path clip-path=\"url(#p78c4e028de)\" d=\"M 452.73974 1259.978839 \nL 452.73974 1250.271696 \nL 452.73974 1250.271696 \nL 452.73974 1259.978839 \nL 452.73974 1259.978839 \n\" style=\"fill:none;stroke:#000000;stroke-linecap:square;\"/>\n   </g>\n   <g id=\"line2d_214\">\n    <path clip-path=\"url(#p78c4e028de)\" d=\"M 452.73974 1255.125268 \nL 452.73974 1255.125268 \n\" style=\"fill:none;stroke:#000000;stroke-linecap:square;\"/>\n   </g>\n   <g id=\"line2d_215\">\n    <path clip-path=\"url(#p78c4e028de)\" d=\"M 452.73974 1255.125268 \nL 452.73974 1255.125268 \n\" style=\"fill:none;stroke:#000000;stroke-linecap:square;\"/>\n   </g>\n   <g id=\"line2d_216\">\n    <path clip-path=\"url(#p78c4e028de)\" d=\"M 452.73974 1257.552054 \nL 452.73974 1252.698482 \n\" style=\"fill:none;stroke:#000000;stroke-linecap:square;\"/>\n   </g>\n   <g id=\"line2d_217\">\n    <path clip-path=\"url(#p78c4e028de)\" d=\"M 452.73974 1257.552054 \nL 452.73974 1252.698482 \n\" style=\"fill:none;stroke:#000000;stroke-linecap:square;\"/>\n   </g>\n   <g id=\"line2d_218\"/>\n   <g id=\"line2d_219\">\n    <path clip-path=\"url(#p78c4e028de)\" d=\"M 452.73974 1240.564554 \nL 452.73974 1230.857411 \nL 452.73974 1230.857411 \nL 452.73974 1240.564554 \nL 452.73974 1240.564554 \n\" style=\"fill:none;stroke:#000000;stroke-linecap:square;\"/>\n   </g>\n   <g id=\"line2d_220\">\n    <path clip-path=\"url(#p78c4e028de)\" d=\"M 452.73974 1235.710982 \nL 452.73974 1235.710982 \n\" style=\"fill:none;stroke:#000000;stroke-linecap:square;\"/>\n   </g>\n   <g id=\"line2d_221\">\n    <path clip-path=\"url(#p78c4e028de)\" d=\"M 452.73974 1235.710982 \nL 452.73974 1235.710982 \n\" style=\"fill:none;stroke:#000000;stroke-linecap:square;\"/>\n   </g>\n   <g id=\"line2d_222\">\n    <path clip-path=\"url(#p78c4e028de)\" d=\"M 452.73974 1238.137768 \nL 452.73974 1233.284196 \n\" style=\"fill:none;stroke:#000000;stroke-linecap:square;\"/>\n   </g>\n   <g id=\"line2d_223\">\n    <path clip-path=\"url(#p78c4e028de)\" d=\"M 452.73974 1238.137768 \nL 452.73974 1233.284196 \n\" style=\"fill:none;stroke:#000000;stroke-linecap:square;\"/>\n   </g>\n   <g id=\"line2d_224\"/>\n   <g id=\"line2d_225\">\n    <path clip-path=\"url(#p78c4e028de)\" d=\"M 452.73974 1221.150268 \nL 452.73974 1211.443125 \nL 452.73974 1211.443125 \nL 452.73974 1221.150268 \nL 452.73974 1221.150268 \n\" style=\"fill:none;stroke:#000000;stroke-linecap:square;\"/>\n   </g>\n   <g id=\"line2d_226\">\n    <path clip-path=\"url(#p78c4e028de)\" d=\"M 452.73974 1216.296696 \nL 452.73974 1216.296696 \n\" style=\"fill:none;stroke:#000000;stroke-linecap:square;\"/>\n   </g>\n   <g id=\"line2d_227\">\n    <path clip-path=\"url(#p78c4e028de)\" d=\"M 452.73974 1216.296696 \nL 452.73974 1216.296696 \n\" style=\"fill:none;stroke:#000000;stroke-linecap:square;\"/>\n   </g>\n   <g id=\"line2d_228\">\n    <path clip-path=\"url(#p78c4e028de)\" d=\"M 452.73974 1218.723482 \nL 452.73974 1213.869911 \n\" style=\"fill:none;stroke:#000000;stroke-linecap:square;\"/>\n   </g>\n   <g id=\"line2d_229\">\n    <path clip-path=\"url(#p78c4e028de)\" d=\"M 452.73974 1218.723482 \nL 452.73974 1213.869911 \n\" style=\"fill:none;stroke:#000000;stroke-linecap:square;\"/>\n   </g>\n   <g id=\"line2d_230\"/>\n   <g id=\"line2d_231\">\n    <path clip-path=\"url(#p78c4e028de)\" d=\"M 452.73974 1201.735982 \nL 452.73974 1192.028839 \nL 452.73974 1192.028839 \nL 452.73974 1201.735982 \nL 452.73974 1201.735982 \n\" style=\"fill:none;stroke:#000000;stroke-linecap:square;\"/>\n   </g>\n   <g id=\"line2d_232\">\n    <path clip-path=\"url(#p78c4e028de)\" d=\"M 452.73974 1196.882411 \nL 452.73974 1196.882411 \n\" style=\"fill:none;stroke:#000000;stroke-linecap:square;\"/>\n   </g>\n   <g id=\"line2d_233\">\n    <path clip-path=\"url(#p78c4e028de)\" d=\"M 452.73974 1196.882411 \nL 452.73974 1196.882411 \n\" style=\"fill:none;stroke:#000000;stroke-linecap:square;\"/>\n   </g>\n   <g id=\"line2d_234\">\n    <path clip-path=\"url(#p78c4e028de)\" d=\"M 452.73974 1199.309196 \nL 452.73974 1194.455625 \n\" style=\"fill:none;stroke:#000000;stroke-linecap:square;\"/>\n   </g>\n   <g id=\"line2d_235\">\n    <path clip-path=\"url(#p78c4e028de)\" d=\"M 452.73974 1199.309196 \nL 452.73974 1194.455625 \n\" style=\"fill:none;stroke:#000000;stroke-linecap:square;\"/>\n   </g>\n   <g id=\"line2d_236\"/>\n   <g id=\"line2d_237\">\n    <path clip-path=\"url(#p78c4e028de)\" d=\"M 452.73974 1182.321696 \nL 452.73974 1172.614554 \nL 452.73974 1172.614554 \nL 452.73974 1182.321696 \nL 452.73974 1182.321696 \n\" style=\"fill:none;stroke:#000000;stroke-linecap:square;\"/>\n   </g>\n   <g id=\"line2d_238\">\n    <path clip-path=\"url(#p78c4e028de)\" d=\"M 452.73974 1177.468125 \nL 452.73974 1177.468125 \n\" style=\"fill:none;stroke:#000000;stroke-linecap:square;\"/>\n   </g>\n   <g id=\"line2d_239\">\n    <path clip-path=\"url(#p78c4e028de)\" d=\"M 452.73974 1177.468125 \nL 452.73974 1177.468125 \n\" style=\"fill:none;stroke:#000000;stroke-linecap:square;\"/>\n   </g>\n   <g id=\"line2d_240\">\n    <path clip-path=\"url(#p78c4e028de)\" d=\"M 452.73974 1179.894911 \nL 452.73974 1175.041339 \n\" style=\"fill:none;stroke:#000000;stroke-linecap:square;\"/>\n   </g>\n   <g id=\"line2d_241\">\n    <path clip-path=\"url(#p78c4e028de)\" d=\"M 452.73974 1179.894911 \nL 452.73974 1175.041339 \n\" style=\"fill:none;stroke:#000000;stroke-linecap:square;\"/>\n   </g>\n   <g id=\"line2d_242\"/>\n   <g id=\"line2d_243\">\n    <path clip-path=\"url(#p78c4e028de)\" d=\"M 452.73974 1162.907411 \nL 452.73974 1153.200268 \nL 452.73974 1153.200268 \nL 452.73974 1162.907411 \nL 452.73974 1162.907411 \n\" style=\"fill:none;stroke:#000000;stroke-linecap:square;\"/>\n   </g>\n   <g id=\"line2d_244\">\n    <path clip-path=\"url(#p78c4e028de)\" d=\"M 452.73974 1158.053839 \nL 452.73974 1158.053839 \n\" style=\"fill:none;stroke:#000000;stroke-linecap:square;\"/>\n   </g>\n   <g id=\"line2d_245\">\n    <path clip-path=\"url(#p78c4e028de)\" d=\"M 452.73974 1158.053839 \nL 452.73974 1158.053839 \n\" style=\"fill:none;stroke:#000000;stroke-linecap:square;\"/>\n   </g>\n   <g id=\"line2d_246\">\n    <path clip-path=\"url(#p78c4e028de)\" d=\"M 452.73974 1160.480625 \nL 452.73974 1155.627054 \n\" style=\"fill:none;stroke:#000000;stroke-linecap:square;\"/>\n   </g>\n   <g id=\"line2d_247\">\n    <path clip-path=\"url(#p78c4e028de)\" d=\"M 452.73974 1160.480625 \nL 452.73974 1155.627054 \n\" style=\"fill:none;stroke:#000000;stroke-linecap:square;\"/>\n   </g>\n   <g id=\"line2d_248\"/>\n   <g id=\"line2d_249\">\n    <path clip-path=\"url(#p78c4e028de)\" d=\"M 452.73974 1143.493125 \nL 452.73974 1133.785982 \nL 452.73974 1133.785982 \nL 452.73974 1143.493125 \nL 452.73974 1143.493125 \n\" style=\"fill:none;stroke:#000000;stroke-linecap:square;\"/>\n   </g>\n   <g id=\"line2d_250\">\n    <path clip-path=\"url(#p78c4e028de)\" d=\"M 452.73974 1138.639554 \nL 452.73974 1138.639554 \n\" style=\"fill:none;stroke:#000000;stroke-linecap:square;\"/>\n   </g>\n   <g id=\"line2d_251\">\n    <path clip-path=\"url(#p78c4e028de)\" d=\"M 452.73974 1138.639554 \nL 452.73974 1138.639554 \n\" style=\"fill:none;stroke:#000000;stroke-linecap:square;\"/>\n   </g>\n   <g id=\"line2d_252\">\n    <path clip-path=\"url(#p78c4e028de)\" d=\"M 452.73974 1141.066339 \nL 452.73974 1136.212768 \n\" style=\"fill:none;stroke:#000000;stroke-linecap:square;\"/>\n   </g>\n   <g id=\"line2d_253\">\n    <path clip-path=\"url(#p78c4e028de)\" d=\"M 452.73974 1141.066339 \nL 452.73974 1136.212768 \n\" style=\"fill:none;stroke:#000000;stroke-linecap:square;\"/>\n   </g>\n   <g id=\"line2d_254\"/>\n   <g id=\"line2d_255\">\n    <path clip-path=\"url(#p78c4e028de)\" d=\"M 452.73974 1124.078839 \nL 452.73974 1114.371696 \nL 452.73974 1114.371696 \nL 452.73974 1124.078839 \nL 452.73974 1124.078839 \n\" style=\"fill:none;stroke:#000000;stroke-linecap:square;\"/>\n   </g>\n   <g id=\"line2d_256\">\n    <path clip-path=\"url(#p78c4e028de)\" d=\"M 452.73974 1119.225268 \nL 452.73974 1119.225268 \n\" style=\"fill:none;stroke:#000000;stroke-linecap:square;\"/>\n   </g>\n   <g id=\"line2d_257\">\n    <path clip-path=\"url(#p78c4e028de)\" d=\"M 452.73974 1119.225268 \nL 452.73974 1119.225268 \n\" style=\"fill:none;stroke:#000000;stroke-linecap:square;\"/>\n   </g>\n   <g id=\"line2d_258\">\n    <path clip-path=\"url(#p78c4e028de)\" d=\"M 452.73974 1121.652054 \nL 452.73974 1116.798482 \n\" style=\"fill:none;stroke:#000000;stroke-linecap:square;\"/>\n   </g>\n   <g id=\"line2d_259\">\n    <path clip-path=\"url(#p78c4e028de)\" d=\"M 452.73974 1121.652054 \nL 452.73974 1116.798482 \n\" style=\"fill:none;stroke:#000000;stroke-linecap:square;\"/>\n   </g>\n   <g id=\"line2d_260\"/>\n   <g id=\"line2d_261\">\n    <path clip-path=\"url(#p78c4e028de)\" d=\"M 452.73974 1104.664554 \nL 452.73974 1094.957411 \nL 452.73974 1094.957411 \nL 452.73974 1104.664554 \nL 452.73974 1104.664554 \n\" style=\"fill:none;stroke:#000000;stroke-linecap:square;\"/>\n   </g>\n   <g id=\"line2d_262\">\n    <path clip-path=\"url(#p78c4e028de)\" d=\"M 452.73974 1099.810982 \nL 452.73974 1099.810982 \n\" style=\"fill:none;stroke:#000000;stroke-linecap:square;\"/>\n   </g>\n   <g id=\"line2d_263\">\n    <path clip-path=\"url(#p78c4e028de)\" d=\"M 452.73974 1099.810982 \nL 452.73974 1099.810982 \n\" style=\"fill:none;stroke:#000000;stroke-linecap:square;\"/>\n   </g>\n   <g id=\"line2d_264\">\n    <path clip-path=\"url(#p78c4e028de)\" d=\"M 452.73974 1102.237768 \nL 452.73974 1097.384196 \n\" style=\"fill:none;stroke:#000000;stroke-linecap:square;\"/>\n   </g>\n   <g id=\"line2d_265\">\n    <path clip-path=\"url(#p78c4e028de)\" d=\"M 452.73974 1102.237768 \nL 452.73974 1097.384196 \n\" style=\"fill:none;stroke:#000000;stroke-linecap:square;\"/>\n   </g>\n   <g id=\"line2d_266\"/>\n   <g id=\"line2d_267\">\n    <path clip-path=\"url(#p78c4e028de)\" d=\"M 452.73974 1085.250268 \nL 452.73974 1075.543125 \nL 452.73974 1075.543125 \nL 452.73974 1085.250268 \nL 452.73974 1085.250268 \n\" style=\"fill:none;stroke:#000000;stroke-linecap:square;\"/>\n   </g>\n   <g id=\"line2d_268\">\n    <path clip-path=\"url(#p78c4e028de)\" d=\"M 452.73974 1080.396696 \nL 452.73974 1080.396696 \n\" style=\"fill:none;stroke:#000000;stroke-linecap:square;\"/>\n   </g>\n   <g id=\"line2d_269\">\n    <path clip-path=\"url(#p78c4e028de)\" d=\"M 452.73974 1080.396696 \nL 452.73974 1080.396696 \n\" style=\"fill:none;stroke:#000000;stroke-linecap:square;\"/>\n   </g>\n   <g id=\"line2d_270\">\n    <path clip-path=\"url(#p78c4e028de)\" d=\"M 452.73974 1082.823482 \nL 452.73974 1077.969911 \n\" style=\"fill:none;stroke:#000000;stroke-linecap:square;\"/>\n   </g>\n   <g id=\"line2d_271\">\n    <path clip-path=\"url(#p78c4e028de)\" d=\"M 452.73974 1082.823482 \nL 452.73974 1077.969911 \n\" style=\"fill:none;stroke:#000000;stroke-linecap:square;\"/>\n   </g>\n   <g id=\"line2d_272\"/>\n   <g id=\"line2d_273\">\n    <path clip-path=\"url(#p78c4e028de)\" d=\"M 452.73974 1065.835982 \nL 452.73974 1056.128839 \nL 452.73974 1056.128839 \nL 452.73974 1065.835982 \nL 452.73974 1065.835982 \n\" style=\"fill:none;stroke:#000000;stroke-linecap:square;\"/>\n   </g>\n   <g id=\"line2d_274\">\n    <path clip-path=\"url(#p78c4e028de)\" d=\"M 452.73974 1060.982411 \nL 452.73974 1060.982411 \n\" style=\"fill:none;stroke:#000000;stroke-linecap:square;\"/>\n   </g>\n   <g id=\"line2d_275\">\n    <path clip-path=\"url(#p78c4e028de)\" d=\"M 452.73974 1060.982411 \nL 452.73974 1060.982411 \n\" style=\"fill:none;stroke:#000000;stroke-linecap:square;\"/>\n   </g>\n   <g id=\"line2d_276\">\n    <path clip-path=\"url(#p78c4e028de)\" d=\"M 452.73974 1063.409196 \nL 452.73974 1058.555625 \n\" style=\"fill:none;stroke:#000000;stroke-linecap:square;\"/>\n   </g>\n   <g id=\"line2d_277\">\n    <path clip-path=\"url(#p78c4e028de)\" d=\"M 452.73974 1063.409196 \nL 452.73974 1058.555625 \n\" style=\"fill:none;stroke:#000000;stroke-linecap:square;\"/>\n   </g>\n   <g id=\"line2d_278\"/>\n   <g id=\"line2d_279\">\n    <path clip-path=\"url(#p78c4e028de)\" d=\"M 452.73974 1046.421696 \nL 452.73974 1036.714554 \nL 452.73974 1036.714554 \nL 452.73974 1046.421696 \nL 452.73974 1046.421696 \n\" style=\"fill:none;stroke:#000000;stroke-linecap:square;\"/>\n   </g>\n   <g id=\"line2d_280\">\n    <path clip-path=\"url(#p78c4e028de)\" d=\"M 452.73974 1041.568125 \nL 452.73974 1041.568125 \n\" style=\"fill:none;stroke:#000000;stroke-linecap:square;\"/>\n   </g>\n   <g id=\"line2d_281\">\n    <path clip-path=\"url(#p78c4e028de)\" d=\"M 452.73974 1041.568125 \nL 452.73974 1041.568125 \n\" style=\"fill:none;stroke:#000000;stroke-linecap:square;\"/>\n   </g>\n   <g id=\"line2d_282\">\n    <path clip-path=\"url(#p78c4e028de)\" d=\"M 452.73974 1043.994911 \nL 452.73974 1039.141339 \n\" style=\"fill:none;stroke:#000000;stroke-linecap:square;\"/>\n   </g>\n   <g id=\"line2d_283\">\n    <path clip-path=\"url(#p78c4e028de)\" d=\"M 452.73974 1043.994911 \nL 452.73974 1039.141339 \n\" style=\"fill:none;stroke:#000000;stroke-linecap:square;\"/>\n   </g>\n   <g id=\"line2d_284\"/>\n   <g id=\"line2d_285\">\n    <path clip-path=\"url(#p78c4e028de)\" d=\"M 452.73974 1027.007411 \nL 452.73974 1017.300268 \nL 452.73974 1017.300268 \nL 452.73974 1027.007411 \nL 452.73974 1027.007411 \n\" style=\"fill:none;stroke:#000000;stroke-linecap:square;\"/>\n   </g>\n   <g id=\"line2d_286\">\n    <path clip-path=\"url(#p78c4e028de)\" d=\"M 452.73974 1022.153839 \nL 452.73974 1022.153839 \n\" style=\"fill:none;stroke:#000000;stroke-linecap:square;\"/>\n   </g>\n   <g id=\"line2d_287\">\n    <path clip-path=\"url(#p78c4e028de)\" d=\"M 452.73974 1022.153839 \nL 452.73974 1022.153839 \n\" style=\"fill:none;stroke:#000000;stroke-linecap:square;\"/>\n   </g>\n   <g id=\"line2d_288\">\n    <path clip-path=\"url(#p78c4e028de)\" d=\"M 452.73974 1024.580625 \nL 452.73974 1019.727054 \n\" style=\"fill:none;stroke:#000000;stroke-linecap:square;\"/>\n   </g>\n   <g id=\"line2d_289\">\n    <path clip-path=\"url(#p78c4e028de)\" d=\"M 452.73974 1024.580625 \nL 452.73974 1019.727054 \n\" style=\"fill:none;stroke:#000000;stroke-linecap:square;\"/>\n   </g>\n   <g id=\"line2d_290\"/>\n   <g id=\"line2d_291\">\n    <path clip-path=\"url(#p78c4e028de)\" d=\"M 452.73974 1007.593125 \nL 452.73974 997.885982 \nL 452.73974 997.885982 \nL 452.73974 1007.593125 \nL 452.73974 1007.593125 \n\" style=\"fill:none;stroke:#000000;stroke-linecap:square;\"/>\n   </g>\n   <g id=\"line2d_292\">\n    <path clip-path=\"url(#p78c4e028de)\" d=\"M 452.73974 1002.739554 \nL 452.73974 1002.739554 \n\" style=\"fill:none;stroke:#000000;stroke-linecap:square;\"/>\n   </g>\n   <g id=\"line2d_293\">\n    <path clip-path=\"url(#p78c4e028de)\" d=\"M 452.73974 1002.739554 \nL 452.73974 1002.739554 \n\" style=\"fill:none;stroke:#000000;stroke-linecap:square;\"/>\n   </g>\n   <g id=\"line2d_294\">\n    <path clip-path=\"url(#p78c4e028de)\" d=\"M 452.73974 1005.166339 \nL 452.73974 1000.312768 \n\" style=\"fill:none;stroke:#000000;stroke-linecap:square;\"/>\n   </g>\n   <g id=\"line2d_295\">\n    <path clip-path=\"url(#p78c4e028de)\" d=\"M 452.73974 1005.166339 \nL 452.73974 1000.312768 \n\" style=\"fill:none;stroke:#000000;stroke-linecap:square;\"/>\n   </g>\n   <g id=\"line2d_296\"/>\n   <g id=\"line2d_297\">\n    <path clip-path=\"url(#p78c4e028de)\" d=\"M 452.73974 988.178839 \nL 452.73974 978.471696 \nL 452.73974 978.471696 \nL 452.73974 988.178839 \nL 452.73974 988.178839 \n\" style=\"fill:none;stroke:#000000;stroke-linecap:square;\"/>\n   </g>\n   <g id=\"line2d_298\">\n    <path clip-path=\"url(#p78c4e028de)\" d=\"M 452.73974 983.325268 \nL 452.73974 983.325268 \n\" style=\"fill:none;stroke:#000000;stroke-linecap:square;\"/>\n   </g>\n   <g id=\"line2d_299\">\n    <path clip-path=\"url(#p78c4e028de)\" d=\"M 452.73974 983.325268 \nL 452.73974 983.325268 \n\" style=\"fill:none;stroke:#000000;stroke-linecap:square;\"/>\n   </g>\n   <g id=\"line2d_300\">\n    <path clip-path=\"url(#p78c4e028de)\" d=\"M 452.73974 985.752054 \nL 452.73974 980.898482 \n\" style=\"fill:none;stroke:#000000;stroke-linecap:square;\"/>\n   </g>\n   <g id=\"line2d_301\">\n    <path clip-path=\"url(#p78c4e028de)\" d=\"M 452.73974 985.752054 \nL 452.73974 980.898482 \n\" style=\"fill:none;stroke:#000000;stroke-linecap:square;\"/>\n   </g>\n   <g id=\"line2d_302\"/>\n   <g id=\"line2d_303\">\n    <path clip-path=\"url(#p78c4e028de)\" d=\"M 452.73974 968.764554 \nL 452.73974 959.057411 \nL 452.73974 959.057411 \nL 452.73974 968.764554 \nL 452.73974 968.764554 \n\" style=\"fill:none;stroke:#000000;stroke-linecap:square;\"/>\n   </g>\n   <g id=\"line2d_304\">\n    <path clip-path=\"url(#p78c4e028de)\" d=\"M 452.73974 963.910982 \nL 452.73974 963.910982 \n\" style=\"fill:none;stroke:#000000;stroke-linecap:square;\"/>\n   </g>\n   <g id=\"line2d_305\">\n    <path clip-path=\"url(#p78c4e028de)\" d=\"M 452.73974 963.910982 \nL 452.73974 963.910982 \n\" style=\"fill:none;stroke:#000000;stroke-linecap:square;\"/>\n   </g>\n   <g id=\"line2d_306\">\n    <path clip-path=\"url(#p78c4e028de)\" d=\"M 452.73974 966.337768 \nL 452.73974 961.484196 \n\" style=\"fill:none;stroke:#000000;stroke-linecap:square;\"/>\n   </g>\n   <g id=\"line2d_307\">\n    <path clip-path=\"url(#p78c4e028de)\" d=\"M 452.73974 966.337768 \nL 452.73974 961.484196 \n\" style=\"fill:none;stroke:#000000;stroke-linecap:square;\"/>\n   </g>\n   <g id=\"line2d_308\"/>\n   <g id=\"line2d_309\">\n    <path clip-path=\"url(#p78c4e028de)\" d=\"M 452.73974 949.350268 \nL 452.73974 939.643125 \nL 452.73974 939.643125 \nL 452.73974 949.350268 \nL 452.73974 949.350268 \n\" style=\"fill:none;stroke:#000000;stroke-linecap:square;\"/>\n   </g>\n   <g id=\"line2d_310\">\n    <path clip-path=\"url(#p78c4e028de)\" d=\"M 452.73974 944.496696 \nL 452.73974 944.496696 \n\" style=\"fill:none;stroke:#000000;stroke-linecap:square;\"/>\n   </g>\n   <g id=\"line2d_311\">\n    <path clip-path=\"url(#p78c4e028de)\" d=\"M 452.73974 944.496696 \nL 452.73974 944.496696 \n\" style=\"fill:none;stroke:#000000;stroke-linecap:square;\"/>\n   </g>\n   <g id=\"line2d_312\">\n    <path clip-path=\"url(#p78c4e028de)\" d=\"M 452.73974 946.923482 \nL 452.73974 942.069911 \n\" style=\"fill:none;stroke:#000000;stroke-linecap:square;\"/>\n   </g>\n   <g id=\"line2d_313\">\n    <path clip-path=\"url(#p78c4e028de)\" d=\"M 452.73974 946.923482 \nL 452.73974 942.069911 \n\" style=\"fill:none;stroke:#000000;stroke-linecap:square;\"/>\n   </g>\n   <g id=\"line2d_314\"/>\n   <g id=\"line2d_315\">\n    <path clip-path=\"url(#p78c4e028de)\" d=\"M 452.73974 929.935982 \nL 452.73974 920.228839 \nL 452.73974 920.228839 \nL 452.73974 929.935982 \nL 452.73974 929.935982 \n\" style=\"fill:none;stroke:#000000;stroke-linecap:square;\"/>\n   </g>\n   <g id=\"line2d_316\">\n    <path clip-path=\"url(#p78c4e028de)\" d=\"M 452.73974 925.082411 \nL 452.73974 925.082411 \n\" style=\"fill:none;stroke:#000000;stroke-linecap:square;\"/>\n   </g>\n   <g id=\"line2d_317\">\n    <path clip-path=\"url(#p78c4e028de)\" d=\"M 452.73974 925.082411 \nL 452.73974 925.082411 \n\" style=\"fill:none;stroke:#000000;stroke-linecap:square;\"/>\n   </g>\n   <g id=\"line2d_318\">\n    <path clip-path=\"url(#p78c4e028de)\" d=\"M 452.73974 927.509196 \nL 452.73974 922.655625 \n\" style=\"fill:none;stroke:#000000;stroke-linecap:square;\"/>\n   </g>\n   <g id=\"line2d_319\">\n    <path clip-path=\"url(#p78c4e028de)\" d=\"M 452.73974 927.509196 \nL 452.73974 922.655625 \n\" style=\"fill:none;stroke:#000000;stroke-linecap:square;\"/>\n   </g>\n   <g id=\"line2d_320\"/>\n   <g id=\"line2d_321\">\n    <path clip-path=\"url(#p78c4e028de)\" d=\"M 452.73974 910.521696 \nL 452.73974 900.814554 \nL 452.73974 900.814554 \nL 452.73974 910.521696 \nL 452.73974 910.521696 \n\" style=\"fill:none;stroke:#000000;stroke-linecap:square;\"/>\n   </g>\n   <g id=\"line2d_322\">\n    <path clip-path=\"url(#p78c4e028de)\" d=\"M 452.73974 905.668125 \nL 452.73974 905.668125 \n\" style=\"fill:none;stroke:#000000;stroke-linecap:square;\"/>\n   </g>\n   <g id=\"line2d_323\">\n    <path clip-path=\"url(#p78c4e028de)\" d=\"M 452.73974 905.668125 \nL 452.73974 905.668125 \n\" style=\"fill:none;stroke:#000000;stroke-linecap:square;\"/>\n   </g>\n   <g id=\"line2d_324\">\n    <path clip-path=\"url(#p78c4e028de)\" d=\"M 452.73974 908.094911 \nL 452.73974 903.241339 \n\" style=\"fill:none;stroke:#000000;stroke-linecap:square;\"/>\n   </g>\n   <g id=\"line2d_325\">\n    <path clip-path=\"url(#p78c4e028de)\" d=\"M 452.73974 908.094911 \nL 452.73974 903.241339 \n\" style=\"fill:none;stroke:#000000;stroke-linecap:square;\"/>\n   </g>\n   <g id=\"line2d_326\"/>\n   <g id=\"line2d_327\">\n    <path clip-path=\"url(#p78c4e028de)\" d=\"M 452.73974 891.107411 \nL 452.73974 881.400268 \nL 452.73974 881.400268 \nL 452.73974 891.107411 \nL 452.73974 891.107411 \n\" style=\"fill:none;stroke:#000000;stroke-linecap:square;\"/>\n   </g>\n   <g id=\"line2d_328\">\n    <path clip-path=\"url(#p78c4e028de)\" d=\"M 452.73974 886.253839 \nL 452.73974 886.253839 \n\" style=\"fill:none;stroke:#000000;stroke-linecap:square;\"/>\n   </g>\n   <g id=\"line2d_329\">\n    <path clip-path=\"url(#p78c4e028de)\" d=\"M 452.73974 886.253839 \nL 452.73974 886.253839 \n\" style=\"fill:none;stroke:#000000;stroke-linecap:square;\"/>\n   </g>\n   <g id=\"line2d_330\">\n    <path clip-path=\"url(#p78c4e028de)\" d=\"M 452.73974 888.680625 \nL 452.73974 883.827054 \n\" style=\"fill:none;stroke:#000000;stroke-linecap:square;\"/>\n   </g>\n   <g id=\"line2d_331\">\n    <path clip-path=\"url(#p78c4e028de)\" d=\"M 452.73974 888.680625 \nL 452.73974 883.827054 \n\" style=\"fill:none;stroke:#000000;stroke-linecap:square;\"/>\n   </g>\n   <g id=\"line2d_332\"/>\n   <g id=\"line2d_333\">\n    <path clip-path=\"url(#p78c4e028de)\" d=\"M 452.73974 871.693125 \nL 452.73974 861.985982 \nL 452.73974 861.985982 \nL 452.73974 871.693125 \nL 452.73974 871.693125 \n\" style=\"fill:none;stroke:#000000;stroke-linecap:square;\"/>\n   </g>\n   <g id=\"line2d_334\">\n    <path clip-path=\"url(#p78c4e028de)\" d=\"M 452.73974 866.839554 \nL 452.73974 866.839554 \n\" style=\"fill:none;stroke:#000000;stroke-linecap:square;\"/>\n   </g>\n   <g id=\"line2d_335\">\n    <path clip-path=\"url(#p78c4e028de)\" d=\"M 452.73974 866.839554 \nL 452.73974 866.839554 \n\" style=\"fill:none;stroke:#000000;stroke-linecap:square;\"/>\n   </g>\n   <g id=\"line2d_336\">\n    <path clip-path=\"url(#p78c4e028de)\" d=\"M 452.73974 869.266339 \nL 452.73974 864.412768 \n\" style=\"fill:none;stroke:#000000;stroke-linecap:square;\"/>\n   </g>\n   <g id=\"line2d_337\">\n    <path clip-path=\"url(#p78c4e028de)\" d=\"M 452.73974 869.266339 \nL 452.73974 864.412768 \n\" style=\"fill:none;stroke:#000000;stroke-linecap:square;\"/>\n   </g>\n   <g id=\"line2d_338\"/>\n   <g id=\"line2d_339\">\n    <path clip-path=\"url(#p78c4e028de)\" d=\"M 452.73974 852.278839 \nL 452.73974 842.571696 \nL 452.73974 842.571696 \nL 452.73974 852.278839 \nL 452.73974 852.278839 \n\" style=\"fill:none;stroke:#000000;stroke-linecap:square;\"/>\n   </g>\n   <g id=\"line2d_340\">\n    <path clip-path=\"url(#p78c4e028de)\" d=\"M 452.73974 847.425268 \nL 452.73974 847.425268 \n\" style=\"fill:none;stroke:#000000;stroke-linecap:square;\"/>\n   </g>\n   <g id=\"line2d_341\">\n    <path clip-path=\"url(#p78c4e028de)\" d=\"M 452.73974 847.425268 \nL 452.73974 847.425268 \n\" style=\"fill:none;stroke:#000000;stroke-linecap:square;\"/>\n   </g>\n   <g id=\"line2d_342\">\n    <path clip-path=\"url(#p78c4e028de)\" d=\"M 452.73974 849.852054 \nL 452.73974 844.998482 \n\" style=\"fill:none;stroke:#000000;stroke-linecap:square;\"/>\n   </g>\n   <g id=\"line2d_343\">\n    <path clip-path=\"url(#p78c4e028de)\" d=\"M 452.73974 849.852054 \nL 452.73974 844.998482 \n\" style=\"fill:none;stroke:#000000;stroke-linecap:square;\"/>\n   </g>\n   <g id=\"line2d_344\"/>\n   <g id=\"line2d_345\">\n    <path clip-path=\"url(#p78c4e028de)\" d=\"M 452.73974 832.864554 \nL 452.73974 823.157411 \nL 452.73974 823.157411 \nL 452.73974 832.864554 \nL 452.73974 832.864554 \n\" style=\"fill:none;stroke:#000000;stroke-linecap:square;\"/>\n   </g>\n   <g id=\"line2d_346\">\n    <path clip-path=\"url(#p78c4e028de)\" d=\"M 452.73974 828.010982 \nL 452.73974 828.010982 \n\" style=\"fill:none;stroke:#000000;stroke-linecap:square;\"/>\n   </g>\n   <g id=\"line2d_347\">\n    <path clip-path=\"url(#p78c4e028de)\" d=\"M 452.73974 828.010982 \nL 452.73974 828.010982 \n\" style=\"fill:none;stroke:#000000;stroke-linecap:square;\"/>\n   </g>\n   <g id=\"line2d_348\">\n    <path clip-path=\"url(#p78c4e028de)\" d=\"M 452.73974 830.437768 \nL 452.73974 825.584196 \n\" style=\"fill:none;stroke:#000000;stroke-linecap:square;\"/>\n   </g>\n   <g id=\"line2d_349\">\n    <path clip-path=\"url(#p78c4e028de)\" d=\"M 452.73974 830.437768 \nL 452.73974 825.584196 \n\" style=\"fill:none;stroke:#000000;stroke-linecap:square;\"/>\n   </g>\n   <g id=\"line2d_350\"/>\n   <g id=\"line2d_351\">\n    <path clip-path=\"url(#p78c4e028de)\" d=\"M 452.73974 813.450268 \nL 452.73974 803.743125 \nL 452.73974 803.743125 \nL 452.73974 813.450268 \nL 452.73974 813.450268 \n\" style=\"fill:none;stroke:#000000;stroke-linecap:square;\"/>\n   </g>\n   <g id=\"line2d_352\">\n    <path clip-path=\"url(#p78c4e028de)\" d=\"M 452.73974 808.596696 \nL 452.73974 808.596696 \n\" style=\"fill:none;stroke:#000000;stroke-linecap:square;\"/>\n   </g>\n   <g id=\"line2d_353\">\n    <path clip-path=\"url(#p78c4e028de)\" d=\"M 452.73974 808.596696 \nL 452.73974 808.596696 \n\" style=\"fill:none;stroke:#000000;stroke-linecap:square;\"/>\n   </g>\n   <g id=\"line2d_354\">\n    <path clip-path=\"url(#p78c4e028de)\" d=\"M 452.73974 811.023482 \nL 452.73974 806.169911 \n\" style=\"fill:none;stroke:#000000;stroke-linecap:square;\"/>\n   </g>\n   <g id=\"line2d_355\">\n    <path clip-path=\"url(#p78c4e028de)\" d=\"M 452.73974 811.023482 \nL 452.73974 806.169911 \n\" style=\"fill:none;stroke:#000000;stroke-linecap:square;\"/>\n   </g>\n   <g id=\"line2d_356\"/>\n   <g id=\"line2d_357\">\n    <path clip-path=\"url(#p78c4e028de)\" d=\"M 452.73974 794.035982 \nL 452.73974 784.328839 \nL 452.73974 784.328839 \nL 452.73974 794.035982 \nL 452.73974 794.035982 \n\" style=\"fill:none;stroke:#000000;stroke-linecap:square;\"/>\n   </g>\n   <g id=\"line2d_358\">\n    <path clip-path=\"url(#p78c4e028de)\" d=\"M 452.73974 789.182411 \nL 452.73974 789.182411 \n\" style=\"fill:none;stroke:#000000;stroke-linecap:square;\"/>\n   </g>\n   <g id=\"line2d_359\">\n    <path clip-path=\"url(#p78c4e028de)\" d=\"M 452.73974 789.182411 \nL 452.73974 789.182411 \n\" style=\"fill:none;stroke:#000000;stroke-linecap:square;\"/>\n   </g>\n   <g id=\"line2d_360\">\n    <path clip-path=\"url(#p78c4e028de)\" d=\"M 452.73974 791.609196 \nL 452.73974 786.755625 \n\" style=\"fill:none;stroke:#000000;stroke-linecap:square;\"/>\n   </g>\n   <g id=\"line2d_361\">\n    <path clip-path=\"url(#p78c4e028de)\" d=\"M 452.73974 791.609196 \nL 452.73974 786.755625 \n\" style=\"fill:none;stroke:#000000;stroke-linecap:square;\"/>\n   </g>\n   <g id=\"line2d_362\"/>\n   <g id=\"line2d_363\">\n    <path clip-path=\"url(#p78c4e028de)\" d=\"M 452.73974 774.621696 \nL 452.73974 764.914554 \nL 452.73974 764.914554 \nL 452.73974 774.621696 \nL 452.73974 774.621696 \n\" style=\"fill:none;stroke:#000000;stroke-linecap:square;\"/>\n   </g>\n   <g id=\"line2d_364\">\n    <path clip-path=\"url(#p78c4e028de)\" d=\"M 452.73974 769.768125 \nL 452.73974 769.768125 \n\" style=\"fill:none;stroke:#000000;stroke-linecap:square;\"/>\n   </g>\n   <g id=\"line2d_365\">\n    <path clip-path=\"url(#p78c4e028de)\" d=\"M 452.73974 769.768125 \nL 452.73974 769.768125 \n\" style=\"fill:none;stroke:#000000;stroke-linecap:square;\"/>\n   </g>\n   <g id=\"line2d_366\">\n    <path clip-path=\"url(#p78c4e028de)\" d=\"M 452.73974 772.194911 \nL 452.73974 767.341339 \n\" style=\"fill:none;stroke:#000000;stroke-linecap:square;\"/>\n   </g>\n   <g id=\"line2d_367\">\n    <path clip-path=\"url(#p78c4e028de)\" d=\"M 452.73974 772.194911 \nL 452.73974 767.341339 \n\" style=\"fill:none;stroke:#000000;stroke-linecap:square;\"/>\n   </g>\n   <g id=\"line2d_368\"/>\n   <g id=\"line2d_369\">\n    <path clip-path=\"url(#p78c4e028de)\" d=\"M 452.73974 755.207411 \nL 452.73974 745.500268 \nL 452.73974 745.500268 \nL 452.73974 755.207411 \nL 452.73974 755.207411 \n\" style=\"fill:none;stroke:#000000;stroke-linecap:square;\"/>\n   </g>\n   <g id=\"line2d_370\">\n    <path clip-path=\"url(#p78c4e028de)\" d=\"M 452.73974 750.353839 \nL 452.73974 750.353839 \n\" style=\"fill:none;stroke:#000000;stroke-linecap:square;\"/>\n   </g>\n   <g id=\"line2d_371\">\n    <path clip-path=\"url(#p78c4e028de)\" d=\"M 452.73974 750.353839 \nL 452.73974 750.353839 \n\" style=\"fill:none;stroke:#000000;stroke-linecap:square;\"/>\n   </g>\n   <g id=\"line2d_372\">\n    <path clip-path=\"url(#p78c4e028de)\" d=\"M 452.73974 752.780625 \nL 452.73974 747.927054 \n\" style=\"fill:none;stroke:#000000;stroke-linecap:square;\"/>\n   </g>\n   <g id=\"line2d_373\">\n    <path clip-path=\"url(#p78c4e028de)\" d=\"M 452.73974 752.780625 \nL 452.73974 747.927054 \n\" style=\"fill:none;stroke:#000000;stroke-linecap:square;\"/>\n   </g>\n   <g id=\"line2d_374\"/>\n   <g id=\"line2d_375\">\n    <path clip-path=\"url(#p78c4e028de)\" d=\"M 452.73974 735.793125 \nL 452.73974 726.085982 \nL 452.73974 726.085982 \nL 452.73974 735.793125 \nL 452.73974 735.793125 \n\" style=\"fill:none;stroke:#000000;stroke-linecap:square;\"/>\n   </g>\n   <g id=\"line2d_376\">\n    <path clip-path=\"url(#p78c4e028de)\" d=\"M 452.73974 730.939554 \nL 452.73974 730.939554 \n\" style=\"fill:none;stroke:#000000;stroke-linecap:square;\"/>\n   </g>\n   <g id=\"line2d_377\">\n    <path clip-path=\"url(#p78c4e028de)\" d=\"M 452.73974 730.939554 \nL 452.73974 730.939554 \n\" style=\"fill:none;stroke:#000000;stroke-linecap:square;\"/>\n   </g>\n   <g id=\"line2d_378\">\n    <path clip-path=\"url(#p78c4e028de)\" d=\"M 452.73974 733.366339 \nL 452.73974 728.512768 \n\" style=\"fill:none;stroke:#000000;stroke-linecap:square;\"/>\n   </g>\n   <g id=\"line2d_379\">\n    <path clip-path=\"url(#p78c4e028de)\" d=\"M 452.73974 733.366339 \nL 452.73974 728.512768 \n\" style=\"fill:none;stroke:#000000;stroke-linecap:square;\"/>\n   </g>\n   <g id=\"line2d_380\"/>\n   <g id=\"line2d_381\">\n    <path clip-path=\"url(#p78c4e028de)\" d=\"M 452.73974 716.378839 \nL 452.73974 706.671696 \nL 452.73974 706.671696 \nL 452.73974 716.378839 \nL 452.73974 716.378839 \n\" style=\"fill:none;stroke:#000000;stroke-linecap:square;\"/>\n   </g>\n   <g id=\"line2d_382\">\n    <path clip-path=\"url(#p78c4e028de)\" d=\"M 452.73974 711.525268 \nL 452.73974 711.525268 \n\" style=\"fill:none;stroke:#000000;stroke-linecap:square;\"/>\n   </g>\n   <g id=\"line2d_383\">\n    <path clip-path=\"url(#p78c4e028de)\" d=\"M 452.73974 711.525268 \nL 452.73974 711.525268 \n\" style=\"fill:none;stroke:#000000;stroke-linecap:square;\"/>\n   </g>\n   <g id=\"line2d_384\">\n    <path clip-path=\"url(#p78c4e028de)\" d=\"M 452.73974 713.952054 \nL 452.73974 709.098482 \n\" style=\"fill:none;stroke:#000000;stroke-linecap:square;\"/>\n   </g>\n   <g id=\"line2d_385\">\n    <path clip-path=\"url(#p78c4e028de)\" d=\"M 452.73974 713.952054 \nL 452.73974 709.098482 \n\" style=\"fill:none;stroke:#000000;stroke-linecap:square;\"/>\n   </g>\n   <g id=\"line2d_386\"/>\n   <g id=\"line2d_387\">\n    <path clip-path=\"url(#p78c4e028de)\" d=\"M 452.73974 696.964554 \nL 452.73974 687.257411 \nL 452.73974 687.257411 \nL 452.73974 696.964554 \nL 452.73974 696.964554 \n\" style=\"fill:none;stroke:#000000;stroke-linecap:square;\"/>\n   </g>\n   <g id=\"line2d_388\">\n    <path clip-path=\"url(#p78c4e028de)\" d=\"M 452.73974 692.110982 \nL 452.73974 692.110982 \n\" style=\"fill:none;stroke:#000000;stroke-linecap:square;\"/>\n   </g>\n   <g id=\"line2d_389\">\n    <path clip-path=\"url(#p78c4e028de)\" d=\"M 452.73974 692.110982 \nL 452.73974 692.110982 \n\" style=\"fill:none;stroke:#000000;stroke-linecap:square;\"/>\n   </g>\n   <g id=\"line2d_390\">\n    <path clip-path=\"url(#p78c4e028de)\" d=\"M 452.73974 694.537768 \nL 452.73974 689.684196 \n\" style=\"fill:none;stroke:#000000;stroke-linecap:square;\"/>\n   </g>\n   <g id=\"line2d_391\">\n    <path clip-path=\"url(#p78c4e028de)\" d=\"M 452.73974 694.537768 \nL 452.73974 689.684196 \n\" style=\"fill:none;stroke:#000000;stroke-linecap:square;\"/>\n   </g>\n   <g id=\"line2d_392\"/>\n   <g id=\"line2d_393\">\n    <path clip-path=\"url(#p78c4e028de)\" d=\"M 452.73974 677.550268 \nL 452.73974 667.843125 \nL 452.73974 667.843125 \nL 452.73974 677.550268 \nL 452.73974 677.550268 \n\" style=\"fill:none;stroke:#000000;stroke-linecap:square;\"/>\n   </g>\n   <g id=\"line2d_394\">\n    <path clip-path=\"url(#p78c4e028de)\" d=\"M 452.73974 672.696696 \nL 452.73974 672.696696 \n\" style=\"fill:none;stroke:#000000;stroke-linecap:square;\"/>\n   </g>\n   <g id=\"line2d_395\">\n    <path clip-path=\"url(#p78c4e028de)\" d=\"M 452.73974 672.696696 \nL 452.73974 672.696696 \n\" style=\"fill:none;stroke:#000000;stroke-linecap:square;\"/>\n   </g>\n   <g id=\"line2d_396\">\n    <path clip-path=\"url(#p78c4e028de)\" d=\"M 452.73974 675.123482 \nL 452.73974 670.269911 \n\" style=\"fill:none;stroke:#000000;stroke-linecap:square;\"/>\n   </g>\n   <g id=\"line2d_397\">\n    <path clip-path=\"url(#p78c4e028de)\" d=\"M 452.73974 675.123482 \nL 452.73974 670.269911 \n\" style=\"fill:none;stroke:#000000;stroke-linecap:square;\"/>\n   </g>\n   <g id=\"line2d_398\"/>\n   <g id=\"line2d_399\">\n    <path clip-path=\"url(#p78c4e028de)\" d=\"M 452.73974 658.135982 \nL 452.73974 648.428839 \nL 452.73974 648.428839 \nL 452.73974 658.135982 \nL 452.73974 658.135982 \n\" style=\"fill:none;stroke:#000000;stroke-linecap:square;\"/>\n   </g>\n   <g id=\"line2d_400\">\n    <path clip-path=\"url(#p78c4e028de)\" d=\"M 452.73974 653.282411 \nL 452.73974 653.282411 \n\" style=\"fill:none;stroke:#000000;stroke-linecap:square;\"/>\n   </g>\n   <g id=\"line2d_401\">\n    <path clip-path=\"url(#p78c4e028de)\" d=\"M 452.73974 653.282411 \nL 452.73974 653.282411 \n\" style=\"fill:none;stroke:#000000;stroke-linecap:square;\"/>\n   </g>\n   <g id=\"line2d_402\">\n    <path clip-path=\"url(#p78c4e028de)\" d=\"M 452.73974 655.709196 \nL 452.73974 650.855625 \n\" style=\"fill:none;stroke:#000000;stroke-linecap:square;\"/>\n   </g>\n   <g id=\"line2d_403\">\n    <path clip-path=\"url(#p78c4e028de)\" d=\"M 452.73974 655.709196 \nL 452.73974 650.855625 \n\" style=\"fill:none;stroke:#000000;stroke-linecap:square;\"/>\n   </g>\n   <g id=\"line2d_404\"/>\n   <g id=\"line2d_405\">\n    <path clip-path=\"url(#p78c4e028de)\" d=\"M 452.73974 638.721696 \nL 452.73974 629.014554 \nL 452.73974 629.014554 \nL 452.73974 638.721696 \nL 452.73974 638.721696 \n\" style=\"fill:none;stroke:#000000;stroke-linecap:square;\"/>\n   </g>\n   <g id=\"line2d_406\">\n    <path clip-path=\"url(#p78c4e028de)\" d=\"M 452.73974 633.868125 \nL 452.73974 633.868125 \n\" style=\"fill:none;stroke:#000000;stroke-linecap:square;\"/>\n   </g>\n   <g id=\"line2d_407\">\n    <path clip-path=\"url(#p78c4e028de)\" d=\"M 452.73974 633.868125 \nL 452.73974 633.868125 \n\" style=\"fill:none;stroke:#000000;stroke-linecap:square;\"/>\n   </g>\n   <g id=\"line2d_408\">\n    <path clip-path=\"url(#p78c4e028de)\" d=\"M 452.73974 636.294911 \nL 452.73974 631.441339 \n\" style=\"fill:none;stroke:#000000;stroke-linecap:square;\"/>\n   </g>\n   <g id=\"line2d_409\">\n    <path clip-path=\"url(#p78c4e028de)\" d=\"M 452.73974 636.294911 \nL 452.73974 631.441339 \n\" style=\"fill:none;stroke:#000000;stroke-linecap:square;\"/>\n   </g>\n   <g id=\"line2d_410\"/>\n   <g id=\"line2d_411\">\n    <path clip-path=\"url(#p78c4e028de)\" d=\"M 452.73974 619.307411 \nL 452.73974 609.600268 \nL 452.73974 609.600268 \nL 452.73974 619.307411 \nL 452.73974 619.307411 \n\" style=\"fill:none;stroke:#000000;stroke-linecap:square;\"/>\n   </g>\n   <g id=\"line2d_412\">\n    <path clip-path=\"url(#p78c4e028de)\" d=\"M 452.73974 614.453839 \nL 452.73974 614.453839 \n\" style=\"fill:none;stroke:#000000;stroke-linecap:square;\"/>\n   </g>\n   <g id=\"line2d_413\">\n    <path clip-path=\"url(#p78c4e028de)\" d=\"M 452.73974 614.453839 \nL 452.73974 614.453839 \n\" style=\"fill:none;stroke:#000000;stroke-linecap:square;\"/>\n   </g>\n   <g id=\"line2d_414\">\n    <path clip-path=\"url(#p78c4e028de)\" d=\"M 452.73974 616.880625 \nL 452.73974 612.027054 \n\" style=\"fill:none;stroke:#000000;stroke-linecap:square;\"/>\n   </g>\n   <g id=\"line2d_415\">\n    <path clip-path=\"url(#p78c4e028de)\" d=\"M 452.73974 616.880625 \nL 452.73974 612.027054 \n\" style=\"fill:none;stroke:#000000;stroke-linecap:square;\"/>\n   </g>\n   <g id=\"line2d_416\"/>\n   <g id=\"line2d_417\">\n    <path clip-path=\"url(#p78c4e028de)\" d=\"M 452.73974 599.893125 \nL 452.73974 590.185982 \nL 452.73974 590.185982 \nL 452.73974 599.893125 \nL 452.73974 599.893125 \n\" style=\"fill:none;stroke:#000000;stroke-linecap:square;\"/>\n   </g>\n   <g id=\"line2d_418\">\n    <path clip-path=\"url(#p78c4e028de)\" d=\"M 452.73974 595.039554 \nL 452.73974 595.039554 \n\" style=\"fill:none;stroke:#000000;stroke-linecap:square;\"/>\n   </g>\n   <g id=\"line2d_419\">\n    <path clip-path=\"url(#p78c4e028de)\" d=\"M 452.73974 595.039554 \nL 452.73974 595.039554 \n\" style=\"fill:none;stroke:#000000;stroke-linecap:square;\"/>\n   </g>\n   <g id=\"line2d_420\">\n    <path clip-path=\"url(#p78c4e028de)\" d=\"M 452.73974 597.466339 \nL 452.73974 592.612768 \n\" style=\"fill:none;stroke:#000000;stroke-linecap:square;\"/>\n   </g>\n   <g id=\"line2d_421\">\n    <path clip-path=\"url(#p78c4e028de)\" d=\"M 452.73974 597.466339 \nL 452.73974 592.612768 \n\" style=\"fill:none;stroke:#000000;stroke-linecap:square;\"/>\n   </g>\n   <g id=\"line2d_422\"/>\n   <g id=\"line2d_423\">\n    <path clip-path=\"url(#p78c4e028de)\" d=\"M 452.73974 580.478839 \nL 452.73974 570.771696 \nL 452.73974 570.771696 \nL 452.73974 580.478839 \nL 452.73974 580.478839 \n\" style=\"fill:none;stroke:#000000;stroke-linecap:square;\"/>\n   </g>\n   <g id=\"line2d_424\">\n    <path clip-path=\"url(#p78c4e028de)\" d=\"M 452.73974 575.625268 \nL 452.73974 575.625268 \n\" style=\"fill:none;stroke:#000000;stroke-linecap:square;\"/>\n   </g>\n   <g id=\"line2d_425\">\n    <path clip-path=\"url(#p78c4e028de)\" d=\"M 452.73974 575.625268 \nL 452.73974 575.625268 \n\" style=\"fill:none;stroke:#000000;stroke-linecap:square;\"/>\n   </g>\n   <g id=\"line2d_426\">\n    <path clip-path=\"url(#p78c4e028de)\" d=\"M 452.73974 578.052054 \nL 452.73974 573.198482 \n\" style=\"fill:none;stroke:#000000;stroke-linecap:square;\"/>\n   </g>\n   <g id=\"line2d_427\">\n    <path clip-path=\"url(#p78c4e028de)\" d=\"M 452.73974 578.052054 \nL 452.73974 573.198482 \n\" style=\"fill:none;stroke:#000000;stroke-linecap:square;\"/>\n   </g>\n   <g id=\"line2d_428\"/>\n   <g id=\"line2d_429\">\n    <path clip-path=\"url(#p78c4e028de)\" d=\"M 452.73974 561.064554 \nL 452.73974 551.357411 \nL 452.73974 551.357411 \nL 452.73974 561.064554 \nL 452.73974 561.064554 \n\" style=\"fill:none;stroke:#000000;stroke-linecap:square;\"/>\n   </g>\n   <g id=\"line2d_430\">\n    <path clip-path=\"url(#p78c4e028de)\" d=\"M 452.73974 556.210982 \nL 452.73974 556.210982 \n\" style=\"fill:none;stroke:#000000;stroke-linecap:square;\"/>\n   </g>\n   <g id=\"line2d_431\">\n    <path clip-path=\"url(#p78c4e028de)\" d=\"M 452.73974 556.210982 \nL 452.73974 556.210982 \n\" style=\"fill:none;stroke:#000000;stroke-linecap:square;\"/>\n   </g>\n   <g id=\"line2d_432\">\n    <path clip-path=\"url(#p78c4e028de)\" d=\"M 452.73974 558.637768 \nL 452.73974 553.784196 \n\" style=\"fill:none;stroke:#000000;stroke-linecap:square;\"/>\n   </g>\n   <g id=\"line2d_433\">\n    <path clip-path=\"url(#p78c4e028de)\" d=\"M 452.73974 558.637768 \nL 452.73974 553.784196 \n\" style=\"fill:none;stroke:#000000;stroke-linecap:square;\"/>\n   </g>\n   <g id=\"line2d_434\"/>\n   <g id=\"line2d_435\">\n    <path clip-path=\"url(#p78c4e028de)\" d=\"M 452.73974 541.650268 \nL 452.73974 531.943125 \nL 452.73974 531.943125 \nL 452.73974 541.650268 \nL 452.73974 541.650268 \n\" style=\"fill:none;stroke:#000000;stroke-linecap:square;\"/>\n   </g>\n   <g id=\"line2d_436\">\n    <path clip-path=\"url(#p78c4e028de)\" d=\"M 452.73974 536.796696 \nL 452.73974 536.796696 \n\" style=\"fill:none;stroke:#000000;stroke-linecap:square;\"/>\n   </g>\n   <g id=\"line2d_437\">\n    <path clip-path=\"url(#p78c4e028de)\" d=\"M 452.73974 536.796696 \nL 452.73974 536.796696 \n\" style=\"fill:none;stroke:#000000;stroke-linecap:square;\"/>\n   </g>\n   <g id=\"line2d_438\">\n    <path clip-path=\"url(#p78c4e028de)\" d=\"M 452.73974 539.223482 \nL 452.73974 534.369911 \n\" style=\"fill:none;stroke:#000000;stroke-linecap:square;\"/>\n   </g>\n   <g id=\"line2d_439\">\n    <path clip-path=\"url(#p78c4e028de)\" d=\"M 452.73974 539.223482 \nL 452.73974 534.369911 \n\" style=\"fill:none;stroke:#000000;stroke-linecap:square;\"/>\n   </g>\n   <g id=\"line2d_440\"/>\n   <g id=\"line2d_441\">\n    <path clip-path=\"url(#p78c4e028de)\" d=\"M 452.73974 522.235982 \nL 452.73974 512.528839 \nL 452.73974 512.528839 \nL 452.73974 522.235982 \nL 452.73974 522.235982 \n\" style=\"fill:none;stroke:#000000;stroke-linecap:square;\"/>\n   </g>\n   <g id=\"line2d_442\">\n    <path clip-path=\"url(#p78c4e028de)\" d=\"M 452.73974 517.382411 \nL 452.73974 517.382411 \n\" style=\"fill:none;stroke:#000000;stroke-linecap:square;\"/>\n   </g>\n   <g id=\"line2d_443\">\n    <path clip-path=\"url(#p78c4e028de)\" d=\"M 452.73974 517.382411 \nL 452.73974 517.382411 \n\" style=\"fill:none;stroke:#000000;stroke-linecap:square;\"/>\n   </g>\n   <g id=\"line2d_444\">\n    <path clip-path=\"url(#p78c4e028de)\" d=\"M 452.73974 519.809196 \nL 452.73974 514.955625 \n\" style=\"fill:none;stroke:#000000;stroke-linecap:square;\"/>\n   </g>\n   <g id=\"line2d_445\">\n    <path clip-path=\"url(#p78c4e028de)\" d=\"M 452.73974 519.809196 \nL 452.73974 514.955625 \n\" style=\"fill:none;stroke:#000000;stroke-linecap:square;\"/>\n   </g>\n   <g id=\"line2d_446\"/>\n   <g id=\"line2d_447\">\n    <path clip-path=\"url(#p78c4e028de)\" d=\"M 452.73974 502.821696 \nL 452.73974 493.114554 \nL 452.73974 493.114554 \nL 452.73974 502.821696 \nL 452.73974 502.821696 \n\" style=\"fill:none;stroke:#000000;stroke-linecap:square;\"/>\n   </g>\n   <g id=\"line2d_448\">\n    <path clip-path=\"url(#p78c4e028de)\" d=\"M 452.73974 497.968125 \nL 452.73974 497.968125 \n\" style=\"fill:none;stroke:#000000;stroke-linecap:square;\"/>\n   </g>\n   <g id=\"line2d_449\">\n    <path clip-path=\"url(#p78c4e028de)\" d=\"M 452.73974 497.968125 \nL 452.73974 497.968125 \n\" style=\"fill:none;stroke:#000000;stroke-linecap:square;\"/>\n   </g>\n   <g id=\"line2d_450\">\n    <path clip-path=\"url(#p78c4e028de)\" d=\"M 452.73974 500.394911 \nL 452.73974 495.541339 \n\" style=\"fill:none;stroke:#000000;stroke-linecap:square;\"/>\n   </g>\n   <g id=\"line2d_451\">\n    <path clip-path=\"url(#p78c4e028de)\" d=\"M 452.73974 500.394911 \nL 452.73974 495.541339 \n\" style=\"fill:none;stroke:#000000;stroke-linecap:square;\"/>\n   </g>\n   <g id=\"line2d_452\"/>\n   <g id=\"line2d_453\">\n    <path clip-path=\"url(#p78c4e028de)\" d=\"M 452.73974 483.407411 \nL 452.73974 473.700268 \nL 452.73974 473.700268 \nL 452.73974 483.407411 \nL 452.73974 483.407411 \n\" style=\"fill:none;stroke:#000000;stroke-linecap:square;\"/>\n   </g>\n   <g id=\"line2d_454\">\n    <path clip-path=\"url(#p78c4e028de)\" d=\"M 452.73974 478.553839 \nL 452.73974 478.553839 \n\" style=\"fill:none;stroke:#000000;stroke-linecap:square;\"/>\n   </g>\n   <g id=\"line2d_455\">\n    <path clip-path=\"url(#p78c4e028de)\" d=\"M 452.73974 478.553839 \nL 452.73974 478.553839 \n\" style=\"fill:none;stroke:#000000;stroke-linecap:square;\"/>\n   </g>\n   <g id=\"line2d_456\">\n    <path clip-path=\"url(#p78c4e028de)\" d=\"M 452.73974 480.980625 \nL 452.73974 476.127054 \n\" style=\"fill:none;stroke:#000000;stroke-linecap:square;\"/>\n   </g>\n   <g id=\"line2d_457\">\n    <path clip-path=\"url(#p78c4e028de)\" d=\"M 452.73974 480.980625 \nL 452.73974 476.127054 \n\" style=\"fill:none;stroke:#000000;stroke-linecap:square;\"/>\n   </g>\n   <g id=\"line2d_458\"/>\n   <g id=\"line2d_459\">\n    <path clip-path=\"url(#p78c4e028de)\" d=\"M 452.73974 463.993125 \nL 452.73974 454.285982 \nL 452.73974 454.285982 \nL 452.73974 463.993125 \nL 452.73974 463.993125 \n\" style=\"fill:none;stroke:#000000;stroke-linecap:square;\"/>\n   </g>\n   <g id=\"line2d_460\">\n    <path clip-path=\"url(#p78c4e028de)\" d=\"M 452.73974 459.139554 \nL 452.73974 459.139554 \n\" style=\"fill:none;stroke:#000000;stroke-linecap:square;\"/>\n   </g>\n   <g id=\"line2d_461\">\n    <path clip-path=\"url(#p78c4e028de)\" d=\"M 452.73974 459.139554 \nL 452.73974 459.139554 \n\" style=\"fill:none;stroke:#000000;stroke-linecap:square;\"/>\n   </g>\n   <g id=\"line2d_462\">\n    <path clip-path=\"url(#p78c4e028de)\" d=\"M 452.73974 461.566339 \nL 452.73974 456.712768 \n\" style=\"fill:none;stroke:#000000;stroke-linecap:square;\"/>\n   </g>\n   <g id=\"line2d_463\">\n    <path clip-path=\"url(#p78c4e028de)\" d=\"M 452.73974 461.566339 \nL 452.73974 456.712768 \n\" style=\"fill:none;stroke:#000000;stroke-linecap:square;\"/>\n   </g>\n   <g id=\"line2d_464\"/>\n   <g id=\"line2d_465\">\n    <path clip-path=\"url(#p78c4e028de)\" d=\"M 452.73974 444.578839 \nL 452.73974 434.871696 \nL 452.73974 434.871696 \nL 452.73974 444.578839 \nL 452.73974 444.578839 \n\" style=\"fill:none;stroke:#000000;stroke-linecap:square;\"/>\n   </g>\n   <g id=\"line2d_466\">\n    <path clip-path=\"url(#p78c4e028de)\" d=\"M 452.73974 439.725268 \nL 452.73974 439.725268 \n\" style=\"fill:none;stroke:#000000;stroke-linecap:square;\"/>\n   </g>\n   <g id=\"line2d_467\">\n    <path clip-path=\"url(#p78c4e028de)\" d=\"M 452.73974 439.725268 \nL 452.73974 439.725268 \n\" style=\"fill:none;stroke:#000000;stroke-linecap:square;\"/>\n   </g>\n   <g id=\"line2d_468\">\n    <path clip-path=\"url(#p78c4e028de)\" d=\"M 452.73974 442.152054 \nL 452.73974 437.298482 \n\" style=\"fill:none;stroke:#000000;stroke-linecap:square;\"/>\n   </g>\n   <g id=\"line2d_469\">\n    <path clip-path=\"url(#p78c4e028de)\" d=\"M 452.73974 442.152054 \nL 452.73974 437.298482 \n\" style=\"fill:none;stroke:#000000;stroke-linecap:square;\"/>\n   </g>\n   <g id=\"line2d_470\"/>\n   <g id=\"line2d_471\">\n    <path clip-path=\"url(#p78c4e028de)\" d=\"M 452.73974 425.164554 \nL 452.73974 415.457411 \nL 452.73974 415.457411 \nL 452.73974 425.164554 \nL 452.73974 425.164554 \n\" style=\"fill:none;stroke:#000000;stroke-linecap:square;\"/>\n   </g>\n   <g id=\"line2d_472\">\n    <path clip-path=\"url(#p78c4e028de)\" d=\"M 452.73974 420.310982 \nL 452.73974 420.310982 \n\" style=\"fill:none;stroke:#000000;stroke-linecap:square;\"/>\n   </g>\n   <g id=\"line2d_473\">\n    <path clip-path=\"url(#p78c4e028de)\" d=\"M 452.73974 420.310982 \nL 452.73974 420.310982 \n\" style=\"fill:none;stroke:#000000;stroke-linecap:square;\"/>\n   </g>\n   <g id=\"line2d_474\">\n    <path clip-path=\"url(#p78c4e028de)\" d=\"M 452.73974 422.737768 \nL 452.73974 417.884196 \n\" style=\"fill:none;stroke:#000000;stroke-linecap:square;\"/>\n   </g>\n   <g id=\"line2d_475\">\n    <path clip-path=\"url(#p78c4e028de)\" d=\"M 452.73974 422.737768 \nL 452.73974 417.884196 \n\" style=\"fill:none;stroke:#000000;stroke-linecap:square;\"/>\n   </g>\n   <g id=\"line2d_476\"/>\n   <g id=\"line2d_477\">\n    <path clip-path=\"url(#p78c4e028de)\" d=\"M 452.73974 405.750268 \nL 452.73974 396.043125 \nL 452.73974 396.043125 \nL 452.73974 405.750268 \nL 452.73974 405.750268 \n\" style=\"fill:none;stroke:#000000;stroke-linecap:square;\"/>\n   </g>\n   <g id=\"line2d_478\">\n    <path clip-path=\"url(#p78c4e028de)\" d=\"M 452.73974 400.896696 \nL 452.73974 400.896696 \n\" style=\"fill:none;stroke:#000000;stroke-linecap:square;\"/>\n   </g>\n   <g id=\"line2d_479\">\n    <path clip-path=\"url(#p78c4e028de)\" d=\"M 452.73974 400.896696 \nL 452.73974 400.896696 \n\" style=\"fill:none;stroke:#000000;stroke-linecap:square;\"/>\n   </g>\n   <g id=\"line2d_480\">\n    <path clip-path=\"url(#p78c4e028de)\" d=\"M 452.73974 403.323482 \nL 452.73974 398.469911 \n\" style=\"fill:none;stroke:#000000;stroke-linecap:square;\"/>\n   </g>\n   <g id=\"line2d_481\">\n    <path clip-path=\"url(#p78c4e028de)\" d=\"M 452.73974 403.323482 \nL 452.73974 398.469911 \n\" style=\"fill:none;stroke:#000000;stroke-linecap:square;\"/>\n   </g>\n   <g id=\"line2d_482\"/>\n   <g id=\"line2d_483\">\n    <path clip-path=\"url(#p78c4e028de)\" d=\"M 452.73974 386.335982 \nL 452.73974 376.628839 \nL 452.73974 376.628839 \nL 452.73974 386.335982 \nL 452.73974 386.335982 \n\" style=\"fill:none;stroke:#000000;stroke-linecap:square;\"/>\n   </g>\n   <g id=\"line2d_484\">\n    <path clip-path=\"url(#p78c4e028de)\" d=\"M 452.73974 381.482411 \nL 452.73974 381.482411 \n\" style=\"fill:none;stroke:#000000;stroke-linecap:square;\"/>\n   </g>\n   <g id=\"line2d_485\">\n    <path clip-path=\"url(#p78c4e028de)\" d=\"M 452.73974 381.482411 \nL 452.73974 381.482411 \n\" style=\"fill:none;stroke:#000000;stroke-linecap:square;\"/>\n   </g>\n   <g id=\"line2d_486\">\n    <path clip-path=\"url(#p78c4e028de)\" d=\"M 452.73974 383.909196 \nL 452.73974 379.055625 \n\" style=\"fill:none;stroke:#000000;stroke-linecap:square;\"/>\n   </g>\n   <g id=\"line2d_487\">\n    <path clip-path=\"url(#p78c4e028de)\" d=\"M 452.73974 383.909196 \nL 452.73974 379.055625 \n\" style=\"fill:none;stroke:#000000;stroke-linecap:square;\"/>\n   </g>\n   <g id=\"line2d_488\"/>\n   <g id=\"line2d_489\">\n    <path clip-path=\"url(#p78c4e028de)\" d=\"M 452.73974 366.921696 \nL 452.73974 357.214554 \nL 452.73974 357.214554 \nL 452.73974 366.921696 \nL 452.73974 366.921696 \n\" style=\"fill:none;stroke:#000000;stroke-linecap:square;\"/>\n   </g>\n   <g id=\"line2d_490\">\n    <path clip-path=\"url(#p78c4e028de)\" d=\"M 452.73974 362.068125 \nL 452.73974 362.068125 \n\" style=\"fill:none;stroke:#000000;stroke-linecap:square;\"/>\n   </g>\n   <g id=\"line2d_491\">\n    <path clip-path=\"url(#p78c4e028de)\" d=\"M 452.73974 362.068125 \nL 452.73974 362.068125 \n\" style=\"fill:none;stroke:#000000;stroke-linecap:square;\"/>\n   </g>\n   <g id=\"line2d_492\">\n    <path clip-path=\"url(#p78c4e028de)\" d=\"M 452.73974 364.494911 \nL 452.73974 359.641339 \n\" style=\"fill:none;stroke:#000000;stroke-linecap:square;\"/>\n   </g>\n   <g id=\"line2d_493\">\n    <path clip-path=\"url(#p78c4e028de)\" d=\"M 452.73974 364.494911 \nL 452.73974 359.641339 \n\" style=\"fill:none;stroke:#000000;stroke-linecap:square;\"/>\n   </g>\n   <g id=\"line2d_494\"/>\n   <g id=\"line2d_495\">\n    <path clip-path=\"url(#p78c4e028de)\" d=\"M 452.73974 347.507411 \nL 452.73974 337.800268 \nL 452.73974 337.800268 \nL 452.73974 347.507411 \nL 452.73974 347.507411 \n\" style=\"fill:none;stroke:#000000;stroke-linecap:square;\"/>\n   </g>\n   <g id=\"line2d_496\">\n    <path clip-path=\"url(#p78c4e028de)\" d=\"M 452.73974 342.653839 \nL 452.73974 342.653839 \n\" style=\"fill:none;stroke:#000000;stroke-linecap:square;\"/>\n   </g>\n   <g id=\"line2d_497\">\n    <path clip-path=\"url(#p78c4e028de)\" d=\"M 452.73974 342.653839 \nL 452.73974 342.653839 \n\" style=\"fill:none;stroke:#000000;stroke-linecap:square;\"/>\n   </g>\n   <g id=\"line2d_498\">\n    <path clip-path=\"url(#p78c4e028de)\" d=\"M 452.73974 345.080625 \nL 452.73974 340.227054 \n\" style=\"fill:none;stroke:#000000;stroke-linecap:square;\"/>\n   </g>\n   <g id=\"line2d_499\">\n    <path clip-path=\"url(#p78c4e028de)\" d=\"M 452.73974 345.080625 \nL 452.73974 340.227054 \n\" style=\"fill:none;stroke:#000000;stroke-linecap:square;\"/>\n   </g>\n   <g id=\"line2d_500\"/>\n   <g id=\"line2d_501\">\n    <path clip-path=\"url(#p78c4e028de)\" d=\"M 452.73974 328.093125 \nL 452.73974 318.385982 \nL 452.73974 318.385982 \nL 452.73974 328.093125 \nL 452.73974 328.093125 \n\" style=\"fill:none;stroke:#000000;stroke-linecap:square;\"/>\n   </g>\n   <g id=\"line2d_502\">\n    <path clip-path=\"url(#p78c4e028de)\" d=\"M 452.73974 323.239554 \nL 452.73974 323.239554 \n\" style=\"fill:none;stroke:#000000;stroke-linecap:square;\"/>\n   </g>\n   <g id=\"line2d_503\">\n    <path clip-path=\"url(#p78c4e028de)\" d=\"M 452.73974 323.239554 \nL 452.73974 323.239554 \n\" style=\"fill:none;stroke:#000000;stroke-linecap:square;\"/>\n   </g>\n   <g id=\"line2d_504\">\n    <path clip-path=\"url(#p78c4e028de)\" d=\"M 452.73974 325.666339 \nL 452.73974 320.812768 \n\" style=\"fill:none;stroke:#000000;stroke-linecap:square;\"/>\n   </g>\n   <g id=\"line2d_505\">\n    <path clip-path=\"url(#p78c4e028de)\" d=\"M 452.73974 325.666339 \nL 452.73974 320.812768 \n\" style=\"fill:none;stroke:#000000;stroke-linecap:square;\"/>\n   </g>\n   <g id=\"line2d_506\"/>\n   <g id=\"line2d_507\">\n    <path clip-path=\"url(#p78c4e028de)\" d=\"M 452.73974 308.678839 \nL 452.73974 298.971696 \nL 452.73974 298.971696 \nL 452.73974 308.678839 \nL 452.73974 308.678839 \n\" style=\"fill:none;stroke:#000000;stroke-linecap:square;\"/>\n   </g>\n   <g id=\"line2d_508\">\n    <path clip-path=\"url(#p78c4e028de)\" d=\"M 452.73974 303.825268 \nL 452.73974 303.825268 \n\" style=\"fill:none;stroke:#000000;stroke-linecap:square;\"/>\n   </g>\n   <g id=\"line2d_509\">\n    <path clip-path=\"url(#p78c4e028de)\" d=\"M 452.73974 303.825268 \nL 452.73974 303.825268 \n\" style=\"fill:none;stroke:#000000;stroke-linecap:square;\"/>\n   </g>\n   <g id=\"line2d_510\">\n    <path clip-path=\"url(#p78c4e028de)\" d=\"M 452.73974 306.252054 \nL 452.73974 301.398482 \n\" style=\"fill:none;stroke:#000000;stroke-linecap:square;\"/>\n   </g>\n   <g id=\"line2d_511\">\n    <path clip-path=\"url(#p78c4e028de)\" d=\"M 452.73974 306.252054 \nL 452.73974 301.398482 \n\" style=\"fill:none;stroke:#000000;stroke-linecap:square;\"/>\n   </g>\n   <g id=\"line2d_512\"/>\n   <g id=\"line2d_513\">\n    <path clip-path=\"url(#p78c4e028de)\" d=\"M 452.73974 289.264554 \nL 452.73974 279.557411 \nL 452.73974 279.557411 \nL 452.73974 289.264554 \nL 452.73974 289.264554 \n\" style=\"fill:none;stroke:#000000;stroke-linecap:square;\"/>\n   </g>\n   <g id=\"line2d_514\">\n    <path clip-path=\"url(#p78c4e028de)\" d=\"M 452.73974 284.410982 \nL 452.73974 284.410982 \n\" style=\"fill:none;stroke:#000000;stroke-linecap:square;\"/>\n   </g>\n   <g id=\"line2d_515\">\n    <path clip-path=\"url(#p78c4e028de)\" d=\"M 452.73974 284.410982 \nL 452.73974 284.410982 \n\" style=\"fill:none;stroke:#000000;stroke-linecap:square;\"/>\n   </g>\n   <g id=\"line2d_516\">\n    <path clip-path=\"url(#p78c4e028de)\" d=\"M 452.73974 286.837768 \nL 452.73974 281.984196 \n\" style=\"fill:none;stroke:#000000;stroke-linecap:square;\"/>\n   </g>\n   <g id=\"line2d_517\">\n    <path clip-path=\"url(#p78c4e028de)\" d=\"M 452.73974 286.837768 \nL 452.73974 281.984196 \n\" style=\"fill:none;stroke:#000000;stroke-linecap:square;\"/>\n   </g>\n   <g id=\"line2d_518\"/>\n   <g id=\"line2d_519\">\n    <path clip-path=\"url(#p78c4e028de)\" d=\"M 452.73974 269.850268 \nL 452.73974 260.143125 \nL 452.73974 260.143125 \nL 452.73974 269.850268 \nL 452.73974 269.850268 \n\" style=\"fill:none;stroke:#000000;stroke-linecap:square;\"/>\n   </g>\n   <g id=\"line2d_520\">\n    <path clip-path=\"url(#p78c4e028de)\" d=\"M 452.73974 264.996696 \nL 452.73974 264.996696 \n\" style=\"fill:none;stroke:#000000;stroke-linecap:square;\"/>\n   </g>\n   <g id=\"line2d_521\">\n    <path clip-path=\"url(#p78c4e028de)\" d=\"M 452.73974 264.996696 \nL 452.73974 264.996696 \n\" style=\"fill:none;stroke:#000000;stroke-linecap:square;\"/>\n   </g>\n   <g id=\"line2d_522\">\n    <path clip-path=\"url(#p78c4e028de)\" d=\"M 452.73974 267.423482 \nL 452.73974 262.569911 \n\" style=\"fill:none;stroke:#000000;stroke-linecap:square;\"/>\n   </g>\n   <g id=\"line2d_523\">\n    <path clip-path=\"url(#p78c4e028de)\" d=\"M 452.73974 267.423482 \nL 452.73974 262.569911 \n\" style=\"fill:none;stroke:#000000;stroke-linecap:square;\"/>\n   </g>\n   <g id=\"line2d_524\"/>\n   <g id=\"line2d_525\">\n    <path clip-path=\"url(#p78c4e028de)\" d=\"M 452.73974 250.435982 \nL 452.73974 240.728839 \nL 452.73974 240.728839 \nL 452.73974 250.435982 \nL 452.73974 250.435982 \n\" style=\"fill:none;stroke:#000000;stroke-linecap:square;\"/>\n   </g>\n   <g id=\"line2d_526\">\n    <path clip-path=\"url(#p78c4e028de)\" d=\"M 452.73974 245.582411 \nL 452.73974 245.582411 \n\" style=\"fill:none;stroke:#000000;stroke-linecap:square;\"/>\n   </g>\n   <g id=\"line2d_527\">\n    <path clip-path=\"url(#p78c4e028de)\" d=\"M 452.73974 245.582411 \nL 452.73974 245.582411 \n\" style=\"fill:none;stroke:#000000;stroke-linecap:square;\"/>\n   </g>\n   <g id=\"line2d_528\">\n    <path clip-path=\"url(#p78c4e028de)\" d=\"M 452.73974 248.009196 \nL 452.73974 243.155625 \n\" style=\"fill:none;stroke:#000000;stroke-linecap:square;\"/>\n   </g>\n   <g id=\"line2d_529\">\n    <path clip-path=\"url(#p78c4e028de)\" d=\"M 452.73974 248.009196 \nL 452.73974 243.155625 \n\" style=\"fill:none;stroke:#000000;stroke-linecap:square;\"/>\n   </g>\n   <g id=\"line2d_530\"/>\n   <g id=\"line2d_531\">\n    <path clip-path=\"url(#p78c4e028de)\" d=\"M 452.73974 231.021696 \nL 452.73974 221.314554 \nL 452.73974 221.314554 \nL 452.73974 231.021696 \nL 452.73974 231.021696 \n\" style=\"fill:none;stroke:#000000;stroke-linecap:square;\"/>\n   </g>\n   <g id=\"line2d_532\">\n    <path clip-path=\"url(#p78c4e028de)\" d=\"M 452.73974 226.168125 \nL 452.73974 226.168125 \n\" style=\"fill:none;stroke:#000000;stroke-linecap:square;\"/>\n   </g>\n   <g id=\"line2d_533\">\n    <path clip-path=\"url(#p78c4e028de)\" d=\"M 452.73974 226.168125 \nL 452.73974 226.168125 \n\" style=\"fill:none;stroke:#000000;stroke-linecap:square;\"/>\n   </g>\n   <g id=\"line2d_534\">\n    <path clip-path=\"url(#p78c4e028de)\" d=\"M 452.73974 228.594911 \nL 452.73974 223.741339 \n\" style=\"fill:none;stroke:#000000;stroke-linecap:square;\"/>\n   </g>\n   <g id=\"line2d_535\">\n    <path clip-path=\"url(#p78c4e028de)\" d=\"M 452.73974 228.594911 \nL 452.73974 223.741339 \n\" style=\"fill:none;stroke:#000000;stroke-linecap:square;\"/>\n   </g>\n   <g id=\"line2d_536\"/>\n   <g id=\"line2d_537\">\n    <path clip-path=\"url(#p78c4e028de)\" d=\"M 452.73974 211.607411 \nL 452.73974 201.900268 \nL 452.73974 201.900268 \nL 452.73974 211.607411 \nL 452.73974 211.607411 \n\" style=\"fill:none;stroke:#000000;stroke-linecap:square;\"/>\n   </g>\n   <g id=\"line2d_538\">\n    <path clip-path=\"url(#p78c4e028de)\" d=\"M 452.73974 206.753839 \nL 452.73974 206.753839 \n\" style=\"fill:none;stroke:#000000;stroke-linecap:square;\"/>\n   </g>\n   <g id=\"line2d_539\">\n    <path clip-path=\"url(#p78c4e028de)\" d=\"M 452.73974 206.753839 \nL 452.73974 206.753839 \n\" style=\"fill:none;stroke:#000000;stroke-linecap:square;\"/>\n   </g>\n   <g id=\"line2d_540\">\n    <path clip-path=\"url(#p78c4e028de)\" d=\"M 452.73974 209.180625 \nL 452.73974 204.327054 \n\" style=\"fill:none;stroke:#000000;stroke-linecap:square;\"/>\n   </g>\n   <g id=\"line2d_541\">\n    <path clip-path=\"url(#p78c4e028de)\" d=\"M 452.73974 209.180625 \nL 452.73974 204.327054 \n\" style=\"fill:none;stroke:#000000;stroke-linecap:square;\"/>\n   </g>\n   <g id=\"line2d_542\"/>\n   <g id=\"line2d_543\">\n    <path clip-path=\"url(#p78c4e028de)\" d=\"M 452.73974 192.193125 \nL 452.73974 182.485982 \nL 452.73974 182.485982 \nL 452.73974 192.193125 \nL 452.73974 192.193125 \n\" style=\"fill:none;stroke:#000000;stroke-linecap:square;\"/>\n   </g>\n   <g id=\"line2d_544\">\n    <path clip-path=\"url(#p78c4e028de)\" d=\"M 452.73974 187.339554 \nL 452.73974 187.339554 \n\" style=\"fill:none;stroke:#000000;stroke-linecap:square;\"/>\n   </g>\n   <g id=\"line2d_545\">\n    <path clip-path=\"url(#p78c4e028de)\" d=\"M 452.73974 187.339554 \nL 452.73974 187.339554 \n\" style=\"fill:none;stroke:#000000;stroke-linecap:square;\"/>\n   </g>\n   <g id=\"line2d_546\">\n    <path clip-path=\"url(#p78c4e028de)\" d=\"M 452.73974 189.766339 \nL 452.73974 184.912768 \n\" style=\"fill:none;stroke:#000000;stroke-linecap:square;\"/>\n   </g>\n   <g id=\"line2d_547\">\n    <path clip-path=\"url(#p78c4e028de)\" d=\"M 452.73974 189.766339 \nL 452.73974 184.912768 \n\" style=\"fill:none;stroke:#000000;stroke-linecap:square;\"/>\n   </g>\n   <g id=\"line2d_548\"/>\n   <g id=\"line2d_549\">\n    <path clip-path=\"url(#p78c4e028de)\" d=\"M 452.73974 172.778839 \nL 452.73974 163.071696 \nL 452.73974 163.071696 \nL 452.73974 172.778839 \nL 452.73974 172.778839 \n\" style=\"fill:none;stroke:#000000;stroke-linecap:square;\"/>\n   </g>\n   <g id=\"line2d_550\">\n    <path clip-path=\"url(#p78c4e028de)\" d=\"M 452.73974 167.925268 \nL 452.73974 167.925268 \n\" style=\"fill:none;stroke:#000000;stroke-linecap:square;\"/>\n   </g>\n   <g id=\"line2d_551\">\n    <path clip-path=\"url(#p78c4e028de)\" d=\"M 452.73974 167.925268 \nL 452.73974 167.925268 \n\" style=\"fill:none;stroke:#000000;stroke-linecap:square;\"/>\n   </g>\n   <g id=\"line2d_552\">\n    <path clip-path=\"url(#p78c4e028de)\" d=\"M 452.73974 170.352054 \nL 452.73974 165.498482 \n\" style=\"fill:none;stroke:#000000;stroke-linecap:square;\"/>\n   </g>\n   <g id=\"line2d_553\">\n    <path clip-path=\"url(#p78c4e028de)\" d=\"M 452.73974 170.352054 \nL 452.73974 165.498482 \n\" style=\"fill:none;stroke:#000000;stroke-linecap:square;\"/>\n   </g>\n   <g id=\"line2d_554\"/>\n   <g id=\"line2d_555\">\n    <path clip-path=\"url(#p78c4e028de)\" d=\"M 452.73974 153.364554 \nL 452.73974 143.657411 \nL 452.73974 143.657411 \nL 452.73974 153.364554 \nL 452.73974 153.364554 \n\" style=\"fill:none;stroke:#000000;stroke-linecap:square;\"/>\n   </g>\n   <g id=\"line2d_556\">\n    <path clip-path=\"url(#p78c4e028de)\" d=\"M 452.73974 148.510982 \nL 452.73974 148.510982 \n\" style=\"fill:none;stroke:#000000;stroke-linecap:square;\"/>\n   </g>\n   <g id=\"line2d_557\">\n    <path clip-path=\"url(#p78c4e028de)\" d=\"M 452.73974 148.510982 \nL 452.73974 148.510982 \n\" style=\"fill:none;stroke:#000000;stroke-linecap:square;\"/>\n   </g>\n   <g id=\"line2d_558\">\n    <path clip-path=\"url(#p78c4e028de)\" d=\"M 452.73974 150.937768 \nL 452.73974 146.084196 \n\" style=\"fill:none;stroke:#000000;stroke-linecap:square;\"/>\n   </g>\n   <g id=\"line2d_559\">\n    <path clip-path=\"url(#p78c4e028de)\" d=\"M 452.73974 150.937768 \nL 452.73974 146.084196 \n\" style=\"fill:none;stroke:#000000;stroke-linecap:square;\"/>\n   </g>\n   <g id=\"line2d_560\"/>\n   <g id=\"line2d_561\">\n    <path clip-path=\"url(#p78c4e028de)\" d=\"M 452.73974 133.950268 \nL 452.73974 124.243125 \nL 452.73974 124.243125 \nL 452.73974 133.950268 \nL 452.73974 133.950268 \n\" style=\"fill:none;stroke:#000000;stroke-linecap:square;\"/>\n   </g>\n   <g id=\"line2d_562\">\n    <path clip-path=\"url(#p78c4e028de)\" d=\"M 452.73974 129.096696 \nL 452.73974 129.096696 \n\" style=\"fill:none;stroke:#000000;stroke-linecap:square;\"/>\n   </g>\n   <g id=\"line2d_563\">\n    <path clip-path=\"url(#p78c4e028de)\" d=\"M 452.73974 129.096696 \nL 452.73974 129.096696 \n\" style=\"fill:none;stroke:#000000;stroke-linecap:square;\"/>\n   </g>\n   <g id=\"line2d_564\">\n    <path clip-path=\"url(#p78c4e028de)\" d=\"M 452.73974 131.523482 \nL 452.73974 126.669911 \n\" style=\"fill:none;stroke:#000000;stroke-linecap:square;\"/>\n   </g>\n   <g id=\"line2d_565\">\n    <path clip-path=\"url(#p78c4e028de)\" d=\"M 452.73974 131.523482 \nL 452.73974 126.669911 \n\" style=\"fill:none;stroke:#000000;stroke-linecap:square;\"/>\n   </g>\n   <g id=\"line2d_566\"/>\n   <g id=\"line2d_567\">\n    <path clip-path=\"url(#p78c4e028de)\" d=\"M 452.73974 114.535982 \nL 452.73974 104.828839 \nL 452.73974 104.828839 \nL 452.73974 114.535982 \nL 452.73974 114.535982 \n\" style=\"fill:none;stroke:#000000;stroke-linecap:square;\"/>\n   </g>\n   <g id=\"line2d_568\">\n    <path clip-path=\"url(#p78c4e028de)\" d=\"M 452.73974 109.682411 \nL 452.73974 109.682411 \n\" style=\"fill:none;stroke:#000000;stroke-linecap:square;\"/>\n   </g>\n   <g id=\"line2d_569\">\n    <path clip-path=\"url(#p78c4e028de)\" d=\"M 452.73974 109.682411 \nL 452.73974 109.682411 \n\" style=\"fill:none;stroke:#000000;stroke-linecap:square;\"/>\n   </g>\n   <g id=\"line2d_570\">\n    <path clip-path=\"url(#p78c4e028de)\" d=\"M 452.73974 112.109196 \nL 452.73974 107.255625 \n\" style=\"fill:none;stroke:#000000;stroke-linecap:square;\"/>\n   </g>\n   <g id=\"line2d_571\">\n    <path clip-path=\"url(#p78c4e028de)\" d=\"M 452.73974 112.109196 \nL 452.73974 107.255625 \n\" style=\"fill:none;stroke:#000000;stroke-linecap:square;\"/>\n   </g>\n   <g id=\"line2d_572\">\n    <g clip-path=\"url(#p78c4e028de)\">\n     <use style=\"fill-opacity:0;stroke:#000000;\" x=\"491.760719\" xlink:href=\"#m2b85d5d29e\" y=\"109.682411\"/>\n    </g>\n   </g>\n   <g id=\"line2d_573\">\n    <path clip-path=\"url(#p78c4e028de)\" d=\"M 452.73974 95.121696 \nL 452.73974 85.414554 \nL 491.760719 85.414554 \nL 491.760719 95.121696 \nL 452.73974 95.121696 \n\" style=\"fill:none;stroke:#000000;stroke-linecap:square;\"/>\n   </g>\n   <g id=\"line2d_574\">\n    <path clip-path=\"url(#p78c4e028de)\" d=\"M 452.73974 90.268125 \nL 452.73974 90.268125 \n\" style=\"fill:none;stroke:#000000;stroke-linecap:square;\"/>\n   </g>\n   <g id=\"line2d_575\">\n    <path clip-path=\"url(#p78c4e028de)\" d=\"M 491.760719 90.268125 \nL 491.760719 90.268125 \n\" style=\"fill:none;stroke:#000000;stroke-linecap:square;\"/>\n   </g>\n   <g id=\"line2d_576\">\n    <path clip-path=\"url(#p78c4e028de)\" d=\"M 452.73974 92.694911 \nL 452.73974 87.841339 \n\" style=\"fill:none;stroke:#000000;stroke-linecap:square;\"/>\n   </g>\n   <g id=\"line2d_577\">\n    <path clip-path=\"url(#p78c4e028de)\" d=\"M 491.760719 92.694911 \nL 491.760719 87.841339 \n\" style=\"fill:none;stroke:#000000;stroke-linecap:square;\"/>\n   </g>\n   <g id=\"line2d_578\"/>\n   <g id=\"line2d_579\">\n    <path clip-path=\"url(#p78c4e028de)\" d=\"M 530.781698 75.707411 \nL 530.781698 66.000268 \nL 530.781698 66.000268 \nL 530.781698 75.707411 \nL 530.781698 75.707411 \n\" style=\"fill:none;stroke:#000000;stroke-linecap:square;\"/>\n   </g>\n   <g id=\"line2d_580\">\n    <path clip-path=\"url(#p78c4e028de)\" d=\"M 530.781698 70.853839 \nL 530.781698 70.853839 \n\" style=\"fill:none;stroke:#000000;stroke-linecap:square;\"/>\n   </g>\n   <g id=\"line2d_581\">\n    <path clip-path=\"url(#p78c4e028de)\" d=\"M 530.781698 70.853839 \nL 530.781698 70.853839 \n\" style=\"fill:none;stroke:#000000;stroke-linecap:square;\"/>\n   </g>\n   <g id=\"line2d_582\">\n    <path clip-path=\"url(#p78c4e028de)\" d=\"M 530.781698 73.280625 \nL 530.781698 68.427054 \n\" style=\"fill:none;stroke:#000000;stroke-linecap:square;\"/>\n   </g>\n   <g id=\"line2d_583\">\n    <path clip-path=\"url(#p78c4e028de)\" d=\"M 530.781698 73.280625 \nL 530.781698 68.427054 \n\" style=\"fill:none;stroke:#000000;stroke-linecap:square;\"/>\n   </g>\n   <g id=\"line2d_584\">\n    <g clip-path=\"url(#p78c4e028de)\">\n     <use style=\"fill-opacity:0;stroke:#000000;\" x=\"491.760719\" xlink:href=\"#m2b85d5d29e\" y=\"70.853839\"/>\n    </g>\n   </g>\n   <g id=\"line2d_585\">\n    <path clip-path=\"url(#p78c4e028de)\" d=\"M 608.823656 56.293125 \nL 608.823656 46.585982 \nL 764.907572 46.585982 \nL 764.907572 56.293125 \nL 608.823656 56.293125 \n\" style=\"fill:none;stroke:#000000;stroke-linecap:square;\"/>\n   </g>\n   <g id=\"line2d_586\">\n    <path clip-path=\"url(#p78c4e028de)\" d=\"M 608.823656 51.439554 \nL 530.781698 51.439554 \n\" style=\"fill:none;stroke:#000000;stroke-linecap:square;\"/>\n   </g>\n   <g id=\"line2d_587\">\n    <path clip-path=\"url(#p78c4e028de)\" d=\"M 764.907572 51.439554 \nL 764.907572 51.439554 \n\" style=\"fill:none;stroke:#000000;stroke-linecap:square;\"/>\n   </g>\n   <g id=\"line2d_588\">\n    <path clip-path=\"url(#p78c4e028de)\" d=\"M 530.781698 53.866339 \nL 530.781698 49.012768 \n\" style=\"fill:none;stroke:#000000;stroke-linecap:square;\"/>\n   </g>\n   <g id=\"line2d_589\">\n    <path clip-path=\"url(#p78c4e028de)\" d=\"M 764.907572 53.866339 \nL 764.907572 49.012768 \n\" style=\"fill:none;stroke:#000000;stroke-linecap:square;\"/>\n   </g>\n   <g id=\"line2d_590\"/>\n   <g id=\"line2d_591\">\n    <path clip-path=\"url(#p78c4e028de)\" d=\"M 647.844635 36.878839 \nL 647.844635 27.171696 \nL 686.865614 27.171696 \nL 686.865614 36.878839 \nL 647.844635 36.878839 \n\" style=\"fill:none;stroke:#000000;stroke-linecap:square;\"/>\n   </g>\n   <g id=\"line2d_592\">\n    <path clip-path=\"url(#p78c4e028de)\" d=\"M 647.844635 32.025268 \nL 608.823656 32.025268 \n\" style=\"fill:none;stroke:#000000;stroke-linecap:square;\"/>\n   </g>\n   <g id=\"line2d_593\">\n    <path clip-path=\"url(#p78c4e028de)\" d=\"M 686.865614 32.025268 \nL 686.865614 32.025268 \n\" style=\"fill:none;stroke:#000000;stroke-linecap:square;\"/>\n   </g>\n   <g id=\"line2d_594\">\n    <path clip-path=\"url(#p78c4e028de)\" d=\"M 608.823656 34.452054 \nL 608.823656 29.598482 \n\" style=\"fill:none;stroke:#000000;stroke-linecap:square;\"/>\n   </g>\n   <g id=\"line2d_595\">\n    <path clip-path=\"url(#p78c4e028de)\" d=\"M 686.865614 34.452054 \nL 686.865614 29.598482 \n\" style=\"fill:none;stroke:#000000;stroke-linecap:square;\"/>\n   </g>\n   <g id=\"line2d_596\">\n    <g clip-path=\"url(#p78c4e028de)\">\n     <use style=\"fill-opacity:0;stroke:#000000;\" x=\"803.928551\" xlink:href=\"#m2b85d5d29e\" y=\"32.025268\"/>\n    </g>\n   </g>\n   <g id=\"line2d_597\">\n    <path clip-path=\"url(#p78c4e028de)\" d=\"M 374.697782 1648.264554 \nL 374.697782 1638.557411 \n\" style=\"fill:none;stroke:#ff7f0e;stroke-linecap:square;\"/>\n   </g>\n   <g id=\"line2d_598\">\n    <path clip-path=\"url(#p78c4e028de)\" d=\"M 413.718761 1628.850268 \nL 413.718761 1619.143125 \n\" style=\"fill:none;stroke:#ff7f0e;stroke-linecap:square;\"/>\n   </g>\n   <g id=\"line2d_599\">\n    <path clip-path=\"url(#p78c4e028de)\" d=\"M 452.73974 1609.435982 \nL 452.73974 1599.728839 \n\" style=\"fill:none;stroke:#ff7f0e;stroke-linecap:square;\"/>\n   </g>\n   <g id=\"line2d_600\">\n    <path clip-path=\"url(#p78c4e028de)\" d=\"M 452.73974 1590.021696 \nL 452.73974 1580.314554 \n\" style=\"fill:none;stroke:#ff7f0e;stroke-linecap:square;\"/>\n   </g>\n   <g id=\"line2d_601\">\n    <path clip-path=\"url(#p78c4e028de)\" d=\"M 452.73974 1570.607411 \nL 452.73974 1560.900268 \n\" style=\"fill:none;stroke:#ff7f0e;stroke-linecap:square;\"/>\n   </g>\n   <g id=\"line2d_602\">\n    <path clip-path=\"url(#p78c4e028de)\" d=\"M 452.73974 1551.193125 \nL 452.73974 1541.485982 \n\" style=\"fill:none;stroke:#ff7f0e;stroke-linecap:square;\"/>\n   </g>\n   <g id=\"line2d_603\">\n    <path clip-path=\"url(#p78c4e028de)\" d=\"M 452.73974 1531.778839 \nL 452.73974 1522.071696 \n\" style=\"fill:none;stroke:#ff7f0e;stroke-linecap:square;\"/>\n   </g>\n   <g id=\"line2d_604\">\n    <path clip-path=\"url(#p78c4e028de)\" d=\"M 452.73974 1512.364554 \nL 452.73974 1502.657411 \n\" style=\"fill:none;stroke:#ff7f0e;stroke-linecap:square;\"/>\n   </g>\n   <g id=\"line2d_605\">\n    <path clip-path=\"url(#p78c4e028de)\" d=\"M 452.73974 1492.950268 \nL 452.73974 1483.243125 \n\" style=\"fill:none;stroke:#ff7f0e;stroke-linecap:square;\"/>\n   </g>\n   <g id=\"line2d_606\">\n    <path clip-path=\"url(#p78c4e028de)\" d=\"M 452.73974 1473.535982 \nL 452.73974 1463.828839 \n\" style=\"fill:none;stroke:#ff7f0e;stroke-linecap:square;\"/>\n   </g>\n   <g id=\"line2d_607\">\n    <path clip-path=\"url(#p78c4e028de)\" d=\"M 452.73974 1454.121696 \nL 452.73974 1444.414554 \n\" style=\"fill:none;stroke:#ff7f0e;stroke-linecap:square;\"/>\n   </g>\n   <g id=\"line2d_608\">\n    <path clip-path=\"url(#p78c4e028de)\" d=\"M 452.73974 1434.707411 \nL 452.73974 1425.000268 \n\" style=\"fill:none;stroke:#ff7f0e;stroke-linecap:square;\"/>\n   </g>\n   <g id=\"line2d_609\">\n    <path clip-path=\"url(#p78c4e028de)\" d=\"M 452.73974 1415.293125 \nL 452.73974 1405.585982 \n\" style=\"fill:none;stroke:#ff7f0e;stroke-linecap:square;\"/>\n   </g>\n   <g id=\"line2d_610\">\n    <path clip-path=\"url(#p78c4e028de)\" d=\"M 452.73974 1395.878839 \nL 452.73974 1386.171696 \n\" style=\"fill:none;stroke:#ff7f0e;stroke-linecap:square;\"/>\n   </g>\n   <g id=\"line2d_611\">\n    <path clip-path=\"url(#p78c4e028de)\" d=\"M 452.73974 1376.464554 \nL 452.73974 1366.757411 \n\" style=\"fill:none;stroke:#ff7f0e;stroke-linecap:square;\"/>\n   </g>\n   <g id=\"line2d_612\">\n    <path clip-path=\"url(#p78c4e028de)\" d=\"M 452.73974 1357.050268 \nL 452.73974 1347.343125 \n\" style=\"fill:none;stroke:#ff7f0e;stroke-linecap:square;\"/>\n   </g>\n   <g id=\"line2d_613\">\n    <path clip-path=\"url(#p78c4e028de)\" d=\"M 452.73974 1337.635982 \nL 452.73974 1327.928839 \n\" style=\"fill:none;stroke:#ff7f0e;stroke-linecap:square;\"/>\n   </g>\n   <g id=\"line2d_614\">\n    <path clip-path=\"url(#p78c4e028de)\" d=\"M 452.73974 1318.221696 \nL 452.73974 1308.514554 \n\" style=\"fill:none;stroke:#ff7f0e;stroke-linecap:square;\"/>\n   </g>\n   <g id=\"line2d_615\">\n    <path clip-path=\"url(#p78c4e028de)\" d=\"M 452.73974 1298.807411 \nL 452.73974 1289.100268 \n\" style=\"fill:none;stroke:#ff7f0e;stroke-linecap:square;\"/>\n   </g>\n   <g id=\"line2d_616\">\n    <path clip-path=\"url(#p78c4e028de)\" d=\"M 452.73974 1279.393125 \nL 452.73974 1269.685982 \n\" style=\"fill:none;stroke:#ff7f0e;stroke-linecap:square;\"/>\n   </g>\n   <g id=\"line2d_617\">\n    <path clip-path=\"url(#p78c4e028de)\" d=\"M 452.73974 1259.978839 \nL 452.73974 1250.271696 \n\" style=\"fill:none;stroke:#ff7f0e;stroke-linecap:square;\"/>\n   </g>\n   <g id=\"line2d_618\">\n    <path clip-path=\"url(#p78c4e028de)\" d=\"M 452.73974 1240.564554 \nL 452.73974 1230.857411 \n\" style=\"fill:none;stroke:#ff7f0e;stroke-linecap:square;\"/>\n   </g>\n   <g id=\"line2d_619\">\n    <path clip-path=\"url(#p78c4e028de)\" d=\"M 452.73974 1221.150268 \nL 452.73974 1211.443125 \n\" style=\"fill:none;stroke:#ff7f0e;stroke-linecap:square;\"/>\n   </g>\n   <g id=\"line2d_620\">\n    <path clip-path=\"url(#p78c4e028de)\" d=\"M 452.73974 1201.735982 \nL 452.73974 1192.028839 \n\" style=\"fill:none;stroke:#ff7f0e;stroke-linecap:square;\"/>\n   </g>\n   <g id=\"line2d_621\">\n    <path clip-path=\"url(#p78c4e028de)\" d=\"M 452.73974 1182.321696 \nL 452.73974 1172.614554 \n\" style=\"fill:none;stroke:#ff7f0e;stroke-linecap:square;\"/>\n   </g>\n   <g id=\"line2d_622\">\n    <path clip-path=\"url(#p78c4e028de)\" d=\"M 452.73974 1162.907411 \nL 452.73974 1153.200268 \n\" style=\"fill:none;stroke:#ff7f0e;stroke-linecap:square;\"/>\n   </g>\n   <g id=\"line2d_623\">\n    <path clip-path=\"url(#p78c4e028de)\" d=\"M 452.73974 1143.493125 \nL 452.73974 1133.785982 \n\" style=\"fill:none;stroke:#ff7f0e;stroke-linecap:square;\"/>\n   </g>\n   <g id=\"line2d_624\">\n    <path clip-path=\"url(#p78c4e028de)\" d=\"M 452.73974 1124.078839 \nL 452.73974 1114.371696 \n\" style=\"fill:none;stroke:#ff7f0e;stroke-linecap:square;\"/>\n   </g>\n   <g id=\"line2d_625\">\n    <path clip-path=\"url(#p78c4e028de)\" d=\"M 452.73974 1104.664554 \nL 452.73974 1094.957411 \n\" style=\"fill:none;stroke:#ff7f0e;stroke-linecap:square;\"/>\n   </g>\n   <g id=\"line2d_626\">\n    <path clip-path=\"url(#p78c4e028de)\" d=\"M 452.73974 1085.250268 \nL 452.73974 1075.543125 \n\" style=\"fill:none;stroke:#ff7f0e;stroke-linecap:square;\"/>\n   </g>\n   <g id=\"line2d_627\">\n    <path clip-path=\"url(#p78c4e028de)\" d=\"M 452.73974 1065.835982 \nL 452.73974 1056.128839 \n\" style=\"fill:none;stroke:#ff7f0e;stroke-linecap:square;\"/>\n   </g>\n   <g id=\"line2d_628\">\n    <path clip-path=\"url(#p78c4e028de)\" d=\"M 452.73974 1046.421696 \nL 452.73974 1036.714554 \n\" style=\"fill:none;stroke:#ff7f0e;stroke-linecap:square;\"/>\n   </g>\n   <g id=\"line2d_629\">\n    <path clip-path=\"url(#p78c4e028de)\" d=\"M 452.73974 1027.007411 \nL 452.73974 1017.300268 \n\" style=\"fill:none;stroke:#ff7f0e;stroke-linecap:square;\"/>\n   </g>\n   <g id=\"line2d_630\">\n    <path clip-path=\"url(#p78c4e028de)\" d=\"M 452.73974 1007.593125 \nL 452.73974 997.885982 \n\" style=\"fill:none;stroke:#ff7f0e;stroke-linecap:square;\"/>\n   </g>\n   <g id=\"line2d_631\">\n    <path clip-path=\"url(#p78c4e028de)\" d=\"M 452.73974 988.178839 \nL 452.73974 978.471696 \n\" style=\"fill:none;stroke:#ff7f0e;stroke-linecap:square;\"/>\n   </g>\n   <g id=\"line2d_632\">\n    <path clip-path=\"url(#p78c4e028de)\" d=\"M 452.73974 968.764554 \nL 452.73974 959.057411 \n\" style=\"fill:none;stroke:#ff7f0e;stroke-linecap:square;\"/>\n   </g>\n   <g id=\"line2d_633\">\n    <path clip-path=\"url(#p78c4e028de)\" d=\"M 452.73974 949.350268 \nL 452.73974 939.643125 \n\" style=\"fill:none;stroke:#ff7f0e;stroke-linecap:square;\"/>\n   </g>\n   <g id=\"line2d_634\">\n    <path clip-path=\"url(#p78c4e028de)\" d=\"M 452.73974 929.935982 \nL 452.73974 920.228839 \n\" style=\"fill:none;stroke:#ff7f0e;stroke-linecap:square;\"/>\n   </g>\n   <g id=\"line2d_635\">\n    <path clip-path=\"url(#p78c4e028de)\" d=\"M 452.73974 910.521696 \nL 452.73974 900.814554 \n\" style=\"fill:none;stroke:#ff7f0e;stroke-linecap:square;\"/>\n   </g>\n   <g id=\"line2d_636\">\n    <path clip-path=\"url(#p78c4e028de)\" d=\"M 452.73974 891.107411 \nL 452.73974 881.400268 \n\" style=\"fill:none;stroke:#ff7f0e;stroke-linecap:square;\"/>\n   </g>\n   <g id=\"line2d_637\">\n    <path clip-path=\"url(#p78c4e028de)\" d=\"M 452.73974 871.693125 \nL 452.73974 861.985982 \n\" style=\"fill:none;stroke:#ff7f0e;stroke-linecap:square;\"/>\n   </g>\n   <g id=\"line2d_638\">\n    <path clip-path=\"url(#p78c4e028de)\" d=\"M 452.73974 852.278839 \nL 452.73974 842.571696 \n\" style=\"fill:none;stroke:#ff7f0e;stroke-linecap:square;\"/>\n   </g>\n   <g id=\"line2d_639\">\n    <path clip-path=\"url(#p78c4e028de)\" d=\"M 452.73974 832.864554 \nL 452.73974 823.157411 \n\" style=\"fill:none;stroke:#ff7f0e;stroke-linecap:square;\"/>\n   </g>\n   <g id=\"line2d_640\">\n    <path clip-path=\"url(#p78c4e028de)\" d=\"M 452.73974 813.450268 \nL 452.73974 803.743125 \n\" style=\"fill:none;stroke:#ff7f0e;stroke-linecap:square;\"/>\n   </g>\n   <g id=\"line2d_641\">\n    <path clip-path=\"url(#p78c4e028de)\" d=\"M 452.73974 794.035982 \nL 452.73974 784.328839 \n\" style=\"fill:none;stroke:#ff7f0e;stroke-linecap:square;\"/>\n   </g>\n   <g id=\"line2d_642\">\n    <path clip-path=\"url(#p78c4e028de)\" d=\"M 452.73974 774.621696 \nL 452.73974 764.914554 \n\" style=\"fill:none;stroke:#ff7f0e;stroke-linecap:square;\"/>\n   </g>\n   <g id=\"line2d_643\">\n    <path clip-path=\"url(#p78c4e028de)\" d=\"M 452.73974 755.207411 \nL 452.73974 745.500268 \n\" style=\"fill:none;stroke:#ff7f0e;stroke-linecap:square;\"/>\n   </g>\n   <g id=\"line2d_644\">\n    <path clip-path=\"url(#p78c4e028de)\" d=\"M 452.73974 735.793125 \nL 452.73974 726.085982 \n\" style=\"fill:none;stroke:#ff7f0e;stroke-linecap:square;\"/>\n   </g>\n   <g id=\"line2d_645\">\n    <path clip-path=\"url(#p78c4e028de)\" d=\"M 452.73974 716.378839 \nL 452.73974 706.671696 \n\" style=\"fill:none;stroke:#ff7f0e;stroke-linecap:square;\"/>\n   </g>\n   <g id=\"line2d_646\">\n    <path clip-path=\"url(#p78c4e028de)\" d=\"M 452.73974 696.964554 \nL 452.73974 687.257411 \n\" style=\"fill:none;stroke:#ff7f0e;stroke-linecap:square;\"/>\n   </g>\n   <g id=\"line2d_647\">\n    <path clip-path=\"url(#p78c4e028de)\" d=\"M 452.73974 677.550268 \nL 452.73974 667.843125 \n\" style=\"fill:none;stroke:#ff7f0e;stroke-linecap:square;\"/>\n   </g>\n   <g id=\"line2d_648\">\n    <path clip-path=\"url(#p78c4e028de)\" d=\"M 452.73974 658.135982 \nL 452.73974 648.428839 \n\" style=\"fill:none;stroke:#ff7f0e;stroke-linecap:square;\"/>\n   </g>\n   <g id=\"line2d_649\">\n    <path clip-path=\"url(#p78c4e028de)\" d=\"M 452.73974 638.721696 \nL 452.73974 629.014554 \n\" style=\"fill:none;stroke:#ff7f0e;stroke-linecap:square;\"/>\n   </g>\n   <g id=\"line2d_650\">\n    <path clip-path=\"url(#p78c4e028de)\" d=\"M 452.73974 619.307411 \nL 452.73974 609.600268 \n\" style=\"fill:none;stroke:#ff7f0e;stroke-linecap:square;\"/>\n   </g>\n   <g id=\"line2d_651\">\n    <path clip-path=\"url(#p78c4e028de)\" d=\"M 452.73974 599.893125 \nL 452.73974 590.185982 \n\" style=\"fill:none;stroke:#ff7f0e;stroke-linecap:square;\"/>\n   </g>\n   <g id=\"line2d_652\">\n    <path clip-path=\"url(#p78c4e028de)\" d=\"M 452.73974 580.478839 \nL 452.73974 570.771696 \n\" style=\"fill:none;stroke:#ff7f0e;stroke-linecap:square;\"/>\n   </g>\n   <g id=\"line2d_653\">\n    <path clip-path=\"url(#p78c4e028de)\" d=\"M 452.73974 561.064554 \nL 452.73974 551.357411 \n\" style=\"fill:none;stroke:#ff7f0e;stroke-linecap:square;\"/>\n   </g>\n   <g id=\"line2d_654\">\n    <path clip-path=\"url(#p78c4e028de)\" d=\"M 452.73974 541.650268 \nL 452.73974 531.943125 \n\" style=\"fill:none;stroke:#ff7f0e;stroke-linecap:square;\"/>\n   </g>\n   <g id=\"line2d_655\">\n    <path clip-path=\"url(#p78c4e028de)\" d=\"M 452.73974 522.235982 \nL 452.73974 512.528839 \n\" style=\"fill:none;stroke:#ff7f0e;stroke-linecap:square;\"/>\n   </g>\n   <g id=\"line2d_656\">\n    <path clip-path=\"url(#p78c4e028de)\" d=\"M 452.73974 502.821696 \nL 452.73974 493.114554 \n\" style=\"fill:none;stroke:#ff7f0e;stroke-linecap:square;\"/>\n   </g>\n   <g id=\"line2d_657\">\n    <path clip-path=\"url(#p78c4e028de)\" d=\"M 452.73974 483.407411 \nL 452.73974 473.700268 \n\" style=\"fill:none;stroke:#ff7f0e;stroke-linecap:square;\"/>\n   </g>\n   <g id=\"line2d_658\">\n    <path clip-path=\"url(#p78c4e028de)\" d=\"M 452.73974 463.993125 \nL 452.73974 454.285982 \n\" style=\"fill:none;stroke:#ff7f0e;stroke-linecap:square;\"/>\n   </g>\n   <g id=\"line2d_659\">\n    <path clip-path=\"url(#p78c4e028de)\" d=\"M 452.73974 444.578839 \nL 452.73974 434.871696 \n\" style=\"fill:none;stroke:#ff7f0e;stroke-linecap:square;\"/>\n   </g>\n   <g id=\"line2d_660\">\n    <path clip-path=\"url(#p78c4e028de)\" d=\"M 452.73974 425.164554 \nL 452.73974 415.457411 \n\" style=\"fill:none;stroke:#ff7f0e;stroke-linecap:square;\"/>\n   </g>\n   <g id=\"line2d_661\">\n    <path clip-path=\"url(#p78c4e028de)\" d=\"M 452.73974 405.750268 \nL 452.73974 396.043125 \n\" style=\"fill:none;stroke:#ff7f0e;stroke-linecap:square;\"/>\n   </g>\n   <g id=\"line2d_662\">\n    <path clip-path=\"url(#p78c4e028de)\" d=\"M 452.73974 386.335982 \nL 452.73974 376.628839 \n\" style=\"fill:none;stroke:#ff7f0e;stroke-linecap:square;\"/>\n   </g>\n   <g id=\"line2d_663\">\n    <path clip-path=\"url(#p78c4e028de)\" d=\"M 452.73974 366.921696 \nL 452.73974 357.214554 \n\" style=\"fill:none;stroke:#ff7f0e;stroke-linecap:square;\"/>\n   </g>\n   <g id=\"line2d_664\">\n    <path clip-path=\"url(#p78c4e028de)\" d=\"M 452.73974 347.507411 \nL 452.73974 337.800268 \n\" style=\"fill:none;stroke:#ff7f0e;stroke-linecap:square;\"/>\n   </g>\n   <g id=\"line2d_665\">\n    <path clip-path=\"url(#p78c4e028de)\" d=\"M 452.73974 328.093125 \nL 452.73974 318.385982 \n\" style=\"fill:none;stroke:#ff7f0e;stroke-linecap:square;\"/>\n   </g>\n   <g id=\"line2d_666\">\n    <path clip-path=\"url(#p78c4e028de)\" d=\"M 452.73974 308.678839 \nL 452.73974 298.971696 \n\" style=\"fill:none;stroke:#ff7f0e;stroke-linecap:square;\"/>\n   </g>\n   <g id=\"line2d_667\">\n    <path clip-path=\"url(#p78c4e028de)\" d=\"M 452.73974 289.264554 \nL 452.73974 279.557411 \n\" style=\"fill:none;stroke:#ff7f0e;stroke-linecap:square;\"/>\n   </g>\n   <g id=\"line2d_668\">\n    <path clip-path=\"url(#p78c4e028de)\" d=\"M 452.73974 269.850268 \nL 452.73974 260.143125 \n\" style=\"fill:none;stroke:#ff7f0e;stroke-linecap:square;\"/>\n   </g>\n   <g id=\"line2d_669\">\n    <path clip-path=\"url(#p78c4e028de)\" d=\"M 452.73974 250.435982 \nL 452.73974 240.728839 \n\" style=\"fill:none;stroke:#ff7f0e;stroke-linecap:square;\"/>\n   </g>\n   <g id=\"line2d_670\">\n    <path clip-path=\"url(#p78c4e028de)\" d=\"M 452.73974 231.021696 \nL 452.73974 221.314554 \n\" style=\"fill:none;stroke:#ff7f0e;stroke-linecap:square;\"/>\n   </g>\n   <g id=\"line2d_671\">\n    <path clip-path=\"url(#p78c4e028de)\" d=\"M 452.73974 211.607411 \nL 452.73974 201.900268 \n\" style=\"fill:none;stroke:#ff7f0e;stroke-linecap:square;\"/>\n   </g>\n   <g id=\"line2d_672\">\n    <path clip-path=\"url(#p78c4e028de)\" d=\"M 452.73974 192.193125 \nL 452.73974 182.485982 \n\" style=\"fill:none;stroke:#ff7f0e;stroke-linecap:square;\"/>\n   </g>\n   <g id=\"line2d_673\">\n    <path clip-path=\"url(#p78c4e028de)\" d=\"M 452.73974 172.778839 \nL 452.73974 163.071696 \n\" style=\"fill:none;stroke:#ff7f0e;stroke-linecap:square;\"/>\n   </g>\n   <g id=\"line2d_674\">\n    <path clip-path=\"url(#p78c4e028de)\" d=\"M 452.73974 153.364554 \nL 452.73974 143.657411 \n\" style=\"fill:none;stroke:#ff7f0e;stroke-linecap:square;\"/>\n   </g>\n   <g id=\"line2d_675\">\n    <path clip-path=\"url(#p78c4e028de)\" d=\"M 452.73974 133.950268 \nL 452.73974 124.243125 \n\" style=\"fill:none;stroke:#ff7f0e;stroke-linecap:square;\"/>\n   </g>\n   <g id=\"line2d_676\">\n    <path clip-path=\"url(#p78c4e028de)\" d=\"M 452.73974 114.535982 \nL 452.73974 104.828839 \n\" style=\"fill:none;stroke:#ff7f0e;stroke-linecap:square;\"/>\n   </g>\n   <g id=\"line2d_677\">\n    <path clip-path=\"url(#p78c4e028de)\" d=\"M 491.760719 95.121696 \nL 491.760719 85.414554 \n\" style=\"fill:none;stroke:#ff7f0e;stroke-linecap:square;\"/>\n   </g>\n   <g id=\"line2d_678\">\n    <path clip-path=\"url(#p78c4e028de)\" d=\"M 530.781698 75.707411 \nL 530.781698 66.000268 \n\" style=\"fill:none;stroke:#ff7f0e;stroke-linecap:square;\"/>\n   </g>\n   <g id=\"line2d_679\">\n    <path clip-path=\"url(#p78c4e028de)\" d=\"M 647.844635 56.293125 \nL 647.844635 46.585982 \n\" style=\"fill:none;stroke:#ff7f0e;stroke-linecap:square;\"/>\n   </g>\n   <g id=\"line2d_680\">\n    <path clip-path=\"url(#p78c4e028de)\" d=\"M 686.865614 36.878839 \nL 686.865614 27.171696 \n\" style=\"fill:none;stroke:#ff7f0e;stroke-linecap:square;\"/>\n   </g>\n   <g id=\"patch_3\">\n    <path d=\"M 271.292188 1653.118125 \nL 271.292188 22.318125 \n\" style=\"fill:none;stroke:#000000;stroke-linecap:square;stroke-linejoin:miter;stroke-width:0.8;\"/>\n   </g>\n   <g id=\"patch_4\">\n    <path d=\"M 829.292188 1653.118125 \nL 829.292188 22.318125 \n\" style=\"fill:none;stroke:#000000;stroke-linecap:square;stroke-linejoin:miter;stroke-width:0.8;\"/>\n   </g>\n   <g id=\"patch_5\">\n    <path d=\"M 271.292188 1653.118125 \nL 829.292188 1653.118125 \n\" style=\"fill:none;stroke:#000000;stroke-linecap:square;stroke-linejoin:miter;stroke-width:0.8;\"/>\n   </g>\n   <g id=\"patch_6\">\n    <path d=\"M 271.292188 22.318125 \nL 829.292188 22.318125 \n\" style=\"fill:none;stroke:#000000;stroke-linecap:square;stroke-linejoin:miter;stroke-width:0.8;\"/>\n   </g>\n   <g id=\"text_93\">\n    <!-- Permutation Importances (test set) -->\n    <defs>\n     <path id=\"DejaVuSans-32\"/>\n     <path d=\"M 31 75.875 \nQ 24.46875 64.65625 21.28125 53.65625 \nQ 18.109375 42.671875 18.109375 31.390625 \nQ 18.109375 20.125 21.3125 9.0625 \nQ 24.515625 -2 31 -13.1875 \nL 23.1875 -13.1875 \nQ 15.875 -1.703125 12.234375 9.375 \nQ 8.59375 20.453125 8.59375 31.390625 \nQ 8.59375 42.28125 12.203125 53.3125 \nQ 15.828125 64.359375 23.1875 75.875 \nz\n\" id=\"DejaVuSans-40\"/>\n    </defs>\n    <g transform=\"translate(445.06625 16.318125)scale(0.12 -0.12)\">\n     <use xlink:href=\"#DejaVuSans-80\"/>\n     <use x=\"56.677734\" xlink:href=\"#DejaVuSans-101\"/>\n     <use x=\"118.201172\" xlink:href=\"#DejaVuSans-114\"/>\n     <use x=\"157.564453\" xlink:href=\"#DejaVuSans-109\"/>\n     <use x=\"254.976562\" xlink:href=\"#DejaVuSans-117\"/>\n     <use x=\"318.355469\" xlink:href=\"#DejaVuSans-116\"/>\n     <use x=\"357.564453\" xlink:href=\"#DejaVuSans-97\"/>\n     <use x=\"418.84375\" xlink:href=\"#DejaVuSans-116\"/>\n     <use x=\"458.052734\" xlink:href=\"#DejaVuSans-105\"/>\n     <use x=\"485.835938\" xlink:href=\"#DejaVuSans-111\"/>\n     <use x=\"547.017578\" xlink:href=\"#DejaVuSans-110\"/>\n     <use x=\"610.396484\" xlink:href=\"#DejaVuSans-32\"/>\n     <use x=\"642.183594\" xlink:href=\"#DejaVuSans-73\"/>\n     <use x=\"671.675781\" xlink:href=\"#DejaVuSans-109\"/>\n     <use x=\"769.087891\" xlink:href=\"#DejaVuSans-112\"/>\n     <use x=\"832.564453\" xlink:href=\"#DejaVuSans-111\"/>\n     <use x=\"893.746094\" xlink:href=\"#DejaVuSans-114\"/>\n     <use x=\"934.859375\" xlink:href=\"#DejaVuSans-116\"/>\n     <use x=\"974.068359\" xlink:href=\"#DejaVuSans-97\"/>\n     <use x=\"1035.347656\" xlink:href=\"#DejaVuSans-110\"/>\n     <use x=\"1098.726562\" xlink:href=\"#DejaVuSans-99\"/>\n     <use x=\"1153.707031\" xlink:href=\"#DejaVuSans-101\"/>\n     <use x=\"1215.230469\" xlink:href=\"#DejaVuSans-115\"/>\n     <use x=\"1267.330078\" xlink:href=\"#DejaVuSans-32\"/>\n     <use x=\"1299.117188\" xlink:href=\"#DejaVuSans-40\"/>\n     <use x=\"1338.130859\" xlink:href=\"#DejaVuSans-116\"/>\n     <use x=\"1377.339844\" xlink:href=\"#DejaVuSans-101\"/>\n     <use x=\"1438.863281\" xlink:href=\"#DejaVuSans-115\"/>\n     <use x=\"1490.962891\" xlink:href=\"#DejaVuSans-116\"/>\n     <use x=\"1530.171875\" xlink:href=\"#DejaVuSans-32\"/>\n     <use x=\"1561.958984\" xlink:href=\"#DejaVuSans-115\"/>\n     <use x=\"1614.058594\" xlink:href=\"#DejaVuSans-101\"/>\n     <use x=\"1675.582031\" xlink:href=\"#DejaVuSans-116\"/>\n     <use x=\"1714.791016\" xlink:href=\"#DejaVuSans-41\"/>\n    </g>\n   </g>\n  </g>\n </g>\n <defs>\n  <clipPath id=\"p78c4e028de\">\n   <rect height=\"1630.8\" width=\"558\" x=\"271.292188\" y=\"22.318125\"/>\n  </clipPath>\n </defs>\n</svg>\n",
      "image/png": "[encoded data removed]"
     },
     "metadata": {
      "needs_background": "light"
     }
    }
   ],
   "source": [
    "fig= plt.figure(figsize=(10,30))\n",
    "perm_sorted_idx = imps.importances_mean.argsort()\n",
    "plt.boxplot(imps.importances[perm_sorted_idx].T, vert=False,\n",
    "            labels=X_test.columns[perm_sorted_idx])\n",
    "plt.title(\"Permutation Importances (test set)\");"
   ]
  },
  {
   "cell_type": "code",
   "execution_count": 37,
   "metadata": {},
   "outputs": [
    {
     "output_type": "execute_result",
     "data": {
      "text/plain": "Index(['miglitol', 'chlorpropamide', 'medical_specialty_Urology',\n       'medical_specialty_ObstetricsandGynecology',\n       'medical_specialty_Surgery-Cardiovascular/Thoracic'],\n      dtype='object')"
     },
     "metadata": {},
     "execution_count": 37
    }
   ],
   "source": [
    "X_test.columns[perm_sorted_idx][-5:]"
   ]
  },
  {
   "source": [
    "The change in this variables results in a drop of the recall - sensitivity, so this variables are important for the results\n",
    "- 'medical_specialty_Surgery-Cardiovascular/Thoracic'\n",
    "- 'medical_specialty_ObstetricsandGynecology'\n",
    "- 'medical_specialty_Urology'\n",
    "- 'chlorpropamide'\n",
    "- 'miglitol'"
   ],
   "cell_type": "markdown",
   "metadata": {}
  },
  {
   "cell_type": "markdown",
   "metadata": {},
   "source": [
    "# Save Model\n",
    "\n",
    "The selected Model is the Naïve Bayes in a pipeline with a standard scaler,\n",
    "the sensitivity result is higher"
   ]
  },
  {
   "cell_type": "code",
   "execution_count": 38,
   "metadata": {},
   "outputs": [
    {
     "output_type": "execute_result",
     "data": {
      "text/plain": "['../models/NB_pipeline_imbalance_recall.joblib']"
     },
     "metadata": {},
     "execution_count": 38
    }
   ],
   "source": [
    "from joblib import dump # libreria de serializacion\n",
    "\n",
    "# garbar el modelo en un archivo\n",
    "dump(NB_pipeline, '../models/NB_pipeline_imbalance_recall.joblib')"
   ]
  },
  {
   "source": [
    "**CONCLUSIONS**\n",
    "- A very good sensitivity in the model where achived by using a gaussian Naïve Bayes in a pipeline with a standard scaler (removing the mean and scaling to unit variance)\n",
    "\n",
    "- The precision value is very Low, because the False positives value are high this just lead to more tests or treatments – not as costly as putting a life at stake. so the patient-hospital outcome is better.\n",
    "\n",
    "- One option is to use and ensemble of models to reduce the False Negatives and keep the good recall of the model"
   ],
   "cell_type": "markdown",
   "metadata": {}
  },
  {
   "cell_type": "markdown",
   "metadata": {},
   "source": [
    "# References\n",
    "\n",
    "- Correction to: Hospital Readmission of Patients with Diabetes - https://link.springer.com/article/10.1007/s11892-018-0989-1\n",
    "\n",
    "- Center for disease control and prevention, Diabetes atlas- https://gis.cdc.gov/grasp/diabetes/DiabetesAtlas.html\n",
    "\n",
    "- https://medium.com/@joserzapata/paso-a-paso-en-un-proyecto-machine-learning-bcdd0939d387\n",
    "- [a-complete-machine-learning-walk-through-in-python-part-one](https://towardsdatascience.com/a-complete-machine-learning-walk-through-in-python-part-one-c62152f39420)\n",
    "\n",
    "- https://www.kaggle.com/vignesh1609/readmission-classification-model\n",
    "\n",
    "- https://www.kaggle.com/kavyarall/predicting-effective-treatments/\n",
    "- Priors in GaussianNB https://stackoverflow.com/questions/30896367/how-to-specify-the-prior-probability-for-scikit-learns-naive-bayes\n",
    "- permutation importance - https://scikit-learn.org/stable/modules/generated/sklearn.inspection.permutation_importance.html#sklearn.inspection.permutation_importance\n",
    "- Permutation Importance example - https://scikit-learn.org/stable/auto_examples/inspection/plot_permutation_importance.html#sphx-glr-auto-examples-inspection-plot-permutation-importance-py\n",
    "- Permutation Importance with multicollinear or correlated features- https://scikit-learn.org/stable/auto_examples/inspection/plot_permutation_importance_multicollinear.html"
   ]
  },
  {
   "cell_type": "markdown",
   "metadata": {},
   "source": [
    "[Jose R. Zapata](https://joserzapata.github.io)\n",
    "- https://joserzapata.github.io\n",
    "- https://twitter.com/joserzapata\n",
    "- https://www.linkedin.com/in/jose-ricardo-zapata-gonzalez/   "
   ]
  }
 ],
 "metadata": {
  "colab": {
   "collapsed_sections": [
    "mXQHmtMbHJoh",
    "3aVUkwJVHJom",
    "9SfZHh6oHJor",
    "1S_iRK8rHJo0",
    "Ey5Lk8evHJo3",
    "0Y0UV-GVHJo6",
    "he4lxsEUHJpM",
    "h0FKIrJHHJpO",
    "jYPdefrhHJpS",
    "zUundEM6HJpT",
    "2GNrgJzHHJpW",
    "uRwep7LjHJpZ",
    "JCcM4XFbHJpd"
   ],
   "name": "Trabajo_Preparacion_Datos_JoseR_Zapata.ipynb",
   "provenance": []
  },
  "kernelspec": {
   "display_name": "Python 3",
   "language": "python",
   "name": "python3"
  },
  "language_info": {
   "codemirror_mode": {
    "name": "ipython",
    "version": 3
   },
   "file_extension": ".py",
   "mimetype": "text/x-python",
   "name": "python",
   "nbconvert_exporter": "python",
   "pygments_lexer": "ipython3",
   "version": "3.8.3-final"
  },
  "nbTranslate": {
   "displayLangs": [
    "es",
    "en"
   ],
   "hotkey": "alt-t",
   "langInMainMenu": true,
   "sourceLang": "en",
   "targetLang": "es",
   "useGoogleTranslate": true
  },
  "toc": {
   "base_numbering": 1,
   "nav_menu": {},
   "number_sections": true,
   "sideBar": true,
   "skip_h1_title": false,
   "title_cell": "Contenido",
   "title_sidebar": "Contenido",
   "toc_cell": true,
   "toc_position": {},
   "toc_section_display": true,
   "toc_window_display": false
  },
  "varInspector": {
   "cols": {
    "lenName": 16,
    "lenType": 16,
    "lenVar": 40
   },
   "kernels_config": {
    "python": {
     "delete_cmd_postfix": "",
     "delete_cmd_prefix": "del ",
     "library": "var_list.py",
     "varRefreshCmd": "print(var_dic_list())"
    },
    "r": {
     "delete_cmd_postfix": ") ",
     "delete_cmd_prefix": "rm(",
     "library": "var_list.r",
     "varRefreshCmd": "cat(var_dic_list()) "
    }
   },
   "types_to_exclude": [
    "module",
    "function",
    "builtin_function_or_method",
    "instance",
    "_Feature"
   ],
   "window_display": false
  }
 },
 "nbformat": 4,
 "nbformat_minor": 4
}