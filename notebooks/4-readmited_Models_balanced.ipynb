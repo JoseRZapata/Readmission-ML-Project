{
 "cells": [
  {
   "cell_type": "markdown",
   "metadata": {
    "colab_type": "text",
    "id": "Wbepu01LHJoL"
   },
   "source": [
    "# Diabetes Classification - Models\n",
    "[Jose R. Zapata](https://joserzapata.github.io)\n",
    "- https://joserzapata.github.io\n",
    "- https://twitter.com/joserzapata\n",
    "- https://www.linkedin.com/in/jose-ricardo-zapata-gonzalez/       \n"
   ]
  },
  {
   "cell_type": "markdown",
   "metadata": {
    "colab_type": "text",
    "id": "Wa9xYivpD4Eo"
   },
   "source": [
    "## Introduction\n",
    "\n",
    "\n",
    "Analyze factors related to readmission as well as other outcomes pertaining to patients in order to classify a patient-hospital outcome\n",
    "\n",
    "3 different outputs:\n",
    "\n",
    "1. No readmission\n",
    "\n",
    "2. A readmission in less than `30` days (this situation is not good, because maybe your treatment was not appropriate);\n",
    "\n",
    "3. A readmission in more than 30 days (this one is not so good as well the last one, however, the reason could be the state of the patient.\n",
    "\n",
    "\n",
    "## Main Objective\n",
    "\n",
    "> **How effective was the treatment received in hospital?**\n",
    "\n",
    "## Principal References\n",
    "\n",
    "### Paper\n",
    "\n",
    "Beata Strack, Jonathan P. DeShazo, Chris Gennings, Juan L. Olmo, Sebastian Ventura, Krzysztof J. Cios, and John N. Clore, “Impact of HbA1c Measurement on Hospital Readmission Rates: Analysis of 70,000 Clinical Database Patient Records,” BioMed Research International, vol. 2014, Article ID 781670, 11 pages, 2014.\n",
    "\n",
    "https://www.hindawi.com/journals/bmri/2014/781670/\n",
    "\n",
    "### Dataset\n",
    "\n",
    "https://archive.ics.uci.edu/ml/datasets/Diabetes+130-US+hospitals+for+years+1999-2008#\n",
    "\n",
    "### Data description\n",
    "\n",
    "https://www.hindawi.com/journals/bmri/2014/781670/tab1/"
   ]
  },
  {
   "cell_type": "markdown",
   "metadata": {
    "colab_type": "text",
    "id": "MjPWhesSHJoO"
   },
   "source": [
    "# Import libraries"
   ]
  },
  {
   "cell_type": "code",
   "execution_count": 1,
   "metadata": {
    "colab": {},
    "colab_type": "code",
    "id": "ksQYJRZTHJoP"
   },
   "outputs": [],
   "source": [
    "import pandas as pd\n",
    "import matplotlib.pyplot as plt\n",
    "\n",
    "from sklearn.model_selection import train_test_split\n",
    "from sklearn import model_selection\n",
    "import plotly.express as px"
   ]
  },
  {
   "cell_type": "markdown",
   "metadata": {
    "colab_type": "text",
    "id": "LM4dC7lBHJoT"
   },
   "source": [
    "# Load Dataset"
   ]
  },
  {
   "cell_type": "code",
   "execution_count": 2,
   "metadata": {
    "colab": {},
    "colab_type": "code",
    "id": "R2C-zrtBHJoT"
   },
   "outputs": [],
   "source": [
    "data = pd.read_csv(\"../data/processed/data_imbalanced.csv\")"
   ]
  },
  {
   "cell_type": "code",
   "execution_count": 3,
   "metadata": {
    "colab": {},
    "colab_type": "code",
    "id": "ZYzna68bHJoW",
    "tags": []
   },
   "outputs": [
    {
     "output_type": "stream",
     "name": "stdout",
     "text": "<class 'pandas.core.frame.DataFrame'>\nRangeIndex: 53214 entries, 0 to 53213\nData columns (total 43 columns):\n #   Column                    Non-Null Count  Dtype \n---  ------                    --------------  ----- \n 0   race                      53214 non-null  object\n 1   gender                    53214 non-null  int64 \n 2   age                       53214 non-null  object\n 3   admission_type_id         53214 non-null  int64 \n 4   discharge_disposition_id  53214 non-null  int64 \n 5   admission_source_id       53214 non-null  int64 \n 6   time_in_hospital          53214 non-null  int64 \n 7   medical_specialty         53214 non-null  object\n 8   num_lab_procedures        53214 non-null  int64 \n 9   num_procedures            53214 non-null  int64 \n 10  num_medications           53214 non-null  int64 \n 11  number_outpatient         53214 non-null  int64 \n 12  number_emergency          53214 non-null  int64 \n 13  number_inpatient          53214 non-null  int64 \n 14  diag_1                    53214 non-null  object\n 15  diag_2                    53214 non-null  object\n 16  number_diagnoses          53214 non-null  int64 \n 17  max_glu_serum             53214 non-null  int64 \n 18  A1Cresult                 53214 non-null  int64 \n 19  metformin                 53214 non-null  int64 \n 20  repaglinide               53214 non-null  int64 \n 21  nateglinide               53214 non-null  int64 \n 22  chlorpropamide            53214 non-null  int64 \n 23  glimepiride               53214 non-null  int64 \n 24  acetohexamide             53214 non-null  int64 \n 25  glipizide                 53214 non-null  int64 \n 26  glyburide                 53214 non-null  int64 \n 27  tolbutamide               53214 non-null  int64 \n 28  pioglitazone              53214 non-null  int64 \n 29  rosiglitazone             53214 non-null  int64 \n 30  acarbose                  53214 non-null  int64 \n 31  miglitol                  53214 non-null  int64 \n 32  troglitazone              53214 non-null  int64 \n 33  tolazamide                53214 non-null  int64 \n 34  insulin                   53214 non-null  int64 \n 35  glyburide-metformin       53214 non-null  int64 \n 36  glipizide-metformin       53214 non-null  int64 \n 37  metformin-rosiglitazone   53214 non-null  int64 \n 38  metformin-pioglitazone    53214 non-null  int64 \n 39  change                    53214 non-null  int64 \n 40  diabetesMed               53214 non-null  int64 \n 41  readmitted                53214 non-null  int64 \n 42  numchange                 53214 non-null  int64 \ndtypes: int64(38), object(5)\nmemory usage: 17.5+ MB\n"
    }
   ],
   "source": [
    "data.info()"
   ]
  },
  {
   "source": [
    "## Encode categorical colums"
   ],
   "cell_type": "markdown",
   "metadata": {
    "colab": {},
    "colab_type": "code",
    "id": "DsDqeIPbHJpI"
   }
  },
  {
   "cell_type": "code",
   "execution_count": 4,
   "metadata": {
    "colab": {},
    "colab_type": "code",
    "id": "6cCf27oSHJpB"
   },
   "outputs": [],
   "source": [
    "cat_cols = list(data.select_dtypes('object').columns)\n",
    "class_dict = {}\n",
    "for col in cat_cols:\n",
    "    data = pd.concat([data.drop(col, axis=1), pd.get_dummies(data[col], prefix=col, drop_first=True)], axis=1)"
   ]
  },
  {
   "cell_type": "code",
   "execution_count": 5,
   "metadata": {
    "tags": []
   },
   "outputs": [
    {
     "output_type": "stream",
     "name": "stdout",
     "text": "<class 'pandas.core.frame.DataFrame'>\nRangeIndex: 53214 entries, 0 to 53213\nData columns (total 85 columns):\n #   Column                                             Non-Null Count  Dtype\n---  ------                                             --------------  -----\n 0   gender                                             53214 non-null  int64\n 1   admission_type_id                                  53214 non-null  int64\n 2   discharge_disposition_id                           53214 non-null  int64\n 3   admission_source_id                                53214 non-null  int64\n 4   time_in_hospital                                   53214 non-null  int64\n 5   num_lab_procedures                                 53214 non-null  int64\n 6   num_procedures                                     53214 non-null  int64\n 7   num_medications                                    53214 non-null  int64\n 8   number_outpatient                                  53214 non-null  int64\n 9   number_emergency                                   53214 non-null  int64\n 10  number_inpatient                                   53214 non-null  int64\n 11  number_diagnoses                                   53214 non-null  int64\n 12  max_glu_serum                                      53214 non-null  int64\n 13  A1Cresult                                          53214 non-null  int64\n 14  metformin                                          53214 non-null  int64\n 15  repaglinide                                        53214 non-null  int64\n 16  nateglinide                                        53214 non-null  int64\n 17  chlorpropamide                                     53214 non-null  int64\n 18  glimepiride                                        53214 non-null  int64\n 19  acetohexamide                                      53214 non-null  int64\n 20  glipizide                                          53214 non-null  int64\n 21  glyburide                                          53214 non-null  int64\n 22  tolbutamide                                        53214 non-null  int64\n 23  pioglitazone                                       53214 non-null  int64\n 24  rosiglitazone                                      53214 non-null  int64\n 25  acarbose                                           53214 non-null  int64\n 26  miglitol                                           53214 non-null  int64\n 27  troglitazone                                       53214 non-null  int64\n 28  tolazamide                                         53214 non-null  int64\n 29  insulin                                            53214 non-null  int64\n 30  glyburide-metformin                                53214 non-null  int64\n 31  glipizide-metformin                                53214 non-null  int64\n 32  metformin-rosiglitazone                            53214 non-null  int64\n 33  metformin-pioglitazone                             53214 non-null  int64\n 34  change                                             53214 non-null  int64\n 35  diabetesMed                                        53214 non-null  int64\n 36  readmitted                                         53214 non-null  int64\n 37  numchange                                          53214 non-null  int64\n 38  race_Asian                                         53214 non-null  uint8\n 39  race_Caucasian                                     53214 non-null  uint8\n 40  race_Hispanic                                      53214 non-null  uint8\n 41  race_Other                                         53214 non-null  uint8\n 42  age_[10-20)                                        53214 non-null  uint8\n 43  age_[20-30)                                        53214 non-null  uint8\n 44  age_[30-40)                                        53214 non-null  uint8\n 45  age_[40-50)                                        53214 non-null  uint8\n 46  age_[50-60)                                        53214 non-null  uint8\n 47  age_[60-70)                                        53214 non-null  uint8\n 48  age_[70-80)                                        53214 non-null  uint8\n 49  age_[80-90)                                        53214 non-null  uint8\n 50  age_[90-100)                                       53214 non-null  uint8\n 51  medical_specialty_Emergency/Trauma                 53214 non-null  uint8\n 52  medical_specialty_Family/GeneralPractice           53214 non-null  uint8\n 53  medical_specialty_Gastroenterology                 53214 non-null  uint8\n 54  medical_specialty_InternalMedicine                 53214 non-null  uint8\n 55  medical_specialty_Nephrology                       53214 non-null  uint8\n 56  medical_specialty_ObstetricsandGynecology          53214 non-null  uint8\n 57  medical_specialty_Orthopedics                      53214 non-null  uint8\n 58  medical_specialty_Orthopedics-Reconstructive       53214 non-null  uint8\n 59  medical_specialty_Other                            53214 non-null  uint8\n 60  medical_specialty_Psychiatry                       53214 non-null  uint8\n 61  medical_specialty_Pulmonology                      53214 non-null  uint8\n 62  medical_specialty_Radiologist                      53214 non-null  uint8\n 63  medical_specialty_Surgery-Cardiovascular/Thoracic  53214 non-null  uint8\n 64  medical_specialty_Surgery-General                  53214 non-null  uint8\n 65  medical_specialty_Surgery-Neuro                    53214 non-null  uint8\n 66  medical_specialty_Surgery-Vascular                 53214 non-null  uint8\n 67  medical_specialty_Unknow                           53214 non-null  uint8\n 68  medical_specialty_Urology                          53214 non-null  uint8\n 69  diag_1_Diabetes                                    53214 non-null  uint8\n 70  diag_1_Digestive                                   53214 non-null  uint8\n 71  diag_1_Genitourinary                               53214 non-null  uint8\n 72  diag_1_Injury                                      53214 non-null  uint8\n 73  diag_1_Muscoloskeletal                             53214 non-null  uint8\n 74  diag_1_Neoplasms                                   53214 non-null  uint8\n 75  diag_1_Others                                      53214 non-null  uint8\n 76  diag_1_Respiratory                                 53214 non-null  uint8\n 77  diag_2_Diabetes                                    53214 non-null  uint8\n 78  diag_2_Digestive                                   53214 non-null  uint8\n 79  diag_2_Genitourinary                               53214 non-null  uint8\n 80  diag_2_Injury                                      53214 non-null  uint8\n 81  diag_2_Muscoloskeletal                             53214 non-null  uint8\n 82  diag_2_Neoplasms                                   53214 non-null  uint8\n 83  diag_2_Others                                      53214 non-null  uint8\n 84  diag_2_Respiratory                                 53214 non-null  uint8\ndtypes: int64(38), uint8(47)\nmemory usage: 17.8 MB\n"
    }
   ],
   "source": [
    "data.info()"
   ]
  },
  {
   "source": [
    "## Input and output data\n",
    "\n",
    "Get the names of input features and output feature"
   ],
   "cell_type": "markdown",
   "metadata": {}
  },
  {
   "cell_type": "code",
   "execution_count": 6,
   "metadata": {},
   "outputs": [],
   "source": [
    "X = data.drop(\"readmitted\", axis=1)\n",
    "y= data[\"readmitted\"]"
   ]
  },
  {
   "cell_type": "code",
   "execution_count": 7,
   "metadata": {},
   "outputs": [
    {
     "output_type": "execute_result",
     "data": {
      "text/plain": "(53214, 84)"
     },
     "metadata": {},
     "execution_count": 7
    }
   ],
   "source": [
    "X.shape"
   ]
  },
  {
   "cell_type": "code",
   "execution_count": 8,
   "metadata": {},
   "outputs": [
    {
     "output_type": "execute_result",
     "data": {
      "text/plain": "(53214,)"
     },
     "metadata": {},
     "execution_count": 8
    }
   ],
   "source": [
    "y.shape"
   ]
  },
  {
   "cell_type": "markdown",
   "metadata": {},
   "source": [
    "## Split dataset 70/30\n",
    "\n",
    "70% to train the model\n",
    "30% to test the model\n",
    "\n",
    "Split data stratify = y because the dataset is imbalanced"
   ]
  },
  {
   "cell_type": "code",
   "execution_count": 9,
   "metadata": {},
   "outputs": [],
   "source": [
    "\n",
    "X_train, X_test, y_train, y_test = train_test_split(X, y, test_size=.3,random_state =123, stratify=y)"
   ]
  },
  {
   "cell_type": "code",
   "execution_count": 10,
   "metadata": {
    "tags": []
   },
   "outputs": [
    {
     "output_type": "stream",
     "name": "stdout",
     "text": "Percentage of positives in test set=4.046351393673661 , train set=4.0457461945287125\n"
    }
   ],
   "source": [
    "perc_test = y_test.value_counts()[1]*100/len(y_test)\n",
    "perc_train = y_train.value_counts()[1]*100/len(y_train)\n",
    "\n",
    "print(f\" Percentage of positives in test set={perc_test} , train set={perc_train}\")"
   ]
  },
  {
   "source": [
    "## Balance train data\n",
    "\n",
    "First i'm gointo to evaluate simple machine learning models in the imbalance dataset"
   ],
   "cell_type": "markdown",
   "metadata": {}
  },
  {
   "cell_type": "code",
   "execution_count": 18,
   "metadata": {},
   "outputs": [],
   "source": [
    "from imblearn.over_sampling import SMOTE\n",
    "sm = SMOTE(random_state=27)\n",
    "X_train, y_train = sm.fit_sample(X_train, y_train)"
   ]
  },
  {
   "source": [
    "# Simple BaseLine"
   ],
   "cell_type": "markdown",
   "metadata": {}
  },
  {
   "cell_type": "code",
   "execution_count": 12,
   "metadata": {},
   "outputs": [],
   "source": [
    "#models"
   ]
  },
  {
   "source": [
    "<table border=\"1\" class=\"dataframe\">\n",
    "  <thead>\n",
    "    <tr style=\"text-align: right;\">\n",
    "      <th></th>\n",
    "      <th>ROC AUC</th>\n",
    "      <th>F1 Score</th>\n",
    "      <th>recall_score</th>\n",
    "      <th>Time Taken</th>\n",
    "    </tr>\n",
    "    <tr>\n",
    "      <th>Model</th>\n",
    "      <th></th>\n",
    "      <th></th>\n",
    "      <th></th>\n",
    "      <th></th>\n",
    "    </tr>\n",
    "  </thead>\n",
    "  <tbody>\n",
    "    <tr>\n",
    "      <th>NearestCentroid</th>\n",
    "      <td>0.63</td>\n",
    "      <td>0.83</td>\n",
    "      <td>0.49</td>\n",
    "      <td>0.11</td>\n",
    "    </tr>\n",
    "    <tr>\n",
    "      <th>DecisionTreeClassifier</th>\n",
    "      <td>0.53</td>\n",
    "      <td>0.92</td>\n",
    "      <td>0.12</td>\n",
    "      <td>0.28</td>\n",
    "    </tr>\n",
    "    <tr>\n",
    "      <th>LinearDiscriminantAnalysis</th>\n",
    "      <td>0.53</td>\n",
    "      <td>0.94</td>\n",
    "      <td>0.07</td>\n",
    "      <td>0.23</td>\n",
    "    </tr>\n",
    "    <tr>\n",
    "      <th>ExtraTreeClassifier</th>\n",
    "      <td>0.52</td>\n",
    "      <td>0.93</td>\n",
    "      <td>0.08</td>\n",
    "      <td>0.09</td>\n",
    "    </tr>\n",
    "    <tr>\n",
    "      <th>LabelPropagation</th>\n",
    "      <td>0.52</td>\n",
    "      <td>0.93</td>\n",
    "      <td>0.07</td>\n",
    "      <td>60.74</td>\n",
    "    </tr>\n",
    "    <tr>\n",
    "      <th>LabelSpreading</th>\n",
    "      <td>0.52</td>\n",
    "      <td>0.93</td>\n",
    "      <td>0.06</td>\n",
    "      <td>75.70</td>\n",
    "    </tr>\n",
    "    <tr>\n",
    "      <th>XGBClassifier</th>\n",
    "      <td>0.51</td>\n",
    "      <td>0.94</td>\n",
    "      <td>0.02</td>\n",
    "      <td>45.12</td>\n",
    "    </tr>\n",
    "    <tr>\n",
    "      <th>Perceptron</th>\n",
    "      <td>0.51</td>\n",
    "      <td>0.93</td>\n",
    "      <td>0.04</td>\n",
    "      <td>0.17</td>\n",
    "    </tr>\n",
    "    <tr>\n",
    "      <th>CalibratedClassifierCV</th>\n",
    "      <td>0.50</td>\n",
    "      <td>0.94</td>\n",
    "      <td>0.01</td>\n",
    "      <td>28.87</td>\n",
    "    </tr>\n",
    "    <tr>\n",
    "      <th>DummyClassifier</th>\n",
    "      <td>0.50</td>\n",
    "      <td>0.92</td>\n",
    "      <td>0.05</td>\n",
    "      <td>0.06</td>\n",
    "    </tr>\n",
    "    <tr>\n",
    "      <th>LogisticRegression</th>\n",
    "      <td>0.50</td>\n",
    "      <td>0.94</td>\n",
    "      <td>0.01</td>\n",
    "      <td>0.25</td>\n",
    "    </tr>\n",
    "    <tr>\n",
    "      <th>BaggingClassifier</th>\n",
    "      <td>0.50</td>\n",
    "      <td>0.94</td>\n",
    "      <td>0.01</td>\n",
    "      <td>1.42</td>\n",
    "    </tr>\n",
    "    <tr>\n",
    "      <th>KNeighborsClassifier</th>\n",
    "      <td>0.50</td>\n",
    "      <td>0.94</td>\n",
    "      <td>0.01</td>\n",
    "      <td>38.69</td>\n",
    "    </tr>\n",
    "    <tr>\n",
    "      <th>PassiveAggressiveClassifier</th>\n",
    "      <td>0.50</td>\n",
    "      <td>0.92</td>\n",
    "      <td>0.04</td>\n",
    "      <td>0.13</td>\n",
    "    </tr>\n",
    "    <tr>\n",
    "      <th>LGBMClassifier</th>\n",
    "      <td>0.50</td>\n",
    "      <td>0.94</td>\n",
    "      <td>0.00</td>\n",
    "      <td>82.92</td>\n",
    "    </tr>\n",
    "    <tr>\n",
    "      <th>LinearSVC</th>\n",
    "      <td>0.50</td>\n",
    "      <td>0.94</td>\n",
    "      <td>0.00</td>\n",
    "      <td>8.18</td>\n",
    "    </tr>\n",
    "    <tr>\n",
    "      <th>RidgeClassifier</th>\n",
    "      <td>0.50</td>\n",
    "      <td>0.94</td>\n",
    "      <td>0.00</td>\n",
    "      <td>0.11</td>\n",
    "    </tr>\n",
    "    <tr>\n",
    "      <th>RidgeClassifierCV</th>\n",
    "      <td>0.50</td>\n",
    "      <td>0.94</td>\n",
    "      <td>0.00</td>\n",
    "      <td>0.19</td>\n",
    "    </tr>\n",
    "    <tr>\n",
    "      <th>AdaBoostClassifier</th>\n",
    "      <td>0.50</td>\n",
    "      <td>0.94</td>\n",
    "      <td>0.00</td>\n",
    "      <td>1.32</td>\n",
    "    </tr>\n",
    "    <tr>\n",
    "      <th>GaussianNB</th>\n",
    "      <td>0.50</td>\n",
    "      <td>0.01</td>\n",
    "      <td>1.00</td>\n",
    "      <td>0.08</td>\n",
    "    </tr>\n",
    "    <tr>\n",
    "      <th>QuadraticDiscriminantAnalysis</th>\n",
    "      <td>0.50</td>\n",
    "      <td>0.01</td>\n",
    "      <td>1.00</td>\n",
    "      <td>0.18</td>\n",
    "    </tr>\n",
    "    <tr>\n",
    "      <th>CheckingClassifier</th>\n",
    "      <td>0.50</td>\n",
    "      <td>0.94</td>\n",
    "      <td>0.00</td>\n",
    "      <td>0.06</td>\n",
    "    </tr>\n",
    "    <tr>\n",
    "      <th>RandomForestClassifier</th>\n",
    "      <td>0.50</td>\n",
    "      <td>0.94</td>\n",
    "      <td>0.00</td>\n",
    "      <td>3.30</td>\n",
    "    </tr>\n",
    "    <tr>\n",
    "      <th>SGDClassifier</th>\n",
    "      <td>0.50</td>\n",
    "      <td>0.94</td>\n",
    "      <td>0.00</td>\n",
    "      <td>0.26</td>\n",
    "    </tr>\n",
    "    <tr>\n",
    "      <th>SVC</th>\n",
    "      <td>0.50</td>\n",
    "      <td>0.94</td>\n",
    "      <td>0.00</td>\n",
    "      <td>145.44</td>\n",
    "    </tr>\n",
    "    <tr>\n",
    "      <th>ExtraTreesClassifier</th>\n",
    "      <td>0.50</td>\n",
    "      <td>0.94</td>\n",
    "      <td>0.00</td>\n",
    "      <td>3.25</td>\n",
    "    </tr>\n",
    "    <tr>\n",
    "      <th>BernoulliNB</th>\n",
    "      <td>0.50</td>\n",
    "      <td>0.94</td>\n",
    "      <td>0.00</td>\n",
    "      <td>0.10</td>\n",
    "    </tr>\n",
    "  </tbody>\n",
    "</table>"
   ],
   "cell_type": "markdown",
   "metadata": {}
  },
  {
   "cell_type": "markdown",
   "metadata": {},
   "source": [
    "# MODELS\n",
    "\n",
    "## Evaluation Metric\n",
    "\n",
    "The selected evaluation metric is the \n",
    "> **Recall**\n",
    "\n",
    "Becasuse the Benefit of a True Negative is much higher than a True Positive.\n",
    "\n",
    "A False Negative might delay more tests or treatment, \n",
    "however a False Positive may just lead to more tests or treatments – not as costly as putting a life at stake.\n"
   ]
  },
  {
   "cell_type": "code",
   "execution_count": 13,
   "metadata": {},
   "outputs": [],
   "source": [
    "# Evaluation\n",
    "from sklearn.metrics import accuracy_score\n",
    "from sklearn.metrics import precision_score\n",
    "from sklearn.metrics import recall_score"
   ]
  },
  {
   "source": [
    "Interpretability is important so first intents will be with classic Machine Learning Models, No ensembles, No Neural Networks"
   ],
   "cell_type": "markdown",
   "metadata": {}
  },
  {
   "cell_type": "code",
   "execution_count": 14,
   "metadata": {},
   "outputs": [],
   "source": [
    "# Selected algorithms\n",
    "from sklearn.linear_model import LogisticRegression\n",
    "from sklearn.svm import SVC\n",
    "from sklearn.naive_bayes import GaussianNB\n",
    "from sklearn.tree import DecisionTreeClassifier"
   ]
  },
  {
   "source": [
    "## Model Selection"
   ],
   "cell_type": "markdown",
   "metadata": {}
  },
  {
   "cell_type": "code",
   "execution_count": 20,
   "metadata": {
    "tags": []
   },
   "outputs": [
    {
     "output_type": "stream",
     "name": "stdout",
     "text": "(LR, 0.5098328090056121, 0.43857857004740386\n(CART, 0.6286492839797708, 0.361662262041733\n(NB, 0.7173422239234163, 0.2592485698869551\n(SVM, 0.7723377519209549, 0.014046238247785262\n"
    }
   ],
   "source": [
    "seed =2\n",
    "models = []\n",
    "#logistic Regression\n",
    "models.append(('LR', LogisticRegression(solver='liblinear')))\n",
    "\n",
    "# Decision Tree classifier\n",
    "models.append(('CART', DecisionTreeClassifier()))\n",
    "# Naïve Bayes\n",
    "models.append(('NB', GaussianNB()))\n",
    "# SVM\n",
    "models.append(('SVM', SVC(C=1.0, kernel='rbf', max_iter=1000, tol=1e-3)))\n",
    "# evaluate each model in turn\n",
    "results = []\n",
    "names = []\n",
    "scoring = 'recall'\n",
    "for name, model in models:\n",
    "\t# Kfol cross validation for model selection\n",
    "\tkfold = model_selection.KFold(n_splits=10, random_state=seed)\n",
    "\t#X train , y train\n",
    "\tcv_results = model_selection.cross_val_score(model, X_train, y_train, cv=kfold, scoring=scoring)\n",
    "\tresults.append(cv_results)\n",
    "\tnames.append(name)\n",
    "\tmsg = f\"({name}, {cv_results.mean()}, {cv_results.std()}\"\n",
    "\tprint(msg)"
   ]
  },
  {
   "source": [
    "## Results"
   ],
   "cell_type": "markdown",
   "metadata": {}
  },
  {
   "cell_type": "code",
   "execution_count": 21,
   "metadata": {
    "tags": []
   },
   "outputs": [
    {
     "output_type": "display_data",
     "data": {
      "application/vnd.plotly.v1+json": {
       "config": {
        "plotlyServerURL": "https://plotly.com"
       },
       "data": [
        {
         "alignmentgroup": "True",
         "hovertemplate": "variable=%{x}<br>value=%{y}<extra></extra>",
         "legendgroup": "",
         "marker": {
          "color": "#636efa"
         },
         "name": "",
         "notched": false,
         "offsetgroup": "",
         "orientation": "v",
         "showlegend": false,
         "type": "box",
         "x": [
          "LR",
          "LR",
          "LR",
          "LR",
          "LR",
          "LR",
          "LR",
          "LR",
          "LR",
          "LR",
          "CART",
          "CART",
          "CART",
          "CART",
          "CART",
          "CART",
          "CART",
          "CART",
          "CART",
          "CART",
          "NB",
          "NB",
          "NB",
          "NB",
          "NB",
          "NB",
          "NB",
          "NB",
          "NB",
          "NB",
          "SVM",
          "SVM",
          "SVM",
          "SVM",
          "SVM",
          "SVM",
          "SVM",
          "SVM",
          "SVM",
          "SVM"
         ],
         "x0": " ",
         "xaxis": "x",
         "y": [
          0.08250825082508251,
          0.0683453237410072,
          0.059233449477351915,
          0.10408921933085502,
          0.043333333333333335,
          0.9438123577805007,
          0.9485170677112479,
          0.9475377728035814,
          0.9489367655288192,
          0.9520145495243425,
          0.25742574257425743,
          0.24820143884892087,
          0.27526132404181186,
          0.24907063197026022,
          0.30666666666666664,
          0.9851216523717836,
          0.9918858421936206,
          0.9888080581980974,
          0.9921656407386682,
          0.9918858421936206,
          0.5016501650165016,
          0.420863309352518,
          0.4738675958188153,
          0.48698884758364314,
          0.41333333333333333,
          0.9684929109049536,
          0.975517627308338,
          0.973559037493005,
          0.978735310576385,
          0.9804141018466704,
          0.7821782178217822,
          0.7517985611510791,
          0.7456445993031359,
          0.7955390334572491,
          0.7833333333333333,
          0.7687729739191318,
          0.7743424734191382,
          0.7687465025181869,
          0.7735030777839955,
          0.7795187465025182
         ],
         "y0": " ",
         "yaxis": "y"
        }
       ],
       "layout": {
        "boxmode": "group",
        "legend": {
         "tracegroupgap": 0
        },
        "template": {
         "data": {
          "bar": [
           {
            "error_x": {
             "color": "#2a3f5f"
            },
            "error_y": {
             "color": "#2a3f5f"
            },
            "marker": {
             "line": {
              "color": "#E5ECF6",
              "width": 0.5
             }
            },
            "type": "bar"
           }
          ],
          "barpolar": [
           {
            "marker": {
             "line": {
              "color": "#E5ECF6",
              "width": 0.5
             }
            },
            "type": "barpolar"
           }
          ],
          "carpet": [
           {
            "aaxis": {
             "endlinecolor": "#2a3f5f",
             "gridcolor": "white",
             "linecolor": "white",
             "minorgridcolor": "white",
             "startlinecolor": "#2a3f5f"
            },
            "baxis": {
             "endlinecolor": "#2a3f5f",
             "gridcolor": "white",
             "linecolor": "white",
             "minorgridcolor": "white",
             "startlinecolor": "#2a3f5f"
            },
            "type": "carpet"
           }
          ],
          "choropleth": [
           {
            "colorbar": {
             "outlinewidth": 0,
             "ticks": ""
            },
            "type": "choropleth"
           }
          ],
          "contour": [
           {
            "colorbar": {
             "outlinewidth": 0,
             "ticks": ""
            },
            "colorscale": [
             [
              0,
              "#0d0887"
             ],
             [
              0.1111111111111111,
              "#46039f"
             ],
             [
              0.2222222222222222,
              "#7201a8"
             ],
             [
              0.3333333333333333,
              "#9c179e"
             ],
             [
              0.4444444444444444,
              "#bd3786"
             ],
             [
              0.5555555555555556,
              "#d8576b"
             ],
             [
              0.6666666666666666,
              "#ed7953"
             ],
             [
              0.7777777777777778,
              "#fb9f3a"
             ],
             [
              0.8888888888888888,
              "#fdca26"
             ],
             [
              1,
              "#f0f921"
             ]
            ],
            "type": "contour"
           }
          ],
          "contourcarpet": [
           {
            "colorbar": {
             "outlinewidth": 0,
             "ticks": ""
            },
            "type": "contourcarpet"
           }
          ],
          "heatmap": [
           {
            "colorbar": {
             "outlinewidth": 0,
             "ticks": ""
            },
            "colorscale": [
             [
              0,
              "#0d0887"
             ],
             [
              0.1111111111111111,
              "#46039f"
             ],
             [
              0.2222222222222222,
              "#7201a8"
             ],
             [
              0.3333333333333333,
              "#9c179e"
             ],
             [
              0.4444444444444444,
              "#bd3786"
             ],
             [
              0.5555555555555556,
              "#d8576b"
             ],
             [
              0.6666666666666666,
              "#ed7953"
             ],
             [
              0.7777777777777778,
              "#fb9f3a"
             ],
             [
              0.8888888888888888,
              "#fdca26"
             ],
             [
              1,
              "#f0f921"
             ]
            ],
            "type": "heatmap"
           }
          ],
          "heatmapgl": [
           {
            "colorbar": {
             "outlinewidth": 0,
             "ticks": ""
            },
            "colorscale": [
             [
              0,
              "#0d0887"
             ],
             [
              0.1111111111111111,
              "#46039f"
             ],
             [
              0.2222222222222222,
              "#7201a8"
             ],
             [
              0.3333333333333333,
              "#9c179e"
             ],
             [
              0.4444444444444444,
              "#bd3786"
             ],
             [
              0.5555555555555556,
              "#d8576b"
             ],
             [
              0.6666666666666666,
              "#ed7953"
             ],
             [
              0.7777777777777778,
              "#fb9f3a"
             ],
             [
              0.8888888888888888,
              "#fdca26"
             ],
             [
              1,
              "#f0f921"
             ]
            ],
            "type": "heatmapgl"
           }
          ],
          "histogram": [
           {
            "marker": {
             "colorbar": {
              "outlinewidth": 0,
              "ticks": ""
             }
            },
            "type": "histogram"
           }
          ],
          "histogram2d": [
           {
            "colorbar": {
             "outlinewidth": 0,
             "ticks": ""
            },
            "colorscale": [
             [
              0,
              "#0d0887"
             ],
             [
              0.1111111111111111,
              "#46039f"
             ],
             [
              0.2222222222222222,
              "#7201a8"
             ],
             [
              0.3333333333333333,
              "#9c179e"
             ],
             [
              0.4444444444444444,
              "#bd3786"
             ],
             [
              0.5555555555555556,
              "#d8576b"
             ],
             [
              0.6666666666666666,
              "#ed7953"
             ],
             [
              0.7777777777777778,
              "#fb9f3a"
             ],
             [
              0.8888888888888888,
              "#fdca26"
             ],
             [
              1,
              "#f0f921"
             ]
            ],
            "type": "histogram2d"
           }
          ],
          "histogram2dcontour": [
           {
            "colorbar": {
             "outlinewidth": 0,
             "ticks": ""
            },
            "colorscale": [
             [
              0,
              "#0d0887"
             ],
             [
              0.1111111111111111,
              "#46039f"
             ],
             [
              0.2222222222222222,
              "#7201a8"
             ],
             [
              0.3333333333333333,
              "#9c179e"
             ],
             [
              0.4444444444444444,
              "#bd3786"
             ],
             [
              0.5555555555555556,
              "#d8576b"
             ],
             [
              0.6666666666666666,
              "#ed7953"
             ],
             [
              0.7777777777777778,
              "#fb9f3a"
             ],
             [
              0.8888888888888888,
              "#fdca26"
             ],
             [
              1,
              "#f0f921"
             ]
            ],
            "type": "histogram2dcontour"
           }
          ],
          "mesh3d": [
           {
            "colorbar": {
             "outlinewidth": 0,
             "ticks": ""
            },
            "type": "mesh3d"
           }
          ],
          "parcoords": [
           {
            "line": {
             "colorbar": {
              "outlinewidth": 0,
              "ticks": ""
             }
            },
            "type": "parcoords"
           }
          ],
          "pie": [
           {
            "automargin": true,
            "type": "pie"
           }
          ],
          "scatter": [
           {
            "marker": {
             "colorbar": {
              "outlinewidth": 0,
              "ticks": ""
             }
            },
            "type": "scatter"
           }
          ],
          "scatter3d": [
           {
            "line": {
             "colorbar": {
              "outlinewidth": 0,
              "ticks": ""
             }
            },
            "marker": {
             "colorbar": {
              "outlinewidth": 0,
              "ticks": ""
             }
            },
            "type": "scatter3d"
           }
          ],
          "scattercarpet": [
           {
            "marker": {
             "colorbar": {
              "outlinewidth": 0,
              "ticks": ""
             }
            },
            "type": "scattercarpet"
           }
          ],
          "scattergeo": [
           {
            "marker": {
             "colorbar": {
              "outlinewidth": 0,
              "ticks": ""
             }
            },
            "type": "scattergeo"
           }
          ],
          "scattergl": [
           {
            "marker": {
             "colorbar": {
              "outlinewidth": 0,
              "ticks": ""
             }
            },
            "type": "scattergl"
           }
          ],
          "scattermapbox": [
           {
            "marker": {
             "colorbar": {
              "outlinewidth": 0,
              "ticks": ""
             }
            },
            "type": "scattermapbox"
           }
          ],
          "scatterpolar": [
           {
            "marker": {
             "colorbar": {
              "outlinewidth": 0,
              "ticks": ""
             }
            },
            "type": "scatterpolar"
           }
          ],
          "scatterpolargl": [
           {
            "marker": {
             "colorbar": {
              "outlinewidth": 0,
              "ticks": ""
             }
            },
            "type": "scatterpolargl"
           }
          ],
          "scatterternary": [
           {
            "marker": {
             "colorbar": {
              "outlinewidth": 0,
              "ticks": ""
             }
            },
            "type": "scatterternary"
           }
          ],
          "surface": [
           {
            "colorbar": {
             "outlinewidth": 0,
             "ticks": ""
            },
            "colorscale": [
             [
              0,
              "#0d0887"
             ],
             [
              0.1111111111111111,
              "#46039f"
             ],
             [
              0.2222222222222222,
              "#7201a8"
             ],
             [
              0.3333333333333333,
              "#9c179e"
             ],
             [
              0.4444444444444444,
              "#bd3786"
             ],
             [
              0.5555555555555556,
              "#d8576b"
             ],
             [
              0.6666666666666666,
              "#ed7953"
             ],
             [
              0.7777777777777778,
              "#fb9f3a"
             ],
             [
              0.8888888888888888,
              "#fdca26"
             ],
             [
              1,
              "#f0f921"
             ]
            ],
            "type": "surface"
           }
          ],
          "table": [
           {
            "cells": {
             "fill": {
              "color": "#EBF0F8"
             },
             "line": {
              "color": "white"
             }
            },
            "header": {
             "fill": {
              "color": "#C8D4E3"
             },
             "line": {
              "color": "white"
             }
            },
            "type": "table"
           }
          ]
         },
         "layout": {
          "annotationdefaults": {
           "arrowcolor": "#2a3f5f",
           "arrowhead": 0,
           "arrowwidth": 1
          },
          "coloraxis": {
           "colorbar": {
            "outlinewidth": 0,
            "ticks": ""
           }
          },
          "colorscale": {
           "diverging": [
            [
             0,
             "#8e0152"
            ],
            [
             0.1,
             "#c51b7d"
            ],
            [
             0.2,
             "#de77ae"
            ],
            [
             0.3,
             "#f1b6da"
            ],
            [
             0.4,
             "#fde0ef"
            ],
            [
             0.5,
             "#f7f7f7"
            ],
            [
             0.6,
             "#e6f5d0"
            ],
            [
             0.7,
             "#b8e186"
            ],
            [
             0.8,
             "#7fbc41"
            ],
            [
             0.9,
             "#4d9221"
            ],
            [
             1,
             "#276419"
            ]
           ],
           "sequential": [
            [
             0,
             "#0d0887"
            ],
            [
             0.1111111111111111,
             "#46039f"
            ],
            [
             0.2222222222222222,
             "#7201a8"
            ],
            [
             0.3333333333333333,
             "#9c179e"
            ],
            [
             0.4444444444444444,
             "#bd3786"
            ],
            [
             0.5555555555555556,
             "#d8576b"
            ],
            [
             0.6666666666666666,
             "#ed7953"
            ],
            [
             0.7777777777777778,
             "#fb9f3a"
            ],
            [
             0.8888888888888888,
             "#fdca26"
            ],
            [
             1,
             "#f0f921"
            ]
           ],
           "sequentialminus": [
            [
             0,
             "#0d0887"
            ],
            [
             0.1111111111111111,
             "#46039f"
            ],
            [
             0.2222222222222222,
             "#7201a8"
            ],
            [
             0.3333333333333333,
             "#9c179e"
            ],
            [
             0.4444444444444444,
             "#bd3786"
            ],
            [
             0.5555555555555556,
             "#d8576b"
            ],
            [
             0.6666666666666666,
             "#ed7953"
            ],
            [
             0.7777777777777778,
             "#fb9f3a"
            ],
            [
             0.8888888888888888,
             "#fdca26"
            ],
            [
             1,
             "#f0f921"
            ]
           ]
          },
          "colorway": [
           "#636efa",
           "#EF553B",
           "#00cc96",
           "#ab63fa",
           "#FFA15A",
           "#19d3f3",
           "#FF6692",
           "#B6E880",
           "#FF97FF",
           "#FECB52"
          ],
          "font": {
           "color": "#2a3f5f"
          },
          "geo": {
           "bgcolor": "white",
           "lakecolor": "white",
           "landcolor": "#E5ECF6",
           "showlakes": true,
           "showland": true,
           "subunitcolor": "white"
          },
          "hoverlabel": {
           "align": "left"
          },
          "hovermode": "closest",
          "mapbox": {
           "style": "light"
          },
          "paper_bgcolor": "white",
          "plot_bgcolor": "#E5ECF6",
          "polar": {
           "angularaxis": {
            "gridcolor": "white",
            "linecolor": "white",
            "ticks": ""
           },
           "bgcolor": "#E5ECF6",
           "radialaxis": {
            "gridcolor": "white",
            "linecolor": "white",
            "ticks": ""
           }
          },
          "scene": {
           "xaxis": {
            "backgroundcolor": "#E5ECF6",
            "gridcolor": "white",
            "gridwidth": 2,
            "linecolor": "white",
            "showbackground": true,
            "ticks": "",
            "zerolinecolor": "white"
           },
           "yaxis": {
            "backgroundcolor": "#E5ECF6",
            "gridcolor": "white",
            "gridwidth": 2,
            "linecolor": "white",
            "showbackground": true,
            "ticks": "",
            "zerolinecolor": "white"
           },
           "zaxis": {
            "backgroundcolor": "#E5ECF6",
            "gridcolor": "white",
            "gridwidth": 2,
            "linecolor": "white",
            "showbackground": true,
            "ticks": "",
            "zerolinecolor": "white"
           }
          },
          "shapedefaults": {
           "line": {
            "color": "#2a3f5f"
           }
          },
          "ternary": {
           "aaxis": {
            "gridcolor": "white",
            "linecolor": "white",
            "ticks": ""
           },
           "baxis": {
            "gridcolor": "white",
            "linecolor": "white",
            "ticks": ""
           },
           "bgcolor": "#E5ECF6",
           "caxis": {
            "gridcolor": "white",
            "linecolor": "white",
            "ticks": ""
           }
          },
          "title": {
           "x": 0.05
          },
          "xaxis": {
           "automargin": true,
           "gridcolor": "white",
           "linecolor": "white",
           "ticks": "",
           "title": {
            "standoff": 15
           },
           "zerolinecolor": "white",
           "zerolinewidth": 2
          },
          "yaxis": {
           "automargin": true,
           "gridcolor": "white",
           "linecolor": "white",
           "ticks": "",
           "title": {
            "standoff": 15
           },
           "zerolinecolor": "white",
           "zerolinewidth": 2
          }
         }
        },
        "title": {
         "text": "Algorithm Comparison"
        },
        "xaxis": {
         "anchor": "y",
         "domain": [
          0,
          1
         ],
         "title": {
          "text": "variable"
         }
        },
        "yaxis": {
         "anchor": "x",
         "domain": [
          0,
          1
         ],
         "title": {
          "text": "value"
         }
        }
       }
      }
     },
     "metadata": {}
    }
   ],
   "source": [
    "result_df = pd.DataFrame(results, index=names).T\n",
    "px.box(result_df,title = 'Algorithm Comparison')"
   ]
  },
  {
   "cell_type": "markdown",
   "metadata": {},
   "source": [
    "# Hyper Parameter optimization\n"
   ]
  },
  {
   "cell_type": "code",
   "execution_count": null,
   "metadata": {},
   "outputs": [],
   "source": [
    "#from sklearn.model_selection import GridSearchCV"
   ]
  },
  {
   "cell_type": "code",
   "execution_count": null,
   "metadata": {},
   "outputs": [],
   "source": [
    "\n",
    "\n",
    "#parameters = {'max_depth': [2, 4, 5, 7, 9, 10]}\n",
    "\n",
    "\n",
    "#grid_search = GridSearchCV(GaussianNB(), parameters, cv=10, return_train_score=True)\n",
    "#grid_search.fit(x_train, y_train)\n",
    "\n",
    "#grid_search.best_params_"
   ]
  },
  {
   "cell_type": "markdown",
   "metadata": {},
   "source": [
    "# Final evaluation Test set"
   ]
  },
  {
   "cell_type": "code",
   "execution_count": null,
   "metadata": {},
   "outputs": [],
   "source": [
    "from sklearn.metrics import plot_confusion_matrix\n",
    "from sklearn.metrics import classification_report"
   ]
  },
  {
   "source": [
    "## Naïve Bayes"
   ],
   "cell_type": "markdown",
   "metadata": {}
  },
  {
   "cell_type": "code",
   "execution_count": null,
   "metadata": {},
   "outputs": [],
   "source": [
    "NB = GaussianNB()\n",
    "NB.fit(X_train,y_train)\n",
    "y_pred = NB.predict(X_test)"
   ]
  },
  {
   "cell_type": "code",
   "execution_count": null,
   "metadata": {
    "tags": []
   },
   "outputs": [],
   "source": [
    "print(classification_report(y_test, y_pred))"
   ]
  },
  {
   "cell_type": "code",
   "execution_count": null,
   "metadata": {},
   "outputs": [],
   "source": [
    "plot_confusion_matrix(NB, X_test, y_test,cmap=plt.cm.Blues); "
   ]
  },
  {
   "cell_type": "code",
   "execution_count": null,
   "metadata": {},
   "outputs": [],
   "source": []
  },
  {
   "source": [
    "# Model Interpretability"
   ],
   "cell_type": "markdown",
   "metadata": {}
  },
  {
   "cell_type": "code",
   "execution_count": null,
   "metadata": {},
   "outputs": [],
   "source": [
    "len(NB.theta_[0])"
   ]
  },
  {
   "cell_type": "code",
   "execution_count": null,
   "metadata": {},
   "outputs": [],
   "source": [
    "NB.epsilon_"
   ]
  },
  {
   "cell_type": "code",
   "execution_count": null,
   "metadata": {},
   "outputs": [],
   "source": [
    "NB.sigma_"
   ]
  },
  {
   "cell_type": "markdown",
   "metadata": {},
   "source": [
    "# Save Model"
   ]
  },
  {
   "cell_type": "code",
   "execution_count": null,
   "metadata": {},
   "outputs": [],
   "source": [
    "from joblib import dump # libreria de serializacion\n",
    "\n",
    "# garbar el modelo en un archivo\n",
    "dump(NB, '../models/NB_balance_recall.joblib')"
   ]
  },
  {
   "cell_type": "code",
   "execution_count": null,
   "metadata": {},
   "outputs": [],
   "source": []
  },
  {
   "cell_type": "markdown",
   "metadata": {},
   "source": [
    "# Comunicacion de Resultados (Data Story Telling)"
   ]
  },
  {
   "cell_type": "code",
   "execution_count": null,
   "metadata": {},
   "outputs": [],
   "source": []
  },
  {
   "cell_type": "markdown",
   "metadata": {},
   "source": [
    "# Conclusiones"
   ]
  },
  {
   "cell_type": "code",
   "execution_count": null,
   "metadata": {},
   "outputs": [],
   "source": []
  },
  {
   "cell_type": "markdown",
   "metadata": {},
   "source": [
    "# Ayudas Y Referencias\n",
    "\n",
    "- Correction to: Hospital Readmission of Patients with Diabetes - https://link.springer.com/article/10.1007/s11892-018-0989-1\n",
    "\n",
    "- Center for disease control and prevention, Diabetes atlas- https://gis.cdc.gov/grasp/diabetes/DiabetesAtlas.html\n",
    "\n",
    "- https://medium.com/@joserzapata/paso-a-paso-en-un-proyecto-machine-learning-bcdd0939d387\n",
    "- [a-complete-machine-learning-walk-through-in-python-part-one](https://towardsdatascience.com/a-complete-machine-learning-walk-through-in-python-part-one-c62152f39420)\n",
    "\n",
    "- https://www.kaggle.com/vignesh1609/readmission-classification-model\n",
    "\n",
    "- https://www.kaggle.com/kavyarall/predicting-effective-treatments/"
   ]
  },
  {
   "cell_type": "markdown",
   "metadata": {},
   "source": [
    "[Jose R. Zapata](https://joserzapata.github.io)\n",
    "- https://joserzapata.github.io\n",
    "- https://twitter.com/joserzapata\n",
    "- https://www.linkedin.com/in/jose-ricardo-zapata-gonzalez/   "
   ]
  }
 ],
 "metadata": {
  "colab": {
   "collapsed_sections": [
    "mXQHmtMbHJoh",
    "3aVUkwJVHJom",
    "9SfZHh6oHJor",
    "1S_iRK8rHJo0",
    "Ey5Lk8evHJo3",
    "0Y0UV-GVHJo6",
    "he4lxsEUHJpM",
    "h0FKIrJHHJpO",
    "jYPdefrhHJpS",
    "zUundEM6HJpT",
    "2GNrgJzHHJpW",
    "uRwep7LjHJpZ",
    "JCcM4XFbHJpd"
   ],
   "name": "Trabajo_Preparacion_Datos_JoseR_Zapata.ipynb",
   "provenance": []
  },
  "kernelspec": {
   "display_name": "Python 3",
   "language": "python",
   "name": "python3"
  },
  "language_info": {
   "codemirror_mode": {
    "name": "ipython",
    "version": 3
   },
   "file_extension": ".py",
   "mimetype": "text/x-python",
   "name": "python",
   "nbconvert_exporter": "python",
   "pygments_lexer": "ipython3",
   "version": "3.8.3-final"
  },
  "nbTranslate": {
   "displayLangs": [
    "es",
    "en"
   ],
   "hotkey": "alt-t",
   "langInMainMenu": true,
   "sourceLang": "en",
   "targetLang": "es",
   "useGoogleTranslate": true
  },
  "toc": {
   "base_numbering": 1,
   "nav_menu": {},
   "number_sections": true,
   "sideBar": true,
   "skip_h1_title": false,
   "title_cell": "Contenido",
   "title_sidebar": "Contenido",
   "toc_cell": true,
   "toc_position": {},
   "toc_section_display": true,
   "toc_window_display": false
  },
  "varInspector": {
   "cols": {
    "lenName": 16,
    "lenType": 16,
    "lenVar": 40
   },
   "kernels_config": {
    "python": {
     "delete_cmd_postfix": "",
     "delete_cmd_prefix": "del ",
     "library": "var_list.py",
     "varRefreshCmd": "print(var_dic_list())"
    },
    "r": {
     "delete_cmd_postfix": ") ",
     "delete_cmd_prefix": "rm(",
     "library": "var_list.r",
     "varRefreshCmd": "cat(var_dic_list()) "
    }
   },
   "types_to_exclude": [
    "module",
    "function",
    "builtin_function_or_method",
    "instance",
    "_Feature"
   ],
   "window_display": false
  }
 },
 "nbformat": 4,
 "nbformat_minor": 4
}