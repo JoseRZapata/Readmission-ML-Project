{
 "cells": [
  {
   "cell_type": "markdown",
   "metadata": {
    "colab_type": "text",
    "id": "Wbepu01LHJoL"
   },
   "source": [
    "# Diabetes Classification - Models\n",
    "[Jose R. Zapata](https://joserzapata.github.io)\n",
    "- https://joserzapata.github.io\n",
    "- https://twitter.com/joserzapata\n",
    "- https://www.linkedin.com/in/jose-ricardo-zapata-gonzalez/       \n"
   ]
  },
  {
   "cell_type": "markdown",
   "metadata": {
    "colab_type": "text",
    "id": "Wa9xYivpD4Eo"
   },
   "source": [
    "## Introduction\n",
    "\n",
    "\n",
    "Analyze factors related to readmission as well as other outcomes pertaining to patients in order to classify a patient-hospital outcome\n",
    "\n",
    "3 different outputs:\n",
    "\n",
    "1. No readmission\n",
    "\n",
    "2. A readmission in less than `30` days (this situation is not good, because maybe your treatment was not appropriate);\n",
    "\n",
    "3. A readmission in more than 30 days (this one is not so good as well the last one, however, the reason could be the state of the patient.\n",
    "\n",
    "\n",
    "## Main Objective\n",
    "\n",
    "> **How effective was the treatment received in hospital?**\n",
    "\n",
    "## Principal References\n",
    "\n",
    "### Paper\n",
    "\n",
    "Beata Strack, Jonathan P. DeShazo, Chris Gennings, Juan L. Olmo, Sebastian Ventura, Krzysztof J. Cios, and John N. Clore, “Impact of HbA1c Measurement on Hospital Readmission Rates: Analysis of 70,000 Clinical Database Patient Records,” BioMed Research International, vol. 2014, Article ID 781670, 11 pages, 2014.\n",
    "\n",
    "https://www.hindawi.com/journals/bmri/2014/781670/\n",
    "\n",
    "### Dataset\n",
    "\n",
    "https://archive.ics.uci.edu/ml/datasets/Diabetes+130-US+hospitals+for+years+1999-2008#\n",
    "\n",
    "### Data description\n",
    "\n",
    "https://www.hindawi.com/journals/bmri/2014/781670/tab1/"
   ]
  },
  {
   "cell_type": "markdown",
   "metadata": {
    "colab_type": "text",
    "id": "MjPWhesSHJoO"
   },
   "source": [
    "# Import libraries"
   ]
  },
  {
   "cell_type": "code",
   "execution_count": 54,
   "metadata": {
    "colab": {},
    "colab_type": "code",
    "id": "ksQYJRZTHJoP"
   },
   "outputs": [],
   "source": [
    "import pandas as pd\n",
    "\n",
    "from sklearn.model_selection import train_test_split"
   ]
  },
  {
   "cell_type": "markdown",
   "metadata": {
    "colab_type": "text",
    "id": "LM4dC7lBHJoT"
   },
   "source": [
    "# Load Dataset"
   ]
  },
  {
   "cell_type": "code",
   "execution_count": 24,
   "metadata": {
    "colab": {},
    "colab_type": "code",
    "id": "R2C-zrtBHJoT"
   },
   "outputs": [],
   "source": [
    "data = pd.read_csv(\"../data/processed/data_imbalanced.csv\")"
   ]
  },
  {
   "cell_type": "code",
   "execution_count": 25,
   "metadata": {
    "colab": {},
    "colab_type": "code",
    "id": "ZYzna68bHJoW",
    "tags": []
   },
   "outputs": [
    {
     "output_type": "stream",
     "name": "stdout",
     "text": "<class 'pandas.core.frame.DataFrame'>\nRangeIndex: 53214 entries, 0 to 53213\nData columns (total 43 columns):\n #   Column                    Non-Null Count  Dtype \n---  ------                    --------------  ----- \n 0   race                      53214 non-null  object\n 1   gender                    53214 non-null  int64 \n 2   age                       53214 non-null  object\n 3   admission_type_id         53214 non-null  int64 \n 4   discharge_disposition_id  53214 non-null  int64 \n 5   admission_source_id       53214 non-null  int64 \n 6   time_in_hospital          53214 non-null  int64 \n 7   medical_specialty         53214 non-null  object\n 8   num_lab_procedures        53214 non-null  int64 \n 9   num_procedures            53214 non-null  int64 \n 10  num_medications           53214 non-null  int64 \n 11  number_outpatient         53214 non-null  int64 \n 12  number_emergency          53214 non-null  int64 \n 13  number_inpatient          53214 non-null  int64 \n 14  diag_1                    53214 non-null  object\n 15  diag_2                    53214 non-null  object\n 16  number_diagnoses          53214 non-null  int64 \n 17  max_glu_serum             53214 non-null  int64 \n 18  A1Cresult                 53214 non-null  int64 \n 19  metformin                 53214 non-null  int64 \n 20  repaglinide               53214 non-null  int64 \n 21  nateglinide               53214 non-null  int64 \n 22  chlorpropamide            53214 non-null  int64 \n 23  glimepiride               53214 non-null  int64 \n 24  acetohexamide             53214 non-null  int64 \n 25  glipizide                 53214 non-null  int64 \n 26  glyburide                 53214 non-null  int64 \n 27  tolbutamide               53214 non-null  int64 \n 28  pioglitazone              53214 non-null  int64 \n 29  rosiglitazone             53214 non-null  int64 \n 30  acarbose                  53214 non-null  int64 \n 31  miglitol                  53214 non-null  int64 \n 32  troglitazone              53214 non-null  int64 \n 33  tolazamide                53214 non-null  int64 \n 34  insulin                   53214 non-null  int64 \n 35  glyburide-metformin       53214 non-null  int64 \n 36  glipizide-metformin       53214 non-null  int64 \n 37  metformin-rosiglitazone   53214 non-null  int64 \n 38  metformin-pioglitazone    53214 non-null  int64 \n 39  change                    53214 non-null  int64 \n 40  diabetesMed               53214 non-null  int64 \n 41  readmitted                53214 non-null  int64 \n 42  numchange                 53214 non-null  int64 \ndtypes: int64(38), object(5)\nmemory usage: 17.5+ MB\n"
    }
   ],
   "source": [
    "data.info()"
   ]
  },
  {
   "source": [
    "## Encode categorical colums"
   ],
   "cell_type": "markdown",
   "metadata": {
    "colab": {},
    "colab_type": "code",
    "id": "DsDqeIPbHJpI"
   }
  },
  {
   "cell_type": "code",
   "execution_count": 26,
   "metadata": {
    "colab": {},
    "colab_type": "code",
    "id": "6cCf27oSHJpB"
   },
   "outputs": [],
   "source": [
    "cat_cols = list(data.select_dtypes('object').columns)\n",
    "class_dict = {}\n",
    "for col in cat_cols:\n",
    "    data = pd.concat([data.drop(col, axis=1), pd.get_dummies(data[col], prefix=col, drop_first=True)], axis=1)"
   ]
  },
  {
   "cell_type": "code",
   "execution_count": 27,
   "metadata": {
    "tags": []
   },
   "outputs": [
    {
     "output_type": "stream",
     "name": "stdout",
     "text": "<class 'pandas.core.frame.DataFrame'>\nRangeIndex: 53214 entries, 0 to 53213\nData columns (total 85 columns):\n #   Column                                             Non-Null Count  Dtype\n---  ------                                             --------------  -----\n 0   gender                                             53214 non-null  int64\n 1   admission_type_id                                  53214 non-null  int64\n 2   discharge_disposition_id                           53214 non-null  int64\n 3   admission_source_id                                53214 non-null  int64\n 4   time_in_hospital                                   53214 non-null  int64\n 5   num_lab_procedures                                 53214 non-null  int64\n 6   num_procedures                                     53214 non-null  int64\n 7   num_medications                                    53214 non-null  int64\n 8   number_outpatient                                  53214 non-null  int64\n 9   number_emergency                                   53214 non-null  int64\n 10  number_inpatient                                   53214 non-null  int64\n 11  number_diagnoses                                   53214 non-null  int64\n 12  max_glu_serum                                      53214 non-null  int64\n 13  A1Cresult                                          53214 non-null  int64\n 14  metformin                                          53214 non-null  int64\n 15  repaglinide                                        53214 non-null  int64\n 16  nateglinide                                        53214 non-null  int64\n 17  chlorpropamide                                     53214 non-null  int64\n 18  glimepiride                                        53214 non-null  int64\n 19  acetohexamide                                      53214 non-null  int64\n 20  glipizide                                          53214 non-null  int64\n 21  glyburide                                          53214 non-null  int64\n 22  tolbutamide                                        53214 non-null  int64\n 23  pioglitazone                                       53214 non-null  int64\n 24  rosiglitazone                                      53214 non-null  int64\n 25  acarbose                                           53214 non-null  int64\n 26  miglitol                                           53214 non-null  int64\n 27  troglitazone                                       53214 non-null  int64\n 28  tolazamide                                         53214 non-null  int64\n 29  insulin                                            53214 non-null  int64\n 30  glyburide-metformin                                53214 non-null  int64\n 31  glipizide-metformin                                53214 non-null  int64\n 32  metformin-rosiglitazone                            53214 non-null  int64\n 33  metformin-pioglitazone                             53214 non-null  int64\n 34  change                                             53214 non-null  int64\n 35  diabetesMed                                        53214 non-null  int64\n 36  readmitted                                         53214 non-null  int64\n 37  numchange                                          53214 non-null  int64\n 38  race_Asian                                         53214 non-null  uint8\n 39  race_Caucasian                                     53214 non-null  uint8\n 40  race_Hispanic                                      53214 non-null  uint8\n 41  race_Other                                         53214 non-null  uint8\n 42  age_[10-20)                                        53214 non-null  uint8\n 43  age_[20-30)                                        53214 non-null  uint8\n 44  age_[30-40)                                        53214 non-null  uint8\n 45  age_[40-50)                                        53214 non-null  uint8\n 46  age_[50-60)                                        53214 non-null  uint8\n 47  age_[60-70)                                        53214 non-null  uint8\n 48  age_[70-80)                                        53214 non-null  uint8\n 49  age_[80-90)                                        53214 non-null  uint8\n 50  age_[90-100)                                       53214 non-null  uint8\n 51  medical_specialty_Emergency/Trauma                 53214 non-null  uint8\n 52  medical_specialty_Family/GeneralPractice           53214 non-null  uint8\n 53  medical_specialty_Gastroenterology                 53214 non-null  uint8\n 54  medical_specialty_InternalMedicine                 53214 non-null  uint8\n 55  medical_specialty_Nephrology                       53214 non-null  uint8\n 56  medical_specialty_ObstetricsandGynecology          53214 non-null  uint8\n 57  medical_specialty_Orthopedics                      53214 non-null  uint8\n 58  medical_specialty_Orthopedics-Reconstructive       53214 non-null  uint8\n 59  medical_specialty_Other                            53214 non-null  uint8\n 60  medical_specialty_Psychiatry                       53214 non-null  uint8\n 61  medical_specialty_Pulmonology                      53214 non-null  uint8\n 62  medical_specialty_Radiologist                      53214 non-null  uint8\n 63  medical_specialty_Surgery-Cardiovascular/Thoracic  53214 non-null  uint8\n 64  medical_specialty_Surgery-General                  53214 non-null  uint8\n 65  medical_specialty_Surgery-Neuro                    53214 non-null  uint8\n 66  medical_specialty_Surgery-Vascular                 53214 non-null  uint8\n 67  medical_specialty_Unknow                           53214 non-null  uint8\n 68  medical_specialty_Urology                          53214 non-null  uint8\n 69  diag_1_Diabetes                                    53214 non-null  uint8\n 70  diag_1_Digestive                                   53214 non-null  uint8\n 71  diag_1_Genitourinary                               53214 non-null  uint8\n 72  diag_1_Injury                                      53214 non-null  uint8\n 73  diag_1_Muscoloskeletal                             53214 non-null  uint8\n 74  diag_1_Neoplasms                                   53214 non-null  uint8\n 75  diag_1_Others                                      53214 non-null  uint8\n 76  diag_1_Respiratory                                 53214 non-null  uint8\n 77  diag_2_Diabetes                                    53214 non-null  uint8\n 78  diag_2_Digestive                                   53214 non-null  uint8\n 79  diag_2_Genitourinary                               53214 non-null  uint8\n 80  diag_2_Injury                                      53214 non-null  uint8\n 81  diag_2_Muscoloskeletal                             53214 non-null  uint8\n 82  diag_2_Neoplasms                                   53214 non-null  uint8\n 83  diag_2_Others                                      53214 non-null  uint8\n 84  diag_2_Respiratory                                 53214 non-null  uint8\ndtypes: int64(38), uint8(47)\nmemory usage: 17.8 MB\n"
    }
   ],
   "source": [
    "data.info()"
   ]
  },
  {
   "source": [
    "## Input and output data\n",
    "\n",
    "Get the names of input features and output feature"
   ],
   "cell_type": "markdown",
   "metadata": {}
  },
  {
   "cell_type": "code",
   "execution_count": 28,
   "metadata": {},
   "outputs": [],
   "source": [
    "X = data.drop(\"readmitted\", axis=1)\n",
    "y= data[\"readmitted\"]"
   ]
  },
  {
   "cell_type": "code",
   "execution_count": 29,
   "metadata": {},
   "outputs": [
    {
     "output_type": "execute_result",
     "data": {
      "text/plain": "(53214, 84)"
     },
     "metadata": {},
     "execution_count": 29
    }
   ],
   "source": [
    "X.shape"
   ]
  },
  {
   "cell_type": "code",
   "execution_count": 30,
   "metadata": {},
   "outputs": [
    {
     "output_type": "execute_result",
     "data": {
      "text/plain": "(53214,)"
     },
     "metadata": {},
     "execution_count": 30
    }
   ],
   "source": [
    "y.shape"
   ]
  },
  {
   "cell_type": "markdown",
   "metadata": {},
   "source": [
    "## Split dataset 70/30\n",
    "\n",
    "70% to train the model\n",
    "30% to test the model\n",
    "\n",
    "Split data stratify = y because the dataset is imbalanced"
   ]
  },
  {
   "cell_type": "code",
   "execution_count": 31,
   "metadata": {},
   "outputs": [],
   "source": [
    "\n",
    "X_train, X_test, y_train, y_test = train_test_split(X, y, test_size=.3,random_state =123, stratify=y)"
   ]
  },
  {
   "cell_type": "code",
   "execution_count": 32,
   "metadata": {
    "tags": []
   },
   "outputs": [
    {
     "output_type": "stream",
     "name": "stdout",
     "text": "Percentage of positives in test set=4.046351393673661 , train set=4.0457461945287125\n"
    }
   ],
   "source": [
    "perc_test = y_test.value_counts()[1]*100/len(y_test)\n",
    "perc_train = y_train.value_counts()[1]*100/len(y_train)\n",
    "\n",
    "print(f\" Percentage of positives in test set={perc_test} , train set={perc_train}\")"
   ]
  },
  {
   "source": [
    "## Balance train data"
   ],
   "cell_type": "markdown",
   "metadata": {}
  },
  {
   "cell_type": "code",
   "execution_count": 33,
   "metadata": {},
   "outputs": [],
   "source": [
    "#from imblearn.over_sampling import SMOTE\n",
    "#sm = SMOTE(random_state=27, ratio=1.0)\n",
    "#X_train, y_train = sm.fit_sample(X_train, y_train)"
   ]
  },
  {
   "source": [
    "# Simple BaseLine"
   ],
   "cell_type": "markdown",
   "metadata": {}
  },
  {
   "cell_type": "code",
   "execution_count": 34,
   "metadata": {},
   "outputs": [],
   "source": [
    "#import lazypredict\n",
    "#from lazypredict.Supervised import LazyClassifier"
   ]
  },
  {
   "cell_type": "code",
   "execution_count": 35,
   "metadata": {
    "tags": []
   },
   "outputs": [],
   "source": [
    "#clf = LazyClassifier(verbose=0,ignore_warnings=True, custom_metric=None)\n",
    "#models,predictions = clf.fit(X_train, X_test, y_train, y_test)"
   ]
  },
  {
   "cell_type": "code",
   "execution_count": 36,
   "metadata": {},
   "outputs": [],
   "source": [
    "#models"
   ]
  },
  {
   "source": [
    "<table border=\"1\" class=\"dataframe\">\n",
    "  <thead>\n",
    "    <tr style=\"text-align: right;\">\n",
    "      <th></th>\n",
    "      <th>ROC AUC</th>\n",
    "      <th>F1 Score</th>\n",
    "      <th>recall_score</th>\n",
    "      <th>Time Taken</th>\n",
    "    </tr>\n",
    "    <tr>\n",
    "      <th>Model</th>\n",
    "      <th></th>\n",
    "      <th></th>\n",
    "      <th></th>\n",
    "      <th></th>\n",
    "    </tr>\n",
    "  </thead>\n",
    "  <tbody>\n",
    "    <tr>\n",
    "      <th>NearestCentroid</th>\n",
    "      <td>0.63</td>\n",
    "      <td>0.83</td>\n",
    "      <td>0.49</td>\n",
    "      <td>0.11</td>\n",
    "    </tr>\n",
    "    <tr>\n",
    "      <th>DecisionTreeClassifier</th>\n",
    "      <td>0.53</td>\n",
    "      <td>0.92</td>\n",
    "      <td>0.12</td>\n",
    "      <td>0.28</td>\n",
    "    </tr>\n",
    "    <tr>\n",
    "      <th>LinearDiscriminantAnalysis</th>\n",
    "      <td>0.53</td>\n",
    "      <td>0.94</td>\n",
    "      <td>0.07</td>\n",
    "      <td>0.23</td>\n",
    "    </tr>\n",
    "    <tr>\n",
    "      <th>ExtraTreeClassifier</th>\n",
    "      <td>0.52</td>\n",
    "      <td>0.93</td>\n",
    "      <td>0.08</td>\n",
    "      <td>0.09</td>\n",
    "    </tr>\n",
    "    <tr>\n",
    "      <th>LabelPropagation</th>\n",
    "      <td>0.52</td>\n",
    "      <td>0.93</td>\n",
    "      <td>0.07</td>\n",
    "      <td>60.74</td>\n",
    "    </tr>\n",
    "    <tr>\n",
    "      <th>LabelSpreading</th>\n",
    "      <td>0.52</td>\n",
    "      <td>0.93</td>\n",
    "      <td>0.06</td>\n",
    "      <td>75.70</td>\n",
    "    </tr>\n",
    "    <tr>\n",
    "      <th>XGBClassifier</th>\n",
    "      <td>0.51</td>\n",
    "      <td>0.94</td>\n",
    "      <td>0.02</td>\n",
    "      <td>45.12</td>\n",
    "    </tr>\n",
    "    <tr>\n",
    "      <th>Perceptron</th>\n",
    "      <td>0.51</td>\n",
    "      <td>0.93</td>\n",
    "      <td>0.04</td>\n",
    "      <td>0.17</td>\n",
    "    </tr>\n",
    "    <tr>\n",
    "      <th>CalibratedClassifierCV</th>\n",
    "      <td>0.50</td>\n",
    "      <td>0.94</td>\n",
    "      <td>0.01</td>\n",
    "      <td>28.87</td>\n",
    "    </tr>\n",
    "    <tr>\n",
    "      <th>DummyClassifier</th>\n",
    "      <td>0.50</td>\n",
    "      <td>0.92</td>\n",
    "      <td>0.05</td>\n",
    "      <td>0.06</td>\n",
    "    </tr>\n",
    "    <tr>\n",
    "      <th>LogisticRegression</th>\n",
    "      <td>0.50</td>\n",
    "      <td>0.94</td>\n",
    "      <td>0.01</td>\n",
    "      <td>0.25</td>\n",
    "    </tr>\n",
    "    <tr>\n",
    "      <th>BaggingClassifier</th>\n",
    "      <td>0.50</td>\n",
    "      <td>0.94</td>\n",
    "      <td>0.01</td>\n",
    "      <td>1.42</td>\n",
    "    </tr>\n",
    "    <tr>\n",
    "      <th>KNeighborsClassifier</th>\n",
    "      <td>0.50</td>\n",
    "      <td>0.94</td>\n",
    "      <td>0.01</td>\n",
    "      <td>38.69</td>\n",
    "    </tr>\n",
    "    <tr>\n",
    "      <th>PassiveAggressiveClassifier</th>\n",
    "      <td>0.50</td>\n",
    "      <td>0.92</td>\n",
    "      <td>0.04</td>\n",
    "      <td>0.13</td>\n",
    "    </tr>\n",
    "    <tr>\n",
    "      <th>LGBMClassifier</th>\n",
    "      <td>0.50</td>\n",
    "      <td>0.94</td>\n",
    "      <td>0.00</td>\n",
    "      <td>82.92</td>\n",
    "    </tr>\n",
    "    <tr>\n",
    "      <th>LinearSVC</th>\n",
    "      <td>0.50</td>\n",
    "      <td>0.94</td>\n",
    "      <td>0.00</td>\n",
    "      <td>8.18</td>\n",
    "    </tr>\n",
    "    <tr>\n",
    "      <th>RidgeClassifier</th>\n",
    "      <td>0.50</td>\n",
    "      <td>0.94</td>\n",
    "      <td>0.00</td>\n",
    "      <td>0.11</td>\n",
    "    </tr>\n",
    "    <tr>\n",
    "      <th>RidgeClassifierCV</th>\n",
    "      <td>0.50</td>\n",
    "      <td>0.94</td>\n",
    "      <td>0.00</td>\n",
    "      <td>0.19</td>\n",
    "    </tr>\n",
    "    <tr>\n",
    "      <th>AdaBoostClassifier</th>\n",
    "      <td>0.50</td>\n",
    "      <td>0.94</td>\n",
    "      <td>0.00</td>\n",
    "      <td>1.32</td>\n",
    "    </tr>\n",
    "    <tr>\n",
    "      <th>GaussianNB</th>\n",
    "      <td>0.50</td>\n",
    "      <td>0.01</td>\n",
    "      <td>1.00</td>\n",
    "      <td>0.08</td>\n",
    "    </tr>\n",
    "    <tr>\n",
    "      <th>QuadraticDiscriminantAnalysis</th>\n",
    "      <td>0.50</td>\n",
    "      <td>0.01</td>\n",
    "      <td>1.00</td>\n",
    "      <td>0.18</td>\n",
    "    </tr>\n",
    "    <tr>\n",
    "      <th>CheckingClassifier</th>\n",
    "      <td>0.50</td>\n",
    "      <td>0.94</td>\n",
    "      <td>0.00</td>\n",
    "      <td>0.06</td>\n",
    "    </tr>\n",
    "    <tr>\n",
    "      <th>RandomForestClassifier</th>\n",
    "      <td>0.50</td>\n",
    "      <td>0.94</td>\n",
    "      <td>0.00</td>\n",
    "      <td>3.30</td>\n",
    "    </tr>\n",
    "    <tr>\n",
    "      <th>SGDClassifier</th>\n",
    "      <td>0.50</td>\n",
    "      <td>0.94</td>\n",
    "      <td>0.00</td>\n",
    "      <td>0.26</td>\n",
    "    </tr>\n",
    "    <tr>\n",
    "      <th>SVC</th>\n",
    "      <td>0.50</td>\n",
    "      <td>0.94</td>\n",
    "      <td>0.00</td>\n",
    "      <td>145.44</td>\n",
    "    </tr>\n",
    "    <tr>\n",
    "      <th>ExtraTreesClassifier</th>\n",
    "      <td>0.50</td>\n",
    "      <td>0.94</td>\n",
    "      <td>0.00</td>\n",
    "      <td>3.25</td>\n",
    "    </tr>\n",
    "    <tr>\n",
    "      <th>BernoulliNB</th>\n",
    "      <td>0.50</td>\n",
    "      <td>0.94</td>\n",
    "      <td>0.00</td>\n",
    "      <td>0.10</td>\n",
    "    </tr>\n",
    "  </tbody>\n",
    "</table>"
   ],
   "cell_type": "markdown",
   "metadata": {}
  },
  {
   "cell_type": "markdown",
   "metadata": {},
   "source": [
    "# MODELS\n",
    "\n",
    "## Evaluation Metric\n",
    "\n",
    "The selected evaluation metric is the \n",
    "> **Recall**\n",
    "\n",
    "Becasuse the Benefit of a True Negative is much higher than a True Positive.\n",
    "\n",
    "A False Negative might delay more tests or treatment, \n",
    "however a False Positive may just lead to more tests or treatments – not as costly as putting a life at stake.\n"
   ]
  },
  {
   "cell_type": "code",
   "execution_count": 37,
   "metadata": {},
   "outputs": [],
   "source": [
    "# Evaluation\n",
    "from sklearn.metrics import accuracy_score\n",
    "from sklearn.metrics import precision_score\n",
    "from sklearn.metrics import recall_score"
   ]
  },
  {
   "source": [
    "Interpretability is important so first intents will be with classic Machine Learning Models, No ensembles, No Neural Networks"
   ],
   "cell_type": "markdown",
   "metadata": {}
  },
  {
   "cell_type": "code",
   "execution_count": 38,
   "metadata": {},
   "outputs": [],
   "source": [
    "# Selected algorithms\n",
    "from sklearn.linear_model import LogisticRegression\n",
    "from sklearn.discriminant_analysis import QuadraticDiscriminantAnalysis\n",
    "from sklearn.svm import LinearSVC\n",
    "from sklearn.naive_bayes import GaussianNB\n",
    "from sklearn.tree import DecisionTreeClassifier"
   ]
  },
  {
   "source": [
    "## Modeling Functions"
   ],
   "cell_type": "markdown",
   "metadata": {}
  },
  {
   "cell_type": "code",
   "execution_count": 39,
   "metadata": {},
   "outputs": [],
   "source": [
    "# list of feature columns\n",
    "FEATURES = data.drop(\"readmitted\", axis=1).columns"
   ]
  },
  {
   "cell_type": "code",
   "execution_count": 40,
   "metadata": {},
   "outputs": [],
   "source": [
    "result_dict = {}\n",
    "def summarize_classification(y_test, y_pred):\n",
    "    \n",
    "    acc = accuracy_score(y_test, y_pred, normalize=True)\n",
    "    prec = precision_score(y_test, y_pred)\n",
    "    recall = recall_score(y_test, y_pred)\n",
    "    \n",
    "    return {'accuracy': acc, \n",
    "            'precision': prec,\n",
    "            'recall':recall \n",
    "            }"
   ]
  },
  {
   "cell_type": "code",
   "execution_count": 41,
   "metadata": {},
   "outputs": [],
   "source": [
    "def build_model(classifier_fn,                \n",
    "                name_of_y_col, \n",
    "                names_of_x_cols, \n",
    "                dataset, \n",
    "                test_frac=0.2):\n",
    "    \n",
    "    X = dataset[names_of_x_cols]\n",
    "    Y = dataset[name_of_y_col]\n",
    "\n",
    "    #Split data stratify = y because the dataset is imbalanced\n",
    "    x_train, x_test, y_train, y_test = train_test_split(X, Y, test_size=test_frac, stratify = Y)\n",
    "       \n",
    "    model = classifier_fn(x_train, y_train)\n",
    "    \n",
    "    y_pred = model.predict(x_test)\n",
    "\n",
    "    y_pred_train = model.predict(x_train)\n",
    "    \n",
    "    train_summary = summarize_classification(y_train, y_pred_train)\n",
    "    test_summary = summarize_classification(y_test, y_pred)\n",
    "    \n",
    "    pred_results = pd.DataFrame({'y_test': y_test,\n",
    "                                 'y_pred': y_pred})\n",
    "    \n",
    "    model_crosstab = pd.crosstab(pred_results.y_pred, pred_results.y_test)\n",
    "    \n",
    "    return {'training': train_summary, \n",
    "            'test': test_summary,\n",
    "            'confusion_matrix': model_crosstab}"
   ]
  },
  {
   "cell_type": "code",
   "execution_count": 42,
   "metadata": {},
   "outputs": [],
   "source": [
    "def compare_results():\n",
    "    for key in result_dict:\n",
    "        print('Classification: ', key)\n",
    "\n",
    "        print()\n",
    "        print('Training data')\n",
    "        for score in result_dict[key]['training']:\n",
    "            print(score, result_dict[key]['training'][score])\n",
    "\n",
    "        print()\n",
    "        print('Test data')\n",
    "        for score in result_dict[key]['test']:\n",
    "            print(score, result_dict[key]['test'][score])\n",
    "       \n",
    "        print()"
   ]
  },
  {
   "source": [
    "## Training"
   ],
   "cell_type": "markdown",
   "metadata": {}
  },
  {
   "source": [
    "#### Quadratic Discriminant Analysis\n"
   ],
   "cell_type": "markdown",
   "metadata": {}
  },
  {
   "cell_type": "code",
   "execution_count": 43,
   "metadata": {},
   "outputs": [],
   "source": [
    "def quadratic_discriminant_fn(x_train, y_train):\n",
    "    model = QuadraticDiscriminantAnalysis()\n",
    "    model.fit(x_train, y_train)    \n",
    "    return model"
   ]
  },
  {
   "cell_type": "code",
   "execution_count": 44,
   "metadata": {},
   "outputs": [],
   "source": [
    "result_dict['quadratic_discriminant_analysis'] = build_model(quadratic_discriminant_fn, \"readmitted\",FEATURES, data)"
   ]
  },
  {
   "source": [
    "#### SVC Lineal"
   ],
   "cell_type": "markdown",
   "metadata": {}
  },
  {
   "cell_type": "code",
   "execution_count": 45,
   "metadata": {},
   "outputs": [],
   "source": [
    "def linear_svc_fn(x_train, y_train, C=1.0, max_iter=1000, tol=1e-3):\n",
    "    \n",
    "    model = LinearSVC(C=C, max_iter=max_iter, tol=tol, dual=False)\n",
    "    model.fit(x_train, y_train) \n",
    "    \n",
    "    return model"
   ]
  },
  {
   "cell_type": "code",
   "execution_count": 46,
   "metadata": {},
   "outputs": [],
   "source": [
    "result_dict['linear_svc'] = build_model(linear_svc_fn, \"readmitted\",FEATURES, data)"
   ]
  },
  {
   "source": [
    "#### Decision Tree classifier"
   ],
   "cell_type": "markdown",
   "metadata": {}
  },
  {
   "cell_type": "code",
   "execution_count": 47,
   "metadata": {},
   "outputs": [],
   "source": [
    "def decision_tree_fn(x_train, y_train, max_depth=None, max_features=None): \n",
    "    \n",
    "    model = DecisionTreeClassifier(max_depth=max_depth, max_features=max_features)\n",
    "    model.fit(x_train, y_train)\n",
    "    \n",
    "    return model"
   ]
  },
  {
   "cell_type": "code",
   "execution_count": 48,
   "metadata": {},
   "outputs": [],
   "source": [
    "result_dict['decision_tree'] = build_model(decision_tree_fn, \"readmitted\",FEATURES, data)"
   ]
  },
  {
   "source": [
    "#### Naïve Bayes"
   ],
   "cell_type": "markdown",
   "metadata": {}
  },
  {
   "cell_type": "code",
   "execution_count": 49,
   "metadata": {},
   "outputs": [],
   "source": [
    "def naive_bayes_fn(x_train,y_train, priors=None):\n",
    "    \n",
    "    model = GaussianNB(priors=priors)\n",
    "    model.fit(x_train, y_train)\n",
    "    \n",
    "    return model"
   ]
  },
  {
   "cell_type": "code",
   "execution_count": 50,
   "metadata": {},
   "outputs": [],
   "source": [
    "result_dict['naive_bayes'] = build_model(naive_bayes_fn, \"readmitted\",FEATURES, data)"
   ]
  },
  {
   "source": [
    "#### Logistic Regression"
   ],
   "cell_type": "markdown",
   "metadata": {}
  },
  {
   "cell_type": "code",
   "execution_count": 51,
   "metadata": {},
   "outputs": [],
   "source": [
    "def logistic_fn(x_train, y_train):\n",
    "    \n",
    "    model = LogisticRegression(solver='liblinear')\n",
    "    model.fit(x_train, y_train)\n",
    "    \n",
    "    return model"
   ]
  },
  {
   "cell_type": "code",
   "execution_count": 65,
   "metadata": {
    "tags": []
   },
   "outputs": [
    {
     "output_type": "execute_result",
     "data": {
      "text/plain": "                                    quadratic_discriminant_analysis  \\\ntraining          {'accuracy': 0.05076225599586573, 'precision':...   \ntest              {'accuracy': 0.048858404585173355, 'precision'...   \nconfusion_matrix  y_test      0    1\ny_pred            \n0       ...   \n\n                                                         linear_svc  \\\ntraining          {'accuracy': 0.9595969086937117, 'precision': ...   \ntest              {'accuracy': 0.9594099408061637, 'precision': ...   \nconfusion_matrix  y_test      0    1\ny_pred            \n0       ...   \n\n                                                      decision_tree  \\\ntraining          {'accuracy': 1.0, 'precision': 1.0, 'recall': ...   \ntest              {'accuracy': 0.9160950859720004, 'precision': ...   \nconfusion_matrix  y_test     0    1\ny_pred           \n0       97...   \n\n                                                        naive_bayes  \\\ntraining          {'accuracy': 0.1843273590002584, 'precision': ...   \ntest              {'accuracy': 0.1808700554354975, 'precision': ...   \nconfusion_matrix  y_test     0    1\ny_pred           \n0       15...   \n\n                                                           logistic  \ntraining          {'accuracy': 0.9591271053064293, 'precision': ...  \ntest              {'accuracy': 0.9584703561026027, 'precision': ...  \nconfusion_matrix  y_test      0    1\ny_pred            \n0       ...  ",
      "text/html": "<div>\n<style scoped>\n    .dataframe tbody tr th:only-of-type {\n        vertical-align: middle;\n    }\n\n    .dataframe tbody tr th {\n        vertical-align: top;\n    }\n\n    .dataframe thead th {\n        text-align: right;\n    }\n</style>\n<table border=\"1\" class=\"dataframe\">\n  <thead>\n    <tr style=\"text-align: right;\">\n      <th></th>\n      <th>quadratic_discriminant_analysis</th>\n      <th>linear_svc</th>\n      <th>decision_tree</th>\n      <th>naive_bayes</th>\n      <th>logistic</th>\n    </tr>\n  </thead>\n  <tbody>\n    <tr>\n      <th>training</th>\n      <td>{'accuracy': 0.05076225599586573, 'precision':...</td>\n      <td>{'accuracy': 0.9595969086937117, 'precision': ...</td>\n      <td>{'accuracy': 1.0, 'precision': 1.0, 'recall': ...</td>\n      <td>{'accuracy': 0.1843273590002584, 'precision': ...</td>\n      <td>{'accuracy': 0.9591271053064293, 'precision': ...</td>\n    </tr>\n    <tr>\n      <th>test</th>\n      <td>{'accuracy': 0.048858404585173355, 'precision'...</td>\n      <td>{'accuracy': 0.9594099408061637, 'precision': ...</td>\n      <td>{'accuracy': 0.9160950859720004, 'precision': ...</td>\n      <td>{'accuracy': 0.1808700554354975, 'precision': ...</td>\n      <td>{'accuracy': 0.9584703561026027, 'precision': ...</td>\n    </tr>\n    <tr>\n      <th>confusion_matrix</th>\n      <td>y_test      0    1\ny_pred            \n0       ...</td>\n      <td>y_test      0    1\ny_pred            \n0       ...</td>\n      <td>y_test     0    1\ny_pred           \n0       97...</td>\n      <td>y_test     0    1\ny_pred           \n0       15...</td>\n      <td>y_test      0    1\ny_pred            \n0       ...</td>\n    </tr>\n  </tbody>\n</table>\n</div>"
     },
     "metadata": {},
     "execution_count": 65
    }
   ],
   "source": [
    "final_result"
   ]
  },
  {
   "cell_type": "code",
   "execution_count": null,
   "metadata": {},
   "outputs": [],
   "source": [
    "models = []\n",
    "#logistic Regression\n",
    "models.append(('LR', LogisticRegression(solver='liblinear')))\n",
    "\n",
    "models.append(('LDA', LinearDiscriminantAnalysis()))\n",
    "models.append(('KNN', KNeighborsClassifier()))\n",
    "models.append(('CART', DecisionTreeClassifier()))\n",
    "models.append(('NB', GaussianNB()))\n",
    "models.append(('SVM', SVC()))\n",
    "# evaluate each model in turn\n",
    "results = []\n",
    "names = []\n",
    "scoring = 'accuracy'\n",
    "for name, model in models:\n",
    "\tkfold = model_selection.KFold(n_splits=10, random_state=seed)\n",
    "\tcv_results = model_selection.cross_val_score(model, X, Y, cv=kfold, scoring=scoring)\n",
    "\tresults.append(cv_results)\n",
    "\tnames.append(name)\n",
    "\tmsg = \"%s: %f (%f)\" % (name, cv_results.mean(), cv_results.std())\n",
    "\tprint(msg)"
   ]
  },
  {
   "source": [
    "## Results"
   ],
   "cell_type": "markdown",
   "metadata": {}
  },
  {
   "cell_type": "code",
   "execution_count": 53,
   "metadata": {
    "tags": []
   },
   "outputs": [
    {
     "output_type": "stream",
     "name": "stdout",
     "text": "Classification:  quadratic_discriminant_analysis\n\nTraining data\naccuracy 0.05076225599586573\nprecision 0.040827952905431064\nrecall 0.9988385598141696\n\nTest data\naccuracy 0.048858404585173355\nprecision 0.04066350710900474\nrecall 0.9953596287703016\n\nClassification:  linear_svc\n\nTraining data\naccuracy 0.9595969086937117\nprecision 0.6\nrecall 0.003484320557491289\n\nTest data\naccuracy 0.9594099408061637\nprecision 0.3333333333333333\nrecall 0.002320185614849188\n\nClassification:  decision_tree\n\nTraining data\naccuracy 1.0\nprecision 1.0\nrecall 1.0\n\nTest data\naccuracy 0.9160950859720004\nprecision 0.08\nrecall 0.10208816705336426\n\nClassification:  naive_bayes\n\nTraining data\naccuracy 0.1843273590002584\nprecision 0.04467439293598234\nrecall 0.9401858304297329\n\nTest data\naccuracy 0.1808700554354975\nprecision 0.044018928139099814\nrecall 0.9280742459396751\n\nClassification:  logistic\n\nTraining data\naccuracy 0.9591271053064293\nprecision 0.3269230769230769\nrecall 0.009872241579558653\n\nTest data\naccuracy 0.9584703561026027\nprecision 0.2962962962962963\nrecall 0.018561484918793503\n\n"
    }
   ],
   "source": [
    "compare_results()"
   ]
  },
  {
   "cell_type": "markdown",
   "metadata": {},
   "source": [
    "# Hyper Parameter optimization"
   ]
  },
  {
   "cell_type": "code",
   "execution_count": null,
   "metadata": {},
   "outputs": [],
   "source": []
  },
  {
   "cell_type": "markdown",
   "metadata": {},
   "source": [
    "# Final evaluation Test set"
   ]
  },
  {
   "cell_type": "code",
   "execution_count": null,
   "metadata": {},
   "outputs": [],
   "source": []
  },
  {
   "cell_type": "markdown",
   "metadata": {},
   "source": [
    "# Save Model"
   ]
  },
  {
   "cell_type": "code",
   "execution_count": null,
   "metadata": {},
   "outputs": [],
   "source": [
    "from joblib import dump # libreria de serializacion\n",
    "\n",
    "# garbar el modelo en un archivo\n",
    "#dump(Modelo_final, 'Nombre_Archivo_Modelo.joblib')"
   ]
  },
  {
   "cell_type": "code",
   "execution_count": null,
   "metadata": {},
   "outputs": [],
   "source": []
  },
  {
   "cell_type": "markdown",
   "metadata": {},
   "source": [
    "# Comunicacion de Resultados (Data Story Telling)"
   ]
  },
  {
   "cell_type": "code",
   "execution_count": null,
   "metadata": {},
   "outputs": [],
   "source": []
  },
  {
   "cell_type": "markdown",
   "metadata": {},
   "source": [
    "# Conclusiones"
   ]
  },
  {
   "cell_type": "code",
   "execution_count": null,
   "metadata": {},
   "outputs": [],
   "source": []
  },
  {
   "cell_type": "markdown",
   "metadata": {},
   "source": [
    "# Ayudas Y Referencias\n",
    "\n",
    "- Correction to: Hospital Readmission of Patients with Diabetes - https://link.springer.com/article/10.1007/s11892-018-0989-1\n",
    "\n",
    "- Center for disease control and prevention, Diabetes atlas- https://gis.cdc.gov/grasp/diabetes/DiabetesAtlas.html\n",
    "\n",
    "- https://medium.com/@joserzapata/paso-a-paso-en-un-proyecto-machine-learning-bcdd0939d387\n",
    "- [a-complete-machine-learning-walk-through-in-python-part-one](https://towardsdatascience.com/a-complete-machine-learning-walk-through-in-python-part-one-c62152f39420)\n",
    "\n",
    "- https://www.kaggle.com/vignesh1609/readmission-classification-model\n",
    "\n",
    "- https://www.kaggle.com/kavyarall/predicting-effective-treatments/"
   ]
  },
  {
   "cell_type": "markdown",
   "metadata": {},
   "source": [
    "[Jose R. Zapata](https://joserzapata.github.io)\n",
    "- https://joserzapata.github.io\n",
    "- https://twitter.com/joserzapata\n",
    "- https://www.linkedin.com/in/jose-ricardo-zapata-gonzalez/   "
   ]
  }
 ],
 "metadata": {
  "colab": {
   "collapsed_sections": [
    "mXQHmtMbHJoh",
    "3aVUkwJVHJom",
    "9SfZHh6oHJor",
    "1S_iRK8rHJo0",
    "Ey5Lk8evHJo3",
    "0Y0UV-GVHJo6",
    "he4lxsEUHJpM",
    "h0FKIrJHHJpO",
    "jYPdefrhHJpS",
    "zUundEM6HJpT",
    "2GNrgJzHHJpW",
    "uRwep7LjHJpZ",
    "JCcM4XFbHJpd"
   ],
   "name": "Trabajo_Preparacion_Datos_JoseR_Zapata.ipynb",
   "provenance": []
  },
  "kernelspec": {
   "display_name": "Python 3",
   "language": "python",
   "name": "python3"
  },
  "language_info": {
   "codemirror_mode": {
    "name": "ipython",
    "version": 3
   },
   "file_extension": ".py",
   "mimetype": "text/x-python",
   "name": "python",
   "nbconvert_exporter": "python",
   "pygments_lexer": "ipython3",
   "version": "3.8.3-final"
  },
  "nbTranslate": {
   "displayLangs": [
    "es",
    "en"
   ],
   "hotkey": "alt-t",
   "langInMainMenu": true,
   "sourceLang": "en",
   "targetLang": "es",
   "useGoogleTranslate": true
  },
  "toc": {
   "base_numbering": 1,
   "nav_menu": {},
   "number_sections": true,
   "sideBar": true,
   "skip_h1_title": false,
   "title_cell": "Contenido",
   "title_sidebar": "Contenido",
   "toc_cell": true,
   "toc_position": {},
   "toc_section_display": true,
   "toc_window_display": false
  },
  "varInspector": {
   "cols": {
    "lenName": 16,
    "lenType": 16,
    "lenVar": 40
   },
   "kernels_config": {
    "python": {
     "delete_cmd_postfix": "",
     "delete_cmd_prefix": "del ",
     "library": "var_list.py",
     "varRefreshCmd": "print(var_dic_list())"
    },
    "r": {
     "delete_cmd_postfix": ") ",
     "delete_cmd_prefix": "rm(",
     "library": "var_list.r",
     "varRefreshCmd": "cat(var_dic_list()) "
    }
   },
   "types_to_exclude": [
    "module",
    "function",
    "builtin_function_or_method",
    "instance",
    "_Feature"
   ],
   "window_display": false
  }
 },
 "nbformat": 4,
 "nbformat_minor": 4
}